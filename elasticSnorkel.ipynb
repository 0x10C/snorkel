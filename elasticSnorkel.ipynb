{
 "cells": [
  {
   "cell_type": "markdown",
   "metadata": {},
   "source": [
    "## Intializing Elasitcsearch\n",
    "\n",
    "We begin by intializing Elasticsearch with the names of our index and type. You should have Elasticsearch installed and already ran the \"bin/elasticsearch\" command. For more information you can visit: https://www.elastic.co/guide/en/elasticsearch/guide/current/running-elasticsearch.html.\n",
    "\n",
    "Elasticsearch uses slightly difference terminology from tradational databases. \n",
    "\n",
    "This is the following mapping:\n",
    "Database = Index\n",
    "Table = Type\n",
    "Row = Document\n",
    "\n",
    "Here we intialize an object where corpus will be the name of the index with a single type articles."
   ]
  },
  {
   "cell_type": "code",
   "execution_count": 1,
   "metadata": {},
   "outputs": [],
   "source": [
    "from snorkel import SnorkelSession\n",
    "from snorkel.models import Document, Sentence\n",
    "from elastics import elasticSession ,printResults,deleteIndex\n",
    "\n",
    "session = SnorkelSession()\n",
    "eSearch=elasticSession(\"corpus\",\"articles\")"
   ]
  },
  {
   "cell_type": "markdown",
   "metadata": {},
   "source": [
    "### Check Connection\n",
    "\n",
    "Before we begin indexing, we can check our connection with Elasticsearch as well as our existing indices. "
   ]
  },
  {
   "cell_type": "code",
   "execution_count": 2,
   "metadata": {},
   "outputs": [
    {
     "name": "stdout",
     "output_type": "stream",
     "text": [
      "Index Information: \n",
      " \n",
      "health status index uuid pri rep docs.count docs.deleted store.size pri.store.size\n",
      "\n"
     ]
    }
   ],
   "source": [
    "eSearch.getIndices()\n",
    "\n",
    "#To delete an index by name or _all to delete all indices\n",
    "#deleteIndex(indexName)"
   ]
  },
  {
   "cell_type": "markdown",
   "metadata": {},
   "source": [
    "## Indexing the Corpus\n",
    "\n",
    "Now that we have an established connection we can begin indexing. Here we establish what fields each document in our type will contain, a line number, the sentence and the ner_tags converted to a string. Once everything has been indexed we can see its status with the amount of documents it contains as well as the size."
   ]
  },
  {
   "cell_type": "code",
   "execution_count": 3,
   "metadata": {},
   "outputs": [
    {
     "name": "stdout",
     "output_type": "stream",
     "text": [
      "Beginning Indexing\n",
      "Documents added 67820\n",
      "Index Information: \n",
      " \n",
      "health status index  uuid                   pri rep docs.count docs.deleted store.size pri.store.size\n",
      "yellow open   corpus VlTi5iDNQXi2cLp9sYAldQ   5   1      67820            0     45.6mb         45.6mb\n",
      "\n"
     ]
    }
   ],
   "source": [
    "count = 0\n",
    "print \"Beginning Indexing\"\n",
    "for p in session.query(Document):\n",
    "\tfor i in p.sentences:\n",
    "\t\tcount+=1\n",
    "\t\tbody ={\n",
    "\t\t\t'lineNum': count,\n",
    "\t\t    'sentence': i.text,\n",
    "\t\t    'candidates':' '.join((e).decode('utf-8') for e in i.ner_tags),\n",
    "\t\t}\n",
    "\t\teSearch.elasticIndex(count,body)\n",
    "print \"Documents added %d\" %(count)\n",
    "eSearch.getIndices()"
   ]
  },
  {
   "cell_type": "markdown",
   "metadata": {},
   "source": [
    "### Visualize Index\n",
    "\n",
    "To better visualize our data we get a mapping of index. We can see here that the each document in articles has 3 different fields: lineNum,candidates and sentence."
   ]
  },
  {
   "cell_type": "code",
   "execution_count": 4,
   "metadata": {},
   "outputs": [
    {
     "name": "stdout",
     "output_type": "stream",
     "text": [
      "Index Mapping\n",
      "{\n",
      "  \"corpus\": {\n",
      "    \"mappings\": {\n",
      "      \"articles\": {\n",
      "        \"properties\": {\n",
      "          \"lineNum\": {\n",
      "            \"type\": \"long\"\n",
      "          }, \n",
      "          \"candidates\": {\n",
      "            \"fields\": {\n",
      "              \"keyword\": {\n",
      "                \"ignore_above\": 256, \n",
      "                \"type\": \"keyword\"\n",
      "              }\n",
      "            }, \n",
      "            \"type\": \"text\"\n",
      "          }, \n",
      "          \"sentence\": {\n",
      "            \"fields\": {\n",
      "              \"keyword\": {\n",
      "                \"ignore_above\": 256, \n",
      "                \"type\": \"keyword\"\n",
      "              }\n",
      "            }, \n",
      "            \"type\": \"text\"\n",
      "          }\n",
      "        }\n",
      "      }\n",
      "    }\n",
      "  }\n",
      "}\n"
     ]
    }
   ],
   "source": [
    "eSearch.getIndexMap()"
   ]
  },
  {
   "cell_type": "markdown",
   "metadata": {},
   "source": [
    "### Visualizing a Document\n",
    "\n",
    "We can get any document by it's line number. Here get the first sentence in our corpus and print the values stored in each field"
   ]
  },
  {
   "cell_type": "code",
   "execution_count": 5,
   "metadata": {},
   "outputs": [
    {
     "name": "stdout",
     "output_type": "stream",
     "text": [
      "Candidates\n",
      "O O O O O O O O O O O O O O O O O PERSON O PERSON PERSON O O O O O O O O O O O O ORG O O\n",
      "Sentence\n",
      "NEW YORK -- Theatergoers who check out \"Beautiful\" on tour won't get to see Tony winner Jessie Mueller but they may get the next best thing -- someone with her DNA.   \n",
      "Sentence number\n",
      "1\n"
     ]
    }
   ],
   "source": [
    "result = eSearch.getDoc(1)\n",
    "print \"Candidates\"\n",
    "print result['_source']['candidates']\n",
    "print \"Sentence\"\n",
    "print result['_source']['sentence']\n",
    "print \"Sentence number\"\n",
    "print result['_source']['lineNum']\n"
   ]
  },
  {
   "cell_type": "markdown",
   "metadata": {},
   "source": [
    "# # Querying the Corpus\n",
    "\n",
    "Once we have all our documents indexed we can perform a simple query. In this example, we are querying our sentence field for the words married OR children. Matches that contain both and their entirety will be scored higher.  After performing the query we print the results which are sorted in a decsending order."
   ]
  },
  {
   "cell_type": "code",
   "execution_count": 6,
   "metadata": {},
   "outputs": [
    {
     "name": "stdout",
     "output_type": "stream",
     "text": [
      "Number of hits \n",
      "2477\n",
      "Result 1\n",
      "-------------------\n",
      "sentence\n",
      "He is married with        three children.     \n",
      "Result 2\n",
      "-------------------\n",
      "sentence\n",
      "Family: Married to Columba Bush (1974), with three adult children.\n",
      "Result 3\n",
      "-------------------\n",
      "sentence\n",
      "Family: Married to Janet Huckabee (1974), with three adult children.\n",
      "Result 4\n",
      "-------------------\n",
      "sentence\n",
      "Family: Married to Stephanie Chafee (1990) with three children.\n",
      "Result 5\n",
      "-------------------\n",
      "sentence\n",
      "Family: Married to Mary Pat Foster (1986) with four children.   \n",
      "Result 6\n",
      "-------------------\n",
      "sentence\n",
      "Family: Married to Janet Huckabee (1974), with three adult children.\n",
      "Result 7\n",
      "-------------------\n",
      "sentence\n",
      "Family: Married to Janet Huckabee (1974), with three adult children.\n",
      "Result 8\n",
      "-------------------\n",
      "sentence\n",
      "Family: Married to Libby Rowland (1973), with four adult children.   \n",
      "Result 9\n",
      "-------------------\n",
      "sentence\n",
      "Family: Married to Janet Huckabee (1974), with three adult children.\n",
      "Result 10\n",
      "-------------------\n",
      "sentence\n",
      "Family: Married to Stephanie Chafee (1990) with three children.\n"
     ]
    }
   ],
   "source": [
    "query=\"married children\"\n",
    "field = \"sentence\"\n",
    "searchResult = eSearch.searchIndex(field,query)\n",
    "printResults(searchResult,field)"
   ]
  },
  {
   "cell_type": "markdown",
   "metadata": {},
   "source": [
    "### Search between Candidates\n",
    "\n",
    "We can also search in between two candidates which were defined as PERSON in the spousal tutorial. Specifically, we are querying for PERSON married PERSON in that order. We specify which field the tags are stored in (candidates), what the tag is (PERSON), the field that contains the sentence (sentence), the value that we want to search for (married), and the distance. Distance is defined as the amount of positions the words are allowed to be away from each other and still consistute a hit. A distance of one would require all three words to be side by side. \n",
    "\n",
    "There is a slight discrepency here in the hits here because of the difference in the way Spacy and Elasticsearch tokenized. Ideally we would search the two pre-tokenized graphs an issue I posted here:\n",
    "https://stackoverflow.com/questions/45537916/elasticsearch-proximity-search-using-2-pre-tokenized-arrays"
   ]
  },
  {
   "cell_type": "code",
   "execution_count": 7,
   "metadata": {},
   "outputs": [
    {
     "name": "stdout",
     "output_type": "stream",
     "text": [
      "Number of hits \n",
      "275\n",
      "Result 1\n",
      "-------------------\n",
      "sentence\n",
      "Lady Bird Johnson was born as Claudia Alta Taylor and married Lyndon B. Johnson in 1934.\n",
      "Result 2\n",
      "-------------------\n",
      "sentence\n",
      "Alex Gerrard - who's married to footballer Steven Gerrard, 35 - returned from her new US residence to her home town to indulge in a beauty treatment on Thursday.\n",
      "\n",
      "Result 3\n",
      "-------------------\n",
      "sentence\n",
      "Just over a year later, Kim Davis and the biological father of her twins, Thomas Dale McIntyre Jr., married in a ceremony on November 11, 2007, at Skye Bridge in Wolfe County.    \n",
      "Result 4\n",
      "-------------------\n",
      "sentence\n",
      "Williams married Van Veen on Saturday afternoon in a private ceremony at a ranch out West, her rep confirmed to the Los Angeles Times.   \n",
      "Result 5\n",
      "-------------------\n",
      "sentence\n",
      "Williams married Van Veen on Saturday afternoon in a private ceremony at a ranch out West, her rep confirmed to the Los Angeles Times.\n",
      "Result 6\n",
      "-------------------\n",
      "sentence\n",
      "Parenthood star Erika Christensen has married cyclist Cole Maness.   \n",
      "Result 7\n",
      "-------------------\n",
      "sentence\n",
      "Kim Davis then married Joe Davis, a delivery driver, on August 24, 1996, in Morehead by Baptist church minister H.G. Pratt.   \n",
      "Result 8\n",
      "-------------------\n",
      "sentence\n",
      "Surprise Rebecca Hall married actor Morgan Spector in Saugerties New York on Saturday Sept 26 Us Weeklycan confirm  PHOTOS Costar couples   \n",
      "Result 9\n",
      "-------------------\n",
      "sentence\n",
      "Girls star Allison Williams married technology entrepreneur Ricky Van Veen in Wyoming on Saturday.   \n",
      "Result 10\n",
      "-------------------\n",
      "sentence\n",
      "The credits from Monday, Sept. 28's episode of The Big Bang Theory still showed Kaley Cuoco's married name, Kaley SweetingThis article originally appeared on Usmagazine.com: Big Bang Theory Credits\n"
     ]
    }
   ],
   "source": [
    "distance = 100\n",
    "value = \"married\"\n",
    "candField = \"candidates\"\n",
    "candTag = \"person\"\n",
    "sentField=\"sentence\"\n",
    "result = eSearch.searchBetweenCandidates(candField,candTag,sentField,value,distance)\n",
    "printResults(result,sentField)\n"
   ]
  },
  {
   "cell_type": "markdown",
   "metadata": {},
   "source": [
    "### Search in between \n",
    "\n",
    "Lastly, we can search any singular field for three values where value1 must come before value2 and value2 before value3. Again the distance is the amount of space that is allowable in between the values. "
   ]
  },
  {
   "cell_type": "code",
   "execution_count": 8,
   "metadata": {},
   "outputs": [
    {
     "name": "stdout",
     "output_type": "stream",
     "text": [
      "Number of hits \n",
      "1\n",
      "Result 1\n",
      "-------------------\n",
      "sentence\n",
      "Inheritors can only claim once, so it's essential they seek expert legal advice to ensure they get it right first time.   '\n"
     ]
    }
   ],
   "source": [
    "value1=\"essential\"\n",
    "value2=\"legal\"\n",
    "value3=\"time\"\n",
    "field = \"sentence\"\n",
    "result = eSearch.searchOrder(field,distance,value1,value2,value3)\n",
    "printResults(result,field)"
   ]
  }
 ],
 "metadata": {
  "kernelspec": {
   "display_name": "Python 2",
   "language": "python",
   "name": "python2"
  },
  "language_info": {
   "codemirror_mode": {
    "name": "ipython",
    "version": 2
   },
   "file_extension": ".py",
   "mimetype": "text/x-python",
   "name": "python",
   "nbconvert_exporter": "python",
   "pygments_lexer": "ipython2",
   "version": "2.7.13"
  }
 },
 "nbformat": 4,
 "nbformat_minor": 2
}
