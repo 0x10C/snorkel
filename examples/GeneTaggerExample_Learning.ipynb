{
 "cells": [
  {
   "cell_type": "markdown",
   "metadata": {},
   "source": [
    "# Tagging genes with ddlite: candidate extraction\n",
    "\n",
    "## Introduction\n",
    "In this example **Snorkel** application, we'll build a toy gene tagger from scratch. Domain-specific tagging systems traditionally take months or years to develop. They use hand-crafted model circuitry and accurate, hand-labeled training data. We'll start to build a pretty good one in a few minutes with none of those things. The generalized extraction and learning utilities provided by **Snorkel** will allow us to turn a sampling of article abstracts and some basic domain knowledge into an automated tagging system. Specifically, we want an accurate tagger for genes in academic articles. We have comprehensive dictionaries of genes, but applying a simple matching rule might yield a lot of false positives. For example, \"p53\" might get tagged as a gene if it refers to a page number. Our goal is to use the [data programming](https://arxiv.org/abs/1605.07723) approach to improve precision.\n",
    "\n",
    "Here's the pipeline we'll follow:\n",
    "\n",
    "1. Obtain and parse input data (relevant article abstracts from PubMed)\n",
    "2. Extract candidates for tagging\n",
    "3. Generate features\n",
    "4. Create a test set\n",
    "5. Write labeling functions\n",
    "6. Learn the tagging model\n",
    "7. Iterate on labeling functions\n",
    "\n",
    "Parts 3 through 7 are covered in this notebook. It requires candidates extracted from `GeneTaggerExample_Extraction.ipynb`, which covers parts 1 and 2.\n",
    "\n",
    "_Note: We run automated tests on this tutorial to make sure that it is always up to date!  However, certain interactive components cannot currently be tested automatically, and will be skipped with if-then statements using the variable below:_"
   ]
  },
  {
   "cell_type": "code",
   "execution_count": 1,
   "metadata": {
    "collapsed": true
   },
   "outputs": [],
   "source": [
    "import os\n",
    "AUTOMATED_TESTING = os.environ.get('TESTING') is not None"
   ]
  },
  {
   "cell_type": "code",
   "execution_count": 2,
   "metadata": {
    "collapsed": false
   },
   "outputs": [
    {
     "name": "stdout",
     "output_type": "stream",
     "text": [
      "The autoreload extension is already loaded. To reload it, use:\n",
      "  %reload_ext autoreload\n"
     ]
    }
   ],
   "source": [
    "%load_ext autoreload\n",
    "%autoreload 2\n",
    "import numpy as np\n",
    "import cPickle, os, sys\n",
    "sys.path.insert(1, os.path.join(sys.path[0], '..'))\n",
    "np.random.seed(seed=1701)\n",
    "import matplotlib\n",
    "%matplotlib inline\n",
    "matplotlib.rcParams['figure.figsize'] = (18,6)"
   ]
  },
  {
   "cell_type": "markdown",
   "metadata": {},
   "source": [
    "## Loading candidate extractions\n",
    "First, we'll load in the pickled candidates that we created in the last notebook:"
   ]
  },
  {
   "cell_type": "code",
   "execution_count": 3,
   "metadata": {
    "collapsed": true
   },
   "outputs": [],
   "source": [
    "with open('gene_tag_example/gene_tag_saved_candidates.pkl', 'r+') as f:\n",
    "    candidates = cPickle.load(f)"
   ]
  },
  {
   "cell_type": "markdown",
   "metadata": {},
   "source": [
    "# Labeling a test set"
   ]
  },
  {
   "cell_type": "markdown",
   "metadata": {},
   "source": [
    "Next, we'd like to ideally have a _small_ amount of hand-annotated data--i.e. candidates labeled `True` of `False`--both to evaluate our end performance, and to help us develop our application.  In the former case, **we should obtain a _blind_ test set, i.e. one that we (the developer of the application) do not label or see**, for proper unbiased assesment of our system's performance.  We'll load a pre-labeled set of such \"gold\" test labels now, and split the corresponding candidates off into a test set:"
   ]
  },
  {
   "cell_type": "code",
   "execution_count": 4,
   "metadata": {
    "collapsed": false
   },
   "outputs": [
    {
     "name": "stdout",
     "output_type": "stream",
     "text": [
      "Training set size: 1477\n",
      "Gold set size: 97\n"
     ]
    }
   ],
   "source": [
    "# The gold labels are stored a dict mapping candidate-id -> label in {-1,1}\n",
    "with open('gene_tag_example/gt/gold_labels.pkl', 'rb') as f:\n",
    "    gold_label_map = cPickle.load(f)\n",
    "    \n",
    "# Split into train and test set\n",
    "training_candidates = []\n",
    "gold_candidates     = []\n",
    "gold_labels         = []\n",
    "for c in candidates:\n",
    "    if c.id in gold_label_map:\n",
    "        gold_candidates.append(c)\n",
    "        gold_labels.append(gold_label_map[c.id])\n",
    "    else:\n",
    "        training_candidates.append(c)\n",
    "gold_labels = np.array(gold_labels)\n",
    "print \"Training set size: %s\" % len(training_candidates)\n",
    "print \"Gold set size: %s\" % len(gold_candidates)"
   ]
  },
  {
   "cell_type": "markdown",
   "metadata": {},
   "source": [
    "## Labeling more examples with `Viewer`\n",
    "\n",
    "If we wanted to label more examples- perhaps, for example, to use as reference during development- we could use the `Viewer`:"
   ]
  },
  {
   "cell_type": "code",
   "execution_count": 5,
   "metadata": {
    "collapsed": false
   },
   "outputs": [
    {
     "data": {
      "application/javascript": [
       "require.undef('viewer');\n",
       "\n",
       "// NOTE: all elements should be selected using this.$el.find to avoid collisions with other Viewers\n",
       "\n",
       "define('viewer', [\"jupyter-js-widgets\"], function(widgets) {\n",
       "    var ViewerView = widgets.DOMWidgetView.extend({\n",
       "        render: function() {\n",
       "            this.cids   = this.model.get('cids');\n",
       "            this.nPages = this.cids.length;\n",
       "            this.pid = 0;\n",
       "            this.cid = 0;\n",
       "            this.labels = {};\n",
       "\n",
       "            // Insert the html payload\n",
       "            this.$el.append(this.model.get('html'));\n",
       "\n",
       "            // Enable button functionality for navigation\n",
       "            var that = this;\n",
       "            this.$el.find(\"#next-cand\").click(function() {\n",
       "                that.switchCandidate(1);\n",
       "            });\n",
       "            this.$el.find(\"#prev-cand\").click(function() {\n",
       "                that.switchCandidate(-1);\n",
       "            });\n",
       "            this.$el.find(\"#next-page\").click(function() {\n",
       "                that.switchPage(1);\n",
       "            });\n",
       "            this.$el.find(\"#prev-page\").click(function() {\n",
       "                that.switchPage(-1);\n",
       "            });\n",
       "            this.$el.find(\"#label-true\").click(function() {\n",
       "                that.labelCandidate(true);\n",
       "            });\n",
       "            this.$el.find(\"#label-false\").click(function() {\n",
       "                that.labelCandidate(false);\n",
       "            });\n",
       "\n",
       "            // Arrow key functionality\n",
       "            this.$el.keydown(function(e) {\n",
       "                switch(e.which) {\n",
       "                    case 74: // j\n",
       "                    that.switchCandidate(-1);\n",
       "                    break;\n",
       "\n",
       "                    case 73: // i\n",
       "                    that.switchPage(-1);\n",
       "                    break;\n",
       "\n",
       "                    case 76: // l\n",
       "                    that.switchCandidate(1);\n",
       "                    break;\n",
       "\n",
       "                    case 75: // k\n",
       "                    that.switchPage(1);\n",
       "                    break;\n",
       "\n",
       "                    case 84: // t\n",
       "                    that.labelCandidate(true);\n",
       "                    break;\n",
       "\n",
       "                    case 70: // f\n",
       "                    that.labelCandidate(false);\n",
       "                    break;\n",
       "                }\n",
       "            });\n",
       "\n",
       "            // Show the first page and highlight the first candidate\n",
       "            this.$el.find(\"#viewer-page-0\").show();\n",
       "            this.switchCandidate(0);\n",
       "        },\n",
       "\n",
       "        // Get candidate selector for currently selected candidate, escaping id properly\n",
       "        getCandidate: function() {\n",
       "            return this.$el.find(\".\"+this.cids[this.pid][this.cid].replace(/:/g, \"\\\\:\"));\n",
       "        },  \n",
       "\n",
       "        // Cycle through candidates and highlight, by increment inc\n",
       "        switchCandidate: function(inc) {\n",
       "            var N = this.cids[this.pid].length\n",
       "            if (N == 0) { return false; }\n",
       "\n",
       "            // Clear highlighting from previous candidate\n",
       "            if (inc != 0) {\n",
       "                var cPrev = this.getCandidate();\n",
       "                this.setRGBABackgroundOpacity(cPrev, 0.3);\n",
       "                cPrev.removeClass(\"highlighted-candidate\");\n",
       "\n",
       "                // Increment the cid counter\n",
       "                if (this.cid + inc >= N) {\n",
       "                    this.cid = N - 1;\n",
       "                } else if (this.cid + inc < 0) {\n",
       "                    this.cid = 0;\n",
       "                } else {\n",
       "                    this.cid += inc;\n",
       "                }\n",
       "            }\n",
       "\n",
       "            // Highlight new candidate\n",
       "            var cNext = this.getCandidate();\n",
       "            this.setRGBABackgroundOpacity(cNext, 1.0);\n",
       "            cNext.addClass(\"highlighted-candidate\");\n",
       "\n",
       "            // Push this new cid to the model\n",
       "            this.model.set('selected_cid', this.cids[this.pid][this.cid]);\n",
       "            this.touch();\n",
       "        },\n",
       "\n",
       "        // Switch through pages\n",
       "        switchPage: function(inc) {\n",
       "            this.$el.find(\".viewer-page\").hide();\n",
       "            if (this.pid + inc < 0) {\n",
       "                this.pid = 0;\n",
       "            } else if (this.pid + inc > this.nPages - 1) {\n",
       "                this.pid = this.nPages - 1;\n",
       "            } else {\n",
       "                this.pid += inc;\n",
       "            }\n",
       "            this.$el.find(\"#viewer-page-\"+this.pid).show();\n",
       "\n",
       "            // Show pagination\n",
       "            this.$el.find(\"#page\").html(this.pid);\n",
       "\n",
       "            // Reset cid and set to first candidate\n",
       "            this.cid = 0;\n",
       "            this.switchCandidate(0);\n",
       "        },\n",
       "\n",
       "        // Label currently-selected candidate\n",
       "        labelCandidate: function(label) {\n",
       "            var c   = this.getCandidate();\n",
       "            var cid = this.cids[this.pid][this.cid];\n",
       "            var cl  = String(label) + \"-candidate\";\n",
       "            var cln = String(!label) + \"-candidate\";\n",
       "\n",
       "            // Flush css background-color property, so class css not overidden\n",
       "            c.css(\"background-color\", \"\");\n",
       "\n",
       "            // Toggle label highlighting\n",
       "            if (c.hasClass(cl)) {\n",
       "                c.removeClass(cl);\n",
       "                this.setRGBABackgroundOpacity(c, 1.0);\n",
       "                this.labels[cid] = null;\n",
       "            } else {\n",
       "                c.removeClass(cln);\n",
       "                c.addClass(cl);\n",
       "                this.labels[cid] = label;\n",
       "            }\n",
       "\n",
       "            // Set the label and pass back to the model\n",
       "            this.model.set('_labels_serialized', this.serializeDict(this.labels));\n",
       "            this.touch();\n",
       "        },\n",
       "\n",
       "        // Serialization of hash maps, because traitlets Dict doesn't seem to work...\n",
       "        serializeDict: function(d) {\n",
       "            var s = [];\n",
       "            for (var key in d) {\n",
       "                s.push(key+\"~~\"+d[key]);\n",
       "            }\n",
       "            return s.join();\n",
       "        },\n",
       "\n",
       "        // Highlight spans\n",
       "        setRGBABackgroundOpacity: function(el, opacity) {\n",
       "            var rgx = /rgba\\((\\d+),\\s*(\\d+),\\s*(\\d+),\\s*(\\d\\.\\d+)\\)/;\n",
       "            var m   = rgx.exec(el.css(\"background-color\"));\n",
       "\n",
       "            // Handle rgb\n",
       "            if (m == null) {\n",
       "                rgx = /rgb\\((\\d+),\\s*(\\d+),\\s*(\\d+)\\)/;\n",
       "                m   = rgx.exec(el.css(\"background-color\"));\n",
       "            }\n",
       "            if (m != null) {\n",
       "                el.css(\"background-color\", \"rgba(\"+m[1]+\",\"+m[2]+\",\"+m[3]+\",\"+opacity+\")\");\n",
       "\n",
       "            // TODO: Clean up this hack!!\n",
       "            } else {\n",
       "                el.css(\"background-color\", \"rgba(255,255,0,1)\");\n",
       "            }\n",
       "        },\n",
       "    });\n",
       "\n",
       "    return {\n",
       "        ViewerView: ViewerView\n",
       "    };\n",
       "});\n"
      ],
      "text/plain": [
       "<IPython.core.display.Javascript object>"
      ]
     },
     "metadata": {},
     "output_type": "display_data"
    }
   ],
   "source": [
    "from snorkel.viewer import SentenceNgramViewer\n",
    "sentences = candidates.get_contexts()\n",
    "\n",
    "# NOTE: This if-then statement is only to avoid opening the viewer during automated testing of this notebook\n",
    "# You should ignore this!\n",
    "if not AUTOMATED_TESTING:\n",
    "    sv = SentenceNgramViewer(sentences, candidates)\n",
    "else:\n",
    "    sv = None"
   ]
  },
  {
   "cell_type": "code",
   "execution_count": 6,
   "metadata": {
    "collapsed": true
   },
   "outputs": [],
   "source": [
    "sv"
   ]
  },
  {
   "cell_type": "markdown",
   "metadata": {},
   "source": [
    "Note that we can **navigate using the provided buttons**, or **using the keyboard (hover over buttons to see controls)**, highlight candidates (even if they overlap), and also **apply binary labels** (more on where to use this later!).  In particular, note that **the Viewer is synced dynamically with the notebook**, so that we can for example get the `id` of the candidate that is currently selected, this candidate object itself, as well as any labels we've applied.  Try it out!\n",
    "\n",
    "Then, we can get the labels we created in the same format as we loaded before:"
   ]
  },
  {
   "cell_type": "code",
   "execution_count": 7,
   "metadata": {
    "collapsed": false
   },
   "outputs": [
    {
     "name": "stdout",
     "output_type": "stream",
     "text": [
      "{u'17217236-8:911-916': 1}\n"
     ]
    }
   ],
   "source": [
    "if not AUTOMATED_TESTING:\n",
    "    print sv.get_labels()"
   ]
  },
  {
   "cell_type": "markdown",
   "metadata": {},
   "source": [
    "## Writing labeling functions\n",
    "We'll use data programming to learn a logistic regression model which will predict the probability of a candidate entity being a true gene mention. Since our training data is not manually labeled, we'll generate many (potentially noisy) labels as a surrogate for precise, manual labels. Feature extraction and model learning are very simple in ddlite. Writing labeling functions is where the real artistry comes in. One of ddlite's goals is to enable rapid prototyping, debugging, and experimenting with labeling functions. These can be used either to create a simple standalone app, or to plug into DeepDive. Labeling functions, or LFs, are functions that take an `Candidate` object. They must return 1 (for a positive label), 0 (for abstaining), or -1 (for a negative example). For now, we'll write a few simple LFs to get started:\n",
    "\n",
    "* The first, second, and third LFs return a positive label if the lemma \"gene\", \"mutant\", or \"express\" appear in a window around the mention, respectively\n",
    "* The third LF returns a positive label if the dependency parent of any of the words in the mention is \"mutation\", and abstains otherwise\n",
    "* The fourth, fifth, and sixth LF return a negative label if the mention candidate contains \"DNA\", \"RNA\", or \"SNP\" respectively (these are common uppercase nouns which are not genes) "
   ]
  },
  {
   "cell_type": "code",
   "execution_count": 8,
   "metadata": {
    "collapsed": false
   },
   "outputs": [],
   "source": [
    "def LF_gene(m):\n",
    "    return 1 if ('gene' in m.right_window('lemmas')) or ('gene' in m.left_window('lemmas')) else 0\n",
    "\n",
    "def LF_gene_dp(m):\n",
    "    return 1 if 'gene' in [m.sentence['lemmas'][m.sentence['dep_parents'][i] - 1] for i in m.idxs] else 0\n",
    "\n",
    "def LF_genotype_dp(m):\n",
    "    return 1 if 'genotype' in [m.sentence['lemmas'][m.sentence['dep_parents'][i] - 1] for i in m.idxs] else 0\n",
    "\n",
    "def LF_mutant(m):\n",
    "    return 1 if ('mutant' in m.right_window('lemmas')) or ('mutant' in m.left_window('lemmas')) else 0\n",
    "\n",
    "def LF_variant(m):\n",
    "    return 1 if ('variant' in m.right_window('lemmas')) or ('variant' in m.left_window('lemmas')) else 0\n",
    "\n",
    "def LF_express(m):\n",
    "    return 1 if ('express' in m.right_window('lemmas')) or ('express' in m.left_window('lemmas')) else 0\n",
    "\n",
    "def LF_mutation(m):\n",
    "    return 1 if 'mutation' in [m.sentence['lemmas'][m.sentence['dep_parents'][i] - 1] for i in m.idxs] else 0\n",
    "\n",
    "def LF_JJ(m):\n",
    "    return 1 if 'JJ' in m.right_window('poses') else 0\n",
    "\n",
    "def LF_IN(m):\n",
    "    return 1 if 'IN' in m.left_window('poses', n=1) else 0\n",
    "\n",
    "def LF_dna(m):\n",
    "    return -1 if 'DNA' in m.get_attrib_tokens('words') else 0\n",
    "\n",
    "def LF_rna(m):\n",
    "    return -1 if 'RNA' in m.get_attrib_tokens('words') else 0\n",
    "\n",
    "def LF_snp(m):\n",
    "    return -1 if 'SNP' in m.get_attrib_tokens('words') else 0\n",
    "\n",
    "def LF_protein(m):\n",
    "    return -1 if 'protein' in m.left_window('lemmas') else 0\n",
    "\n",
    "def LF_LRB(m):\n",
    "    return -1 if '-LRB-' in m.right_window('poses', 1) else 0\n",
    "\n",
    "def LF_RRB(m):\n",
    "    return -1 if '-RRB-' in m.right_window('poses', 1) else 0\n",
    "\n",
    "def LF_dev_dp(m):\n",
    "    return -1 if 'development' in [m.sentence['lemmas'][m.sentence['dep_parents'][i] - 1] for i in m.idxs] else 0\n",
    "\n",
    "def LF_protein_dp(m):\n",
    "    return -1 if 'protein' in [m.sentence['lemmas'][m.sentence['dep_parents'][i] - 1] for i in m.idxs] else 0\n",
    "\n",
    "def LF_network_dp(m):\n",
    "    return -1 if 'network' in [m.sentence['lemmas'][m.sentence['dep_parents'][i] - 1] for i in m.idxs] else 0\n",
    "\n",
    "def LF_JJ_dp(m):\n",
    "    return -1 if 'JJ' in [m.sentence['poses'][m.sentence['dep_parents'][i] - 1] for i in m.idxs] else 0\n",
    "\n",
    "def LF_NNP(m):\n",
    "    return -1 if 'NNP' in m.get_attrib_tokens('poses') else 0"
   ]
  },
  {
   "cell_type": "markdown",
   "metadata": {},
   "source": [
    "Our intuition is that the few simple LFs given above won't yield a good model. We'll see this more concretely when we evaluate the labeling functions. For now, let's leave them as is. After writing the LFs, we simply collect them and apply them to mentions. If we define more LFs later, we can apply them incrementally or overwrite all the LFs so far."
   ]
  },
  {
   "cell_type": "code",
   "execution_count": 9,
   "metadata": {
    "collapsed": false
   },
   "outputs": [],
   "source": [
    "LFs = [LF_JJ, LF_JJ_dp, LF_NNP, LF_RRB, LF_dev_dp, LF_dna, LF_express, LF_gene, LF_gene_dp,\n",
    "       LF_genotype_dp, LF_mutant, LF_mutation, LF_network_dp, LF_protein, LF_protein_dp,\n",
    "       LF_rna, LF_snp, LF_variant, LF_IN, LF_LRB]"
   ]
  },
  {
   "cell_type": "markdown",
   "metadata": {},
   "source": [
    "## Creating a `TrainingSet`\n",
    "\n",
    "We next create a `TrainingSet` object, which applies our labeling functions to our training set candidates, to create a \"noisy training set\".  This object also _featurizes_ our training set, and stores the fit featurizer:"
   ]
  },
  {
   "cell_type": "code",
   "execution_count": 11,
   "metadata": {
    "collapsed": false
   },
   "outputs": [
    {
     "name": "stdout",
     "output_type": "stream",
     "text": [
      "Applying LFs...\n",
      "Featurizing...\n",
      "============================================================\n",
      "LF Summary Statistics: 20 LFs applied to 1477 candidates\n",
      "------------------------------------------------------------\n",
      "Coverage (candidates w/ > 0 labels):\t\t73.80%\n",
      "Overlap (candidates w/ > 1 labels):\t\t35.14%\n",
      "Conflict (candidates w/ conflicting labels):\t18.96%\n",
      "============================================================\n"
     ]
    }
   ],
   "source": [
    "from snorkel.snorkel import TrainingSet\n",
    "from snorkel.features import NgramFeaturizer\n",
    "\n",
    "training_set = TrainingSet(training_candidates, LFs, featurizer=NgramFeaturizer())"
   ]
  },
  {
   "cell_type": "markdown",
   "metadata": {},
   "source": [
    "## Analyzing the set of LFs\n",
    "\n",
    "One way to analyze the labeling functions is to look individually at how much each one covers and overlaps and conflicts with other LFs; we can get this information as a `pandas.DataFrame` object for convenient analysis:"
   ]
  },
  {
   "cell_type": "code",
   "execution_count": 12,
   "metadata": {
    "collapsed": false
   },
   "outputs": [
    {
     "data": {
      "text/html": [
       "<div>\n",
       "<table border=\"1\" class=\"dataframe\">\n",
       "  <thead>\n",
       "    <tr style=\"text-align: right;\">\n",
       "      <th></th>\n",
       "      <th>conflicts</th>\n",
       "      <th>coverage</th>\n",
       "      <th>j</th>\n",
       "      <th>overlaps</th>\n",
       "    </tr>\n",
       "  </thead>\n",
       "  <tbody>\n",
       "    <tr>\n",
       "      <th>LF_JJ</th>\n",
       "      <td>0.114421</td>\n",
       "      <td>0.306703</td>\n",
       "      <td>0</td>\n",
       "      <td>0.200406</td>\n",
       "    </tr>\n",
       "    <tr>\n",
       "      <th>LF_JJ_dp</th>\n",
       "      <td>0.021666</td>\n",
       "      <td>0.029113</td>\n",
       "      <td>1</td>\n",
       "      <td>0.024374</td>\n",
       "    </tr>\n",
       "    <tr>\n",
       "      <th>LF_NNP</th>\n",
       "      <td>0.064320</td>\n",
       "      <td>0.094110</td>\n",
       "      <td>2</td>\n",
       "      <td>0.071090</td>\n",
       "    </tr>\n",
       "    <tr>\n",
       "      <th>LF_RRB</th>\n",
       "      <td>0.054164</td>\n",
       "      <td>0.132701</td>\n",
       "      <td>3</td>\n",
       "      <td>0.067028</td>\n",
       "    </tr>\n",
       "    <tr>\n",
       "      <th>LF_dev_dp</th>\n",
       "      <td>0.000677</td>\n",
       "      <td>0.000677</td>\n",
       "      <td>4</td>\n",
       "      <td>0.000677</td>\n",
       "    </tr>\n",
       "  </tbody>\n",
       "</table>\n",
       "</div>"
      ],
      "text/plain": [
       "           conflicts  coverage  j  overlaps\n",
       "LF_JJ       0.114421  0.306703  0  0.200406\n",
       "LF_JJ_dp    0.021666  0.029113  1  0.024374\n",
       "LF_NNP      0.064320  0.094110  2  0.071090\n",
       "LF_RRB      0.054164  0.132701  3  0.067028\n",
       "LF_dev_dp   0.000677  0.000677  4  0.000677"
      ]
     },
     "execution_count": 12,
     "metadata": {},
     "output_type": "execute_result"
    }
   ],
   "source": [
    "lf_stats = training_set.lf_stats()\n",
    "lf_stats[:5]"
   ]
  },
  {
   "cell_type": "markdown",
   "metadata": {},
   "source": [
    "We can now use all of the `DataFrame` helper methods to analyze our set of LFs e.g.:"
   ]
  },
  {
   "cell_type": "code",
   "execution_count": 13,
   "metadata": {
    "collapsed": false
   },
   "outputs": [
    {
     "data": {
      "text/plain": [
       "array([[<matplotlib.axes._subplots.AxesSubplot object at 0x117125a10>]], dtype=object)"
      ]
     },
     "execution_count": 13,
     "metadata": {},
     "output_type": "execute_result"
    },
    {
     "data": {
      "image/png": "[encoded data removed]",
      "text/plain": [
       "<matplotlib.figure.Figure at 0x1146f94d0>"
      ]
     },
     "metadata": {},
     "output_type": "display_data"
    }
   ],
   "source": [
    "lf_stats.hist(\"coverage\")"
   ]
  },
  {
   "cell_type": "markdown",
   "metadata": {},
   "source": [
    "## Using the `Learner`\n",
    "\n",
    "We next create a `Learner` object, which takes our `TrainingSet` and a `NoiseAwareModel` class.  Roughly, the learner learns a generative model of the labels over the training set we have provided, and uses this to train a _noise-aware_ discriminative model which we provide."
   ]
  },
  {
   "cell_type": "code",
   "execution_count": 14,
   "metadata": {
    "collapsed": true
   },
   "outputs": [],
   "source": [
    "from snorkel.snorkel import Learner\n",
    "from snorkel.learning import LogReg\n",
    "\n",
    "learner = Learner(training_set, model=LogReg(bias_term=True))"
   ]
  },
  {
   "cell_type": "markdown",
   "metadata": {},
   "source": [
    "We can then also do basic hyperparameter tuning using `GridSearch`, while training our model; here, we can split up our _gold_ set into a **cross-validation set** (used for this purpose) as well as a final _test_ set.  Note that for `GridSearch`, we provide a _list_ of hyperparameter names, and a _list of lists_ of values to try for each; we can also pass on other hyperparameters to keep fixed at specific values as keyword arguments after:"
   ]
  },
  {
   "cell_type": "code",
   "execution_count": 15,
   "metadata": {
    "collapsed": false
   },
   "outputs": [],
   "source": [
    "# Splitting into CV and test set\n",
    "test_candidates = gold_candidates[:60]\n",
    "test_labels     = gold_labels[:60]\n",
    "cv_candidates   = gold_candidates[60:]\n",
    "cv_labels       = gold_labels[60:]"
   ]
  },
  {
   "cell_type": "code",
   "execution_count": 16,
   "metadata": {
    "collapsed": false
   },
   "outputs": [
    {
     "name": "stdout",
     "output_type": "stream",
     "text": [
      "============================================================\n",
      "Testing mu = 1.00e-05, lf_w0 = 1.00e+00\n",
      "============================================================\n",
      "Begin training for rate=0.01, mu=1e-05\n",
      "\tLearning epoch = 0\tGradient mag. = 0.019762\n",
      "\tLearning epoch = 250\tGradient mag. = 0.023827\n",
      "\tLearning epoch = 500\tGradient mag. = 0.027524\n",
      "\tLearning epoch = 750\tGradient mag. = 0.032010\n",
      "Final gradient magnitude for rate=0.01, mu=1e-05: 0.037\n",
      "Applying LFs...\n",
      "Featurizing...\n",
      "============================================================\n",
      "Testing mu = 1.00e-05, lf_w0 = 2.00e+00\n",
      "============================================================\n",
      "Begin training for rate=0.01, mu=1e-05\n",
      "\tLearning epoch = 0\tGradient mag. = 0.029858\n",
      "\tLearning epoch = 250\tGradient mag. = 0.034244\n",
      "\tLearning epoch = 500\tGradient mag. = 0.037549\n",
      "\tLearning epoch = 750\tGradient mag. = 0.041404\n",
      "Final gradient magnitude for rate=0.01, mu=1e-05: 0.046\n",
      "============================================================\n",
      "Testing mu = 1.00e-07, lf_w0 = 1.00e+00\n",
      "============================================================\n",
      "Begin training for rate=0.01, mu=1e-07\n",
      "\tLearning epoch = 0\tGradient mag. = 0.019762\n",
      "\tLearning epoch = 250\tGradient mag. = 0.023840\n",
      "\tLearning epoch = 500\tGradient mag. = 0.027552\n",
      "\tLearning epoch = 750\tGradient mag. = 0.032058\n",
      "Final gradient magnitude for rate=0.01, mu=1e-07: 0.037\n",
      "============================================================\n",
      "Testing mu = 1.00e-07, lf_w0 = 2.00e+00\n",
      "============================================================\n",
      "Begin training for rate=0.01, mu=1e-07\n",
      "\tLearning epoch = 0\tGradient mag. = 0.029858\n",
      "\tLearning epoch = 250\tGradient mag. = 0.034252\n",
      "\tLearning epoch = 500\tGradient mag. = 0.037569\n",
      "\tLearning epoch = 750\tGradient mag. = 0.041437\n",
      "Final gradient magnitude for rate=0.01, mu=1e-07: 0.046\n"
     ]
    }
   ],
   "source": [
    "from snorkel.learning_utils import GridSearch\n",
    "\n",
    "gs       = GridSearch(learner, ['mu', 'lf_w0'], [[1e-5, 1e-7],[1.0,2.0]])\n",
    "gs_stats = gs.fit(cv_candidates, cv_labels)"
   ]
  },
  {
   "cell_type": "markdown",
   "metadata": {},
   "source": [
    "We can access the results of the grid search, as a `DataFrame` object once again:"
   ]
  },
  {
   "cell_type": "code",
   "execution_count": 17,
   "metadata": {
    "collapsed": false
   },
   "outputs": [
    {
     "data": {
      "text/html": [
       "<div>\n",
       "<table border=\"1\" class=\"dataframe\">\n",
       "  <thead>\n",
       "    <tr style=\"text-align: right;\">\n",
       "      <th></th>\n",
       "      <th>mu</th>\n",
       "      <th>lf_w0</th>\n",
       "      <th>Prec.</th>\n",
       "      <th>Rec.</th>\n",
       "      <th>F1</th>\n",
       "    </tr>\n",
       "  </thead>\n",
       "  <tbody>\n",
       "    <tr>\n",
       "      <th>0</th>\n",
       "      <td>1.000000e-05</td>\n",
       "      <td>1.0</td>\n",
       "      <td>0.62069</td>\n",
       "      <td>1.0</td>\n",
       "      <td>0.765957</td>\n",
       "    </tr>\n",
       "    <tr>\n",
       "      <th>1</th>\n",
       "      <td>1.000000e-05</td>\n",
       "      <td>2.0</td>\n",
       "      <td>0.62069</td>\n",
       "      <td>1.0</td>\n",
       "      <td>0.765957</td>\n",
       "    </tr>\n",
       "    <tr>\n",
       "      <th>2</th>\n",
       "      <td>1.000000e-07</td>\n",
       "      <td>1.0</td>\n",
       "      <td>0.62069</td>\n",
       "      <td>1.0</td>\n",
       "      <td>0.765957</td>\n",
       "    </tr>\n",
       "    <tr>\n",
       "      <th>3</th>\n",
       "      <td>1.000000e-07</td>\n",
       "      <td>2.0</td>\n",
       "      <td>0.62069</td>\n",
       "      <td>1.0</td>\n",
       "      <td>0.765957</td>\n",
       "    </tr>\n",
       "  </tbody>\n",
       "</table>\n",
       "</div>"
      ],
      "text/plain": [
       "             mu  lf_w0    Prec.  Rec.        F1\n",
       "0  1.000000e-05    1.0  0.62069   1.0  0.765957\n",
       "1  1.000000e-05    2.0  0.62069   1.0  0.765957\n",
       "2  1.000000e-07    1.0  0.62069   1.0  0.765957\n",
       "3  1.000000e-07    2.0  0.62069   1.0  0.765957"
      ]
     },
     "execution_count": 17,
     "metadata": {},
     "output_type": "execute_result"
    }
   ],
   "source": [
    "gs_stats"
   ]
  },
  {
   "cell_type": "markdown",
   "metadata": {},
   "source": [
    "Finally, we can evaluate on the test set (`GridSearch` will automatically leave in the optimal weights learned):"
   ]
  },
  {
   "cell_type": "code",
   "execution_count": 18,
   "metadata": {
    "collapsed": false
   },
   "outputs": [
    {
     "name": "stdout",
     "output_type": "stream",
     "text": [
      "Applying LFs...\n",
      "Featurizing...\n"
     ]
    },
    {
     "name": "stderr",
     "output_type": "stream",
     "text": [
      "/System/Library/Frameworks/Python.framework/Versions/2.7/Extras/lib/python/numpy/core/_methods.py:55: RuntimeWarning: Mean of empty slice.\n",
      "  warnings.warn(\"Mean of empty slice.\", RuntimeWarning)\n"
     ]
    },
    {
     "data": {
      "image/png": "[encoded data removed]",
      "text/plain": [
       "<matplotlib.figure.Figure at 0x10ef62350>"
      ]
     },
     "metadata": {},
     "output_type": "display_data"
    },
    {
     "name": "stdout",
     "output_type": "stream",
     "text": [
      "========================================\n",
      "Test set size:\t60\n",
      "----------------------------------------\n",
      "Precision:\t0.615384615385\n",
      "Recall:\t\t1.0\n",
      "F1 Score:\t0.761904761905\n",
      "----------------------------------------\n",
      "TP: 32 | FP: 20 | TN: 8 | FN: 0\n",
      "========================================\n"
     ]
    }
   ],
   "source": [
    "learner.test(test_candidates, test_labels)"
   ]
  },
  {
   "cell_type": "markdown",
   "metadata": {},
   "source": [
    "There are also various helper functions that we can access post-learning; see documentation / docstrings in code, but for example, to see top features learned (again, returned as a `DataFrame`):"
   ]
  },
  {
   "cell_type": "code",
   "execution_count": 19,
   "metadata": {
    "collapsed": false
   },
   "outputs": [
    {
     "data": {
      "text/html": [
       "<div>\n",
       "<table border=\"1\" class=\"dataframe\">\n",
       "  <thead>\n",
       "    <tr style=\"text-align: right;\">\n",
       "      <th></th>\n",
       "      <th>j</th>\n",
       "      <th>w</th>\n",
       "    </tr>\n",
       "  </thead>\n",
       "  <tbody>\n",
       "    <tr>\n",
       "      <th>DDLIB_LENGTH_1</th>\n",
       "      <td>22130</td>\n",
       "      <td>0.103152</td>\n",
       "    </tr>\n",
       "    <tr>\n",
       "      <th>DDLIB_POS_SEQ_[NN]</th>\n",
       "      <td>2069</td>\n",
       "      <td>0.102643</td>\n",
       "    </tr>\n",
       "    <tr>\n",
       "      <th>DDLIB_STARTS_WITH_CAPTIAL</th>\n",
       "      <td>30726</td>\n",
       "      <td>0.091983</td>\n",
       "    </tr>\n",
       "    <tr>\n",
       "      <th>TDL_DEP_LABEL:MENTION[compound]</th>\n",
       "      <td>2766</td>\n",
       "      <td>0.070471</td>\n",
       "    </tr>\n",
       "    <tr>\n",
       "      <th>DDLIB_DEP_SEQ_[compound]</th>\n",
       "      <td>13748</td>\n",
       "      <td>0.070471</td>\n",
       "    </tr>\n",
       "    <tr>\n",
       "      <th>DDLIB_W_LEFT_POS_1_[IN]</th>\n",
       "      <td>10904</td>\n",
       "      <td>0.065524</td>\n",
       "    </tr>\n",
       "    <tr>\n",
       "      <th>DDLIB_W_RIGHT_POS_1_[NN]</th>\n",
       "      <td>26069</td>\n",
       "      <td>0.045705</td>\n",
       "    </tr>\n",
       "    <tr>\n",
       "      <th>DDLIB_DEP_SEQ_[nmod]</th>\n",
       "      <td>27222</td>\n",
       "      <td>0.036538</td>\n",
       "    </tr>\n",
       "    <tr>\n",
       "      <th>TDL_DEP_LABEL:MENTION[nmod]</th>\n",
       "      <td>6502</td>\n",
       "      <td>0.036538</td>\n",
       "    </tr>\n",
       "    <tr>\n",
       "      <th>TDL_LEMMA:PARENTS-OF-MENTION[None]</th>\n",
       "      <td>15155</td>\n",
       "      <td>0.035621</td>\n",
       "    </tr>\n",
       "  </tbody>\n",
       "</table>\n",
       "</div>"
      ],
      "text/plain": [
       "                                        j         w\n",
       "DDLIB_LENGTH_1                      22130  0.103152\n",
       "DDLIB_POS_SEQ_[NN]                   2069  0.102643\n",
       "DDLIB_STARTS_WITH_CAPTIAL           30726  0.091983\n",
       "TDL_DEP_LABEL:MENTION[compound]      2766  0.070471\n",
       "DDLIB_DEP_SEQ_[compound]            13748  0.070471\n",
       "DDLIB_W_LEFT_POS_1_[IN]             10904  0.065524\n",
       "DDLIB_W_RIGHT_POS_1_[NN]            26069  0.045705\n",
       "DDLIB_DEP_SEQ_[nmod]                27222  0.036538\n",
       "TDL_DEP_LABEL:MENTION[nmod]          6502  0.036538\n",
       "TDL_LEMMA:PARENTS-OF-MENTION[None]  15155  0.035621"
      ]
     },
     "execution_count": 19,
     "metadata": {},
     "output_type": "execute_result"
    }
   ],
   "source": [
    "learner.feature_stats(n_max=10)"
   ]
  },
  {
   "cell_type": "markdown",
   "metadata": {},
   "source": [
    "## Using the `LSTM` package\n",
    "\n",
    "Another default `NoiseAwareModel` subclass is an `LSTM`; we can also train this, using the `RepresentationLearner` (which more broadly, is the `Learner` subclass for end models that do not take featurized input, but rather learn the representation of the candidates as well):"
   ]
  },
  {
   "cell_type": "code",
   "execution_count": 20,
   "metadata": {
    "collapsed": false
   },
   "outputs": [
    {
     "name": "stdout",
     "output_type": "stream",
     "text": [
      "Training LF model...\n",
      "Begin training for rate=0.01, mu=1e-06\n",
      "\tLearning epoch = 0\tGradient mag. = 0.100733\n",
      "\tLearning epoch = 250\tGradient mag. = 0.111122\n",
      "\tLearning epoch = 500\tGradient mag. = 0.121252\n",
      "\tLearning epoch = 750\tGradient mag. = 0.135912\n",
      "Final gradient magnitude for rate=0.01, mu=1e-06: 0.154\n",
      "Training model...\n",
      "Epoch #0, Training error: 0.417062\n",
      "Epoch #1, Training error: 0.417062\n",
      "Epoch #2, Training error: 0.417062\n",
      "Epoch #3, Training error: 0.417062\n",
      "Epoch #4, Training error: 0.417062\n",
      "Epoch #5, Training error: 0.417062\n",
      "Epoch #6, Training error: 0.417062\n",
      "Epoch #7, Training error: 0.417062\n",
      "Epoch #8, Training error: 0.417062\n",
      "Epoch #9, Training error: 0.417062\n",
      "Epoch #10, Training error: 0.417062\n",
      "Epoch #11, Training error: 0.417062\n",
      "Epoch #12, Training error: 0.417062\n",
      "Epoch #13, Training error: 0.417062\n",
      "Epoch #14, Training error: 0.417062\n",
      "Epoch #15, Training error: 0.417062\n",
      "Epoch #16, Training error: 0.417062\n",
      "Epoch #17, Training error: 0.417062\n",
      "Epoch #18, Training error: 0.417062\n",
      "Epoch #19, Training error: 0.417062\n",
      "Epoch #20, Training error: 0.417062\n",
      "Epoch #21, Training error: 0.417062\n",
      "Epoch #22, Training error: 0.417062\n",
      "Epoch #23, Training error: 0.417062\n",
      "Epoch #24, Training error: 0.417062\n",
      "Epoch #25, Training error: 0.417062\n",
      "Epoch #26, Training error: 0.417062\n",
      "Epoch #27, Training error: 0.417062\n",
      "Epoch #28, Training error: 0.417062\n",
      "Epoch #29, Training error: 0.417062\n",
      "Epoch #30, Training error: 0.417062\n",
      "Epoch #31, Training error: 0.417062\n",
      "Epoch #32, Training error: 0.417062\n",
      "Epoch #33, Training error: 0.417062\n",
      "Epoch #34, Training error: 0.417062\n",
      "Epoch #35, Training error: 0.417062\n",
      "Epoch #36, Training error: 0.417062\n",
      "Epoch #37, Training error: 0.417062\n",
      "Epoch #38, Training error: 0.417062\n",
      "Epoch #39, Training error: 0.417062\n",
      "Epoch #40, Training error: 0.417062\n",
      "Epoch #41, Training error: 0.417062\n",
      "Epoch #42, Training error: 0.417062\n",
      "Epoch #43, Training error: 0.417062\n",
      "Epoch #44, Training error: 0.417062\n",
      "Epoch #45, Training error: 0.417062\n",
      "Epoch #46, Training error: 0.417062\n",
      "Epoch #47, Training error: 0.417062\n",
      "Epoch #48, Training error: 0.417062\n",
      "Epoch #49, Training error: 0.417062\n",
      "Epoch #50, Training error: 0.417062\n",
      "Epoch #51, Training error: 0.417062\n",
      "Epoch #52, Training error: 0.417062\n",
      "Epoch #53, Training error: 0.417062\n",
      "Epoch #54, Training error: 0.417062\n",
      "Epoch #55, Training error: 0.417062\n",
      "Epoch #56, Training error: 0.417062\n",
      "Epoch #57, Training error: 0.417062\n",
      "Epoch #58, Training error: 0.417062\n",
      "Epoch #59, Training error: 0.417062\n",
      "Epoch #60, Training error: 0.417062\n",
      "Epoch #61, Training error: 0.417062\n",
      "Epoch #62, Training error: 0.417062\n",
      "Epoch #63, Training error: 0.417062\n",
      "Epoch #64, Training error: 0.417062\n",
      "Epoch #65, Training error: 0.417062\n",
      "Epoch #66, Training error: 0.417062\n",
      "Epoch #67, Training error: 0.417062\n",
      "Epoch #68, Training error: 0.417062\n",
      "Epoch #69, Training error: 0.417062\n",
      "Epoch #70, Training error: 0.417062\n",
      "Epoch #71, Training error: 0.417062\n",
      "Epoch #72, Training error: 0.417062\n",
      "Epoch #73, Training error: 0.417062\n",
      "Epoch #74, Training error: 0.417062\n",
      "Epoch #75, Training error: 0.417062\n",
      "Epoch #76, Training error: 0.417062\n",
      "Epoch #77, Training error: 0.417062\n",
      "Epoch #78, Training error: 0.417062\n",
      "Epoch #79, Training error: 0.417062\n",
      "Epoch #80, Training error: 0.417062\n",
      "Epoch #81, Training error: 0.417062\n",
      "Epoch #82, Training error: 0.417062\n",
      "Epoch #83, Training error: 0.417062\n",
      "Epoch #84, Training error: 0.417062\n",
      "Epoch #85, Training error: 0.417062\n",
      "Epoch #86, Training error: 0.417062\n",
      "Epoch #87, Training error: 0.417062\n",
      "Epoch #88, Training error: 0.417062\n",
      "Epoch #89, Training error: 0.417062\n",
      "Epoch #90, Training error: 0.417062\n",
      "Epoch #91, Training error: 0.417062\n",
      "Epoch #92, Training error: 0.417062\n",
      "Epoch #93, Training error: 0.417062\n",
      "Epoch #94, Training error: 0.417062\n",
      "Epoch #95, Training error: 0.417062\n",
      "Epoch #96, Training error: 0.417062\n",
      "Epoch #97, Training error: 0.417062\n",
      "Epoch #98, Training error: 0.417062\n",
      "Epoch #99, Training error: 0.417062\n",
      "Epoch #100, Training error: 0.417062\n",
      "Epoch #101, Training error: 0.417062\n",
      "Epoch #102, Training error: 0.417062\n",
      "Epoch #103, Training error: 0.417062\n",
      "Epoch #104, Training error: 0.417062\n",
      "Epoch #105, Training error: 0.417062\n",
      "Epoch #106, Training error: 0.417062\n",
      "Epoch #107, Training error: 0.417062\n",
      "Epoch #108, Training error: 0.417062\n",
      "Epoch #109, Training error: 0.417062\n",
      "Epoch #110, Training error: 0.417062\n",
      "Epoch #111, Training error: 0.417062\n",
      "Epoch #112, Training error: 0.417062\n",
      "Epoch #113, Training error: 0.417062\n",
      "Epoch #114, Training error: 0.417062\n",
      "Epoch #115, Training error: 0.417062\n",
      "Epoch #116, Training error: 0.417062\n",
      "Epoch #117, Training error: 0.417062\n",
      "Epoch #118, Training error: 0.417062\n",
      "Epoch #119, Training error: 0.417062\n",
      "Epoch #120, Training error: 0.417062\n",
      "Epoch #121, Training error: 0.417062\n",
      "Epoch #122, Training error: 0.417062\n",
      "Epoch #123, Training error: 0.417062\n",
      "Epoch #124, Training error: 0.417062\n",
      "Epoch #125, Training error: 0.417062\n",
      "Epoch #126, Training error: 0.417062\n",
      "Epoch #127, Training error: 0.417062\n",
      "Epoch #128, Training error: 0.417062\n",
      "Epoch #129, Training error: 0.417062\n",
      "Epoch #130, Training error: 0.417062\n",
      "Epoch #131, Training error: 0.417062\n",
      "Epoch #132, Training error: 0.417062\n",
      "Epoch #133, Training error: 0.417062\n",
      "Epoch #134, Training error: 0.417062\n",
      "Epoch #135, Training error: 0.417062\n",
      "Epoch #136, Training error: 0.417062\n",
      "Epoch #137, Training error: 0.417062\n",
      "Epoch #138, Training error: 0.417062\n",
      "Epoch #139, Training error: 0.417062\n",
      "Epoch #140, Training error: 0.417062\n",
      "Epoch #141, Training error: 0.417062\n",
      "Epoch #142, Training error: 0.417062\n",
      "Epoch #143, Training error: 0.417062\n",
      "Epoch #144, Training error: 0.417062\n",
      "Epoch #145, Training error: 0.417062\n",
      "Epoch #146, Training error: 0.417062\n",
      "Epoch #147, Training error: 0.417062\n",
      "Epoch #148, Training error: 0.417062\n",
      "Epoch #149, Training error: 0.417062\n",
      "Epoch #150, Training error: 0.417062\n",
      "Epoch #151, Training error: 0.417062\n",
      "Epoch #152, Training error: 0.417062\n",
      "Epoch #153, Training error: 0.417062\n",
      "Epoch #154, Training error: 0.417062\n",
      "Epoch #155, Training error: 0.417062\n",
      "Epoch #156, Training error: 0.417062\n",
      "Epoch #157, Training error: 0.417062\n",
      "Epoch #158, Training error: 0.417062\n",
      "Epoch #159, Training error: 0.417062\n",
      "Epoch #160, Training error: 0.417062\n",
      "Epoch #161, Training error: 0.417062\n",
      "Epoch #162, Training error: 0.417062\n",
      "Epoch #163, Training error: 0.417062\n",
      "Epoch #164, Training error: 0.417062\n",
      "Epoch #165, Training error: 0.417062\n",
      "Epoch #166, Training error: 0.417062\n",
      "Epoch #167, Training error: 0.417062\n",
      "Epoch #168, Training error: 0.417062\n",
      "Epoch #169, Training error: 0.417062\n",
      "Epoch #170, Training error: 0.417062\n",
      "Epoch #171, Training error: 0.417062\n",
      "Epoch #172, Training error: 0.417062\n",
      "Epoch #173, Training error: 0.417062\n",
      "Epoch #174, Training error: 0.410968\n",
      "Epoch #175, Training error: 0.406229\n",
      "Epoch #176, Training error: 0.406229\n",
      "Epoch #177, Training error: 0.406229\n",
      "Epoch #178, Training error: 0.406229\n",
      "Epoch #179, Training error: 0.406229\n",
      "Epoch #180, Training error: 0.406229\n",
      "Epoch #181, Training error: 0.406229\n",
      "Epoch #182, Training error: 0.406229\n",
      "Epoch #183, Training error: 0.406229\n",
      "Epoch #184, Training error: 0.406229\n",
      "Epoch #185, Training error: 0.406229\n",
      "Epoch #186, Training error: 0.406229\n",
      "Epoch #187, Training error: 0.406229\n",
      "Epoch #188, Training error: 0.406229\n",
      "Epoch #189, Training error: 0.406229\n",
      "Epoch #190, Training error: 0.406906\n",
      "Epoch #191, Training error: 0.406229\n",
      "Epoch #192, Training error: 0.404198\n",
      "Epoch #193, Training error: 0.404198\n",
      "Epoch #194, Training error: 0.404198\n",
      "Epoch #195, Training error: 0.406906\n",
      "Epoch #196, Training error: 0.401490\n",
      "Epoch #197, Training error: 0.392011\n",
      "Epoch #198, Training error: 0.404198\n",
      "Epoch #199, Training error: 0.404198\n",
      "Epoch #200, Training error: 0.404198\n",
      "Epoch #201, Training error: 0.398781\n",
      "Epoch #202, Training error: 0.374408\n",
      "Epoch #203, Training error: 0.398781\n",
      "Epoch #204, Training error: 0.398781\n",
      "Epoch #205, Training error: 0.387271\n",
      "Epoch #206, Training error: 0.385917\n",
      "Epoch #207, Training error: 0.402167\n",
      "Epoch #208, Training error: 0.398781\n",
      "Epoch #209, Training error: 0.398781\n",
      "Epoch #210, Training error: 0.398781\n",
      "Epoch #211, Training error: 0.396073\n",
      "Epoch #212, Training error: 0.396073\n",
      "Epoch #213, Training error: 0.398781\n",
      "Epoch #214, Training error: 0.366283\n",
      "Epoch #215, Training error: 0.329045\n",
      "Epoch #216, Training error: 0.385917\n",
      "Epoch #217, Training error: 0.385917\n",
      "Epoch #218, Training error: 0.380501\n",
      "Epoch #219, Training error: 0.383886\n",
      "Epoch #220, Training error: 0.389303\n",
      "Epoch #221, Training error: 0.300609\n",
      "Epoch #222, Training error: 0.377116\n",
      "Epoch #223, Training error: 0.321598\n",
      "Epoch #224, Training error: 0.294516\n",
      "Epoch #225, Training error: 0.388626\n",
      "Epoch #226, Training error: 0.326337\n",
      "Epoch #227, Training error: 0.328368\n",
      "Epoch #228, Training error: 0.362221\n",
      "Epoch #229, Training error: 0.368991\n",
      "Epoch #230, Training error: 0.304672\n",
      "Epoch #231, Training error: 0.259309\n",
      "Epoch #232, Training error: 0.329045\n",
      "Epoch #233, Training error: 0.314150\n",
      "Epoch #234, Training error: 0.320921\n",
      "Epoch #235, Training error: 0.293839\n",
      "Epoch #236, Training error: 0.301963\n",
      "Epoch #237, Training error: 0.333108\n",
      "Epoch #238, Training error: 0.339878\n",
      "Epoch #239, Training error: 0.301963\n",
      "Epoch #240, Training error: 0.360867\n",
      "Epoch #241, Training error: 0.339878\n",
      "Epoch #242, Training error: 0.339878\n",
      "Epoch #243, Training error: 0.322952\n",
      "Epoch #244, Training error: 0.364929\n",
      "Epoch #245, Training error: 0.291808\n",
      "Epoch #246, Training error: 0.334462\n",
      "Epoch #247, Training error: 0.303318\n",
      "Epoch #248, Training error: 0.271496\n",
      "Epoch #249, Training error: 0.308734\n",
      "Epoch #250, Training error: 0.337847\n",
      "Epoch #251, Training error: 0.308734\n",
      "Epoch #252, Training error: 0.328368\n",
      "Epoch #253, Training error: 0.337170\n",
      "Epoch #254, Training error: 0.251862\n",
      "Epoch #255, Training error: 0.337170\n",
      "Epoch #256, Training error: 0.250508\n",
      "Epoch #257, Training error: 0.335816\n",
      "Epoch #258, Training error: 0.345972\n",
      "Epoch #259, Training error: 0.336493\n",
      "Epoch #260, Training error: 0.302640\n",
      "Epoch #261, Training error: 0.310088\n",
      "Epoch #262, Training error: 0.310765\n",
      "Epoch #263, Training error: 0.305349\n",
      "Epoch #264, Training error: 0.343940\n",
      "Epoch #265, Training error: 0.336493\n",
      "Epoch #266, Training error: 0.339878\n",
      "Epoch #267, Training error: 0.310765\n",
      "Epoch #268, Training error: 0.289100\n",
      "Epoch #269, Training error: 0.341909\n",
      "Epoch #270, Training error: 0.336493\n",
      "Epoch #271, Training error: 0.242383\n",
      "Epoch #272, Training error: 0.336493\n",
      "Epoch #273, Training error: 0.336493\n",
      "Epoch #274, Training error: 0.306026\n",
      "Epoch #275, Training error: 0.348680\n",
      "Epoch #276, Training error: 0.336493\n",
      "Epoch #277, Training error: 0.251862\n",
      "Epoch #278, Training error: 0.253893\n",
      "Epoch #279, Training error: 0.306703\n",
      "Epoch #280, Training error: 0.266080\n",
      "Epoch #281, Training error: 0.339201\n",
      "Epoch #282, Training error: 0.336493\n",
      "Epoch #283, Training error: 0.339201\n",
      "Epoch #284, Training error: 0.265403\n",
      "Epoch #285, Training error: 0.258632\n",
      "Epoch #286, Training error: 0.309411\n",
      "Epoch #287, Training error: 0.336493\n",
      "Epoch #288, Training error: 0.309411\n",
      "Epoch #289, Training error: 0.242383\n",
      "Epoch #290, Training error: 0.326337\n",
      "Epoch #291, Training error: 0.310088\n",
      "Epoch #292, Training error: 0.321598\n",
      "Epoch #293, Training error: 0.345295\n",
      "Epoch #294, Training error: 0.343940\n",
      "Epoch #295, Training error: 0.335816\n",
      "Epoch #296, Training error: 0.337170\n",
      "Epoch #297, Training error: 0.343263\n",
      "Epoch #298, Training error: 0.255924\n",
      "Epoch #299, Training error: 0.270142\n"
     ]
    }
   ],
   "source": [
    "from snorkel.snorkel import RepresentationLearner\n",
    "from snorkel.learning import LSTM\n",
    "\n",
    "learner2 = RepresentationLearner(training_set, model=LSTM())\n",
    "learner2.train()"
   ]
  },
  {
   "cell_type": "code",
   "execution_count": 21,
   "metadata": {
    "collapsed": false
   },
   "outputs": [
    {
     "data": {
      "image/png": "[encoded data removed]",
      "text/plain": [
       "<matplotlib.figure.Figure at 0x11ee80c90>"
      ]
     },
     "metadata": {},
     "output_type": "display_data"
    },
    {
     "name": "stdout",
     "output_type": "stream",
     "text": [
      "========================================\n",
      "Test set size:\t60\n",
      "----------------------------------------\n",
      "Precision:\t0.603773584906\n",
      "Recall:\t\t1.0\n",
      "F1 Score:\t0.752941176471\n",
      "----------------------------------------\n",
      "TP: 32 | FP: 21 | TN: 7 | FN: 0\n",
      "========================================\n"
     ]
    }
   ],
   "source": [
    "learner2.test(test_candidates, test_labels)"
   ]
  }
 ],
 "metadata": {
  "kernelspec": {
   "display_name": "Python 2",
   "language": "python",
   "name": "python2"
  },
  "language_info": {
   "codemirror_mode": {
    "name": "ipython",
    "version": 2
   },
   "file_extension": ".py",
   "mimetype": "text/x-python",
   "name": "python",
   "nbconvert_exporter": "python",
   "pygments_lexer": "ipython2",
   "version": "2.7.10"
  },
  "widgets": {
   "state": {
    "37ea412dd0784e03a551768707be18fe": {
     "views": [
      {
       "cell_index": 10
      }
     ]
    }
   },
   "version": "1.2.0"
  }
 },
 "nbformat": 4,
 "nbformat_minor": 0
}
