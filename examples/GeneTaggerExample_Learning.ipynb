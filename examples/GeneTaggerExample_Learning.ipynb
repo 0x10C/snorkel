{
 "cells": [
  {
   "cell_type": "markdown",
   "metadata": {},
   "source": [
    "# Tagging genes with ddlite: candidate extraction\n",
    "\n",
    "## Introduction\n",
    "In this example **Snorkel** application, we'll build a toy gene tagger from scratch. Domain-specific tagging systems traditionally take months or years to develop. They use hand-crafted model circuitry and accurate, hand-labeled training data. We'll start to build a pretty good one in a few minutes with none of those things. The generalized extraction and learning utilities provided by **Snorkel** will allow us to turn a sampling of article abstracts and some basic domain knowledge into an automated tagging system. Specifically, we want an accurate tagger for genes in academic articles. We have comprehensive dictionaries of genes, but applying a simple matching rule might yield a lot of false positives. For example, \"p53\" might get tagged as a gene if it refers to a page number. Our goal is to use the [data programming](https://arxiv.org/abs/1605.07723) approach to improve precision.\n",
    "\n",
    "Here's the pipeline we'll follow:\n",
    "\n",
    "1. Obtain and parse input data (relevant article abstracts from PubMed)\n",
    "2. Extract candidates for tagging\n",
    "3. Generate features\n",
    "4. Create a test set\n",
    "5. Write labeling functions\n",
    "6. Learn the tagging model\n",
    "7. Iterate on labeling functions\n",
    "\n",
    "Parts 3 through 7 are covered in this notebook. It requires candidates extracted from `GeneTaggerExample_Extraction.ipynb`, which covers parts 1 and 2.\n",
    "\n",
    "_Note: We run automated tests on this tutorial to make sure that it is always up to date!  However, certain interactive components cannot currently be tested automatically, and will be skipped with if-then statements using the variable below:_"
   ]
  },
  {
   "cell_type": "code",
   "execution_count": 1,
   "metadata": {
    "collapsed": true
   },
   "outputs": [],
   "source": [
    "import os\n",
    "AUTOMATED_TESTING = os.environ.get('TESTING') is not None"
   ]
  },
  {
   "cell_type": "code",
   "execution_count": 2,
   "metadata": {
    "collapsed": false
   },
   "outputs": [
    {
     "name": "stdout",
     "output_type": "stream",
     "text": [
      "The autoreload extension is already loaded. To reload it, use:\n",
      "  %reload_ext autoreload\n"
     ]
    }
   ],
   "source": [
    "%load_ext autoreload\n",
    "%autoreload 2\n",
    "\n",
    "import cPickle, os, sys\n",
    "sys.path.insert(1, os.path.join(sys.path[0], '..'))\n",
    "np.random.seed(seed=1701)\n",
    "\n",
    "%matplotlib inline\n",
    "matplotlib.rcParams['figure.figsize'] = (18,6)"
   ]
  },
  {
   "cell_type": "markdown",
   "metadata": {},
   "source": [
    "## Loading candidate extractions\n",
    "First, we'll load in the pickled candidates that we created in the last notebook:"
   ]
  },
  {
   "cell_type": "code",
   "execution_count": 3,
   "metadata": {
    "collapsed": true
   },
   "outputs": [],
   "source": [
    "with open('gene_tag_example/gene_tag_saved_candidates.pkl', 'r+') as f:\n",
    "    candidates = cPickle.load(f)"
   ]
  },
  {
   "cell_type": "markdown",
   "metadata": {},
   "source": [
    "# Labeling a test set"
   ]
  },
  {
   "cell_type": "markdown",
   "metadata": {},
   "source": [
    "Next, we'd like to ideally have a _small_ amount of hand-annotated data--i.e. candidates labeled `True` of `False`--both to evaluate our end performance, and to help us develop our application.  In the former case, **we should obtain a _blind_ test set, i.e. one that we (the developer of the application) do not label or see**, for proper unbiased assesment of our system's performance.  We'll load a pre-labeled set of such \"gold\" test labels now, and split the corresponding candidates off into a test set:"
   ]
  },
  {
   "cell_type": "code",
   "execution_count": 4,
   "metadata": {
    "collapsed": false
   },
   "outputs": [
    {
     "name": "stdout",
     "output_type": "stream",
     "text": [
      "Training set size: 1477\n",
      "Gold set size: 97\n"
     ]
    }
   ],
   "source": [
    "# The gold labels are stored a dict mapping candidate-id -> label in {-1,1}\n",
    "with open('gene_tag_example/gt/gold_labels.pkl', 'rb') as f:\n",
    "    gold_label_map = cPickle.load(f)\n",
    "    \n",
    "# Split into train and test set\n",
    "training_candidates = []\n",
    "gold_candidates     = []\n",
    "gold_labels         = []\n",
    "for c in candidates:\n",
    "    if c.id in gold_label_map:\n",
    "        gold_candidates.append(c)\n",
    "        gold_labels.append(gold_label_map[c.id])\n",
    "    else:\n",
    "        training_candidates.append(c)\n",
    "gold_labels = np.array(gold_labels)\n",
    "print \"Training set size: %s\" % len(training_candidates)\n",
    "print \"Gold set size: %s\" % len(gold_candidates)"
   ]
  },
  {
   "cell_type": "markdown",
   "metadata": {},
   "source": [
    "## Labeling more examples with `Viewer`\n",
    "\n",
    "If we wanted to label more examples- perhaps, for example, to use as reference during development- we could use the `Viewer`:"
   ]
  },
  {
   "cell_type": "code",
   "execution_count": 5,
   "metadata": {
    "collapsed": false
   },
   "outputs": [
    {
     "data": {
      "application/javascript": [
       "require.undef('viewer');\n",
       "\n",
       "// NOTE: all elements should be selected using this.$el.find to avoid collisions with other Viewers\n",
       "\n",
       "define('viewer', [\"jupyter-js-widgets\"], function(widgets) {\n",
       "    var ViewerView = widgets.DOMWidgetView.extend({\n",
       "        render: function() {\n",
       "            this.cids   = this.model.get('cids');\n",
       "            this.nPages = this.cids.length;\n",
       "            this.pid = 0;\n",
       "            this.cid = 0;\n",
       "            this.labels = {};\n",
       "\n",
       "            // Insert the html payload\n",
       "            this.$el.append(this.model.get('html'));\n",
       "\n",
       "            // Enable button functionality for navigation\n",
       "            var that = this;\n",
       "            this.$el.find(\"#next-cand\").click(function() {\n",
       "                that.switchCandidate(1);\n",
       "            });\n",
       "            this.$el.find(\"#prev-cand\").click(function() {\n",
       "                that.switchCandidate(-1);\n",
       "            });\n",
       "            this.$el.find(\"#next-page\").click(function() {\n",
       "                that.switchPage(1);\n",
       "            });\n",
       "            this.$el.find(\"#prev-page\").click(function() {\n",
       "                that.switchPage(-1);\n",
       "            });\n",
       "            this.$el.find(\"#label-true\").click(function() {\n",
       "                that.labelCandidate(true);\n",
       "            });\n",
       "            this.$el.find(\"#label-false\").click(function() {\n",
       "                that.labelCandidate(false);\n",
       "            });\n",
       "\n",
       "            // Arrow key functionality\n",
       "            this.$el.keydown(function(e) {\n",
       "                switch(e.which) {\n",
       "                    case 74: // j\n",
       "                    that.switchCandidate(-1);\n",
       "                    break;\n",
       "\n",
       "                    case 73: // i\n",
       "                    that.switchPage(-1);\n",
       "                    break;\n",
       "\n",
       "                    case 76: // l\n",
       "                    that.switchCandidate(1);\n",
       "                    break;\n",
       "\n",
       "                    case 75: // k\n",
       "                    that.switchPage(1);\n",
       "                    break;\n",
       "\n",
       "                    case 84: // t\n",
       "                    that.labelCandidate(true);\n",
       "                    break;\n",
       "\n",
       "                    case 70: // f\n",
       "                    that.labelCandidate(false);\n",
       "                    break;\n",
       "                }\n",
       "            });\n",
       "\n",
       "            // Show the first page and highlight the first candidate\n",
       "            this.$el.find(\"#viewer-page-0\").show();\n",
       "            this.switchCandidate(0);\n",
       "        },\n",
       "\n",
       "        // Get candidate selector for currently selected candidate, escaping id properly\n",
       "        getCandidate: function() {\n",
       "            return this.$el.find(\".\"+this.cids[this.pid][this.cid].replace(/:/g, \"\\\\:\"));\n",
       "        },  \n",
       "\n",
       "        // Cycle through candidates and highlight, by increment inc\n",
       "        switchCandidate: function(inc) {\n",
       "            var N = this.cids[this.pid].length\n",
       "            if (N == 0) { return false; }\n",
       "\n",
       "            // Clear highlighting from previous candidate\n",
       "            if (inc != 0) {\n",
       "                var cPrev = this.getCandidate();\n",
       "                this.setRGBABackgroundOpacity(cPrev, 0.3);\n",
       "                cPrev.removeClass(\"highlighted-candidate\");\n",
       "\n",
       "                // Increment the cid counter\n",
       "                if (this.cid + inc >= N) {\n",
       "                    this.cid = N - 1;\n",
       "                } else if (this.cid + inc < 0) {\n",
       "                    this.cid = 0;\n",
       "                } else {\n",
       "                    this.cid += inc;\n",
       "                }\n",
       "            }\n",
       "\n",
       "            // Highlight new candidate\n",
       "            var cNext = this.getCandidate();\n",
       "            this.setRGBABackgroundOpacity(cNext, 1.0);\n",
       "            cNext.addClass(\"highlighted-candidate\");\n",
       "\n",
       "            // Push this new cid to the model\n",
       "            this.model.set('selected_cid', this.cids[this.pid][this.cid]);\n",
       "            this.touch();\n",
       "        },\n",
       "\n",
       "        // Switch through pages\n",
       "        switchPage: function(inc) {\n",
       "            this.$el.find(\".viewer-page\").hide();\n",
       "            if (this.pid + inc < 0) {\n",
       "                this.pid = 0;\n",
       "            } else if (this.pid + inc > this.nPages - 1) {\n",
       "                this.pid = this.nPages - 1;\n",
       "            } else {\n",
       "                this.pid += inc;\n",
       "            }\n",
       "            this.$el.find(\"#viewer-page-\"+this.pid).show();\n",
       "\n",
       "            // Show pagination\n",
       "            this.$el.find(\"#page\").html(this.pid);\n",
       "\n",
       "            // Reset cid and set to first candidate\n",
       "            this.cid = 0;\n",
       "            this.switchCandidate(0);\n",
       "        },\n",
       "\n",
       "        // Label currently-selected candidate\n",
       "        labelCandidate: function(label) {\n",
       "            var c   = this.getCandidate();\n",
       "            var cid = this.cids[this.pid][this.cid];\n",
       "            var cl  = String(label) + \"-candidate\";\n",
       "            var cln = String(!label) + \"-candidate\";\n",
       "\n",
       "            // Flush css background-color property, so class css not overidden\n",
       "            c.css(\"background-color\", \"\");\n",
       "\n",
       "            // Toggle label highlighting\n",
       "            if (c.hasClass(cl)) {\n",
       "                c.removeClass(cl);\n",
       "                this.setRGBABackgroundOpacity(c, 1.0);\n",
       "                this.labels[cid] = null;\n",
       "            } else {\n",
       "                c.removeClass(cln);\n",
       "                c.addClass(cl);\n",
       "                this.labels[cid] = label;\n",
       "            }\n",
       "\n",
       "            // Set the label and pass back to the model\n",
       "            this.model.set('_labels_serialized', this.serializeDict(this.labels));\n",
       "            this.touch();\n",
       "        },\n",
       "\n",
       "        // Serialization of hash maps, because traitlets Dict doesn't seem to work...\n",
       "        serializeDict: function(d) {\n",
       "            var s = [];\n",
       "            for (var key in d) {\n",
       "                s.push(key+\"~~\"+d[key]);\n",
       "            }\n",
       "            return s.join();\n",
       "        },\n",
       "\n",
       "        // Highlight spans\n",
       "        setRGBABackgroundOpacity: function(el, opacity) {\n",
       "            var rgx = /rgba\\((\\d+),\\s*(\\d+),\\s*(\\d+),\\s*(\\d\\.\\d+)\\)/;\n",
       "            var m   = rgx.exec(el.css(\"background-color\"));\n",
       "\n",
       "            // Handle rgb\n",
       "            if (m == null) {\n",
       "                rgx = /rgb\\((\\d+),\\s*(\\d+),\\s*(\\d+)\\)/;\n",
       "                m   = rgx.exec(el.css(\"background-color\"));\n",
       "            }\n",
       "            if (m != null) {\n",
       "                el.css(\"background-color\", \"rgba(\"+m[1]+\",\"+m[2]+\",\"+m[3]+\",\"+opacity+\")\");\n",
       "\n",
       "            // TODO: Clean up this hack!!\n",
       "            } else {\n",
       "                el.css(\"background-color\", \"rgba(255,255,0,1)\");\n",
       "            }\n",
       "        },\n",
       "    });\n",
       "\n",
       "    return {\n",
       "        ViewerView: ViewerView\n",
       "    };\n",
       "});\n"
      ],
      "text/plain": [
       "<IPython.core.display.Javascript object>"
      ]
     },
     "metadata": {},
     "output_type": "display_data"
    }
   ],
   "source": [
    "from snorkel.viewer import SentenceNgramViewer\n",
    "sentences = candidates.get_contexts()\n",
    "\n",
    "# NOTE: This if-then statement is only to avoid opening the viewer during automated testing of this notebook\n",
    "# You should ignore this!\n",
    "if not AUTOMATED_TESTING:\n",
    "    sv = SentenceNgramViewer(sentences, candidates)\n",
    "else:\n",
    "    sv = None"
   ]
  },
  {
   "cell_type": "code",
   "execution_count": 6,
   "metadata": {
    "collapsed": true
   },
   "outputs": [],
   "source": [
    "sv"
   ]
  },
  {
   "cell_type": "markdown",
   "metadata": {},
   "source": [
    "Note that we can **navigate using the provided buttons**, or **using the keyboard (hover over buttons to see controls)**, highlight candidates (even if they overlap), and also **apply binary labels** (more on where to use this later!).  In particular, note that **the Viewer is synced dynamically with the notebook**, so that we can for example get the `id` of the candidate that is currently selected, this candidate object itself, as well as any labels we've applied.  Try it out!\n",
    "\n",
    "Then, we can get the labels we created in the same format as we loaded before:"
   ]
  },
  {
   "cell_type": "code",
   "execution_count": 8,
   "metadata": {
    "collapsed": false
   },
   "outputs": [
    {
     "name": "stdout",
     "output_type": "stream",
     "text": [
      "{u'17217236-8:911-916': 1}\n"
     ]
    }
   ],
   "source": [
    "if not AUTOMATED_TESTING:\n",
    "    print sv.get_labels()"
   ]
  },
  {
   "cell_type": "markdown",
   "metadata": {},
   "source": [
    "## Writing labeling functions\n",
    "We'll use data programming to learn a logistic regression model which will predict the probability of a candidate entity being a true gene mention. Since our training data is not manually labeled, we'll generate many (potentially noisy) labels as a surrogate for precise, manual labels. Feature extraction and model learning are very simple in ddlite. Writing labeling functions is where the real artistry comes in. One of ddlite's goals is to enable rapid prototyping, debugging, and experimenting with labeling functions. These can be used either to create a simple standalone app, or to plug into DeepDive. Labeling functions, or LFs, are functions that take an `Candidate` object. They must return 1 (for a positive label), 0 (for abstaining), or -1 (for a negative example). For now, we'll write a few simple LFs to get started:\n",
    "\n",
    "* The first, second, and third LFs return a positive label if the lemma \"gene\", \"mutant\", or \"express\" appear in a window around the mention, respectively\n",
    "* The third LF returns a positive label if the dependency parent of any of the words in the mention is \"mutation\", and abstains otherwise\n",
    "* The fourth, fifth, and sixth LF return a negative label if the mention candidate contains \"DNA\", \"RNA\", or \"SNP\" respectively (these are common uppercase nouns which are not genes) "
   ]
  },
  {
   "cell_type": "code",
   "execution_count": 9,
   "metadata": {
    "collapsed": false
   },
   "outputs": [],
   "source": [
    "def LF_gene(m):\n",
    "    return 1 if ('gene' in m.right_window('lemmas')) or ('gene' in m.left_window('lemmas')) else 0\n",
    "\n",
    "def LF_gene_dp(m):\n",
    "    return 1 if 'gene' in [m.sentence['lemmas'][m.sentence['dep_parents'][i] - 1] for i in m.idxs] else 0\n",
    "\n",
    "def LF_genotype_dp(m):\n",
    "    return 1 if 'genotype' in [m.sentence['lemmas'][m.sentence['dep_parents'][i] - 1] for i in m.idxs] else 0\n",
    "\n",
    "def LF_mutant(m):\n",
    "    return 1 if ('mutant' in m.right_window('lemmas')) or ('mutant' in m.left_window('lemmas')) else 0\n",
    "\n",
    "def LF_variant(m):\n",
    "    return 1 if ('variant' in m.right_window('lemmas')) or ('variant' in m.left_window('lemmas')) else 0\n",
    "\n",
    "def LF_express(m):\n",
    "    return 1 if ('express' in m.right_window('lemmas')) or ('express' in m.left_window('lemmas')) else 0\n",
    "\n",
    "def LF_mutation(m):\n",
    "    return 1 if 'mutation' in [m.sentence['lemmas'][m.sentence['dep_parents'][i] - 1] for i in m.idxs] else 0\n",
    "\n",
    "def LF_JJ(m):\n",
    "    return 1 if 'JJ' in m.right_window('poses') else 0\n",
    "\n",
    "def LF_IN(m):\n",
    "    return 1 if 'IN' in m.left_window('poses', n=1) else 0\n",
    "\n",
    "def LF_dna(m):\n",
    "    return -1 if 'DNA' in m.get_attrib_tokens('words') else 0\n",
    "\n",
    "def LF_rna(m):\n",
    "    return -1 if 'RNA' in m.get_attrib_tokens('words') else 0\n",
    "\n",
    "def LF_snp(m):\n",
    "    return -1 if 'SNP' in m.get_attrib_tokens('words') else 0\n",
    "\n",
    "def LF_protein(m):\n",
    "    return -1 if 'protein' in m.left_window('lemmas') else 0\n",
    "\n",
    "def LF_LRB(m):\n",
    "    return -1 if '-LRB-' in m.right_window('poses', 1) else 0\n",
    "\n",
    "def LF_RRB(m):\n",
    "    return -1 if '-RRB-' in m.right_window('poses', 1) else 0\n",
    "\n",
    "def LF_dev_dp(m):\n",
    "    return -1 if 'development' in [m.sentence['lemmas'][m.sentence['dep_parents'][i] - 1] for i in m.idxs] else 0\n",
    "\n",
    "def LF_protein_dp(m):\n",
    "    return -1 if 'protein' in [m.sentence['lemmas'][m.sentence['dep_parents'][i] - 1] for i in m.idxs] else 0\n",
    "\n",
    "def LF_network_dp(m):\n",
    "    return -1 if 'network' in [m.sentence['lemmas'][m.sentence['dep_parents'][i] - 1] for i in m.idxs] else 0\n",
    "\n",
    "def LF_JJ_dp(m):\n",
    "    return -1 if 'JJ' in [m.sentence['poses'][m.sentence['dep_parents'][i] - 1] for i in m.idxs] else 0\n",
    "\n",
    "def LF_NNP(m):\n",
    "    return -1 if 'NNP' in m.get_attrib_tokens('poses') else 0"
   ]
  },
  {
   "cell_type": "markdown",
   "metadata": {},
   "source": [
    "Our intuition is that the few simple LFs given above won't yield a good model. We'll see this more concretely when we evaluate the labeling functions. For now, let's leave them as is. After writing the LFs, we simply collect them and apply them to mentions. If we define more LFs later, we can apply them incrementally or overwrite all the LFs so far."
   ]
  },
  {
   "cell_type": "code",
   "execution_count": 10,
   "metadata": {
    "collapsed": false
   },
   "outputs": [],
   "source": [
    "LFs = [LF_JJ, LF_JJ_dp, LF_NNP, LF_RRB, LF_dev_dp, LF_dna, LF_express, LF_gene, LF_gene_dp,\n",
    "       LF_genotype_dp, LF_mutant, LF_mutation, LF_network_dp, LF_protein, LF_protein_dp,\n",
    "       LF_rna, LF_snp, LF_variant, LF_IN, LF_LRB]"
   ]
  },
  {
   "cell_type": "markdown",
   "metadata": {},
   "source": [
    "## Creating a `TrainingSet`\n",
    "\n",
    "We next create a `TrainingSet` object, which applies our labeling functions to our training set candidates, to create a \"noisy training set\".  This object also _featurizes_ our training set, and stores the fit featurizer:"
   ]
  },
  {
   "cell_type": "code",
   "execution_count": 11,
   "metadata": {
    "collapsed": false
   },
   "outputs": [
    {
     "name": "stderr",
     "output_type": "stream",
     "text": [
      "/Library/Python/2.7/site-packages/matplotlib/__init__.py:1350: UserWarning:  This call to matplotlib.use() has no effect\n",
      "because the backend has already been chosen;\n",
      "matplotlib.use() must be called *before* pylab, matplotlib.pyplot,\n",
      "or matplotlib.backends is imported for the first time.\n",
      "\n",
      "  warnings.warn(_use_error_msg)\n"
     ]
    },
    {
     "name": "stdout",
     "output_type": "stream",
     "text": [
      "Applying LFs...\n",
      "Featurizing...\n",
      "============================================================\n",
      "LF Summary Statistics: 20 LFs applied to 1477 candidates\n",
      "------------------------------------------------------------\n",
      "Coverage (candidates w/ > 0 labels):\t\t61.68%\n",
      "Overlap (candidates w/ > 1 labels):\t\t35.14%\n",
      "Conflict (candidates w/ conflicting labels):\t18.96%\n",
      "============================================================\n"
     ]
    }
   ],
   "source": [
    "from snorkel.snorkel import TrainingSet\n",
    "from snorkel.features import NgramFeaturizer\n",
    "\n",
    "training_set = TrainingSet(training_candidates, LFs, featurizer=NgramFeaturizer())"
   ]
  },
  {
   "cell_type": "markdown",
   "metadata": {},
   "source": [
    "## Analyzing the set of LFs\n",
    "\n",
    "One way to analyze the labeling functions is to look individually at how much each one covers and overlaps and conflicts with other LFs; we can get this information as a `pandas.DataFrame` object for convenient analysis:"
   ]
  },
  {
   "cell_type": "code",
   "execution_count": 12,
   "metadata": {
    "collapsed": false
   },
   "outputs": [
    {
     "data": {
      "text/html": [
       "<div>\n",
       "<table border=\"1\" class=\"dataframe\">\n",
       "  <thead>\n",
       "    <tr style=\"text-align: right;\">\n",
       "      <th></th>\n",
       "      <th>conflicts</th>\n",
       "      <th>coverage</th>\n",
       "      <th>j</th>\n",
       "      <th>overlaps</th>\n",
       "    </tr>\n",
       "  </thead>\n",
       "  <tbody>\n",
       "    <tr>\n",
       "      <th>LF_JJ</th>\n",
       "      <td>0.114421</td>\n",
       "      <td>0.306703</td>\n",
       "      <td>0</td>\n",
       "      <td>0.200406</td>\n",
       "    </tr>\n",
       "    <tr>\n",
       "      <th>LF_JJ_dp</th>\n",
       "      <td>0.021666</td>\n",
       "      <td>0.029113</td>\n",
       "      <td>1</td>\n",
       "      <td>0.024374</td>\n",
       "    </tr>\n",
       "    <tr>\n",
       "      <th>LF_NNP</th>\n",
       "      <td>0.064320</td>\n",
       "      <td>0.094110</td>\n",
       "      <td>2</td>\n",
       "      <td>0.071090</td>\n",
       "    </tr>\n",
       "    <tr>\n",
       "      <th>LF_RRB</th>\n",
       "      <td>0.054164</td>\n",
       "      <td>0.132701</td>\n",
       "      <td>3</td>\n",
       "      <td>0.067028</td>\n",
       "    </tr>\n",
       "    <tr>\n",
       "      <th>LF_dev_dp</th>\n",
       "      <td>0.000677</td>\n",
       "      <td>0.000677</td>\n",
       "      <td>4</td>\n",
       "      <td>0.000677</td>\n",
       "    </tr>\n",
       "  </tbody>\n",
       "</table>\n",
       "</div>"
      ],
      "text/plain": [
       "           conflicts  coverage  j  overlaps\n",
       "LF_JJ       0.114421  0.306703  0  0.200406\n",
       "LF_JJ_dp    0.021666  0.029113  1  0.024374\n",
       "LF_NNP      0.064320  0.094110  2  0.071090\n",
       "LF_RRB      0.054164  0.132701  3  0.067028\n",
       "LF_dev_dp   0.000677  0.000677  4  0.000677"
      ]
     },
     "execution_count": 12,
     "metadata": {},
     "output_type": "execute_result"
    }
   ],
   "source": [
    "lf_stats = training_set.lf_stats()\n",
    "lf_stats[:5]"
   ]
  },
  {
   "cell_type": "markdown",
   "metadata": {},
   "source": [
    "We can now use all of the `DataFrame` helper methods to analyze our set of LFs e.g.:"
   ]
  },
  {
   "cell_type": "code",
   "execution_count": 13,
   "metadata": {
    "collapsed": false
   },
   "outputs": [
    {
     "data": {
      "text/plain": [
       "array([[<matplotlib.axes._subplots.AxesSubplot object at 0x112d6bf10>]], dtype=object)"
      ]
     },
     "execution_count": 13,
     "metadata": {},
     "output_type": "execute_result"
    },
    {
     "data": {
      "image/png": "[encoded data removed]",
      "text/plain": [
       "<matplotlib.figure.Figure at 0x112d6be90>"
      ]
     },
     "metadata": {},
     "output_type": "display_data"
    }
   ],
   "source": [
    "lf_stats.hist(\"coverage\")"
   ]
  },
  {
   "cell_type": "markdown",
   "metadata": {},
   "source": [
    "## Using the `Learner`\n",
    "\n",
    "We next create a `Learner` object, which takes our `TrainingSet` and a `NoiseAwareModel` class.  Roughly, the learner learns a generative model of the labels over the training set we have provided, and uses this to train a _noise-aware_ discriminative model which we provide."
   ]
  },
  {
   "cell_type": "code",
   "execution_count": 14,
   "metadata": {
    "collapsed": true
   },
   "outputs": [],
   "source": [
    "from snorkel.snorkel import Learner\n",
    "from snorkel.learning import LogReg\n",
    "\n",
    "learner = Learner(training_set, model=LogReg())"
   ]
  },
  {
   "cell_type": "markdown",
   "metadata": {},
   "source": [
    "We can then also do basic hyperparameter tuning using `GridSearch`, while training our model; here, we can split up our _gold_ set into a **cross-validation set** (used for this purpose) as well as a final _test_ set.  Note that for `GridSearch`, we provide a _list_ of hyperparameter names, and a _list of lists_ of values to try for each; we can also pass on other hyperparameters to keep fixed at specific values as keyword arguments after:"
   ]
  },
  {
   "cell_type": "code",
   "execution_count": 34,
   "metadata": {
    "collapsed": false
   },
   "outputs": [],
   "source": [
    "# Splitting into CV and test set\n",
    "test_candidates = gold_candidates[:60]\n",
    "test_labels     = gold_labels[:60]\n",
    "cv_candidates   = gold_candidates[60:]\n",
    "cv_labels       = gold_labels[60:]"
   ]
  },
  {
   "cell_type": "code",
   "execution_count": 64,
   "metadata": {
    "collapsed": false
   },
   "outputs": [
    {
     "name": "stdout",
     "output_type": "stream",
     "text": [
      "============================================================\n",
      "Testing mu = 1.00e-09\n",
      "============================================================\n",
      "Begin training for rate=0.01, mu=1e-09\n",
      "\tLearning epoch = 0\tGradient mag. = 0.046212\n",
      "\tLearning epoch = 250\tGradient mag. = 0.049395\n",
      "\tLearning epoch = 500\tGradient mag. = 0.050315\n",
      "\tLearning epoch = 750\tGradient mag. = 0.051414\n",
      "Final gradient magnitude for rate=0.01, mu=1e-09: 0.053\n",
      "============================================================\n",
      "Testing mu = 1.00e-05\n",
      "============================================================\n",
      "Begin training for rate=0.01, mu=1e-05\n",
      "\tLearning epoch = 0\tGradient mag. = 0.046212\n",
      "\tLearning epoch = 250\tGradient mag. = 0.049391\n",
      "\tLearning epoch = 500\tGradient mag. = 0.050306\n",
      "\tLearning epoch = 750\tGradient mag. = 0.051397\n",
      "Final gradient magnitude for rate=0.01, mu=1e-05: 0.053\n",
      "============================================================\n",
      "Testing mu = 1.00e-03\n",
      "============================================================\n",
      "Begin training for rate=0.01, mu=0.001\n",
      "\tLearning epoch = 0\tGradient mag. = 0.046212\n",
      "\tLearning epoch = 250\tGradient mag. = 0.049194\n",
      "\tLearning epoch = 500\tGradient mag. = 0.049881\n",
      "\tLearning epoch = 750\tGradient mag. = 0.050711\n",
      "Final gradient magnitude for rate=0.01, mu=0.001: 0.052\n",
      "============================================================\n",
      "Testing mu = 1.00e-01\n",
      "============================================================\n",
      "Begin training for rate=0.01, mu=0.1\n",
      "\tLearning epoch = 0\tGradient mag. = 0.046212\n",
      "\tLearning epoch = 250\tGradient mag. = 0.043977\n",
      "\tLearning epoch = 500\tGradient mag. = 0.040207\n",
      "\tLearning epoch = 750\tGradient mag. = 0.037018\n",
      "Final gradient magnitude for rate=0.01, mu=0.1: 0.034\n"
     ]
    }
   ],
   "source": [
    "from snorkel.learning_utils import GridSearch\n",
    "\n",
    "gs       = GridSearch(learner, ['mu'], [[1e-9, 1e-5, 1e-3, 1e-1]])\n",
    "gs_stats = gs.fit(cv_candidates, cv_labels)"
   ]
  },
  {
   "cell_type": "markdown",
   "metadata": {},
   "source": [
    "We can access the results of the grid search, as a `DataFrame` object once again:"
   ]
  },
  {
   "cell_type": "code",
   "execution_count": 65,
   "metadata": {
    "collapsed": false
   },
   "outputs": [
    {
     "data": {
      "text/html": [
       "<div>\n",
       "<table border=\"1\" class=\"dataframe\">\n",
       "  <thead>\n",
       "    <tr style=\"text-align: right;\">\n",
       "      <th></th>\n",
       "      <th>mu</th>\n",
       "      <th>Prec.</th>\n",
       "      <th>Rec.</th>\n",
       "      <th>F1</th>\n",
       "    </tr>\n",
       "  </thead>\n",
       "  <tbody>\n",
       "    <tr>\n",
       "      <th>0</th>\n",
       "      <td>1.000000e-09</td>\n",
       "      <td>0.62069</td>\n",
       "      <td>1.0</td>\n",
       "      <td>0.765957</td>\n",
       "    </tr>\n",
       "    <tr>\n",
       "      <th>1</th>\n",
       "      <td>1.000000e-05</td>\n",
       "      <td>0.62069</td>\n",
       "      <td>1.0</td>\n",
       "      <td>0.765957</td>\n",
       "    </tr>\n",
       "    <tr>\n",
       "      <th>2</th>\n",
       "      <td>1.000000e-03</td>\n",
       "      <td>0.62069</td>\n",
       "      <td>1.0</td>\n",
       "      <td>0.765957</td>\n",
       "    </tr>\n",
       "    <tr>\n",
       "      <th>3</th>\n",
       "      <td>1.000000e-01</td>\n",
       "      <td>0.75000</td>\n",
       "      <td>1.0</td>\n",
       "      <td>0.857143</td>\n",
       "    </tr>\n",
       "  </tbody>\n",
       "</table>\n",
       "</div>"
      ],
      "text/plain": [
       "             mu    Prec.  Rec.        F1\n",
       "0  1.000000e-09  0.62069   1.0  0.765957\n",
       "1  1.000000e-05  0.62069   1.0  0.765957\n",
       "2  1.000000e-03  0.62069   1.0  0.765957\n",
       "3  1.000000e-01  0.75000   1.0  0.857143"
      ]
     },
     "execution_count": 65,
     "metadata": {},
     "output_type": "execute_result"
    }
   ],
   "source": [
    "gs_stats"
   ]
  },
  {
   "cell_type": "markdown",
   "metadata": {},
   "source": [
    "Finally, we can evaluate on the test set (`GridSearch` will automatically leave in the optimal weights learned):"
   ]
  },
  {
   "cell_type": "code",
   "execution_count": 66,
   "metadata": {
    "collapsed": false
   },
   "outputs": [
    {
     "name": "stdout",
     "output_type": "stream",
     "text": [
      "Applying LFs...\n",
      "Featurizing...\n"
     ]
    },
    {
     "data": {
      "image/png": "[encoded data removed]",
      "text/plain": [
       "<matplotlib.figure.Figure at 0x113b1d490>"
      ]
     },
     "metadata": {},
     "output_type": "display_data"
    },
    {
     "name": "stdout",
     "output_type": "stream",
     "text": [
      "========================================\n",
      "Test set size:\t60\n",
      "----------------------------------------\n",
      "Precision:\t0.764705882353\n",
      "Recall:\t\t1.0\n",
      "F1 Score:\t0.866666666667\n",
      "----------------------------------------\n",
      "TP: 26 | FP: 8 | TN: 14 | FN: 0\n",
      "========================================\n"
     ]
    }
   ],
   "source": [
    "learner.test(test_candidates, test_labels)"
   ]
  },
  {
   "cell_type": "markdown",
   "metadata": {},
   "source": [
    "## Iterating with labeling functions\n",
    "After analyzing our LFs and obtaining model results, we can revise our LF set. We can see all of the results thus far, and reopen MindTagger to see some mentions that aren't currently covered by LFs."
   ]
  },
  {
   "cell_type": "markdown",
   "metadata": {},
   "source": [
    "In order to use LSTM to learn weights, we just just call the following functions."
   ]
  },
  {
   "cell_type": "code",
   "execution_count": null,
   "metadata": {
    "collapsed": false,
    "scrolled": false
   },
   "outputs": [],
   "source": [
    "lf_opts = {'sample': False, 'verbose': True}\n",
    "model_opts = {'n_iter': 300, 'verbose': True, 'contain_mention': True, 'word_window_length': 0, 'ignore_case': False}\n",
    "%time DDL.train_model(method='lstm', lf_opts=lf_opts, model_opts=model_opts)"
   ]
  },
  {
   "cell_type": "code",
   "execution_count": null,
   "metadata": {
    "collapsed": false
   },
   "outputs": [],
   "source": [
    "idxs, gt = DDL.get_labeled_ground_truth(subset=DDL.holdout())\n",
    "acc_feats = np.mean(DDL.get_predicted(subset=DDL.holdout()) == gt)\n",
    "print \"Full model accuracy: {:.3f}\".format(acc_feats)"
   ]
  }
 ],
 "metadata": {
  "kernelspec": {
   "display_name": "Python 2",
   "language": "python",
   "name": "python2"
  },
  "language_info": {
   "codemirror_mode": {
    "name": "ipython",
    "version": 2
   },
   "file_extension": ".py",
   "mimetype": "text/x-python",
   "name": "python",
   "nbconvert_exporter": "python",
   "pygments_lexer": "ipython2",
   "version": "2.7.10"
  },
  "widgets": {
   "state": {
    "356f71ced4e14b41893becb86f9bfe39": {
     "views": [
      {
       "cell_index": 10
      }
     ]
    }
   },
   "version": "1.2.0"
  }
 },
 "nbformat": 4,
 "nbformat_minor": 0
}
