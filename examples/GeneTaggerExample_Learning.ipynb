{
 "cells": [
  {
   "cell_type": "markdown",
   "metadata": {},
   "source": [
    "# Tagging genes with ddlite: learning and labeling function iteration\n",
    "\n",
    "## Introduction\n",
    "In this example **ddlite** app, we'll build a gene tagger from scratch. Here's why we developed ddlite:\n",
    "\n",
    "* To provide a lighter-weight interface to structured information extraction for new DeepDive users\n",
    "* **To help advanced DeepDive users rapidly develop and prototype applications and labeling functions (LFs)**\n",
    "* To investigate DeepDive's data programming approach to building inference systems\n",
    "\n",
    "This example is centered around the second item. Domain-specific tagging systems take months or years to develop. They use hand-crafted model circuitry and accurate, hand-labeled training data. We're going to try to build a pretty good one in a few minutes with none of those things. The generalized extraction and learning utilities provided by ddlite will allow us to turn a sampling of article abstracts and some basic domain knowledge into an automated tagging system. Specifically, we want an accurate tagger for genes in academic articles. We have comprehensive dictionaries of genes, but applying a simple matching rule might yield a lot of false positives. For example, \"p53\" might get tagged as a gene even though it refers to a page number. Our goal is to use data programming to improve precision.\n",
    "\n",
    "Here's the pipeline we'll follow:\n",
    "\n",
    "1. Obtain and parse input data (relevant article abstracts from PubMed)\n",
    "2. Extract candidates for tagging\n",
    "3. Generate features\n",
    "4. Create a test set\n",
    "5. Write labeling functions\n",
    "6. Learn the tagging model\n",
    "7. Iterate on labeling functions\n",
    "\n",
    "Parts 3 through 7 are covered in this notebook. It requires candidates extracted from `GeneTaggerExample_Extraction.ipynb`, which covers parts 1 and 2."
   ]
  },
  {
   "cell_type": "code",
   "execution_count": 1,
   "metadata": {
    "collapsed": false
   },
   "outputs": [],
   "source": [
    "%load_ext autoreload\n",
    "%autoreload 2\n",
    "\n",
    "import cPickle, os, sys\n",
    "sys.path.insert(1, os.path.join(sys.path[0], '..'))\n",
    "\n",
    "from ddlite import *\n",
    "\n",
    "%matplotlib inline\n",
    "matplotlib.rcParams['figure.figsize'] = (18,6)"
   ]
  },
  {
   "cell_type": "markdown",
   "metadata": {},
   "source": [
    "## Loading candidate extractions\n",
    "First, we'll load in the pickled candidates that we created in the last notebook. We can construct an `Entities` object with the file."
   ]
  },
  {
   "cell_type": "code",
   "execution_count": 2,
   "metadata": {
    "collapsed": false
   },
   "outputs": [],
   "source": [
    "E = Entities('gene_tag_example/gene_tag_saved_entities_v4.pkl')"
   ]
  },
  {
   "cell_type": "markdown",
   "metadata": {},
   "source": [
    "## `DDLiteModel` objects and feature generation\n",
    "We'll then create a `DDLiteModel` object for our extracted gene candidates. This lets us iterate with our model and labeling functions. Since `Entities` object defines a feature generation method, features are automatically created when we initialize a `DDLiteModel` object. These are generic features from the NLP markup and dependency tree in the neighborhood of the mention. Alternatively, you can define a custom feature set as a NumPy array or a Scipy sparse matrix."
   ]
  },
  {
   "cell_type": "code",
   "execution_count": 3,
   "metadata": {
    "collapsed": false
   },
   "outputs": [
    {
     "name": "stdout",
     "output_type": "stream",
     "text": [
      "Extracted 30533 features for each of 1968 mentions\n"
     ]
    }
   ],
   "source": [
    "DDL = DDLiteModel(E)\n",
    "print \"Extracted {} features for each of {} mentions\".format(DDL.num_feats(), DDL.num_candidates())"
   ]
  },
  {
   "cell_type": "markdown",
   "metadata": {},
   "source": [
    "We need a blind, gold standard ground truth set to evaluate our predictions. It needs one entry per candidate, with a value of 1 for positive, a value of -1 for negative, and a value of 0 if it isn't in the gold standard label set. We'll load in a set now and set it as the holdout. We'll assign half of the holdout to a validation set for parameter tuning, and the other half to a test set."
   ]
  },
  {
   "cell_type": "code",
   "execution_count": 4,
   "metadata": {
    "collapsed": true
   },
   "outputs": [],
   "source": [
    "gold = np.zeros((DDL.num_candidates()))\n",
    "gold[np.array([68,69,70,71,72,73,74,75,76,78,79,80,81,82,83,84,85,86,88,89,90,91])] = np.array([\n",
    "     1,1,1,-1,1,-1,-1,1,-1,-1,-1,-1,-1,-1,-1,-1,-1,-1,-1,1,1,1])\n",
    "DDL.set_gold_labels(gold)\n",
    "DDL.set_holdout(p=0.5)"
   ]
  },
  {
   "cell_type": "markdown",
   "metadata": {},
   "source": [
    "## Building a ground truth set with MindTagger\n",
    "In order to evaluate our labeling functions and learning results, we'll create a small set of ground truth labels for some candidates using [Mindtagger](http://deepdive.stanford.edu/labeling). This will highlight each candidate in the sentence in which it appears. We set the response to yes if it is a mention of gene, and no otherwise. If you aren't sure, you can abstain from labeling. In a real application, we would likely want to tag more than 20 candidates."
   ]
  },
  {
   "cell_type": "code",
   "execution_count": 5,
   "metadata": {
    "collapsed": false,
    "scrolled": false
   },
   "outputs": [
    {
     "name": "stdout",
     "output_type": "stream",
     "text": [
      "Making sure MindTagger is installed. Hang on!\n"
     ]
    },
    {
     "data": {
      "text/html": [
       "\n",
       "        <iframe\n",
       "            width=\"100%\"\n",
       "            height=\"1200\"\n",
       "            src=\"http://henry-ddlite-dev:8855/#/mindtagger/d1e638d5d00b44bb\"\n",
       "            frameborder=\"0\"\n",
       "            allowfullscreen\n",
       "        ></iframe>\n",
       "        "
      ],
      "text/plain": [
       "<IPython.lib.display.IFrame at 0x7f35e35550d0>"
      ]
     },
     "execution_count": 5,
     "metadata": {},
     "output_type": "execute_result"
    }
   ],
   "source": [
    "DDL.open_mindtagger(num_sample=20, width='100%', height=1200)"
   ]
  },
  {
   "cell_type": "markdown",
   "metadata": {},
   "source": [
    "Now, we'll retrieve the tags and add them to our `DDLiteModel`. We can also use a previously defined Mindtagger label set, with one entry per candidate. The are used for evaluations against the *development set*."
   ]
  },
  {
   "cell_type": "code",
   "execution_count": 6,
   "metadata": {
    "collapsed": false
   },
   "outputs": [],
   "source": [
    "DDL.add_mindtagger_tags()\n",
    "mt = np.zeros((DDL.num_candidates()))\n",
    "mt[np.array([48,49,50,51,52,53,54,55,56,58,59,60,61,62,63,64,65,66])] = np.array([\n",
    "     -1,-1,-1,-1,-1,-1,-1,-1,-1,-1,-1,-1,1,1,1,1,1,1])\n",
    "DDL.set_mindtagger_labels(mt)"
   ]
  },
  {
   "cell_type": "markdown",
   "metadata": {},
   "source": [
    "## Writing labeling functions\n",
    "We'll use data programming to learn a logistic regression model which will predict the probability of a candidate entity being a true gene mention. Since our training data is not manually labeled, we'll generate many (potentially noisy) labels as a surrogate for precise, manual labels. Feature extraction and model learning are very simple in ddlite. Writing labeling functions is where the real artistry comes in. One of ddlite's goals is to enable rapid prototyping, debugging, and experimenting with labeling functions. These can be used either to create a simple standalone app, or to plug into DeepDive. Labeling functions, or LFs, are functions that take an `Candidate` object. They must return 1 (for a positive label), 0 (for abstaining), or -1 (for a negative example). For now, we'll write a few simple LFs to get started:\n",
    "\n",
    "* The first, second, and third LFs return a positive label if the lemma \"gene\", \"mutant\", or \"express\" appear in a window around the mention, respectively\n",
    "* The third LF returns a positive label if the dependency parent of any of the words in the mention is \"mutation\", and abstains otherwise\n",
    "* The fourth, fifth, and sixth LF return a negative label if the mention candidate contains \"DNA\", \"RNA\", or \"SNP\" respectively (these are common uppercase nouns which are not genes) "
   ]
  },
  {
   "cell_type": "code",
   "execution_count": 7,
   "metadata": {
    "collapsed": false
   },
   "outputs": [],
   "source": [
    "def LF_gene(m):\n",
    "    return 1 if ('gene' in m.post_window('lemmas')) or ('gene' in m.pre_window('lemmas')) else 0\n",
    "def LF_mutant(m):\n",
    "    return 1 if ('mutant' in m.post_window('lemmas')) or ('mutant' in m.pre_window('lemmas')) else 0\n",
    "def LF_express(m):\n",
    "    return 1 if ('express' in m.post_window('lemmas')) or ('express' in m.pre_window('lemmas')) else 0\n",
    "def LF_mutation(m):\n",
    "    return 1 if 'mutation' in [m.lemmas[m.dep_parents[i] - 1] for i in m.idxs] else 0\n",
    "def LF_dna(m):\n",
    "    return -1 if 'dna' in m.mention('lemmas') else 0\n",
    "def LF_rna(m):\n",
    "    return -1 if 'rna' in m.mention('lemmas') else 0\n",
    "def LF_snp(m):\n",
    "    return -1 if 'snp' in m.mention('lemmas') else 0"
   ]
  },
  {
   "cell_type": "markdown",
   "metadata": {},
   "source": [
    "Our intuition is that the few simple LFs given above won't yield a good model. We'll see this more concretely when we evaluate the labeling functions. For now, let's leave them as is. After writing the LFs, we simply collect them and apply them to mentions. If we define more LFs later, we can apply them incrementally or overwrite all the LFs so far."
   ]
  },
  {
   "cell_type": "code",
   "execution_count": 8,
   "metadata": {
    "collapsed": false
   },
   "outputs": [],
   "source": [
    "LFs = [LF_gene, LF_mutant, LF_express, LF_mutation, LF_dna, LF_rna, LF_snp]\n",
    "DDL.apply_lfs(LFs, clear=True)"
   ]
  },
  {
   "cell_type": "markdown",
   "metadata": {},
   "source": [
    "We'll use ddlite's LF assessment utilities to debug and analyze our LFs before running inference. First, we'll generate summary plots which show the following:\n",
    "\n",
    "* Do the LFs cover the data well or do we have many candidates for which all of the LFs abstained?\n",
    "* Is there overlap between the LFs? Do many return positive or negative labels for the same candidate?\n",
    "* Do the LFs conflict with each other? Do candidates tend to have many of one type of label, or a mix?"
   ]
  },
  {
   "cell_type": "code",
   "execution_count": 9,
   "metadata": {
    "collapsed": false,
    "scrolled": true
   },
   "outputs": [
    {
     "data": {
      "image/png": "[encoded data removed]",
      "text/plain": [
       "<matplotlib.figure.Figure at 0x7f35e5a45d50>"
      ]
     },
     "metadata": {},
     "output_type": "display_data"
    }
   ],
   "source": [
    "DDL.plot_lf_stats()"
   ]
  },
  {
   "cell_type": "markdown",
   "metadata": {},
   "source": [
    "As we may expect, the few LFs do not cover the data well. Most candidates have no positive or negative labels, as seen in all plots. We also have almost no conflict between LFs. We can switch to an LF view of these measures and show tables for the LFs with the most conflict, lowest coverage, and lowest empirical accuracy as compared to the MindTagger labels."
   ]
  },
  {
   "cell_type": "code",
   "execution_count": 10,
   "metadata": {
    "collapsed": false
   },
   "outputs": [
    {
     "data": {
      "text/html": [
       "<table><tr><td><b>Labeling function</b></td><td><b>Fraction of candidates where LF has conflict</b></td></tr><tr><td>LF_gene</td><td>0.001</td></tr><tr><td>LF_dna</td><td>0.001</td></tr><tr><td>LF_snp</td><td>0.000</td></tr></table>"
      ],
      "text/plain": [
       "DictTable([('LF_gene', 0.0010162601626016261),\n",
       "           ('LF_dna', 0.0010162601626016261),\n",
       "           ('LF_snp', 0.0),\n",
       "           ('LF_rna', 0.0),\n",
       "           ('LF_express', 0.0),\n",
       "           ('LF_mutation', 0.0),\n",
       "           ('LF_mutant', 0.0)])"
      ]
     },
     "execution_count": 10,
     "metadata": {},
     "output_type": "execute_result"
    }
   ],
   "source": [
    "DDL.top_conflict_lfs(n=3)"
   ]
  },
  {
   "cell_type": "code",
   "execution_count": 11,
   "metadata": {
    "collapsed": false
   },
   "outputs": [
    {
     "data": {
      "text/html": [
       "<table><tr><td><b>Labeling function</b></td><td><b>Fraction of abstained votes</b></td></tr><tr><td>LF_express</td><td>0.992</td></tr><tr><td>LF_rna</td><td>0.991</td></tr><tr><td>LF_snp</td><td>0.987</td></tr></table>"
      ],
      "text/plain": [
       "DictTable([('LF_express', 0.9922918807810894),\n",
       "           ('LF_rna', 0.9912641315519013),\n",
       "           ('LF_snp', 0.986639260020555),\n",
       "           ('LF_mutant', 0.986125385405961),\n",
       "           ('LF_dna', 0.9799588900308325),\n",
       "           ('LF_mutation', 0.9542651593011305),\n",
       "           ('LF_gene', 0.9090441932168551)])"
      ]
     },
     "execution_count": 11,
     "metadata": {},
     "output_type": "execute_result"
    }
   ],
   "source": [
    "DDL.lowest_coverage_lfs(n=3)"
   ]
  },
  {
   "cell_type": "code",
   "execution_count": 12,
   "metadata": {
    "collapsed": false,
    "scrolled": true
   },
   "outputs": [
    {
     "data": {
      "text/html": [
       "<table><tr><td><b>Labeling function</b></td><td><b>Empirical LF F1 score</b></td></tr><tr><td>LF_snp</td><td>0.000 (n=0)</td></tr><tr><td>LF_rna</td><td>0.000 (n=0)</td></tr><tr><td>LF_express</td><td>0.000 (n=0)</td></tr><tr><td>LF_dna</td><td>0.000 (n=1)</td></tr><tr><td>LF_mutant</td><td>0.000 (n=0)</td></tr><tr><td>LF_mutation</td><td>0.471 (n=4)</td></tr><tr><td>LF_gene</td><td>0.600 (n=3)</td></tr></table>"
      ],
      "text/plain": [
       "DictTable([('LF_snp', '0.000 (n=0)'),\n",
       "           ('LF_rna', '0.000 (n=0)'),\n",
       "           ('LF_express', '0.000 (n=0)'),\n",
       "           ('LF_dna', '0.000 (n=1)'),\n",
       "           ('LF_mutant', '0.000 (n=0)'),\n",
       "           ('LF_mutation', '0.471 (n=4)'),\n",
       "           ('LF_gene', '0.600 (n=3)')])"
      ]
     },
     "execution_count": 12,
     "metadata": {},
     "output_type": "execute_result"
    }
   ],
   "source": [
    "DDL.lowest_empirical_f1_lfs(n=10)"
   ]
  },
  {
   "cell_type": "markdown",
   "metadata": {},
   "source": [
    "For a small test set and low coverage LFs, we may see that we can't assess accuracy since the MindTagger labels and LF positive and negative labels don't overlap. If we observe LFs with very low accuracy and a sufficiently large sample size, this could be an indication that the LF is buggy."
   ]
  },
  {
   "cell_type": "markdown",
   "metadata": {},
   "source": [
    "## Learning\n",
    "To learn weights for the features and LFs, we use a simple, regularized logistic regression model. Again, the results won't be meaningful without more LFs. We'll tell ddlite to log the results and print out a summary table"
   ]
  },
  {
   "cell_type": "code",
   "execution_count": 13,
   "metadata": {
    "collapsed": false,
    "scrolled": false
   },
   "outputs": [
    {
     "name": "stdout",
     "output_type": "stream",
     "text": [
      "Learning epoch =  0\t100\t200\t300\t400\t\n"
     ]
    },
    {
     "name": "stderr",
     "output_type": "stream",
     "text": [
      "../ddlite.py:1092: UserWarning: SGD did not converge for mu=0.000. Try increasing maxIter.\n",
      "  warnings.warn(\"SGD did not converge for mu={:.3f}. Try increasing maxIter.\".format(mu))\n"
     ]
    },
    {
     "name": "stdout",
     "output_type": "stream",
     "text": [
      "Learning epoch =  0\t100\t200\t300\t400\t\n",
      "Learning epoch =  0\t100\t200\t300\t400\t\n",
      "Learning epoch =  0\t100\t200\t300\t400\t\n",
      "Learning epoch =  0\t100\t200\t300\t400\t\n",
      "Learning epoch =  0\t100\t200\t300\t400\t\n",
      "Learning epoch =  0\t100\t200\t300\t400\t\n",
      "Learning epoch =  0\t100\t200\t300\t400\t\n",
      "Learning epoch =  0\t100\t200\t300\t400\t\n"
     ]
    },
    {
     "name": "stderr",
     "output_type": "stream",
     "text": [
      "../ddlite.py:1092: UserWarning: SGD did not converge for mu=0.001. Try increasing maxIter.\n",
      "  warnings.warn(\"SGD did not converge for mu={:.3f}. Try increasing maxIter.\".format(mu))\n"
     ]
    },
    {
     "name": "stdout",
     "output_type": "stream",
     "text": [
      "Learning epoch =  0\t100\t200\t300\t400\t\n",
      "SGD converged for mu=0.002 after 456 steps\n",
      "Learning epoch =  0\tSGD converged for mu=0.003 after 0 steps\n",
      "Learning epoch =  0\tSGD converged for mu=0.007 after 0 steps\n",
      "Learning epoch =  0\tSGD converged for mu=0.014 after 0 steps\n",
      "Learning epoch =  0\tSGD converged for mu=0.028 after 0 steps\n",
      "Learning epoch =  0\tSGD converged for mu=0.058 after 0 steps\n",
      "Learning epoch =  0\tSGD converged for mu=0.120 after 0 steps\n",
      "Learning epoch =  0\tSGD converged for mu=0.248 after 0 steps\n",
      "Learning epoch =  0\tSGD converged for mu=0.513 after 0 steps\n",
      "Learning epoch =  0\tSGD converged for mu=1.061 after 0 steps\n",
      "Learning epoch =  0\tSGD converged for mu=2.196 after 0 steps\n",
      "CPU times: user 19.1 s, sys: 36 ms, total: 19.1 s\n",
      "Wall time: 23.6 s\n"
     ]
    },
    {
     "data": {
      "text/html": [
       "<table><tr><td><b>ID</b></td><td><b># LFs</b></td><td><b># ground truth</b></td><td><b>Precision</b></td><td><b>Recall</b></td><td><b>F1</b></td></tr><tr><td>0</td><td>7</td><td>11</td><td>0.455</td><td>1.000</td><td>0.625</td></tr></table><table><tr><td><b>LF</b></td></tr><tr><td>LF_gene</td></tr><tr><td>LF_mutant</td></tr><tr><td>LF_express</td></tr><tr><td>LF_mutation</td></tr><tr><td>LF_dna</td></tr><tr><td>LF_rna</td></tr><tr><td>LF_snp</td></tr></table>"
      ],
      "text/plain": [
       "<ddlite.ModelLog instance at 0x7f35e33f13f8>"
      ]
     },
     "execution_count": 13,
     "metadata": {},
     "output_type": "execute_result"
    }
   ],
   "source": [
    "matplotlib.rcParams['figure.figsize'] = (12,4)\n",
    "%time DDL.learn_weights(sample=False, maxIter=500, alpha=0.5, verbose=True, plot=True, log=True)"
   ]
  },
  {
   "cell_type": "markdown",
   "metadata": {},
   "source": [
    "We can use [DeepDive-style calibration plots](http://deepdive.stanford.edu/calibration) to evaluate the quality of our predictions. We aren't using a holdout set right now, so let's just look at the histogram of probabilities."
   ]
  },
  {
   "cell_type": "code",
   "execution_count": 14,
   "metadata": {
    "collapsed": false
   },
   "outputs": [
    {
     "name": "stderr",
     "output_type": "stream",
     "text": [
      "/home/henry/anaconda2/lib/python2.7/site-packages/numpy/core/_methods.py:59: RuntimeWarning: Mean of empty slice.\n",
      "  warnings.warn(\"Mean of empty slice.\", RuntimeWarning)\n",
      "/home/henry/anaconda2/lib/python2.7/site-packages/numpy/core/_methods.py:70: RuntimeWarning: invalid value encountered in double_scalars\n",
      "  ret = ret.dtype.type(ret / rcount)\n"
     ]
    },
    {
     "data": {
      "image/png": "[encoded data removed]",
      "text/plain": [
       "<matplotlib.figure.Figure at 0x7f35df4c7050>"
      ]
     },
     "metadata": {},
     "output_type": "display_data"
    }
   ],
   "source": [
    "DDL.plot_calibration()"
   ]
  },
  {
   "cell_type": "markdown",
   "metadata": {},
   "source": [
    "## Iterating with labeling functions\n",
    "After analyzing our LFs and obtaining model results, we can revise our LF set. We can see all of the results thus far, and reopen MindTagger to see what types of mentions are predicted incorrectly."
   ]
  },
  {
   "cell_type": "code",
   "execution_count": 15,
   "metadata": {
    "collapsed": false
   },
   "outputs": [
    {
     "data": {
      "text/html": [
       "<table><tr><td><b>ID</b></td><td><b># LFs</b></td><td><b># ground truth</b></td><td><b>Precision</b></td><td><b>Recall</b></td><td><b>F1</b></td></tr><tr><td>0</td><td>7</td><td>11</td><td>0.455</td><td>1.000</td><td>0.625</td></tr></table>"
      ],
      "text/plain": [
       "<ddlite.ModelLogger instance at 0x7f35e2867170>"
      ]
     },
     "execution_count": 15,
     "metadata": {},
     "output_type": "execute_result"
    }
   ],
   "source": [
    "DDL.show_log()"
   ]
  },
  {
   "cell_type": "code",
   "execution_count": 16,
   "metadata": {
    "collapsed": false
   },
   "outputs": [
    {
     "name": "stdout",
     "output_type": "stream",
     "text": [
      "Making sure MindTagger is installed. Hang on!\n"
     ]
    },
    {
     "data": {
      "text/html": [
       "\n",
       "        <iframe\n",
       "            width=\"100%\"\n",
       "            height=\"1200\"\n",
       "            src=\"http://henry-ddlite-dev:8855/#/mindtagger/5c50f28a0174e62b\"\n",
       "            frameborder=\"0\"\n",
       "            allowfullscreen\n",
       "        ></iframe>\n",
       "        "
      ],
      "text/plain": [
       "<IPython.lib.display.IFrame at 0x7f35df02ba50>"
      ]
     },
     "execution_count": 16,
     "metadata": {},
     "output_type": "execute_result"
    }
   ],
   "source": [
    "DDL.open_mindtagger(width='100%', height=1200)"
   ]
  }
 ],
 "metadata": {
  "kernelspec": {
   "display_name": "Python 2",
   "language": "python",
   "name": "python2"
  },
  "language_info": {
   "codemirror_mode": {
    "name": "ipython",
    "version": 2
   },
   "file_extension": ".py",
   "mimetype": "text/x-python",
   "name": "python",
   "nbconvert_exporter": "python",
   "pygments_lexer": "ipython2",
   "version": "2.7.11"
  }
 },
 "nbformat": 4,
 "nbformat_minor": 0
}
