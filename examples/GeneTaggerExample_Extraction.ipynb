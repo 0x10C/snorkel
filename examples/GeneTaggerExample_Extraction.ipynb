{
 "cells": [
  {
   "cell_type": "markdown",
   "metadata": {},
   "source": [
    "# Tagging genes with ddlite: candidate extraction\n",
    "\n",
    "## Introduction\n",
    "In this example **ddlite** app, we'll build a gene tagger from scratch. Here's why we developed ddlite:\n",
    "\n",
    "* To provide a lighter-weight interface to structured information extraction for new DeepDive users\n",
    "* To help advanced DeepDive rapidly develop and prototype applications and labeling functions/labelers\n",
    "* To investigate DeepDive's data programming approach to building inference systems\n",
    "\n",
    "This example is centered around the second item. Domain-specific tagging systems take months or years to develop. They use hand-crafted model circuitry and accurate, hand-labeled training data. We're going to try to build a pretty good one in a few minutes with none of those things. The generalized extraction and learning utilities provided by ddlite will allow us to turn a sampling of article abstracts and some basic domain knowledge into an automated tagging system. Specifically, we want an accurate tagger for genes in academic articles. We have comprehensive dictionaries of genes, but applying a simple matching rule might yield a lot of false positives. For example, \"p53\" might get tagged as a gene if it refers to a page number. Our goal is to use distant supervision to improve precision.\n",
    "\n",
    "Here's the pipeline we'll follow:\n",
    "\n",
    "1. Obtain and parse input data (relevant article abstracts from PubMed)\n",
    "2. Extract candidates for tagging\n",
    "3. Generate features\n",
    "4. Write labeling functions\n",
    "5. Learn the tagging model\n",
    "6. Iterate on labeling functions\n",
    "\n",
    "Parts 1 and 2 are covered in this notebook, and parts 3 through 6 are covered in `GeneTaggerExample_Learning.ipynb`. Let's get to it."
   ]
  },
  {
   "cell_type": "code",
   "execution_count": 1,
   "metadata": {
    "collapsed": false
   },
   "outputs": [],
   "source": [
    "%load_ext autoreload\n",
    "%autoreload 2\n",
    "\n",
    "import cPickle, os, sys\n",
    "sys.path.insert(1, os.path.join(sys.path[0], '..'))\n",
    "\n",
    "from ddlite import *"
   ]
  },
  {
   "cell_type": "markdown",
   "metadata": {},
   "source": [
    "## Processing the input data\n",
    "We already downloaded the raw HTML for 150 gene-related article pages from PubMed using the `pubmed_gene_html.py` script. These can be found in the `data` folder. We can use ddlite's `DocParser` to read in the article text. There's a general HTML parser which finds visible text, but we can do better by writing a more specific version to just grab the abstract text."
   ]
  },
  {
   "cell_type": "code",
   "execution_count": 2,
   "metadata": {
    "collapsed": false
   },
   "outputs": [
    {
     "name": "stdout",
     "output_type": "stream",
     "text": [
      "The diagnosis of transient erythroblastopenia of childhood (TEC) is usually straightforward, with temporary cessation of red blood cell production resulting in normocytic normochromic anemia, reticulocytopenia, and bone marrow erythroblastopenia. We describe here a case of TEC presenting with features of leukoerythroblastic anemia. To our knowledge, this is the first such report for TEC. The case of a 1-year-old girl is described who had a leukoerythroblastic anemia. Bone marrow examination and clinical course indicated that the anemia had a benign etiology-TEC. The patient presented with anemia, leukocytosis, and a left shift, with metamyelocytes, myelocytes, myeloblasts, and nucleated red cells in the circulation. There was no apparent viral etiology, and the bone marrow aspirate findings were consistent with a recovering marrow. After transfusion, the patient had an uneventful recovery from TEC. TEC can cause leukoerythroblastic anemia. TEC with this presentation is clinically similar to TEC without leukoerythroblastosis, but other causes of leukoerythroblastosis need to be excluded.\n"
     ]
    }
   ],
   "source": [
    "class PubMedAbstractParser(HTMLParser):\n",
    "    def _cleaner(self, s):\n",
    "        return (s.parent.name == 'abstracttext')\n",
    "\n",
    "dp = DocParser('gene_tag_example/data/', PubMedAbstractParser())\n",
    "docs = list(dp.parseDocs())\n",
    "print docs[0]"
   ]
  },
  {
   "cell_type": "markdown",
   "metadata": {},
   "source": [
    "Now we'll use CoreNLP via ddlite's `SentenceParser` to parse each sentence. `DocParser` can handle this too; we didn't really need that call above. This can take a little while, so if the example has already been run, we'll reload it."
   ]
  },
  {
   "cell_type": "code",
   "execution_count": 3,
   "metadata": {
    "collapsed": false,
    "scrolled": true
   },
   "outputs": [
    {
     "name": "stdout",
     "output_type": "stream",
     "text": [
      "CPU times: user 11.4 s, sys: 416 ms, total: 11.8 s\n",
      "Wall time: 37.7 s\n",
      "Sentence(words=[u'The', u'diagnosis', u'of', u'transient', u'erythroblastopenia', u'of', u'childhood', u'-LRB-', u'TEC', u'-RRB-', u'is', u'usually', u'straightforward', u',', u'with', u'temporary', u'cessation', u'of', u'red', u'blood', u'cell', u'production', u'resulting', u'in', u'normocytic', u'normochromic', u'anemia', u',', u'reticulocytopenia', u',', u'and', u'bone', u'marrow', u'erythroblastopenia', u'.'], lemmas=[u'the', u'diagnosis', u'of', u'transient', u'erythroblastopenia', u'of', u'childhood', u'-lrb-', u'tec', u'-rrb-', u'be', u'usually', u'straightforward', u',', u'with', u'temporary', u'cessation', u'of', u'red', u'blood', u'cell', u'production', u'result', u'in', u'normocytic', u'normochromic', u'anemia', u',', u'reticulocytopenia', u',', u'and', u'bone', u'marrow', u'erythroblastopenia', u'.'], poses=[u'DT', u'NN', u'IN', u'JJ', u'NN', u'IN', u'NN', u'-LRB-', u'NN', u'-RRB-', u'VBZ', u'RB', u'JJ', u',', u'IN', u'JJ', u'NN', u'IN', u'JJ', u'NN', u'NN', u'NN', u'VBG', u'IN', u'JJ', u'JJ', u'NN', u',', u'NN', u',', u'CC', u'NN', u'NN', u'NN', u'.'], dep_parents=[2, 13, 5, 5, 2, 7, 5, 9, 7, 9, 13, 13, 0, 13, 17, 17, 13, 22, 22, 22, 22, 17, 22, 27, 27, 27, 23, 27, 27, 27, 27, 34, 34, 27, 13], dep_labels=[u'det', u'nsubj', u'case', u'amod', u'nmod', u'case', u'nmod', u'punct', u'appos', u'punct', u'cop', u'advmod', u'ROOT', u'punct', u'case', u'amod', u'nmod', u'case', u'amod', u'compound', u'compound', u'nmod', u'acl', u'case', u'amod', u'amod', u'nmod', u'punct', u'conj', u'punct', u'cc', u'compound', u'compound', u'conj', u'punct'], sent_id=0, doc_id=0, text=u'The diagnosis of transient erythroblastopenia of childhood (TEC) is usually straightforward, with temporary cessation of red blood cell production resulting in normocytic normochromic anemia, reticulocytopenia, and bone marrow erythroblastopenia.', token_idxs=[0, 4, 14, 17, 27, 46, 49, 59, 60, 63, 65, 68, 76, 91, 93, 98, 108, 118, 121, 125, 131, 136, 147, 157, 160, 171, 184, 190, 192, 209, 211, 215, 220, 227, 245])\n"
     ]
    }
   ],
   "source": [
    "docs = None\n",
    "\n",
    "pkl_f = 'gene_tag_example/gene_tag_saved_sents_v3.pkl'\n",
    "try:\n",
    "    with open(pkl_f, 'rb') as f:\n",
    "        sents = cPickle.load(f)\n",
    "except:\n",
    "    %time sents = dp.parseDocSentences()\n",
    "    with open(pkl_f, 'w+') as f:\n",
    "        cPickle.dump(sents, f)\n",
    "\n",
    "print sents[0]"
   ]
  },
  {
   "cell_type": "markdown",
   "metadata": {},
   "source": [
    "## Extracting candidates with matchers\n",
    "Extracting candidates for mentions (or relations) in ddlite is done with `Matcher` objects. First, we'll use a `DictionaryMatcher`. We have access to a pretty comprehensive gene dictionary. Let's load it in and create the `DictionaryMatcher`."
   ]
  },
  {
   "cell_type": "code",
   "execution_count": 4,
   "metadata": {
    "collapsed": false
   },
   "outputs": [],
   "source": [
    "# Schema is: ENSEMBL_ID | NAME | TYPE (refseq, canonical, non-canonical)\n",
    "genes = [line.rstrip().split('\\t')[1] for line in open('gene_tag_example/dicts/ensembl_genes.tsv')]\n",
    "genes = filter(lambda g : len(g) > 2, genes)\n",
    "\n",
    "gene_dm = DictionaryMatch(label='GeneName', dictionary=genes, ignore_case=False)"
   ]
  },
  {
   "cell_type": "markdown",
   "metadata": {},
   "source": [
    "The dictionary match should provide fairly high recall, but we may still miss some candidates. We know that gene names are named nouns and are often all uppercase. Let's use DDLite's *compositional* matcher operations to handle this. First, we'll write a matcher to find all nouns using the parts-of-speech tags. Then, we'll use a filter to find uppercase sequences. Finally, we'll use a filter to make sure each match has at least 3 characters. We pass `noun_rm` to `up_rm`, and `up_rm` to the final filter to compose them with each other."
   ]
  },
  {
   "cell_type": "code",
   "execution_count": 5,
   "metadata": {
    "collapsed": false
   },
   "outputs": [],
   "source": [
    "noun_regex = RegexNgramMatch(label='Nouns', regex_pattern=r'[A-Z]?NN[A-Z]?', ignore_case=True, match_attrib='poses')\n",
    "up_regex = RegexFilterAll(noun_regex, label='Upper', regex_pattern=r'[A-Z]+([0-9]+)?([A-Z]+)?([0-9]+)?$', ignore_case=False, match_attrib='words')\n",
    "multi_regex = RegexFilterAll(up_regex, label='Multi', regex_pattern=r'[a-z0-9]{3,}', ignore_case=True)"
   ]
  },
  {
   "cell_type": "markdown",
   "metadata": {},
   "source": [
    "Since we want matches both from the dictionary and the uppercase-noun-phrase-matcher we just built, we'll use the union object to create a matcher for both."
   ]
  },
  {
   "cell_type": "code",
   "execution_count": 6,
   "metadata": {
    "collapsed": true
   },
   "outputs": [],
   "source": [
    "CE = Union(gene_dm, multi_regex)"
   ]
  },
  {
   "cell_type": "markdown",
   "metadata": {},
   "source": [
    "## Creating the candidates\n",
    "We'll use our unioned candidate extractor to extract our candidate entities from the sentences into an `Entities` object. Using both matchers together will provide very high recall, but may have poor precision. In the next demo notebook (`GeneTaggerExample_Learning.ipynb`), we'll write distant supervision rules and learn a model to improve precision."
   ]
  },
  {
   "cell_type": "code",
   "execution_count": 7,
   "metadata": {
    "collapsed": false
   },
   "outputs": [],
   "source": [
    "E = Entities(sents, CE)"
   ]
  },
  {
   "cell_type": "markdown",
   "metadata": {},
   "source": [
    "We can visualize contexts for our extractions too. This may help in writing labeling functions in `GeneTaggerExample_Learning.ipynb`."
   ]
  },
  {
   "cell_type": "code",
   "execution_count": 8,
   "metadata": {
    "collapsed": false
   },
   "outputs": [
    {
     "data": {
      "text/html": [
       "<style>\n",
       ".node {\n",
       "  cursor: pointer;\n",
       "}\n",
       "\n",
       ".node circle {\n",
       "  fill: #fff;\n",
       "  stroke: steelblue;\n",
       "  stroke-width: 3px;\n",
       "}\n",
       "\n",
       ".node text {\n",
       "  font: 12px sans-serif;\n",
       "}\n",
       "\n",
       ".edge {\n",
       "  fill: none;\n",
       "  stroke: #ccc;\n",
       "  stroke-width: 2px;\n",
       "  cursor: pointer;\n",
       "}\n",
       "\n",
       ".highlight {\n",
       "  stroke: red;\n",
       "  stroke-width: 3px;\n",
       "}\n",
       "</style>\n",
       "\n",
       "<!--Provide the canvas id (twice) and the words via python string formatting here--!>\n",
       "<div id=\"tree-chart-1055222636300976932\"></div>\n",
       "<div id=\"raw-seq-1055222636300976932\">\n",
       "<span class=\"word-1055222636300976932-0\">The</span> <span class=\"word-1055222636300976932-1\">diagnosis</span> <span class=\"word-1055222636300976932-2\">of</span> <span class=\"word-1055222636300976932-3\">transient</span> <span class=\"word-1055222636300976932-4\">erythroblastopenia</span> <span class=\"word-1055222636300976932-5\">of</span> <span class=\"word-1055222636300976932-6\">childhood</span> <span class=\"word-1055222636300976932-7\">(</span> <span class=\"word-1055222636300976932-8\">TEC</span> <span class=\"word-1055222636300976932-9\">)</span> <span class=\"word-1055222636300976932-10\">is</span> <span class=\"word-1055222636300976932-11\">usually</span> <span class=\"word-1055222636300976932-12\">straightforward</span> <span class=\"word-1055222636300976932-13\">,</span> <span class=\"word-1055222636300976932-14\">with</span> <span class=\"word-1055222636300976932-15\">temporary</span> <span class=\"word-1055222636300976932-16\">cessation</span> <span class=\"word-1055222636300976932-17\">of</span> <span class=\"word-1055222636300976932-18\">red</span> <span class=\"word-1055222636300976932-19\">blood</span> <span class=\"word-1055222636300976932-20\">cell</span> <span class=\"word-1055222636300976932-21\">production</span> <span class=\"word-1055222636300976932-22\">resulting</span> <span class=\"word-1055222636300976932-23\">in</span> <span class=\"word-1055222636300976932-24\">normocytic</span> <span class=\"word-1055222636300976932-25\">normochromic</span> <span class=\"word-1055222636300976932-26\">anemia</span> <span class=\"word-1055222636300976932-27\">,</span> <span class=\"word-1055222636300976932-28\">reticulocytopenia</span> <span class=\"word-1055222636300976932-29\">,</span> <span class=\"word-1055222636300976932-30\">and</span> <span class=\"word-1055222636300976932-31\">bone</span> <span class=\"word-1055222636300976932-32\">marrow</span> <span class=\"word-1055222636300976932-33\">erythroblastopenia</span> <span class=\"word-1055222636300976932-34\">.</span>\n",
       "</div>\n"
      ]
     },
     "metadata": {},
     "output_type": "display_data"
    },
    {
     "data": {
      "application/javascript": [
       "$.getScript(\"http://d3js.org/d3.v3.min.js\", function () {\n",
       "// See http://bl.ocks.org/d3noob/8375092\n",
       "// Three vars need to be provided via python string formatting:\n",
       "var chartId = \"1055222636300976932\";\n",
       "var root = {\"attrib\": {\"token_idx\": \"76\", \"word\": \"straightforward\", \"dep_label\": \"ROOT\", \"pos\": \"JJ\", \"lemma\": \"straightforward\", \"word_idx\": \"12\", \"dep_parent\": \"0\"}, \"children\": [{\"attrib\": {\"token_idx\": \"4\", \"word\": \"diagnosis\", \"dep_label\": \"nsubj\", \"pos\": \"NN\", \"lemma\": \"diagnosis\", \"word_idx\": \"1\", \"dep_parent\": \"13\"}, \"children\": [{\"attrib\": {\"token_idx\": \"0\", \"word\": \"The\", \"dep_label\": \"det\", \"pos\": \"DT\", \"lemma\": \"the\", \"word_idx\": \"0\", \"dep_parent\": \"2\"}, \"children\": []}, {\"attrib\": {\"token_idx\": \"27\", \"word\": \"erythroblastopenia\", \"dep_label\": \"nmod\", \"pos\": \"NN\", \"lemma\": \"erythroblastopenia\", \"word_idx\": \"4\", \"dep_parent\": \"2\"}, \"children\": [{\"attrib\": {\"token_idx\": \"14\", \"word\": \"of\", \"dep_label\": \"case\", \"pos\": \"IN\", \"lemma\": \"of\", \"word_idx\": \"2\", \"dep_parent\": \"5\"}, \"children\": []}, {\"attrib\": {\"token_idx\": \"17\", \"word\": \"transient\", \"dep_label\": \"amod\", \"pos\": \"JJ\", \"lemma\": \"transient\", \"word_idx\": \"3\", \"dep_parent\": \"5\"}, \"children\": []}, {\"attrib\": {\"token_idx\": \"49\", \"word\": \"childhood\", \"dep_label\": \"nmod\", \"pos\": \"NN\", \"lemma\": \"childhood\", \"word_idx\": \"6\", \"dep_parent\": \"5\"}, \"children\": [{\"attrib\": {\"token_idx\": \"46\", \"word\": \"of\", \"dep_label\": \"case\", \"pos\": \"IN\", \"lemma\": \"of\", \"word_idx\": \"5\", \"dep_parent\": \"7\"}, \"children\": []}, {\"attrib\": {\"token_idx\": \"60\", \"word\": \"TEC\", \"dep_label\": \"appos\", \"pos\": \"NN\", \"lemma\": \"tec\", \"word_idx\": \"8\", \"dep_parent\": \"7\"}, \"children\": [{\"attrib\": {\"token_idx\": \"59\", \"word\": \"-LRB-\", \"dep_label\": \"punct\", \"pos\": \"-LRB-\", \"lemma\": \"-lrb-\", \"word_idx\": \"7\", \"dep_parent\": \"9\"}, \"children\": []}, {\"attrib\": {\"token_idx\": \"63\", \"word\": \"-RRB-\", \"dep_label\": \"punct\", \"pos\": \"-RRB-\", \"lemma\": \"-rrb-\", \"word_idx\": \"9\", \"dep_parent\": \"9\"}, \"children\": []}]}]}]}]}, {\"attrib\": {\"token_idx\": \"65\", \"word\": \"is\", \"dep_label\": \"cop\", \"pos\": \"VBZ\", \"lemma\": \"be\", \"word_idx\": \"10\", \"dep_parent\": \"13\"}, \"children\": []}, {\"attrib\": {\"token_idx\": \"68\", \"word\": \"usually\", \"dep_label\": \"advmod\", \"pos\": \"RB\", \"lemma\": \"usually\", \"word_idx\": \"11\", \"dep_parent\": \"13\"}, \"children\": []}, {\"attrib\": {\"token_idx\": \"91\", \"word\": \",\", \"dep_label\": \"punct\", \"pos\": \",\", \"lemma\": \",\", \"word_idx\": \"13\", \"dep_parent\": \"13\"}, \"children\": []}, {\"attrib\": {\"token_idx\": \"108\", \"word\": \"cessation\", \"dep_label\": \"nmod\", \"pos\": \"NN\", \"lemma\": \"cessation\", \"word_idx\": \"16\", \"dep_parent\": \"13\"}, \"children\": [{\"attrib\": {\"token_idx\": \"93\", \"word\": \"with\", \"dep_label\": \"case\", \"pos\": \"IN\", \"lemma\": \"with\", \"word_idx\": \"14\", \"dep_parent\": \"17\"}, \"children\": []}, {\"attrib\": {\"token_idx\": \"98\", \"word\": \"temporary\", \"dep_label\": \"amod\", \"pos\": \"JJ\", \"lemma\": \"temporary\", \"word_idx\": \"15\", \"dep_parent\": \"17\"}, \"children\": []}, {\"attrib\": {\"token_idx\": \"136\", \"word\": \"production\", \"dep_label\": \"nmod\", \"pos\": \"NN\", \"lemma\": \"production\", \"word_idx\": \"21\", \"dep_parent\": \"17\"}, \"children\": [{\"attrib\": {\"token_idx\": \"118\", \"word\": \"of\", \"dep_label\": \"case\", \"pos\": \"IN\", \"lemma\": \"of\", \"word_idx\": \"17\", \"dep_parent\": \"22\"}, \"children\": []}, {\"attrib\": {\"token_idx\": \"121\", \"word\": \"red\", \"dep_label\": \"amod\", \"pos\": \"JJ\", \"lemma\": \"red\", \"word_idx\": \"18\", \"dep_parent\": \"22\"}, \"children\": []}, {\"attrib\": {\"token_idx\": \"125\", \"word\": \"blood\", \"dep_label\": \"compound\", \"pos\": \"NN\", \"lemma\": \"blood\", \"word_idx\": \"19\", \"dep_parent\": \"22\"}, \"children\": []}, {\"attrib\": {\"token_idx\": \"131\", \"word\": \"cell\", \"dep_label\": \"compound\", \"pos\": \"NN\", \"lemma\": \"cell\", \"word_idx\": \"20\", \"dep_parent\": \"22\"}, \"children\": []}, {\"attrib\": {\"token_idx\": \"147\", \"word\": \"resulting\", \"dep_label\": \"acl\", \"pos\": \"VBG\", \"lemma\": \"result\", \"word_idx\": \"22\", \"dep_parent\": \"22\"}, \"children\": [{\"attrib\": {\"token_idx\": \"184\", \"word\": \"anemia\", \"dep_label\": \"nmod\", \"pos\": \"NN\", \"lemma\": \"anemia\", \"word_idx\": \"26\", \"dep_parent\": \"23\"}, \"children\": [{\"attrib\": {\"token_idx\": \"157\", \"word\": \"in\", \"dep_label\": \"case\", \"pos\": \"IN\", \"lemma\": \"in\", \"word_idx\": \"23\", \"dep_parent\": \"27\"}, \"children\": []}, {\"attrib\": {\"token_idx\": \"160\", \"word\": \"normocytic\", \"dep_label\": \"amod\", \"pos\": \"JJ\", \"lemma\": \"normocytic\", \"word_idx\": \"24\", \"dep_parent\": \"27\"}, \"children\": []}, {\"attrib\": {\"token_idx\": \"171\", \"word\": \"normochromic\", \"dep_label\": \"amod\", \"pos\": \"JJ\", \"lemma\": \"normochromic\", \"word_idx\": \"25\", \"dep_parent\": \"27\"}, \"children\": []}, {\"attrib\": {\"token_idx\": \"190\", \"word\": \",\", \"dep_label\": \"punct\", \"pos\": \",\", \"lemma\": \",\", \"word_idx\": \"27\", \"dep_parent\": \"27\"}, \"children\": []}, {\"attrib\": {\"token_idx\": \"192\", \"word\": \"reticulocytopenia\", \"dep_label\": \"conj\", \"pos\": \"NN\", \"lemma\": \"reticulocytopenia\", \"word_idx\": \"28\", \"dep_parent\": \"27\"}, \"children\": []}, {\"attrib\": {\"token_idx\": \"209\", \"word\": \",\", \"dep_label\": \"punct\", \"pos\": \",\", \"lemma\": \",\", \"word_idx\": \"29\", \"dep_parent\": \"27\"}, \"children\": []}, {\"attrib\": {\"token_idx\": \"211\", \"word\": \"and\", \"dep_label\": \"cc\", \"pos\": \"CC\", \"lemma\": \"and\", \"word_idx\": \"30\", \"dep_parent\": \"27\"}, \"children\": []}, {\"attrib\": {\"token_idx\": \"227\", \"word\": \"erythroblastopenia\", \"dep_label\": \"conj\", \"pos\": \"NN\", \"lemma\": \"erythroblastopenia\", \"word_idx\": \"33\", \"dep_parent\": \"27\"}, \"children\": [{\"attrib\": {\"token_idx\": \"215\", \"word\": \"bone\", \"dep_label\": \"compound\", \"pos\": \"NN\", \"lemma\": \"bone\", \"word_idx\": \"31\", \"dep_parent\": \"34\"}, \"children\": []}, {\"attrib\": {\"token_idx\": \"220\", \"word\": \"marrow\", \"dep_label\": \"compound\", \"pos\": \"NN\", \"lemma\": \"marrow\", \"word_idx\": \"32\", \"dep_parent\": \"34\"}, \"children\": []}]}]}]}]}]}, {\"attrib\": {\"token_idx\": \"245\", \"word\": \".\", \"dep_label\": \"punct\", \"pos\": \".\", \"lemma\": \".\", \"word_idx\": \"34\", \"dep_parent\": \"13\"}, \"children\": []}]};\n",
       "var highlightIdxs = [[8]];\n",
       "\n",
       "// Highlight words / nodes\n",
       "var COLORS = [\"#ff5c33\", \"#ffcc00\", \"#33cc33\", \"#3399ff\"];\n",
       "function highlightWords() {\n",
       "  for (var i=0; i < highlightIdxs.length; i++) {\n",
       "    var c = COLORS[i];\n",
       "    var idxs = highlightIdxs[i];\n",
       "    for (var j=0; j < idxs.length; j++) {\n",
       "      d3.selectAll(\".word-\"+chartId+\"-\"+idxs[j]).style(\"stroke\", c).style(\"background\", c);\n",
       "    }\n",
       "  }\n",
       "}\n",
       "\n",
       "// Constants\n",
       "var margin = {top: 20, right: 20, bottom: 20, left: 20},\n",
       "width = 800 - margin.left - margin.right,\n",
       "height = 350 - margin.top - margin.bottom,\n",
       "R = 5;\n",
       "\n",
       "// Create the d3 tree object\n",
       "var tree = d3.layout.tree()\n",
       "  .size([width, height]);\n",
       "\n",
       "// Create the svg canvas\n",
       "var svg = d3.select(\"#tree-chart-\" + chartId)\n",
       "  .append(\"svg\")\n",
       "  .attr(\"width\", width + margin.left + margin.right)\n",
       "  .attr(\"height\", height + margin.top + margin.bottom)\n",
       "  .append(\"g\")\n",
       "  .attr(\"transform\", \"translate(\" + margin.left + \",\" + margin.top + \")\");\n",
       "\n",
       "function renderTree() {\n",
       "  var nodes = tree.nodes(root),\n",
       "  edges = tree.links(nodes);\n",
       "\n",
       "  // Place the nodes\n",
       "  var nodeGroups = svg.selectAll(\"g.node\")\n",
       "    .data(nodes)\n",
       "    .enter().append(\"g\")\n",
       "    .attr(\"class\", \"node\")\n",
       "    .attr(\"transform\", function(d) { return \"translate(\" + d.x + \",\" + d.y + \")\"; });\n",
       "       \n",
       "  // Append circles\n",
       "  nodeGroups.append(\"circle\")\n",
       "    //.on(\"click\", function() {\n",
       "    //  d3.select(this).classed(\"highlight\", !d3.select(this).classed(\"highlight\")); })\n",
       "    .attr(\"r\", R)\n",
       "    .attr(\"class\", function(d) { return \"word-\"+chartId+\"-\"+d.attrib.word_idx; });\n",
       "     \n",
       "  // Append the actual word\n",
       "  nodeGroups.append(\"text\")\n",
       "    .text(function(d) { return d.attrib.word; })\n",
       "    .attr(\"text-anchor\", function(d) { \n",
       "      return d.children && d.children.length > 0 ? \"start\" : \"middle\"; })\n",
       "    .attr(\"dx\", function(d) { \n",
       "      return d.children && d.children.length > 0 ? R + 3 : 0; })\n",
       "    .attr(\"dy\", function(d) { \n",
       "      return d.children && d.children.length > 0 ? 0 : 3*R + 3; });\n",
       "\n",
       "  // Place the edges\n",
       "  var edgePaths = svg.selectAll(\"path\")\n",
       "    .data(edges)\n",
       "    .enter().append(\"path\")\n",
       "    .attr(\"class\", \"edge\")\n",
       "    .on(\"click\", function() {\n",
       "      d3.select(this).classed(\"highlight\", !d3.select(this).classed(\"highlight\")); })\n",
       "    .attr(\"d\", d3.svg.diagonal());\n",
       "}\n",
       "\n",
       "renderTree();\n",
       "highlightWords();\n",
       "});\n"
      ]
     },
     "metadata": {},
     "output_type": "display_data"
    }
   ],
   "source": [
    "E[0].render()"
   ]
  },
  {
   "cell_type": "markdown",
   "metadata": {},
   "source": [
    "Finally, we'll pickle the extracted candidates from our `Entities` object for use in `GeneTaggerExample_Learning.ipynb`."
   ]
  },
  {
   "cell_type": "code",
   "execution_count": 9,
   "metadata": {
    "collapsed": false
   },
   "outputs": [],
   "source": [
    "E.dump_candidates('gene_tag_example/gene_tag_saved_entities_v4.pkl')"
   ]
  }
 ],
 "metadata": {
  "kernelspec": {
   "display_name": "Python 2",
   "language": "python",
   "name": "python2"
  },
  "language_info": {
   "codemirror_mode": {
    "name": "ipython",
    "version": 2
   },
   "file_extension": ".py",
   "mimetype": "text/x-python",
   "name": "python",
   "nbconvert_exporter": "python",
   "pygments_lexer": "ipython2",
   "version": "2.7.11"
  }
 },
 "nbformat": 4,
 "nbformat_minor": 0
}
