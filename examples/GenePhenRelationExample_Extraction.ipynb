{
 "cells": [
  {
   "cell_type": "markdown",
   "metadata": {},
   "source": [
    "# Finding causal genotype-phenotype relations with ddlite: extraction\n",
    "\n",
    "## Introduction\n",
    "In this example **ddlite** app, we'll build a system to indentify causal relationships between genotypes and phenotypes from raw journal articles. For an end-to-end example, see **GeneTaggerExample_Extraction.ipynb** and **GeneTaggerExample_Learning.ipynb**."
   ]
  },
  {
   "cell_type": "code",
   "execution_count": 1,
   "metadata": {
    "collapsed": false
   },
   "outputs": [],
   "source": [
    "%load_ext autoreload\n",
    "%autoreload 2\n",
    "\n",
    "import cPickle, os, sys\n",
    "sys.path.insert(1, os.path.join(sys.path[0], '..'))\n",
    "\n",
    "data_dir = 'gene_phen_relation_example/{}'.format(os.environ.get('docs', 'data'))\n",
    "\n",
    "from ddlite import *"
   ]
  },
  {
   "cell_type": "markdown",
   "metadata": {},
   "source": [
    "## Processing the input data\n",
    "We already downloaded the raw HTML for 2800 relevant article pages from PubMed. These can be found in the `data` folder. We can use ddlite's `DocParser` to read in the article text. It uses CoreNLP via ddlite's `SentenceParser` to parse each sentence. This can take a little while, so if the example has already been run, we'll reload it."
   ]
  },
  {
   "cell_type": "code",
   "execution_count": 2,
   "metadata": {
    "collapsed": false,
    "scrolled": true
   },
   "outputs": [
    {
     "name": "stdout",
     "output_type": "stream",
     "text": [
      "Getting data from directory gene_phen_relation_example/data_small\n",
      "CPU times: user 1.52 s, sys: 76 ms, total: 1.6 s\n",
      "Wall time: 23.5 s\n",
      "Sentence(words=[u'Limited', u'mutational', u'heterogeneity', u'in', u'the', u'LDLR', u'gene', u'in', u'familial', u'hypercholesterolemia', u'in', u'Tunisia'], lemmas=[u'limited', u'mutational', u'heterogeneity', u'in', u'the', u'ldlr', u'gene', u'in', u'familial', u'hypercholesterolemia', u'in', u'Tunisia'], poses=[u'JJ', u'JJ', u'NN', u'IN', u'DT', u'NN', u'NN', u'IN', u'JJ', u'NN', u'IN', u'NNP'], dep_parents=[3, 3, 0, 7, 7, 7, 3, 10, 10, 3, 12, 3], dep_labels=[u'amod', u'amod', u'ROOT', u'case', u'det', u'compound', u'nmod', u'case', u'amod', u'nmod', u'case', u'nmod'], sent_id=0, doc_id=0, text=u'Limited mutational heterogeneity in the LDLR gene in familial hypercholesterolemia in Tunisia', token_idxs=[0, 8, 19, 33, 36, 40, 45, 50, 53, 62, 83, 86])\n"
     ]
    }
   ],
   "source": [
    "pkl_f = 'gene_phen_relation_example/gene_phen_saved_sents_v2.pkl'\n",
    "try:\n",
    "    with open(pkl_f, 'rb') as f:\n",
    "        sents = cPickle.load(f)\n",
    "except:\n",
    "    print \"Getting data from directory {}\".format(data_dir)\n",
    "    dp = DocParser(data_dir, TextParser())\n",
    "    %time sents = dp.parseDocSentences()\n",
    "    with open(pkl_f, 'w+') as f:\n",
    "        cPickle.dump(sents, f)\n",
    "\n",
    "print sents[0]"
   ]
  },
  {
   "cell_type": "markdown",
   "metadata": {},
   "source": [
    "## Extracting relation candidates with matchers\n",
    "Extracting candidates for relations in ddlite is done with `Matcher` objects. Here, we'll use two `DictionaryMatcher`s. We have access to pretty comprehensive gene and phenotype dictionaries. Let's load them in and create the `DictionaryMatcher`s."
   ]
  },
  {
   "cell_type": "code",
   "execution_count": 3,
   "metadata": {
    "collapsed": false
   },
   "outputs": [],
   "source": [
    "# Schema is: ENSEMBL_ID | NAME | TYPE (refseq, canonical, non-canonical)\n",
    "genes = [line.rstrip().split('\\t')[1] for line in open('gene_phen_relation_example/dicts/ensembl_genes.tsv')]\n",
    "genes = filter(lambda g : len(g) > 3, genes)\n",
    "\n",
    "# Schema is: HPO_ID | NAME | TYPE (exact, lemma)\n",
    "phenos = [line.rstrip().split('\\t')[1] for line in open('gene_phen_relation_example/dicts/pheno_terms.tsv')]\n",
    "\n",
    "GM = DictionaryMatch('G', genes, ignore_case=False)\n",
    "PM = DictionaryMatch('P', phenos)"
   ]
  },
  {
   "cell_type": "markdown",
   "metadata": {},
   "source": [
    "If we wanted to define more `Matcher` for, say, genes, we could use multiple `Matcher` objects with a `MultiMatcher`. For now, we'll just use the single `DictionaryMatcher` for both classes. We'll use this to extract our candidate relations from the sentences into an `Relations` object. Using just the matchers will likely provide high recall but poor precision. This is because not all genotype-phenotype mention pairs in the same sentence represent a causal pairing. The `Relations` object we create can be used in a `CandidateModel`. This allows us to learn a model to predict whether each candidate pair represents a causal pair or not."
   ]
  },
  {
   "cell_type": "code",
   "execution_count": 4,
   "metadata": {
    "collapsed": false,
    "scrolled": false
   },
   "outputs": [],
   "source": [
    "R = Relations(sents, GM, PM)"
   ]
  },
  {
   "cell_type": "markdown",
   "metadata": {},
   "source": [
    "We can visualize contexts for our extractions too. This may help in writing labeling functions in a learning task."
   ]
  },
  {
   "cell_type": "code",
   "execution_count": 5,
   "metadata": {
    "collapsed": false
   },
   "outputs": [
    {
     "data": {
      "text/html": [
       "<style>\n",
       ".node {\n",
       "  cursor: pointer;\n",
       "}\n",
       "\n",
       ".node circle {\n",
       "  fill: #fff;\n",
       "  stroke: steelblue;\n",
       "  stroke-width: 3px;\n",
       "}\n",
       "\n",
       ".node text {\n",
       "  font: 12px sans-serif;\n",
       "}\n",
       "\n",
       ".edge {\n",
       "  fill: none;\n",
       "  stroke: #ccc;\n",
       "  stroke-width: 2px;\n",
       "  cursor: pointer;\n",
       "}\n",
       "\n",
       ".highlight {\n",
       "  stroke: red;\n",
       "  stroke-width: 3px;\n",
       "}\n",
       "</style>\n",
       "\n",
       "<!--Provide the canvas id (twice) and the words via python string formatting here--!>\n",
       "<div id=\"tree-chart-8408456426733079437\"></div>\n",
       "<div id=\"raw-seq-8408456426733079437\">\n",
       "<span class=\"word-8408456426733079437-0\">NAMPT</span> <span class=\"word-8408456426733079437-1\">3186C/T</span> <span class=\"word-8408456426733079437-2\">polymorphism</span> <span class=\"word-8408456426733079437-3\">affects</span> <span class=\"word-8408456426733079437-4\">repaglinide</span> <span class=\"word-8408456426733079437-5\">response</span> <span class=\"word-8408456426733079437-6\">in</span> <span class=\"word-8408456426733079437-7\">Chinese</span> <span class=\"word-8408456426733079437-8\">patients</span> <span class=\"word-8408456426733079437-9\">with</span> <span class=\"word-8408456426733079437-10\">Type</span> <span class=\"word-8408456426733079437-11\">2</span> <span class=\"word-8408456426733079437-12\">diabetes</span> <span class=\"word-8408456426733079437-13\">mellitus</span>\n",
       "</div>\n"
      ]
     },
     "metadata": {},
     "output_type": "display_data"
    },
    {
     "data": {
      "application/javascript": [
       "$.getScript(\"http://d3js.org/d3.v3.min.js\", function () {\n",
       "// See http://bl.ocks.org/d3noob/8375092\n",
       "// Three vars need to be provided via python string formatting:\n",
       "var chartId = \"8408456426733079437\";\n",
       "var root = {\"attrib\": {\"token_idx\": \"27\", \"word\": \"affects\", \"dep_label\": \"ROOT\", \"pos\": \"VBZ\", \"lemma\": \"affect\", \"word_idx\": \"3\", \"dep_parent\": \"0\"}, \"children\": [{\"attrib\": {\"token_idx\": \"14\", \"word\": \"polymorphism\", \"dep_label\": \"nsubj\", \"pos\": \"NN\", \"lemma\": \"polymorphism\", \"word_idx\": \"2\", \"dep_parent\": \"4\"}, \"children\": [{\"attrib\": {\"token_idx\": \"0\", \"word\": \"NAMPT\", \"dep_label\": \"compound\", \"pos\": \"NNP\", \"lemma\": \"NAMPT\", \"word_idx\": \"0\", \"dep_parent\": \"3\"}, \"children\": []}, {\"attrib\": {\"token_idx\": \"6\", \"word\": \"3186C/T\", \"dep_label\": \"compound\", \"pos\": \"NNP\", \"lemma\": \"3186C/T\", \"word_idx\": \"1\", \"dep_parent\": \"3\"}, \"children\": []}]}, {\"attrib\": {\"token_idx\": \"47\", \"word\": \"response\", \"dep_label\": \"dobj\", \"pos\": \"NN\", \"lemma\": \"response\", \"word_idx\": \"5\", \"dep_parent\": \"4\"}, \"children\": [{\"attrib\": {\"token_idx\": \"35\", \"word\": \"repaglinide\", \"dep_label\": \"compound\", \"pos\": \"NN\", \"lemma\": \"repaglinide\", \"word_idx\": \"4\", \"dep_parent\": \"6\"}, \"children\": []}, {\"attrib\": {\"token_idx\": \"67\", \"word\": \"patients\", \"dep_label\": \"nmod\", \"pos\": \"NNS\", \"lemma\": \"patient\", \"word_idx\": \"8\", \"dep_parent\": \"6\"}, \"children\": [{\"attrib\": {\"token_idx\": \"56\", \"word\": \"in\", \"dep_label\": \"case\", \"pos\": \"IN\", \"lemma\": \"in\", \"word_idx\": \"6\", \"dep_parent\": \"9\"}, \"children\": []}, {\"attrib\": {\"token_idx\": \"59\", \"word\": \"Chinese\", \"dep_label\": \"amod\", \"pos\": \"JJ\", \"lemma\": \"chinese\", \"word_idx\": \"7\", \"dep_parent\": \"9\"}, \"children\": []}, {\"attrib\": {\"token_idx\": \"88\", \"word\": \"diabetes\", \"dep_label\": \"nmod\", \"pos\": \"NN\", \"lemma\": \"diabetes\", \"word_idx\": \"12\", \"dep_parent\": \"9\"}, \"children\": [{\"attrib\": {\"token_idx\": \"76\", \"word\": \"with\", \"dep_label\": \"case\", \"pos\": \"IN\", \"lemma\": \"with\", \"word_idx\": \"9\", \"dep_parent\": \"13\"}, \"children\": []}, {\"attrib\": {\"token_idx\": \"81\", \"word\": \"Type\", \"dep_label\": \"compound\", \"pos\": \"NN\", \"lemma\": \"type\", \"word_idx\": \"10\", \"dep_parent\": \"13\"}, \"children\": []}, {\"attrib\": {\"token_idx\": \"86\", \"word\": \"2\", \"dep_label\": \"nummod\", \"pos\": \"CD\", \"lemma\": \"2\", \"word_idx\": \"11\", \"dep_parent\": \"13\"}, \"children\": []}]}]}, {\"attrib\": {\"token_idx\": \"97\", \"word\": \"mellitus\", \"dep_label\": \"dep\", \"pos\": \"NN\", \"lemma\": \"mellitus\", \"word_idx\": \"13\", \"dep_parent\": \"6\"}, \"children\": []}]}]};\n",
       "var highlightIdxs = [[0], [12, 13]];\n",
       "\n",
       "// Highlight words / nodes\n",
       "var COLORS = [\"#ff5c33\", \"#ffcc00\", \"#33cc33\", \"#3399ff\"];\n",
       "function highlightWords() {\n",
       "  for (var i=0; i < highlightIdxs.length; i++) {\n",
       "    var c = COLORS[i];\n",
       "    var idxs = highlightIdxs[i];\n",
       "    for (var j=0; j < idxs.length; j++) {\n",
       "      d3.selectAll(\".word-\"+chartId+\"-\"+idxs[j]).style(\"stroke\", c).style(\"background\", c);\n",
       "    }\n",
       "  }\n",
       "}\n",
       "\n",
       "// Constants\n",
       "var margin = {top: 20, right: 20, bottom: 20, left: 20},\n",
       "width = 800 - margin.left - margin.right,\n",
       "height = 350 - margin.top - margin.bottom,\n",
       "R = 5;\n",
       "\n",
       "// Create the d3 tree object\n",
       "var tree = d3.layout.tree()\n",
       "  .size([width, height]);\n",
       "\n",
       "// Create the svg canvas\n",
       "var svg = d3.select(\"#tree-chart-\" + chartId)\n",
       "  .append(\"svg\")\n",
       "  .attr(\"width\", width + margin.left + margin.right)\n",
       "  .attr(\"height\", height + margin.top + margin.bottom)\n",
       "  .append(\"g\")\n",
       "  .attr(\"transform\", \"translate(\" + margin.left + \",\" + margin.top + \")\");\n",
       "\n",
       "function renderTree() {\n",
       "  var nodes = tree.nodes(root),\n",
       "  edges = tree.links(nodes);\n",
       "\n",
       "  // Place the nodes\n",
       "  var nodeGroups = svg.selectAll(\"g.node\")\n",
       "    .data(nodes)\n",
       "    .enter().append(\"g\")\n",
       "    .attr(\"class\", \"node\")\n",
       "    .attr(\"transform\", function(d) { return \"translate(\" + d.x + \",\" + d.y + \")\"; });\n",
       "       \n",
       "  // Append circles\n",
       "  nodeGroups.append(\"circle\")\n",
       "    //.on(\"click\", function() {\n",
       "    //  d3.select(this).classed(\"highlight\", !d3.select(this).classed(\"highlight\")); })\n",
       "    .attr(\"r\", R)\n",
       "    .attr(\"class\", function(d) { return \"word-\"+chartId+\"-\"+d.attrib.word_idx; });\n",
       "     \n",
       "  // Append the actual word\n",
       "  nodeGroups.append(\"text\")\n",
       "    .text(function(d) { return d.attrib.word; })\n",
       "    .attr(\"text-anchor\", function(d) { \n",
       "      return d.children && d.children.length > 0 ? \"start\" : \"middle\"; })\n",
       "    .attr(\"dx\", function(d) { \n",
       "      return d.children && d.children.length > 0 ? R + 3 : 0; })\n",
       "    .attr(\"dy\", function(d) { \n",
       "      return d.children && d.children.length > 0 ? 0 : 3*R + 3; });\n",
       "\n",
       "  // Place the edges\n",
       "  var edgePaths = svg.selectAll(\"path\")\n",
       "    .data(edges)\n",
       "    .enter().append(\"path\")\n",
       "    .attr(\"class\", \"edge\")\n",
       "    .on(\"click\", function() {\n",
       "      d3.select(this).classed(\"highlight\", !d3.select(this).classed(\"highlight\")); })\n",
       "    .attr(\"d\", d3.svg.diagonal());\n",
       "}\n",
       "\n",
       "renderTree();\n",
       "highlightWords();\n",
       "});\n"
      ]
     },
     "metadata": {},
     "output_type": "display_data"
    }
   ],
   "source": [
    "R[2].render()"
   ]
  },
  {
   "cell_type": "markdown",
   "metadata": {},
   "source": [
    "Finally, we can pickle the extracted candidates from our `Relations` object for later use."
   ]
  },
  {
   "cell_type": "code",
   "execution_count": 6,
   "metadata": {
    "collapsed": true
   },
   "outputs": [],
   "source": [
    "R.dump_candidates('gene_phen_relation_example/gene_phen_saved_relations_v2.pkl')"
   ]
  }
 ],
 "metadata": {
  "celltoolbar": "Raw Cell Format",
  "kernelspec": {
   "display_name": "Python 2",
   "language": "python",
   "name": "python2"
  },
  "language_info": {
   "codemirror_mode": {
    "name": "ipython",
    "version": 2
   },
   "file_extension": ".py",
   "mimetype": "text/x-python",
   "name": "python",
   "nbconvert_exporter": "python",
   "pygments_lexer": "ipython2",
   "version": "2.7.11"
  }
 },
 "nbformat": 4,
 "nbformat_minor": 0
}
