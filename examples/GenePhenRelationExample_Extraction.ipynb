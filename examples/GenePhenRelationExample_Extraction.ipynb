{
 "cells": [
  {
   "cell_type": "markdown",
   "metadata": {},
   "source": [
    "# Finding causal genotype-phenotype relations with ddlite: extraction\n",
    "\n",
    "## Introduction\n",
    "In this example **ddlite** app, we'll build a system to indentify causal relationships between genotypes and phenotypes from raw journal articles. For an end-to-end example, see **GeneTaggerExample_Extraction.ipynb** and **GeneTaggerExample_Learning.ipynb**."
   ]
  },
  {
   "cell_type": "code",
   "execution_count": 1,
   "metadata": {
    "collapsed": false
   },
   "outputs": [],
   "source": [
    "%load_ext autoreload\n",
    "%autoreload 2\n",
    "\n",
    "import cPickle, os, sys\n",
    "sys.path.insert(1, os.path.join(sys.path[0], '..'))\n",
    "\n",
    "from ddlite import *"
   ]
  },
  {
   "cell_type": "markdown",
   "metadata": {},
   "source": [
    "## Processing the input data\n",
    "We already downloaded the raw HTML for ??? relevant article pages from PubMed. These can be found in the `data` folder. We can use ddlite's `DocParser` to read in the article text. It uses CoreNLP via ddlite's `SentenceParser` to parse each sentence. This can take a little while, so if the example has already been run, we'll reload it."
   ]
  },
  {
   "cell_type": "code",
   "execution_count": 2,
   "metadata": {
    "collapsed": false
   },
   "outputs": [
    {
     "name": "stdout",
     "output_type": "stream",
     "text": [
      "Sentence(words=[u'Common', u'Inherited', u'Variation', u'in', u'Mitochondrial', u'Genes', u'is', u'not', u'Enriched', u'for', u'Associations', u'with', u'Type', u'2', u'Diabetes', u'or', u'Related', u'Glycemic', u'Traits'], lemmas=[u'common', u'inherit', u'variation', u'in', u'mitochondrial', u'gene', u'be', u'not', u'enrich', u'for', u'association', u'with', u'type', u'2', u'Diabetes', u'or', u'related', u'glycemic', u'trait'], poses=[u'JJ', u'VBN', u'NN', u'IN', u'JJ', u'NNS', u'VBZ', u'RB', u'VBN', u'IN', u'NNS', u'IN', u'NN', u'CD', u'NNP', u'CC', u'JJ', u'JJ', u'NNS'], dep_parents=[3, 3, 9, 6, 6, 3, 9, 9, 0, 11, 9, 13, 11, 15, 13, 15, 18, 15, 15], dep_labels=[u'amod', u'amod', u'nsubjpass', u'case', u'amod', u'nmod', u'auxpass', u'neg', u'ROOT', u'case', u'nmod', u'case', u'nmod', u'nummod', u'dep', u'cc', u'amod', u'conj', u'dep'], sent_id=0, doc_id=0, text='Common Inherited Variation in Mitochondrial Genes is not Enriched for Associations with Type 2 Diabetes or Related Glycemic Traits', token_idxs=[0, 7, 17, 27, 30, 44, 50, 53, 57, 66, 70, 83, 88, 93, 95, 104, 107, 115, 124])\n"
     ]
    }
   ],
   "source": [
    "dp = DocParser('gene_phen_relation_example/data/', TextParser())\n",
    "\n",
    "pkl_f = 'gene_phen_relation_example/gene_phen_saved_sents_v1.pkl'\n",
    "try:\n",
    "    with open(pkl_f, 'rb') as f:\n",
    "        sents = cPickle.load(f)\n",
    "except:\n",
    "    %time sents = dp.parseDocSentences()\n",
    "    with open(pkl_f, 'w+') as f:\n",
    "        cPickle.dump(sents, f)\n",
    "\n",
    "print sents[0]"
   ]
  },
  {
   "cell_type": "markdown",
   "metadata": {},
   "source": [
    "## Extracting relation candidates with matchers\n",
    "Extracting candidates for relations in ddlite is done with `Matcher` objects. Here, we'll use two `DictionaryMatcher`s. We have access to pretty comprehensive gene and phenotype dictionaries. Let's load them in and create the `DictionaryMatcher`s."
   ]
  },
  {
   "cell_type": "code",
   "execution_count": 3,
   "metadata": {
    "collapsed": false
   },
   "outputs": [],
   "source": [
    "# Schema is: ENSEMBL_ID | NAME | TYPE (refseq, canonical, non-canonical)\n",
    "genes = [line.rstrip().split('\\t')[1] for line in open('gene_phen_relation_example/dicts/ensembl_genes.tsv')]\n",
    "genes = filter(lambda g : len(g) > 3, genes)\n",
    "\n",
    "# Schema is: HPO_ID | NAME | TYPE (exact, lemma)\n",
    "phenos = [line.rstrip().split('\\t')[1] for line in open('gene_phen_relation_example/dicts/pheno_terms.tsv')]\n",
    "\n",
    "GM = DictionaryMatch('G', genes, ignore_case=False)\n",
    "PM = DictionaryMatch('P', phenos)"
   ]
  },
  {
   "cell_type": "markdown",
   "metadata": {},
   "source": [
    "If we wanted to define more `Matcher` for, say, genes, we could use multiple `Matcher` objects with a `MultiMatcher`. For now, we'll just use the single `DictionaryMatcher` for both classes. We'll use this to extract our candidate relations from the sentences into an `Relations` object. Using just the matchers will likely provide high recall but poor precision. This is because not all genotype-phenotype mention pairs in the same sentence represent a causal pairing. The `Relations` object we create can be used in a `CandidateModel`. This allows us to learn a model to predict whether each candidate pair represents a causal pair or not."
   ]
  },
  {
   "cell_type": "code",
   "execution_count": 7,
   "metadata": {
    "collapsed": false,
    "scrolled": false
   },
   "outputs": [],
   "source": [
    "R = Relations(sents, GM, PM)"
   ]
  },
  {
   "cell_type": "markdown",
   "metadata": {},
   "source": [
    "We can visualize contexts for our extractions too. This may help in writing labeling functions in a learning task."
   ]
  },
  {
   "cell_type": "code",
   "execution_count": 12,
   "metadata": {
    "collapsed": false
   },
   "outputs": [
    {
     "data": {
      "text/html": [
       "<style>\n",
       ".node {\n",
       "  cursor: pointer;\n",
       "}\n",
       "\n",
       ".node circle {\n",
       "  fill: #fff;\n",
       "  stroke: steelblue;\n",
       "  stroke-width: 3px;\n",
       "}\n",
       "\n",
       ".node text {\n",
       "  font: 12px sans-serif;\n",
       "}\n",
       "\n",
       ".edge {\n",
       "  fill: none;\n",
       "  stroke: #ccc;\n",
       "  stroke-width: 2px;\n",
       "  cursor: pointer;\n",
       "}\n",
       "\n",
       ".highlight {\n",
       "  stroke: red;\n",
       "  stroke-width: 3px;\n",
       "}\n",
       "</style>\n",
       "\n",
       "<!--Provide the canvas id (twice) and the words via python string formatting here--!>\n",
       "<div id=\"tree-chart-8896268522324037898\"></div>\n",
       "<div id=\"raw-seq-8896268522324037898\">\n",
       "<span class=\"word-8896268522324037898-0\">Two</span> <span class=\"word-8896268522324037898-1\">neuropathies</span> <span class=\"word-8896268522324037898-2\">,</span> <span class=\"word-8896268522324037898-3\">Charcot-Marie-Tooth</span> <span class=\"word-8896268522324037898-4\">type</span> <span class=\"word-8896268522324037898-5\">2A</span> <span class=\"word-8896268522324037898-6\">and</span> <span class=\"word-8896268522324037898-7\">autosomal</span> <span class=\"word-8896268522324037898-8\">dominant</span> <span class=\"word-8896268522324037898-9\">optic</span> <span class=\"word-8896268522324037898-10\">atrophy</span> <span class=\"word-8896268522324037898-11\">,</span> <span class=\"word-8896268522324037898-12\">are</span> <span class=\"word-8896268522324037898-13\">caused</span> <span class=\"word-8896268522324037898-14\">by</span> <span class=\"word-8896268522324037898-15\">mutations</span> <span class=\"word-8896268522324037898-16\">in</span> <span class=\"word-8896268522324037898-17\">essential</span> <span class=\"word-8896268522324037898-18\">fusion</span> <span class=\"word-8896268522324037898-19\">components</span> <span class=\"word-8896268522324037898-20\">,</span> <span class=\"word-8896268522324037898-21\">namely</span> <span class=\"word-8896268522324037898-22\">,</span> <span class=\"word-8896268522324037898-23\">mitofusin</span> <span class=\"word-8896268522324037898-24\">2</span> <span class=\"word-8896268522324037898-25\">or</span> <span class=\"word-8896268522324037898-26\">OPA1</span> <span class=\"word-8896268522324037898-27\">.</span>\n",
       "</div>\n"
      ]
     },
     "metadata": {},
     "output_type": "display_data"
    },
    {
     "data": {
      "application/javascript": [
       "$.getScript(\"http://d3js.org/d3.v3.min.js\", function () {\n",
       "// See http://bl.ocks.org/d3noob/8375092\n",
       "// Three vars need to be provided via python string formatting:\n",
       "var chartId = \"8896268522324037898\";\n",
       "var root = {\"attrib\": {\"token_idx\": \"1517\", \"word\": \"caused\", \"dep_label\": \"ROOT\", \"pos\": \"VBN\", \"lemma\": \"cause\", \"word_idx\": \"13\", \"dep_parent\": \"0\"}, \"children\": [{\"attrib\": {\"token_idx\": \"1433\", \"word\": \"neuropathies\", \"dep_label\": \"nsubjpass\", \"pos\": \"NNS\", \"lemma\": \"neuropathy\", \"word_idx\": \"1\", \"dep_parent\": \"14\"}, \"children\": [{\"attrib\": {\"token_idx\": \"1429\", \"word\": \"Two\", \"dep_label\": \"nummod\", \"pos\": \"CD\", \"lemma\": \"two\", \"word_idx\": \"0\", \"dep_parent\": \"2\"}, \"children\": []}, {\"attrib\": {\"token_idx\": \"1445\", \"word\": \",\", \"dep_label\": \"punct\", \"pos\": \",\", \"lemma\": \",\", \"word_idx\": \"2\", \"dep_parent\": \"2\"}, \"children\": []}, {\"attrib\": {\"token_idx\": \"1472\", \"word\": \"2A\", \"dep_label\": \"appos\", \"pos\": \"NN\", \"lemma\": \"2a\", \"word_idx\": \"5\", \"dep_parent\": \"2\"}, \"children\": [{\"attrib\": {\"token_idx\": \"1447\", \"word\": \"Charcot-Marie-Tooth\", \"dep_label\": \"compound\", \"pos\": \"NNP\", \"lemma\": \"Charcot-Marie-Tooth\", \"word_idx\": \"3\", \"dep_parent\": \"6\"}, \"children\": []}, {\"attrib\": {\"token_idx\": \"1467\", \"word\": \"type\", \"dep_label\": \"compound\", \"pos\": \"NN\", \"lemma\": \"type\", \"word_idx\": \"4\", \"dep_parent\": \"6\"}, \"children\": []}, {\"attrib\": {\"token_idx\": \"1475\", \"word\": \"and\", \"dep_label\": \"cc\", \"pos\": \"CC\", \"lemma\": \"and\", \"word_idx\": \"6\", \"dep_parent\": \"6\"}, \"children\": []}, {\"attrib\": {\"token_idx\": \"1504\", \"word\": \"atrophy\", \"dep_label\": \"conj\", \"pos\": \"NN\", \"lemma\": \"atrophy\", \"word_idx\": \"10\", \"dep_parent\": \"6\"}, \"children\": [{\"attrib\": {\"token_idx\": \"1479\", \"word\": \"autosomal\", \"dep_label\": \"amod\", \"pos\": \"JJ\", \"lemma\": \"autosomal\", \"word_idx\": \"7\", \"dep_parent\": \"11\"}, \"children\": []}, {\"attrib\": {\"token_idx\": \"1489\", \"word\": \"dominant\", \"dep_label\": \"amod\", \"pos\": \"JJ\", \"lemma\": \"dominant\", \"word_idx\": \"8\", \"dep_parent\": \"11\"}, \"children\": []}, {\"attrib\": {\"token_idx\": \"1498\", \"word\": \"optic\", \"dep_label\": \"amod\", \"pos\": \"JJ\", \"lemma\": \"optic\", \"word_idx\": \"9\", \"dep_parent\": \"11\"}, \"children\": []}]}]}, {\"attrib\": {\"token_idx\": \"1511\", \"word\": \",\", \"dep_label\": \"punct\", \"pos\": \",\", \"lemma\": \",\", \"word_idx\": \"11\", \"dep_parent\": \"2\"}, \"children\": []}]}, {\"attrib\": {\"token_idx\": \"1513\", \"word\": \"are\", \"dep_label\": \"auxpass\", \"pos\": \"VBP\", \"lemma\": \"be\", \"word_idx\": \"12\", \"dep_parent\": \"14\"}, \"children\": []}, {\"attrib\": {\"token_idx\": \"1527\", \"word\": \"mutations\", \"dep_label\": \"nmod\", \"pos\": \"NNS\", \"lemma\": \"mutation\", \"word_idx\": \"15\", \"dep_parent\": \"14\"}, \"children\": [{\"attrib\": {\"token_idx\": \"1524\", \"word\": \"by\", \"dep_label\": \"case\", \"pos\": \"IN\", \"lemma\": \"by\", \"word_idx\": \"14\", \"dep_parent\": \"16\"}, \"children\": []}, {\"attrib\": {\"token_idx\": \"1557\", \"word\": \"components\", \"dep_label\": \"nmod\", \"pos\": \"NNS\", \"lemma\": \"component\", \"word_idx\": \"19\", \"dep_parent\": \"16\"}, \"children\": [{\"attrib\": {\"token_idx\": \"1537\", \"word\": \"in\", \"dep_label\": \"case\", \"pos\": \"IN\", \"lemma\": \"in\", \"word_idx\": \"16\", \"dep_parent\": \"20\"}, \"children\": []}, {\"attrib\": {\"token_idx\": \"1540\", \"word\": \"essential\", \"dep_label\": \"amod\", \"pos\": \"JJ\", \"lemma\": \"essential\", \"word_idx\": \"17\", \"dep_parent\": \"20\"}, \"children\": []}, {\"attrib\": {\"token_idx\": \"1550\", \"word\": \"fusion\", \"dep_label\": \"compound\", \"pos\": \"NN\", \"lemma\": \"fusion\", \"word_idx\": \"18\", \"dep_parent\": \"20\"}, \"children\": []}]}, {\"attrib\": {\"token_idx\": \"1567\", \"word\": \",\", \"dep_label\": \"punct\", \"pos\": \",\", \"lemma\": \",\", \"word_idx\": \"20\", \"dep_parent\": \"16\"}, \"children\": []}, {\"attrib\": {\"token_idx\": \"1569\", \"word\": \"namely\", \"dep_label\": \"advmod\", \"pos\": \"RB\", \"lemma\": \"namely\", \"word_idx\": \"21\", \"dep_parent\": \"16\"}, \"children\": []}, {\"attrib\": {\"token_idx\": \"1575\", \"word\": \",\", \"dep_label\": \"punct\", \"pos\": \",\", \"lemma\": \",\", \"word_idx\": \"22\", \"dep_parent\": \"16\"}, \"children\": []}, {\"attrib\": {\"token_idx\": \"1577\", \"word\": \"mitofusin\", \"dep_label\": \"appos\", \"pos\": \"NN\", \"lemma\": \"mitofusin\", \"word_idx\": \"23\", \"dep_parent\": \"16\"}, \"children\": [{\"attrib\": {\"token_idx\": \"1587\", \"word\": \"2\", \"dep_label\": \"nummod\", \"pos\": \"CD\", \"lemma\": \"2\", \"word_idx\": \"24\", \"dep_parent\": \"24\"}, \"children\": []}, {\"attrib\": {\"token_idx\": \"1589\", \"word\": \"or\", \"dep_label\": \"cc\", \"pos\": \"CC\", \"lemma\": \"or\", \"word_idx\": \"25\", \"dep_parent\": \"24\"}, \"children\": []}, {\"attrib\": {\"token_idx\": \"1592\", \"word\": \"OPA1\", \"dep_label\": \"conj\", \"pos\": \"NN\", \"lemma\": \"opa1\", \"word_idx\": \"26\", \"dep_parent\": \"24\"}, \"children\": []}]}]}, {\"attrib\": {\"token_idx\": \"1596\", \"word\": \".\", \"dep_label\": \"punct\", \"pos\": \".\", \"lemma\": \".\", \"word_idx\": \"27\", \"dep_parent\": \"14\"}, \"children\": []}]};\n",
       "var highlightIdxs = [[26], [9, 10]];\n",
       "\n",
       "// Highlight words / nodes\n",
       "var COLORS = [\"#ff5c33\", \"#ffcc00\", \"#33cc33\", \"#3399ff\"];\n",
       "function highlightWords() {\n",
       "  for (var i=0; i < highlightIdxs.length; i++) {\n",
       "    var c = COLORS[i];\n",
       "    var idxs = highlightIdxs[i];\n",
       "    for (var j=0; j < idxs.length; j++) {\n",
       "      d3.selectAll(\".word-\"+chartId+\"-\"+idxs[j]).style(\"stroke\", c).style(\"background\", c);\n",
       "    }\n",
       "  }\n",
       "}\n",
       "\n",
       "// Constants\n",
       "var margin = {top: 20, right: 20, bottom: 20, left: 20},\n",
       "width = 800 - margin.left - margin.right,\n",
       "height = 350 - margin.top - margin.bottom,\n",
       "R = 5;\n",
       "\n",
       "// Create the d3 tree object\n",
       "var tree = d3.layout.tree()\n",
       "  .size([width, height]);\n",
       "\n",
       "// Create the svg canvas\n",
       "var svg = d3.select(\"#tree-chart-\" + chartId)\n",
       "  .append(\"svg\")\n",
       "  .attr(\"width\", width + margin.left + margin.right)\n",
       "  .attr(\"height\", height + margin.top + margin.bottom)\n",
       "  .append(\"g\")\n",
       "  .attr(\"transform\", \"translate(\" + margin.left + \",\" + margin.top + \")\");\n",
       "\n",
       "function renderTree() {\n",
       "  var nodes = tree.nodes(root),\n",
       "  edges = tree.links(nodes);\n",
       "\n",
       "  // Place the nodes\n",
       "  var nodeGroups = svg.selectAll(\"g.node\")\n",
       "    .data(nodes)\n",
       "    .enter().append(\"g\")\n",
       "    .attr(\"class\", \"node\")\n",
       "    .attr(\"transform\", function(d) { return \"translate(\" + d.x + \",\" + d.y + \")\"; });\n",
       "       \n",
       "  // Append circles\n",
       "  nodeGroups.append(\"circle\")\n",
       "    //.on(\"click\", function() {\n",
       "    //  d3.select(this).classed(\"highlight\", !d3.select(this).classed(\"highlight\")); })\n",
       "    .attr(\"r\", R)\n",
       "    .attr(\"class\", function(d) { return \"word-\"+chartId+\"-\"+d.attrib.word_idx; });\n",
       "     \n",
       "  // Append the actual word\n",
       "  nodeGroups.append(\"text\")\n",
       "    .text(function(d) { return d.attrib.word; })\n",
       "    .attr(\"text-anchor\", function(d) { \n",
       "      return d.children && d.children.length > 0 ? \"start\" : \"middle\"; })\n",
       "    .attr(\"dx\", function(d) { \n",
       "      return d.children && d.children.length > 0 ? R + 3 : 0; })\n",
       "    .attr(\"dy\", function(d) { \n",
       "      return d.children && d.children.length > 0 ? 0 : 3*R + 3; });\n",
       "\n",
       "  // Place the edges\n",
       "  var edgePaths = svg.selectAll(\"path\")\n",
       "    .data(edges)\n",
       "    .enter().append(\"path\")\n",
       "    .attr(\"class\", \"edge\")\n",
       "    .on(\"click\", function() {\n",
       "      d3.select(this).classed(\"highlight\", !d3.select(this).classed(\"highlight\")); })\n",
       "    .attr(\"d\", d3.svg.diagonal());\n",
       "}\n",
       "\n",
       "renderTree();\n",
       "highlightWords();\n",
       "});\n"
      ]
     },
     "metadata": {},
     "output_type": "display_data"
    }
   ],
   "source": [
    "R[2].render()"
   ]
  },
  {
   "cell_type": "markdown",
   "metadata": {},
   "source": [
    "Finally, we can pickle the extracted candidates from our `Relations` object for later use."
   ]
  },
  {
   "cell_type": "code",
   "execution_count": 13,
   "metadata": {
    "collapsed": true
   },
   "outputs": [],
   "source": [
    "R.dump_candidates('gene_phen_relation_example/gene_phen_saved_relations_v1.pkl')"
   ]
  }
 ],
 "metadata": {
  "celltoolbar": "Raw Cell Format",
  "kernelspec": {
   "display_name": "Python 2",
   "language": "python",
   "name": "python2"
  },
  "language_info": {
   "codemirror_mode": {
    "name": "ipython",
    "version": 2
   },
   "file_extension": ".py",
   "mimetype": "text/x-python",
   "name": "python",
   "nbconvert_exporter": "python",
   "pygments_lexer": "ipython2",
   "version": "2.7.11"
  }
 },
 "nbformat": 4,
 "nbformat_minor": 0
}
