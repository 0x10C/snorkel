{
 "cells": [
  {
   "cell_type": "markdown",
   "metadata": {},
   "source": [
    "## Initializing Elasitcsearch\n",
    "\n",
    "We begin by initializing Elasticsearch with the names of our index and type. You should have Elasticsearch installed and already run the \"bin/elasticsearch\" command. For more information you can visit: https://www.elastic.co/guide/en/elasticsearch/guide/current/running-elasticsearch.html.\n",
    "\n",
    "Here we initialize an object where corpus will be the name of the index with a single type articles, and a field named sentence. It will automatically index the Document from our snorkelSession. \n",
    "\n",
    "By default each document will contain a field corresponding to the sentence ID number, the sentence and an empty vector of 'o's (this will be useful for generating candidate tags below). Once everything has been indexed we can see its status with the amount of documents it contains as well as the size.\n",
    "\n",
    "### Generate Tags\n",
    "\n",
    "Using our Spouse candidates we will generate a new field that tags the corresponding position in the sentence. This is done using the `cands` keyword when initializing the session, or with the `generateTags` function."
   ]
  },
  {
   "cell_type": "code",
   "execution_count": 1,
   "metadata": {},
   "outputs": [
    {
     "name": "stdout",
     "output_type": "stream",
     "text": [
      "Beginning indexing\n",
      "Index Information: \n",
      " \n",
      "health status index  uuid                   pri rep docs.count docs.deleted store.size pri.store.size\n",
      "yellow open   corpus nL6uLdQcQ7elkHllACWqYw   5   1      67820            0     23.8mb         23.8mb\n",
      "\n",
      "2591 items indexed\n",
      "\n",
      "Begin generating tags\n",
      "27644 candidates of 27688 tagged\n"
     ]
    }
   ],
   "source": [
    "from snorkel import SnorkelSession\n",
    "from snorkel.models import candidate_subclass\n",
    "from elastics import elasticSession ,printResults,deleteIndex\n",
    "\n",
    "# import os\n",
    "\n",
    "# # TO USE A DATABASE OTHER THAN SQLITE, USE THIS LINE\n",
    "# # Note that this is necessary for parallel execution amongst other things...\n",
    "# os.environ['SNORKELDB'] = 'postgres:///snorkel-intro'\n",
    "\n",
    "#Repeat the Spouse definition from the tutorial\n",
    "Spouse = candidate_subclass('Spouse', ['person1', 'person2'])\n",
    "\n",
    "eSearch=elasticSession(cands=Spouse)\n",
    "\n",
    "#To delete the corpus index, needed to re-run\n",
    "# deleteIndex(\"corpus\")"
   ]
  },
  {
   "cell_type": "markdown",
   "metadata": {},
   "source": [
    "## Querying the Corpus\n",
    "\n",
    "The type of query that we perform is defined by the first arguement. Each query also contains an optional size and slop keyword parameter. Size specifies the number of results we wish to return and slop is the amount of acceptable positions the values in the query can be away from each other. \n",
    "\n",
    "Size and slop as defaulted to 5 and 0 respectively.\n",
    "https://www.elastic.co/guide/en/elasticsearch/guide/current/slop.html\n",
    "\n",
    "To display the results we can use the printResult function, which takes the search result as its first parameter and the names of the fields you wish to print out.\n",
    "\n",
    "*Queries are case sensitive\n"
   ]
  },
  {
   "cell_type": "markdown",
   "metadata": {},
   "source": [
    "### Arbitrary Search\n",
    "\n",
    "Once we have all our documents indexed we can perform a simple query. Using the `match` keyword, we query our sentence field in every document for the words married OR children. Matches that contain both and their entirety will be scored higher. After performing the query we print the results which are sorted in a decsending order. \n",
    "\n",
    "https://www.elastic.co/guide/en/elasticsearch/reference/current/query-dsl-match-query.html"
   ]
  },
  {
   "cell_type": "code",
   "execution_count": 2,
   "metadata": {},
   "outputs": [
    {
     "name": "stdout",
     "output_type": "stream",
     "text": [
      "Number of hits \n",
      "2354\n",
      "Result 1\n",
      "-------------------\n",
      "sentence\n",
      "He is married with        three children.     \n",
      "\n",
      "Result 2\n",
      "-------------------\n",
      "sentence\n",
      "He was married twice and had five children.      \n",
      "\n",
      "Result 3\n",
      "-------------------\n",
      "sentence\n",
      "He was later married and had two children.   \n",
      "\n",
      "Result 4\n",
      "-------------------\n",
      "sentence\n",
      "She got married to my father, Joseph Ewherido, with whom she had eight children, all males.\n",
      "\n",
      "Result 5\n",
      "-------------------\n",
      "sentence\n",
      "All of the women were married (or divorced!), and some had children.   \n",
      "\n"
     ]
    }
   ],
   "source": [
    "query=\"married children\"\n",
    "searchResult = eSearch.searchIndex(\"match\",query)\n",
    "printResults(searchResult,\"sentence\")"
   ]
  },
  {
   "cell_type": "markdown",
   "metadata": {},
   "source": [
    "### Search contain all values in query\n",
    "\n",
    "Specifying a slop parameter will force the query to only return results that contain every word in the query. Explicitly stating a slop=0 will return results where the query values appear side by side. This query looks for white AND trousers that occur in a sentence. \n",
    "\n",
    "https://www.elastic.co/guide/en/elasticsearch/reference/current/query-dsl-match-query-phrase.html"
   ]
  },
  {
   "cell_type": "code",
   "execution_count": 3,
   "metadata": {
    "scrolled": true
   },
   "outputs": [
    {
     "name": "stdout",
     "output_type": "stream",
     "text": [
      "Number of hits \n",
      "8\n",
      "Result 1\n",
      "-------------------\n",
      "sentence\n",
      "Dressed in a smart black shirt and white trousers, the lawyer looked in good spirits despite a difficult fight ahead.     \n",
      "\n",
      "Result 2\n",
      "-------------------\n",
      "sentence\n",
      "Amal, who was dressed in a smart black shirt and white trousers, looked in good spirits on Monday despite a difficult fight ahead.   \n",
      "\n",
      "Result 3\n",
      "-------------------\n",
      "sentence\n",
      "Clad in a breton top, white trousers and a matching cap, the Boomtown Rats frontman looked like he couldn't wait to get underway with the festivities.   \n",
      "\n"
     ]
    }
   ],
   "source": [
    "query=\"white trousers\"\n",
    "searchResult = eSearch.searchIndex(\"match\",query,slop=0,size=3)\n",
    "printResults(searchResult,\"sentence\")"
   ]
  },
  {
   "cell_type": "markdown",
   "metadata": {},
   "source": [
    "### Positional Search\n",
    "\n",
    "Using a slop value for the above queries return a result that longer enforces the ordering of our query.  To search for a query where we want care about the ordering we would use the `position` keyword. This time specifying the slop defines the number of acceptable position shifts to have the query side by side, respective of order. This query is different from the `match` search above as this enforces an ordering of the query terms.\n",
    "\n",
    "The query string has to be passed in as a parameter as there individual terms. This type of query accepts any number of terms."
   ]
  },
  {
   "cell_type": "code",
   "execution_count": 4,
   "metadata": {
    "scrolled": true
   },
   "outputs": [
    {
     "name": "stdout",
     "output_type": "stream",
     "text": [
      "Number of hits \n",
      "2\n",
      "Result 1\n",
      "-------------------\n",
      "sentence\n",
      "It makes stops in North Carolina, Washington, D.C., Pennsylvania, Massachusetts, Minnesota, Illinois, Missouri, New York, Ohio, Florida, Georgia, Texas, California and Colorado.   \n",
      "\n",
      "Result 2\n",
      "-------------------\n",
      "sentence\n",
      "Dozens of confused pedestrians trying to find detours around the barricades early Friday afternoon stopped on a corner of Arch Street in front of the Pennsylvania Convention Center to ask directions from Peter and Toby Christensen, an LDS couple from Colorado working as volunteers this week for the Catholic Archdiocese of Philadelphia.   \n",
      "\n"
     ]
    }
   ],
   "source": [
    "searchResult = eSearch.searchIndex(\"position\",\"Pennsylvania\",\"Colorado\",slop =20)\n",
    "printResults(searchResult,\"sentence\")"
   ]
  },
  {
   "cell_type": "markdown",
   "metadata": {},
   "source": [
    "### Search between Candidates\n",
    "\n",
    "We can also search in between two candidates which were defined as PERSON in the spousal tutorial. Specifically, we are querying for PERSON married PERSON in that order. To do this we use the `inCand` keyword,followed by the word we want to search for.\n",
    "\n",
    "*All candidate searches only allow for a singular term"
   ]
  },
  {
   "cell_type": "code",
   "execution_count": 5,
   "metadata": {},
   "outputs": [
    {
     "name": "stdout",
     "output_type": "stream",
     "text": [
      "Number of hits \n",
      "226\n",
      "Result 1\n",
      "-------------------\n",
      "sentence\n",
      "Gifford and Ewart's daughter Victoria married Robert Kennedy's son Michael in 1981.   \n",
      "tagged\n",
      "OBJECT o OBJECT o OBJECT o OBJECT OBJECT o OBJECT o o\n",
      "lineNum\n",
      "24130\n",
      "\n",
      "Result 2\n",
      "-------------------\n",
      "sentence\n",
      "Lady Bird Johnson was born as Claudia Alta Taylor and married Lyndon B. Johnson in 1934.\n",
      "tagged\n",
      "OBJECT OBJECT OBJECT o o o OBJECT OBJECT OBJECT o o OBJECT OBJECT OBJECT o o\n",
      "lineNum\n",
      "64482\n",
      "\n",
      "Result 3\n",
      "-------------------\n",
      "sentence\n",
      "Parenthood star Erika Christensen has married cyclist Cole Maness.   \n",
      "tagged\n",
      "o o OBJECT OBJECT o o o OBJECT OBJECT\n",
      "lineNum\n",
      "63311\n",
      "\n",
      "Result 4\n",
      "-------------------\n",
      "sentence\n",
      "Williams married Van Veen on Saturday afternoon in a private ceremony at a ranch out West, her rep confirmed to the Los Angeles Times.\n",
      "tagged\n",
      "OBJECT o OBJECT OBJECT o o o o o o o o o o o o o o o o o o o o\n",
      "lineNum\n",
      "36263\n",
      "\n",
      "Result 5\n",
      "-------------------\n",
      "sentence\n",
      "Singer Wayne Newton married his wife, Kathleen, at Casa de Shenandoah in Las Vegas on April 9, 1994.\n",
      "tagged\n",
      "OBJECT OBJECT OBJECT o o o OBJECT o o o o o o o o o o o\n",
      "lineNum\n",
      "59361\n",
      "\n"
     ]
    }
   ],
   "source": [
    "result = eSearch.searchIndex(\"inCand\",\"married\",slop=100)\n",
    "printResults(result,\"sentence\",\"tagged\",\"lineNum\")\n"
   ]
  },
  {
   "cell_type": "markdown",
   "metadata": {},
   "source": [
    "### Search before candidate \n",
    "\n",
    "Using the `bCand` keyword we can search for the occurance of a term that appears before any PERSON. "
   ]
  },
  {
   "cell_type": "code",
   "execution_count": 6,
   "metadata": {},
   "outputs": [
    {
     "name": "stdout",
     "output_type": "stream",
     "text": [
      "Number of hits \n",
      "292\n",
      "Result 1\n",
      "-------------------\n",
      "sentence\n",
      "Chris Pratt   Nevermind that Jen FINALLY married Justin Theroux, after being engaged since 2012 –\n",
      "\n",
      "Result 2\n",
      "-------------------\n",
      "sentence\n",
      "Meanwhile, Amy Fisher got out of prison and married Louis Bellera in 2003, separating in 2007.   \n",
      "\n",
      "Result 3\n",
      "-------------------\n",
      "sentence\n",
      "He gained adoptive rights       'Violent': Kim Davis accused Thomas McIntyre of being violent and calling her a 'whore', married Joe Davis - but then divorced him and married McIntyre in September 2007.\n",
      "\n"
     ]
    }
   ],
   "source": [
    "result = eSearch.searchIndex(\"bCand\",\"married\",slop=100,size=3)\n",
    "printResults(result,\"sentence\")"
   ]
  },
  {
   "cell_type": "markdown",
   "metadata": {},
   "source": [
    "### Search after candidate \n",
    "\n",
    "Using the `aCand` keyword we can search for the occurance of a term that appears after any PERSON. "
   ]
  },
  {
   "cell_type": "code",
   "execution_count": 7,
   "metadata": {},
   "outputs": [
    {
     "name": "stdout",
     "output_type": "stream",
     "text": [
      "Number of hits \n",
      "319\n",
      "Result 1\n",
      "-------------------\n",
      "sentence\n",
      "Erin and her hubby, British rapper, Example (real name Elliot Gleave) married in Australia in May 2013.\n",
      "\n",
      "Result 2\n",
      "-------------------\n",
      "sentence\n",
      "All that glitters: Erin and husband Example married in 2013.\n",
      "\n",
      "Result 3\n",
      "-------------------\n",
      "sentence\n",
      "Singer Wayne Newton married his wife, Kathleen, at Casa de Shenandoah in Las Vegas on April 9, 1994.\n",
      "\n"
     ]
    }
   ],
   "source": [
    "result = eSearch.searchIndex(\"aCand\",\"married\",slop=100,size=3)\n",
    "printResults(result,\"sentence\")"
   ]
  },
  {
   "cell_type": "markdown",
   "metadata": {},
   "source": [
    "### Visualizing a Document\n",
    "\n",
    "We can get any document by it's line number. Here get the first sentence in our corpus and print the values stored in each field"
   ]
  },
  {
   "cell_type": "code",
   "execution_count": 8,
   "metadata": {},
   "outputs": [
    {
     "name": "stdout",
     "output_type": "stream",
     "text": [
      "Sentence\n",
      "First time round: Dwain Wallace and Kimberley Bailey were married in August 1984.\n",
      "Sentence number\n",
      "42743\n",
      "Tagged Candidates\n",
      "o o o OBJECT OBJECT o OBJECT OBJECT o o o o o\n"
     ]
    }
   ],
   "source": [
    "result = eSearch.getDoc(42743)\n",
    "print \"Sentence\"\n",
    "print result['_source']['sentence']\n",
    "print \"Sentence number\"\n",
    "print result['_source']['lineNum']\n",
    "print \"Tagged Candidates\"\n",
    "print result['_source']['tagged']"
   ]
  }
 ],
 "metadata": {
  "kernelspec": {
   "display_name": "Python 2",
   "language": "python",
   "name": "python2"
  },
  "language_info": {
   "codemirror_mode": {
    "name": "ipython",
    "version": 2
   },
   "file_extension": ".py",
   "mimetype": "text/x-python",
   "name": "python",
   "nbconvert_exporter": "python",
   "pygments_lexer": "ipython2",
   "version": "2.7.13"
  }
 },
 "nbformat": 4,
 "nbformat_minor": 2
}
