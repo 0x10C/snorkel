{
 "cells": [
  {
   "cell_type": "markdown",
   "metadata": {},
   "source": [
    "## Initializing Elasitcsearch\n",
    "\n",
    "We begin by initializing Elasticsearch with the names of our index and type. You should have Elasticsearch installed and already run the \"bin/elasticsearch\" command. For more information you can visit: https://www.elastic.co/guide/en/elasticsearch/guide/current/running-elasticsearch.html.\n",
    "\n",
    "Here we initialize an object where corpus will be the name of the index with a single type articles, and a field named sentence. It will automatically index the Document from our snorkelSession. \n",
    "\n",
    "By default each document will contain a field corresponding to the sentence ID number, the sentence and an empty vector of 'o's (this will be useful for generating candidate tags below). Once everything has been indexed we can see its status with the amount of documents it contains as well as the size.\n",
    "\n",
    "### Generate Tags\n",
    "\n",
    "Using our Spouse candidates we will generate a new field that tags the corresponding position in the sentence. This is done using the `cands` keyword when initializing the session, or with the `generateTags` function."
   ]
  },
  {
   "cell_type": "code",
   "execution_count": 2,
   "metadata": {},
   "outputs": [
    {
     "name": "stdout",
     "output_type": "stream",
     "text": [
      "asdf\n"
     ]
    }
   ],
   "source": [
    "from snorkel import SnorkelSession\n",
    "from snorkel.models import candidate_subclass\n",
    "from elastics import elasticSession ,printResults,deleteIndex\n",
    "\n",
    "# import os\n",
    "\n",
    "# # TO USE A DATABASE OTHER THAN SQLITE, USE THIS LINE\n",
    "# # Note that this is necessary for parallel execution amongst other things...\n",
    "# os.environ['SNORKELDB'] = 'postgres:///snorkel-intro'\n",
    "# deleteIndex(\"_all\")\n",
    "#Repeat the Spouse definition from the tutorial\n",
    "session = SnorkelSession()\n",
    "Spouse = candidate_subclass('Spouse', ['person1', 'person2'])\n",
    "print \"asdf\"\n",
    "for c in session.query(Spouse).all():\n",
    "    print c\n",
    "    print \"hi\"\n",
    "    break\n",
    "# eSearch=elasticSession(cands=Spouse)\n",
    "\n",
    "#To delete the corpus index, needed to re-run\n",
    "# deleteIndex(\"corpus\")"
   ]
  },
  {
   "cell_type": "markdown",
   "metadata": {},
   "source": [
    "## Querying the Corpus\n",
    "\n",
    "The type of query that we perform is defined by the first arguement. Each query also contains an optional size and slop keyword parameter. Size specifies the number of results we wish to return and slop is the amount of acceptable positions the values in the query can be away from each other. \n",
    "\n",
    "Size and slop as defaulted to 5 and 0 respectively.\n",
    "https://www.elastic.co/guide/en/elasticsearch/guide/current/slop.html\n",
    "\n",
    "To display the results we can use the printResult function, which takes the search result as its first parameter and the names of the fields you wish to print out.\n",
    "\n",
    "*Queries are case sensitive\n"
   ]
  },
  {
   "cell_type": "markdown",
   "metadata": {},
   "source": [
    "### Arbitrary Search\n",
    "\n",
    "Once we have all our documents indexed we can perform a simple query. Using the `match` keyword, we query our sentence field in every document for the words married OR children. Matches that contain both and their entirety will be scored higher. After performing the query we print the results which are sorted in a decsending order. \n",
    "\n",
    "https://www.elastic.co/guide/en/elasticsearch/reference/current/query-dsl-match-query.html"
   ]
  },
  {
   "cell_type": "code",
   "execution_count": null,
   "metadata": {
    "collapsed": true
   },
   "outputs": [],
   "source": [
    "query=\"married children\"\n",
    "searchResult = eSearch.searchIndex(\"match\",query)\n",
    "printResults(searchResult,\"sentence\")"
   ]
  },
  {
   "cell_type": "markdown",
   "metadata": {},
   "source": [
    "### Search contain all values in query\n",
    "\n",
    "Specifying a slop parameter will force the query to only return results that contain every word in the query. Explicitly stating a slop=0 will return results where the query values appear side by side. This query looks for white AND trousers that occur in a sentence. \n",
    "\n",
    "https://www.elastic.co/guide/en/elasticsearch/reference/current/query-dsl-match-query-phrase.html"
   ]
  },
  {
   "cell_type": "code",
   "execution_count": null,
   "metadata": {
    "collapsed": true,
    "scrolled": true
   },
   "outputs": [],
   "source": [
    "query=\"white trousers\"\n",
    "searchResult = eSearch.searchIndex(\"match\",query,slop=0,size=3)\n",
    "printResults(searchResult,\"sentence\")"
   ]
  },
  {
   "cell_type": "markdown",
   "metadata": {},
   "source": [
    "### Positional Search\n",
    "\n",
    "Using a slop value for the above queries return a result that longer enforces the ordering of our query.  To search for a query where we want care about the ordering we would use the `position` keyword. This time specifying the slop defines the number of acceptable position shifts to have the query side by side, respective of order. This query is different from the `match` search above as this enforces an ordering of the query terms.\n",
    "\n",
    "The query string has to be passed in as a parameter as there individual terms. This type of query accepts any number of terms."
   ]
  },
  {
   "cell_type": "code",
   "execution_count": null,
   "metadata": {
    "collapsed": true,
    "scrolled": true
   },
   "outputs": [],
   "source": [
    "searchResult = eSearch.searchIndex(\"position\",\"Pennsylvania\",\"Colorado\",slop =20)\n",
    "printResults(searchResult,\"sentence\")"
   ]
  },
  {
   "cell_type": "markdown",
   "metadata": {},
   "source": [
    "### Search between Candidates\n",
    "\n",
    "We can also search in between two candidates which were defined as PERSON in the spousal tutorial. Specifically, we are querying for PERSON married PERSON in that order. To do this we use the `inCand` keyword,followed by the word we want to search for.\n",
    "\n",
    "*All candidate searches only allow for a singular term"
   ]
  },
  {
   "cell_type": "code",
   "execution_count": null,
   "metadata": {
    "collapsed": true
   },
   "outputs": [],
   "source": [
    "result = eSearch.searchIndex(\"inCand\",\"married\",slop=100)\n",
    "printResults(result,\"sentence\",\"tagged\",\"lineNum\")\n"
   ]
  },
  {
   "cell_type": "markdown",
   "metadata": {},
   "source": [
    "### Search before candidate \n",
    "\n",
    "Using the `bCand` keyword we can search for the occurance of a term that appears before any PERSON. "
   ]
  },
  {
   "cell_type": "code",
   "execution_count": null,
   "metadata": {
    "collapsed": true
   },
   "outputs": [],
   "source": [
    "result = eSearch.searchIndex(\"bCand\",\"married\",slop=100,size=3)\n",
    "printResults(result,\"sentence\")"
   ]
  },
  {
   "cell_type": "markdown",
   "metadata": {},
   "source": [
    "### Search after candidate \n",
    "\n",
    "Using the `aCand` keyword we can search for the occurance of a term that appears after any PERSON. "
   ]
  },
  {
   "cell_type": "code",
   "execution_count": null,
   "metadata": {
    "collapsed": true
   },
   "outputs": [],
   "source": [
    "result = eSearch.searchIndex(\"aCand\",\"married\",slop=100,size=3)\n",
    "printResults(result,\"sentence\")"
   ]
  },
  {
   "cell_type": "markdown",
   "metadata": {},
   "source": [
    "### Visualizing a Document\n",
    "\n",
    "We can get any document by it's line number. Here get the first sentence in our corpus and print the values stored in each field"
   ]
  },
  {
   "cell_type": "code",
   "execution_count": null,
   "metadata": {
    "collapsed": true
   },
   "outputs": [],
   "source": [
    "result = eSearch.getDoc(42743)\n",
    "print \"Sentence\"\n",
    "print result['_source']['sentence']\n",
    "print \"Sentence number\"\n",
    "print result['_source']['lineNum']\n",
    "print \"Tagged Candidates\"\n",
    "print result['_source']['tagged']"
   ]
  }
 ],
 "metadata": {
  "kernelspec": {
   "display_name": "Python 2",
   "language": "python",
   "name": "python2"
  },
  "language_info": {
   "codemirror_mode": {
    "name": "ipython",
    "version": 2
   },
   "file_extension": ".py",
   "mimetype": "text/x-python",
   "name": "python",
   "nbconvert_exporter": "python",
   "pygments_lexer": "ipython2",
   "version": "2.7.13"
  }
 },
 "nbformat": 4,
 "nbformat_minor": 2
}
