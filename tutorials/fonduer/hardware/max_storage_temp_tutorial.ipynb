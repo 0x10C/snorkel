{
 "cells": [
  {
   "cell_type": "markdown",
   "metadata": {},
   "source": [
    "# Tutorial: Extracting Maximum Storage Temperatures for Transistors from PDF Datasheets"
   ]
  },
  {
   "cell_type": "markdown",
   "metadata": {},
   "source": [
    "# Introduction\n",
    "\n",
    "In this tutorial, we will walk through the process of using `Fonduer` to identify mentions of the maximum storage temperature of transistors (e.g. `150°C`) in a corpus of transistor datasheets from [Digikey.com](https://www.digikey.com/products/en/discrete-semiconductor-products/transistors-bipolar-bjt-single/276).\n",
    "\n",
    "The tutorial is broken into several parts, each covering a Phase of the `Fonduer` pipeline (as outlined in the [paper](https://arxiv.org/abs/1703.05028)), and the iterative KBC process:\n",
    "\n",
    "1. KBC Initialization\n",
    "2. Candidate Generation and Multimodal Featurization\n",
    "3. Probabilistic Relation Classification\n",
    "4. Error Analysis and Iterative KBC\n",
    "\n",
    "In addition, we show how users can iteratively improve labeling functions to improve relation extraction quality.\n",
    "\n",
    "# Phase 1: KBC Initialization\n",
    "\n",
    "In this first phase of `Fonduer`'s pipeline, `Fonduer` uses a user specified _schema_ to initialize a relational database where the output KB will be stored. Furthermore, `Fonduer` iterates over its input _corpus_ and transforms each document into a unified data model, which captures the variability and multimodality of richly formatted data. This unified data model then servers as an intermediate representation used in the rest of the phases.\n",
    "\n",
    "This preprocessed data is saved to a database. Connection strings can be specified by setting the `SNORKELDB` environment variable. If no database is specified, then SQLite at `./snorkel.db` is created by default. However, to enabled parallel execution, we use PostgreSQL throughout this tutorial.\n",
    "\n",
    "We initialize several variables for convenience that define what the database should be called and what level of parallelization the `Fonduer` pipeline will be run with. In the code below, we use PostgreSQL as our database backend."
   ]
  },
  {
   "cell_type": "code",
   "execution_count": 1,
   "metadata": {
    "collapsed": true,
    "scrolled": false
   },
   "outputs": [],
   "source": [
    "%load_ext autoreload\n",
    "%autoreload 2\n",
    "%matplotlib inline\n",
    "\n",
    "import os\n",
    "import sys\n",
    "\n",
    "PARALLEL = 4 # assuming a quad-core machine\n",
    "ATTRIBUTE = \"stg_temp_max\"\n",
    "\n",
    "os.environ['SNORKELDBNAME'] = ATTRIBUTE\n",
    "os.environ['SNORKELDB'] = 'postgres://localhost:5432/' + os.environ['SNORKELDBNAME']\n",
    "        \n",
    "sys.path.append(os.environ['SNORKELHOME'] + '/tutorials/fonduer/hardware/')"
   ]
  },
  {
   "cell_type": "markdown",
   "metadata": {},
   "source": [
    "## 1.1 Defining a Candidate Schema\n",
    "\n",
    "We first initialize a `SnorkelSession`, which manages the connection to the database automatically, and enables us to save intermediate results. This code also reinitializes each of the databases to ensure that we are starting fresh."
   ]
  },
  {
   "cell_type": "code",
   "execution_count": 2,
   "metadata": {
    "scrolled": false
   },
   "outputs": [
    {
     "name": "stdout",
     "output_type": "stream",
     "text": [
      "0\n",
      "0\n",
      "SNORKELDB = postgres://localhost:5432/stg_temp_max\n",
      "SNORKELDBNAME = stg_temp_max\n"
     ]
    }
   ],
   "source": [
    "print os.system(\"dropdb \" + os.environ['SNORKELDBNAME'])\n",
    "print os.system(\"createdb \" + os.environ['SNORKELDBNAME'])\n",
    "print \"SNORKELDB = %s\" % os.environ['SNORKELDB']\n",
    "print \"SNORKELDBNAME = %s\" % os.environ['SNORKELDBNAME']\n",
    "\n",
    "from snorkel import SnorkelSession\n",
    "session = SnorkelSession()"
   ]
  },
  {
   "cell_type": "markdown",
   "metadata": {},
   "source": [
    "Next, we define the _schema_ of the relation we want to extract. This must be a subclass of Candidate, and we define it using a helper function. Here, we define a binary relation which connects two Span objects of text. This is what creates the relation's database table if it does not already exist."
   ]
  },
  {
   "cell_type": "code",
   "execution_count": 3,
   "metadata": {
    "collapsed": true
   },
   "outputs": [],
   "source": [
    "from snorkel.models import candidate_subclass\n",
    "\n",
    "Part_Attr = candidate_subclass('Part_Attr', ['part','attr'])"
   ]
  },
  {
   "cell_type": "markdown",
   "metadata": {
    "scrolled": false
   },
   "source": [
    "### 1.2 Parsing and Transforming the Input Documents into Unified Data Models\n",
    "\n",
    "Next, we load the corpus of datasheets and transform them into the unified data model. Each datasheet has a PDF and HTML representation. Both representations are used in conjunction to create a robust unified data model with textual, structural, tabular, and visual modality information. Note that since each document is independent of each other, we can parse the documents in parallel. Note that parallel execution will not work with SQLite, the default database engine. We depend on PostgreSQL for this functionality.\n",
    "\n",
    "#### Configuring an `HTMLPreprocessor`\n",
    "We start by setting the paths to where our documents are stored, and defining a `HTMLPreprocessor` to read in the documents found in the specified paths. `max_docs` specified the number of documents to parse. For the sake of this tutorial, we only look at 50 documents.\n",
    "\n",
    "**Note that you need to have run `download_data.sh` before executing these next steps or you won't have the documents needed for the tutorial.**"
   ]
  },
  {
   "cell_type": "code",
   "execution_count": 4,
   "metadata": {
    "collapsed": true
   },
   "outputs": [],
   "source": [
    "from snorkel.parser import HTMLPreprocessor, OmniParser\n",
    "\n",
    "docs_path = os.environ['SNORKELHOME'] + '/tutorials/fonduer/hardware/data/html/'\n",
    "pdf_path = os.environ['SNORKELHOME'] + '/tutorials/fonduer/hardware/data/pdf/'\n",
    "\n",
    "doc_preprocessor = HTMLPreprocessor(docs_path, max_docs=50)"
   ]
  },
  {
   "cell_type": "markdown",
   "metadata": {},
   "source": [
    "#### Configuring an `OmniParser`\n",
    "Next, we configure an `OmniParser`, which serves as our `CorpusParser` for PDF documents. We use [CoreNLP](https://stanfordnlp.github.io/CoreNLP/) as a preprocessing tool to split our documents into phrases and tokens, and to provide annotations such as part-of-speech tags and dependency parse structures for these phrases. In addition, we can specify which modality information to include in the unified data model for each document. Below, we enable all modality information."
   ]
  },
  {
   "cell_type": "code",
   "execution_count": 5,
   "metadata": {
    "scrolled": false
   },
   "outputs": [
    {
     "name": "stdout",
     "output_type": "stream",
     "text": [
      "Clearing existing...\n",
      "Running UDF...\n",
      "CPU times: user 6.78 s, sys: 160 ms, total: 6.94 s\n",
      "Wall time: 4min 9s\n"
     ]
    }
   ],
   "source": [
    "corpus_parser = OmniParser(structural=True, lingual=True, visual=True, pdf_path=pdf_path)\n",
    "%time corpus_parser.apply(doc_preprocessor, parallelism=PARALLEL)"
   ]
  },
  {
   "cell_type": "markdown",
   "metadata": {},
   "source": [
    "We can then use simple database queries (written in the syntax of [SQLAlchemy](http://www.sqlalchemy.org/), which `Fonduer` uses) to check how many documents and sentences were parsed, or even check how many phrases and tables are contained in each document."
   ]
  },
  {
   "cell_type": "code",
   "execution_count": 6,
   "metadata": {
    "scrolled": false
   },
   "outputs": [
    {
     "name": "stdout",
     "output_type": "stream",
     "text": [
      "Documents: 50\n",
      "Phrases: 24184\n"
     ]
    }
   ],
   "source": [
    "from snorkel.models import Document, Phrase\n",
    "\n",
    "print \"Documents:\", session.query(Document).count()\n",
    "print \"Phrases:\", session.query(Phrase).count()"
   ]
  },
  {
   "cell_type": "markdown",
   "metadata": {},
   "source": [
    "## 1.3 Dividing the Corpus into Test and Train\n",
    "\n",
    "We'll split the documents 40/5/5 into train/dev/test splits. Note that here we do this in a non-random order to preverse the consistency in the tutorial, and we reference the splits by 0/1/2 respectively."
   ]
  },
  {
   "cell_type": "code",
   "execution_count": 7,
   "metadata": {
    "collapsed": true
   },
   "outputs": [],
   "source": [
    "from snorkel.models import Document\n",
    "\n",
    "docs = session.query(Document).order_by(Document.name).all()\n",
    "ld   = len(docs)\n",
    "\n",
    "train_docs = set()\n",
    "dev_docs   = set()\n",
    "test_docs  = set()\n",
    "splits = (0.8, 0.9)\n",
    "for i,doc in enumerate(docs):\n",
    "    if i < splits[0] * ld:\n",
    "        train_docs.add(doc)\n",
    "    elif i < splits[1] * ld:\n",
    "        dev_docs.add(doc)\n",
    "    else:\n",
    "        test_docs.add(doc)"
   ]
  },
  {
   "cell_type": "markdown",
   "metadata": {},
   "source": [
    "# Phase 2: Candidate Extraction & Multimodal Featurization\n",
    "Given the unified data model from Phase 1, `Fonduer` extracts relation candidates based on user-provided **matchers** and **throttlers**. Then, `Fonduer` leverages the multimodality information captured in the unified data model to provide multimodal features for each candidate.\n",
    "\n",
    "## 2.1: Candidate Extraction\n",
    "\n",
    "The next step is to extract **candidates** from our corpus. A `candidate` is the objects for which we want to make predictions. In this case, the candidates are pairs of transistor part numbers and their corresponding maximum storage temperatures as found in their datasheets. Our task is to predict which pairs are true in the associated document.\n",
    "\n",
    "To do so, we write **matchers** to define which spans of text in the corpus are instances of each entity. Matchers can leverage a variety of information from regular expressions, to dictionaries, to user-defined functions. Furthermore, different techniques can be combined to form higher quality matchers. In general, matchers should seek to be as precise as possible while maintaining complete recall.\n",
    "\n",
    "In our case, we need to write a matcher that defines a transistor part number and a matcher to define a valid temperature value.\n",
    "\n",
    "### Writing a simple temperature matcher\n",
    "\n",
    "Our maximum storage temperature matcher can be a very simple regular expression since we know that we are looking for integers, and by inspecting a portion of our corpus, we see that maximum storage temperatures fall within a fairly narrow range."
   ]
  },
  {
   "cell_type": "code",
   "execution_count": 8,
   "metadata": {
    "collapsed": true
   },
   "outputs": [],
   "source": [
    "from snorkel.matchers import *\n",
    "\n",
    "attr_matcher = RegexMatchSpan(rgx=r'(?:[1][5-9]|20)[05]', longest_match_only=False)"
   ]
  },
  {
   "cell_type": "markdown",
   "metadata": {},
   "source": [
    "### Writing an advanced transistor part matcher\n",
    "\n",
    "In contrast, transistor part numbers are complex expressions. Here, we show how transistor part numbers can leverage [naming conventions](https://en.wikipedia.org/wiki/Transistor#Part_numbering_standards.2Fspecifications) as regular expressions, and use a dictionary of known part numbers, and use user-defined functions together. First, we create a regular expression matcher for standard transistor naming conventions."
   ]
  },
  {
   "cell_type": "code",
   "execution_count": 9,
   "metadata": {
    "collapsed": true
   },
   "outputs": [],
   "source": [
    "### Transistor Naming Conventions as Regular Expressions ###\n",
    "eeca_rgx = '([ABC][A-Z][WXYZ]?[0-9]{3,5}(?:[A-Z]){0,5}[0-9]?[A-Z]?(?:-[A-Z0-9]{1,7})?(?:[-][A-Z0-9]{1,2})?(?:\\/DG)?)'\n",
    "jedec_rgx = '(2N\\d{3,4}[A-Z]{0,5}[0-9]?[A-Z]?)'\n",
    "jis_rgx = '(2S[ABCDEFGHJKMQRSTVZ]{1}[\\d]{2,4})'\n",
    "others_rgx = '((?:NSVBC|SMBT|MJ|MJE|MPS|MRF|RCA|TIP|ZTX|ZT|ZXT|TIS|TIPL|DTC|MMBT|SMMBT|PZT|FZT|STD|BUV|PBSS|KSC|CXT|FCX|CMPT){1}[\\d]{2,4}[A-Z]{0,5}(?:-[A-Z0-9]{0,6})?(?:[-][A-Z0-9]{0,1})?)'\n",
    "\n",
    "part_rgx = '|'.join([eeca_rgx, jedec_rgx, jis_rgx, others_rgx])\n",
    "part_rgx_matcher = RegexMatchSpan(rgx=part_rgx, longest_match_only=True)"
   ]
  },
  {
   "cell_type": "markdown",
   "metadata": {},
   "source": [
    "Next, we can create a matcher from a dictionary of known part numbers:"
   ]
  },
  {
   "cell_type": "code",
   "execution_count": 10,
   "metadata": {
    "collapsed": true
   },
   "outputs": [],
   "source": [
    "import csv\n",
    "\n",
    "def get_digikey_parts_set(path):\n",
    "    \"\"\"\n",
    "    Reads in the digikey part dictionary and yeilds each part.\n",
    "    \"\"\"\n",
    "    all_parts = set()\n",
    "    with open(path, \"r\") as csvinput:\n",
    "        reader = csv.reader(csvinput)\n",
    "        for line in reader:\n",
    "            (part, url) = line\n",
    "            all_parts.add(part)\n",
    "    return all_parts\n",
    "            \n",
    "### Dictionary of known transistor parts ###\n",
    "dict_path = os.environ['SNORKELHOME'] + '/tutorials/fonduer/hardware/data/digikey_part_dictionary.csv'\n",
    "part_dict_matcher = DictionaryMatch(d=get_digikey_parts_set(dict_path))"
   ]
  },
  {
   "cell_type": "markdown",
   "metadata": {},
   "source": [
    "We can also use user-defined functions to further improve our matchers. For example, here we use patterns in the document filenames as a signal for whether a span of text in a document is a valid transistor part number."
   ]
  },
  {
   "cell_type": "code",
   "execution_count": 11,
   "metadata": {
    "collapsed": true
   },
   "outputs": [],
   "source": [
    "def common_prefix_length_diff(str1, str2):\n",
    "    for i in range(min(len(str1), len(str2))):\n",
    "        if str1[i] != str2[i]:\n",
    "            return min(len(str1), len(str2)) - i\n",
    "    return 0\n",
    "\n",
    "def part_file_name_conditions(attr):\n",
    "    file_name = attr.sentence.document.name\n",
    "    if len(file_name.split('_')) != 2: return False\n",
    "    if attr.get_span()[0] == '-': return False\n",
    "    name = attr.get_span().replace('-', '')\n",
    "    return any(char.isdigit() for char in name) and any(char.isalpha() for char in name) and common_prefix_length_diff(file_name.split('_')[1], name) <= 2\n",
    "\n",
    "add_rgx = '^[A-Z0-9\\-]{5,15}$'\n",
    "\n",
    "part_file_name_lambda_matcher = LambdaFunctionMatch(func=part_file_name_conditions)\n",
    "part_file_name_matcher = Intersect(RegexMatchSpan(rgx=add_rgx, longest_match_only=True), part_file_name_lambda_matcher)"
   ]
  },
  {
   "cell_type": "markdown",
   "metadata": {},
   "source": [
    "Then, we can union all of these matchers together to form our final part matcher."
   ]
  },
  {
   "cell_type": "code",
   "execution_count": 12,
   "metadata": {
    "collapsed": true
   },
   "outputs": [],
   "source": [
    "part_matcher = Union(part_rgx_matcher, part_dict_matcher, part_file_name_matcher)"
   ]
  },
  {
   "cell_type": "markdown",
   "metadata": {},
   "source": [
    "These two matchers define each entity in our relation schema."
   ]
  },
  {
   "cell_type": "markdown",
   "metadata": {},
   "source": [
    "### Define a relation's `ContextSpaces`\n",
    "\n",
    "Next, in order to define the \"space\" of all candidates that are even considered from the document, we need to define a `ContextSpace` for each component of the relation we wish to extract.\n",
    "\n",
    "In the case of transistor part numbers, the `ContextSpace` can be quite complex due to the need to handle implicit part numbers that are implied in text like \"BC546A/B/C...BC548A/B/C\", which refers to 9 unique part numbers. In addition, to handle these, we consider all n-grams up to 3 words long.\n",
    "\n",
    "In contrast, the `ContextSpace` for temperature values is simpler: we only need to process different unicode representations of a (`-`), and don't need to look at more than two works at a time."
   ]
  },
  {
   "cell_type": "code",
   "execution_count": 13,
   "metadata": {
    "collapsed": true
   },
   "outputs": [],
   "source": [
    "from hardware_spaces import OmniNgramsPart, OmniNgramsTemp\n",
    "    \n",
    "part_ngrams = OmniNgramsPart(parts_by_doc=None, n_max=3)\n",
    "attr_ngrams = OmniNgramsTemp(n_max=2)"
   ]
  },
  {
   "cell_type": "markdown",
   "metadata": {},
   "source": [
    "### Defining candidate `Throttlers`\n",
    "\n",
    "Next, we need to define **throttlers**, which allow us to further prune excess candidates and avoid unnecessarily materializing invalid candidates. Trottlers, like matchers, act as hard filters, and should be created to have high precision while maintaining complete recall, if possible.\n",
    "\n",
    "Here, we create a throttler that discards candidates if they are in the same table, but the part and storage temperature are not vertically or horizontally aligned."
   ]
  },
  {
   "cell_type": "code",
   "execution_count": 14,
   "metadata": {
    "collapsed": true
   },
   "outputs": [],
   "source": [
    "from snorkel.contrib.fonduer.lf_helpers import *\n",
    "import re\n",
    "\n",
    "def stg_temp_throttler((part, attr)):\n",
    "    if same_table((part, attr)):\n",
    "        return (is_horz_aligned((part, attr)) or is_vert_aligned((part, attr)))\n",
    "    return True\n",
    "\n",
    "throttler = stg_temp_throttler"
   ]
  },
  {
   "cell_type": "markdown",
   "metadata": {},
   "source": [
    "### Running the `CandidateExtractor`\n",
    "\n",
    "Now, we have all the component necessary to perform candidate extraction. We have defined the \"space\" of things to consider for each candidate, provided matchers that signal when a valid mention is seen, and a throttler to prunes away excess candidates. We now can define the `CandidateExtractor` with the contexts to extract from, the matchers, and the throttler to use. "
   ]
  },
  {
   "cell_type": "code",
   "execution_count": 15,
   "metadata": {
    "scrolled": false
   },
   "outputs": [
    {
     "name": "stdout",
     "output_type": "stream",
     "text": [
      "Clearing existing...\n",
      "Running UDF...\n",
      "[========================================] 100%\n",
      "CPU times: user 15.7 s, sys: 680 ms, total: 16.3 s\n",
      "Wall time: 30.8 s\n"
     ]
    }
   ],
   "source": [
    "from snorkel.candidates import CandidateExtractor\n",
    "\n",
    "\n",
    "candidate_extractor = CandidateExtractor(Part_Attr, \n",
    "                        [part_ngrams, attr_ngrams], \n",
    "                        [part_matcher, attr_matcher], \n",
    "                        throttler=throttler)\n",
    "\n",
    "%time candidate_extractor.apply(train_docs, split=0)"
   ]
  },
  {
   "cell_type": "markdown",
   "metadata": {},
   "source": [
    "Here we specified that these `Candidates` belong to the training set by specifying `split=0`; recall that we're referring to train/dev/test as splits 0/1/2."
   ]
  },
  {
   "cell_type": "code",
   "execution_count": 16,
   "metadata": {},
   "outputs": [
    {
     "name": "stdout",
     "output_type": "stream",
     "text": [
      "Number of candidates: 2279\n"
     ]
    }
   ],
   "source": [
    "train_cands = session.query(Part_Attr).filter(Part_Attr.split == 0).all()\n",
    "print \"Number of candidates:\", len(train_cands)"
   ]
  },
  {
   "cell_type": "markdown",
   "metadata": {},
   "source": [
    "### Repeating for development and test splits\n",
    "Finally, we rerun the same operation for the other two document divisions: dev and test. For each, we simply load the `Corpus` object and run them through the `CandidateExtractor`."
   ]
  },
  {
   "cell_type": "code",
   "execution_count": 17,
   "metadata": {},
   "outputs": [
    {
     "name": "stdout",
     "output_type": "stream",
     "text": [
      "Clearing existing...\n",
      "Running UDF...\n",
      "[========================================] 100%\n",
      "Number of candidates: 109\n",
      "Clearing existing...\n",
      "Running UDF...\n",
      "[========================================] 100%\n",
      "Number of candidates: 197\n",
      "CPU times: user 2.63 s, sys: 140 ms, total: 2.77 s\n",
      "Wall time: 5.01 s\n"
     ]
    }
   ],
   "source": [
    "%%time\n",
    "for i, docs in enumerate([dev_docs, test_docs]):\n",
    "    candidate_extractor.apply(docs, split=i+1)\n",
    "    print \"Number of candidates:\", session.query(Part_Attr).filter(Part_Attr.split == i+1).count()"
   ]
  },
  {
   "cell_type": "markdown",
   "metadata": {},
   "source": [
    "## 2.2 Multimodal Featurization\n",
    "Unlike dealing with plain unstructured text, `Fonduer` deals with richly formatted data, and consequently featurizes each candidate with a baseline library of multimodal features. \n",
    "\n",
    "### Featurize with `Fonduer`'s optimized Postgres Feature Annotator\n",
    "We now annotate the candidates in our dev, test, and training sets with features. The `BatchFeatureAnnotator` provided by `Fonduer` allows this to be done in parallel to improve performance.\n",
    "\n",
    "`featurizer.apply` takes three important arguments.\n",
    "* `split` defines which candidate set wer are dealing with. For example, `split=0` is the training set.\n",
    "* `replace_key_set` determine whether or not replace, or reinitialize, the set of features to apply to candidates. That is, when `replace_key_set` is true, key set of features will be replaced with the key set of the features found in the split that is being processed.\n",
    "* `parallelism` determines how many processes to run in parallel.\n",
    "\n",
    "Notices that `replace_key_set=True` only for the first call to `featurizer.apply`, while the other calls have this parameter set to `False`. This is because we want to have the set of features we label candidates with defined by the features found in the set of training documents only. If a later call to `featurizer.apply` replaced the key set, then only the features of that particular split would be considered later in the pipeline."
   ]
  },
  {
   "cell_type": "code",
   "execution_count": 18,
   "metadata": {},
   "outputs": [
    {
     "name": "stdout",
     "output_type": "stream",
     "text": [
      "Clearing existing...\n",
      "Running UDF...\n",
      "Copying part_attr_feature to postgres\n",
      "COPY 2279\n",
      "\n",
      "CPU times: user 3.4 s, sys: 128 ms, total: 3.52 s\n",
      "Wall time: 4min 31s\n",
      "(2279, 9679)\n",
      "Clearing existing...\n",
      "Running UDF...\n",
      "Copying part_attr_feature_updates to postgres\n",
      "COPY 109\n",
      "\n",
      "CPU times: user 180 ms, sys: 108 ms, total: 288 ms\n",
      "Wall time: 9.84 s\n",
      "(109, 9679)\n",
      "Clearing existing...\n",
      "Running UDF...\n",
      "Copying part_attr_feature_updates to postgres\n",
      "COPY 197\n",
      "\n",
      "CPU times: user 212 ms, sys: 132 ms, total: 344 ms\n",
      "Wall time: 11.5 s\n",
      "(197, 9679)\n"
     ]
    }
   ],
   "source": [
    "from snorkel.contrib.fonduer.async_annotations import BatchFeatureAnnotator\n",
    "\n",
    "featurizer = BatchFeatureAnnotator(Part_Attr)\n",
    "%time F_train = featurizer.apply(split=0, replace_key_set=True, parallelism=PARALLEL)\n",
    "print F_train.shape\n",
    "%time F_dev = featurizer.apply(split=1, replace_key_set=False, parallelism=PARALLEL)\n",
    "print F_dev.shape\n",
    "%time F_test = featurizer.apply(split=2, replace_key_set=False, parallelism=PARALLEL)\n",
    "print F_test.shape"
   ]
  },
  {
   "cell_type": "markdown",
   "metadata": {},
   "source": [
    "At the end of this phase, `Fonduer` has generated the set of candidates and the feature matrix. Note that Phase 1 and 2 are relatively static and typically are only executed once during the KBC process.\n",
    "\n",
    "# Phase 3: Probabilistic Relation Classification\n",
    "In this phase, `Fonduer` applies user-defined **labeling functions**, which express various heuristics, patterns, and [weak supervision](http://hazyresearch.github.io/snorkel/blog/weak_supervision.html) strategies to label our data, to each of the candidates to create a label matrix that is used by our data programming engine.\n",
    "\n",
    "In the wild, hand-labeled training data is rare and expensive. A common scenario is to have access to tons of unlabeled training data, and have some idea of how to label them programmatically. For example:\n",
    "* We may be able to think of text patterns that would indicate a part and polarity mention are related, for example the word \"polarity\" appearing between them.\n",
    "* We may have access to an external knowledge base that lists some pairs of parts and polarities, and can use these to noisily label some of our mention pairs.\n",
    "Our labeling functions will capture these types of strategies. We know that these labeling functions will not be perfect, and some may be quite low-quality, so we will model their accuracies with a generative model, which `Fonduer` will help us easily apply.\n",
    "\n",
    "Using data programming, we can then train machine learning models to learn which features are the most important in classifying candidates.\n",
    "\n",
    "### Loading Gold Data\n",
    "For convenience in error analysis and evaluation, we have already annotated the dev and test set for this tutorial, and we'll now load it using an externally-defined helper function.\n",
    "\n",
    "Loading and saving external \"gold\" labels can be a bit messy, but is often a critical part of development, especially when gold labels are expensive and/or time-consuming to obtain. Snorkel stores all labels that are manually annotated in a **stable** format (called StableLabels), which is somewhat independent from the rest of Snorkel's data model, does not get deleted when you delete the candidates, corpus, or any other objects, and can be recovered even if the rest of the data changes or is deleted.\n",
    "\n",
    "Our general procedure with external labels is to load them into the `StableLabel` table, then use `Fonduer`'s helpers to load them into the main data model from there. If interested in example implementation details, please see the script we now load:"
   ]
  },
  {
   "cell_type": "code",
   "execution_count": 19,
   "metadata": {},
   "outputs": [
    {
     "name": "stdout",
     "output_type": "stream",
     "text": [
      "Loading 2585 candidate labels\n",
      "[========================================] 100%\n",
      "AnnotatorLabels created: 741\n"
     ]
    }
   ],
   "source": [
    "from hardware_utils import load_hardware_labels\n",
    "\n",
    "gold_file = os.environ['SNORKELHOME'] + '/tutorials/fonduer/hardware/data/hardware_tutorial_gold.csv'\n",
    "load_hardware_labels(session, Part_Attr, gold_file, ATTRIBUTE ,annotator_name='gold')"
   ]
  },
  {
   "cell_type": "markdown",
   "metadata": {},
   "source": [
    "### Creating Labeling Functions\n",
    "\n",
    "In `Fonduer`, our primary interface through which we provide training signal to the end extraction model we are training is by writing labeling functions (**LFs**) (as opposed to hand-labeling massive training sets).\n",
    "\n",
    "A labeling function isn't anything special. It's just a Python function that accepts a `Candidate` as the input argument and returns `1` if it says the Candidate should be marked as true, `-1` if it says the `Candidate` should be marked as false, and `0` if it doesn't know how to vote and abstains. In practice, many labeling functions are unipolar: it labels only 1s and 0s, or it labels only -1s and 0s.\n",
    "\n",
    "Recall that our goal is to ultimately train a high-performance classification model that predicts which of our Candidates are true mentions of spouse relations. It turns out that we can do this by writing potentially low-quality labeling functions!\n",
    "\n",
    "TODO Add more explanation of LFs"
   ]
  },
  {
   "cell_type": "code",
   "execution_count": 20,
   "metadata": {},
   "outputs": [],
   "source": [
    "from snorkel.contrib.fonduer.lf_helpers import *\n",
    "import re\n",
    "\n",
    "def LF_storage_row(c):\n",
    "    return 1 if 'storage' in get_row_ngrams(c.attr) else 0\n",
    "\n",
    "def LF_operating_row(c):\n",
    "    return 1 if 'operating' in get_row_ngrams(c.attr) else 0\n",
    "\n",
    "def LF_temperature_row(c):\n",
    "    return 1 if 'temperature' in get_row_ngrams(c.attr) else 0\n",
    "\n",
    "def LF_tstg_row(c):\n",
    "    return 1 if overlap(\n",
    "        ['tstg','stg','ts'], \n",
    "        list(get_row_ngrams(c.attr))) else 0\n",
    "\n",
    "def LF_not_temp_relevant(c):\n",
    "    return -1 if not overlap(\n",
    "        ['storage','temperature','tstg','stg', 'ts'],\n",
    "        list(get_aligned_ngrams(c.attr))) else 0\n",
    "\n",
    "def LF_temp_outside_table(c):\n",
    "    return -1 if not c.attr.is_tabular() is None else 0\n",
    "\n",
    "def LF_too_many_numbers_row(c):\n",
    "    num_numbers = list(get_row_ngrams(c.attr, attrib=\"ner_tags\")).count('number')\n",
    "    return -1 if num_numbers >= 3 else 0\n",
    "\n",
    "def LF_collector_aligned(c):\n",
    "    return -1 if overlap(\n",
    "        ['collector', 'collector-current', 'collector-base', 'collector-emitter'],\n",
    "        list(get_aligned_ngrams(c.attr))) else 0\n",
    "\n",
    "def LF_current_aligned(c):\n",
    "    ngrams = get_aligned_ngrams(c.attr)\n",
    "    return -1 if overlap(\n",
    "        ['current', 'dc', 'ic'],\n",
    "        list(get_aligned_ngrams(c.attr))) else 0\n",
    "\n",
    "def LF_voltage_row_temp(c):\n",
    "    ngrams = get_aligned_ngrams(c.attr)\n",
    "    return -1 if overlap(\n",
    "        ['voltage', 'cbo', 'ceo', 'ebo', 'v'],\n",
    "        list(get_aligned_ngrams(c.attr))) else 0\n",
    "\n",
    "def LF_voltage_row_part(c):\n",
    "    ngrams = get_aligned_ngrams(c.part)\n",
    "    return -1 if overlap(\n",
    "        ['voltage', 'cbo', 'ceo', 'ebo', 'v'],\n",
    "        list(get_aligned_ngrams(c.attr))) else 0\n",
    "\n",
    "def LF_typ_row(c):\n",
    "    return -1 if overlap(\n",
    "        ['typ', 'typ.'],\n",
    "        list(get_row_ngrams(c.attr))) else 0\n",
    "\n",
    "def LF_test_condition_aligned(c):\n",
    "    return -1 if overlap(\n",
    "        ['test', 'condition'],\n",
    "        list(get_aligned_ngrams(c.attr))) else 0\n",
    "\n",
    "def LF_complement_left_row(c):\n",
    "    return -1 if (\n",
    "        overlap(['complement','complementary'], \n",
    "        chain.from_iterable([get_row_ngrams(c.part), get_left_ngrams(c.part, window=10)]))) else 0\n",
    "\n",
    "def LF_temp_on_high_page_num(c):\n",
    "    return -1 if c.attr.get_attrib_tokens('page')[0] > 2 else 0\n",
    "\n",
    "def LF_to_left(c):\n",
    "    return 1 if 'to' in get_left_ngrams(c.attr, window=2) else 0\n",
    "\n",
    "def LF_negative_number_left(c):\n",
    "    return 1 if any([re.match(r'-\\s*\\d+', ngram) for ngram in get_left_ngrams(c.attr, window=4)]) else 0\n",
    "\n",
    "\n",
    "\n",
    "stg_temp_lfs = [\n",
    "    LF_storage_row,\n",
    "    LF_operating_row,\n",
    "    LF_temperature_row,\n",
    "    LF_tstg_row,\n",
    "    LF_not_temp_relevant,\n",
    "    LF_temp_outside_table,\n",
    "    LF_too_many_numbers_row,\n",
    "    LF_collector_aligned,\n",
    "    LF_current_aligned,\n",
    "    LF_voltage_row_temp,\n",
    "    LF_voltage_row_part,\n",
    "    LF_typ_row,\n",
    "    LF_test_condition_aligned,\n",
    "    LF_complement_left_row,\n",
    "    LF_temp_on_high_page_num,\n",
    "    LF_to_left,\n",
    "    LF_negative_number_left\n",
    "]"
   ]
  },
  {
   "cell_type": "markdown",
   "metadata": {},
   "source": [
    "### Applying the Labeling Functions\n",
    "\n",
    "Next, we need to actually run the LFs over all of our training candidates, producing a set of `Labels` and `LabelKeys` (just the names of the LFs) in the database. We'll do this using the `LabelAnnotator` class, a `UDF` which we will again run with `UDFRunner`. Note that this will delete any existing `Labels` and `LabelKeys` for this candidate set. Also note that we are using `Fonduer`'s optimized batch label annotator, which runs in parallel and depends on having Postgres as the backend database. "
   ]
  },
  {
   "cell_type": "code",
   "execution_count": 38,
   "metadata": {},
   "outputs": [
    {
     "name": "stdout",
     "output_type": "stream",
     "text": [
      "Clearing existing...\n",
      "Running UDF...\n",
      "Copying part_attr_label_updates to postgres\n",
      "COPY 2279\n",
      "\n",
      "CPU times: user 404 ms, sys: 116 ms, total: 520 ms\n",
      "Wall time: 1min 10s\n",
      "(2279, 18)\n"
     ]
    }
   ],
   "source": [
    "from snorkel.contrib.fonduer.async_annotations import BatchLabelAnnotator\n",
    "\n",
    "labeler = BatchLabelAnnotator(Part_Attr, lfs = stg_temp_lfs)\n",
    "%time L_train = labeler.apply(split=0, parallelism=4)\n",
    "print L_train.shape\n",
    "\n",
    "# # Update existing labels, assume the lfs are updated\n",
    "# def LF_test(c):\n",
    "#     return 1 if 'to' in get_left_ngrams(c.attr, window=2) else 0\n",
    "# stg_temp_lfs3 = [LF_test]\n",
    "# labeler = BatchLabelAnnotator(Part_Attr, lfs = stg_temp_lfs3)\n",
    "# %time L_train = labeler.apply(split=0, clear=False, update_keys=True, update_values=True, parallelism=4)\n",
    "# print L_train.shape\n",
    "# L_train3 = L_train"
   ]
  },
  {
   "cell_type": "markdown",
   "metadata": {},
   "source": [
    "Note that the returned matrix is a special subclass of the scipy.sparse.csr_matrix class, with some special features which we demonstrate below:"
   ]
  },
  {
   "cell_type": "code",
   "execution_count": 39,
   "metadata": {},
   "outputs": [
    {
     "data": {
      "text/plain": [
       "Part_Attr(Span(\"BC818\", sentence=943, chars=[8,12], words=[2,2]), ImplicitSpan(\"150\", sentence=56130, words=[0,0], position=[0]))"
      ]
     },
     "execution_count": 39,
     "metadata": {},
     "output_type": "execute_result"
    }
   ],
   "source": [
    "L_train.get_candidate(session, 0)"
   ]
  },
  {
   "cell_type": "markdown",
   "metadata": {},
   "source": [
    "We can also view statistics about the resulting label matrix.\n",
    "* **Coverage** is the fraction of candidates that the labeling function emits a non-zero label for.\n",
    "* **Overlap** is the fraction candidates that the labeling function emits a non-zero label for and that another labeling function emits a non-zero label for.\n",
    "* **Conflict** is the fraction candidates that the labeling function emits a non-zero label for and that another labeling function emits a conflicting non-zero label for.\n",
    "\n",
    "In addition, because we have already loaded the gold labels, we can view the emperical accuracy of these labeling functions when compared to our gold labels:"
   ]
  },
  {
   "cell_type": "code",
   "execution_count": 40,
   "metadata": {},
   "outputs": [
    {
     "name": "stdout",
     "output_type": "stream",
     "text": [
      "CPU times: user 36 ms, sys: 0 ns, total: 36 ms\n",
      "Wall time: 37.9 ms\n"
     ]
    },
    {
     "data": {
      "text/html": [
       "<div>\n",
       "<table border=\"1\" class=\"dataframe\">\n",
       "  <thead>\n",
       "    <tr style=\"text-align: right;\">\n",
       "      <th></th>\n",
       "      <th>j</th>\n",
       "      <th>Coverage</th>\n",
       "      <th>Overlaps</th>\n",
       "      <th>Conflicts</th>\n",
       "      <th>TP</th>\n",
       "      <th>FP</th>\n",
       "      <th>FN</th>\n",
       "      <th>TN</th>\n",
       "      <th>Empirical Acc.</th>\n",
       "    </tr>\n",
       "  </thead>\n",
       "  <tbody>\n",
       "    <tr>\n",
       "      <th>LF_too_many_numbers_row</th>\n",
       "      <td>0</td>\n",
       "      <td>0.463361</td>\n",
       "      <td>0.463361</td>\n",
       "      <td>0.024133</td>\n",
       "      <td>0</td>\n",
       "      <td>0</td>\n",
       "      <td>176</td>\n",
       "      <td>0</td>\n",
       "      <td>0.0</td>\n",
       "    </tr>\n",
       "    <tr>\n",
       "      <th>LF_current_aligned</th>\n",
       "      <td>1</td>\n",
       "      <td>0.308907</td>\n",
       "      <td>0.308907</td>\n",
       "      <td>0.004388</td>\n",
       "      <td>0</td>\n",
       "      <td>0</td>\n",
       "      <td>156</td>\n",
       "      <td>0</td>\n",
       "      <td>0.0</td>\n",
       "    </tr>\n",
       "    <tr>\n",
       "      <th>LF_tstg_row</th>\n",
       "      <td>2</td>\n",
       "      <td>0.085125</td>\n",
       "      <td>0.085125</td>\n",
       "      <td>0.085125</td>\n",
       "      <td>143</td>\n",
       "      <td>0</td>\n",
       "      <td>0</td>\n",
       "      <td>0</td>\n",
       "      <td>1.0</td>\n",
       "    </tr>\n",
       "    <tr>\n",
       "      <th>LF_temp_on_high_page_num</th>\n",
       "      <td>3</td>\n",
       "      <td>0.357613</td>\n",
       "      <td>0.357613</td>\n",
       "      <td>0.019746</td>\n",
       "      <td>0</td>\n",
       "      <td>0</td>\n",
       "      <td>268</td>\n",
       "      <td>0</td>\n",
       "      <td>0.0</td>\n",
       "    </tr>\n",
       "    <tr>\n",
       "      <th>LF_typ_row</th>\n",
       "      <td>4</td>\n",
       "      <td>0.002633</td>\n",
       "      <td>0.002633</td>\n",
       "      <td>0.000000</td>\n",
       "      <td>0</td>\n",
       "      <td>0</td>\n",
       "      <td>1</td>\n",
       "      <td>0</td>\n",
       "      <td>0.0</td>\n",
       "    </tr>\n",
       "    <tr>\n",
       "      <th>LF_voltage_row_part</th>\n",
       "      <td>5</td>\n",
       "      <td>0.240895</td>\n",
       "      <td>0.240895</td>\n",
       "      <td>0.017113</td>\n",
       "      <td>0</td>\n",
       "      <td>0</td>\n",
       "      <td>194</td>\n",
       "      <td>0</td>\n",
       "      <td>0.0</td>\n",
       "    </tr>\n",
       "    <tr>\n",
       "      <th>LF_to_left</th>\n",
       "      <td>6</td>\n",
       "      <td>0.070645</td>\n",
       "      <td>0.070645</td>\n",
       "      <td>0.070645</td>\n",
       "      <td>131</td>\n",
       "      <td>0</td>\n",
       "      <td>0</td>\n",
       "      <td>0</td>\n",
       "      <td>1.0</td>\n",
       "    </tr>\n",
       "    <tr>\n",
       "      <th>LF_test</th>\n",
       "      <td>7</td>\n",
       "      <td>0.000000</td>\n",
       "      <td>0.000000</td>\n",
       "      <td>0.000000</td>\n",
       "      <td>0</td>\n",
       "      <td>0</td>\n",
       "      <td>0</td>\n",
       "      <td>0</td>\n",
       "      <td>NaN</td>\n",
       "    </tr>\n",
       "    <tr>\n",
       "      <th>LF_collector_aligned</th>\n",
       "      <td>8</td>\n",
       "      <td>0.076349</td>\n",
       "      <td>0.076349</td>\n",
       "      <td>0.000000</td>\n",
       "      <td>0</td>\n",
       "      <td>0</td>\n",
       "      <td>85</td>\n",
       "      <td>0</td>\n",
       "      <td>0.0</td>\n",
       "    </tr>\n",
       "    <tr>\n",
       "      <th>LF_complement_left_row</th>\n",
       "      <td>9</td>\n",
       "      <td>0.064941</td>\n",
       "      <td>0.064941</td>\n",
       "      <td>0.017113</td>\n",
       "      <td>0</td>\n",
       "      <td>0</td>\n",
       "      <td>0</td>\n",
       "      <td>0</td>\n",
       "      <td>NaN</td>\n",
       "    </tr>\n",
       "    <tr>\n",
       "      <th>LF_not_temp_relevant</th>\n",
       "      <td>10</td>\n",
       "      <td>0.846863</td>\n",
       "      <td>0.846863</td>\n",
       "      <td>0.002633</td>\n",
       "      <td>0</td>\n",
       "      <td>0</td>\n",
       "      <td>360</td>\n",
       "      <td>0</td>\n",
       "      <td>0.0</td>\n",
       "    </tr>\n",
       "    <tr>\n",
       "      <th>LF_voltage_row_temp</th>\n",
       "      <td>11</td>\n",
       "      <td>0.240895</td>\n",
       "      <td>0.240895</td>\n",
       "      <td>0.017113</td>\n",
       "      <td>0</td>\n",
       "      <td>0</td>\n",
       "      <td>194</td>\n",
       "      <td>0</td>\n",
       "      <td>0.0</td>\n",
       "    </tr>\n",
       "    <tr>\n",
       "      <th>LF_negative_number_left</th>\n",
       "      <td>12</td>\n",
       "      <td>0.089074</td>\n",
       "      <td>0.089074</td>\n",
       "      <td>0.089074</td>\n",
       "      <td>156</td>\n",
       "      <td>0</td>\n",
       "      <td>0</td>\n",
       "      <td>0</td>\n",
       "      <td>1.0</td>\n",
       "    </tr>\n",
       "    <tr>\n",
       "      <th>LF_operating_row</th>\n",
       "      <td>13</td>\n",
       "      <td>0.043001</td>\n",
       "      <td>0.043001</td>\n",
       "      <td>0.043001</td>\n",
       "      <td>85</td>\n",
       "      <td>0</td>\n",
       "      <td>0</td>\n",
       "      <td>0</td>\n",
       "      <td>1.0</td>\n",
       "    </tr>\n",
       "    <tr>\n",
       "      <th>LF_temperature_row</th>\n",
       "      <td>14</td>\n",
       "      <td>0.146994</td>\n",
       "      <td>0.146994</td>\n",
       "      <td>0.146994</td>\n",
       "      <td>270</td>\n",
       "      <td>0</td>\n",
       "      <td>0</td>\n",
       "      <td>0</td>\n",
       "      <td>1.0</td>\n",
       "    </tr>\n",
       "    <tr>\n",
       "      <th>LF_test_condition_aligned</th>\n",
       "      <td>15</td>\n",
       "      <td>0.008337</td>\n",
       "      <td>0.008337</td>\n",
       "      <td>0.000000</td>\n",
       "      <td>0</td>\n",
       "      <td>0</td>\n",
       "      <td>12</td>\n",
       "      <td>0</td>\n",
       "      <td>0.0</td>\n",
       "    </tr>\n",
       "    <tr>\n",
       "      <th>LF_temp_outside_table</th>\n",
       "      <td>16</td>\n",
       "      <td>1.000000</td>\n",
       "      <td>1.000000</td>\n",
       "      <td>0.154015</td>\n",
       "      <td>0</td>\n",
       "      <td>0</td>\n",
       "      <td>634</td>\n",
       "      <td>0</td>\n",
       "      <td>0.0</td>\n",
       "    </tr>\n",
       "    <tr>\n",
       "      <th>LF_storage_row</th>\n",
       "      <td>17</td>\n",
       "      <td>0.093462</td>\n",
       "      <td>0.093462</td>\n",
       "      <td>0.093462</td>\n",
       "      <td>161</td>\n",
       "      <td>0</td>\n",
       "      <td>0</td>\n",
       "      <td>0</td>\n",
       "      <td>1.0</td>\n",
       "    </tr>\n",
       "  </tbody>\n",
       "</table>\n",
       "</div>"
      ],
      "text/plain": [
       "                            j  Coverage  Overlaps  Conflicts   TP  FP   FN  \\\n",
       "LF_too_many_numbers_row     0  0.463361  0.463361   0.024133    0   0  176   \n",
       "LF_current_aligned          1  0.308907  0.308907   0.004388    0   0  156   \n",
       "LF_tstg_row                 2  0.085125  0.085125   0.085125  143   0    0   \n",
       "LF_temp_on_high_page_num    3  0.357613  0.357613   0.019746    0   0  268   \n",
       "LF_typ_row                  4  0.002633  0.002633   0.000000    0   0    1   \n",
       "LF_voltage_row_part         5  0.240895  0.240895   0.017113    0   0  194   \n",
       "LF_to_left                  6  0.070645  0.070645   0.070645  131   0    0   \n",
       "LF_test                     7  0.000000  0.000000   0.000000    0   0    0   \n",
       "LF_collector_aligned        8  0.076349  0.076349   0.000000    0   0   85   \n",
       "LF_complement_left_row      9  0.064941  0.064941   0.017113    0   0    0   \n",
       "LF_not_temp_relevant       10  0.846863  0.846863   0.002633    0   0  360   \n",
       "LF_voltage_row_temp        11  0.240895  0.240895   0.017113    0   0  194   \n",
       "LF_negative_number_left    12  0.089074  0.089074   0.089074  156   0    0   \n",
       "LF_operating_row           13  0.043001  0.043001   0.043001   85   0    0   \n",
       "LF_temperature_row         14  0.146994  0.146994   0.146994  270   0    0   \n",
       "LF_test_condition_aligned  15  0.008337  0.008337   0.000000    0   0   12   \n",
       "LF_temp_outside_table      16  1.000000  1.000000   0.154015    0   0  634   \n",
       "LF_storage_row             17  0.093462  0.093462   0.093462  161   0    0   \n",
       "\n",
       "                           TN  Empirical Acc.  \n",
       "LF_too_many_numbers_row     0             0.0  \n",
       "LF_current_aligned          0             0.0  \n",
       "LF_tstg_row                 0             1.0  \n",
       "LF_temp_on_high_page_num    0             0.0  \n",
       "LF_typ_row                  0             0.0  \n",
       "LF_voltage_row_part         0             0.0  \n",
       "LF_to_left                  0             1.0  \n",
       "LF_test                     0             NaN  \n",
       "LF_collector_aligned        0             0.0  \n",
       "LF_complement_left_row      0             NaN  \n",
       "LF_not_temp_relevant        0             0.0  \n",
       "LF_voltage_row_temp         0             0.0  \n",
       "LF_negative_number_left     0             1.0  \n",
       "LF_operating_row            0             1.0  \n",
       "LF_temperature_row          0             1.0  \n",
       "LF_test_condition_aligned   0             0.0  \n",
       "LF_temp_outside_table       0             0.0  \n",
       "LF_storage_row              0             1.0  "
      ]
     },
     "execution_count": 40,
     "metadata": {},
     "output_type": "execute_result"
    }
   ],
   "source": [
    "from snorkel.annotations import load_gold_labels\n",
    "L_gold_train = load_gold_labels(session, annotator_name='gold', split=0)\n",
    "%time L_train.lf_stats(L_gold_train)"
   ]
  },
  {
   "cell_type": "markdown",
   "metadata": {},
   "source": [
    "### Fitting the Generative Model\n",
    "\n",
    "Now, we'll train a model of the LFs to estimate their accuracies. Once the model is trained, we can combine the outputs of the LFs into a single, noise-aware training label set for our extractor. Intuitively, we'll model the LFs by observing how they overlap and conflict with each other."
   ]
  },
  {
   "cell_type": "code",
   "execution_count": 41,
   "metadata": {},
   "outputs": [
    {
     "name": "stdout",
     "output_type": "stream",
     "text": [
      "CPU times: user 49.9 s, sys: 56 ms, total: 49.9 s\n",
      "Wall time: 49.9 s\n"
     ]
    }
   ],
   "source": [
    "from snorkel.learning import GenerativeModel\n",
    "\n",
    "gen_model = GenerativeModel()\n",
    "%time gen_model.train(L_train, epochs=500, decay=0.9, step_size=0.001/L_train.shape[0], reg_param=0)"
   ]
  },
  {
   "cell_type": "markdown",
   "metadata": {},
   "source": [
    "We now apply the generative model to the training candidates to get the noise-aware training label set. We'll refer to these as the training marginals:"
   ]
  },
  {
   "cell_type": "code",
   "execution_count": 42,
   "metadata": {
    "collapsed": true
   },
   "outputs": [],
   "source": [
    "train_marginals = gen_model.marginals(L_train)"
   ]
  },
  {
   "cell_type": "markdown",
   "metadata": {},
   "source": [
    "We'll look at the distribution of the training marginals:"
   ]
  },
  {
   "cell_type": "code",
   "execution_count": 43,
   "metadata": {},
   "outputs": [
    {
     "data": {
      "image/png": "[encoded data removed]",
      "text/plain": [
       "<matplotlib.figure.Figure at 0x7f52951c3710>"
      ]
     },
     "metadata": {},
     "output_type": "display_data"
    }
   ],
   "source": [
    "import matplotlib.pyplot as plt\n",
    "plt.hist(train_marginals, bins=20)\n",
    "plt.show()"
   ]
  },
  {
   "cell_type": "markdown",
   "metadata": {},
   "source": [
    "We can view the learned accuracy parameters as well."
   ]
  },
  {
   "cell_type": "code",
   "execution_count": 44,
   "metadata": {},
   "outputs": [
    {
     "data": {
      "text/plain": [
       "array([ 0.72332309,  0.71110706,  0.71271296,  0.73447639,  0.71256238,\n",
       "        0.72292883,  0.71513692,  0.74772092,  0.74774332,  0.74001169,\n",
       "        0.74017334,  0.72337207,  0.72627942,  0.71876221,  0.72474331,\n",
       "        0.73397711,  0.7475571 ,  0.7292566 ])"
      ]
     },
     "execution_count": 44,
     "metadata": {},
     "output_type": "execute_result"
    }
   ],
   "source": [
    "gen_model.weights.lf_accuracy()"
   ]
  },
  {
   "cell_type": "markdown",
   "metadata": {
    "scrolled": true
   },
   "source": [
    "### Using the Model to Iterate on Labeling Functions\n",
    "\n",
    "Now that we have learned the generative model, we can stop here and use this to potentially debug and/or improve our labeling function set. First, we apply the LFs to our development set:"
   ]
  },
  {
   "cell_type": "code",
   "execution_count": 45,
   "metadata": {},
   "outputs": [
    {
     "name": "stdout",
     "output_type": "stream",
     "text": [
      "Clearing existing...\n",
      "Running UDF...\n",
      "[========================================] 100%\n",
      "Copying part_attr_label_updates to postgres\n",
      "COPY 109\n",
      "\n"
     ]
    }
   ],
   "source": [
    "L_dev = labeler.apply_existing(split=1)"
   ]
  },
  {
   "cell_type": "markdown",
   "metadata": {},
   "source": [
    "Then, we get the score of the generative model:"
   ]
  },
  {
   "cell_type": "code",
   "execution_count": 46,
   "metadata": {},
   "outputs": [
    {
     "name": "stdout",
     "output_type": "stream",
     "text": [
      "========================================\n",
      "Scores (Un-adjusted)\n",
      "========================================\n",
      "Pos. class accuracy: 0.235\n",
      "Neg. class accuracy: 0.948\n",
      "Precision            0.8\n",
      "Recall               0.235\n",
      "F1                   0.364\n",
      "----------------------------------------\n",
      "TP: 12 | FP: 3 | TN: 55 | FN: 39\n",
      "========================================\n",
      "\n"
     ]
    }
   ],
   "source": [
    "tp, fp, tn, fn = gen_model.score(session, L_dev, L_gold_dev)"
   ]
  },
  {
   "cell_type": "markdown",
   "metadata": {},
   "source": [
    "We can also view statistics about the labeling function's learned accuracy and compare them to the emperical accuracy."
   ]
  },
  {
   "cell_type": "code",
   "execution_count": 47,
   "metadata": {},
   "outputs": [
    {
     "data": {
      "text/html": [
       "<div>\n",
       "<table border=\"1\" class=\"dataframe\">\n",
       "  <thead>\n",
       "    <tr style=\"text-align: right;\">\n",
       "      <th></th>\n",
       "      <th>j</th>\n",
       "      <th>Coverage</th>\n",
       "      <th>Overlaps</th>\n",
       "      <th>Conflicts</th>\n",
       "      <th>TP</th>\n",
       "      <th>FP</th>\n",
       "      <th>FN</th>\n",
       "      <th>TN</th>\n",
       "      <th>Empirical Acc.</th>\n",
       "      <th>Learned Acc.</th>\n",
       "    </tr>\n",
       "  </thead>\n",
       "  <tbody>\n",
       "    <tr>\n",
       "      <th>LF_too_many_numbers_row</th>\n",
       "      <td>0</td>\n",
       "      <td>0.183486</td>\n",
       "      <td>0.183486</td>\n",
       "      <td>0.000000</td>\n",
       "      <td>0</td>\n",
       "      <td>0</td>\n",
       "      <td>0</td>\n",
       "      <td>0</td>\n",
       "      <td>NaN</td>\n",
       "      <td>0.723323</td>\n",
       "    </tr>\n",
       "    <tr>\n",
       "      <th>LF_current_aligned</th>\n",
       "      <td>1</td>\n",
       "      <td>0.146789</td>\n",
       "      <td>0.146789</td>\n",
       "      <td>0.000000</td>\n",
       "      <td>0</td>\n",
       "      <td>0</td>\n",
       "      <td>0</td>\n",
       "      <td>0</td>\n",
       "      <td>NaN</td>\n",
       "      <td>0.711107</td>\n",
       "    </tr>\n",
       "    <tr>\n",
       "      <th>LF_tstg_row</th>\n",
       "      <td>2</td>\n",
       "      <td>0.137615</td>\n",
       "      <td>0.137615</td>\n",
       "      <td>0.137615</td>\n",
       "      <td>11</td>\n",
       "      <td>0</td>\n",
       "      <td>0</td>\n",
       "      <td>0</td>\n",
       "      <td>1.0</td>\n",
       "      <td>0.712713</td>\n",
       "    </tr>\n",
       "    <tr>\n",
       "      <th>LF_temp_on_high_page_num</th>\n",
       "      <td>3</td>\n",
       "      <td>0.743119</td>\n",
       "      <td>0.743119</td>\n",
       "      <td>0.165138</td>\n",
       "      <td>0</td>\n",
       "      <td>0</td>\n",
       "      <td>40</td>\n",
       "      <td>0</td>\n",
       "      <td>0.0</td>\n",
       "      <td>0.734476</td>\n",
       "    </tr>\n",
       "    <tr>\n",
       "      <th>LF_typ_row</th>\n",
       "      <td>4</td>\n",
       "      <td>0.000000</td>\n",
       "      <td>0.000000</td>\n",
       "      <td>0.000000</td>\n",
       "      <td>0</td>\n",
       "      <td>0</td>\n",
       "      <td>0</td>\n",
       "      <td>0</td>\n",
       "      <td>NaN</td>\n",
       "      <td>0.712562</td>\n",
       "    </tr>\n",
       "    <tr>\n",
       "      <th>LF_voltage_row_part</th>\n",
       "      <td>5</td>\n",
       "      <td>0.073394</td>\n",
       "      <td>0.073394</td>\n",
       "      <td>0.000000</td>\n",
       "      <td>0</td>\n",
       "      <td>0</td>\n",
       "      <td>0</td>\n",
       "      <td>0</td>\n",
       "      <td>NaN</td>\n",
       "      <td>0.722929</td>\n",
       "    </tr>\n",
       "    <tr>\n",
       "      <th>LF_to_left</th>\n",
       "      <td>6</td>\n",
       "      <td>0.110092</td>\n",
       "      <td>0.110092</td>\n",
       "      <td>0.110092</td>\n",
       "      <td>11</td>\n",
       "      <td>0</td>\n",
       "      <td>0</td>\n",
       "      <td>0</td>\n",
       "      <td>1.0</td>\n",
       "      <td>0.715137</td>\n",
       "    </tr>\n",
       "    <tr>\n",
       "      <th>LF_test</th>\n",
       "      <td>7</td>\n",
       "      <td>0.000000</td>\n",
       "      <td>0.000000</td>\n",
       "      <td>0.000000</td>\n",
       "      <td>0</td>\n",
       "      <td>0</td>\n",
       "      <td>0</td>\n",
       "      <td>0</td>\n",
       "      <td>NaN</td>\n",
       "      <td>0.747721</td>\n",
       "    </tr>\n",
       "    <tr>\n",
       "      <th>LF_collector_aligned</th>\n",
       "      <td>8</td>\n",
       "      <td>0.064220</td>\n",
       "      <td>0.064220</td>\n",
       "      <td>0.000000</td>\n",
       "      <td>0</td>\n",
       "      <td>0</td>\n",
       "      <td>0</td>\n",
       "      <td>0</td>\n",
       "      <td>NaN</td>\n",
       "      <td>0.747743</td>\n",
       "    </tr>\n",
       "    <tr>\n",
       "      <th>LF_complement_left_row</th>\n",
       "      <td>9</td>\n",
       "      <td>0.064220</td>\n",
       "      <td>0.064220</td>\n",
       "      <td>0.027523</td>\n",
       "      <td>0</td>\n",
       "      <td>0</td>\n",
       "      <td>0</td>\n",
       "      <td>0</td>\n",
       "      <td>NaN</td>\n",
       "      <td>0.740012</td>\n",
       "    </tr>\n",
       "    <tr>\n",
       "      <th>LF_not_temp_relevant</th>\n",
       "      <td>10</td>\n",
       "      <td>0.743119</td>\n",
       "      <td>0.743119</td>\n",
       "      <td>0.018349</td>\n",
       "      <td>0</td>\n",
       "      <td>0</td>\n",
       "      <td>33</td>\n",
       "      <td>0</td>\n",
       "      <td>0.0</td>\n",
       "      <td>0.740173</td>\n",
       "    </tr>\n",
       "    <tr>\n",
       "      <th>LF_voltage_row_temp</th>\n",
       "      <td>11</td>\n",
       "      <td>0.073394</td>\n",
       "      <td>0.073394</td>\n",
       "      <td>0.000000</td>\n",
       "      <td>0</td>\n",
       "      <td>0</td>\n",
       "      <td>0</td>\n",
       "      <td>0</td>\n",
       "      <td>NaN</td>\n",
       "      <td>0.723372</td>\n",
       "    </tr>\n",
       "    <tr>\n",
       "      <th>LF_negative_number_left</th>\n",
       "      <td>12</td>\n",
       "      <td>0.110092</td>\n",
       "      <td>0.110092</td>\n",
       "      <td>0.110092</td>\n",
       "      <td>11</td>\n",
       "      <td>0</td>\n",
       "      <td>0</td>\n",
       "      <td>0</td>\n",
       "      <td>1.0</td>\n",
       "      <td>0.726279</td>\n",
       "    </tr>\n",
       "    <tr>\n",
       "      <th>LF_operating_row</th>\n",
       "      <td>13</td>\n",
       "      <td>0.055046</td>\n",
       "      <td>0.055046</td>\n",
       "      <td>0.055046</td>\n",
       "      <td>3</td>\n",
       "      <td>0</td>\n",
       "      <td>0</td>\n",
       "      <td>0</td>\n",
       "      <td>1.0</td>\n",
       "      <td>0.718762</td>\n",
       "    </tr>\n",
       "    <tr>\n",
       "      <th>LF_temperature_row</th>\n",
       "      <td>14</td>\n",
       "      <td>0.256881</td>\n",
       "      <td>0.256881</td>\n",
       "      <td>0.256881</td>\n",
       "      <td>18</td>\n",
       "      <td>0</td>\n",
       "      <td>0</td>\n",
       "      <td>0</td>\n",
       "      <td>1.0</td>\n",
       "      <td>0.724743</td>\n",
       "    </tr>\n",
       "    <tr>\n",
       "      <th>LF_test_condition_aligned</th>\n",
       "      <td>15</td>\n",
       "      <td>0.000000</td>\n",
       "      <td>0.000000</td>\n",
       "      <td>0.000000</td>\n",
       "      <td>0</td>\n",
       "      <td>0</td>\n",
       "      <td>0</td>\n",
       "      <td>0</td>\n",
       "      <td>NaN</td>\n",
       "      <td>0.733977</td>\n",
       "    </tr>\n",
       "    <tr>\n",
       "      <th>LF_temp_outside_table</th>\n",
       "      <td>16</td>\n",
       "      <td>1.000000</td>\n",
       "      <td>1.000000</td>\n",
       "      <td>0.275229</td>\n",
       "      <td>0</td>\n",
       "      <td>0</td>\n",
       "      <td>51</td>\n",
       "      <td>0</td>\n",
       "      <td>0.0</td>\n",
       "      <td>0.747557</td>\n",
       "    </tr>\n",
       "    <tr>\n",
       "      <th>LF_storage_row</th>\n",
       "      <td>17</td>\n",
       "      <td>0.137615</td>\n",
       "      <td>0.137615</td>\n",
       "      <td>0.137615</td>\n",
       "      <td>11</td>\n",
       "      <td>0</td>\n",
       "      <td>0</td>\n",
       "      <td>0</td>\n",
       "      <td>1.0</td>\n",
       "      <td>0.729257</td>\n",
       "    </tr>\n",
       "  </tbody>\n",
       "</table>\n",
       "</div>"
      ],
      "text/plain": [
       "                            j  Coverage  Overlaps  Conflicts  TP  FP  FN  TN  \\\n",
       "LF_too_many_numbers_row     0  0.183486  0.183486   0.000000   0   0   0   0   \n",
       "LF_current_aligned          1  0.146789  0.146789   0.000000   0   0   0   0   \n",
       "LF_tstg_row                 2  0.137615  0.137615   0.137615  11   0   0   0   \n",
       "LF_temp_on_high_page_num    3  0.743119  0.743119   0.165138   0   0  40   0   \n",
       "LF_typ_row                  4  0.000000  0.000000   0.000000   0   0   0   0   \n",
       "LF_voltage_row_part         5  0.073394  0.073394   0.000000   0   0   0   0   \n",
       "LF_to_left                  6  0.110092  0.110092   0.110092  11   0   0   0   \n",
       "LF_test                     7  0.000000  0.000000   0.000000   0   0   0   0   \n",
       "LF_collector_aligned        8  0.064220  0.064220   0.000000   0   0   0   0   \n",
       "LF_complement_left_row      9  0.064220  0.064220   0.027523   0   0   0   0   \n",
       "LF_not_temp_relevant       10  0.743119  0.743119   0.018349   0   0  33   0   \n",
       "LF_voltage_row_temp        11  0.073394  0.073394   0.000000   0   0   0   0   \n",
       "LF_negative_number_left    12  0.110092  0.110092   0.110092  11   0   0   0   \n",
       "LF_operating_row           13  0.055046  0.055046   0.055046   3   0   0   0   \n",
       "LF_temperature_row         14  0.256881  0.256881   0.256881  18   0   0   0   \n",
       "LF_test_condition_aligned  15  0.000000  0.000000   0.000000   0   0   0   0   \n",
       "LF_temp_outside_table      16  1.000000  1.000000   0.275229   0   0  51   0   \n",
       "LF_storage_row             17  0.137615  0.137615   0.137615  11   0   0   0   \n",
       "\n",
       "                           Empirical Acc.  Learned Acc.  \n",
       "LF_too_many_numbers_row               NaN      0.723323  \n",
       "LF_current_aligned                    NaN      0.711107  \n",
       "LF_tstg_row                           1.0      0.712713  \n",
       "LF_temp_on_high_page_num              0.0      0.734476  \n",
       "LF_typ_row                            NaN      0.712562  \n",
       "LF_voltage_row_part                   NaN      0.722929  \n",
       "LF_to_left                            1.0      0.715137  \n",
       "LF_test                               NaN      0.747721  \n",
       "LF_collector_aligned                  NaN      0.747743  \n",
       "LF_complement_left_row                NaN      0.740012  \n",
       "LF_not_temp_relevant                  0.0      0.740173  \n",
       "LF_voltage_row_temp                   NaN      0.723372  \n",
       "LF_negative_number_left               1.0      0.726279  \n",
       "LF_operating_row                      1.0      0.718762  \n",
       "LF_temperature_row                    1.0      0.724743  \n",
       "LF_test_condition_aligned             NaN      0.733977  \n",
       "LF_temp_outside_table                 0.0      0.747557  \n",
       "LF_storage_row                        1.0      0.729257  "
      ]
     },
     "execution_count": 47,
     "metadata": {},
     "output_type": "execute_result"
    }
   ],
   "source": [
    "from snorkel.annotations import load_gold_labels\n",
    "L_gold_dev = load_gold_labels(session, annotator_name='gold', split=1)\n",
    "L_dev.lf_stats(L_gold_dev, gen_model.weights.lf_accuracy())"
   ]
  },
  {
   "cell_type": "markdown",
   "metadata": {},
   "source": [
    "### Interpreting Generative Model Performance\n",
    "\n",
    "At this point, we should be getting an F1 score of around 0.6 to 0.7 on the development set, which is pretty good! However, we should be very careful in interpreting this. Since we developed our labeling functions using this development set as a guide, and our generative model is composed of these labeling functions, we expect it to score very well here!\n",
    "\n",
    "In fact, it is probably somewhat overfit to this set. However this is fine, since in the next tutorial, we'll train a more powerful end extraction model which will generalize beyond the development set, and which we will evaluate on a blind test set (i.e. one we never looked at during development).\n",
    "\n",
    "\n",
    "### Training the Discriminative Model\n",
    "Now, we'll use the noisy training labels we generated in the last part to train our end extraction model. For this tutorial, we will be training a simple - but fairly effective - logistic regression model. More generally, however, Snorkel plugs in with many ML libraries including [TensorFlow](https://www.tensorflow.org/), making it easy to use almost any state-of-the-art model as the end extractor!\n",
    "\n",
    "We use the training marginals to train a discriminative model that classifies each Candidate as a true or false mention. "
   ]
  },
  {
   "cell_type": "code",
   "execution_count": 48,
   "metadata": {},
   "outputs": [
    {
     "name": "stdout",
     "output_type": "stream",
     "text": [
      "[SparseLR] lr=0.001 l1=0.0 l2=0.0\n",
      "[SparseLR] Building model\n",
      "[SparseLR] Training model\n",
      "[SparseLR] #examples=2279  #epochs=200  batch size=100\n",
      "[SparseLR] Epoch 0 (0.35s)\tAvg. loss=0.400212\tNNZ=9679\n",
      "[SparseLR] Epoch 5 (2.04s)\tAvg. loss=0.093186\tNNZ=9679\n",
      "[SparseLR] Epoch 10 (3.65s)\tAvg. loss=0.068776\tNNZ=9679\n",
      "[SparseLR] Epoch 15 (5.53s)\tAvg. loss=0.060841\tNNZ=9679\n",
      "[SparseLR] Epoch 20 (7.52s)\tAvg. loss=0.057276\tNNZ=9679\n",
      "[SparseLR] Epoch 25 (9.60s)\tAvg. loss=0.055388\tNNZ=9679\n",
      "[SparseLR] Epoch 30 (11.44s)\tAvg. loss=0.054274\tNNZ=9679\n",
      "[SparseLR] Epoch 35 (13.15s)\tAvg. loss=0.053564\tNNZ=9679\n",
      "[SparseLR] Epoch 40 (15.06s)\tAvg. loss=0.053083\tNNZ=9679\n",
      "[SparseLR] Epoch 45 (16.67s)\tAvg. loss=0.052741\tNNZ=9679\n",
      "[SparseLR] Epoch 50 (18.44s)\tAvg. loss=0.052489\tNNZ=9679\n",
      "[SparseLR] Epoch 55 (20.06s)\tAvg. loss=0.052298\tNNZ=9679\n",
      "[SparseLR] Epoch 60 (21.97s)\tAvg. loss=0.052149\tNNZ=9679\n",
      "[SparseLR] Epoch 65 (23.61s)\tAvg. loss=0.052029\tNNZ=9679\n",
      "[SparseLR] Epoch 70 (25.55s)\tAvg. loss=0.051933\tNNZ=9679\n",
      "[SparseLR] Epoch 75 (27.32s)\tAvg. loss=0.051859\tNNZ=9679\n",
      "[SparseLR] Epoch 80 (29.39s)\tAvg. loss=0.051786\tNNZ=9679\n",
      "[SparseLR] Epoch 85 (31.29s)\tAvg. loss=0.051729\tNNZ=9679\n",
      "[SparseLR] Epoch 90 (33.06s)\tAvg. loss=0.051681\tNNZ=9679\n",
      "[SparseLR] Epoch 95 (34.80s)\tAvg. loss=0.051639\tNNZ=9679\n",
      "[SparseLR] Epoch 100 (36.49s)\tAvg. loss=0.051603\tNNZ=9679\n",
      "[SparseLR] Epoch 105 (38.50s)\tAvg. loss=0.051572\tNNZ=9679\n",
      "[SparseLR] Epoch 110 (40.34s)\tAvg. loss=0.051546\tNNZ=9679\n",
      "[SparseLR] Epoch 115 (42.12s)\tAvg. loss=0.051525\tNNZ=9679\n",
      "[SparseLR] Epoch 120 (43.79s)\tAvg. loss=0.051512\tNNZ=9679\n",
      "[SparseLR] Epoch 125 (45.58s)\tAvg. loss=0.051494\tNNZ=9679\n",
      "[SparseLR] Epoch 130 (47.86s)\tAvg. loss=0.051474\tNNZ=9679\n",
      "[SparseLR] Epoch 135 (49.73s)\tAvg. loss=0.051449\tNNZ=9679\n",
      "[SparseLR] Epoch 140 (51.33s)\tAvg. loss=0.051438\tNNZ=9679\n",
      "[SparseLR] Epoch 145 (53.07s)\tAvg. loss=0.051441\tNNZ=9679\n",
      "[SparseLR] Epoch 150 (54.68s)\tAvg. loss=0.051406\tNNZ=9679\n",
      "[SparseLR] Epoch 155 (56.43s)\tAvg. loss=0.051399\tNNZ=9679\n",
      "[SparseLR] Epoch 160 (58.06s)\tAvg. loss=0.051395\tNNZ=9679\n",
      "[SparseLR] Epoch 165 (59.80s)\tAvg. loss=0.051401\tNNZ=9679\n",
      "[SparseLR] Epoch 170 (61.54s)\tAvg. loss=0.051448\tNNZ=9679\n",
      "[SparseLR] Epoch 175 (63.17s)\tAvg. loss=0.051462\tNNZ=9679\n",
      "[SparseLR] Epoch 180 (64.90s)\tAvg. loss=0.051426\tNNZ=9679\n",
      "[SparseLR] Epoch 185 (66.50s)\tAvg. loss=0.051388\tNNZ=9679\n",
      "[SparseLR] Epoch 190 (68.24s)\tAvg. loss=0.051368\tNNZ=9679\n",
      "[SparseLR] Epoch 195 (69.87s)\tAvg. loss=0.051359\tNNZ=9679\n",
      "[SparseLR] Epoch 199 (71.30s)\tAvg. loss=0.051364\tNNZ=9679\n",
      "[SparseLR] Training done (71.30s)\n",
      "CPU times: user 1min 21s, sys: 824 ms, total: 1min 21s\n",
      "Wall time: 1min 11s\n"
     ]
    }
   ],
   "source": [
    "from snorkel.learning import SparseLogisticRegression\n",
    "\n",
    "disc_model = SparseLogisticRegression()\n",
    "%time disc_model.train(F_train, train_marginals, n_epochs=200, lr=0.001)"
   ]
  },
  {
   "cell_type": "markdown",
   "metadata": {},
   "source": [
    "### Evaluating on the Test Set\n",
    "In this final section, we'll get the score we've been after: the performance of the extraction model on the blind test set (split 2). First, we load the test set labels and gold candidates from earlier:"
   ]
  },
  {
   "cell_type": "code",
   "execution_count": 49,
   "metadata": {
    "collapsed": true
   },
   "outputs": [],
   "source": [
    "from snorkel.annotations import load_gold_labels\n",
    "L_gold_test = load_gold_labels(session, annotator_name='gold', split=2)"
   ]
  },
  {
   "cell_type": "markdown",
   "metadata": {
    "scrolled": true
   },
   "source": [
    "Now, we score using the discriminitive model:"
   ]
  },
  {
   "cell_type": "code",
   "execution_count": 50,
   "metadata": {
    "scrolled": false
   },
   "outputs": [
    {
     "name": "stdout",
     "output_type": "stream",
     "text": [
      "========================================\n",
      "Scores (Un-adjusted)\n",
      "========================================\n",
      "Pos. class accuracy: 0.0714\n",
      "Neg. class accuracy: 0.993\n",
      "Precision            0.8\n",
      "Recall               0.0714\n",
      "F1                   0.131\n",
      "----------------------------------------\n",
      "TP: 4 | FP: 1 | TN: 140 | FN: 52\n",
      "========================================\n",
      "\n"
     ]
    }
   ],
   "source": [
    "tp, fp, tn, fn = disc_model.score(session, F_test, L_gold_test)"
   ]
  },
  {
   "cell_type": "code",
   "execution_count": 51,
   "metadata": {},
   "outputs": [
    {
     "name": "stdout",
     "output_type": "stream",
     "text": [
      "Preparing candidates...\n",
      "[========================================] 100%\n",
      "========================================\n",
      "Scoring on Entity-Level Gold Data\n",
      "========================================\n",
      "Corpus Precision 0.833\n",
      "Corpus Recall    0.172\n",
      "Corpus F1        0.286\n",
      "----------------------------------------\n",
      "TP: 5 | FP: 1 | FN: 24\n",
      "========================================\n",
      "\n",
      "CPU times: user 84 ms, sys: 4 ms, total: 88 ms\n",
      "Wall time: 97.4 ms\n"
     ]
    }
   ],
   "source": [
    "from hardware_utils import entity_level_f1\n",
    "import os\n",
    "\n",
    "import cPickle as pickle\n",
    "pickle_file = os.environ['SNORKELHOME'] + '/tutorials/fonduer/hardware/data/parts_by_doc_dict.pkl'\n",
    "with open(pickle_file, 'r') as f:\n",
    "    parts_by_doc = pickle.load(f)\n",
    "\n",
    "%time (TP, FP, FN) = entity_level_f1(tp.union(fp), gold_file, ATTRIBUTE, test_docs, parts_by_doc=parts_by_doc)"
   ]
  },
  {
   "cell_type": "markdown",
   "metadata": {},
   "source": [
    "# Error Analysis & Iterative KBC\n",
    "\n",
    "During the development process, we can iteratively improve the quality of our labeling functions through error analysis, without executing the full pipeline as in previous techniques. \n",
    "\n",
    "## Error Analysis\n",
    "Understanding common errors. Which document has most problems, etc \n",
    "\n",
    "## Iteratively Improving Labeling Functions\n",
    "Armed with the information learned from error analysis, we can improve labeling functions and return from [Creating Labeling Functions](http://localhost:8888/notebooks/tutorials/fonduer/hardware/max_storage_temp_tutorial.ipynb#Creating-Labeling-Functions).\n",
    "\n",
    "TODO:\n",
    "- Error analysis\n",
    "- Updating LF, have user run again"
   ]
  },
  {
   "cell_type": "code",
   "execution_count": null,
   "metadata": {
    "collapsed": true
   },
   "outputs": [],
   "source": [
    "FN"
   ]
  },
  {
   "cell_type": "code",
   "execution_count": null,
   "metadata": {
    "collapsed": true
   },
   "outputs": [],
   "source": [
    "fn_cand = fn_list[20]\n",
    "\n",
    "from hardware_utils import part_error_analysis\n",
    "part_error_analysis(fn_cand)"
   ]
  },
  {
   "cell_type": "code",
   "execution_count": null,
   "metadata": {
    "collapsed": true
   },
   "outputs": [],
   "source": []
  }
 ],
 "metadata": {
  "anaconda-cloud": {},
  "kernelspec": {
   "display_name": "Python 2",
   "language": "python",
   "name": "python2"
  },
  "language_info": {
   "codemirror_mode": {
    "name": "ipython",
    "version": 2
   },
   "file_extension": ".py",
   "mimetype": "text/x-python",
   "name": "python",
   "nbconvert_exporter": "python",
   "pygments_lexer": "ipython2",
   "version": "2.7.12"
  }
 },
 "nbformat": 4,
 "nbformat_minor": 1
}
