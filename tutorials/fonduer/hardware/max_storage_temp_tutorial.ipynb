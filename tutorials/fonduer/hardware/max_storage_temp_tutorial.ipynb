{
 "cells": [
  {
   "cell_type": "markdown",
   "metadata": {},
   "source": [
    "# Tutorial: Extracting Maximum Storage Temperatures for Transistors from PDF Datasheets"
   ]
  },
  {
   "cell_type": "markdown",
   "metadata": {},
   "source": [
    "# Introduction\n",
    "\n",
    "In this tutorial, we will walk through the process of using `Fonduer` to identify mentions of the maximum storage temperature of transistors (e.g. `150°C`) in a corpus of transistor datasheets from [Digikey.com](https://www.digikey.com/products/en/discrete-semiconductor-products/transistors-bipolar-bjt-single/276).\n",
    "\n",
    "The tutorial is broken into several parts, each covering a Phase of the `Fonduer` pipeline (as outlined in the [paper](https://arxiv.org/abs/1703.05028)), and the iterative KBC process:\n",
    "\n",
    "1. KBC Initialization\n",
    "2. Candidate Generation and Multimodal Featurization\n",
    "3. Probabilistic Relation Classification\n",
    "4. Error Analysis and Iterative KBC\n",
    "\n",
    "In addition, we show how users can iteratively improve labeling functions to improve relation extraction quality.\n",
    "\n",
    "# Phase 1: KBC Initialization\n",
    "\n",
    "In this first phase of `Fonduer`'s pipeline, `Fonduer` uses a user specified _schema_ to initialize a relational database where the output KB will be stored. Furthermore, `Fonduer` iterates over its input _corpus_ and transforms each document into a unified data model, which captures the variability and multimodality of richly formatted data. This unified data model then servers as an intermediate representation used in the rest of the phases.\n",
    "\n",
    "This preprocessed data is saved to a database. Connection strings can be specified by setting the `SNORKELDB` environment variable. If no database is specified, then SQLite at `./snorkel.db` is created by default. However, to enabled parallel execution, we use PostgreSQL throughout this tutorial.\n",
    "\n",
    "We initialize several variables for convenience that define what the database should be called and what level of parallelization the `Fonduer` pipeline will be run with. In the code below, we use PostgreSQL as our database backend."
   ]
  },
  {
   "cell_type": "code",
   "execution_count": 1,
   "metadata": {
    "collapsed": true,
    "scrolled": false
   },
   "outputs": [],
   "source": [
    "%load_ext autoreload\n",
    "%autoreload 2\n",
    "%matplotlib inline\n",
    "\n",
    "import os\n",
    "import sys\n",
    "\n",
    "PARALLEL = 4 # assuming a quad-core machine\n",
    "ATTRIBUTE = \"stg_temp_max\"\n",
    "\n",
    "os.environ['SNORKELDBNAME'] = ATTRIBUTE\n",
    "os.environ['SNORKELDB'] = 'postgres://localhost:5432/' + os.environ['SNORKELDBNAME']\n",
    "        \n",
    "sys.path.append(os.environ['SNORKELHOME'] + '/tutorials/fonduer/hardware/')"
   ]
  },
  {
   "cell_type": "markdown",
   "metadata": {},
   "source": [
    "## 1.1 Defining a Candidate Schema\n",
    "\n",
    "We first initialize a `SnorkelSession`, which manages the connection to the database automatically, and enables us to save intermediate results. This code also reinitializes each of the databases to ensure that we are starting fresh."
   ]
  },
  {
   "cell_type": "code",
   "execution_count": 2,
   "metadata": {
    "scrolled": false
   },
   "outputs": [
    {
     "name": "stdout",
     "output_type": "stream",
     "text": [
      "SNORKELDB = postgres://localhost:5432/stg_temp_max\n",
      "SNORKELDBNAME = stg_temp_max\n"
     ]
    }
   ],
   "source": [
    "# print os.system(\"dropdb --if-exists \" + os.environ['SNORKELDBNAME'])\n",
    "# print os.system(\"createdb \" + os.environ['SNORKELDBNAME'])\n",
    "print \"SNORKELDB = %s\" % os.environ['SNORKELDB']\n",
    "print \"SNORKELDBNAME = %s\" % os.environ['SNORKELDBNAME']\n",
    "\n",
    "from snorkel import SnorkelSession\n",
    "session = SnorkelSession()"
   ]
  },
  {
   "cell_type": "markdown",
   "metadata": {},
   "source": [
    "Next, we define the _schema_ of the relation we want to extract. This must be a subclass of Candidate, and we define it using a helper function. Here, we define a binary relation which connects two Span objects of text. This is what creates the relation's database table if it does not already exist."
   ]
  },
  {
   "cell_type": "code",
   "execution_count": 3,
   "metadata": {
    "collapsed": true
   },
   "outputs": [],
   "source": [
    "from snorkel.models import candidate_subclass\n",
    "\n",
    "Part_Attr = candidate_subclass('Part_Attr', ['part','attr'])"
   ]
  },
  {
   "cell_type": "markdown",
   "metadata": {
    "scrolled": false
   },
   "source": [
    "### 1.2 Parsing and Transforming the Input Documents into Unified Data Models\n",
    "\n",
    "Next, we load the corpus of datasheets and transform them into the unified data model. Each datasheet has a PDF and HTML representation. Both representations are used in conjunction to create a robust unified data model with textual, structural, tabular, and visual modality information. Note that since each document is independent of each other, we can parse the documents in parallel. Note that parallel execution will not work with SQLite, the default database engine. We depend on PostgreSQL for this functionality.\n",
    "\n",
    "#### Configuring an `HTMLPreprocessor`\n",
    "We start by setting the paths to where our documents are stored, and defining a `HTMLPreprocessor` to read in the documents found in the specified paths. `max_docs` specified the number of documents to parse. For the sake of this tutorial, we only look at 50 documents.\n",
    "\n",
    "**Note that you need to have run `download_data.sh` before executing these next steps or you won't have the documents needed for the tutorial.**"
   ]
  },
  {
   "cell_type": "code",
   "execution_count": 4,
   "metadata": {
    "collapsed": true
   },
   "outputs": [],
   "source": [
    "from snorkel.parser import HTMLPreprocessor, OmniParser\n",
    "\n",
    "docs_path = os.environ['SNORKELHOME'] + '/tutorials/fonduer/hardware/data/html/'\n",
    "pdf_path = os.environ['SNORKELHOME'] + '/tutorials/fonduer/hardware/data/pdf/'\n",
    "\n",
    "doc_preprocessor = HTMLPreprocessor(docs_path, max_docs=100)"
   ]
  },
  {
   "cell_type": "markdown",
   "metadata": {},
   "source": [
    "#### Configuring an `OmniParser`\n",
    "Next, we configure an `OmniParser`, which serves as our `CorpusParser` for PDF documents. We use [CoreNLP](https://stanfordnlp.github.io/CoreNLP/) as a preprocessing tool to split our documents into phrases and tokens, and to provide annotations such as part-of-speech tags and dependency parse structures for these phrases. In addition, we can specify which modality information to include in the unified data model for each document. Below, we enable all modality information."
   ]
  },
  {
   "cell_type": "code",
   "execution_count": 5,
   "metadata": {
    "scrolled": false
   },
   "outputs": [
    {
     "name": "stdout",
     "output_type": "stream",
     "text": [
      "Clearing existing...\n",
      "Running UDF...\n",
      "CPU times: user 11.3 s, sys: 232 ms, total: 11.6 s\n",
      "Wall time: 7min 5s\n"
     ]
    }
   ],
   "source": [
    "corpus_parser = OmniParser(structural=True, lingual=True, visual=True, pdf_path=pdf_path)\n",
    "%time corpus_parser.apply(doc_preprocessor, parallelism=PARALLEL)"
   ]
  },
  {
   "cell_type": "markdown",
   "metadata": {},
   "source": [
    "We can then use simple database queries (written in the syntax of [SQLAlchemy](http://www.sqlalchemy.org/), which `Fonduer` uses) to check how many documents and sentences were parsed, or even check how many phrases and tables are contained in each document."
   ]
  },
  {
   "cell_type": "code",
   "execution_count": 6,
   "metadata": {
    "scrolled": false
   },
   "outputs": [
    {
     "name": "stdout",
     "output_type": "stream",
     "text": [
      "Documents: 100\n",
      "Phrases: 47656\n"
     ]
    }
   ],
   "source": [
    "from snorkel.models import Document, Phrase\n",
    "\n",
    "print \"Documents:\", session.query(Document).count()\n",
    "print \"Phrases:\", session.query(Phrase).count()"
   ]
  },
  {
   "cell_type": "markdown",
   "metadata": {},
   "source": [
    "## 1.3 Dividing the Corpus into Test and Train\n",
    "\n",
    "We'll split the documents 40/5/5 into train/dev/test splits. Note that here we do this in a non-random order to preverse the consistency in the tutorial, and we reference the splits by 0/1/2 respectively."
   ]
  },
  {
   "cell_type": "code",
   "execution_count": 7,
   "metadata": {},
   "outputs": [
    {
     "name": "stdout",
     "output_type": "stream",
     "text": [
      "[u'CSEMS02742-1',\n",
      " u'2N6426-D',\n",
      " u'JCSTS01155-1',\n",
      " u'MicroCommercialCo_2N3904AP',\n",
      " u'CentralSemiconductorCorp_CMPT5401ETR',\n",
      " u'DiodesIncorporated_ZTX953STZ',\n",
      " u'DiodesIncorporated_FCX491ATA',\n",
      " u'NXPUSAInc_PBSS5360PASX',\n",
      " u'2N6427',\n",
      " u'DiodesIncorporated_ZTX688BSTZ',\n",
      " u'FairchildSemiconductor_KSC2310YTA',\n",
      " u'MicrosemiCorporation_2N2484UB',\n",
      " u'DiodesIncorporated_ZXT690BKTC',\n",
      " u'BC547',\n",
      " u'CentralSemiconductorCorp_CXT4033TR',\n",
      " u'AUKCS04635-1',\n",
      " u'INFNS19372-1',\n",
      " u'MOTOS03189-1',\n",
      " u'Infineon-BC857SERIES_BC858SERIES_BC859SERIES_BC860SERIES-DS-v01_01-en',\n",
      " u'LTSCS02912-1',\n",
      " u'DIODS00215-1',\n",
      " u'DiodesIncorporated_2DD26527',\n",
      " u'MOTOS04796-1',\n",
      " u'BC182',\n",
      " u'BC818',\n",
      " u'dtc114w',\n",
      " u'MicroCommercialCo_TIP29ABP',\n",
      " u'DIODS13249-1',\n",
      " u'MCCCS08610-1',\n",
      " u'BC182-D',\n",
      " u'FAIRS19194-1',\n",
      " u'MOTOS03160-1',\n",
      " u'MINDS00015-1',\n",
      " u'BC337-D',\n",
      " u'LITES00689-1',\n",
      " u'CSEMS05383-1',\n",
      " u'FAIRS25065-1',\n",
      " u'BC337',\n",
      " u'DISES00616-1',\n",
      " u'DISES00645-1',\n",
      " u'MMBT3904',\n",
      " u'Infineon-BC817KSERIES_BC818KSERIES-DS-v01_01-en',\n",
      " u'DiodesIncorporated_ZTX789ASTZ',\n",
      " u'LITES00686-1',\n",
      " u'DISES00189-1',\n",
      " u'BC546A_Series_B14-521026',\n",
      " u'BournsInc_BD246BS',\n",
      " u'MMMCS17742-1',\n",
      " u'DISES00023-1',\n",
      " u'LTSCS02920-1',\n",
      " u'bc546_diotec',\n",
      " u'CSEMS05382-1',\n",
      " u'KECCS05435-1',\n",
      " u'LITES00690-1',\n",
      " u'BC546',\n",
      " u'2N4124',\n",
      " u'MCCCS09741-1',\n",
      " u'112823',\n",
      " u'LITES00424-1',\n",
      " u'DISES00242-1',\n",
      " u'bc550',\n",
      " u'2N3906',\n",
      " u'CSEMS03485-1',\n",
      " u'CentralSemiconductorCorp_2N4013',\n",
      " u'MOTOS04676-1',\n",
      " u'DISES00192-1',\n",
      " u'2N3906-D',\n",
      " u'KECCS03676-1',\n",
      " u'BC546-BC548C(TO-92)',\n",
      " u'BC818-40LT1-D',\n",
      " u'MCCCS09540-1',\n",
      " u'2N4123-D',\n",
      " u'MCCCS08818-1',\n",
      " u'DiodesIncorporated_FZT651TC',\n",
      " u'CentralSemiconductorCorp_CENU45',\n",
      " u'DISES00490-1',\n",
      " u'bc546-d',\n",
      " u'MCCCS08984-1',\n",
      " u'LTSCS02910-1',\n",
      " u'BournsInc_TIP152S']\n"
     ]
    }
   ],
   "source": [
    "from snorkel.models import Document\n",
    "\n",
    "docs = session.query(Document).order_by(Document.name).all()\n",
    "ld   = len(docs)\n",
    "\n",
    "train_docs = set()\n",
    "dev_docs   = set()\n",
    "test_docs  = set()\n",
    "splits = (0.8, 0.9)\n",
    "for i,doc in enumerate(docs):\n",
    "    if i < splits[0] * ld:\n",
    "        train_docs.add(doc)\n",
    "    elif i < splits[1] * ld:\n",
    "        dev_docs.add(doc)\n",
    "    else:\n",
    "        test_docs.add(doc)\n",
    "from pprint import pprint\n",
    "pprint([x.name for x in train_docs])"
   ]
  },
  {
   "cell_type": "markdown",
   "metadata": {},
   "source": [
    "# Phase 2: Candidate Extraction & Multimodal Featurization\n",
    "Given the unified data model from Phase 1, `Fonduer` extracts relation candidates based on user-provided **matchers** and **throttlers**. Then, `Fonduer` leverages the multimodality information captured in the unified data model to provide multimodal features for each candidate.\n",
    "\n",
    "## 2.1: Candidate Extraction\n",
    "\n",
    "The next step is to extract **candidates** from our corpus. A `candidate` is the objects for which we want to make predictions. In this case, the candidates are pairs of transistor part numbers and their corresponding maximum storage temperatures as found in their datasheets. Our task is to predict which pairs are true in the associated document.\n",
    "\n",
    "To do so, we write **matchers** to define which spans of text in the corpus are instances of each entity. Matchers can leverage a variety of information from regular expressions, to dictionaries, to user-defined functions. Furthermore, different techniques can be combined to form higher quality matchers. In general, matchers should seek to be as precise as possible while maintaining complete recall.\n",
    "\n",
    "In our case, we need to write a matcher that defines a transistor part number and a matcher to define a valid temperature value.\n",
    "\n",
    "### Writing a simple temperature matcher\n",
    "\n",
    "Our maximum storage temperature matcher can be a very simple regular expression since we know that we are looking for integers, and by inspecting a portion of our corpus, we see that maximum storage temperatures fall within a fairly narrow range."
   ]
  },
  {
   "cell_type": "code",
   "execution_count": 8,
   "metadata": {
    "collapsed": true
   },
   "outputs": [],
   "source": [
    "from snorkel.matchers import *\n",
    "\n",
    "attr_matcher = RegexMatchSpan(rgx=r'(?:[1][5-9]|20)[05]', longest_match_only=False)"
   ]
  },
  {
   "cell_type": "markdown",
   "metadata": {},
   "source": [
    "### Writing an advanced transistor part matcher\n",
    "\n",
    "In contrast, transistor part numbers are complex expressions. Here, we show how transistor part numbers can leverage [naming conventions](https://en.wikipedia.org/wiki/Transistor#Part_numbering_standards.2Fspecifications) as regular expressions, and use a dictionary of known part numbers, and use user-defined functions together. First, we create a regular expression matcher for standard transistor naming conventions."
   ]
  },
  {
   "cell_type": "code",
   "execution_count": 9,
   "metadata": {
    "collapsed": true
   },
   "outputs": [],
   "source": [
    "### Transistor Naming Conventions as Regular Expressions ###\n",
    "eeca_rgx = '([ABC][A-Z][WXYZ]?[0-9]{3,5}(?:[A-Z]){0,5}[0-9]?[A-Z]?(?:-[A-Z0-9]{1,7})?(?:[-][A-Z0-9]{1,2})?(?:\\/DG)?)'\n",
    "jedec_rgx = '(2N\\d{3,4}[A-Z]{0,5}[0-9]?[A-Z]?)'\n",
    "jis_rgx = '(2S[ABCDEFGHJKMQRSTVZ]{1}[\\d]{2,4})'\n",
    "others_rgx = '((?:NSVBC|SMBT|MJ|MJE|MPS|MRF|RCA|TIP|ZTX|ZT|ZXT|TIS|TIPL|DTC|MMBT|SMMBT|PZT|FZT|STD|BUV|PBSS|KSC|CXT|FCX|CMPT){1}[\\d]{2,4}[A-Z]{0,5}(?:-[A-Z0-9]{0,6})?(?:[-][A-Z0-9]{0,1})?)'\n",
    "\n",
    "part_rgx = '|'.join([eeca_rgx, jedec_rgx, jis_rgx, others_rgx])\n",
    "part_rgx_matcher = RegexMatchSpan(rgx=part_rgx, longest_match_only=True)"
   ]
  },
  {
   "cell_type": "markdown",
   "metadata": {},
   "source": [
    "Next, we can create a matcher from a dictionary of known part numbers:"
   ]
  },
  {
   "cell_type": "code",
   "execution_count": 10,
   "metadata": {
    "collapsed": true
   },
   "outputs": [],
   "source": [
    "import csv\n",
    "\n",
    "def get_digikey_parts_set(path):\n",
    "    \"\"\"\n",
    "    Reads in the digikey part dictionary and yeilds each part.\n",
    "    \"\"\"\n",
    "    all_parts = set()\n",
    "    with open(path, \"r\") as csvinput:\n",
    "        reader = csv.reader(csvinput)\n",
    "        for line in reader:\n",
    "            (part, url) = line\n",
    "            all_parts.add(part)\n",
    "    return all_parts\n",
    "            \n",
    "### Dictionary of known transistor parts ###\n",
    "dict_path = os.environ['SNORKELHOME'] + '/tutorials/fonduer/hardware/data/digikey_part_dictionary.csv'\n",
    "part_dict_matcher = DictionaryMatch(d=get_digikey_parts_set(dict_path))"
   ]
  },
  {
   "cell_type": "markdown",
   "metadata": {},
   "source": [
    "We can also use user-defined functions to further improve our matchers. For example, here we use patterns in the document filenames as a signal for whether a span of text in a document is a valid transistor part number."
   ]
  },
  {
   "cell_type": "code",
   "execution_count": 11,
   "metadata": {
    "collapsed": true
   },
   "outputs": [],
   "source": [
    "def common_prefix_length_diff(str1, str2):\n",
    "    for i in range(min(len(str1), len(str2))):\n",
    "        if str1[i] != str2[i]:\n",
    "            return min(len(str1), len(str2)) - i\n",
    "    return 0\n",
    "\n",
    "def part_file_name_conditions(attr):\n",
    "    file_name = attr.sentence.document.name\n",
    "    if len(file_name.split('_')) != 2: return False\n",
    "    if attr.get_span()[0] == '-': return False\n",
    "    name = attr.get_span().replace('-', '')\n",
    "    return any(char.isdigit() for char in name) and any(char.isalpha() for char in name) and common_prefix_length_diff(file_name.split('_')[1], name) <= 2\n",
    "\n",
    "add_rgx = '^[A-Z0-9\\-]{5,15}$'\n",
    "\n",
    "part_file_name_lambda_matcher = LambdaFunctionMatch(func=part_file_name_conditions)\n",
    "part_file_name_matcher = Intersect(RegexMatchSpan(rgx=add_rgx, longest_match_only=True), part_file_name_lambda_matcher)"
   ]
  },
  {
   "cell_type": "markdown",
   "metadata": {},
   "source": [
    "Then, we can union all of these matchers together to form our final part matcher."
   ]
  },
  {
   "cell_type": "code",
   "execution_count": 12,
   "metadata": {
    "collapsed": true
   },
   "outputs": [],
   "source": [
    "part_matcher = Union(part_rgx_matcher, part_dict_matcher, part_file_name_matcher)"
   ]
  },
  {
   "cell_type": "markdown",
   "metadata": {},
   "source": [
    "These two matchers define each entity in our relation schema."
   ]
  },
  {
   "cell_type": "markdown",
   "metadata": {},
   "source": [
    "### Define a relation's `ContextSpaces`\n",
    "\n",
    "Next, in order to define the \"space\" of all candidates that are even considered from the document, we need to define a `ContextSpace` for each component of the relation we wish to extract.\n",
    "\n",
    "In the case of transistor part numbers, the `ContextSpace` can be quite complex due to the need to handle implicit part numbers that are implied in text like \"BC546A/B/C...BC548A/B/C\", which refers to 9 unique part numbers. In addition, to handle these, we consider all n-grams up to 3 words long.\n",
    "\n",
    "In contrast, the `ContextSpace` for temperature values is simpler: we only need to process different unicode representations of a (`-`), and don't need to look at more than two works at a time."
   ]
  },
  {
   "cell_type": "code",
   "execution_count": 13,
   "metadata": {
    "collapsed": true
   },
   "outputs": [],
   "source": [
    "from hardware_spaces import OmniNgramsPart, OmniNgramsTemp\n",
    "    \n",
    "part_ngrams = OmniNgramsPart(parts_by_doc=None, n_max=3)\n",
    "attr_ngrams = OmniNgramsTemp(n_max=2)"
   ]
  },
  {
   "cell_type": "markdown",
   "metadata": {},
   "source": [
    "### Defining candidate `Throttlers`\n",
    "\n",
    "Next, we need to define **throttlers**, which allow us to further prune excess candidates and avoid unnecessarily materializing invalid candidates. Trottlers, like matchers, act as hard filters, and should be created to have high precision while maintaining complete recall, if possible.\n",
    "\n",
    "Here, we create a throttler that discards candidates if they are in the same table, but the part and storage temperature are not vertically or horizontally aligned."
   ]
  },
  {
   "cell_type": "code",
   "execution_count": 14,
   "metadata": {
    "collapsed": true
   },
   "outputs": [],
   "source": [
    "from snorkel.contrib.fonduer.lf_helpers import *\n",
    "import re\n",
    "\n",
    "def stg_temp_throttler((part, attr)):\n",
    "    if same_table((part, attr)):\n",
    "        return (is_horz_aligned((part, attr)) or is_vert_aligned((part, attr)))\n",
    "    return True\n",
    "\n",
    "throttler = stg_temp_throttler"
   ]
  },
  {
   "cell_type": "markdown",
   "metadata": {},
   "source": [
    "### Running the `CandidateExtractor`\n",
    "\n",
    "Now, we have all the component necessary to perform candidate extraction. We have defined the \"space\" of things to consider for each candidate, provided matchers that signal when a valid mention is seen, and a throttler to prunes away excess candidates. We now can define the `CandidateExtractor` with the contexts to extract from, the matchers, and the throttler to use. "
   ]
  },
  {
   "cell_type": "code",
   "execution_count": 15,
   "metadata": {
    "scrolled": false
   },
   "outputs": [
    {
     "name": "stdout",
     "output_type": "stream",
     "text": [
      "Clearing existing...\n",
      "Running UDF...\n",
      "[========================================] 100%\n",
      "CPU times: user 57.7 s, sys: 4.94 s, total: 1min 2s\n",
      "Wall time: 3min 18s\n"
     ]
    }
   ],
   "source": [
    "from snorkel.candidates import CandidateExtractor\n",
    "\n",
    "\n",
    "candidate_extractor = CandidateExtractor(Part_Attr, \n",
    "                        [part_ngrams, attr_ngrams], \n",
    "                        [part_matcher, attr_matcher], \n",
    "                        throttler=throttler)\n",
    "\n",
    "%time candidate_extractor.apply(train_docs, split=0)"
   ]
  },
  {
   "cell_type": "markdown",
   "metadata": {},
   "source": [
    "Here we specified that these `Candidates` belong to the training set by specifying `split=0`; recall that we're referring to train/dev/test as splits 0/1/2."
   ]
  },
  {
   "cell_type": "code",
   "execution_count": 16,
   "metadata": {},
   "outputs": [
    {
     "name": "stdout",
     "output_type": "stream",
     "text": [
      "Number of candidates: 23924\n"
     ]
    }
   ],
   "source": [
    "train_cands = session.query(Part_Attr).filter(Part_Attr.split == 0).all()\n",
    "print \"Number of candidates:\", len(train_cands)"
   ]
  },
  {
   "cell_type": "markdown",
   "metadata": {},
   "source": [
    "### Repeating for development and test splits\n",
    "Finally, we rerun the same operation for the other two document divisions: dev and test. For each, we simply load the `Corpus` object and run them through the `CandidateExtractor`."
   ]
  },
  {
   "cell_type": "code",
   "execution_count": 17,
   "metadata": {},
   "outputs": [
    {
     "name": "stdout",
     "output_type": "stream",
     "text": [
      "Clearing existing...\n",
      "Running UDF...\n",
      "[========================================] 100%\n",
      "Number of candidates: 19521\n",
      "Clearing existing...\n",
      "Running UDF...\n",
      "[========================================] 100%\n",
      "Number of candidates: 2448\n",
      "CPU times: user 42.4 s, sys: 4.36 s, total: 46.7 s\n",
      "Wall time: 2min 44s\n"
     ]
    }
   ],
   "source": [
    "%%time\n",
    "for i, docs in enumerate([dev_docs, test_docs]):\n",
    "    candidate_extractor.apply(docs, split=i+1)\n",
    "    print \"Number of candidates:\", session.query(Part_Attr).filter(Part_Attr.split == i+1).count()"
   ]
  },
  {
   "cell_type": "markdown",
   "metadata": {},
   "source": [
    "## 2.2 Multimodal Featurization\n",
    "Unlike dealing with plain unstructured text, `Fonduer` deals with richly formatted data, and consequently featurizes each candidate with a baseline library of multimodal features. \n",
    "\n",
    "### Featurize with `Fonduer`'s optimized Postgres Feature Annotator\n",
    "We now annotate the candidates in our dev, test, and training sets with features. The `BatchFeatureAnnotator` provided by `Fonduer` allows this to be done in parallel to improve performance.\n",
    "\n",
    "`featurizer.apply` takes three important arguments.\n",
    "* `split` defines which candidate set wer are dealing with. For example, `split=0` is the training set.\n",
    "* `replace_key_set` determine whether or not replace, or reinitialize, the set of features to apply to candidates. That is, when `replace_key_set` is true, key set of features will be replaced with the key set of the features found in the split that is being processed.\n",
    "* `parallelism` determines how many processes to run in parallel.\n",
    "\n",
    "Notices that `replace_key_set=True` only for the first call to `featurizer.apply`, while the other calls have this parameter set to `False`. This is because we want to have the set of features we label candidates with defined by the features found in the set of training documents only. If a later call to `featurizer.apply` replaced the key set, then only the features of that particular split would be considered later in the pipeline."
   ]
  },
  {
   "cell_type": "code",
   "execution_count": 18,
   "metadata": {},
   "outputs": [
    {
     "name": "stdout",
     "output_type": "stream",
     "text": [
      "Clearing existing...\n",
      "Running UDF...\n",
      "Copying part_attr_feature to postgres\n",
      "COPY 23924\n",
      "\n",
      "CPU times: user 30.1 s, sys: 352 ms, total: 30.5 s\n",
      "Wall time: 33min\n",
      "(23924, 21895)\n",
      "Clearing existing...\n",
      "Running UDF...\n",
      "Copying part_attr_feature_updates to postgres\n",
      "COPY 19521\n",
      "\n",
      "CPU times: user 19.2 s, sys: 420 ms, total: 19.6 s\n",
      "Wall time: 1h 24min 48s\n",
      "(19521, 21895)\n",
      "Clearing existing...\n",
      "Running UDF...\n",
      "Copying part_attr_feature_updates to postgres\n",
      "COPY 2448\n",
      "\n",
      "CPU times: user 2.12 s, sys: 192 ms, total: 2.31 s\n",
      "Wall time: 2min 3s\n",
      "(2448, 21895)\n"
     ]
    }
   ],
   "source": [
    "from snorkel.contrib.fonduer.async_annotations import BatchFeatureAnnotator\n",
    "\n",
    "featurizer = BatchFeatureAnnotator(Part_Attr)\n",
    "%time F_train = featurizer.apply(split=0, replace_key_set=True, parallelism=PARALLEL)\n",
    "print F_train.shape\n",
    "# %time F_dev = featurizer.apply(split=1, replace_key_set=False, parallelism=PARALLEL)\n",
    "# print F_dev.shape\n",
    "%time F_test = featurizer.apply(split=2, replace_key_set=False, parallelism=PARALLEL)\n",
    "print F_test.shape"
   ]
  },
  {
   "cell_type": "markdown",
   "metadata": {},
   "source": [
    "At the end of this phase, `Fonduer` has generated the set of candidates and the feature matrix. Note that Phase 1 and 2 are relatively static and typically are only executed once during the KBC process.\n",
    "\n",
    "# Phase 3: Probabilistic Relation Classification\n",
    "In this phase, `Fonduer` applies user-defined **labeling functions**, which express various heuristics, patterns, and [weak supervision](http://hazyresearch.github.io/snorkel/blog/weak_supervision.html) strategies to label our data, to each of the candidates to create a label matrix that is used by our data programming engine.\n",
    "\n",
    "In the wild, hand-labeled training data is rare and expensive. A common scenario is to have access to tons of unlabeled training data, and have some idea of how to label them programmatically. For example:\n",
    "* We may be able to think of text patterns that would indicate a part and polarity mention are related, for example the word \"polarity\" appearing between them.\n",
    "* We may have access to an external knowledge base that lists some pairs of parts and polarities, and can use these to noisily label some of our mention pairs.\n",
    "Our labeling functions will capture these types of strategies. We know that these labeling functions will not be perfect, and some may be quite low-quality, so we will model their accuracies with a generative model, which `Fonduer` will help us easily apply.\n",
    "\n",
    "Using data programming, we can then train machine learning models to learn which features are the most important in classifying candidates.\n",
    "\n",
    "### Loading Gold Data\n",
    "For convenience in error analysis and evaluation, we have already annotated the dev and test set for this tutorial, and we'll now load it using an externally-defined helper function.\n",
    "\n",
    "Loading and saving external \"gold\" labels can be a bit messy, but is often a critical part of development, especially when gold labels are expensive and/or time-consuming to obtain. Snorkel stores all labels that are manually annotated in a **stable** format (called StableLabels), which is somewhat independent from the rest of Snorkel's data model, does not get deleted when you delete the candidates, corpus, or any other objects, and can be recovered even if the rest of the data changes or is deleted.\n",
    "\n",
    "Our general procedure with external labels is to load them into the `StableLabel` table, then use `Fonduer`'s helpers to load them into the main data model from there. If interested in example implementation details, please see the script we now load:"
   ]
  },
  {
   "cell_type": "code",
   "execution_count": 5,
   "metadata": {},
   "outputs": [
    {
     "name": "stdout",
     "output_type": "stream",
     "text": [
      "Loading 45893 candidate labels\n",
      "[========================================] 100%\n",
      "AnnotatorLabels created: 0\n"
     ]
    }
   ],
   "source": [
    "from hardware_utils import load_hardware_labels\n",
    "\n",
    "gold_file = os.environ['SNORKELHOME'] + '/tutorials/fonduer/hardware/data/hardware_tutorial_gold.csv'\n",
    "load_hardware_labels(session, Part_Attr, gold_file, ATTRIBUTE ,annotator_name='gold')"
   ]
  },
  {
   "cell_type": "markdown",
   "metadata": {},
   "source": [
    "### Creating Labeling Functions\n",
    "\n",
    "In `Fonduer`, our primary interface through which we provide training signal to the end extraction model we are training is by writing labeling functions (**LFs**) (as opposed to hand-labeling massive training sets).\n",
    "\n",
    "A labeling function isn't anything special. It's just a Python function that accepts a `Candidate` as the input argument and returns `1` if it says the Candidate should be marked as true, `-1` if it says the `Candidate` should be marked as false, and `0` if it doesn't know how to vote and abstains. In practice, many labeling functions are unipolar: it labels only 1s and 0s, or it labels only -1s and 0s.\n",
    "\n",
    "Recall that our goal is to ultimately train a high-performance classification model that predicts which of our Candidates are true mentions of spouse relations. It turns out that we can do this by writing potentially low-quality labeling functions!\n",
    "\n",
    "With `Fonduer`, labeling functions can be written using intuitive patterns discovered by inspecting the target corpus. A library of labeling function helpers can be found in `snorke.contrib.fonduer.lf_helpers`. \n",
    "\n",
    "For example, inspecting several document may reveal that storage temperatures are typically listed inside a table where the row header contains the word \"storage\". This intuitive pattern can be directly expressed as a labeling function. Similarly, the word \"temperature\" is an obvious positive signal."
   ]
  },
  {
   "cell_type": "code",
   "execution_count": 6,
   "metadata": {
    "collapsed": true
   },
   "outputs": [],
   "source": [
    "from snorkel.contrib.fonduer.lf_helpers import *\n",
    "import re\n",
    "\n",
    "def LF_storage_row(c):\n",
    "    return 1 if 'storage' in get_row_ngrams(c.attr) else 0\n",
    "\n",
    "def LF_temperature_row(c):\n",
    "    return 1 if 'temperature' in get_row_ngrams(c.attr) else 0"
   ]
  },
  {
   "cell_type": "markdown",
   "metadata": {},
   "source": [
    "We express several of these simple patterns below as a set of labeling functions:"
   ]
  },
  {
   "cell_type": "code",
   "execution_count": 7,
   "metadata": {
    "collapsed": true
   },
   "outputs": [],
   "source": [
    "def LF_operating_row(c):\n",
    "    return 1 if 'operating' in get_row_ngrams(c.attr) else 0\n",
    "\n",
    "def LF_tstg_row(c):\n",
    "    return 1 if overlap(\n",
    "        ['tstg','stg','ts'], \n",
    "        list(get_row_ngrams(c.attr))) else 0\n",
    "\n",
    "\n",
    "def LF_to_left(c):\n",
    "    return 1 if 'to' in get_left_ngrams(c.attr, window=2) else 0\n",
    "\n",
    "def LF_negative_number_left(c):\n",
    "    return 1 if any([re.match(r'-\\s*\\d+', ngram) for ngram in get_left_ngrams(c.attr, window=4)]) else 0"
   ]
  },
  {
   "cell_type": "markdown",
   "metadata": {},
   "source": [
    "Then, we collect all of the labeling function we would like to use into a single list, which is provided as input to the `LabelAnnotator`."
   ]
  },
  {
   "cell_type": "code",
   "execution_count": 9,
   "metadata": {
    "collapsed": true
   },
   "outputs": [],
   "source": [
    "stg_temp_lfs = [\n",
    "    LF_storage_row,\n",
    "    LF_operating_row,\n",
    "    LF_temperature_row,\n",
    "    LF_tstg_row,\n",
    "    LF_to_left,\n",
    "    LF_negative_number_left\n",
    "]"
   ]
  },
  {
   "cell_type": "markdown",
   "metadata": {},
   "source": [
    "### Applying the Labeling Functions\n",
    "\n",
    "Next, we need to actually run the LFs over all of our training candidates, producing a set of `Labels` and `LabelKeys` (just the names of the LFs) in the database. We'll do this using the `LabelAnnotator` class, a `UDF` which we will again run with `UDFRunner`. Note that this will delete any existing `Labels` and `LabelKeys` for this candidate set. Also note that we are using `Fonduer`'s optimized batch label annotator, which runs in parallel and depends on having Postgres as the backend database. \n",
    "\n",
    "By default, `labeler.apply` will drop the existing table of labeling functions and the label values for each candidate. However, this behavior can be controlled by three parameters to the function to imperove iteration performance and reduce redundant computation:\n",
    "- `split` defines which set to operate on (e.g. dev, test, or train)\n",
    "- `clear` can be `True` or `False`, and is `True` by default. When set to `False`, the labeling functioni table is not dropped, and the behavior of `labeler.apply` is defined by the following two parameters.\n",
    "- `update_keys` can be `True` or `False`. When `True`, the keys (which are each labeling function) are updated according to the set of labeling functions provided to the function. This should be set to `True` if new labeling functions are added. When `False`, no new LFs are evaluated and the keys of existing LFs remain the same.\n",
    "- `update_values` can be `True` or `False`. This defines how to resolve conflicts. When `True`, the values assigned to each candiate is updated to the new values when in conflict. This should be set to `True` if labeling function logic is edited, even though the name of the labeling function remains the same. When `False`, the existing labels assigned to each candidate are used, and newly computed labels are ignored.\n",
    "- `parallelism` is the amount of parallelism to use when labeling.\n",
    "\n",
    "With this in mind, we set `clear=True` when we first apply our labeling functions, and this ensures that the table is created and intialized with proper keys and values.\n",
    "\n",
    "In future iterations, we would typically set `clear=False, update_keys=True, update_values=True` so that we can simple update the set of LFs and their values without recreating the entire table. We will see how this is used later in the tutorial."
   ]
  },
  {
   "cell_type": "code",
   "execution_count": 11,
   "metadata": {},
   "outputs": [
    {
     "name": "stdout",
     "output_type": "stream",
     "text": [
      "Clearing existing...\n",
      "Running UDF...\n",
      "Copying part_attr_label_updates to postgres\n",
      "COPY 23924\n",
      "\n",
      "CPU times: user 2.17 s, sys: 132 ms, total: 2.3 s\n",
      "Wall time: 7min 48s\n",
      "(23924, 17)\n"
     ]
    }
   ],
   "source": [
    "from snorkel.contrib.fonduer.async_annotations import BatchLabelAnnotator\n",
    "\n",
    "labeler = BatchLabelAnnotator(Part_Attr, lfs = stg_temp_lfs)\n",
    "%time L_train = labeler.apply(split=0, clear=True, parallelism=PARALLEL)\n",
    "print L_train.shape"
   ]
  },
  {
   "cell_type": "markdown",
   "metadata": {},
   "source": [
    "Note that the returned matrix is a special subclass of the scipy.sparse.csr_matrix class, with some special features which we demonstrate below:"
   ]
  },
  {
   "cell_type": "code",
   "execution_count": 12,
   "metadata": {},
   "outputs": [
    {
     "data": {
      "text/plain": [
       "Part_Attr(Span(\"BC848A\", sentence=106869, chars=[0,5], words=[0,0]), ImplicitSpan(\"200\", sentence=106756, words=[0,0], position=[0]))"
      ]
     },
     "execution_count": 12,
     "metadata": {},
     "output_type": "execute_result"
    }
   ],
   "source": [
    "L_train.get_candidate(session, 0)"
   ]
  },
  {
   "cell_type": "markdown",
   "metadata": {},
   "source": [
    "We can also view statistics about the resulting label matrix.\n",
    "* **Coverage** is the fraction of candidates that the labeling function emits a non-zero label for.\n",
    "* **Overlap** is the fraction candidates that the labeling function emits a non-zero label for and that another labeling function emits a non-zero label for.\n",
    "* **Conflict** is the fraction candidates that the labeling function emits a non-zero label for and that another labeling function emits a conflicting non-zero label for.\n",
    "\n",
    "In addition, because we have already loaded the gold labels, we can view the emperical accuracy of these labeling functions when compared to our gold labels:"
   ]
  },
  {
   "cell_type": "code",
   "execution_count": 13,
   "metadata": {},
   "outputs": [
    {
     "name": "stdout",
     "output_type": "stream",
     "text": [
      "CPU times: user 64 ms, sys: 0 ns, total: 64 ms\n",
      "Wall time: 70.4 ms\n"
     ]
    },
    {
     "data": {
      "text/html": [
       "<div>\n",
       "<table border=\"1\" class=\"dataframe\">\n",
       "  <thead>\n",
       "    <tr style=\"text-align: right;\">\n",
       "      <th></th>\n",
       "      <th>j</th>\n",
       "      <th>Coverage</th>\n",
       "      <th>Overlaps</th>\n",
       "      <th>Conflicts</th>\n",
       "      <th>TP</th>\n",
       "      <th>FP</th>\n",
       "      <th>FN</th>\n",
       "      <th>TN</th>\n",
       "      <th>Empirical Acc.</th>\n",
       "    </tr>\n",
       "  </thead>\n",
       "  <tbody>\n",
       "    <tr>\n",
       "      <th>LF_current_aligned</th>\n",
       "      <td>0</td>\n",
       "      <td>0.319637</td>\n",
       "      <td>0.319637</td>\n",
       "      <td>0.003177</td>\n",
       "      <td>0</td>\n",
       "      <td>0</td>\n",
       "      <td>822</td>\n",
       "      <td>6825</td>\n",
       "      <td>0.892507</td>\n",
       "    </tr>\n",
       "    <tr>\n",
       "      <th>LF_tstg_row</th>\n",
       "      <td>1</td>\n",
       "      <td>0.072020</td>\n",
       "      <td>0.072020</td>\n",
       "      <td>0.072020</td>\n",
       "      <td>1503</td>\n",
       "      <td>220</td>\n",
       "      <td>0</td>\n",
       "      <td>0</td>\n",
       "      <td>0.872316</td>\n",
       "    </tr>\n",
       "    <tr>\n",
       "      <th>LF_typ_row</th>\n",
       "      <td>2</td>\n",
       "      <td>0.004932</td>\n",
       "      <td>0.004932</td>\n",
       "      <td>0.000000</td>\n",
       "      <td>0</td>\n",
       "      <td>0</td>\n",
       "      <td>54</td>\n",
       "      <td>64</td>\n",
       "      <td>0.542373</td>\n",
       "    </tr>\n",
       "    <tr>\n",
       "      <th>LF_voltage_row_part</th>\n",
       "      <td>3</td>\n",
       "      <td>0.194533</td>\n",
       "      <td>0.194533</td>\n",
       "      <td>0.014462</td>\n",
       "      <td>0</td>\n",
       "      <td>0</td>\n",
       "      <td>915</td>\n",
       "      <td>3739</td>\n",
       "      <td>0.803395</td>\n",
       "    </tr>\n",
       "    <tr>\n",
       "      <th>LF_collector_aligned</th>\n",
       "      <td>4</td>\n",
       "      <td>0.040336</td>\n",
       "      <td>0.040336</td>\n",
       "      <td>0.000000</td>\n",
       "      <td>0</td>\n",
       "      <td>0</td>\n",
       "      <td>145</td>\n",
       "      <td>820</td>\n",
       "      <td>0.849741</td>\n",
       "    </tr>\n",
       "    <tr>\n",
       "      <th>LF_not_temp_relevant</th>\n",
       "      <td>5</td>\n",
       "      <td>0.880288</td>\n",
       "      <td>0.880288</td>\n",
       "      <td>0.001296</td>\n",
       "      <td>0</td>\n",
       "      <td>0</td>\n",
       "      <td>2939</td>\n",
       "      <td>18121</td>\n",
       "      <td>0.860446</td>\n",
       "    </tr>\n",
       "    <tr>\n",
       "      <th>LF_voltage_row_temp</th>\n",
       "      <td>6</td>\n",
       "      <td>0.194533</td>\n",
       "      <td>0.194533</td>\n",
       "      <td>0.014462</td>\n",
       "      <td>0</td>\n",
       "      <td>0</td>\n",
       "      <td>915</td>\n",
       "      <td>3739</td>\n",
       "      <td>0.803395</td>\n",
       "    </tr>\n",
       "    <tr>\n",
       "      <th>LF_negative_number_left</th>\n",
       "      <td>7</td>\n",
       "      <td>0.078373</td>\n",
       "      <td>0.078373</td>\n",
       "      <td>0.078373</td>\n",
       "      <td>1704</td>\n",
       "      <td>171</td>\n",
       "      <td>0</td>\n",
       "      <td>0</td>\n",
       "      <td>0.908800</td>\n",
       "    </tr>\n",
       "    <tr>\n",
       "      <th>LF_operating_row</th>\n",
       "      <td>8</td>\n",
       "      <td>0.032645</td>\n",
       "      <td>0.032645</td>\n",
       "      <td>0.032645</td>\n",
       "      <td>727</td>\n",
       "      <td>54</td>\n",
       "      <td>0</td>\n",
       "      <td>0</td>\n",
       "      <td>0.930858</td>\n",
       "    </tr>\n",
       "    <tr>\n",
       "      <th>LF_test_condition_aligned</th>\n",
       "      <td>9</td>\n",
       "      <td>0.005141</td>\n",
       "      <td>0.005141</td>\n",
       "      <td>0.000084</td>\n",
       "      <td>0</td>\n",
       "      <td>0</td>\n",
       "      <td>49</td>\n",
       "      <td>74</td>\n",
       "      <td>0.601626</td>\n",
       "    </tr>\n",
       "    <tr>\n",
       "      <th>LF_temp_outside_table</th>\n",
       "      <td>10</td>\n",
       "      <td>1.000000</td>\n",
       "      <td>1.000000</td>\n",
       "      <td>0.118793</td>\n",
       "      <td>0</td>\n",
       "      <td>0</td>\n",
       "      <td>5489</td>\n",
       "      <td>18435</td>\n",
       "      <td>0.770565</td>\n",
       "    </tr>\n",
       "    <tr>\n",
       "      <th>LF_too_many_numbers_row</th>\n",
       "      <td>11</td>\n",
       "      <td>0.567380</td>\n",
       "      <td>0.567380</td>\n",
       "      <td>0.018183</td>\n",
       "      <td>0</td>\n",
       "      <td>0</td>\n",
       "      <td>1552</td>\n",
       "      <td>12022</td>\n",
       "      <td>0.885664</td>\n",
       "    </tr>\n",
       "    <tr>\n",
       "      <th>LF_temp_on_high_page_num</th>\n",
       "      <td>12</td>\n",
       "      <td>0.262373</td>\n",
       "      <td>0.262373</td>\n",
       "      <td>0.003428</td>\n",
       "      <td>0</td>\n",
       "      <td>0</td>\n",
       "      <td>1414</td>\n",
       "      <td>4863</td>\n",
       "      <td>0.774733</td>\n",
       "    </tr>\n",
       "    <tr>\n",
       "      <th>LF_to_left</th>\n",
       "      <td>13</td>\n",
       "      <td>0.061946</td>\n",
       "      <td>0.061946</td>\n",
       "      <td>0.061946</td>\n",
       "      <td>1380</td>\n",
       "      <td>102</td>\n",
       "      <td>0</td>\n",
       "      <td>0</td>\n",
       "      <td>0.931174</td>\n",
       "    </tr>\n",
       "    <tr>\n",
       "      <th>LF_complement_left_row</th>\n",
       "      <td>14</td>\n",
       "      <td>0.012791</td>\n",
       "      <td>0.012791</td>\n",
       "      <td>0.003595</td>\n",
       "      <td>0</td>\n",
       "      <td>0</td>\n",
       "      <td>2</td>\n",
       "      <td>304</td>\n",
       "      <td>0.993464</td>\n",
       "    </tr>\n",
       "    <tr>\n",
       "      <th>LF_temperature_row</th>\n",
       "      <td>15</td>\n",
       "      <td>0.114070</td>\n",
       "      <td>0.114070</td>\n",
       "      <td>0.114070</td>\n",
       "      <td>2515</td>\n",
       "      <td>214</td>\n",
       "      <td>0</td>\n",
       "      <td>0</td>\n",
       "      <td>0.921583</td>\n",
       "    </tr>\n",
       "    <tr>\n",
       "      <th>LF_storage_row</th>\n",
       "      <td>16</td>\n",
       "      <td>0.074862</td>\n",
       "      <td>0.074862</td>\n",
       "      <td>0.074862</td>\n",
       "      <td>1576</td>\n",
       "      <td>215</td>\n",
       "      <td>0</td>\n",
       "      <td>0</td>\n",
       "      <td>0.879955</td>\n",
       "    </tr>\n",
       "  </tbody>\n",
       "</table>\n",
       "</div>"
      ],
      "text/plain": [
       "                            j  Coverage  Overlaps  Conflicts    TP   FP    FN  \\\n",
       "LF_current_aligned          0  0.319637  0.319637   0.003177     0    0   822   \n",
       "LF_tstg_row                 1  0.072020  0.072020   0.072020  1503  220     0   \n",
       "LF_typ_row                  2  0.004932  0.004932   0.000000     0    0    54   \n",
       "LF_voltage_row_part         3  0.194533  0.194533   0.014462     0    0   915   \n",
       "LF_collector_aligned        4  0.040336  0.040336   0.000000     0    0   145   \n",
       "LF_not_temp_relevant        5  0.880288  0.880288   0.001296     0    0  2939   \n",
       "LF_voltage_row_temp         6  0.194533  0.194533   0.014462     0    0   915   \n",
       "LF_negative_number_left     7  0.078373  0.078373   0.078373  1704  171     0   \n",
       "LF_operating_row            8  0.032645  0.032645   0.032645   727   54     0   \n",
       "LF_test_condition_aligned   9  0.005141  0.005141   0.000084     0    0    49   \n",
       "LF_temp_outside_table      10  1.000000  1.000000   0.118793     0    0  5489   \n",
       "LF_too_many_numbers_row    11  0.567380  0.567380   0.018183     0    0  1552   \n",
       "LF_temp_on_high_page_num   12  0.262373  0.262373   0.003428     0    0  1414   \n",
       "LF_to_left                 13  0.061946  0.061946   0.061946  1380  102     0   \n",
       "LF_complement_left_row     14  0.012791  0.012791   0.003595     0    0     2   \n",
       "LF_temperature_row         15  0.114070  0.114070   0.114070  2515  214     0   \n",
       "LF_storage_row             16  0.074862  0.074862   0.074862  1576  215     0   \n",
       "\n",
       "                              TN  Empirical Acc.  \n",
       "LF_current_aligned          6825        0.892507  \n",
       "LF_tstg_row                    0        0.872316  \n",
       "LF_typ_row                    64        0.542373  \n",
       "LF_voltage_row_part         3739        0.803395  \n",
       "LF_collector_aligned         820        0.849741  \n",
       "LF_not_temp_relevant       18121        0.860446  \n",
       "LF_voltage_row_temp         3739        0.803395  \n",
       "LF_negative_number_left        0        0.908800  \n",
       "LF_operating_row               0        0.930858  \n",
       "LF_test_condition_aligned     74        0.601626  \n",
       "LF_temp_outside_table      18435        0.770565  \n",
       "LF_too_many_numbers_row    12022        0.885664  \n",
       "LF_temp_on_high_page_num    4863        0.774733  \n",
       "LF_to_left                     0        0.931174  \n",
       "LF_complement_left_row       304        0.993464  \n",
       "LF_temperature_row             0        0.921583  \n",
       "LF_storage_row                 0        0.879955  "
      ]
     },
     "execution_count": 13,
     "metadata": {},
     "output_type": "execute_result"
    }
   ],
   "source": [
    "from snorkel.annotations import load_gold_labels\n",
    "L_gold_train = load_gold_labels(session, annotator_name='gold', split=0)\n",
    "%time L_train.lf_stats(L_gold_train)"
   ]
  },
  {
   "cell_type": "markdown",
   "metadata": {},
   "source": [
    "### Fitting the Generative Model\n",
    "\n",
    "Now, we'll train a model of the LFs to estimate their accuracies. Once the model is trained, we can combine the outputs of the LFs into a single, noise-aware training label set for our extractor. Intuitively, we'll model the LFs by observing how they overlap and conflict with each other."
   ]
  },
  {
   "cell_type": "code",
   "execution_count": 14,
   "metadata": {},
   "outputs": [
    {
     "name": "stderr",
     "output_type": "stream",
     "text": [
      "/home/lwhsiao/repos/snorkel/.virtualenv/local/lib/python2.7/site-packages/matplotlib/__init__.py:1401: UserWarning:  This call to matplotlib.use() has no effect\n",
      "because the backend has already been chosen;\n",
      "matplotlib.use() must be called *before* pylab, matplotlib.pyplot,\n",
      "or matplotlib.backends is imported for the first time.\n",
      "\n",
      "  warnings.warn(_use_error_msg)\n"
     ]
    },
    {
     "name": "stdout",
     "output_type": "stream",
     "text": [
      "CPU times: user 8min 38s, sys: 316 ms, total: 8min 39s\n",
      "Wall time: 8min 39s\n"
     ]
    }
   ],
   "source": [
    "from snorkel.learning import GenerativeModel\n",
    "\n",
    "gen_model = GenerativeModel()\n",
    "%time gen_model.train(L_train, epochs=500, decay=0.9, step_size=0.001/L_train.shape[0], reg_param=0)"
   ]
  },
  {
   "cell_type": "markdown",
   "metadata": {},
   "source": [
    "We now apply the generative model to the training candidates to get the noise-aware training label set. We'll refer to these as the training marginals:"
   ]
  },
  {
   "cell_type": "code",
   "execution_count": 15,
   "metadata": {
    "collapsed": true
   },
   "outputs": [],
   "source": [
    "train_marginals = gen_model.marginals(L_train)"
   ]
  },
  {
   "cell_type": "markdown",
   "metadata": {},
   "source": [
    "We'll look at the distribution of the training marginals:"
   ]
  },
  {
   "cell_type": "code",
   "execution_count": 16,
   "metadata": {},
   "outputs": [
    {
     "data": {
      "image/png": "[encoded data removed]",
      "text/plain": [
       "<matplotlib.figure.Figure at 0x7fa8e100b390>"
      ]
     },
     "metadata": {},
     "output_type": "display_data"
    }
   ],
   "source": [
    "import matplotlib.pyplot as plt\n",
    "plt.hist(train_marginals, bins=20)\n",
    "plt.show()"
   ]
  },
  {
   "cell_type": "markdown",
   "metadata": {},
   "source": [
    "We can view the learned accuracy parameters as well."
   ]
  },
  {
   "cell_type": "code",
   "execution_count": 17,
   "metadata": {},
   "outputs": [
    {
     "data": {
      "text/plain": [
       "array([ 0.72277572,  0.71008007,  0.71250067,  0.7338335 ,  0.7126987 ,\n",
       "        0.72547694,  0.715604  ,  0.74795435,  0.7475816 ,  0.73985692,\n",
       "        0.74004065,  0.72464663,  0.72702687,  0.71883122,  0.72454986,\n",
       "        0.73422697,  0.74481368])"
      ]
     },
     "execution_count": 17,
     "metadata": {},
     "output_type": "execute_result"
    }
   ],
   "source": [
    "gen_model.weights.lf_accuracy()"
   ]
  },
  {
   "cell_type": "markdown",
   "metadata": {
    "scrolled": true
   },
   "source": [
    "### Using the Model to Iterate on Labeling Functions\n",
    "\n",
    "Now that we have learned the generative model, we can stop here and use this to potentially debug and/or improve our labeling function set. First, we apply the LFs to our development set:"
   ]
  },
  {
   "cell_type": "code",
   "execution_count": 18,
   "metadata": {},
   "outputs": [
    {
     "name": "stdout",
     "output_type": "stream",
     "text": [
      "Clearing existing...\n",
      "Running UDF...\n",
      "[========================================] 100%\n",
      "Copying part_attr_label_updates to postgres\n",
      "COPY 19521\n",
      "\n"
     ]
    }
   ],
   "source": [
    "L_dev = labeler.apply_existing(split=1)"
   ]
  },
  {
   "cell_type": "markdown",
   "metadata": {},
   "source": [
    "Then, we get the score of the generative model:"
   ]
  },
  {
   "cell_type": "code",
   "execution_count": 19,
   "metadata": {},
   "outputs": [
    {
     "name": "stdout",
     "output_type": "stream",
     "text": [
      "========================================\n",
      "Scores (Un-adjusted)\n",
      "========================================\n",
      "Pos. class accuracy: 0.0825\n",
      "Neg. class accuracy: 0.976\n",
      "Precision            0.571\n",
      "Recall               0.0825\n",
      "F1                   0.144\n",
      "----------------------------------------\n",
      "TP: 449 | FP: 338 | TN: 13743 | FN: 4991\n",
      "========================================\n",
      "\n"
     ]
    }
   ],
   "source": [
    "from snorkel.annotations import load_gold_labels\n",
    "L_gold_dev = load_gold_labels(session, annotator_name='gold', split=1)\n",
    "tp, fp, tn, fn = gen_model.score(session, L_dev, L_gold_dev)"
   ]
  },
  {
   "cell_type": "markdown",
   "metadata": {},
   "source": [
    "We can also view statistics about the labeling function's learned accuracy and compare them to the emperical accuracy."
   ]
  },
  {
   "cell_type": "code",
   "execution_count": 20,
   "metadata": {},
   "outputs": [
    {
     "name": "stderr",
     "output_type": "stream",
     "text": [
      "/home/lwhsiao/repos/snorkel/snorkel/contrib/fonduer/async_annotations.py:91: RuntimeWarning: invalid value encountered in divide\n",
      "  ac = (tp+tn).astype(float) / (tp+tn+fp+fn)\n"
     ]
    },
    {
     "data": {
      "text/html": [
       "<div>\n",
       "<table border=\"1\" class=\"dataframe\">\n",
       "  <thead>\n",
       "    <tr style=\"text-align: right;\">\n",
       "      <th></th>\n",
       "      <th>j</th>\n",
       "      <th>Coverage</th>\n",
       "      <th>Overlaps</th>\n",
       "      <th>Conflicts</th>\n",
       "      <th>TP</th>\n",
       "      <th>FP</th>\n",
       "      <th>FN</th>\n",
       "      <th>TN</th>\n",
       "      <th>Empirical Acc.</th>\n",
       "      <th>Learned Acc.</th>\n",
       "    </tr>\n",
       "  </thead>\n",
       "  <tbody>\n",
       "    <tr>\n",
       "      <th>LF_current_aligned</th>\n",
       "      <td>0</td>\n",
       "      <td>0.336663</td>\n",
       "      <td>0.336663</td>\n",
       "      <td>0.000000</td>\n",
       "      <td>0</td>\n",
       "      <td>0</td>\n",
       "      <td>1806</td>\n",
       "      <td>4766</td>\n",
       "      <td>0.725198</td>\n",
       "      <td>0.722776</td>\n",
       "    </tr>\n",
       "    <tr>\n",
       "      <th>LF_tstg_row</th>\n",
       "      <td>1</td>\n",
       "      <td>0.038728</td>\n",
       "      <td>0.038728</td>\n",
       "      <td>0.038728</td>\n",
       "      <td>409</td>\n",
       "      <td>347</td>\n",
       "      <td>0</td>\n",
       "      <td>0</td>\n",
       "      <td>0.541005</td>\n",
       "      <td>0.710080</td>\n",
       "    </tr>\n",
       "    <tr>\n",
       "      <th>LF_typ_row</th>\n",
       "      <td>2</td>\n",
       "      <td>0.000000</td>\n",
       "      <td>0.000000</td>\n",
       "      <td>0.000000</td>\n",
       "      <td>0</td>\n",
       "      <td>0</td>\n",
       "      <td>0</td>\n",
       "      <td>0</td>\n",
       "      <td>NaN</td>\n",
       "      <td>0.712501</td>\n",
       "    </tr>\n",
       "    <tr>\n",
       "      <th>LF_voltage_row_part</th>\n",
       "      <td>3</td>\n",
       "      <td>0.353414</td>\n",
       "      <td>0.353414</td>\n",
       "      <td>0.000000</td>\n",
       "      <td>0</td>\n",
       "      <td>0</td>\n",
       "      <td>2358</td>\n",
       "      <td>4541</td>\n",
       "      <td>0.658211</td>\n",
       "      <td>0.733833</td>\n",
       "    </tr>\n",
       "    <tr>\n",
       "      <th>LF_collector_aligned</th>\n",
       "      <td>4</td>\n",
       "      <td>0.169305</td>\n",
       "      <td>0.169305</td>\n",
       "      <td>0.000000</td>\n",
       "      <td>0</td>\n",
       "      <td>0</td>\n",
       "      <td>1437</td>\n",
       "      <td>1868</td>\n",
       "      <td>0.565204</td>\n",
       "      <td>0.712699</td>\n",
       "    </tr>\n",
       "    <tr>\n",
       "      <th>LF_not_temp_relevant</th>\n",
       "      <td>5</td>\n",
       "      <td>0.922545</td>\n",
       "      <td>0.922545</td>\n",
       "      <td>0.051893</td>\n",
       "      <td>0</td>\n",
       "      <td>0</td>\n",
       "      <td>4353</td>\n",
       "      <td>13656</td>\n",
       "      <td>0.758288</td>\n",
       "      <td>0.725477</td>\n",
       "    </tr>\n",
       "    <tr>\n",
       "      <th>LF_voltage_row_temp</th>\n",
       "      <td>6</td>\n",
       "      <td>0.353414</td>\n",
       "      <td>0.353414</td>\n",
       "      <td>0.000000</td>\n",
       "      <td>0</td>\n",
       "      <td>0</td>\n",
       "      <td>2358</td>\n",
       "      <td>4541</td>\n",
       "      <td>0.658211</td>\n",
       "      <td>0.715604</td>\n",
       "    </tr>\n",
       "    <tr>\n",
       "      <th>LF_negative_number_left</th>\n",
       "      <td>7</td>\n",
       "      <td>0.021310</td>\n",
       "      <td>0.021310</td>\n",
       "      <td>0.021310</td>\n",
       "      <td>61</td>\n",
       "      <td>355</td>\n",
       "      <td>0</td>\n",
       "      <td>0</td>\n",
       "      <td>0.146635</td>\n",
       "      <td>0.747954</td>\n",
       "    </tr>\n",
       "    <tr>\n",
       "      <th>LF_operating_row</th>\n",
       "      <td>8</td>\n",
       "      <td>0.018288</td>\n",
       "      <td>0.018288</td>\n",
       "      <td>0.018288</td>\n",
       "      <td>69</td>\n",
       "      <td>288</td>\n",
       "      <td>0</td>\n",
       "      <td>0</td>\n",
       "      <td>0.193277</td>\n",
       "      <td>0.747582</td>\n",
       "    </tr>\n",
       "    <tr>\n",
       "      <th>LF_test_condition_aligned</th>\n",
       "      <td>9</td>\n",
       "      <td>0.000000</td>\n",
       "      <td>0.000000</td>\n",
       "      <td>0.000000</td>\n",
       "      <td>0</td>\n",
       "      <td>0</td>\n",
       "      <td>0</td>\n",
       "      <td>0</td>\n",
       "      <td>NaN</td>\n",
       "      <td>0.739857</td>\n",
       "    </tr>\n",
       "    <tr>\n",
       "      <th>LF_temp_outside_table</th>\n",
       "      <td>10</td>\n",
       "      <td>1.000000</td>\n",
       "      <td>1.000000</td>\n",
       "      <td>0.129348</td>\n",
       "      <td>0</td>\n",
       "      <td>0</td>\n",
       "      <td>5440</td>\n",
       "      <td>14081</td>\n",
       "      <td>0.721326</td>\n",
       "      <td>0.740041</td>\n",
       "    </tr>\n",
       "    <tr>\n",
       "      <th>LF_too_many_numbers_row</th>\n",
       "      <td>11</td>\n",
       "      <td>0.290252</td>\n",
       "      <td>0.290252</td>\n",
       "      <td>0.000615</td>\n",
       "      <td>0</td>\n",
       "      <td>0</td>\n",
       "      <td>1085</td>\n",
       "      <td>4581</td>\n",
       "      <td>0.808507</td>\n",
       "      <td>0.724647</td>\n",
       "    </tr>\n",
       "    <tr>\n",
       "      <th>LF_temp_on_high_page_num</th>\n",
       "      <td>12</td>\n",
       "      <td>0.802418</td>\n",
       "      <td>0.802418</td>\n",
       "      <td>0.110496</td>\n",
       "      <td>0</td>\n",
       "      <td>0</td>\n",
       "      <td>5188</td>\n",
       "      <td>10476</td>\n",
       "      <td>0.668795</td>\n",
       "      <td>0.727027</td>\n",
       "    </tr>\n",
       "    <tr>\n",
       "      <th>LF_to_left</th>\n",
       "      <td>13</td>\n",
       "      <td>0.070642</td>\n",
       "      <td>0.070642</td>\n",
       "      <td>0.070642</td>\n",
       "      <td>125</td>\n",
       "      <td>1254</td>\n",
       "      <td>0</td>\n",
       "      <td>0</td>\n",
       "      <td>0.090645</td>\n",
       "      <td>0.718831</td>\n",
       "    </tr>\n",
       "    <tr>\n",
       "      <th>LF_complement_left_row</th>\n",
       "      <td>14</td>\n",
       "      <td>0.001281</td>\n",
       "      <td>0.001281</td>\n",
       "      <td>0.000359</td>\n",
       "      <td>0</td>\n",
       "      <td>0</td>\n",
       "      <td>0</td>\n",
       "      <td>25</td>\n",
       "      <td>1.000000</td>\n",
       "      <td>0.724550</td>\n",
       "    </tr>\n",
       "    <tr>\n",
       "      <th>LF_temperature_row</th>\n",
       "      <td>15</td>\n",
       "      <td>0.076840</td>\n",
       "      <td>0.076840</td>\n",
       "      <td>0.076840</td>\n",
       "      <td>1087</td>\n",
       "      <td>413</td>\n",
       "      <td>0</td>\n",
       "      <td>0</td>\n",
       "      <td>0.724667</td>\n",
       "      <td>0.734227</td>\n",
       "    </tr>\n",
       "    <tr>\n",
       "      <th>LF_storage_row</th>\n",
       "      <td>16</td>\n",
       "      <td>0.038728</td>\n",
       "      <td>0.038728</td>\n",
       "      <td>0.038728</td>\n",
       "      <td>409</td>\n",
       "      <td>347</td>\n",
       "      <td>0</td>\n",
       "      <td>0</td>\n",
       "      <td>0.541005</td>\n",
       "      <td>0.744814</td>\n",
       "    </tr>\n",
       "  </tbody>\n",
       "</table>\n",
       "</div>"
      ],
      "text/plain": [
       "                            j  Coverage  Overlaps  Conflicts    TP    FP  \\\n",
       "LF_current_aligned          0  0.336663  0.336663   0.000000     0     0   \n",
       "LF_tstg_row                 1  0.038728  0.038728   0.038728   409   347   \n",
       "LF_typ_row                  2  0.000000  0.000000   0.000000     0     0   \n",
       "LF_voltage_row_part         3  0.353414  0.353414   0.000000     0     0   \n",
       "LF_collector_aligned        4  0.169305  0.169305   0.000000     0     0   \n",
       "LF_not_temp_relevant        5  0.922545  0.922545   0.051893     0     0   \n",
       "LF_voltage_row_temp         6  0.353414  0.353414   0.000000     0     0   \n",
       "LF_negative_number_left     7  0.021310  0.021310   0.021310    61   355   \n",
       "LF_operating_row            8  0.018288  0.018288   0.018288    69   288   \n",
       "LF_test_condition_aligned   9  0.000000  0.000000   0.000000     0     0   \n",
       "LF_temp_outside_table      10  1.000000  1.000000   0.129348     0     0   \n",
       "LF_too_many_numbers_row    11  0.290252  0.290252   0.000615     0     0   \n",
       "LF_temp_on_high_page_num   12  0.802418  0.802418   0.110496     0     0   \n",
       "LF_to_left                 13  0.070642  0.070642   0.070642   125  1254   \n",
       "LF_complement_left_row     14  0.001281  0.001281   0.000359     0     0   \n",
       "LF_temperature_row         15  0.076840  0.076840   0.076840  1087   413   \n",
       "LF_storage_row             16  0.038728  0.038728   0.038728   409   347   \n",
       "\n",
       "                             FN     TN  Empirical Acc.  Learned Acc.  \n",
       "LF_current_aligned         1806   4766        0.725198      0.722776  \n",
       "LF_tstg_row                   0      0        0.541005      0.710080  \n",
       "LF_typ_row                    0      0             NaN      0.712501  \n",
       "LF_voltage_row_part        2358   4541        0.658211      0.733833  \n",
       "LF_collector_aligned       1437   1868        0.565204      0.712699  \n",
       "LF_not_temp_relevant       4353  13656        0.758288      0.725477  \n",
       "LF_voltage_row_temp        2358   4541        0.658211      0.715604  \n",
       "LF_negative_number_left       0      0        0.146635      0.747954  \n",
       "LF_operating_row              0      0        0.193277      0.747582  \n",
       "LF_test_condition_aligned     0      0             NaN      0.739857  \n",
       "LF_temp_outside_table      5440  14081        0.721326      0.740041  \n",
       "LF_too_many_numbers_row    1085   4581        0.808507      0.724647  \n",
       "LF_temp_on_high_page_num   5188  10476        0.668795      0.727027  \n",
       "LF_to_left                    0      0        0.090645      0.718831  \n",
       "LF_complement_left_row        0     25        1.000000      0.724550  \n",
       "LF_temperature_row            0      0        0.724667      0.734227  \n",
       "LF_storage_row                0      0        0.541005      0.744814  "
      ]
     },
     "execution_count": 20,
     "metadata": {},
     "output_type": "execute_result"
    }
   ],
   "source": [
    "L_dev.lf_stats(L_gold_dev, gen_model.weights.lf_accuracy())"
   ]
  },
  {
   "cell_type": "markdown",
   "metadata": {},
   "source": [
    "### Interpreting Generative Model Performance\n",
    "\n",
    "At this point, we should be getting an F1 score of around 0.6 to 0.7 on the development set, which is pretty good! However, we should be very careful in interpreting this. Since we developed our labeling functions using this development set as a guide, and our generative model is composed of these labeling functions, we expect it to score very well here!\n",
    "\n",
    "In fact, it is probably somewhat overfit to this set. However this is fine, since in the next tutorial, we'll train a more powerful end extraction model which will generalize beyond the development set, and which we will evaluate on a blind test set (i.e. one we never looked at during development).\n",
    "\n",
    "\n",
    "### Training the Discriminative Model\n",
    "Now, we'll use the noisy training labels we generated in the last part to train our end extraction model. For this tutorial, we will be training a simple - but fairly effective - logistic regression model. More generally, however, Snorkel plugs in with many ML libraries including [TensorFlow](https://www.tensorflow.org/), making it easy to use almost any state-of-the-art model as the end extractor!\n",
    "\n",
    "We use the training marginals to train a discriminative model that classifies each Candidate as a true or false mention. "
   ]
  },
  {
   "cell_type": "code",
   "execution_count": 21,
   "metadata": {},
   "outputs": [
    {
     "ename": "NameError",
     "evalue": "name 'F_train' is not defined",
     "output_type": "error",
     "traceback": [
      "\u001b[0;31m---------------------------------------------------------------------------\u001b[0m",
      "\u001b[0;31mNameError\u001b[0m                                 Traceback (most recent call last)",
      "\u001b[0;32m<ipython-input-21-0d823ce49d99>\u001b[0m in \u001b[0;36m<module>\u001b[0;34m()\u001b[0m\n\u001b[1;32m      2\u001b[0m \u001b[0;34m\u001b[0m\u001b[0m\n\u001b[1;32m      3\u001b[0m \u001b[0mdisc_model\u001b[0m \u001b[0;34m=\u001b[0m \u001b[0mSparseLogisticRegression\u001b[0m\u001b[0;34m(\u001b[0m\u001b[0;34m)\u001b[0m\u001b[0;34m\u001b[0m\u001b[0m\n\u001b[0;32m----> 4\u001b[0;31m \u001b[0mget_ipython\u001b[0m\u001b[0;34m(\u001b[0m\u001b[0;34m)\u001b[0m\u001b[0;34m.\u001b[0m\u001b[0mmagic\u001b[0m\u001b[0;34m(\u001b[0m\u001b[0;34mu'time disc_model.train(F_train, train_marginals, n_epochs=200, lr=0.001)'\u001b[0m\u001b[0;34m)\u001b[0m\u001b[0;34m\u001b[0m\u001b[0m\n\u001b[0m",
      "\u001b[0;32m/home/lwhsiao/repos/snorkel/.virtualenv/local/lib/python2.7/site-packages/IPython/core/interactiveshell.pyc\u001b[0m in \u001b[0;36mmagic\u001b[0;34m(self, arg_s)\u001b[0m\n\u001b[1;32m   2156\u001b[0m         \u001b[0mmagic_name\u001b[0m\u001b[0;34m,\u001b[0m \u001b[0m_\u001b[0m\u001b[0;34m,\u001b[0m \u001b[0mmagic_arg_s\u001b[0m \u001b[0;34m=\u001b[0m \u001b[0marg_s\u001b[0m\u001b[0;34m.\u001b[0m\u001b[0mpartition\u001b[0m\u001b[0;34m(\u001b[0m\u001b[0;34m' '\u001b[0m\u001b[0;34m)\u001b[0m\u001b[0;34m\u001b[0m\u001b[0m\n\u001b[1;32m   2157\u001b[0m         \u001b[0mmagic_name\u001b[0m \u001b[0;34m=\u001b[0m \u001b[0mmagic_name\u001b[0m\u001b[0;34m.\u001b[0m\u001b[0mlstrip\u001b[0m\u001b[0;34m(\u001b[0m\u001b[0mprefilter\u001b[0m\u001b[0;34m.\u001b[0m\u001b[0mESC_MAGIC\u001b[0m\u001b[0;34m)\u001b[0m\u001b[0;34m\u001b[0m\u001b[0m\n\u001b[0;32m-> 2158\u001b[0;31m         \u001b[0;32mreturn\u001b[0m \u001b[0mself\u001b[0m\u001b[0;34m.\u001b[0m\u001b[0mrun_line_magic\u001b[0m\u001b[0;34m(\u001b[0m\u001b[0mmagic_name\u001b[0m\u001b[0;34m,\u001b[0m \u001b[0mmagic_arg_s\u001b[0m\u001b[0;34m)\u001b[0m\u001b[0;34m\u001b[0m\u001b[0m\n\u001b[0m\u001b[1;32m   2159\u001b[0m \u001b[0;34m\u001b[0m\u001b[0m\n\u001b[1;32m   2160\u001b[0m     \u001b[0;31m#-------------------------------------------------------------------------\u001b[0m\u001b[0;34m\u001b[0m\u001b[0;34m\u001b[0m\u001b[0m\n",
      "\u001b[0;32m/home/lwhsiao/repos/snorkel/.virtualenv/local/lib/python2.7/site-packages/IPython/core/interactiveshell.pyc\u001b[0m in \u001b[0;36mrun_line_magic\u001b[0;34m(self, magic_name, line)\u001b[0m\n\u001b[1;32m   2077\u001b[0m                 \u001b[0mkwargs\u001b[0m\u001b[0;34m[\u001b[0m\u001b[0;34m'local_ns'\u001b[0m\u001b[0;34m]\u001b[0m \u001b[0;34m=\u001b[0m \u001b[0msys\u001b[0m\u001b[0;34m.\u001b[0m\u001b[0m_getframe\u001b[0m\u001b[0;34m(\u001b[0m\u001b[0mstack_depth\u001b[0m\u001b[0;34m)\u001b[0m\u001b[0;34m.\u001b[0m\u001b[0mf_locals\u001b[0m\u001b[0;34m\u001b[0m\u001b[0m\n\u001b[1;32m   2078\u001b[0m             \u001b[0;32mwith\u001b[0m \u001b[0mself\u001b[0m\u001b[0;34m.\u001b[0m\u001b[0mbuiltin_trap\u001b[0m\u001b[0;34m:\u001b[0m\u001b[0;34m\u001b[0m\u001b[0m\n\u001b[0;32m-> 2079\u001b[0;31m                 \u001b[0mresult\u001b[0m \u001b[0;34m=\u001b[0m \u001b[0mfn\u001b[0m\u001b[0;34m(\u001b[0m\u001b[0;34m*\u001b[0m\u001b[0margs\u001b[0m\u001b[0;34m,\u001b[0m\u001b[0;34m**\u001b[0m\u001b[0mkwargs\u001b[0m\u001b[0;34m)\u001b[0m\u001b[0;34m\u001b[0m\u001b[0m\n\u001b[0m\u001b[1;32m   2080\u001b[0m             \u001b[0;32mreturn\u001b[0m \u001b[0mresult\u001b[0m\u001b[0;34m\u001b[0m\u001b[0m\n\u001b[1;32m   2081\u001b[0m \u001b[0;34m\u001b[0m\u001b[0m\n",
      "\u001b[0;32m<decorator-gen-59>\u001b[0m in \u001b[0;36mtime\u001b[0;34m(self, line, cell, local_ns)\u001b[0m\n",
      "\u001b[0;32m/home/lwhsiao/repos/snorkel/.virtualenv/local/lib/python2.7/site-packages/IPython/core/magic.pyc\u001b[0m in \u001b[0;36m<lambda>\u001b[0;34m(f, *a, **k)\u001b[0m\n\u001b[1;32m    186\u001b[0m     \u001b[0;31m# but it's overkill for just that one bit of state.\u001b[0m\u001b[0;34m\u001b[0m\u001b[0;34m\u001b[0m\u001b[0m\n\u001b[1;32m    187\u001b[0m     \u001b[0;32mdef\u001b[0m \u001b[0mmagic_deco\u001b[0m\u001b[0;34m(\u001b[0m\u001b[0marg\u001b[0m\u001b[0;34m)\u001b[0m\u001b[0;34m:\u001b[0m\u001b[0;34m\u001b[0m\u001b[0m\n\u001b[0;32m--> 188\u001b[0;31m         \u001b[0mcall\u001b[0m \u001b[0;34m=\u001b[0m \u001b[0;32mlambda\u001b[0m \u001b[0mf\u001b[0m\u001b[0;34m,\u001b[0m \u001b[0;34m*\u001b[0m\u001b[0ma\u001b[0m\u001b[0;34m,\u001b[0m \u001b[0;34m**\u001b[0m\u001b[0mk\u001b[0m\u001b[0;34m:\u001b[0m \u001b[0mf\u001b[0m\u001b[0;34m(\u001b[0m\u001b[0;34m*\u001b[0m\u001b[0ma\u001b[0m\u001b[0;34m,\u001b[0m \u001b[0;34m**\u001b[0m\u001b[0mk\u001b[0m\u001b[0;34m)\u001b[0m\u001b[0;34m\u001b[0m\u001b[0m\n\u001b[0m\u001b[1;32m    189\u001b[0m \u001b[0;34m\u001b[0m\u001b[0m\n\u001b[1;32m    190\u001b[0m         \u001b[0;32mif\u001b[0m \u001b[0mcallable\u001b[0m\u001b[0;34m(\u001b[0m\u001b[0marg\u001b[0m\u001b[0;34m)\u001b[0m\u001b[0;34m:\u001b[0m\u001b[0;34m\u001b[0m\u001b[0m\n",
      "\u001b[0;32m/home/lwhsiao/repos/snorkel/.virtualenv/local/lib/python2.7/site-packages/IPython/core/magics/execution.pyc\u001b[0m in \u001b[0;36mtime\u001b[0;34m(self, line, cell, local_ns)\u001b[0m\n\u001b[1;32m   1179\u001b[0m         \u001b[0;32mif\u001b[0m \u001b[0mmode\u001b[0m\u001b[0;34m==\u001b[0m\u001b[0;34m'eval'\u001b[0m\u001b[0;34m:\u001b[0m\u001b[0;34m\u001b[0m\u001b[0m\n\u001b[1;32m   1180\u001b[0m             \u001b[0mst\u001b[0m \u001b[0;34m=\u001b[0m \u001b[0mclock2\u001b[0m\u001b[0;34m(\u001b[0m\u001b[0;34m)\u001b[0m\u001b[0;34m\u001b[0m\u001b[0m\n\u001b[0;32m-> 1181\u001b[0;31m             \u001b[0mout\u001b[0m \u001b[0;34m=\u001b[0m \u001b[0meval\u001b[0m\u001b[0;34m(\u001b[0m\u001b[0mcode\u001b[0m\u001b[0;34m,\u001b[0m \u001b[0mglob\u001b[0m\u001b[0;34m,\u001b[0m \u001b[0mlocal_ns\u001b[0m\u001b[0;34m)\u001b[0m\u001b[0;34m\u001b[0m\u001b[0m\n\u001b[0m\u001b[1;32m   1182\u001b[0m             \u001b[0mend\u001b[0m \u001b[0;34m=\u001b[0m \u001b[0mclock2\u001b[0m\u001b[0;34m(\u001b[0m\u001b[0;34m)\u001b[0m\u001b[0;34m\u001b[0m\u001b[0m\n\u001b[1;32m   1183\u001b[0m         \u001b[0;32melse\u001b[0m\u001b[0;34m:\u001b[0m\u001b[0;34m\u001b[0m\u001b[0m\n",
      "\u001b[0;32m<timed eval>\u001b[0m in \u001b[0;36m<module>\u001b[0;34m()\u001b[0m\n",
      "\u001b[0;31mNameError\u001b[0m: name 'F_train' is not defined"
     ]
    }
   ],
   "source": [
    "from snorkel.learning import SparseLogisticRegression\n",
    "\n",
    "disc_model = SparseLogisticRegression()\n",
    "%time disc_model.train(F_train, train_marginals, n_epochs=200, lr=0.001)"
   ]
  },
  {
   "cell_type": "markdown",
   "metadata": {},
   "source": [
    "### Evaluating on the Test Set\n",
    "In this final section, we'll get the score we've been after: the performance of the extraction model on the blind test set (split 2). First, we load the test set labels and gold candidates from earlier:"
   ]
  },
  {
   "cell_type": "code",
   "execution_count": null,
   "metadata": {
    "collapsed": true
   },
   "outputs": [],
   "source": [
    "from snorkel.annotations import load_gold_labels\n",
    "L_gold_test = load_gold_labels(session, annotator_name='gold', split=2)"
   ]
  },
  {
   "cell_type": "markdown",
   "metadata": {
    "scrolled": true
   },
   "source": [
    "Now, we score using the discriminitive model:"
   ]
  },
  {
   "cell_type": "code",
   "execution_count": null,
   "metadata": {
    "collapsed": true,
    "scrolled": false
   },
   "outputs": [],
   "source": [
    "tp, fp, tn, fn = disc_model.score(session, F_test, L_gold_test)"
   ]
  },
  {
   "cell_type": "code",
   "execution_count": null,
   "metadata": {
    "collapsed": true
   },
   "outputs": [],
   "source": [
    "from hardware_utils import entity_level_f1\n",
    "import os\n",
    "\n",
    "import cPickle as pickle\n",
    "pickle_file = os.environ['SNORKELHOME'] + '/tutorials/fonduer/hardware/data/parts_by_doc_dict.pkl'\n",
    "with open(pickle_file, 'r') as f:\n",
    "    parts_by_doc = pickle.load(f)\n",
    "\n",
    "%time (TP, FP, FN) = entity_level_f1(tp.union(fp), gold_file, ATTRIBUTE, test_docs, parts_by_doc=parts_by_doc)"
   ]
  },
  {
   "cell_type": "markdown",
   "metadata": {},
   "source": [
    "# Error Analysis & Iterative KBC\n",
    "\n",
    "During the development process, we can iteratively improve the quality of our labeling functions through error analysis, without executing the full pipeline as in previous techniques. \n",
    "\n",
    "You may have noticed that our final score is about 50 F1 points. To remedy this and improve our quality, we can perform error analysis to understand what kinds of patterns we may have missed, or what issues exist with our labeling functions. Then, we can edit our set of labeling functions and rerun Phase 3, Probabilistic Relation Classification. \n",
    "\n",
    "## Error Analysis\n",
    "For example, notice that our `entity_level_f1` returns `TP`, `FP`, `FN` sets. We can also see that our recall is high, but we have low precision, so let's look at our false positivies, `FP`."
   ]
  },
  {
   "cell_type": "code",
   "execution_count": 83,
   "metadata": {},
   "outputs": [
    {
     "data": {
      "text/plain": [
       "[(u'PNJIS01186-1', u'BC807', u'150'),\n",
       " (u'PNJIS01186-1', u'BC807', u'160'),\n",
       " (u'PNJIS01186-1', u'BC807-16', u'160'),\n",
       " (u'PNJIS01186-1', u'BC807-25', u'160'),\n",
       " (u'PNJIS01186-1', u'BC807-40', u'160'),\n",
       " (u'PNJIS01305-1', u'MMBT3904', u'200'),\n",
       " (u'PNJIS01453-1', u'BC846', u'180'),\n",
       " (u'PNJIS01453-1', u'BC846', u'200'),\n",
       " (u'PNJIS01453-1', u'BC846A', u'180'),\n",
       " (u'PNJIS01453-1', u'BC846A', u'200'),\n",
       " (u'PNJIS01453-1', u'BC846B', u'180'),\n",
       " (u'PNJIS01453-1', u'BC846B', u'200'),\n",
       " (u'PNJIS01453-1', u'BC847', u'180'),\n",
       " (u'PNJIS01453-1', u'BC847', u'200'),\n",
       " (u'PNJIS01453-1', u'BC847A', u'180'),\n",
       " (u'PNJIS01453-1', u'BC847A', u'200'),\n",
       " (u'PNJIS01453-1', u'BC847B', u'180'),\n",
       " (u'PNJIS01453-1', u'BC847B', u'200'),\n",
       " (u'PNJIS01453-1', u'BC847C', u'180'),\n",
       " (u'PNJIS01453-1', u'BC847C', u'200'),\n",
       " (u'PNJIS01453-1', u'BC848', u'180'),\n",
       " (u'PNJIS01453-1', u'BC848', u'200'),\n",
       " (u'PNJIS01453-1', u'BC848A', u'180'),\n",
       " (u'PNJIS01453-1', u'BC848A', u'200'),\n",
       " (u'PNJIS01453-1', u'BC848B', u'180'),\n",
       " (u'PNJIS01453-1', u'BC848B', u'200'),\n",
       " (u'PNJIS01453-1', u'BC848C', u'180'),\n",
       " (u'PNJIS01453-1', u'BC848C', u'200'),\n",
       " (u'PNJIS01453-1', u'BC849', u'180'),\n",
       " (u'PNJIS01453-1', u'BC849', u'200'),\n",
       " (u'PNJIS01453-1', u'BC849B', u'180'),\n",
       " (u'PNJIS01453-1', u'BC849B', u'200'),\n",
       " (u'PNJIS01453-1', u'BC849C', u'180'),\n",
       " (u'PNJIS01453-1', u'BC849C', u'200'),\n",
       " (u'PNJIS01453-1', u'BC850B', u'180'),\n",
       " (u'PNJIS01453-1', u'BC850B', u'200'),\n",
       " (u'PNJIS01453-1', u'BC850C', u'180'),\n",
       " (u'PNJIS01453-1', u'BC850C', u'200'),\n",
       " (u'PNJIS01593-1', u'BC846', u'150'),\n",
       " (u'PNJIS01593-1', u'BC846', u'180'),\n",
       " (u'PNJIS01593-1', u'BC846', u'200'),\n",
       " (u'PNJIS01593-1', u'BC856', u'180'),\n",
       " (u'PNJIS01593-1', u'BC856', u'200'),\n",
       " (u'PNJIS01593-1', u'BC856A', u'180'),\n",
       " (u'PNJIS01593-1', u'BC856A', u'200'),\n",
       " (u'PNJIS01593-1', u'BC856B', u'180'),\n",
       " (u'PNJIS01593-1', u'BC856B', u'200'),\n",
       " (u'PNJIS01593-1', u'BC857', u'180'),\n",
       " (u'PNJIS01593-1', u'BC857', u'200'),\n",
       " (u'PNJIS01593-1', u'BC857A', u'180'),\n",
       " (u'PNJIS01593-1', u'BC857A', u'200'),\n",
       " (u'PNJIS01593-1', u'BC857B', u'180'),\n",
       " (u'PNJIS01593-1', u'BC857B', u'200'),\n",
       " (u'PNJIS01593-1', u'BC857C', u'180'),\n",
       " (u'PNJIS01593-1', u'BC857C', u'200'),\n",
       " (u'PNJIS01593-1', u'BC858', u'180'),\n",
       " (u'PNJIS01593-1', u'BC858', u'200'),\n",
       " (u'PNJIS01593-1', u'BC858A', u'180'),\n",
       " (u'PNJIS01593-1', u'BC858A', u'200'),\n",
       " (u'PNJIS01593-1', u'BC858B', u'180'),\n",
       " (u'PNJIS01593-1', u'BC858B', u'200'),\n",
       " (u'PNJIS01593-1', u'BC858C', u'180'),\n",
       " (u'PNJIS01593-1', u'BC858C', u'200'),\n",
       " (u'PNJIS01593-1', u'BC859', u'180'),\n",
       " (u'PNJIS01593-1', u'BC859', u'200'),\n",
       " (u'PNJIS01593-1', u'BC859B', u'180'),\n",
       " (u'PNJIS01593-1', u'BC859B', u'200'),\n",
       " (u'PNJIS01593-1', u'BC859C', u'180'),\n",
       " (u'PNJIS01593-1', u'BC859C', u'200'),\n",
       " (u'RECTS00705-1', u'BC546', u'180'),\n",
       " (u'RECTS00705-1', u'BC546', u'200'),\n",
       " (u'RECTS00705-1', u'BC546A', u'180'),\n",
       " (u'RECTS00705-1', u'BC546A', u'200'),\n",
       " (u'RECTS00705-1', u'BC546B', u'180'),\n",
       " (u'RECTS00705-1', u'BC546B', u'200'),\n",
       " (u'RECTS00705-1', u'BC546C', u'180'),\n",
       " (u'RECTS00705-1', u'BC546C', u'200'),\n",
       " (u'RECTS00705-1', u'BC547', u'180'),\n",
       " (u'RECTS00705-1', u'BC547', u'200'),\n",
       " (u'RECTS00705-1', u'BC547C', u'180'),\n",
       " (u'RECTS00705-1', u'BC547C', u'200'),\n",
       " (u'RECTS00705-1', u'BC548', u'180'),\n",
       " (u'RECTS00705-1', u'BC548', u'200'),\n",
       " (u'RECTS00705-1', u'BC548C', u'180'),\n",
       " (u'RECTS00705-1', u'BC548C', u'200'),\n",
       " (u'RECTS01002-1', u'MMBT3904', u'160'),\n",
       " (u'RECTS01002-1', u'MMBT3904', u'180'),\n",
       " (u'RECTS01002-1', u'MMBT3904', u'200'),\n",
       " (u'RECTS01158-1', u'BC807-25', u'160'),\n",
       " (u'RECTS01158-1', u'BC807-25', u'200'),\n",
       " (u'RECTS01158-1', u'BC807-25LT1', u'150'),\n",
       " (u'RECTS01158-1', u'BC807-25LT1', u'160'),\n",
       " (u'RECTS01158-1', u'BC807-25LT1', u'200'),\n",
       " (u'RECTS01158-1', u'BC817', u'150'),\n",
       " (u'RECTS01158-1', u'BC817', u'160'),\n",
       " (u'RECTS01158-1', u'BC817', u'200'),\n",
       " (u'RECTS01214-1', u'DTC114ECA-1', u'150'),\n",
       " (u'RECTS01214-1', u'DTC114ECA-1', u'200'),\n",
       " (u'RECTS01214-1', u'DTC114EUA', u'200'),\n",
       " (u'RECTS01242-1', u'BC857BLT1', u'150'),\n",
       " (u'RECTS01325-1', u'DTC114YCA-1', u'150'),\n",
       " (u'RECTS01325-1', u'DTC114YCA-1', u'200'),\n",
       " (u'RECTS01325-1', u'DTC114YUA', u'200')]"
      ]
     },
     "execution_count": 83,
     "metadata": {},
     "output_type": "execute_result"
    }
   ],
   "source": [
    "FP"
   ]
  },
  {
   "cell_type": "markdown",
   "metadata": {},
   "source": [
    "We can see that there are actually only a few documents that are causing us problems. In particular, we see that `PNJIS01453-1` is giving us many false positives. So, let's inspect one of those candidates. "
   ]
  },
  {
   "cell_type": "code",
   "execution_count": 87,
   "metadata": {},
   "outputs": [
    {
     "data": {
      "image/png": "[encoded data removed]",
      "text/plain": [
       "<wand.image.Image: 2b7a2fa 'PNG' (595x842)>"
      ]
     },
     "metadata": {},
     "output_type": "display_data"
    },
    {
     "data": {
      "image/png": "[encoded data removed]",
      "text/plain": [
       "<wand.image.Image: 7cbb246 'PNG' (595x842)>"
      ]
     },
     "metadata": {},
     "output_type": "display_data"
    }
   ],
   "source": [
    "from snorkel.contrib.fonduer.visualizer import *\n",
    "from hardware_utils import entity_to_candidates\n",
    "vis = Visualizer(pdf_path)\n",
    "\n",
    "# Get a list of candidates that match the FN[10] entity\n",
    "test_cands = session.query(Part_Attr).filter(Part_Attr.split == 2).all()\n",
    "fp_cands = entity_to_candidates(FP[10], test_cands)\n",
    "\n",
    "# print fp_cands\n",
    "# # Display this candidate\n",
    "vis.display_candidates([fp_cands[0]])"
   ]
  },
  {
   "cell_type": "markdown",
   "metadata": {},
   "source": [
    "Here, the candidates are boxed in blue. We see that `180` falls within the range of numbers that our matcher for storage temperature allows to match. By inspecting candidates like this, or just by examining the problematic PDFs directly, we can notice some patterns that we can exploit as new labeling functions."
   ]
  },
  {
   "cell_type": "code",
   "execution_count": 90,
   "metadata": {},
   "outputs": [
    {
     "data": {
      "image/png": "[encoded data removed]",
      "text/plain": [
       "<wand.image.Image: 8e83b9a 'PNG' (595x842)>"
      ]
     },
     "metadata": {},
     "output_type": "display_data"
    },
    {
     "data": {
      "image/png": "[encoded data removed]",
      "text/plain": [
       "<wand.image.Image: 32d94f5 'PNG' (595x842)>"
      ]
     },
     "metadata": {},
     "output_type": "display_data"
    }
   ],
   "source": [
    "# Get a list of candidates that match the FN[10] entity\n",
    "test_cands = session.query(Part_Attr).filter(Part_Attr.split == 2).all()\n",
    "fp_cands = entity_to_candidates(FP[60], test_cands)\n",
    "\n",
    "# print fp_cands\n",
    "# # Display this candidate\n",
    "vis.display_candidates([fp_cands[0]])"
   ]
  },
  {
   "cell_type": "markdown",
   "metadata": {},
   "source": [
    "## Iteratively Improving Labeling Functions\n",
    "\n",
    "From this error analysis, we may notice two important things. First, our original set of labeling functions had no labeling functions that labeled candidates a negative. This resulted in most skewing the models to accept most candidates, and hurt our precision. Second, we have now noticed that we need to focus on negatively labeling numbers that pass through our storage temperature matchers, but are not related to storage temperature.\n",
    "\n",
    "Below are a set of negative labeling functions that capture some of these patterns. For example, we label candidates an negative if the number is aligned with attributes that are not related to storage temperature, if a candidate represents a typical value, rather than a maximum value, if a temperature value is found outside of a table, and other intuitive patterns we noticed when carefully inspecting our false positives."
   ]
  },
  {
   "cell_type": "code",
   "execution_count": 8,
   "metadata": {
    "collapsed": true
   },
   "outputs": [],
   "source": [
    "def LF_test_condition_aligned(c):\n",
    "    return -1 if overlap(\n",
    "        ['test', 'condition'],\n",
    "        list(get_aligned_ngrams(c.attr))) else 0\n",
    "\n",
    "def LF_collector_aligned(c):\n",
    "    return -1 if overlap(\n",
    "        ['collector', 'collector-current', 'collector-base', 'collector-emitter'],\n",
    "        list(get_aligned_ngrams(c.attr))) else 0\n",
    "\n",
    "def LF_current_aligned(c):\n",
    "    ngrams = get_aligned_ngrams(c.attr)\n",
    "    return -1 if overlap(\n",
    "        ['current', 'dc', 'ic'],\n",
    "        list(get_aligned_ngrams(c.attr))) else 0\n",
    "\n",
    "def LF_voltage_row_temp(c):\n",
    "    ngrams = get_aligned_ngrams(c.attr)\n",
    "    return -1 if overlap(\n",
    "        ['voltage', 'cbo', 'ceo', 'ebo', 'v'],\n",
    "        list(get_aligned_ngrams(c.attr))) else 0\n",
    "\n",
    "def LF_voltage_row_part(c):\n",
    "    ngrams = get_aligned_ngrams(c.part)\n",
    "    return -1 if overlap(\n",
    "        ['voltage', 'cbo', 'ceo', 'ebo', 'v'],\n",
    "        list(get_aligned_ngrams(c.attr))) else 0\n",
    "\n",
    "def LF_typ_row(c):\n",
    "    return -1 if overlap(\n",
    "        ['typ', 'typ.'],\n",
    "        list(get_row_ngrams(c.attr))) else 0\n",
    "\n",
    "def LF_complement_left_row(c):\n",
    "    return -1 if (\n",
    "        overlap(['complement','complementary'], \n",
    "        chain.from_iterable([get_row_ngrams(c.part), get_left_ngrams(c.part, window=10)]))) else 0\n",
    "\n",
    "\n",
    "def LF_too_many_numbers_row(c):\n",
    "    num_numbers = list(get_row_ngrams(c.attr, attrib=\"ner_tags\")).count('number')\n",
    "    return -1 if num_numbers >= 3 else 0\n",
    "\n",
    "def LF_temp_on_high_page_num(c):\n",
    "    return -1 if c.attr.get_attrib_tokens('page')[0] > 2 else 0\n",
    "\n",
    "def LF_temp_outside_table(c):\n",
    "    return -1 if not c.attr.is_tabular() is None else 0\n",
    "\n",
    "def LF_not_temp_relevant(c):\n",
    "    return -1 if not overlap(\n",
    "        ['storage','temperature','tstg','stg', 'ts'],\n",
    "        list(get_aligned_ngrams(c.attr))) else 0"
   ]
  },
  {
   "cell_type": "markdown",
   "metadata": {
    "collapsed": true
   },
   "source": [
    "Then, we can add these to our list of labeling functions"
   ]
  },
  {
   "cell_type": "code",
   "execution_count": 10,
   "metadata": {
    "collapsed": true
   },
   "outputs": [],
   "source": [
    "stg_temp_lfs_2 += [LF_test_condition_aligned,\n",
    "                 LF_collector_aligned,\n",
    "                 LF_current_aligned,\n",
    "                 LF_voltage_row_temp,\n",
    "                 LF_voltage_row_part,\n",
    "                 LF_typ_row,\n",
    "                 LF_complement_left_row,\n",
    "                 LF_too_many_numbers_row,\n",
    "                 LF_temp_on_high_page_num,\n",
    "                 LF_temp_outside_table,\n",
    "                 LF_not_temp_relevant\n",
    "                ]"
   ]
  },
  {
   "cell_type": "markdown",
   "metadata": {},
   "source": [
    "And rerun labeling. Importantly, this time we set `clear=False`, `update_keys=True` and `update_values=True` to reflect the fact that we are adding new labeling functions, but do not want to throw away the computations already performed in the previous iteration."
   ]
  },
  {
   "cell_type": "code",
   "execution_count": 99,
   "metadata": {},
   "outputs": [
    {
     "name": "stdout",
     "output_type": "stream",
     "text": [
      "Running UDF...\n",
      "Copying part_attr_label_updates to postgres\n",
      "COPY 23924\n",
      "\n",
      "CPU times: user 3.52 s, sys: 304 ms, total: 3.83 s\n",
      "Wall time: 10min 24s\n",
      "(23924, 17)\n"
     ]
    }
   ],
   "source": [
    "labeler = BatchLabelAnnotator(Part_Attr, lfs = stg_temp_lfs_2)\n",
    "%time L_train = labeler.apply(split=0, clear=False, update_keys=True, update_values=True, parallelism=PARALLEL)\n",
    "print L_train.shape"
   ]
  },
  {
   "cell_type": "markdown",
   "metadata": {},
   "source": [
    "Now, we can rerun probablistic relation classification, the same way we did above. We start with the generative model."
   ]
  },
  {
   "cell_type": "code",
   "execution_count": 100,
   "metadata": {},
   "outputs": [
    {
     "name": "stdout",
     "output_type": "stream",
     "text": [
      "CPU times: user 8min 10s, sys: 188 ms, total: 8min 10s\n",
      "Wall time: 8min 10s\n"
     ]
    }
   ],
   "source": [
    "gen_model = GenerativeModel()\n",
    "%time gen_model.train(L_train, epochs=500, decay=0.9, step_size=0.001/L_train.shape[0], reg_param=0)\n",
    "train_marginals = gen_model.marginals(L_train)"
   ]
  },
  {
   "cell_type": "markdown",
   "metadata": {},
   "source": [
    "Next, we rerun the discriminitive model and see that our score has improved significantly to about 80 F1 points."
   ]
  },
  {
   "cell_type": "code",
   "execution_count": 101,
   "metadata": {},
   "outputs": [
    {
     "name": "stdout",
     "output_type": "stream",
     "text": [
      "[SparseLR] lr=0.001 l1=0.0 l2=0.0\n",
      "[SparseLR] Building model\n",
      "[SparseLR] Training model\n",
      "[SparseLR] #examples=2842  #epochs=200  batch size=100\n",
      "[SparseLR] Epoch 0 (0.67s)\tAvg. loss=0.284721\tNNZ=21895\n",
      "[SparseLR] Epoch 5 (3.56s)\tAvg. loss=0.117333\tNNZ=21895\n",
      "[SparseLR] Epoch 10 (6.52s)\tAvg. loss=0.111263\tNNZ=21895\n",
      "[SparseLR] Epoch 15 (9.65s)\tAvg. loss=0.109160\tNNZ=21895\n",
      "[SparseLR] Epoch 20 (12.67s)\tAvg. loss=0.108165\tNNZ=21895\n",
      "[SparseLR] Epoch 25 (16.22s)\tAvg. loss=0.107608\tNNZ=21895\n",
      "[SparseLR] Epoch 30 (19.45s)\tAvg. loss=0.107264\tNNZ=21895\n",
      "[SparseLR] Epoch 35 (22.46s)\tAvg. loss=0.107037\tNNZ=21895\n",
      "[SparseLR] Epoch 40 (25.95s)\tAvg. loss=0.106877\tNNZ=21895\n",
      "[SparseLR] Epoch 45 (29.14s)\tAvg. loss=0.106761\tNNZ=21895\n",
      "[SparseLR] Epoch 50 (32.47s)\tAvg. loss=0.106674\tNNZ=21895\n",
      "[SparseLR] Epoch 55 (35.47s)\tAvg. loss=0.106607\tNNZ=21895\n",
      "[SparseLR] Epoch 60 (38.74s)\tAvg. loss=0.106554\tNNZ=21895\n",
      "[SparseLR] Epoch 65 (41.71s)\tAvg. loss=0.106512\tNNZ=21895\n",
      "[SparseLR] Epoch 70 (44.74s)\tAvg. loss=0.106490\tNNZ=21895\n",
      "[SparseLR] Epoch 75 (47.92s)\tAvg. loss=0.106451\tNNZ=21895\n",
      "[SparseLR] Epoch 80 (50.95s)\tAvg. loss=0.106447\tNNZ=21895\n",
      "[SparseLR] Epoch 85 (54.05s)\tAvg. loss=0.106425\tNNZ=21895\n",
      "[SparseLR] Epoch 90 (57.48s)\tAvg. loss=0.106401\tNNZ=21895\n",
      "[SparseLR] Epoch 95 (60.66s)\tAvg. loss=0.106395\tNNZ=21895\n",
      "[SparseLR] Epoch 100 (64.08s)\tAvg. loss=0.106386\tNNZ=21895\n",
      "[SparseLR] Epoch 105 (67.67s)\tAvg. loss=0.106365\tNNZ=21895\n",
      "[SparseLR] Epoch 110 (70.78s)\tAvg. loss=0.106356\tNNZ=21895\n",
      "[SparseLR] Epoch 115 (73.91s)\tAvg. loss=0.106361\tNNZ=21895\n",
      "[SparseLR] Epoch 120 (77.18s)\tAvg. loss=0.106410\tNNZ=21895\n",
      "[SparseLR] Epoch 125 (80.13s)\tAvg. loss=0.106351\tNNZ=21895\n",
      "[SparseLR] Epoch 130 (83.08s)\tAvg. loss=0.106336\tNNZ=21895\n",
      "[SparseLR] Epoch 135 (86.28s)\tAvg. loss=0.106330\tNNZ=21895\n",
      "[SparseLR] Epoch 140 (89.26s)\tAvg. loss=0.106328\tNNZ=21895\n",
      "[SparseLR] Epoch 145 (92.22s)\tAvg. loss=0.106375\tNNZ=21895\n",
      "[SparseLR] Epoch 150 (95.40s)\tAvg. loss=0.106438\tNNZ=21895\n",
      "[SparseLR] Epoch 155 (98.37s)\tAvg. loss=0.106405\tNNZ=21895\n",
      "[SparseLR] Epoch 160 (101.56s)\tAvg. loss=0.106330\tNNZ=21895\n",
      "[SparseLR] Epoch 165 (104.52s)\tAvg. loss=0.106311\tNNZ=21895\n",
      "[SparseLR] Epoch 170 (107.50s)\tAvg. loss=0.106309\tNNZ=21895\n",
      "[SparseLR] Epoch 175 (111.00s)\tAvg. loss=0.106320\tNNZ=21895\n",
      "[SparseLR] Epoch 180 (113.96s)\tAvg. loss=0.106339\tNNZ=21895\n",
      "[SparseLR] Epoch 185 (116.93s)\tAvg. loss=0.106393\tNNZ=21895\n",
      "[SparseLR] Epoch 190 (120.11s)\tAvg. loss=0.106356\tNNZ=21895\n",
      "[SparseLR] Epoch 195 (123.21s)\tAvg. loss=0.106376\tNNZ=21895\n",
      "[SparseLR] Epoch 199 (125.67s)\tAvg. loss=0.106408\tNNZ=21895\n",
      "[SparseLR] Training done (125.67s)\n",
      "CPU times: user 2min 25s, sys: 1.7 s, total: 2min 27s\n",
      "Wall time: 2min 5s\n",
      "========================================\n",
      "Scores (Un-adjusted)\n",
      "========================================\n",
      "Pos. class accuracy: 1.0\n",
      "Neg. class accuracy: 0.0\n",
      "Precision            0.597\n",
      "Recall               1.0\n",
      "F1                   0.748\n",
      "----------------------------------------\n",
      "TP: 1461 | FP: 987 | TN: 0 | FN: 0\n",
      "========================================\n",
      "\n",
      "Preparing candidates...\n",
      "[========================================] 100%\n",
      "========================================\n",
      "Scoring on Entity-Level Gold Data\n",
      "========================================\n",
      "Corpus Precision 0.313\n",
      "Corpus Recall    0.904\n",
      "Corpus F1        0.465\n",
      "----------------------------------------\n",
      "TP: 47 | FP: 103 | FN: 5\n",
      "========================================\n",
      "\n",
      "CPU times: user 272 ms, sys: 24 ms, total: 296 ms\n",
      "Wall time: 333 ms\n"
     ]
    }
   ],
   "source": [
    "disc_model = SparseLogisticRegression()\n",
    "%time disc_model.train(F_train, train_marginals, n_epochs=200, lr=0.001)\n",
    "tp, fp, tn, fn = disc_model.score(session, F_test, L_gold_test)\n",
    "%time (TP, FP, FN) = entity_level_f1(tp.union(fp), gold_file, ATTRIBUTE, test_docs, parts_by_doc=parts_by_doc)"
   ]
  },
  {
   "cell_type": "markdown",
   "metadata": {},
   "source": [
    "Using these new LFs, we've significantly improved precision and lowered our number of false positives:"
   ]
  },
  {
   "cell_type": "code",
   "execution_count": 102,
   "metadata": {},
   "outputs": [
    {
     "data": {
      "text/plain": [
       "[(u'PNJIS01186-1', u'BC807', u'150'),\n",
       " (u'PNJIS01186-1', u'BC807', u'160'),\n",
       " (u'PNJIS01186-1', u'BC807-16', u'160'),\n",
       " (u'PNJIS01186-1', u'BC807-25', u'160'),\n",
       " (u'PNJIS01186-1', u'BC807-40', u'160'),\n",
       " (u'PNJIS01305-1', u'MMBT3904', u'200'),\n",
       " (u'PNJIS01453-1', u'BC846', u'180'),\n",
       " (u'PNJIS01453-1', u'BC846', u'200'),\n",
       " (u'PNJIS01453-1', u'BC846A', u'180'),\n",
       " (u'PNJIS01453-1', u'BC846A', u'200'),\n",
       " (u'PNJIS01453-1', u'BC846B', u'180'),\n",
       " (u'PNJIS01453-1', u'BC846B', u'200'),\n",
       " (u'PNJIS01453-1', u'BC847', u'180'),\n",
       " (u'PNJIS01453-1', u'BC847', u'200'),\n",
       " (u'PNJIS01453-1', u'BC847A', u'180'),\n",
       " (u'PNJIS01453-1', u'BC847A', u'200'),\n",
       " (u'PNJIS01453-1', u'BC847B', u'180'),\n",
       " (u'PNJIS01453-1', u'BC847B', u'200'),\n",
       " (u'PNJIS01453-1', u'BC847C', u'180'),\n",
       " (u'PNJIS01453-1', u'BC847C', u'200'),\n",
       " (u'PNJIS01453-1', u'BC848', u'180'),\n",
       " (u'PNJIS01453-1', u'BC848', u'200'),\n",
       " (u'PNJIS01453-1', u'BC848A', u'180'),\n",
       " (u'PNJIS01453-1', u'BC848A', u'200'),\n",
       " (u'PNJIS01453-1', u'BC848B', u'180'),\n",
       " (u'PNJIS01453-1', u'BC848B', u'200'),\n",
       " (u'PNJIS01453-1', u'BC848C', u'180'),\n",
       " (u'PNJIS01453-1', u'BC848C', u'200'),\n",
       " (u'PNJIS01453-1', u'BC849', u'180'),\n",
       " (u'PNJIS01453-1', u'BC849', u'200'),\n",
       " (u'PNJIS01453-1', u'BC849B', u'180'),\n",
       " (u'PNJIS01453-1', u'BC849B', u'200'),\n",
       " (u'PNJIS01453-1', u'BC849C', u'180'),\n",
       " (u'PNJIS01453-1', u'BC849C', u'200'),\n",
       " (u'PNJIS01453-1', u'BC850B', u'180'),\n",
       " (u'PNJIS01453-1', u'BC850B', u'200'),\n",
       " (u'PNJIS01453-1', u'BC850C', u'180'),\n",
       " (u'PNJIS01453-1', u'BC850C', u'200'),\n",
       " (u'PNJIS01593-1', u'BC846', u'150'),\n",
       " (u'PNJIS01593-1', u'BC846', u'180'),\n",
       " (u'PNJIS01593-1', u'BC846', u'200'),\n",
       " (u'PNJIS01593-1', u'BC856', u'180'),\n",
       " (u'PNJIS01593-1', u'BC856', u'200'),\n",
       " (u'PNJIS01593-1', u'BC856A', u'180'),\n",
       " (u'PNJIS01593-1', u'BC856A', u'200'),\n",
       " (u'PNJIS01593-1', u'BC856B', u'180'),\n",
       " (u'PNJIS01593-1', u'BC856B', u'200'),\n",
       " (u'PNJIS01593-1', u'BC857', u'180'),\n",
       " (u'PNJIS01593-1', u'BC857', u'200'),\n",
       " (u'PNJIS01593-1', u'BC857A', u'180'),\n",
       " (u'PNJIS01593-1', u'BC857A', u'200'),\n",
       " (u'PNJIS01593-1', u'BC857B', u'180'),\n",
       " (u'PNJIS01593-1', u'BC857B', u'200'),\n",
       " (u'PNJIS01593-1', u'BC857C', u'180'),\n",
       " (u'PNJIS01593-1', u'BC857C', u'200'),\n",
       " (u'PNJIS01593-1', u'BC858', u'180'),\n",
       " (u'PNJIS01593-1', u'BC858', u'200'),\n",
       " (u'PNJIS01593-1', u'BC858A', u'180'),\n",
       " (u'PNJIS01593-1', u'BC858A', u'200'),\n",
       " (u'PNJIS01593-1', u'BC858B', u'180'),\n",
       " (u'PNJIS01593-1', u'BC858B', u'200'),\n",
       " (u'PNJIS01593-1', u'BC858C', u'180'),\n",
       " (u'PNJIS01593-1', u'BC858C', u'200'),\n",
       " (u'PNJIS01593-1', u'BC859', u'180'),\n",
       " (u'PNJIS01593-1', u'BC859', u'200'),\n",
       " (u'PNJIS01593-1', u'BC859B', u'180'),\n",
       " (u'PNJIS01593-1', u'BC859B', u'200'),\n",
       " (u'PNJIS01593-1', u'BC859C', u'180'),\n",
       " (u'PNJIS01593-1', u'BC859C', u'200'),\n",
       " (u'RECTS00705-1', u'BC546', u'180'),\n",
       " (u'RECTS00705-1', u'BC546', u'200'),\n",
       " (u'RECTS00705-1', u'BC546A', u'180'),\n",
       " (u'RECTS00705-1', u'BC546A', u'200'),\n",
       " (u'RECTS00705-1', u'BC546B', u'180'),\n",
       " (u'RECTS00705-1', u'BC546B', u'200'),\n",
       " (u'RECTS00705-1', u'BC546C', u'180'),\n",
       " (u'RECTS00705-1', u'BC546C', u'200'),\n",
       " (u'RECTS00705-1', u'BC547', u'180'),\n",
       " (u'RECTS00705-1', u'BC547', u'200'),\n",
       " (u'RECTS00705-1', u'BC547C', u'180'),\n",
       " (u'RECTS00705-1', u'BC547C', u'200'),\n",
       " (u'RECTS00705-1', u'BC548', u'180'),\n",
       " (u'RECTS00705-1', u'BC548', u'200'),\n",
       " (u'RECTS00705-1', u'BC548C', u'180'),\n",
       " (u'RECTS00705-1', u'BC548C', u'200'),\n",
       " (u'RECTS01002-1', u'MMBT3904', u'160'),\n",
       " (u'RECTS01002-1', u'MMBT3904', u'180'),\n",
       " (u'RECTS01002-1', u'MMBT3904', u'200'),\n",
       " (u'RECTS01158-1', u'BC807-25', u'160'),\n",
       " (u'RECTS01158-1', u'BC807-25', u'200'),\n",
       " (u'RECTS01158-1', u'BC807-25LT1', u'150'),\n",
       " (u'RECTS01158-1', u'BC807-25LT1', u'160'),\n",
       " (u'RECTS01158-1', u'BC807-25LT1', u'200'),\n",
       " (u'RECTS01158-1', u'BC817', u'150'),\n",
       " (u'RECTS01158-1', u'BC817', u'160'),\n",
       " (u'RECTS01158-1', u'BC817', u'200'),\n",
       " (u'RECTS01214-1', u'DTC114ECA-1', u'150'),\n",
       " (u'RECTS01214-1', u'DTC114ECA-1', u'200'),\n",
       " (u'RECTS01214-1', u'DTC114EUA', u'200'),\n",
       " (u'RECTS01242-1', u'BC857BLT1', u'150'),\n",
       " (u'RECTS01325-1', u'DTC114YCA-1', u'150'),\n",
       " (u'RECTS01325-1', u'DTC114YCA-1', u'200'),\n",
       " (u'RECTS01325-1', u'DTC114YUA', u'200')]"
      ]
     },
     "execution_count": 102,
     "metadata": {},
     "output_type": "execute_result"
    }
   ],
   "source": [
    "FP"
   ]
  },
  {
   "cell_type": "code",
   "execution_count": null,
   "metadata": {
    "collapsed": true
   },
   "outputs": [],
   "source": []
  }
 ],
 "metadata": {
  "anaconda-cloud": {},
  "kernelspec": {
   "display_name": "Python 2",
   "language": "python",
   "name": "python2"
  },
  "language_info": {
   "codemirror_mode": {
    "name": "ipython",
    "version": 2
   },
   "file_extension": ".py",
   "mimetype": "text/x-python",
   "name": "python",
   "nbconvert_exporter": "python",
   "pygments_lexer": "ipython2",
   "version": "2.7.12"
  }
 },
 "nbformat": 4,
 "nbformat_minor": 1
}
