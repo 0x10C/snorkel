{
 "cells": [
  {
   "cell_type": "markdown",
   "metadata": {},
   "source": [
    "# Tutorial: Extracting Maximum Storage Temperatures for Transistors from PDF Datasheets"
   ]
  },
  {
   "cell_type": "markdown",
   "metadata": {},
   "source": [
    "# Introduction\n",
    "\n",
    "In this tutorial, we will walk through the process of using `Fonduer` to identify mentions of the maximum storage temperature of transistors (e.g. `150°C`) in a corpus of transistor datasheets from [Digikey.com](https://www.digikey.com/products/en/discrete-semiconductor-products/transistors-bipolar-bjt-single/276).\n",
    "\n",
    "The tutorial is broken into several parts, each covering a Phase of the `Fonduer` pipeline (as outlined in the [paper](https://arxiv.org/abs/1703.05028)), and the iterative KBC process:\n",
    "\n",
    "1. KBC Initialization\n",
    "2. Candidate Generation and Multimodal Featurization\n",
    "3. Probabilistic Relation Classification\n",
    "4. Error Analysis and Iterative KBC\n",
    "\n",
    "In addition, we show how users can iteratively improve labeling functions to improve relation extraction quality.\n",
    "\n",
    "# Phase 1: KBC Initialization\n",
    "\n",
    "In this first phase of `Fonduer`'s pipeline, `Fonduer` uses a user specified _schema_ to initialize a relational database where the output KB will be stored. Furthermore, `Fonduer` iterates over its input _corpus_ and transforms each document into a unified data model, which captures the variability and multimodality of richly formatted data. This unified data model then servers as an intermediate representation used in the rest of the phases.\n",
    "\n",
    "This preprocessed data is saved to a database. Connection strings can be specified by setting the `SNORKELDB` environment variable. If no database is specified, then SQLite at `./snorkel.db` is created by default. However, to enabled parallel execution, we use PostgreSQL throughout this tutorial.\n",
    "\n",
    "We initialize several variables for convenience that define what the database should be called and what level of parallelization the `Fonduer` pipeline will be run with. In the code below, we use PostgreSQL as our database backend."
   ]
  },
  {
   "cell_type": "code",
   "execution_count": 1,
   "metadata": {
    "collapsed": true,
    "scrolled": false
   },
   "outputs": [],
   "source": [
    "%load_ext autoreload\n",
    "%autoreload 2\n",
    "%matplotlib inline\n",
    "\n",
    "import os\n",
    "import sys\n",
    "\n",
    "PARALLEL = 4 # assuming a quad-core machine\n",
    "ATTRIBUTE = \"stg_temp_max\"\n",
    "\n",
    "os.environ['SNORKELDBNAME'] = ATTRIBUTE + '111'\n",
    "os.environ['SNORKELDB'] = 'postgres://localhost:5432/' + os.environ['SNORKELDBNAME']\n",
    "        \n",
    "sys.path.append(os.environ['SNORKELHOME'] + '/tutorials/fonduer/hardware/')"
   ]
  },
  {
   "cell_type": "markdown",
   "metadata": {},
   "source": [
    "## 1.1 Defining a Candidate Schema\n",
    "\n",
    "We first initialize a `SnorkelSession`, which manages the connection to the database automatically, and enables us to save intermediate results. This code also reinitializes each of the databases to ensure that we are starting fresh."
   ]
  },
  {
   "cell_type": "code",
   "execution_count": 2,
   "metadata": {
    "scrolled": false
   },
   "outputs": [
    {
     "name": "stdout",
     "output_type": "stream",
     "text": [
      "0\n",
      "0\n",
      "SNORKELDB = postgres://localhost:5432/stg_temp_max111\n",
      "SNORKELDBNAME = stg_temp_max111\n"
     ]
    }
   ],
   "source": [
    "print os.system(\"dropdb --if-exists \" + os.environ['SNORKELDBNAME'])\n",
    "print os.system(\"createdb \" + os.environ['SNORKELDBNAME'])\n",
    "print \"SNORKELDB = %s\" % os.environ['SNORKELDB']\n",
    "print \"SNORKELDBNAME = %s\" % os.environ['SNORKELDBNAME']\n",
    "\n",
    "from snorkel import SnorkelSession\n",
    "session = SnorkelSession()"
   ]
  },
  {
   "cell_type": "markdown",
   "metadata": {},
   "source": [
    "Next, we define the _schema_ of the relation we want to extract. This must be a subclass of Candidate, and we define it using a helper function. Here, we define a binary relation which connects two Span objects of text. This is what creates the relation's database table if it does not already exist."
   ]
  },
  {
   "cell_type": "code",
   "execution_count": 3,
   "metadata": {
    "collapsed": true
   },
   "outputs": [],
   "source": [
    "from snorkel.models import candidate_subclass\n",
    "\n",
    "Part_Attr = candidate_subclass('Part_Attr', ['part','attr'])"
   ]
  },
  {
   "cell_type": "markdown",
   "metadata": {
    "scrolled": false
   },
   "source": [
    "### 1.2 Parsing and Transforming the Input Documents into Unified Data Models\n",
    "\n",
    "Next, we load the corpus of datasheets and transform them into the unified data model. Each datasheet has a PDF and HTML representation. Both representations are used in conjunction to create a robust unified data model with textual, structural, tabular, and visual modality information. Note that since each document is independent of each other, we can parse the documents in parallel. Note that parallel execution will not work with SQLite, the default database engine. We depend on PostgreSQL for this functionality.\n",
    "\n",
    "#### Configuring an `HTMLPreprocessor`\n",
    "We start by setting the paths to where our documents are stored, and defining a `HTMLPreprocessor` to read in the documents found in the specified paths. `max_docs` specified the number of documents to parse. For the sake of this tutorial, we only look at 50 documents.\n",
    "\n",
    "**Note that you need to have run `download_data.sh` before executing these next steps or you won't have the documents needed for the tutorial.**"
   ]
  },
  {
   "cell_type": "code",
   "execution_count": 4,
   "metadata": {
    "collapsed": true
   },
   "outputs": [],
   "source": [
    "from snorkel.parser import HTMLPreprocessor, OmniParser\n",
    "\n",
    "docs_path = os.environ['SNORKELHOME'] + '/tutorials/fonduer/hardware/data/html/'\n",
    "pdf_path = os.environ['SNORKELHOME'] + '/tutorials/fonduer/hardware/data/pdf/'\n",
    "\n",
    "doc_preprocessor = HTMLPreprocessor(docs_path, max_docs=100)"
   ]
  },
  {
   "cell_type": "markdown",
   "metadata": {},
   "source": [
    "#### Configuring an `OmniParser`\n",
    "Next, we configure an `OmniParser`, which serves as our `CorpusParser` for PDF documents. We use [CoreNLP](https://stanfordnlp.github.io/CoreNLP/) as a preprocessing tool to split our documents into phrases and tokens, and to provide annotations such as part-of-speech tags and dependency parse structures for these phrases. In addition, we can specify which modality information to include in the unified data model for each document. Below, we enable all modality information."
   ]
  },
  {
   "cell_type": "code",
   "execution_count": 5,
   "metadata": {
    "scrolled": false
   },
   "outputs": [
    {
     "name": "stdout",
     "output_type": "stream",
     "text": [
      "Clearing existing...\n",
      "Running UDF...\n",
      "CPU times: user 13.9 s, sys: 244 ms, total: 14.2 s\n",
      "Wall time: 6min 44s\n"
     ]
    }
   ],
   "source": [
    "corpus_parser = OmniParser(structural=True, lingual=True, visual=True, pdf_path=pdf_path)\n",
    "%time corpus_parser.apply(doc_preprocessor, parallelism=PARALLEL)"
   ]
  },
  {
   "cell_type": "markdown",
   "metadata": {},
   "source": [
    "We can then use simple database queries (written in the syntax of [SQLAlchemy](http://www.sqlalchemy.org/), which `Fonduer` uses) to check how many documents and sentences were parsed, or even check how many phrases and tables are contained in each document."
   ]
  },
  {
   "cell_type": "code",
   "execution_count": 6,
   "metadata": {
    "scrolled": false
   },
   "outputs": [
    {
     "name": "stdout",
     "output_type": "stream",
     "text": [
      "Documents: 100\n",
      "Phrases: 47656\n"
     ]
    }
   ],
   "source": [
    "from snorkel.models import Document, Phrase\n",
    "\n",
    "print \"Documents:\", session.query(Document).count()\n",
    "print \"Phrases:\", session.query(Phrase).count()"
   ]
  },
  {
   "cell_type": "markdown",
   "metadata": {},
   "source": [
    "## 1.3 Dividing the Corpus into Test and Train\n",
    "\n",
    "We'll split the documents 40/5/5 into train/dev/test splits. Note that here we do this in a non-random order to preverse the consistency in the tutorial, and we reference the splits by 0/1/2 respectively."
   ]
  },
  {
   "cell_type": "code",
   "execution_count": 7,
   "metadata": {},
   "outputs": [
    {
     "name": "stdout",
     "output_type": "stream",
     "text": [
      "[u'MicroCommercialCo_TIP29ABP',\n",
      " u'bc546_diotec',\n",
      " u'FairchildSemiconductor_KSC2310YTA',\n",
      " u'2N6427',\n",
      " u'DiodesIncorporated_2DD26527',\n",
      " u'MOTOS03160-1',\n",
      " u'DiodesIncorporated_ZXT690BKTC',\n",
      " u'Infineon-BC817KSERIES_BC818KSERIES-DS-v01_01-en',\n",
      " u'DISES00645-1',\n",
      " u'BC547',\n",
      " u'INFNS19372-1',\n",
      " u'DiodesIncorporated_ZTX789ASTZ',\n",
      " u'AUKCS04635-1',\n",
      " u'DIODS00215-1',\n",
      " u'2N3906',\n",
      " u'bc550',\n",
      " u'dtc114w',\n",
      " u'BC182',\n",
      " u'MOTOS03189-1',\n",
      " u'CentralSemiconductorCorp_CXT4033TR',\n",
      " u'DIODS13249-1',\n",
      " u'LTSCS02920-1',\n",
      " u'DISES00616-1',\n",
      " u'BC818',\n",
      " u'Infineon-BC857SERIES_BC858SERIES_BC859SERIES_BC860SERIES-DS-v01_01-en',\n",
      " u'bc546-d',\n",
      " u'BC182-D',\n",
      " u'DISES00023-1',\n",
      " u'MOTOS04796-1',\n",
      " u'CSEMS03485-1',\n",
      " u'BC818-40LT1-D',\n",
      " u'CentralSemiconductorCorp_2N4013',\n",
      " u'KECCS03676-1',\n",
      " u'BC337',\n",
      " u'LITES00686-1',\n",
      " u'MMBT3904',\n",
      " u'DISES00189-1',\n",
      " u'BournsInc_BD246BS',\n",
      " u'DiodesIncorporated_FZT651TC',\n",
      " u'CSEMS05383-1',\n",
      " u'BC337-D',\n",
      " u'MCCCS09540-1',\n",
      " u'MicrosemiCorporation_2N2484UB',\n",
      " u'DISES00192-1',\n",
      " u'MOTOS04676-1',\n",
      " u'KECCS05435-1',\n",
      " u'BournsInc_TIP152S',\n",
      " u'MicroCommercialCo_2N3904AP',\n",
      " u'BC546',\n",
      " u'DiodesIncorporated_FCX491ATA',\n",
      " u'112823',\n",
      " u'DISES00242-1',\n",
      " u'FAIRS25065-1',\n",
      " u'MMMCS17742-1',\n",
      " u'LTSCS02912-1',\n",
      " u'BC546A_Series_B14-521026',\n",
      " u'MCCCS08984-1',\n",
      " u'DISES00490-1',\n",
      " u'DiodesIncorporated_ZTX688BSTZ',\n",
      " u'NXPUSAInc_PBSS5360PASX',\n",
      " u'2N3906-D',\n",
      " u'MCCCS09741-1',\n",
      " u'BC546-BC548C(TO-92)',\n",
      " u'LITES00690-1',\n",
      " u'CSEMS02742-1',\n",
      " u'CSEMS05382-1',\n",
      " u'2N4123-D',\n",
      " u'MCCCS08610-1',\n",
      " u'FAIRS19194-1',\n",
      " u'LTSCS02910-1',\n",
      " u'LITES00424-1',\n",
      " u'2N4124',\n",
      " u'MCCCS08818-1',\n",
      " u'MINDS00015-1',\n",
      " u'CentralSemiconductorCorp_CMPT5401ETR',\n",
      " u'JCSTS01155-1',\n",
      " u'CentralSemiconductorCorp_CENU45',\n",
      " u'2N6426-D',\n",
      " u'DiodesIncorporated_ZTX953STZ',\n",
      " u'LITES00689-1']\n"
     ]
    }
   ],
   "source": [
    "from snorkel.models import Document\n",
    "\n",
    "docs = session.query(Document).order_by(Document.name).all()\n",
    "ld   = len(docs)\n",
    "\n",
    "train_docs = set()\n",
    "dev_docs   = set()\n",
    "test_docs  = set()\n",
    "splits = (0.8, 0.9)\n",
    "for i,doc in enumerate(docs):\n",
    "    if i < splits[0] * ld:\n",
    "        train_docs.add(doc)\n",
    "    elif i < splits[1] * ld:\n",
    "        dev_docs.add(doc)\n",
    "    else:\n",
    "        test_docs.add(doc)\n",
    "from pprint import pprint\n",
    "pprint([x.name for x in train_docs])"
   ]
  },
  {
   "cell_type": "markdown",
   "metadata": {},
   "source": [
    "# Phase 2: Candidate Extraction & Multimodal Featurization\n",
    "Given the unified data model from Phase 1, `Fonduer` extracts relation candidates based on user-provided **matchers** and **throttlers**. Then, `Fonduer` leverages the multimodality information captured in the unified data model to provide multimodal features for each candidate.\n",
    "\n",
    "## 2.1: Candidate Extraction\n",
    "\n",
    "The next step is to extract **candidates** from our corpus. A `candidate` is the objects for which we want to make predictions. In this case, the candidates are pairs of transistor part numbers and their corresponding maximum storage temperatures as found in their datasheets. Our task is to predict which pairs are true in the associated document.\n",
    "\n",
    "To do so, we write **matchers** to define which spans of text in the corpus are instances of each entity. Matchers can leverage a variety of information from regular expressions, to dictionaries, to user-defined functions. Furthermore, different techniques can be combined to form higher quality matchers. In general, matchers should seek to be as precise as possible while maintaining complete recall.\n",
    "\n",
    "In our case, we need to write a matcher that defines a transistor part number and a matcher to define a valid temperature value.\n",
    "\n",
    "### Writing a simple temperature matcher\n",
    "\n",
    "Our maximum storage temperature matcher can be a very simple regular expression since we know that we are looking for integers, and by inspecting a portion of our corpus, we see that maximum storage temperatures fall within a fairly narrow range."
   ]
  },
  {
   "cell_type": "code",
   "execution_count": 8,
   "metadata": {
    "collapsed": true
   },
   "outputs": [],
   "source": [
    "from snorkel.matchers import *\n",
    "\n",
    "attr_matcher = RegexMatchSpan(rgx=r'(?:[1][5-9]|20)[05]', longest_match_only=False)"
   ]
  },
  {
   "cell_type": "markdown",
   "metadata": {},
   "source": [
    "### Writing an advanced transistor part matcher\n",
    "\n",
    "In contrast, transistor part numbers are complex expressions. Here, we show how transistor part numbers can leverage [naming conventions](https://en.wikipedia.org/wiki/Transistor#Part_numbering_standards.2Fspecifications) as regular expressions, and use a dictionary of known part numbers, and use user-defined functions together. First, we create a regular expression matcher for standard transistor naming conventions."
   ]
  },
  {
   "cell_type": "code",
   "execution_count": 9,
   "metadata": {
    "collapsed": true
   },
   "outputs": [],
   "source": [
    "### Transistor Naming Conventions as Regular Expressions ###\n",
    "eeca_rgx = '([ABC][A-Z][WXYZ]?[0-9]{3,5}(?:[A-Z]){0,5}[0-9]?[A-Z]?(?:-[A-Z0-9]{1,7})?(?:[-][A-Z0-9]{1,2})?(?:\\/DG)?)'\n",
    "jedec_rgx = '(2N\\d{3,4}[A-Z]{0,5}[0-9]?[A-Z]?)'\n",
    "jis_rgx = '(2S[ABCDEFGHJKMQRSTVZ]{1}[\\d]{2,4})'\n",
    "others_rgx = '((?:NSVBC|SMBT|MJ|MJE|MPS|MRF|RCA|TIP|ZTX|ZT|ZXT|TIS|TIPL|DTC|MMBT|SMMBT|PZT|FZT|STD|BUV|PBSS|KSC|CXT|FCX|CMPT){1}[\\d]{2,4}[A-Z]{0,5}(?:-[A-Z0-9]{0,6})?(?:[-][A-Z0-9]{0,1})?)'\n",
    "\n",
    "part_rgx = '|'.join([eeca_rgx, jedec_rgx, jis_rgx, others_rgx])\n",
    "part_rgx_matcher = RegexMatchSpan(rgx=part_rgx, longest_match_only=True)"
   ]
  },
  {
   "cell_type": "markdown",
   "metadata": {},
   "source": [
    "Next, we can create a matcher from a dictionary of known part numbers:"
   ]
  },
  {
   "cell_type": "code",
   "execution_count": 10,
   "metadata": {
    "collapsed": true
   },
   "outputs": [],
   "source": [
    "import csv\n",
    "\n",
    "def get_digikey_parts_set(path):\n",
    "    \"\"\"\n",
    "    Reads in the digikey part dictionary and yeilds each part.\n",
    "    \"\"\"\n",
    "    all_parts = set()\n",
    "    with open(path, \"r\") as csvinput:\n",
    "        reader = csv.reader(csvinput)\n",
    "        for line in reader:\n",
    "            (part, url) = line\n",
    "            all_parts.add(part)\n",
    "    return all_parts\n",
    "            \n",
    "### Dictionary of known transistor parts ###\n",
    "dict_path = os.environ['SNORKELHOME'] + '/tutorials/fonduer/hardware/data/digikey_part_dictionary.csv'\n",
    "part_dict_matcher = DictionaryMatch(d=get_digikey_parts_set(dict_path))"
   ]
  },
  {
   "cell_type": "markdown",
   "metadata": {},
   "source": [
    "We can also use user-defined functions to further improve our matchers. For example, here we use patterns in the document filenames as a signal for whether a span of text in a document is a valid transistor part number."
   ]
  },
  {
   "cell_type": "code",
   "execution_count": 11,
   "metadata": {
    "collapsed": true
   },
   "outputs": [],
   "source": [
    "def common_prefix_length_diff(str1, str2):\n",
    "    for i in range(min(len(str1), len(str2))):\n",
    "        if str1[i] != str2[i]:\n",
    "            return min(len(str1), len(str2)) - i\n",
    "    return 0\n",
    "\n",
    "def part_file_name_conditions(attr):\n",
    "    file_name = attr.sentence.document.name\n",
    "    if len(file_name.split('_')) != 2: return False\n",
    "    if attr.get_span()[0] == '-': return False\n",
    "    name = attr.get_span().replace('-', '')\n",
    "    return any(char.isdigit() for char in name) and any(char.isalpha() for char in name) and common_prefix_length_diff(file_name.split('_')[1], name) <= 2\n",
    "\n",
    "add_rgx = '^[A-Z0-9\\-]{5,15}$'\n",
    "\n",
    "part_file_name_lambda_matcher = LambdaFunctionMatch(func=part_file_name_conditions)\n",
    "part_file_name_matcher = Intersect(RegexMatchSpan(rgx=add_rgx, longest_match_only=True), part_file_name_lambda_matcher)"
   ]
  },
  {
   "cell_type": "markdown",
   "metadata": {},
   "source": [
    "Then, we can union all of these matchers together to form our final part matcher."
   ]
  },
  {
   "cell_type": "code",
   "execution_count": 12,
   "metadata": {
    "collapsed": true
   },
   "outputs": [],
   "source": [
    "part_matcher = Union(part_rgx_matcher, part_dict_matcher, part_file_name_matcher)"
   ]
  },
  {
   "cell_type": "markdown",
   "metadata": {},
   "source": [
    "These two matchers define each entity in our relation schema."
   ]
  },
  {
   "cell_type": "markdown",
   "metadata": {},
   "source": [
    "### Define a relation's `ContextSpaces`\n",
    "\n",
    "Next, in order to define the \"space\" of all candidates that are even considered from the document, we need to define a `ContextSpace` for each component of the relation we wish to extract.\n",
    "\n",
    "In the case of transistor part numbers, the `ContextSpace` can be quite complex due to the need to handle implicit part numbers that are implied in text like \"BC546A/B/C...BC548A/B/C\", which refers to 9 unique part numbers. In addition, to handle these, we consider all n-grams up to 3 words long.\n",
    "\n",
    "In contrast, the `ContextSpace` for temperature values is simpler: we only need to process different unicode representations of a (`-`), and don't need to look at more than two works at a time."
   ]
  },
  {
   "cell_type": "code",
   "execution_count": 13,
   "metadata": {
    "collapsed": true
   },
   "outputs": [],
   "source": [
    "from hardware_spaces import OmniNgramsPart, OmniNgramsTemp\n",
    "    \n",
    "part_ngrams = OmniNgramsPart(parts_by_doc=None, n_max=3)\n",
    "attr_ngrams = OmniNgramsTemp(n_max=2)"
   ]
  },
  {
   "cell_type": "markdown",
   "metadata": {},
   "source": [
    "### Defining candidate `Throttlers`\n",
    "\n",
    "Next, we need to define **throttlers**, which allow us to further prune excess candidates and avoid unnecessarily materializing invalid candidates. Trottlers, like matchers, act as hard filters, and should be created to have high precision while maintaining complete recall, if possible.\n",
    "\n",
    "Here, we create a throttler that discards candidates if they are in the same table, but the part and storage temperature are not vertically or horizontally aligned."
   ]
  },
  {
   "cell_type": "code",
   "execution_count": 14,
   "metadata": {
    "collapsed": true
   },
   "outputs": [],
   "source": [
    "from snorkel.contrib.fonduer.lf_helpers import *\n",
    "import re\n",
    "\n",
    "def stg_temp_throttler((part, attr)):\n",
    "    if same_table((part, attr)):\n",
    "        return (is_horz_aligned((part, attr)) or is_vert_aligned((part, attr)))\n",
    "    return True\n",
    "\n",
    "throttler = stg_temp_throttler"
   ]
  },
  {
   "cell_type": "markdown",
   "metadata": {},
   "source": [
    "### Running the `CandidateExtractor`\n",
    "\n",
    "Now, we have all the component necessary to perform candidate extraction. We have defined the \"space\" of things to consider for each candidate, provided matchers that signal when a valid mention is seen, and a throttler to prunes away excess candidates. We now can define the `CandidateExtractor` with the contexts to extract from, the matchers, and the throttler to use. "
   ]
  },
  {
   "cell_type": "code",
   "execution_count": 15,
   "metadata": {
    "scrolled": false
   },
   "outputs": [
    {
     "name": "stdout",
     "output_type": "stream",
     "text": [
      "Clearing existing...\n",
      "Running UDF...\n",
      "[========================================] 100%\n",
      "CPU times: user 35.2 s, sys: 928 ms, total: 36.1 s\n",
      "Wall time: 60 s\n"
     ]
    }
   ],
   "source": [
    "from snorkel.candidates import CandidateExtractor\n",
    "\n",
    "\n",
    "candidate_extractor = CandidateExtractor(Part_Attr, \n",
    "                        [part_ngrams, attr_ngrams], \n",
    "                        [part_matcher, attr_matcher], \n",
    "                        throttler=throttler)\n",
    "\n",
    "%time candidate_extractor.apply(train_docs, split=0)"
   ]
  },
  {
   "cell_type": "markdown",
   "metadata": {},
   "source": [
    "Here we specified that these `Candidates` belong to the training set by specifying `split=0`; recall that we're referring to train/dev/test as splits 0/1/2."
   ]
  },
  {
   "cell_type": "code",
   "execution_count": 16,
   "metadata": {},
   "outputs": [
    {
     "name": "stdout",
     "output_type": "stream",
     "text": [
      "Number of candidates: 4057\n"
     ]
    }
   ],
   "source": [
    "train_cands = session.query(Part_Attr).filter(Part_Attr.split == 0).all()\n",
    "print \"Number of candidates:\", len(train_cands)"
   ]
  },
  {
   "cell_type": "markdown",
   "metadata": {},
   "source": [
    "### Repeating for development and test splits\n",
    "Finally, we rerun the same operation for the other two document divisions: dev and test. For each, we simply load the `Corpus` object and run them through the `CandidateExtractor`."
   ]
  },
  {
   "cell_type": "code",
   "execution_count": 17,
   "metadata": {},
   "outputs": [
    {
     "name": "stdout",
     "output_type": "stream",
     "text": [
      "Clearing existing...\n",
      "Running UDF...\n",
      "[========================================] 100%\n",
      "Number of candidates: 1227\n",
      "Clearing existing...\n",
      "Running UDF...\n",
      "[========================================] 100%\n",
      "Number of candidates: 831\n",
      "CPU times: user 26 s, sys: 484 ms, total: 26.5 s\n",
      "Wall time: 38.1 s\n"
     ]
    }
   ],
   "source": [
    "%%time\n",
    "for i, docs in enumerate([dev_docs, test_docs]):\n",
    "    candidate_extractor.apply(docs, split=i+1)\n",
    "    print \"Number of candidates:\", session.query(Part_Attr).filter(Part_Attr.split == i+1).count()"
   ]
  },
  {
   "cell_type": "markdown",
   "metadata": {},
   "source": [
    "## 2.2 Multimodal Featurization\n",
    "Unlike dealing with plain unstructured text, `Fonduer` deals with richly formatted data, and consequently featurizes each candidate with a baseline library of multimodal features. \n",
    "\n",
    "### Featurize with `Fonduer`'s optimized Postgres Feature Annotator\n",
    "We now annotate the candidates in our dev, test, and training sets with features. The `BatchFeatureAnnotator` provided by `Fonduer` allows this to be done in parallel to improve performance.\n",
    "\n",
    "`featurizer.apply` takes three important arguments.\n",
    "* `split` defines which candidate set wer are dealing with. For example, `split=0` is the training set.\n",
    "* `replace_key_set` determine whether or not replace, or reinitialize, the set of features to apply to candidates. That is, when `replace_key_set` is true, key set of features will be replaced with the key set of the features found in the split that is being processed.\n",
    "* `parallelism` determines how many processes to run in parallel.\n",
    "\n",
    "Notices that `replace_key_set=True` only for the first call to `featurizer.apply`, while the other calls have this parameter set to `False`. This is because we want to have the set of features we label candidates with defined by the features found in the set of training documents only. If a later call to `featurizer.apply` replaced the key set, then only the features of that particular split would be considered later in the pipeline."
   ]
  },
  {
   "cell_type": "code",
   "execution_count": 18,
   "metadata": {},
   "outputs": [
    {
     "name": "stdout",
     "output_type": "stream",
     "text": [
      "Clearing existing...\n",
      "Running UDF...\n",
      "Copying part_attr_feature to postgres\n",
      "COPY 4057\n",
      "\n",
      "CPU times: user 8.14 s, sys: 292 ms, total: 8.43 s\n",
      "Wall time: 7min 49s\n",
      "(4057, 14573)\n",
      "Clearing existing...\n",
      "Running UDF...\n",
      "Copying part_attr_feature_updates to postgres\n",
      "COPY 1227\n",
      "\n",
      "CPU times: user 1.31 s, sys: 148 ms, total: 1.46 s\n",
      "Wall time: 6min 38s\n",
      "(1227, 14573)\n",
      "Clearing existing...\n",
      "Running UDF...\n",
      "Copying part_attr_feature_updates to postgres\n",
      "COPY 831\n",
      "\n",
      "CPU times: user 1.28 s, sys: 156 ms, total: 1.43 s\n",
      "Wall time: 59.1 s\n",
      "(831, 14573)\n"
     ]
    }
   ],
   "source": [
    "from snorkel.contrib.fonduer.async_annotations import BatchFeatureAnnotator\n",
    "\n",
    "featurizer = BatchFeatureAnnotator(Part_Attr)\n",
    "%time F_train = featurizer.apply(split=0, replace_key_set=True, parallelism=PARALLEL)\n",
    "print F_train.shape\n",
    "%time F_dev = featurizer.apply(split=1, replace_key_set=False, parallelism=PARALLEL)\n",
    "print F_dev.shape\n",
    "%time F_test = featurizer.apply(split=2, replace_key_set=False, parallelism=PARALLEL)\n",
    "print F_test.shape"
   ]
  },
  {
   "cell_type": "markdown",
   "metadata": {},
   "source": [
    "At the end of this phase, `Fonduer` has generated the set of candidates and the feature matrix. Note that Phase 1 and 2 are relatively static and typically are only executed once during the KBC process.\n",
    "\n",
    "# Phase 3: Probabilistic Relation Classification\n",
    "In this phase, `Fonduer` applies user-defined **labeling functions**, which express various heuristics, patterns, and [weak supervision](http://hazyresearch.github.io/snorkel/blog/weak_supervision.html) strategies to label our data, to each of the candidates to create a label matrix that is used by our data programming engine.\n",
    "\n",
    "In the wild, hand-labeled training data is rare and expensive. A common scenario is to have access to tons of unlabeled training data, and have some idea of how to label them programmatically. For example:\n",
    "* We may be able to think of text patterns that would indicate a part and polarity mention are related, for example the word \"polarity\" appearing between them.\n",
    "* We may have access to an external knowledge base that lists some pairs of parts and polarities, and can use these to noisily label some of our mention pairs.\n",
    "Our labeling functions will capture these types of strategies. We know that these labeling functions will not be perfect, and some may be quite low-quality, so we will model their accuracies with a generative model, which `Fonduer` will help us easily apply.\n",
    "\n",
    "Using data programming, we can then train machine learning models to learn which features are the most important in classifying candidates.\n",
    "\n",
    "### Loading Gold Data\n",
    "For convenience in error analysis and evaluation, we have already annotated the dev and test set for this tutorial, and we'll now load it using an externally-defined helper function.\n",
    "\n",
    "Loading and saving external \"gold\" labels can be a bit messy, but is often a critical part of development, especially when gold labels are expensive and/or time-consuming to obtain. Snorkel stores all labels that are manually annotated in a **stable** format (called StableLabels), which is somewhat independent from the rest of Snorkel's data model, does not get deleted when you delete the candidates, corpus, or any other objects, and can be recovered even if the rest of the data changes or is deleted.\n",
    "\n",
    "Our general procedure with external labels is to load them into the `StableLabel` table, then use `Fonduer`'s helpers to load them into the main data model from there. If interested in example implementation details, please see the script we now load:"
   ]
  },
  {
   "cell_type": "code",
   "execution_count": 19,
   "metadata": {},
   "outputs": [
    {
     "name": "stdout",
     "output_type": "stream",
     "text": [
      "Loading 6115 candidate labels\n",
      "[========================================] 100%\n",
      "AnnotatorLabels created: 6115\n"
     ]
    }
   ],
   "source": [
    "from hardware_utils import load_hardware_labels\n",
    "\n",
    "gold_file = os.environ['SNORKELHOME'] + '/tutorials/fonduer/hardware/data/hardware_tutorial_gold.csv'\n",
    "load_hardware_labels(session, Part_Attr, gold_file, ATTRIBUTE ,annotator_name='gold')"
   ]
  },
  {
   "cell_type": "markdown",
   "metadata": {},
   "source": [
    "### Creating Labeling Functions\n",
    "\n",
    "In `Fonduer`, our primary interface through which we provide training signal to the end extraction model we are training is by writing labeling functions (**LFs**) (as opposed to hand-labeling massive training sets).\n",
    "\n",
    "A labeling function isn't anything special. It's just a Python function that accepts a `Candidate` as the input argument and returns `1` if it says the Candidate should be marked as true, `-1` if it says the `Candidate` should be marked as false, and `0` if it doesn't know how to vote and abstains. In practice, many labeling functions are unipolar: it labels only 1s and 0s, or it labels only -1s and 0s.\n",
    "\n",
    "Recall that our goal is to ultimately train a high-performance classification model that predicts which of our Candidates are true mentions of spouse relations. It turns out that we can do this by writing potentially low-quality labeling functions!\n",
    "\n",
    "With `Fonduer`, labeling functions can be written using intuitive patterns discovered by inspecting the target corpus. A library of labeling function helpers can be found in `snorke.contrib.fonduer.lf_helpers`. \n",
    "\n",
    "For example, inspecting several document may reveal that storage temperatures are typically listed inside a table where the row header contains the word \"storage\". This intuitive pattern can be directly expressed as a labeling function. Similarly, the word \"temperature\" is an obvious positive signal."
   ]
  },
  {
   "cell_type": "code",
   "execution_count": 20,
   "metadata": {
    "collapsed": true
   },
   "outputs": [],
   "source": [
    "from snorkel.contrib.fonduer.lf_helpers import *\n",
    "import re\n",
    "\n",
    "def LF_storage_row(c):\n",
    "    return 1 if 'storage' in get_row_ngrams(c.attr) else 0\n",
    "\n",
    "def LF_temperature_row(c):\n",
    "    return 1 if 'temperature' in get_row_ngrams(c.attr) else 0"
   ]
  },
  {
   "cell_type": "markdown",
   "metadata": {},
   "source": [
    "By inspecting the source documents, we also realize that temperatures are rarely listed outside of a table, so, this can become a negative labeling function:"
   ]
  },
  {
   "cell_type": "code",
   "execution_count": 21,
   "metadata": {
    "collapsed": true
   },
   "outputs": [],
   "source": [
    "def LF_temp_outside_table(c):\n",
    "    return -1 if not c.attr.is_tabular() is None else 0"
   ]
  },
  {
   "cell_type": "markdown",
   "metadata": {},
   "source": [
    "We express several of these simple patterns below as a set of labeling functions:"
   ]
  },
  {
   "cell_type": "code",
   "execution_count": 22,
   "metadata": {
    "collapsed": true
   },
   "outputs": [],
   "source": [
    "def LF_operating_row(c):\n",
    "    return 1 if 'operating' in get_row_ngrams(c.attr) else 0\n",
    "\n",
    "def LF_tstg_row(c):\n",
    "    return 1 if overlap(\n",
    "        ['tstg','stg','ts'], \n",
    "        list(get_row_ngrams(c.attr))) else 0\n",
    "\n",
    "def LF_not_temp_relevant(c):\n",
    "    return -1 if not overlap(\n",
    "        ['storage','temperature','tstg','stg', 'ts'],\n",
    "        list(get_aligned_ngrams(c.attr))) else 0\n",
    "\n",
    "def LF_too_many_numbers_row(c):\n",
    "    num_numbers = list(get_row_ngrams(c.attr, attrib=\"ner_tags\")).count('number')\n",
    "    return -1 if num_numbers >= 3 else 0\n",
    "\n",
    "def LF_collector_aligned(c):\n",
    "    return -1 if overlap(\n",
    "        ['collector', 'collector-current', 'collector-base', 'collector-emitter'],\n",
    "        list(get_aligned_ngrams(c.attr))) else 0\n",
    "\n",
    "def LF_current_aligned(c):\n",
    "    ngrams = get_aligned_ngrams(c.attr)\n",
    "    return -1 if overlap(\n",
    "        ['current', 'dc', 'ic'],\n",
    "        list(get_aligned_ngrams(c.attr))) else 0\n",
    "\n",
    "def LF_voltage_row_temp(c):\n",
    "    ngrams = get_aligned_ngrams(c.attr)\n",
    "    return -1 if overlap(\n",
    "        ['voltage', 'cbo', 'ceo', 'ebo', 'v'],\n",
    "        list(get_aligned_ngrams(c.attr))) else 0\n",
    "\n",
    "def LF_voltage_row_part(c):\n",
    "    ngrams = get_aligned_ngrams(c.part)\n",
    "    return -1 if overlap(\n",
    "        ['voltage', 'cbo', 'ceo', 'ebo', 'v'],\n",
    "        list(get_aligned_ngrams(c.attr))) else 0\n",
    "\n",
    "def LF_typ_row(c):\n",
    "    return -1 if overlap(\n",
    "        ['typ', 'typ.'],\n",
    "        list(get_row_ngrams(c.attr))) else 0\n",
    "\n",
    "def LF_test_condition_aligned(c):\n",
    "    return -1 if overlap(\n",
    "        ['test', 'condition'],\n",
    "        list(get_aligned_ngrams(c.attr))) else 0\n",
    "\n",
    "def LF_complement_left_row(c):\n",
    "    return -1 if (\n",
    "        overlap(['complement','complementary'], \n",
    "        chain.from_iterable([get_row_ngrams(c.part), get_left_ngrams(c.part, window=10)]))) else 0\n",
    "\n",
    "def LF_temp_on_high_page_num(c):\n",
    "    return -1 if c.attr.get_attrib_tokens('page')[0] > 2 else 0\n",
    "\n",
    "def LF_to_left(c):\n",
    "    return 1 if 'to' in get_left_ngrams(c.attr, window=2) else 0\n",
    "\n",
    "def LF_negative_number_left(c):\n",
    "    return 1 if any([re.match(r'-\\s*\\d+', ngram) for ngram in get_left_ngrams(c.attr, window=4)]) else 0"
   ]
  },
  {
   "cell_type": "code",
   "execution_count": 23,
   "metadata": {
    "collapsed": true
   },
   "outputs": [],
   "source": [
    "# Enhanced Labeling Functions"
   ]
  },
  {
   "cell_type": "markdown",
   "metadata": {},
   "source": [
    "Then, we collect all of the labeling function we would like to use into a single list, which is provided as input to the `LabelAnnotator`."
   ]
  },
  {
   "cell_type": "code",
   "execution_count": 24,
   "metadata": {
    "collapsed": true
   },
   "outputs": [],
   "source": [
    "stg_temp_lfs = [\n",
    "    LF_storage_row,\n",
    "    LF_operating_row,\n",
    "    LF_temperature_row,\n",
    "    LF_tstg_row,\n",
    "    LF_not_temp_relevant,\n",
    "    LF_temp_outside_table,\n",
    "    LF_too_many_numbers_row,\n",
    "    LF_collector_aligned,\n",
    "    LF_current_aligned,\n",
    "    LF_voltage_row_temp,\n",
    "    LF_voltage_row_part,\n",
    "    LF_typ_row,\n",
    "    LF_test_condition_aligned,\n",
    "    LF_complement_left_row,\n",
    "    LF_temp_on_high_page_num,\n",
    "    LF_to_left,\n",
    "    LF_negative_number_left\n",
    "]"
   ]
  },
  {
   "cell_type": "markdown",
   "metadata": {},
   "source": [
    "### Applying the Labeling Functions\n",
    "\n",
    "Next, we need to actually run the LFs over all of our training candidates, producing a set of `Labels` and `LabelKeys` (just the names of the LFs) in the database. We'll do this using the `LabelAnnotator` class, a `UDF` which we will again run with `UDFRunner`. Note that this will delete any existing `Labels` and `LabelKeys` for this candidate set. Also note that we are using `Fonduer`'s optimized batch label annotator, which runs in parallel and depends on having Postgres as the backend database. \n",
    "\n",
    "By default, `labeler.apply` will drop the existing table of labeling functions and the label values for each candidate. However, this behavior can be controlled by three parameters to the function to imperove iteration performance and reduce redundant computation:\n",
    "- `split` defines which set to operate on (e.g. dev, test, or train)\n",
    "- `clear` can be `True` or `False`, and is `True` by default. When set to `False`, the labeling functioni table is not dropped, and the behavior of `labeler.apply` is defined by the following two parameters.\n",
    "- `update_keys` can be `True` or `False`. When `True`, the keys (which are each labeling function) are updated according to the set of labeling functions provided to the function. This should be set to `True` if new labeling functions are added. When `False`, no new LFs are evaluated and the keys of existing LFs remain the same.\n",
    "- `update_values` can be `True` or `False`. This defines how to resolve conflicts. When `True`, the values assigned to each candiate is updated to the new values when in conflict. This should be set to `True` if labeling function logic is edited, even though the name of the labeling function remains the same. When `False`, the existing labels assigned to each candidate are used, and newly computed labels are ignored.\n",
    "- `parallelism` is the amount of parallelism to use when labeling.\n",
    "\n",
    "With this in mind, we set `clear=True` when we first apply our labeling functions, and this ensures that the table is created and intialized with proper keys and values.\n",
    "\n",
    "In future iterations, we would typically set `clear=False, update_keys=True, update_values=True` so that we can simple update the set of LFs and their values without recreating the entire table. We will see how this is used later in the tutorial."
   ]
  },
  {
   "cell_type": "code",
   "execution_count": 25,
   "metadata": {},
   "outputs": [
    {
     "name": "stdout",
     "output_type": "stream",
     "text": [
      "Clearing existing...\n",
      "Running UDF...\n",
      "Copying part_attr_label to postgres\n",
      "COPY 4057\n",
      "\n",
      "CPU times: user 316 ms, sys: 132 ms, total: 448 ms\n",
      "Wall time: 2min 14s\n",
      "(4057, 17)\n"
     ]
    }
   ],
   "source": [
    "from snorkel.contrib.fonduer.async_annotations import BatchLabelAnnotator\n",
    "\n",
    "labeler = BatchLabelAnnotator(Part_Attr, lfs = stg_temp_lfs)\n",
    "%time L_train = labeler.apply(split=0, clear=True, parallelism=4)\n",
    "print L_train.shape\n",
    "\n",
    "# # Update existing labels, assume the lfs are updated\n",
    "# def LF_test(c):\n",
    "#     return 1 if 'to' in get_left_ngrams(c.attr, window=2) else 0\n",
    "# stg_temp_lfs3 = [LF_test]\n",
    "# labeler = BatchLabelAnnotator(Part_Attr, lfs = stg_temp_lfs3)\n",
    "# %time L_train = labeler.apply(split=0, clear=False, update_keys=True, update_values=True, parallelism=4)\n",
    "# print L_train.shape\n",
    "# L_train3 = L_train"
   ]
  },
  {
   "cell_type": "markdown",
   "metadata": {},
   "source": [
    "Note that the returned matrix is a special subclass of the scipy.sparse.csr_matrix class, with some special features which we demonstrate below:"
   ]
  },
  {
   "cell_type": "code",
   "execution_count": 26,
   "metadata": {},
   "outputs": [
    {
     "data": {
      "text/plain": [
       "Part_Attr(ImplicitSpan(\"TIP29B\", sentence=83121, words=[6,8], position=[0]), ImplicitSpan(\"200\", sentence=83355, words=[0,0], position=[0]))"
      ]
     },
     "execution_count": 26,
     "metadata": {},
     "output_type": "execute_result"
    }
   ],
   "source": [
    "L_train.get_candidate(session, 0)"
   ]
  },
  {
   "cell_type": "markdown",
   "metadata": {},
   "source": [
    "We can also view statistics about the resulting label matrix.\n",
    "* **Coverage** is the fraction of candidates that the labeling function emits a non-zero label for.\n",
    "* **Overlap** is the fraction candidates that the labeling function emits a non-zero label for and that another labeling function emits a non-zero label for.\n",
    "* **Conflict** is the fraction candidates that the labeling function emits a non-zero label for and that another labeling function emits a conflicting non-zero label for.\n",
    "\n",
    "In addition, because we have already loaded the gold labels, we can view the emperical accuracy of these labeling functions when compared to our gold labels:"
   ]
  },
  {
   "cell_type": "code",
   "execution_count": 27,
   "metadata": {},
   "outputs": [
    {
     "name": "stdout",
     "output_type": "stream",
     "text": [
      "CPU times: user 36 ms, sys: 0 ns, total: 36 ms\n",
      "Wall time: 34.7 ms\n"
     ]
    },
    {
     "data": {
      "text/html": [
       "<div>\n",
       "<table border=\"1\" class=\"dataframe\">\n",
       "  <thead>\n",
       "    <tr style=\"text-align: right;\">\n",
       "      <th></th>\n",
       "      <th>j</th>\n",
       "      <th>Coverage</th>\n",
       "      <th>Overlaps</th>\n",
       "      <th>Conflicts</th>\n",
       "      <th>TP</th>\n",
       "      <th>FP</th>\n",
       "      <th>FN</th>\n",
       "      <th>TN</th>\n",
       "      <th>Empirical Acc.</th>\n",
       "    </tr>\n",
       "  </thead>\n",
       "  <tbody>\n",
       "    <tr>\n",
       "      <th>LF_typ_row</th>\n",
       "      <td>0</td>\n",
       "      <td>0.003944</td>\n",
       "      <td>0.003944</td>\n",
       "      <td>0.000000</td>\n",
       "      <td>0</td>\n",
       "      <td>0</td>\n",
       "      <td>5</td>\n",
       "      <td>11</td>\n",
       "      <td>0.687500</td>\n",
       "    </tr>\n",
       "    <tr>\n",
       "      <th>LF_voltage_row_part</th>\n",
       "      <td>1</td>\n",
       "      <td>0.210254</td>\n",
       "      <td>0.210254</td>\n",
       "      <td>0.023663</td>\n",
       "      <td>0</td>\n",
       "      <td>0</td>\n",
       "      <td>190</td>\n",
       "      <td>663</td>\n",
       "      <td>0.777257</td>\n",
       "    </tr>\n",
       "    <tr>\n",
       "      <th>LF_collector_aligned</th>\n",
       "      <td>2</td>\n",
       "      <td>0.075179</td>\n",
       "      <td>0.075179</td>\n",
       "      <td>0.000000</td>\n",
       "      <td>0</td>\n",
       "      <td>0</td>\n",
       "      <td>53</td>\n",
       "      <td>252</td>\n",
       "      <td>0.826230</td>\n",
       "    </tr>\n",
       "    <tr>\n",
       "      <th>LF_operating_row</th>\n",
       "      <td>3</td>\n",
       "      <td>0.045847</td>\n",
       "      <td>0.045847</td>\n",
       "      <td>0.045847</td>\n",
       "      <td>161</td>\n",
       "      <td>25</td>\n",
       "      <td>0</td>\n",
       "      <td>0</td>\n",
       "      <td>0.865591</td>\n",
       "    </tr>\n",
       "    <tr>\n",
       "      <th>LF_temp_outside_table</th>\n",
       "      <td>4</td>\n",
       "      <td>1.000000</td>\n",
       "      <td>1.000000</td>\n",
       "      <td>0.173034</td>\n",
       "      <td>0</td>\n",
       "      <td>0</td>\n",
       "      <td>1243</td>\n",
       "      <td>2814</td>\n",
       "      <td>0.693616</td>\n",
       "    </tr>\n",
       "    <tr>\n",
       "      <th>LF_complement_left_row</th>\n",
       "      <td>5</td>\n",
       "      <td>0.059650</td>\n",
       "      <td>0.059650</td>\n",
       "      <td>0.016761</td>\n",
       "      <td>0</td>\n",
       "      <td>0</td>\n",
       "      <td>2</td>\n",
       "      <td>240</td>\n",
       "      <td>0.991736</td>\n",
       "    </tr>\n",
       "    <tr>\n",
       "      <th>LF_current_aligned</th>\n",
       "      <td>6</td>\n",
       "      <td>0.299236</td>\n",
       "      <td>0.299236</td>\n",
       "      <td>0.005916</td>\n",
       "      <td>0</td>\n",
       "      <td>0</td>\n",
       "      <td>175</td>\n",
       "      <td>1039</td>\n",
       "      <td>0.855848</td>\n",
       "    </tr>\n",
       "    <tr>\n",
       "      <th>LF_tstg_row</th>\n",
       "      <td>7</td>\n",
       "      <td>0.104264</td>\n",
       "      <td>0.104264</td>\n",
       "      <td>0.104264</td>\n",
       "      <td>319</td>\n",
       "      <td>104</td>\n",
       "      <td>0</td>\n",
       "      <td>0</td>\n",
       "      <td>0.754137</td>\n",
       "    </tr>\n",
       "    <tr>\n",
       "      <th>LF_not_temp_relevant</th>\n",
       "      <td>8</td>\n",
       "      <td>0.823022</td>\n",
       "      <td>0.823022</td>\n",
       "      <td>0.001479</td>\n",
       "      <td>0</td>\n",
       "      <td>0</td>\n",
       "      <td>691</td>\n",
       "      <td>2648</td>\n",
       "      <td>0.793052</td>\n",
       "    </tr>\n",
       "    <tr>\n",
       "      <th>LF_voltage_row_temp</th>\n",
       "      <td>9</td>\n",
       "      <td>0.210254</td>\n",
       "      <td>0.210254</td>\n",
       "      <td>0.023663</td>\n",
       "      <td>0</td>\n",
       "      <td>0</td>\n",
       "      <td>190</td>\n",
       "      <td>663</td>\n",
       "      <td>0.777257</td>\n",
       "    </tr>\n",
       "    <tr>\n",
       "      <th>LF_negative_number_left</th>\n",
       "      <td>10</td>\n",
       "      <td>0.115849</td>\n",
       "      <td>0.115849</td>\n",
       "      <td>0.115849</td>\n",
       "      <td>383</td>\n",
       "      <td>87</td>\n",
       "      <td>0</td>\n",
       "      <td>0</td>\n",
       "      <td>0.814894</td>\n",
       "    </tr>\n",
       "    <tr>\n",
       "      <th>LF_test_condition_aligned</th>\n",
       "      <td>11</td>\n",
       "      <td>0.010845</td>\n",
       "      <td>0.010845</td>\n",
       "      <td>0.000493</td>\n",
       "      <td>0</td>\n",
       "      <td>0</td>\n",
       "      <td>20</td>\n",
       "      <td>24</td>\n",
       "      <td>0.545455</td>\n",
       "    </tr>\n",
       "    <tr>\n",
       "      <th>LF_too_many_numbers_row</th>\n",
       "      <td>12</td>\n",
       "      <td>0.407690</td>\n",
       "      <td>0.407690</td>\n",
       "      <td>0.029086</td>\n",
       "      <td>0</td>\n",
       "      <td>0</td>\n",
       "      <td>344</td>\n",
       "      <td>1310</td>\n",
       "      <td>0.792019</td>\n",
       "    </tr>\n",
       "    <tr>\n",
       "      <th>LF_temp_on_high_page_num</th>\n",
       "      <td>13</td>\n",
       "      <td>0.368252</td>\n",
       "      <td>0.368252</td>\n",
       "      <td>0.006902</td>\n",
       "      <td>0</td>\n",
       "      <td>0</td>\n",
       "      <td>391</td>\n",
       "      <td>1103</td>\n",
       "      <td>0.738286</td>\n",
       "    </tr>\n",
       "    <tr>\n",
       "      <th>LF_to_left</th>\n",
       "      <td>14</td>\n",
       "      <td>0.085038</td>\n",
       "      <td>0.085038</td>\n",
       "      <td>0.085038</td>\n",
       "      <td>295</td>\n",
       "      <td>50</td>\n",
       "      <td>0</td>\n",
       "      <td>0</td>\n",
       "      <td>0.855072</td>\n",
       "    </tr>\n",
       "    <tr>\n",
       "      <th>LF_temperature_row</th>\n",
       "      <td>15</td>\n",
       "      <td>0.164900</td>\n",
       "      <td>0.164900</td>\n",
       "      <td>0.164900</td>\n",
       "      <td>542</td>\n",
       "      <td>127</td>\n",
       "      <td>0</td>\n",
       "      <td>0</td>\n",
       "      <td>0.810164</td>\n",
       "    </tr>\n",
       "    <tr>\n",
       "      <th>LF_storage_row</th>\n",
       "      <td>16</td>\n",
       "      <td>0.108208</td>\n",
       "      <td>0.108208</td>\n",
       "      <td>0.108208</td>\n",
       "      <td>337</td>\n",
       "      <td>102</td>\n",
       "      <td>0</td>\n",
       "      <td>0</td>\n",
       "      <td>0.767654</td>\n",
       "    </tr>\n",
       "  </tbody>\n",
       "</table>\n",
       "</div>"
      ],
      "text/plain": [
       "                            j  Coverage  Overlaps  Conflicts   TP   FP    FN  \\\n",
       "LF_typ_row                  0  0.003944  0.003944   0.000000    0    0     5   \n",
       "LF_voltage_row_part         1  0.210254  0.210254   0.023663    0    0   190   \n",
       "LF_collector_aligned        2  0.075179  0.075179   0.000000    0    0    53   \n",
       "LF_operating_row            3  0.045847  0.045847   0.045847  161   25     0   \n",
       "LF_temp_outside_table       4  1.000000  1.000000   0.173034    0    0  1243   \n",
       "LF_complement_left_row      5  0.059650  0.059650   0.016761    0    0     2   \n",
       "LF_current_aligned          6  0.299236  0.299236   0.005916    0    0   175   \n",
       "LF_tstg_row                 7  0.104264  0.104264   0.104264  319  104     0   \n",
       "LF_not_temp_relevant        8  0.823022  0.823022   0.001479    0    0   691   \n",
       "LF_voltage_row_temp         9  0.210254  0.210254   0.023663    0    0   190   \n",
       "LF_negative_number_left    10  0.115849  0.115849   0.115849  383   87     0   \n",
       "LF_test_condition_aligned  11  0.010845  0.010845   0.000493    0    0    20   \n",
       "LF_too_many_numbers_row    12  0.407690  0.407690   0.029086    0    0   344   \n",
       "LF_temp_on_high_page_num   13  0.368252  0.368252   0.006902    0    0   391   \n",
       "LF_to_left                 14  0.085038  0.085038   0.085038  295   50     0   \n",
       "LF_temperature_row         15  0.164900  0.164900   0.164900  542  127     0   \n",
       "LF_storage_row             16  0.108208  0.108208   0.108208  337  102     0   \n",
       "\n",
       "                             TN  Empirical Acc.  \n",
       "LF_typ_row                   11        0.687500  \n",
       "LF_voltage_row_part         663        0.777257  \n",
       "LF_collector_aligned        252        0.826230  \n",
       "LF_operating_row              0        0.865591  \n",
       "LF_temp_outside_table      2814        0.693616  \n",
       "LF_complement_left_row      240        0.991736  \n",
       "LF_current_aligned         1039        0.855848  \n",
       "LF_tstg_row                   0        0.754137  \n",
       "LF_not_temp_relevant       2648        0.793052  \n",
       "LF_voltage_row_temp         663        0.777257  \n",
       "LF_negative_number_left       0        0.814894  \n",
       "LF_test_condition_aligned    24        0.545455  \n",
       "LF_too_many_numbers_row    1310        0.792019  \n",
       "LF_temp_on_high_page_num   1103        0.738286  \n",
       "LF_to_left                    0        0.855072  \n",
       "LF_temperature_row            0        0.810164  \n",
       "LF_storage_row                0        0.767654  "
      ]
     },
     "execution_count": 27,
     "metadata": {},
     "output_type": "execute_result"
    }
   ],
   "source": [
    "from snorkel.annotations import load_gold_labels\n",
    "L_gold_train = load_gold_labels(session, annotator_name='gold', split=0)\n",
    "%time L_train.lf_stats(L_gold_train)"
   ]
  },
  {
   "cell_type": "markdown",
   "metadata": {},
   "source": [
    "### Fitting the Generative Model\n",
    "\n",
    "Now, we'll train a model of the LFs to estimate their accuracies. Once the model is trained, we can combine the outputs of the LFs into a single, noise-aware training label set for our extractor. Intuitively, we'll model the LFs by observing how they overlap and conflict with each other."
   ]
  },
  {
   "cell_type": "code",
   "execution_count": 28,
   "metadata": {},
   "outputs": [
    {
     "name": "stderr",
     "output_type": "stream",
     "text": [
      "/home/lwhsiao/repos/snorkel/.virtualenv/local/lib/python2.7/site-packages/matplotlib/__init__.py:1401: UserWarning:  This call to matplotlib.use() has no effect\n",
      "because the backend has already been chosen;\n",
      "matplotlib.use() must be called *before* pylab, matplotlib.pyplot,\n",
      "or matplotlib.backends is imported for the first time.\n",
      "\n",
      "  warnings.warn(_use_error_msg)\n"
     ]
    },
    {
     "name": "stdout",
     "output_type": "stream",
     "text": [
      "CPU times: user 1min 29s, sys: 8 ms, total: 1min 29s\n",
      "Wall time: 1min 29s\n"
     ]
    }
   ],
   "source": [
    "from snorkel.learning import GenerativeModel\n",
    "\n",
    "gen_model = GenerativeModel()\n",
    "%time gen_model.train(L_train, epochs=500, decay=0.9, step_size=0.001/L_train.shape[0], reg_param=0)"
   ]
  },
  {
   "cell_type": "markdown",
   "metadata": {},
   "source": [
    "We now apply the generative model to the training candidates to get the noise-aware training label set. We'll refer to these as the training marginals:"
   ]
  },
  {
   "cell_type": "code",
   "execution_count": 29,
   "metadata": {
    "collapsed": true
   },
   "outputs": [],
   "source": [
    "train_marginals = gen_model.marginals(L_train)"
   ]
  },
  {
   "cell_type": "markdown",
   "metadata": {},
   "source": [
    "We'll look at the distribution of the training marginals:"
   ]
  },
  {
   "cell_type": "code",
   "execution_count": 30,
   "metadata": {},
   "outputs": [
    {
     "data": {
      "image/png": "[encoded data removed]",
      "text/plain": [
       "<matplotlib.figure.Figure at 0x7f379bbd3c10>"
      ]
     },
     "metadata": {},
     "output_type": "display_data"
    }
   ],
   "source": [
    "import matplotlib.pyplot as plt\n",
    "plt.hist(train_marginals, bins=20)\n",
    "plt.show()"
   ]
  },
  {
   "cell_type": "markdown",
   "metadata": {},
   "source": [
    "We can view the learned accuracy parameters as well."
   ]
  },
  {
   "cell_type": "code",
   "execution_count": 31,
   "metadata": {},
   "outputs": [
    {
     "data": {
      "text/plain": [
       "array([ 0.72152401,  0.71060721,  0.71277866,  0.73330943,  0.71547429,\n",
       "        0.72216186,  0.7160858 ,  0.74801583,  0.75052681,  0.74055295,\n",
       "        0.73731633,  0.72248982,  0.7274973 ,  0.72007188,  0.72482654,\n",
       "        0.7343499 ,  0.74491805])"
      ]
     },
     "execution_count": 31,
     "metadata": {},
     "output_type": "execute_result"
    }
   ],
   "source": [
    "gen_model.weights.lf_accuracy()"
   ]
  },
  {
   "cell_type": "markdown",
   "metadata": {
    "scrolled": true
   },
   "source": [
    "### Using the Model to Iterate on Labeling Functions\n",
    "\n",
    "Now that we have learned the generative model, we can stop here and use this to potentially debug and/or improve our labeling function set. First, we apply the LFs to our development set:"
   ]
  },
  {
   "cell_type": "code",
   "execution_count": 32,
   "metadata": {},
   "outputs": [
    {
     "name": "stdout",
     "output_type": "stream",
     "text": [
      "Clearing existing...\n",
      "Running UDF...\n",
      "[========================================] 100%\n",
      "Copying part_attr_label_updates to postgres\n",
      "COPY 1227\n",
      "\n"
     ]
    }
   ],
   "source": [
    "L_dev = labeler.apply_existing(split=1)"
   ]
  },
  {
   "cell_type": "markdown",
   "metadata": {},
   "source": [
    "Then, we get the score of the generative model:"
   ]
  },
  {
   "cell_type": "code",
   "execution_count": 33,
   "metadata": {},
   "outputs": [
    {
     "name": "stdout",
     "output_type": "stream",
     "text": [
      "========================================\n",
      "Scores (Un-adjusted)\n",
      "========================================\n",
      "Pos. class accuracy: 0.119\n",
      "Neg. class accuracy: 0.969\n",
      "Precision            0.614\n",
      "Recall               0.119\n",
      "F1                   0.2\n",
      "----------------------------------------\n",
      "TP: 43 | FP: 27 | TN: 840 | FN: 317\n",
      "========================================\n",
      "\n"
     ]
    }
   ],
   "source": [
    "from snorkel.annotations import load_gold_labels\n",
    "L_gold_dev = load_gold_labels(session, annotator_name='gold', split=1)\n",
    "tp, fp, tn, fn = gen_model.score(session, L_dev, L_gold_dev)"
   ]
  },
  {
   "cell_type": "markdown",
   "metadata": {},
   "source": [
    "We can also view statistics about the labeling function's learned accuracy and compare them to the emperical accuracy."
   ]
  },
  {
   "cell_type": "code",
   "execution_count": 34,
   "metadata": {},
   "outputs": [
    {
     "name": "stderr",
     "output_type": "stream",
     "text": [
      "/home/lwhsiao/repos/snorkel/snorkel/contrib/fonduer/async_annotations.py:91: RuntimeWarning: invalid value encountered in divide\n",
      "  ac = (tp+tn).astype(float) / (tp+tn+fp+fn)\n"
     ]
    },
    {
     "data": {
      "text/html": [
       "<div>\n",
       "<table border=\"1\" class=\"dataframe\">\n",
       "  <thead>\n",
       "    <tr style=\"text-align: right;\">\n",
       "      <th></th>\n",
       "      <th>j</th>\n",
       "      <th>Coverage</th>\n",
       "      <th>Overlaps</th>\n",
       "      <th>Conflicts</th>\n",
       "      <th>TP</th>\n",
       "      <th>FP</th>\n",
       "      <th>FN</th>\n",
       "      <th>TN</th>\n",
       "      <th>Empirical Acc.</th>\n",
       "      <th>Learned Acc.</th>\n",
       "    </tr>\n",
       "  </thead>\n",
       "  <tbody>\n",
       "    <tr>\n",
       "      <th>LF_typ_row</th>\n",
       "      <td>0</td>\n",
       "      <td>0.000000</td>\n",
       "      <td>0.000000</td>\n",
       "      <td>0.000000</td>\n",
       "      <td>0</td>\n",
       "      <td>0</td>\n",
       "      <td>0</td>\n",
       "      <td>0</td>\n",
       "      <td>NaN</td>\n",
       "      <td>0.721524</td>\n",
       "    </tr>\n",
       "    <tr>\n",
       "      <th>LF_voltage_row_part</th>\n",
       "      <td>1</td>\n",
       "      <td>0.271394</td>\n",
       "      <td>0.271394</td>\n",
       "      <td>0.000000</td>\n",
       "      <td>0</td>\n",
       "      <td>0</td>\n",
       "      <td>122</td>\n",
       "      <td>211</td>\n",
       "      <td>0.633634</td>\n",
       "      <td>0.710607</td>\n",
       "    </tr>\n",
       "    <tr>\n",
       "      <th>LF_collector_aligned</th>\n",
       "      <td>2</td>\n",
       "      <td>0.140994</td>\n",
       "      <td>0.140994</td>\n",
       "      <td>0.000000</td>\n",
       "      <td>0</td>\n",
       "      <td>0</td>\n",
       "      <td>71</td>\n",
       "      <td>102</td>\n",
       "      <td>0.589595</td>\n",
       "      <td>0.712779</td>\n",
       "    </tr>\n",
       "    <tr>\n",
       "      <th>LF_operating_row</th>\n",
       "      <td>3</td>\n",
       "      <td>0.022820</td>\n",
       "      <td>0.022820</td>\n",
       "      <td>0.022820</td>\n",
       "      <td>12</td>\n",
       "      <td>16</td>\n",
       "      <td>0</td>\n",
       "      <td>0</td>\n",
       "      <td>0.428571</td>\n",
       "      <td>0.733309</td>\n",
       "    </tr>\n",
       "    <tr>\n",
       "      <th>LF_temp_outside_table</th>\n",
       "      <td>4</td>\n",
       "      <td>1.000000</td>\n",
       "      <td>1.000000</td>\n",
       "      <td>0.140994</td>\n",
       "      <td>0</td>\n",
       "      <td>0</td>\n",
       "      <td>360</td>\n",
       "      <td>867</td>\n",
       "      <td>0.706601</td>\n",
       "      <td>0.715474</td>\n",
       "    </tr>\n",
       "    <tr>\n",
       "      <th>LF_complement_left_row</th>\n",
       "      <td>5</td>\n",
       "      <td>0.020375</td>\n",
       "      <td>0.020375</td>\n",
       "      <td>0.005705</td>\n",
       "      <td>0</td>\n",
       "      <td>0</td>\n",
       "      <td>0</td>\n",
       "      <td>25</td>\n",
       "      <td>1.000000</td>\n",
       "      <td>0.722162</td>\n",
       "    </tr>\n",
       "    <tr>\n",
       "      <th>LF_current_aligned</th>\n",
       "      <td>6</td>\n",
       "      <td>0.295844</td>\n",
       "      <td>0.295844</td>\n",
       "      <td>0.000000</td>\n",
       "      <td>0</td>\n",
       "      <td>0</td>\n",
       "      <td>96</td>\n",
       "      <td>267</td>\n",
       "      <td>0.735537</td>\n",
       "      <td>0.716086</td>\n",
       "    </tr>\n",
       "    <tr>\n",
       "      <th>LF_tstg_row</th>\n",
       "      <td>7</td>\n",
       "      <td>0.051345</td>\n",
       "      <td>0.051345</td>\n",
       "      <td>0.051345</td>\n",
       "      <td>34</td>\n",
       "      <td>29</td>\n",
       "      <td>0</td>\n",
       "      <td>0</td>\n",
       "      <td>0.539683</td>\n",
       "      <td>0.748016</td>\n",
       "    </tr>\n",
       "    <tr>\n",
       "      <th>LF_not_temp_relevant</th>\n",
       "      <td>8</td>\n",
       "      <td>0.904646</td>\n",
       "      <td>0.904645</td>\n",
       "      <td>0.045640</td>\n",
       "      <td>0</td>\n",
       "      <td>0</td>\n",
       "      <td>282</td>\n",
       "      <td>828</td>\n",
       "      <td>0.745946</td>\n",
       "      <td>0.750527</td>\n",
       "    </tr>\n",
       "    <tr>\n",
       "      <th>LF_voltage_row_temp</th>\n",
       "      <td>9</td>\n",
       "      <td>0.271394</td>\n",
       "      <td>0.271394</td>\n",
       "      <td>0.000000</td>\n",
       "      <td>0</td>\n",
       "      <td>0</td>\n",
       "      <td>122</td>\n",
       "      <td>211</td>\n",
       "      <td>0.633634</td>\n",
       "      <td>0.740553</td>\n",
       "    </tr>\n",
       "    <tr>\n",
       "      <th>LF_negative_number_left</th>\n",
       "      <td>10</td>\n",
       "      <td>0.032600</td>\n",
       "      <td>0.032600</td>\n",
       "      <td>0.032600</td>\n",
       "      <td>14</td>\n",
       "      <td>26</td>\n",
       "      <td>0</td>\n",
       "      <td>0</td>\n",
       "      <td>0.350000</td>\n",
       "      <td>0.737316</td>\n",
       "    </tr>\n",
       "    <tr>\n",
       "      <th>LF_test_condition_aligned</th>\n",
       "      <td>11</td>\n",
       "      <td>0.000000</td>\n",
       "      <td>0.000000</td>\n",
       "      <td>0.000000</td>\n",
       "      <td>0</td>\n",
       "      <td>0</td>\n",
       "      <td>0</td>\n",
       "      <td>0</td>\n",
       "      <td>NaN</td>\n",
       "      <td>0.722490</td>\n",
       "    </tr>\n",
       "    <tr>\n",
       "      <th>LF_too_many_numbers_row</th>\n",
       "      <td>12</td>\n",
       "      <td>0.253464</td>\n",
       "      <td>0.253464</td>\n",
       "      <td>0.003260</td>\n",
       "      <td>0</td>\n",
       "      <td>0</td>\n",
       "      <td>61</td>\n",
       "      <td>250</td>\n",
       "      <td>0.803859</td>\n",
       "      <td>0.727497</td>\n",
       "    </tr>\n",
       "    <tr>\n",
       "      <th>LF_temp_on_high_page_num</th>\n",
       "      <td>13</td>\n",
       "      <td>0.806846</td>\n",
       "      <td>0.806846</td>\n",
       "      <td>0.113284</td>\n",
       "      <td>0</td>\n",
       "      <td>0</td>\n",
       "      <td>322</td>\n",
       "      <td>668</td>\n",
       "      <td>0.674747</td>\n",
       "      <td>0.720072</td>\n",
       "    </tr>\n",
       "    <tr>\n",
       "      <th>LF_to_left</th>\n",
       "      <td>14</td>\n",
       "      <td>0.071720</td>\n",
       "      <td>0.071720</td>\n",
       "      <td>0.071720</td>\n",
       "      <td>20</td>\n",
       "      <td>68</td>\n",
       "      <td>0</td>\n",
       "      <td>0</td>\n",
       "      <td>0.227273</td>\n",
       "      <td>0.724827</td>\n",
       "    </tr>\n",
       "    <tr>\n",
       "      <th>LF_temperature_row</th>\n",
       "      <td>15</td>\n",
       "      <td>0.092095</td>\n",
       "      <td>0.092095</td>\n",
       "      <td>0.092095</td>\n",
       "      <td>78</td>\n",
       "      <td>35</td>\n",
       "      <td>0</td>\n",
       "      <td>0</td>\n",
       "      <td>0.690265</td>\n",
       "      <td>0.734350</td>\n",
       "    </tr>\n",
       "    <tr>\n",
       "      <th>LF_storage_row</th>\n",
       "      <td>16</td>\n",
       "      <td>0.051345</td>\n",
       "      <td>0.051345</td>\n",
       "      <td>0.051345</td>\n",
       "      <td>34</td>\n",
       "      <td>29</td>\n",
       "      <td>0</td>\n",
       "      <td>0</td>\n",
       "      <td>0.539683</td>\n",
       "      <td>0.744918</td>\n",
       "    </tr>\n",
       "  </tbody>\n",
       "</table>\n",
       "</div>"
      ],
      "text/plain": [
       "                            j  Coverage  Overlaps  Conflicts  TP  FP   FN  \\\n",
       "LF_typ_row                  0  0.000000  0.000000   0.000000   0   0    0   \n",
       "LF_voltage_row_part         1  0.271394  0.271394   0.000000   0   0  122   \n",
       "LF_collector_aligned        2  0.140994  0.140994   0.000000   0   0   71   \n",
       "LF_operating_row            3  0.022820  0.022820   0.022820  12  16    0   \n",
       "LF_temp_outside_table       4  1.000000  1.000000   0.140994   0   0  360   \n",
       "LF_complement_left_row      5  0.020375  0.020375   0.005705   0   0    0   \n",
       "LF_current_aligned          6  0.295844  0.295844   0.000000   0   0   96   \n",
       "LF_tstg_row                 7  0.051345  0.051345   0.051345  34  29    0   \n",
       "LF_not_temp_relevant        8  0.904646  0.904645   0.045640   0   0  282   \n",
       "LF_voltage_row_temp         9  0.271394  0.271394   0.000000   0   0  122   \n",
       "LF_negative_number_left    10  0.032600  0.032600   0.032600  14  26    0   \n",
       "LF_test_condition_aligned  11  0.000000  0.000000   0.000000   0   0    0   \n",
       "LF_too_many_numbers_row    12  0.253464  0.253464   0.003260   0   0   61   \n",
       "LF_temp_on_high_page_num   13  0.806846  0.806846   0.113284   0   0  322   \n",
       "LF_to_left                 14  0.071720  0.071720   0.071720  20  68    0   \n",
       "LF_temperature_row         15  0.092095  0.092095   0.092095  78  35    0   \n",
       "LF_storage_row             16  0.051345  0.051345   0.051345  34  29    0   \n",
       "\n",
       "                            TN  Empirical Acc.  Learned Acc.  \n",
       "LF_typ_row                   0             NaN      0.721524  \n",
       "LF_voltage_row_part        211        0.633634      0.710607  \n",
       "LF_collector_aligned       102        0.589595      0.712779  \n",
       "LF_operating_row             0        0.428571      0.733309  \n",
       "LF_temp_outside_table      867        0.706601      0.715474  \n",
       "LF_complement_left_row      25        1.000000      0.722162  \n",
       "LF_current_aligned         267        0.735537      0.716086  \n",
       "LF_tstg_row                  0        0.539683      0.748016  \n",
       "LF_not_temp_relevant       828        0.745946      0.750527  \n",
       "LF_voltage_row_temp        211        0.633634      0.740553  \n",
       "LF_negative_number_left      0        0.350000      0.737316  \n",
       "LF_test_condition_aligned    0             NaN      0.722490  \n",
       "LF_too_many_numbers_row    250        0.803859      0.727497  \n",
       "LF_temp_on_high_page_num   668        0.674747      0.720072  \n",
       "LF_to_left                   0        0.227273      0.724827  \n",
       "LF_temperature_row           0        0.690265      0.734350  \n",
       "LF_storage_row               0        0.539683      0.744918  "
      ]
     },
     "execution_count": 34,
     "metadata": {},
     "output_type": "execute_result"
    }
   ],
   "source": [
    "L_dev.lf_stats(L_gold_dev, gen_model.weights.lf_accuracy())"
   ]
  },
  {
   "cell_type": "markdown",
   "metadata": {},
   "source": [
    "### Interpreting Generative Model Performance\n",
    "\n",
    "At this point, we should be getting an F1 score of around 0.6 to 0.7 on the development set, which is pretty good! However, we should be very careful in interpreting this. Since we developed our labeling functions using this development set as a guide, and our generative model is composed of these labeling functions, we expect it to score very well here!\n",
    "\n",
    "In fact, it is probably somewhat overfit to this set. However this is fine, since in the next tutorial, we'll train a more powerful end extraction model which will generalize beyond the development set, and which we will evaluate on a blind test set (i.e. one we never looked at during development).\n",
    "\n",
    "\n",
    "### Training the Discriminative Model\n",
    "Now, we'll use the noisy training labels we generated in the last part to train our end extraction model. For this tutorial, we will be training a simple - but fairly effective - logistic regression model. More generally, however, Snorkel plugs in with many ML libraries including [TensorFlow](https://www.tensorflow.org/), making it easy to use almost any state-of-the-art model as the end extractor!\n",
    "\n",
    "We use the training marginals to train a discriminative model that classifies each Candidate as a true or false mention. "
   ]
  },
  {
   "cell_type": "code",
   "execution_count": 35,
   "metadata": {},
   "outputs": [
    {
     "name": "stdout",
     "output_type": "stream",
     "text": [
      "[SparseLR] lr=0.001 l1=0.0 l2=0.0\n",
      "[SparseLR] Building model\n",
      "[SparseLR] Training model\n",
      "[SparseLR] #examples=4057  #epochs=200  batch size=100\n",
      "[SparseLR] Epoch 0 (0.87s)\tAvg. loss=0.363627\tNNZ=14573\n",
      "[SparseLR] Epoch 5 (4.82s)\tAvg. loss=0.082067\tNNZ=14573\n",
      "[SparseLR] Epoch 10 (8.83s)\tAvg. loss=0.067237\tNNZ=14573\n",
      "[SparseLR] Epoch 15 (12.87s)\tAvg. loss=0.062916\tNNZ=14573\n",
      "[SparseLR] Epoch 20 (16.88s)\tAvg. loss=0.061088\tNNZ=14573\n",
      "[SparseLR] Epoch 25 (21.01s)\tAvg. loss=0.060138\tNNZ=14573\n",
      "[SparseLR] Epoch 30 (24.99s)\tAvg. loss=0.059573\tNNZ=14573\n",
      "[SparseLR] Epoch 35 (29.31s)\tAvg. loss=0.059204\tNNZ=14573\n",
      "[SparseLR] Epoch 40 (33.42s)\tAvg. loss=0.058946\tNNZ=14573\n",
      "[SparseLR] Epoch 45 (37.51s)\tAvg. loss=0.058755\tNNZ=14573\n",
      "[SparseLR] Epoch 50 (41.57s)\tAvg. loss=0.058609\tNNZ=14573\n",
      "[SparseLR] Epoch 55 (45.55s)\tAvg. loss=0.058494\tNNZ=14573\n",
      "[SparseLR] Epoch 60 (49.78s)\tAvg. loss=0.058401\tNNZ=14573\n",
      "[SparseLR] Epoch 65 (53.85s)\tAvg. loss=0.058325\tNNZ=14573\n",
      "[SparseLR] Epoch 70 (57.89s)\tAvg. loss=0.058261\tNNZ=14573\n",
      "[SparseLR] Epoch 75 (61.97s)\tAvg. loss=0.058208\tNNZ=14573\n",
      "[SparseLR] Epoch 80 (66.04s)\tAvg. loss=0.058163\tNNZ=14573\n",
      "[SparseLR] Epoch 85 (70.06s)\tAvg. loss=0.058134\tNNZ=14573\n",
      "[SparseLR] Epoch 90 (73.95s)\tAvg. loss=0.058117\tNNZ=14573\n",
      "[SparseLR] Epoch 95 (77.95s)\tAvg. loss=0.058114\tNNZ=14573\n",
      "[SparseLR] Epoch 100 (81.95s)\tAvg. loss=0.058063\tNNZ=14573\n",
      "[SparseLR] Epoch 105 (86.01s)\tAvg. loss=0.058056\tNNZ=14573\n",
      "[SparseLR] Epoch 110 (90.12s)\tAvg. loss=0.058087\tNNZ=14573\n",
      "[SparseLR] Epoch 115 (94.23s)\tAvg. loss=0.058090\tNNZ=14573\n",
      "[SparseLR] Epoch 120 (98.39s)\tAvg. loss=0.058072\tNNZ=14573\n",
      "[SparseLR] Epoch 125 (102.51s)\tAvg. loss=0.058007\tNNZ=14573\n",
      "[SparseLR] Epoch 130 (106.60s)\tAvg. loss=0.058022\tNNZ=14573\n",
      "[SparseLR] Epoch 135 (110.72s)\tAvg. loss=0.058022\tNNZ=14573\n",
      "[SparseLR] Epoch 140 (114.81s)\tAvg. loss=0.058034\tNNZ=14573\n",
      "[SparseLR] Epoch 145 (118.83s)\tAvg. loss=0.058029\tNNZ=14573\n",
      "[SparseLR] Epoch 150 (122.93s)\tAvg. loss=0.058038\tNNZ=14573\n",
      "[SparseLR] Epoch 155 (127.10s)\tAvg. loss=0.057989\tNNZ=14573\n",
      "[SparseLR] Epoch 160 (131.16s)\tAvg. loss=0.058036\tNNZ=14573\n",
      "[SparseLR] Epoch 165 (135.62s)\tAvg. loss=0.058008\tNNZ=14573\n",
      "[SparseLR] Epoch 170 (139.71s)\tAvg. loss=0.058022\tNNZ=14573\n",
      "[SparseLR] Epoch 175 (143.83s)\tAvg. loss=0.058050\tNNZ=14573\n",
      "[SparseLR] Epoch 180 (147.95s)\tAvg. loss=0.058002\tNNZ=14573\n",
      "[SparseLR] Epoch 185 (152.02s)\tAvg. loss=0.058006\tNNZ=14573\n",
      "[SparseLR] Epoch 190 (156.11s)\tAvg. loss=0.057973\tNNZ=14573\n",
      "[SparseLR] Epoch 195 (160.24s)\tAvg. loss=0.058000\tNNZ=14573\n",
      "[SparseLR] Epoch 199 (163.37s)\tAvg. loss=0.058013\tNNZ=14573\n",
      "[SparseLR] Training done (163.37s)\n",
      "CPU times: user 3min 4s, sys: 2.01 s, total: 3min 6s\n",
      "Wall time: 2min 43s\n"
     ]
    }
   ],
   "source": [
    "from snorkel.learning import SparseLogisticRegression\n",
    "\n",
    "disc_model = SparseLogisticRegression()\n",
    "%time disc_model.train(F_train, train_marginals, n_epochs=200, lr=0.001)"
   ]
  },
  {
   "cell_type": "markdown",
   "metadata": {},
   "source": [
    "### Evaluating on the Test Set\n",
    "In this final section, we'll get the score we've been after: the performance of the extraction model on the blind test set (split 2). First, we load the test set labels and gold candidates from earlier:"
   ]
  },
  {
   "cell_type": "code",
   "execution_count": 36,
   "metadata": {
    "collapsed": true
   },
   "outputs": [],
   "source": [
    "from snorkel.annotations import load_gold_labels\n",
    "L_gold_test = load_gold_labels(session, annotator_name='gold', split=2)"
   ]
  },
  {
   "cell_type": "markdown",
   "metadata": {
    "scrolled": true
   },
   "source": [
    "Now, we score using the discriminitive model:"
   ]
  },
  {
   "cell_type": "code",
   "execution_count": 37,
   "metadata": {
    "scrolled": false
   },
   "outputs": [
    {
     "name": "stdout",
     "output_type": "stream",
     "text": [
      "========================================\n",
      "Scores (Un-adjusted)\n",
      "========================================\n",
      "Pos. class accuracy: 0.0705\n",
      "Neg. class accuracy: 0.989\n",
      "Precision            0.892\n",
      "Recall               0.0705\n",
      "F1                   0.131\n",
      "----------------------------------------\n",
      "TP: 33 | FP: 4 | TN: 359 | FN: 435\n",
      "========================================\n",
      "\n"
     ]
    }
   ],
   "source": [
    "tp, fp, tn, fn = disc_model.score(session, F_test, L_gold_test)"
   ]
  },
  {
   "cell_type": "code",
   "execution_count": 38,
   "metadata": {},
   "outputs": [
    {
     "name": "stdout",
     "output_type": "stream",
     "text": [
      "Preparing candidates...\n",
      "[========================================] 100%\n",
      "========================================\n",
      "Scoring on Entity-Level Gold Data\n",
      "========================================\n",
      "Corpus Precision 0.886\n",
      "Corpus Recall    0.596\n",
      "Corpus F1        0.713\n",
      "----------------------------------------\n",
      "TP: 31 | FP: 4 | FN: 21\n",
      "========================================\n",
      "\n",
      "CPU times: user 384 ms, sys: 12 ms, total: 396 ms\n",
      "Wall time: 430 ms\n"
     ]
    }
   ],
   "source": [
    "from hardware_utils import entity_level_f1\n",
    "import os\n",
    "\n",
    "import cPickle as pickle\n",
    "pickle_file = os.environ['SNORKELHOME'] + '/tutorials/fonduer/hardware/data/parts_by_doc_dict.pkl'\n",
    "with open(pickle_file, 'r') as f:\n",
    "    parts_by_doc = pickle.load(f)\n",
    "\n",
    "%time (TP, FP, FN) = entity_level_f1(tp.union(fp), gold_file, ATTRIBUTE, test_docs, parts_by_doc=parts_by_doc)"
   ]
  },
  {
   "cell_type": "markdown",
   "metadata": {},
   "source": [
    "# Error Analysis & Iterative KBC\n",
    "\n",
    "During the development process, we can iteratively improve the quality of our labeling functions through error analysis, without executing the full pipeline as in previous techniques. \n",
    "\n",
    "You may have noticed that our final F1 score was far from impressive. To remedy this and improve our quality, we can perform error analysis to understand what kinds of patterns we may have missed, or what issues exist with our labeling functions. Then, we can edit our set of labeling functions and rerun Phase 3, Probabilistic Relation Classification, again. \n",
    "\n",
    "## Error Analysis\n",
    "Understanding common errors. Which document has most problems, etc \n",
    "\n",
    "## Iteratively Improving Labeling Functions\n",
    "Armed with the information learned from error analysis, we can improve labeling functions and return from [Creating Labeling Functions](http://localhost:8888/notebooks/tutorials/fonduer/hardware/max_storage_temp_tutorial.ipynb#Creating-Labeling-Functions). Recall that we had left some commented out code in the labeling function section. \n",
    "\n",
    "These labeling functions capture the fact that X, Y, and Z. Scroll up to that code, uncomment it to start your first iteration of improving KBC quality!"
   ]
  },
  {
   "cell_type": "code",
   "execution_count": 39,
   "metadata": {},
   "outputs": [
    {
     "data": {
      "text/plain": [
       "[('PNJIS01453-1', 'BC850', '150'),\n",
       " ('PNJIS01453-1', 'BC850B', '150'),\n",
       " ('PNJIS01453-1', 'BC850C', '150'),\n",
       " ('PNJIS01593-1', 'BC858', '150'),\n",
       " ('PNJIS01593-1', 'BC858A', '150'),\n",
       " ('PNJIS01593-1', 'BC858B', '150'),\n",
       " ('PNJIS01593-1', 'BC858C', '150'),\n",
       " ('PNJIS01593-1', 'BC859', '150'),\n",
       " ('PNJIS01593-1', 'BC859B', '150'),\n",
       " ('PNJIS01593-1', 'BC859C', '150'),\n",
       " ('RECTS00705-1', 'BC547', '150'),\n",
       " ('RECTS00705-1', 'BC547A', '150'),\n",
       " ('RECTS00705-1', 'BC547B', '150'),\n",
       " ('RECTS00705-1', 'BC547C', '150'),\n",
       " ('RECTS00705-1', 'BC548', '150'),\n",
       " ('RECTS00705-1', 'BC548A', '150'),\n",
       " ('RECTS00705-1', 'BC548B', '150'),\n",
       " ('RECTS00705-1', 'BC548C', '150'),\n",
       " ('RECTS01002-1', 'MMBT3904', '150'),\n",
       " ('RECTS01158-1', 'BC807-25', '150'),\n",
       " ('RECTS01242-1', 'BC857B', '150')]"
      ]
     },
     "execution_count": 39,
     "metadata": {},
     "output_type": "execute_result"
    }
   ],
   "source": [
    "FN"
   ]
  },
  {
   "cell_type": "code",
   "execution_count": 40,
   "metadata": {},
   "outputs": [
    {
     "data": {
      "text/plain": [
       "[Document 112823,\n",
       " Document 2N3906,\n",
       " Document 2N3906-D,\n",
       " Document 2N4123-D,\n",
       " Document 2N4124,\n",
       " Document 2N6426-D,\n",
       " Document 2N6427,\n",
       " Document AUKCS04635-1,\n",
       " Document BC182,\n",
       " Document BC182-D,\n",
       " Document BC337,\n",
       " Document BC337-D,\n",
       " Document BC546,\n",
       " Document BC546A_Series_B14-521026,\n",
       " Document BC546-BC548C(TO-92),\n",
       " Document bc546-d,\n",
       " Document bc546_diotec,\n",
       " Document BC547,\n",
       " Document bc550,\n",
       " Document BC818,\n",
       " Document BC818-40LT1-D,\n",
       " Document BournsInc_BD246BS,\n",
       " Document BournsInc_TIP152S,\n",
       " Document CentralSemiconductorCorp_2N4013,\n",
       " Document CentralSemiconductorCorp_CENU45,\n",
       " Document CentralSemiconductorCorp_CMPT5401ETR,\n",
       " Document CentralSemiconductorCorp_CXT4033TR,\n",
       " Document CSEMS02742-1,\n",
       " Document CSEMS03485-1,\n",
       " Document CSEMS05382-1,\n",
       " Document CSEMS05383-1,\n",
       " Document DiodesIncorporated_2DD26527,\n",
       " Document DiodesIncorporated_FCX491ATA,\n",
       " Document DiodesIncorporated_FZT651TC,\n",
       " Document DiodesIncorporated_ZTX688BSTZ,\n",
       " Document DiodesIncorporated_ZTX789ASTZ,\n",
       " Document DiodesIncorporated_ZTX953STZ,\n",
       " Document DiodesIncorporated_ZXT690BKTC,\n",
       " Document DIODS00215-1,\n",
       " Document DIODS13249-1,\n",
       " Document DISES00023-1,\n",
       " Document DISES00189-1,\n",
       " Document DISES00192-1,\n",
       " Document DISES00242-1,\n",
       " Document DISES00490-1,\n",
       " Document DISES00616-1,\n",
       " Document DISES00645-1,\n",
       " Document dtc114w,\n",
       " Document FairchildSemiconductor_KSC2310YTA,\n",
       " Document FAIRS19194-1,\n",
       " Document FAIRS25065-1,\n",
       " Document Infineon-BC817KSERIES_BC818KSERIES-DS-v01_01-en,\n",
       " Document Infineon-BC857SERIES_BC858SERIES_BC859SERIES_BC860SERIES-DS-v01_01-en,\n",
       " Document INFNS19372-1,\n",
       " Document JCSTS01155-1,\n",
       " Document KECCS03676-1,\n",
       " Document KECCS05435-1,\n",
       " Document LITES00424-1,\n",
       " Document LITES00686-1,\n",
       " Document LITES00689-1,\n",
       " Document LITES00690-1,\n",
       " Document LTSCS02910-1,\n",
       " Document LTSCS02912-1,\n",
       " Document LTSCS02920-1,\n",
       " Document MCCCS08610-1,\n",
       " Document MCCCS08818-1,\n",
       " Document MCCCS08984-1,\n",
       " Document MCCCS09540-1,\n",
       " Document MCCCS09741-1,\n",
       " Document MicroCommercialCo_2N3904AP,\n",
       " Document MicroCommercialCo_TIP29ABP,\n",
       " Document MicrosemiCorporation_2N2484UB,\n",
       " Document MINDS00015-1,\n",
       " Document MMBT3904,\n",
       " Document MMMCS17742-1,\n",
       " Document MOTOS03160-1,\n",
       " Document MOTOS03189-1,\n",
       " Document MOTOS04676-1,\n",
       " Document MOTOS04796-1,\n",
       " Document NXPUSAInc_PBSS5360PASX]"
      ]
     },
     "execution_count": 40,
     "metadata": {},
     "output_type": "execute_result"
    }
   ],
   "source": [
    "sorted(train_docs)"
   ]
  },
  {
   "cell_type": "code",
   "execution_count": null,
   "metadata": {
    "collapsed": true
   },
   "outputs": [],
   "source": []
  }
 ],
 "metadata": {
  "anaconda-cloud": {},
  "kernelspec": {
   "display_name": "Python 2",
   "language": "python",
   "name": "python2"
  },
  "language_info": {
   "codemirror_mode": {
    "name": "ipython",
    "version": 2
   },
   "file_extension": ".py",
   "mimetype": "text/x-python",
   "name": "python",
   "nbconvert_exporter": "python",
   "pygments_lexer": "ipython2",
   "version": "2.7.12"
  }
 },
 "nbformat": 4,
 "nbformat_minor": 1
}
