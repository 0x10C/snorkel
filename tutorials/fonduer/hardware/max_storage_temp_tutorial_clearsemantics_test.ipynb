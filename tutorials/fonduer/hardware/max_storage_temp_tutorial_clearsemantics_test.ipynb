{
 "cells": [
  {
   "cell_type": "markdown",
   "metadata": {},
   "source": [
    "# Tutorial: Extracting Maximum Storage Temperatures for Transistors from PDF Datasheets"
   ]
  },
  {
   "cell_type": "markdown",
   "metadata": {},
   "source": [
    "## Introduction\n",
    "\n",
    "In this tutorial, we will walk through the process of using `Fonduer` to identify mentions of transistory polarity (i.e. `NPN` or `PNP`) in a corpus of transistor datasheets from Digikey.com. The tutorial is broken into several parts, each covering a stage in the pipeline:\n",
    "\n",
    "1. Initialiation\n",
    "2. Candidate Extraction\n",
    "3. Annotating Evaluation Data\n",
    "4. Featurization and Training\n",
    "5. Evaluation\n",
    "\n",
    "## Part 1: Initialization\n",
    "\n",
    "We first preprocess our input documents using `Fonduer` utilities, which transform each richly formatted document into the `Fonduer` unified data model, which captures the variability and multimodality of richly formatted data. We also extract standard linguistic features from each context which will be used later in featurization using [CoreNLP](http://stanfordnlp.github.io/CoreNLP/).\n",
    "\n",
    "This preprocessed data is saved to a database. Connection strings can be specified by setting the `SNORKELDB` environment variable. If no database is specified, then SQLite at `./snorkel.db` is created by default.\n",
    "\n",
    "We initialize several variables for convenience that define what the database should be called, what level of parallelization the `Fonduer` pipeline can run with, and the number of documents in our test and training sets. In the code below, we use PostgreSQL as our database backend."
   ]
  },
  {
   "cell_type": "code",
   "execution_count": 1,
   "metadata": {
    "collapsed": false,
    "scrolled": false
   },
   "outputs": [
    {
     "name": "stderr",
     "output_type": "stream",
     "text": [
      "/Users/sen/anaconda2/lib/python2.7/site-packages/matplotlib/__init__.py:1085: UserWarning: Duplicate key in file \"/Users/sen/.matplotlib/matplotlibrc\", line #467\n",
      "  (fname, cnt))\n"
     ]
    }
   ],
   "source": [
    "%load_ext autoreload\n",
    "%autoreload 2\n",
    "%matplotlib inline\n",
    "\n",
    "import os\n",
    "import sys\n",
    "\n",
    "PARALLEL = 4 # assuming a quad-core machine\n",
    "ATTRIBUTE = \"stg_temp_max\"\n",
    "\n",
    "os.environ['SNORKELDBNAME'] = ATTRIBUTE\n",
    "os.environ['SNORKELDB'] = 'postgres://localhost:5432/' + os.environ['SNORKELDBNAME']\n",
    "        \n",
    "sys.path.append(os.environ['SNORKELHOME'] + '/tutorials/fonduer/hardware/')"
   ]
  },
  {
   "cell_type": "markdown",
   "metadata": {},
   "source": [
    "### Initializing a `SnorkelSession`\n",
    "\n",
    "We first initialize a `SnorkelSession`, which manages the connection to the database automatically, and enables us to save intermediate results. This code also reinitializes each of the databases to ensure that we are starting fresh."
   ]
  },
  {
   "cell_type": "code",
   "execution_count": 2,
   "metadata": {
    "collapsed": false,
    "scrolled": false
   },
   "outputs": [
    {
     "name": "stdout",
     "output_type": "stream",
     "text": [
      "0\n",
      "0\n",
      "SNORKELDB = postgres://localhost:5432/stg_temp_max\n",
      "SNORKELDBNAME = stg_temp_max\n"
     ]
    }
   ],
   "source": [
    "print os.system(\"dropdb \" + os.environ['SNORKELDBNAME'])\n",
    "print os.system(\"createdb \" + os.environ['SNORKELDBNAME'])\n",
    "print \"SNORKELDB = %s\" % os.environ['SNORKELDB']\n",
    "print \"SNORKELDBNAME = %s\" % os.environ['SNORKELDBNAME']\n",
    "\n",
    "from snorkel import SnorkelSession\n",
    "session = SnorkelSession()"
   ]
  },
  {
   "cell_type": "markdown",
   "metadata": {
    "scrolled": false
   },
   "source": [
    "### Parsing and Loading the Corpus\n",
    "\n",
    "Next, we preprocess and load the corpus of datasheets. Each datasheet has a PDF and HTML representation. Both representations are used in conjunction to create a robust unified data model with textual, structural, tabular, and visual modality information. Note that since each document is independent of each other, we can parse the documents in parallel. **Note that parallel execution will not work with SQLite, the default database engine**. We depend on PostgreSQL for this functionality.\n",
    "\n",
    "#### Configuring an `HTMLPreprocessor`\n",
    "We start by setting the paths to where our documents are stored, and defining a `HTMLPreprocessor` to read in the documents found in the specified paths. `max_docs` specified the number of documents to parse. For the sake of this tutorial, we only look at 50 documents.\n",
    "\n",
    "*Note that you need to have run `download_data.sh` before executing these next steps or you won't have the documents needed for the tutorial.*"
   ]
  },
  {
   "cell_type": "code",
   "execution_count": 3,
   "metadata": {
    "collapsed": true
   },
   "outputs": [],
   "source": [
    "from snorkel.parser import HTMLPreprocessor, OmniParser\n",
    "\n",
    "docs_path = os.environ['SNORKELHOME'] + '/tutorials/fonduer/hardware/data/html/'\n",
    "pdf_path = os.environ['SNORKELHOME'] + '/tutorials/fonduer/hardware/data/pdf/'\n",
    "\n",
    "doc_preprocessor = HTMLPreprocessor(docs_path, max_docs=20)"
   ]
  },
  {
   "cell_type": "markdown",
   "metadata": {},
   "source": [
    "#### Configuring an `OmniParser`\n",
    "Next, we configure an `OmniParser`, which serves as our `CorpusParser` for PDF documents. We use NLP preprocessing tools to split our documents into phrases, tokens, and provide annotations such as part-of-speech tags and dependency parse structures for these phrases. In addition, we can specify which modality information to include in the unified data model for each document. Below, we enable all modality information."
   ]
  },
  {
   "cell_type": "code",
   "execution_count": 4,
   "metadata": {
    "collapsed": false,
    "scrolled": false
   },
   "outputs": [
    {
     "name": "stdout",
     "output_type": "stream",
     "text": [
      "Clearing existing...\n",
      "Running UDF...\n",
      "CPU times: user 2.21 s, sys: 131 ms, total: 2.34 s\n",
      "Wall time: 51.5 s\n"
     ]
    }
   ],
   "source": [
    "corpus_parser = OmniParser(structural=True, lingual=True, visual=True, pdf_path=pdf_path)\n",
    "%time corpus_parser.apply(doc_preprocessor, parallelism=PARALLEL)"
   ]
  },
  {
   "cell_type": "markdown",
   "metadata": {},
   "source": [
    "We can then use simple database queries (written in the syntax of [SQLAlchemy](http://www.sqlalchemy.org/), which `Fonduer` uses) to check how many documents and sentences were parsed, or even check how many phrases and tables are contained in each document."
   ]
  },
  {
   "cell_type": "code",
   "execution_count": 5,
   "metadata": {
    "collapsed": false,
    "scrolled": false
   },
   "outputs": [
    {
     "name": "stdout",
     "output_type": "stream",
     "text": [
      "Documents: 20\n",
      "Phrases: 9913\n"
     ]
    }
   ],
   "source": [
    "from snorkel.models import Document, Phrase\n",
    "\n",
    "print \"Documents:\", session.query(Document).count()\n",
    "print \"Phrases:\", session.query(Phrase).count()"
   ]
  },
  {
   "cell_type": "markdown",
   "metadata": {},
   "source": [
    "## Part 2: Candidate Extraction\n",
    "\n",
    "The next step is to extract **candidates** from our corpus. A `candidate` is the objects for which we want to make predictions. In this case, the candidates are pairs of transistor part numbers and their corresponding polarities as found in their datasheets. Our task is to predict which pairs are true in the associated document.\n",
    "\n",
    "### Defining a `Candidate` schema\n",
    "We first define the **schema** of the relation we want to extract. This must be a subclass of `Candidate`, and we define it using a helper function. Here, we define a binary relation which connects two `Span` objects of text. This function also created the database table if it does not already exist."
   ]
  },
  {
   "cell_type": "code",
   "execution_count": 6,
   "metadata": {
    "collapsed": false
   },
   "outputs": [],
   "source": [
    "from snorkel.models import candidate_subclass\n",
    "\n",
    "Part_Attr = candidate_subclass('Part_Attr', ['part','attr'])"
   ]
  },
  {
   "cell_type": "markdown",
   "metadata": {},
   "source": [
    "### Writing a `CandidateExtractor`\n",
    "\n",
    "Next, we write **matchers** to define which spans of text in the corpus are instances of each entity. In our case, we need to write a matcher that defines a transistor part number and a matcher to define a valid polarity value.\n",
    "\n",
    "Matchers can leverage a variety of information from regular expressions, to dictionaries, to user-defined functions. Furthermore, different techniques can be combined to form higher quality matchers. In general, matchers should seek to be as precise as possible while maintaining complete recall.\n",
    "\n",
    "#### Writing an advanced transistor part matcher\n",
    "\n",
    "Here, we show how transistor part numbers can leverage [naming conventions](https://en.wikipedia.org/wiki/Transistor#Part_numbering_standards.2Fspecifications) as regular expressions, and use a dictionary of known part numbers, and use user-defined functions together. First, we create a regular expression matcher for standard transistor naming conventions."
   ]
  },
  {
   "cell_type": "code",
   "execution_count": 7,
   "metadata": {
    "collapsed": true
   },
   "outputs": [],
   "source": [
    "from snorkel.matchers import *\n",
    "\n",
    "### Transistor Naming Conventions as Regular Expressions ###\n",
    "eeca_rgx = '([ABC][A-Z][WXYZ]?[0-9]{3,5}(?:[A-Z]){0,5}[0-9]?[A-Z]?(?:-[A-Z0-9]{1,7})?(?:[-][A-Z0-9]{1,2})?(?:\\/DG)?)'\n",
    "jedec_rgx = '(2N\\d{3,4}[A-Z]{0,5}[0-9]?[A-Z]?)'\n",
    "jis_rgx = '(2S[ABCDEFGHJKMQRSTVZ]{1}[\\d]{2,4})'\n",
    "others_rgx = '((?:NSVBC|SMBT|MJ|MJE|MPS|MRF|RCA|TIP|ZTX|ZT|ZXT|TIS|TIPL|DTC|MMBT|SMMBT|PZT|FZT|STD|BUV|PBSS|KSC|CXT|FCX|CMPT){1}[\\d]{2,4}[A-Z]{0,5}(?:-[A-Z0-9]{0,6})?(?:[-][A-Z0-9]{0,1})?)'\n",
    "\n",
    "part_rgx = '|'.join([eeca_rgx, jedec_rgx, jis_rgx, others_rgx])\n",
    "part_rgx_matcher = RegexMatchSpan(rgx=part_rgx, longest_match_only=True)\n"
   ]
  },
  {
   "cell_type": "markdown",
   "metadata": {},
   "source": [
    "Next, we can create a matcher from a dictionary of known part numbers:"
   ]
  },
  {
   "cell_type": "code",
   "execution_count": 8,
   "metadata": {
    "collapsed": true
   },
   "outputs": [],
   "source": [
    "import csv\n",
    "\n",
    "def get_digikey_parts_set(path):\n",
    "    \"\"\"\n",
    "    Reads in the digikey part dictionary and yeilds each part.\n",
    "    \"\"\"\n",
    "    all_parts = set()\n",
    "    with open(path, \"r\") as csvinput:\n",
    "        reader = csv.reader(csvinput)\n",
    "        for line in reader:\n",
    "            (part, url) = line\n",
    "            all_parts.add(part)\n",
    "    return all_parts\n",
    "            \n",
    "### Dictionary of known transistor parts ###\n",
    "dict_path = os.environ['SNORKELHOME'] + '/tutorials/fonduer/hardware/data/digikey_part_dictionary.csv'\n",
    "part_dict_matcher = DictionaryMatch(d=get_digikey_parts_set(dict_path))"
   ]
  },
  {
   "cell_type": "markdown",
   "metadata": {},
   "source": [
    "We can also use user-defined functions to further improve our matchers. For example, here we use patterns in the document filenames as a signal for whether a span of text in a document is a valid transistor part number."
   ]
  },
  {
   "cell_type": "code",
   "execution_count": 9,
   "metadata": {
    "collapsed": true
   },
   "outputs": [],
   "source": [
    "def common_prefix_length_diff(str1, str2):\n",
    "    for i in range(min(len(str1), len(str2))):\n",
    "        if str1[i] != str2[i]:\n",
    "            return min(len(str1), len(str2)) - i\n",
    "    return 0\n",
    "\n",
    "def part_file_name_conditions(attr):\n",
    "    file_name = attr.sentence.document.name\n",
    "    if len(file_name.split('_')) != 2: return False\n",
    "    if attr.get_span()[0] == '-': return False\n",
    "    name = attr.get_span().replace('-', '')\n",
    "    return any(char.isdigit() for char in name) and any(char.isalpha() for char in name) and common_prefix_length_diff(file_name.split('_')[1], name) <= 2\n",
    "\n",
    "add_rgx = '^[A-Z0-9\\-]{5,15}$'\n",
    "\n",
    "part_file_name_lambda_matcher = LambdaFunctionMatch(func=part_file_name_conditions)\n",
    "part_file_name_matcher = Intersect(RegexMatchSpan(rgx=add_rgx, longest_match_only=True), part_file_name_lambda_matcher)"
   ]
  },
  {
   "cell_type": "markdown",
   "metadata": {},
   "source": [
    "Then, we can union all of these matchers together to form our final part matcher."
   ]
  },
  {
   "cell_type": "code",
   "execution_count": 10,
   "metadata": {
    "collapsed": true
   },
   "outputs": [],
   "source": [
    "part_matcher = Union(part_rgx_matcher, part_dict_matcher, part_file_name_matcher)"
   ]
  },
  {
   "cell_type": "markdown",
   "metadata": {},
   "source": [
    "#### Writing a simple polarity  matcher\n",
    "\n",
    "In contrast, our polarity matcher can be a very simple regular expression since polarity values are either \"NPN\" or \"PNP\"."
   ]
  },
  {
   "cell_type": "code",
   "execution_count": 11,
   "metadata": {
    "collapsed": true
   },
   "outputs": [],
   "source": [
    "attr_matcher = RegexMatchSpan(rgx=r'(?:[1][5-9]|20)[05]', longest_match_only=False)"
   ]
  },
  {
   "cell_type": "markdown",
   "metadata": {},
   "source": [
    "These two matchers define each entity in our relation schema."
   ]
  },
  {
   "cell_type": "markdown",
   "metadata": {},
   "source": [
    "### Define a relation's `ContextSpaces`\n",
    "\n",
    "Next, in order to define the \"space\" of all candidates that are even considered from the document, we need to define a `ContextSpace` for each component of the relation we wish to extract.\n",
    "\n",
    "In the case of transistor part numbers, the `ContextSpace` can be quite complex due to the need to handle implicit part numbers that are implied in text like \"BC546A/B/C...BC548A/B/C\", which refers to 9 unique part numbers. In addition, to handle these, we consider all n-grams up to 3 words long.\n",
    "\n",
    "In contrast, the `ContextSpace` for polarity values is simple: we only need to look at every word in a document individually."
   ]
  },
  {
   "cell_type": "code",
   "execution_count": 12,
   "metadata": {
    "collapsed": true
   },
   "outputs": [],
   "source": [
    "from hardware_spaces import OmniNgramsPart, OmniNgramsTemp\n",
    "    \n",
    "part_ngrams = OmniNgramsPart(parts_by_doc=None, n_max=3)\n",
    "attr_ngrams = OmniNgramsTemp(n_max=2)"
   ]
  },
  {
   "cell_type": "markdown",
   "metadata": {},
   "source": [
    "### Defining candidate `Throttlers`\n",
    "\n",
    "Next, we need to define **throttlers**, which allow us to further prune excess candidates and avoid unnecessarily materializing invalid candidates. Trottlers, like matchers, act as hard filters, and should be created to have high precsion while maintaining complete recall, if possible.\n",
    "\n",
    "Here, we create a throttler that discards candidates if they are in the same table, but the part and polarity are not vertically or horizontally aligned."
   ]
  },
  {
   "cell_type": "code",
   "execution_count": 13,
   "metadata": {
    "collapsed": true
   },
   "outputs": [],
   "source": [
    "from snorkel.contrib.fonduer.lf_helpers import *\n",
    "import re\n",
    "\n",
    "def stg_temp_throttler((part, attr)):\n",
    "    return True\n",
    "\n",
    "throttler = stg_temp_throttler"
   ]
  },
  {
   "cell_type": "markdown",
   "metadata": {},
   "source": [
    "### Dividing the Corpus into Test and Train\n",
    "\n",
    "We'll split the documents 40/5/5 into train/dev/test splits. Note that here we do this in a non-random order to preverse the consistency in the tutorial, and we reference the splits by 0/1/2 respectively."
   ]
  },
  {
   "cell_type": "code",
   "execution_count": 14,
   "metadata": {
    "collapsed": true
   },
   "outputs": [],
   "source": [
    "from snorkel.models import Document\n",
    "\n",
    "docs = session.query(Document).order_by(Document.name).all()\n",
    "ld   = len(docs)\n",
    "\n",
    "train_docs = set()\n",
    "dev_docs   = set()\n",
    "test_docs  = set()\n",
    "splits = (0.8, 0.9)\n",
    "for i,doc in enumerate(docs):\n",
    "    if i < splits[0] * ld:\n",
    "        train_docs.add(doc)\n",
    "    elif i < splits[1] * ld:\n",
    "        dev_docs.add(doc)\n",
    "    else:\n",
    "        test_docs.add(doc)"
   ]
  },
  {
   "cell_type": "markdown",
   "metadata": {},
   "source": [
    "### Running the `CandidateExtractor`\n",
    "\n",
    "Now, we have all the component necessary to perform candidate extraction. We have defined the \"space\" of things to consider for each candidate, provided matchers that signal when a valid mention is seen, and a throttler to prunes away excess candidates. We now can define the `CandidateExtractor` with the contexts to extract from, the matchers, and the throttler to use. "
   ]
  },
  {
   "cell_type": "code",
   "execution_count": 15,
   "metadata": {
    "collapsed": false,
    "scrolled": false
   },
   "outputs": [
    {
     "name": "stdout",
     "output_type": "stream",
     "text": [
      "Clearing existing...\n",
      "Running UDF...\n",
      "[========================================] 100%\n",
      "CPU times: user 6.82 s, sys: 249 ms, total: 7.06 s\n",
      "Wall time: 7.95 s\n"
     ]
    }
   ],
   "source": [
    "from snorkel.candidates import CandidateExtractor\n",
    "\n",
    "\n",
    "candidate_extractor = CandidateExtractor(Part_Attr, \n",
    "                        [part_ngrams, attr_ngrams], \n",
    "                        [part_matcher, attr_matcher], \n",
    "                        throttler=throttler)\n",
    "\n",
    "%time candidate_extractor.apply(train_docs, split=0)"
   ]
  },
  {
   "cell_type": "markdown",
   "metadata": {},
   "source": [
    "Here we specified that these `Candidates` belong to the training set by specifying `split=0`; recall that we're referring to train/dev/test as splits 0/1/2."
   ]
  },
  {
   "cell_type": "code",
   "execution_count": 16,
   "metadata": {
    "collapsed": false
   },
   "outputs": [
    {
     "name": "stdout",
     "output_type": "stream",
     "text": [
      "Number of candidates: 823\n"
     ]
    }
   ],
   "source": [
    "train_cands = session.query(Part_Attr).filter(Part_Attr.split == 0).all()\n",
    "print \"Number of candidates:\", len(train_cands)"
   ]
  },
  {
   "cell_type": "markdown",
   "metadata": {},
   "source": [
    "### Repeating for development and test splits\n",
    "Finally, we rerun the same operation for the other two document divisions: dev and test. For each, we simply load the `Corpus` object and run them through the `CandidateExtractor`."
   ]
  },
  {
   "cell_type": "code",
   "execution_count": 17,
   "metadata": {
    "collapsed": false
   },
   "outputs": [
    {
     "name": "stdout",
     "output_type": "stream",
     "text": [
      "Clearing existing...\n",
      "Running UDF...\n",
      "[========================================] 100%\n",
      "Number of candidates: 225\n",
      "Clearing existing...\n",
      "Running UDF...\n",
      "[========================================] 100%\n",
      "Number of candidates: 129\n",
      "CPU times: user 1.57 s, sys: 120 ms, total: 1.69 s\n",
      "Wall time: 1.99 s\n"
     ]
    }
   ],
   "source": [
    "%%time\n",
    "for i, docs in enumerate([dev_docs, test_docs]):\n",
    "    candidate_extractor.apply(docs, split=i+1)\n",
    "    print \"Number of candidates:\", session.query(Part_Attr).filter(Part_Attr.split == i+1).count()"
   ]
  },
  {
   "cell_type": "markdown",
   "metadata": {},
   "source": [
    "## Part 3: Loading Evaluation Labels\n",
    "\n",
    "Although one of the main purposes of Snorkel is to enable training of state-of-the-art machine learning models without the burden of hand-labeling training data, it is still critical to have a small amount of labeled data to help us develop & evaluate our application.\n",
    "\n",
    "In particular, we will generally need two small labeled sets:\n",
    "* A development set, which can be a subset of our training set, which we use to help guide us when writing labeling functions (see next part of the tutorial)\n",
    "* A test set which we evaluate our final application performance against. Note that for fair evaluation, you should get someone not involved in development of your application to label the test set, so that it is blind!\n",
    "\n",
    "Let's load in the dev and test sets that we'll be labeling:"
   ]
  },
  {
   "cell_type": "code",
   "execution_count": 18,
   "metadata": {
    "collapsed": false
   },
   "outputs": [
    {
     "name": "stdout",
     "output_type": "stream",
     "text": [
      "225\n",
      "129\n"
     ]
    }
   ],
   "source": [
    "dev_cands = session.query(Part_Attr).filter(Part_Attr.split == 1).all()\n",
    "print len(dev_cands)\n",
    "\n",
    "test_cands = session.query(Part_Attr).filter(Part_Attr.split == 2).all()\n",
    "print len(test_cands)"
   ]
  },
  {
   "cell_type": "markdown",
   "metadata": {
    "collapsed": true
   },
   "source": [
    "### Loading External Evaluation Labels\n",
    "\n",
    "We have already annotated the dev and test set for this tutorial, and we'll now load it using an externally-defined helper function.\n",
    "\n",
    "Loading and saving external \"gold\" labels can be a bit messy, but is often a critical part of development, especially when gold labels are expensive and/or time-consuming to obtain. Snorkel stores all labels that are manually annotated in a **stable** format (called StableLabels), which is somewhat independent from the rest of Snorkel's data model, does not get deleted when you delete the candidates, corpus, or any other objects, and can be recovered even if the rest of the data changes or is deleted.\n",
    "\n",
    "Our general procedure with external labels is to load them into the StableLabel table, then use Snorkel's helpers to load them into the main data model from there. If interested in example implementation details, please see the script we now load:"
   ]
  },
  {
   "cell_type": "code",
   "execution_count": 19,
   "metadata": {
    "collapsed": false
   },
   "outputs": [
    {
     "name": "stdout",
     "output_type": "stream",
     "text": [
      "Loading 1177 candidate labels\n",
      "[========================================] 100%\n",
      "AnnotatorLabels created: 1177\n"
     ]
    }
   ],
   "source": [
    "from hardware_utils import load_hardware_labels\n",
    "\n",
    "gold_file = os.environ['SNORKELHOME'] + '/tutorials/fonduer/hardware/data/hardware_tutorial_gold.csv'\n",
    "load_hardware_labels(session, Part_Attr, gold_file, ATTRIBUTE ,annotator_name='gold')"
   ]
  },
  {
   "cell_type": "markdown",
   "metadata": {},
   "source": [
    "## Part 4: Featurization and modeling noisy training labels\n",
    "\n",
    "In this part of the tutorial, we will write **labeling functions** which express various heuristics, patterns, and [weak supervision](http://hazyresearch.github.io/snorkel/blog/weak_supervision.html) strategies to label our data.\n",
    "\n",
    "In the wild, hand-labeled training data is rare and expensive. A common scenario is to have access to tons of unlabeled training data, and have some idea of how to label them programmatically. For example:\n",
    "* We may be able to think of text patterns that would indicate a part and polarity mention are related, for example the word \"polarity\" appearing between them.\n",
    "* We may have access to an external knowledge base that lists some pairs of parts and polarities, and can use these to noisily label some of our mention pairs.\n",
    "Our labeling functions will capture these types of strategies. We know that these labeling functions will not be perfect, and some may be quite low-quality, so we will model their accuracies with a generative model, which `Fonduer` will help us easily apply.\n",
    "\n",
    "Using data programming, we can then train machine learning models to learn which features are the most important in classifying candidates.\n",
    "\n",
    "### Multimodal featurization of `Candidates`\n",
    "\n",
    "Unlike dealing with plain unstructured text, `Fonduer` deals with richly formatted data, and consequently featurizes each candidate with a baseline library of multimodal features. There are two methods that can be used to extract features: `Fonduer`'s optimized PostgreSQL batch extractor, or the default `Snorkel` extractor. We show both options:\n",
    "\n",
    "#### Extract with `Fonduer`'s optimized Postgres Batch Extractor"
   ]
  },
  {
   "cell_type": "code",
   "execution_count": 20,
   "metadata": {
    "collapsed": false,
    "scrolled": false
   },
   "outputs": [
    {
     "name": "stdout",
     "output_type": "stream",
     "text": [
      "Clearing existing...\n",
      "Running UDF...\n",
      "Copying part_attr_feature to postgres\n",
      "COPY 823\n",
      "\n",
      "CPU times: user 2.17 s, sys: 92.9 ms, total: 2.26 s\n",
      "Wall time: 40.7 s\n",
      "(823, 3723)\n",
      "Clearing existing...\n",
      "Running UDF...\n",
      "Copying part_attr_feature_updates to postgres\n",
      "COPY 225\n",
      "\n",
      "CPU times: user 1.21 s, sys: 66.7 ms, total: 1.28 s\n",
      "Wall time: 17.4 s\n",
      "(225, 3723)\n",
      "Clearing existing...\n",
      "Running UDF...\n",
      "Copying part_attr_feature_updates to postgres\n",
      "COPY 129\n",
      "\n",
      "CPU times: user 219 ms, sys: 48.9 ms, total: 268 ms\n",
      "Wall time: 6.65 s\n",
      "(129, 3723)\n"
     ]
    }
   ],
   "source": [
    "from snorkel.contrib.fonduer.async_annotations import BatchFeatureAnnotator\n",
    "\n",
    "featurizer = BatchFeatureAnnotator(Part_Attr)\n",
    "%time F_train = featurizer.apply(split=0, replace_key_set=True, parallelism=PARALLEL)\n",
    "print F_train.shape\n",
    "%time F_dev = featurizer.apply(split=1, replace_key_set=False, parallelism=PARALLEL)\n",
    "print F_dev.shape\n",
    "%time F_test = featurizer.apply(split=2, replace_key_set=False, parallelism=PARALLEL)\n",
    "print F_test.shape"
   ]
  },
  {
   "cell_type": "markdown",
   "metadata": {},
   "source": [
    "#### Extract with default `Snorkel` extractor"
   ]
  },
  {
   "cell_type": "code",
   "execution_count": 21,
   "metadata": {
    "collapsed": true
   },
   "outputs": [],
   "source": [
    "# from snorkel.annotations import FeatureAnnotator\n",
    "# from snorkel.contrib.fonduer.features.features import get_all_feats\n",
    "\n",
    "# featurizer = FeatureAnnotator(f=get_all_feats)\n",
    "# %time F_train = featurizer.apply(split=0, parallelism=PARALLEL)\n",
    "# %time F_dev = featurizer.apply(split=1, parallelism=PARALLEL)\n",
    "# %time F_test = featurizer.apply(split=2, parallelism=PARALLEL)\n",
    "# F_train"
   ]
  },
  {
   "cell_type": "markdown",
   "metadata": {},
   "source": [
    "#### Using a development set\n",
    "In our setting here, we will use the phrase \"development set\" to refer to a set of examples (here, a subset of our training set) which we label by hand and use to help us develop and refine labeling functions. Unlike the test set, which we do not look at and use for final evaluation, we can inspect the development set while writing labeling functions.\n",
    "\n",
    "In our case, we already loaded labels for a development set (split 1), so we can load them again now:"
   ]
  },
  {
   "cell_type": "code",
   "execution_count": 22,
   "metadata": {
    "collapsed": false
   },
   "outputs": [
    {
     "data": {
      "text/plain": [
       "<225x1 sparse matrix of type '<type 'numpy.float64'>'\n",
       "\twith 225 stored elements in Compressed Sparse Row format>"
      ]
     },
     "execution_count": 22,
     "metadata": {},
     "output_type": "execute_result"
    }
   ],
   "source": [
    "from snorkel.annotations import load_gold_labels\n",
    "L_gold_dev = load_gold_labels(session, annotator_name='gold', split=1)\n",
    "L_gold_dev"
   ]
  },
  {
   "cell_type": "markdown",
   "metadata": {},
   "source": [
    "### Creating Labeling Functions\n",
    "\n",
    "In Snorkel, our primary interface through which we provide training signal to the end extraction model we are training is by writing labeling functions (**LFs**) (as opposed to hand-labeling massive training sets). We'll go through some examples for our spouse extraction task below.\n",
    "\n",
    "A labeling function isn't anything special. It's just a Python function that accepts a `Candidate` as the input argument and returns `1` if it says the Candidate should be marked as true, `-1` if it says the `Candidate` should be marked as false, and `0` if it doesn't know how to vote and abstains. In practice, many labeling functions are unipolar: it labels only 1s and 0s, or it labels only -1s and 0s.\n",
    "\n",
    "Recall that our goal is to ultimately train a high-performance classification model that predicts which of our Candidates are true mentions of spouse relations. It turns out that we can do this by writing potentially low-quality labeling functions!"
   ]
  },
  {
   "cell_type": "code",
   "execution_count": 23,
   "metadata": {
    "collapsed": false
   },
   "outputs": [],
   "source": [
    "from snorkel.contrib.fonduer.lf_helpers import *\n",
    "import re\n",
    "\n",
    "def LF_storage_row(c):\n",
    "    return 1 if 'storage' in get_row_ngrams(c.attr) else 0\n",
    "\n",
    "def LF_operating_row(c):\n",
    "    return 1 if 'operating' in get_row_ngrams(c.attr) else 0\n",
    "\n",
    "def LF_temperature_row(c):\n",
    "    return 1 if 'temperature' in get_row_ngrams(c.attr) else 0\n",
    "\n",
    "def LF_tstg_row(c):\n",
    "    return 1 if overlap(\n",
    "        ['tstg','stg','ts'], \n",
    "        list(get_row_ngrams(c.attr))) else 0\n",
    "\n",
    "def LF_not_temp_relevant(c):\n",
    "    return -1 if not overlap(\n",
    "        ['storage','temperature','tstg','stg', 'ts'],\n",
    "        list(get_aligned_ngrams(c.attr))) else 0\n",
    "\n",
    "def LF_temp_outside_table(c):\n",
    "    return -1 if not c.attr.is_tabular() is None else 0\n",
    "\n",
    "def LF_too_many_numbers_row(c):\n",
    "    num_numbers = list(get_row_ngrams(c.attr, attrib=\"ner_tags\")).count('number')\n",
    "    return -1 if num_numbers >= 3 else 0\n",
    "\n",
    "def LF_collector_aligned(c):\n",
    "    return -1 if overlap(\n",
    "        ['collector', 'collector-current', 'collector-base', 'collector-emitter'],\n",
    "        list(get_aligned_ngrams(c.attr))) else 0\n",
    "\n",
    "def LF_current_aligned(c):\n",
    "    ngrams = get_aligned_ngrams(c.attr)\n",
    "    return -1 if overlap(\n",
    "        ['current', 'dc', 'ic'],\n",
    "        list(get_aligned_ngrams(c.attr))) else 0\n",
    "\n",
    "def LF_voltage_row_temp(c):\n",
    "    ngrams = get_aligned_ngrams(c.attr)\n",
    "    return -1 if overlap(\n",
    "        ['voltage', 'cbo', 'ceo', 'ebo', 'v'],\n",
    "        list(get_aligned_ngrams(c.attr))) else 0\n",
    "\n",
    "def LF_voltage_row_part(c):\n",
    "    ngrams = get_aligned_ngrams(c.part)\n",
    "    return -1 if overlap(\n",
    "        ['voltage', 'cbo', 'ceo', 'ebo', 'v'],\n",
    "        list(get_aligned_ngrams(c.attr))) else 0\n",
    "\n",
    "def LF_typ_row(c):\n",
    "    return -1 if overlap(\n",
    "        ['typ', 'typ.'],\n",
    "        list(get_row_ngrams(c.attr))) else 0\n",
    "\n",
    "def LF_test_condition_aligned(c):\n",
    "    return -1 if overlap(\n",
    "        ['test', 'condition'],\n",
    "        list(get_aligned_ngrams(c.attr))) else 0\n",
    "\n",
    "def LF_complement_left_row(c):\n",
    "    return -1 if (\n",
    "        overlap(['complement','complementary'], \n",
    "        chain.from_iterable([get_row_ngrams(c.part), get_left_ngrams(c.part, window=10)]))) else 0\n",
    "\n",
    "def LF_temp_on_high_page_num(c):\n",
    "    return -1 if c.attr.get_attrib_tokens('page')[0] > 2 else 0\n",
    "\n",
    "def LF_to_left(c):\n",
    "    return 1 if 'to' in get_left_ngrams(c.attr, window=2) else 0\n",
    "\n",
    "def LF_negative_number_left(c):\n",
    "    return 1 if any([re.match(r'-\\s*\\d+', ngram) for ngram in get_left_ngrams(c.attr, window=4)]) else 0\n",
    "\n",
    "\n",
    "\n",
    "stg_temp_lfs = [\n",
    "    LF_storage_row,\n",
    "    LF_operating_row,\n",
    "    LF_temperature_row,\n",
    "    LF_tstg_row,\n",
    "    LF_not_temp_relevant,\n",
    "    LF_temp_outside_table,\n",
    "    LF_too_many_numbers_row,\n",
    "    LF_collector_aligned,\n",
    "    LF_current_aligned,\n",
    "    LF_voltage_row_temp,\n",
    "    LF_voltage_row_part,\n",
    "    LF_typ_row,\n",
    "    LF_test_condition_aligned,\n",
    "    LF_complement_left_row,\n",
    "    LF_temp_on_high_page_num,\n",
    "    LF_to_left,\n",
    "    LF_negative_number_left\n",
    "]"
   ]
  },
  {
   "cell_type": "markdown",
   "metadata": {},
   "source": [
    "### Applying the Labeling Functions\n",
    "\n",
    "Next, we need to actually run the LFs over all of our training candidates, producing a set of `Labels` and `LabelKeys` (just the names of the LFs) in the database. We'll do this using the `LabelAnnotator` class, a `UDF` which we will again run with `UDFRunner`. Note that this will delete any existing `Labels` and `LabelKeys` for this candidate set. Also note that we are using `Fonduer`'s optimized batch label annotator, which runs in parallel and depends on having Postgres as the backend database. "
   ]
  },
  {
   "cell_type": "code",
   "execution_count": 24,
   "metadata": {
    "collapsed": false,
    "scrolled": false
   },
   "outputs": [
    {
     "name": "stdout",
     "output_type": "stream",
     "text": [
      "Clearing existing...\n",
      "Running UDF...\n",
      "Copying part_attr_label to postgres\n",
      "COPY 823\n",
      "\n",
      "CPU times: user 82.7 ms, sys: 38 ms, total: 121 ms\n",
      "Wall time: 7.75 s\n",
      "(823, 15)\n",
      "Running UDF...\n",
      "Copying part_attr_label_updates to postgres\n",
      "COPY 823\n",
      "\n",
      "CPU times: user 124 ms, sys: 36.5 ms, total: 161 ms\n",
      "Wall time: 7.73 s\n",
      "(823, 15)\n",
      "Running UDF...\n",
      "Copying part_attr_label_updates to postgres\n",
      "COPY 823\n",
      "\n",
      "CPU times: user 125 ms, sys: 38.5 ms, total: 164 ms\n",
      "Wall time: 4.19 s\n",
      "(823, 16)\n"
     ]
    }
   ],
   "source": [
    "from snorkel.contrib.fonduer.async_annotations import BatchLabelAnnotator\n",
    "\n",
    "labeler = BatchLabelAnnotator(Part_Attr, lfs = stg_temp_lfs)\n",
    "%time L_train = labeler.apply(split=0, update_keys=True, update_values=True, parallelism=4)\n",
    "print L_train.shape\n",
    "L_train1 = L_train\n",
    "\n",
    "# Update existing labels, assume the lfs are updated\n",
    "stg_temp_lfs2 = stg_temp_lfs\n",
    "labeler = BatchLabelAnnotator(Part_Attr, lfs = stg_temp_lfs2)\n",
    "%time L_train = labeler.apply(split=0, clear=False, update_keys=True, update_values=True, parallelism=4)\n",
    "print L_train.shape\n",
    "L_train2 = L_train\n",
    "\n",
    "# Update existing labels, assume the lfs are updated\n",
    "def LF_test(c):\n",
    "    return 1 if 'to' in get_left_ngrams(c.attr, window=2) else 0\n",
    "stg_temp_lfs3 = [LF_test]\n",
    "labeler = BatchLabelAnnotator(Part_Attr, lfs = stg_temp_lfs3)\n",
    "%time L_train = labeler.apply(split=0, clear=False, update_keys=True, update_values=True, parallelism=4)\n",
    "print L_train.shape\n",
    "L_train3 = L_train"
   ]
  },
  {
   "cell_type": "code",
   "execution_count": 25,
   "metadata": {
    "collapsed": false
   },
   "outputs": [
    {
     "name": "stdout",
     "output_type": "stream",
     "text": [
      "Part_Attr(Span(\"MMBT6427\", sentence=685, chars=[25,32], words=[1,1]), ImplicitSpan(\"150\", sentence=8444, words=[2,2], position=[0]))\n",
      "Part_Attr(Span(\"MPSA14\", sentence=694, chars=[4,9], words=[1,1]), ImplicitSpan(\"150\", sentence=8444, words=[2,2], position=[0]))\n",
      "Part_Attr(Span(\"MMBT6427\", sentence=683, chars=[9,16], words=[2,2]), ImplicitSpan(\"150\", sentence=8444, words=[2,2], position=[0]))\n",
      "Part_Attr(Span(\"2N6427\", sentence=683, chars=[0,5], words=[0,0]), ImplicitSpan(\"150\", sentence=8444, words=[2,2], position=[0]))\n",
      "Part_Attr(Span(\"MMBT6427\", sentence=8465, chars=[1,8], words=[1,1]), ImplicitSpan(\"150\", sentence=8444, words=[2,2], position=[0]))\n",
      "Part_Attr(Span(\"MMBT6427\", sentence=684, chars=[11,18], words=[2,2]), ImplicitSpan(\"150\", sentence=8444, words=[2,2], position=[0]))\n",
      "Part_Attr(Span(\"BC546A\", sentence=2149, chars=[0,5], words=[0,0]), ImplicitSpan(\"150\", sentence=10702, words=[3,3], position=[0]))\n",
      "Part_Attr(ImplicitSpan(\"BC547\", sentence=10726, words=[2,4], position=[1]), ImplicitSpan(\"150\", sentence=10702, words=[3,3], position=[0]))\n",
      "Part_Attr(ImplicitSpan(\"BC547\", sentence=10726, words=[3,5], position=[0]), ImplicitSpan(\"150\", sentence=10702, words=[3,3], position=[0]))\n",
      "Part_Attr(ImplicitSpan(\"BC549C\", sentence=2172, words=[0,2], position=[0]), ImplicitSpan(\"150\", sentence=10702, words=[3,3], position=[0]))\n",
      "Part_Attr(Span(\"BC33716BU\", sentence=13811, chars=[0,8], words=[0,0]), ImplicitSpan(\"150\", sentence=13963, words=[2,2], position=[0]))\n",
      "Part_Attr(Span(\"BC33716TFR\", sentence=13827, chars=[0,9], words=[0,0]), ImplicitSpan(\"150\", sentence=13963, words=[2,2], position=[0]))\n",
      "Part_Attr(Span(\"BC328\", sentence=5501, chars=[22,26], words=[4,4]), ImplicitSpan(\"150\", sentence=13963, words=[2,2], position=[0]))\n",
      "Part_Attr(Span(\"BC338\", sentence=5477, chars=[6,10], words=[1,1]), ImplicitSpan(\"150\", sentence=13963, words=[2,2], position=[0]))\n",
      "Part_Attr(Span(\"BC327\", sentence=5501, chars=[14,18], words=[2,2]), ImplicitSpan(\"150\", sentence=13963, words=[2,2], position=[0]))\n",
      "Part_Attr(Span(\"BC337\", sentence=5477, chars=[0,4], words=[0,0]), ImplicitSpan(\"150\", sentence=13963, words=[2,2], position=[0]))\n",
      "Part_Attr(Span(\"BC338\", sentence=5480, chars=[8,12], words=[2,2]), ImplicitSpan(\"150\", sentence=13963, words=[2,2], position=[0]))\n",
      "Part_Attr(ImplicitSpan(\"2N4123\", sentence=3050, words=[0,2], position=[0]), ImplicitSpan(\"150\", sentence=12645, words=[2,2], position=[0]))\n",
      "Part_Attr(ImplicitSpan(\"2N4123\", sentence=3040, words=[0,0], position=[0]), ImplicitSpan(\"150\", sentence=12645, words=[2,2], position=[0]))\n",
      "Part_Attr(Span(\"BC182\", sentence=1278, chars=[0,4], words=[0,0]), ImplicitSpan(\"150\", sentence=8574, words=[2,2], position=[0]))\n",
      "Part_Attr(ImplicitSpan(\"BC182\", sentence=1280, words=[0,2], position=[0]), ImplicitSpan(\"150\", sentence=8574, words=[2,2], position=[0]))\n",
      "Part_Attr(ImplicitSpan(\"2N4124\", sentence=4139, words=[0,2], position=[0]), ImplicitSpan(\"150\", sentence=13225, words=[2,2], position=[0]))\n",
      "Part_Attr(Span(\"MMBT4124\", sentence=4145, chars=[25,32], words=[1,1]), ImplicitSpan(\"150\", sentence=13225, words=[2,2], position=[0]))\n",
      "Part_Attr(Span(\"BC547A\", sentence=15660, chars=[85,90], words=[11,11]), ImplicitSpan(\"150\", sentence=15573, words=[2,2], position=[0]))\n",
      "Part_Attr(ImplicitSpan(\"BC547A\", sentence=15666, words=[10,12], position=[1]), ImplicitSpan(\"150\", sentence=15573, words=[2,2], position=[0]))\n",
      "Part_Attr(ImplicitSpan(\"BC546B\", sentence=15665, words=[1,3], position=[1]), ImplicitSpan(\"150\", sentence=15573, words=[2,2], position=[0]))\n",
      "Part_Attr(ImplicitSpan(\"BC546B\", sentence=15665, words=[0,2], position=[0]), ImplicitSpan(\"150\", sentence=15573, words=[2,2], position=[0]))\n",
      "Part_Attr(ImplicitSpan(\"BC547A\", sentence=15666, words=[9,11], position=[0]), ImplicitSpan(\"150\", sentence=15573, words=[2,2], position=[0]))\n",
      "Part_Attr(ImplicitSpan(\"BC546B\", sentence=7152, words=[0,2], position=[1]), ImplicitSpan(\"150\", sentence=15573, words=[2,2], position=[0]))\n",
      "Part_Attr(ImplicitSpan(\"BC546B\", sentence=15661, words=[0,0], position=[1]), ImplicitSpan(\"150\", sentence=15573, words=[2,2], position=[0]))\n",
      "Part_Attr(ImplicitSpan(\"BC548B\", sentence=7152, words=[7,9], position=[1]), ImplicitSpan(\"150\", sentence=15573, words=[2,2], position=[0]))\n",
      "Part_Attr(ImplicitSpan(\"BC548B\", sentence=7152, words=[8,10], position=[0]), ImplicitSpan(\"150\", sentence=15573, words=[2,2], position=[0]))\n",
      "Part_Attr(ImplicitSpan(\"BC547A\", sentence=7152, words=[2,4], position=[1]), ImplicitSpan(\"150\", sentence=15573, words=[2,2], position=[0]))\n",
      "Part_Attr(Span(\"BC546\", sentence=7151, chars=[0,4], words=[0,0]), ImplicitSpan(\"150\", sentence=15573, words=[2,2], position=[0]))\n",
      "Part_Attr(ImplicitSpan(\"BC547A\", sentence=7152, words=[1,3], position=[0]), ImplicitSpan(\"150\", sentence=15573, words=[2,2], position=[0]))\n",
      "Part_Attr(ImplicitSpan(\"BC549\", sentence=6234, words=[5,7], position=[0]), ImplicitSpan(\"150\", sentence=14641, words=[2,2], position=[0]))\n",
      "Part_Attr(ImplicitSpan(\"BC547\", sentence=6234, words=[1,3], position=[1]), ImplicitSpan(\"150\", sentence=14641, words=[2,2], position=[0]))\n",
      "Part_Attr(ImplicitSpan(\"BC549\", sentence=6234, words=[6,8], position=[1]), ImplicitSpan(\"150\", sentence=14641, words=[2,2], position=[0]))\n",
      "Part_Attr(ImplicitSpan(\"BC559\", sentence=6261, words=[8,10], position=[0]), ImplicitSpan(\"150\", sentence=14641, words=[2,2], position=[0]))\n",
      "Part_Attr(ImplicitSpan(\"BC547\", sentence=6234, words=[2,4], position=[1]), ImplicitSpan(\"150\", sentence=14641, words=[2,2], position=[0]))\n",
      "Part_Attr(ImplicitSpan(\"BC559\", sentence=6261, words=[7,9], position=[1]), ImplicitSpan(\"150\", sentence=14641, words=[2,2], position=[0]))\n",
      "Part_Attr(ImplicitSpan(\"BC548\", sentence=6234, words=[3,5], position=[1]), ImplicitSpan(\"150\", sentence=14641, words=[2,2], position=[0]))\n",
      "Part_Attr(ImplicitSpan(\"BC549\", sentence=6258, words=[2,4], position=[1]), ImplicitSpan(\"150\", sentence=14641, words=[2,2], position=[0]))\n",
      "Part_Attr(ImplicitSpan(\"BC558\", sentence=6261, words=[5,7], position=[1]), ImplicitSpan(\"150\", sentence=14641, words=[2,2], position=[0]))\n",
      "Part_Attr(Span(\"BC560\", sentence=6261, chars=[46,50], words=[11,11]), ImplicitSpan(\"150\", sentence=14641, words=[2,2], position=[0]))\n",
      "Part_Attr(ImplicitSpan(\"BC548\", sentence=6234, words=[4,6], position=[1]), ImplicitSpan(\"150\", sentence=14641, words=[2,2], position=[0]))\n",
      "Part_Attr(Span(\"BC550\", sentence=6237, chars=[32,36], words=[8,8]), ImplicitSpan(\"150\", sentence=14641, words=[2,2], position=[0]))\n",
      "Part_Attr(ImplicitSpan(\"BC558\", sentence=6261, words=[6,8], position=[0]), ImplicitSpan(\"150\", sentence=14641, words=[2,2], position=[0]))\n",
      "Part_Attr(ImplicitSpan(\"BC546\", sentence=6234, words=[0,2], position=[1]), ImplicitSpan(\"150\", sentence=14641, words=[2,2], position=[0]))\n",
      "Part_Attr(ImplicitSpan(\"2N6426\", sentence=7807, words=[0,2], position=[0]), ImplicitSpan(\"150\", sentence=16017, words=[2,2], position=[0]))\n",
      "Part_Attr(Span(\"2N6426\", sentence=7804, chars=[0,5], words=[0,0]), ImplicitSpan(\"150\", sentence=16017, words=[2,2], position=[0]))\n",
      "Part_Attr(ImplicitSpan(\"BC547\", sentence=9769, words=[2,4], position=[1]), ImplicitSpan(\"150\", sentence=16732, words=[2,2], position=[0]))\n",
      "Part_Attr(ImplicitSpan(\"BC558\", sentence=9807, words=[5,7], position=[1]), ImplicitSpan(\"150\", sentence=16732, words=[2,2], position=[0]))\n",
      "Part_Attr(ImplicitSpan(\"BC559\", sentence=9807, words=[8,10], position=[0]), ImplicitSpan(\"150\", sentence=16732, words=[2,2], position=[0]))\n",
      "Part_Attr(ImplicitSpan(\"BC548\", sentence=9769, words=[3,5], position=[1]), ImplicitSpan(\"150\", sentence=16732, words=[2,2], position=[0]))\n",
      "Part_Attr(ImplicitSpan(\"BC549\", sentence=9803, words=[2,4], position=[1]), ImplicitSpan(\"150\", sentence=16732, words=[2,2], position=[0]))\n",
      "Part_Attr(ImplicitSpan(\"BC548\", sentence=9769, words=[4,6], position=[1]), ImplicitSpan(\"150\", sentence=16732, words=[2,2], position=[0]))\n",
      "Part_Attr(ImplicitSpan(\"BC559\", sentence=9807, words=[7,9], position=[1]), ImplicitSpan(\"150\", sentence=16732, words=[2,2], position=[0]))\n",
      "Part_Attr(ImplicitSpan(\"BC546\", sentence=9769, words=[0,2], position=[1]), ImplicitSpan(\"150\", sentence=16732, words=[2,2], position=[0]))\n",
      "Part_Attr(ImplicitSpan(\"BC549\", sentence=9769, words=[5,7], position=[0]), ImplicitSpan(\"150\", sentence=16732, words=[2,2], position=[0]))\n",
      "Part_Attr(Span(\"BC560\", sentence=9807, chars=[46,50], words=[11,11]), ImplicitSpan(\"150\", sentence=16732, words=[2,2], position=[0]))\n",
      "Part_Attr(Span(\"BC550\", sentence=9774, chars=[32,36], words=[8,8]), ImplicitSpan(\"150\", sentence=16732, words=[2,2], position=[0]))\n",
      "Part_Attr(ImplicitSpan(\"BC547\", sentence=9769, words=[1,3], position=[1]), ImplicitSpan(\"150\", sentence=16732, words=[2,2], position=[0]))\n",
      "Part_Attr(ImplicitSpan(\"BC558\", sentence=9807, words=[6,8], position=[0]), ImplicitSpan(\"150\", sentence=16732, words=[2,2], position=[0]))\n",
      "Part_Attr(ImplicitSpan(\"BC549\", sentence=9769, words=[6,8], position=[1]), ImplicitSpan(\"150\", sentence=16732, words=[2,2], position=[0]))\n",
      "Part_Attr(ImplicitSpan(\"BC337-25\", sentence=8911, words=[2,4], position=[0]), ImplicitSpan(\"150\", sentence=16358, words=[2,2], position=[0]))\n",
      "Part_Attr(ImplicitSpan(\"BC337\", sentence=8911, words=[0,2], position=[1]), ImplicitSpan(\"150\", sentence=16358, words=[2,2], position=[0]))\n",
      "Part_Attr(Span(\"BC337\", sentence=16415, chars=[82,86], words=[11,11]), ImplicitSpan(\"150\", sentence=16358, words=[2,2], position=[0]))\n",
      "Part_Attr(Span(\"BC337\", sentence=8908, chars=[0,4], words=[0,0]), ImplicitSpan(\"150\", sentence=16358, words=[2,2], position=[0]))\n",
      "Part_Attr(ImplicitSpan(\"BC337-25\", sentence=8911, words=[1,3], position=[0]), ImplicitSpan(\"150\", sentence=16358, words=[2,2], position=[0]))\n",
      "Part_Attr(Span(\"2N3906RL1\", sentence=7927, chars=[0,8], words=[0,0]), ImplicitSpan(\"150\", sentence=7463, words=[2,2], position=[0]))\n",
      "Part_Attr(ImplicitSpan(\"2N3906\", sentence=53, words=[0,0], position=[0]), ImplicitSpan(\"150\", sentence=7463, words=[2,2], position=[0]))\n",
      "Part_Attr(Span(\"2N3906RLRAG\", sentence=7958, chars=[0,10], words=[0,0]), ImplicitSpan(\"150\", sentence=7463, words=[2,2], position=[0]))\n",
      "Part_Attr(Span(\"2N3906RL1G\", sentence=7936, chars=[0,9], words=[0,0]), ImplicitSpan(\"150\", sentence=7463, words=[2,2], position=[0]))\n",
      "Part_Attr(Span(\"2N3906\", sentence=10, chars=[0,5], words=[0,0]), ImplicitSpan(\"150\", sentence=7463, words=[2,2], position=[0]))\n",
      "Part_Attr(Span(\"MMBT3906\", sentence=75, chars=[9,16], words=[2,2]), ImplicitSpan(\"150\", sentence=7546, words=[2,2], position=[0]))\n",
      "Part_Attr(Span(\"MMBT3906\", sentence=87, chars=[33,40], words=[1,1]), ImplicitSpan(\"150\", sentence=7546, words=[2,2], position=[0]))\n",
      "Part_Attr(Span(\"PZT3906\", sentence=87, chars=[67,73], words=[2,2]), ImplicitSpan(\"150\", sentence=7546, words=[2,2], position=[0]))\n",
      "Part_Attr(Span(\"2N3906\", sentence=72, chars=[0,5], words=[0,0]), ImplicitSpan(\"150\", sentence=7546, words=[2,2], position=[0]))\n",
      "Part_Attr(Span(\"PZT3906\", sentence=72, chars=[16,22], words=[2,2]), ImplicitSpan(\"150\", sentence=7546, words=[2,2], position=[0]))\n",
      "Part_Attr(Span(\"2N3906TAR\", sentence=7404, chars=[0,8], words=[0,0]), ImplicitSpan(\"150\", sentence=7546, words=[2,2], position=[0]))\n",
      "Part_Attr(Span(\"2N3906BU\", sentence=7375, chars=[0,7], words=[0,0]), ImplicitSpan(\"150\", sentence=7546, words=[2,2], position=[0]))\n",
      "Part_Attr(Span(\"MMBT3906\", sentence=72, chars=[7,14], words=[1,1]), ImplicitSpan(\"150\", sentence=7546, words=[2,2], position=[0]))\n",
      "Part_Attr(Span(\"PZT3906\", sentence=75, chars=[20,26], words=[4,4]), ImplicitSpan(\"150\", sentence=7546, words=[2,2], position=[0]))\n"
     ]
    }
   ],
   "source": [
    "for c in train_cands:\n",
    "    if LF_test(c) != 0:\n",
    "        print c"
   ]
  },
  {
   "cell_type": "code",
   "execution_count": 26,
   "metadata": {
    "collapsed": false
   },
   "outputs": [
    {
     "name": "stdout",
     "output_type": "stream",
     "text": [
      "Running UDF...\n",
      "Copying part_attr_label_updates to postgres\n",
      "COPY 823\n",
      "\n",
      "CPU times: user 126 ms, sys: 40.7 ms, total: 167 ms\n",
      "Wall time: 4.02 s\n",
      "(823, 16)\n"
     ]
    }
   ],
   "source": [
    "def LF_test(c):\n",
    "    return 1 if 'to' in get_left_ngrams(c.attr, window=2) else 0\n",
    "stg_temp_lfs3 = [LF_test]\n",
    "labeler = BatchLabelAnnotator(Part_Attr, lfs = stg_temp_lfs3)\n",
    "%time L_train = labeler.apply(split=0, clear=False, update_keys=True, update_values=True, parallelism=4)\n",
    "print L_train.shape\n",
    "L_train3 = L_train"
   ]
  },
  {
   "cell_type": "code",
   "execution_count": 27,
   "metadata": {
    "collapsed": false
   },
   "outputs": [
    {
     "data": {
      "text/plain": [
       "<823x15 sparse matrix of type '<type 'numpy.float32'>'\n",
       "\twith 3276 stored elements in Compressed Sparse Row format>"
      ]
     },
     "execution_count": 27,
     "metadata": {},
     "output_type": "execute_result"
    }
   ],
   "source": [
    "L_train2"
   ]
  },
  {
   "cell_type": "code",
   "execution_count": 28,
   "metadata": {
    "collapsed": false,
    "scrolled": true
   },
   "outputs": [
    {
     "name": "stdout",
     "output_type": "stream",
     "text": [
      "  (0, 2)\t1.0\n",
      "  (0, 3)\t-1.0\n",
      "  (0, 6)\t1.0\n",
      "  (0, 9)\t1.0\n",
      "  (0, 12)\t1.0\n",
      "  (0, 13)\t1.0\n",
      "  (0, 14)\t1.0\n",
      "  (0, 15)\t1.0\n",
      "  (1, 3)\t-1.0\n",
      "  (1, 7)\t-1.0\n",
      "  (2, 3)\t-1.0\n",
      "  (2, 13)\t1.0\n",
      "  (3, 2)\t1.0\n",
      "  (3, 3)\t-1.0\n",
      "  (3, 6)\t1.0\n",
      "  (3, 9)\t1.0\n",
      "  (3, 12)\t1.0\n",
      "  (3, 13)\t1.0\n",
      "  (3, 14)\t1.0\n",
      "  (3, 15)\t1.0\n",
      "  (4, 3)\t-1.0\n",
      "  (4, 7)\t-1.0\n",
      "  (5, 3)\t-1.0\n",
      "  (5, 13)\t1.0\n",
      "  (6, 2)\t1.0\n",
      "  :\t:\n",
      "  (815, 13)\t1.0\n",
      "  (815, 14)\t1.0\n",
      "  (815, 15)\t1.0\n",
      "  (816, 1)\t-1.0\n",
      "  (816, 3)\t-1.0\n",
      "  (816, 5)\t-1.0\n",
      "  (816, 7)\t-1.0\n",
      "  (817, 3)\t-1.0\n",
      "  (817, 7)\t-1.0\n",
      "  (817, 11)\t-1.0\n",
      "  (818, 3)\t-1.0\n",
      "  (818, 7)\t-1.0\n",
      "  (818, 10)\t-1.0\n",
      "  (818, 11)\t-1.0\n",
      "  (819, 3)\t-1.0\n",
      "  (819, 7)\t-1.0\n",
      "  (819, 11)\t-1.0\n",
      "  (820, 3)\t-1.0\n",
      "  (820, 7)\t-1.0\n",
      "  (821, 3)\t-1.0\n",
      "  (821, 13)\t1.0\n",
      "  (822, 3)\t-1.0\n",
      "  (822, 7)\t-1.0\n",
      "  (822, 10)\t-1.0\n",
      "  (822, 11)\t-1.0\n"
     ]
    }
   ],
   "source": [
    "print L_train3"
   ]
  },
  {
   "cell_type": "code",
   "execution_count": 29,
   "metadata": {
    "collapsed": true
   },
   "outputs": [],
   "source": [
    "# from snorkel.annotations import LabelAnnotator\n",
    "\n",
    "# labeler = LabelAnnotator(f=stg_temp_lfs)\n",
    "# %time L_train = labeler.apply(split=0, parallelism=PARALLEL)\n",
    "# L_train"
   ]
  },
  {
   "cell_type": "markdown",
   "metadata": {},
   "source": [
    "Note that the returned matrix is a special subclass of the scipy.sparse.csr_matrix class, with some special features which we demonstrate below:"
   ]
  },
  {
   "cell_type": "code",
   "execution_count": 30,
   "metadata": {
    "collapsed": false
   },
   "outputs": [
    {
     "data": {
      "text/plain": [
       "Part_Attr(Span(\"MMBT6427\", sentence=685, chars=[25,32], words=[1,1]), ImplicitSpan(\"150\", sentence=8444, words=[2,2], position=[0]))"
      ]
     },
     "execution_count": 30,
     "metadata": {},
     "output_type": "execute_result"
    }
   ],
   "source": [
    "L_train.get_candidate(session, 0)"
   ]
  },
  {
   "cell_type": "markdown",
   "metadata": {},
   "source": [
    "We can also view statistics about the resulting label matrix.\n",
    "* **Coverage** is the fraction of candidates that the labeling function emits a non-zero label for.\n",
    "* **Overlap** is the fraction candidates that the labeling function emits a non-zero label for and that another labeling function emits a non-zero label for.\n",
    "* **Conflict** is the fraction candidates that the labeling function emits a non-zero label for and that another labeling function emits a conflicting non-zero label for."
   ]
  },
  {
   "cell_type": "code",
   "execution_count": 33,
   "metadata": {
    "collapsed": false
   },
   "outputs": [
    {
     "name": "stdout",
     "output_type": "stream",
     "text": [
      "CPU times: user 25 ms, sys: 709 µs, total: 25.7 ms\n",
      "Wall time: 25.9 ms\n"
     ]
    },
    {
     "data": {
      "text/html": [
       "<div>\n",
       "<table border=\"1\" class=\"dataframe\">\n",
       "  <thead>\n",
       "    <tr style=\"text-align: right;\">\n",
       "      <th></th>\n",
       "      <th>j</th>\n",
       "      <th>Coverage</th>\n",
       "      <th>Overlaps</th>\n",
       "      <th>Conflicts</th>\n",
       "      <th>TP</th>\n",
       "      <th>FP</th>\n",
       "      <th>FN</th>\n",
       "      <th>TN</th>\n",
       "      <th>Empirical Acc.</th>\n",
       "    </tr>\n",
       "  </thead>\n",
       "  <tbody>\n",
       "    <tr>\n",
       "      <th>LF_voltage_row_part</th>\n",
       "      <td>0</td>\n",
       "      <td>0.184690</td>\n",
       "      <td>0.184690</td>\n",
       "      <td>0.000000</td>\n",
       "      <td>0</td>\n",
       "      <td>0</td>\n",
       "      <td>28</td>\n",
       "      <td>124</td>\n",
       "      <td>0.815789</td>\n",
       "    </tr>\n",
       "    <tr>\n",
       "      <th>LF_collector_aligned</th>\n",
       "      <td>1</td>\n",
       "      <td>0.030377</td>\n",
       "      <td>0.030377</td>\n",
       "      <td>0.000000</td>\n",
       "      <td>0</td>\n",
       "      <td>0</td>\n",
       "      <td>0</td>\n",
       "      <td>25</td>\n",
       "      <td>1.000000</td>\n",
       "    </tr>\n",
       "    <tr>\n",
       "      <th>LF_operating_row</th>\n",
       "      <td>2</td>\n",
       "      <td>0.058323</td>\n",
       "      <td>0.058323</td>\n",
       "      <td>0.058323</td>\n",
       "      <td>46</td>\n",
       "      <td>2</td>\n",
       "      <td>0</td>\n",
       "      <td>0</td>\n",
       "      <td>0.958333</td>\n",
       "    </tr>\n",
       "    <tr>\n",
       "      <th>LF_temp_outside_table</th>\n",
       "      <td>3</td>\n",
       "      <td>1.000000</td>\n",
       "      <td>1.000000</td>\n",
       "      <td>0.177400</td>\n",
       "      <td>0</td>\n",
       "      <td>0</td>\n",
       "      <td>220</td>\n",
       "      <td>603</td>\n",
       "      <td>0.732685</td>\n",
       "    </tr>\n",
       "    <tr>\n",
       "      <th>LF_complement_left_row</th>\n",
       "      <td>4</td>\n",
       "      <td>0.100851</td>\n",
       "      <td>0.100851</td>\n",
       "      <td>0.031592</td>\n",
       "      <td>0</td>\n",
       "      <td>0</td>\n",
       "      <td>0</td>\n",
       "      <td>83</td>\n",
       "      <td>1.000000</td>\n",
       "    </tr>\n",
       "    <tr>\n",
       "      <th>LF_current_aligned</th>\n",
       "      <td>5</td>\n",
       "      <td>0.239368</td>\n",
       "      <td>0.239368</td>\n",
       "      <td>0.000000</td>\n",
       "      <td>0</td>\n",
       "      <td>0</td>\n",
       "      <td>31</td>\n",
       "      <td>166</td>\n",
       "      <td>0.842640</td>\n",
       "    </tr>\n",
       "    <tr>\n",
       "      <th>LF_tstg_row</th>\n",
       "      <td>6</td>\n",
       "      <td>0.110571</td>\n",
       "      <td>0.110571</td>\n",
       "      <td>0.110571</td>\n",
       "      <td>76</td>\n",
       "      <td>15</td>\n",
       "      <td>0</td>\n",
       "      <td>0</td>\n",
       "      <td>0.835165</td>\n",
       "    </tr>\n",
       "    <tr>\n",
       "      <th>LF_not_temp_relevant</th>\n",
       "      <td>7</td>\n",
       "      <td>0.822600</td>\n",
       "      <td>0.822600</td>\n",
       "      <td>0.000000</td>\n",
       "      <td>0</td>\n",
       "      <td>0</td>\n",
       "      <td>103</td>\n",
       "      <td>574</td>\n",
       "      <td>0.847858</td>\n",
       "    </tr>\n",
       "    <tr>\n",
       "      <th>LF_voltage_row_temp</th>\n",
       "      <td>8</td>\n",
       "      <td>0.184690</td>\n",
       "      <td>0.184690</td>\n",
       "      <td>0.000000</td>\n",
       "      <td>0</td>\n",
       "      <td>0</td>\n",
       "      <td>28</td>\n",
       "      <td>124</td>\n",
       "      <td>0.815789</td>\n",
       "    </tr>\n",
       "    <tr>\n",
       "      <th>LF_negative_number_left</th>\n",
       "      <td>9</td>\n",
       "      <td>0.109356</td>\n",
       "      <td>0.109356</td>\n",
       "      <td>0.109356</td>\n",
       "      <td>75</td>\n",
       "      <td>15</td>\n",
       "      <td>0</td>\n",
       "      <td>0</td>\n",
       "      <td>0.833333</td>\n",
       "    </tr>\n",
       "    <tr>\n",
       "      <th>LF_too_many_numbers_row</th>\n",
       "      <td>10</td>\n",
       "      <td>0.318348</td>\n",
       "      <td>0.318348</td>\n",
       "      <td>0.000000</td>\n",
       "      <td>0</td>\n",
       "      <td>0</td>\n",
       "      <td>43</td>\n",
       "      <td>219</td>\n",
       "      <td>0.835878</td>\n",
       "    </tr>\n",
       "    <tr>\n",
       "      <th>LF_temp_on_high_page_num</th>\n",
       "      <td>11</td>\n",
       "      <td>0.431349</td>\n",
       "      <td>0.431349</td>\n",
       "      <td>0.000000</td>\n",
       "      <td>0</td>\n",
       "      <td>0</td>\n",
       "      <td>42</td>\n",
       "      <td>313</td>\n",
       "      <td>0.881690</td>\n",
       "    </tr>\n",
       "    <tr>\n",
       "      <th>LF_to_left</th>\n",
       "      <td>12</td>\n",
       "      <td>0.102066</td>\n",
       "      <td>0.102066</td>\n",
       "      <td>0.102066</td>\n",
       "      <td>71</td>\n",
       "      <td>13</td>\n",
       "      <td>0</td>\n",
       "      <td>0</td>\n",
       "      <td>0.845238</td>\n",
       "    </tr>\n",
       "    <tr>\n",
       "      <th>LF_temperature_row</th>\n",
       "      <td>13</td>\n",
       "      <td>0.177400</td>\n",
       "      <td>0.177400</td>\n",
       "      <td>0.177400</td>\n",
       "      <td>117</td>\n",
       "      <td>29</td>\n",
       "      <td>0</td>\n",
       "      <td>0</td>\n",
       "      <td>0.801370</td>\n",
       "    </tr>\n",
       "    <tr>\n",
       "      <th>LF_storage_row</th>\n",
       "      <td>14</td>\n",
       "      <td>0.110571</td>\n",
       "      <td>0.110571</td>\n",
       "      <td>0.110571</td>\n",
       "      <td>76</td>\n",
       "      <td>15</td>\n",
       "      <td>0</td>\n",
       "      <td>0</td>\n",
       "      <td>0.835165</td>\n",
       "    </tr>\n",
       "    <tr>\n",
       "      <th>LF_test</th>\n",
       "      <td>15</td>\n",
       "      <td>0.102066</td>\n",
       "      <td>0.102066</td>\n",
       "      <td>0.102066</td>\n",
       "      <td>71</td>\n",
       "      <td>13</td>\n",
       "      <td>0</td>\n",
       "      <td>0</td>\n",
       "      <td>0.845238</td>\n",
       "    </tr>\n",
       "  </tbody>\n",
       "</table>\n",
       "</div>"
      ],
      "text/plain": [
       "                           j  Coverage  Overlaps  Conflicts   TP  FP   FN  \\\n",
       "LF_voltage_row_part        0  0.184690  0.184690   0.000000    0   0   28   \n",
       "LF_collector_aligned       1  0.030377  0.030377   0.000000    0   0    0   \n",
       "LF_operating_row           2  0.058323  0.058323   0.058323   46   2    0   \n",
       "LF_temp_outside_table      3  1.000000  1.000000   0.177400    0   0  220   \n",
       "LF_complement_left_row     4  0.100851  0.100851   0.031592    0   0    0   \n",
       "LF_current_aligned         5  0.239368  0.239368   0.000000    0   0   31   \n",
       "LF_tstg_row                6  0.110571  0.110571   0.110571   76  15    0   \n",
       "LF_not_temp_relevant       7  0.822600  0.822600   0.000000    0   0  103   \n",
       "LF_voltage_row_temp        8  0.184690  0.184690   0.000000    0   0   28   \n",
       "LF_negative_number_left    9  0.109356  0.109356   0.109356   75  15    0   \n",
       "LF_too_many_numbers_row   10  0.318348  0.318348   0.000000    0   0   43   \n",
       "LF_temp_on_high_page_num  11  0.431349  0.431349   0.000000    0   0   42   \n",
       "LF_to_left                12  0.102066  0.102066   0.102066   71  13    0   \n",
       "LF_temperature_row        13  0.177400  0.177400   0.177400  117  29    0   \n",
       "LF_storage_row            14  0.110571  0.110571   0.110571   76  15    0   \n",
       "LF_test                   15  0.102066  0.102066   0.102066   71  13    0   \n",
       "\n",
       "                           TN  Empirical Acc.  \n",
       "LF_voltage_row_part       124        0.815789  \n",
       "LF_collector_aligned       25        1.000000  \n",
       "LF_operating_row            0        0.958333  \n",
       "LF_temp_outside_table     603        0.732685  \n",
       "LF_complement_left_row     83        1.000000  \n",
       "LF_current_aligned        166        0.842640  \n",
       "LF_tstg_row                 0        0.835165  \n",
       "LF_not_temp_relevant      574        0.847858  \n",
       "LF_voltage_row_temp       124        0.815789  \n",
       "LF_negative_number_left     0        0.833333  \n",
       "LF_too_many_numbers_row   219        0.835878  \n",
       "LF_temp_on_high_page_num  313        0.881690  \n",
       "LF_to_left                  0        0.845238  \n",
       "LF_temperature_row          0        0.801370  \n",
       "LF_storage_row              0        0.835165  \n",
       "LF_test                     0        0.845238  "
      ]
     },
     "execution_count": 33,
     "metadata": {},
     "output_type": "execute_result"
    }
   ],
   "source": [
    "# %time L_train.lf_stats_legacy()\n",
    "# %time L_train.lf_stats(session, )\n",
    "from snorkel.annotations import load_gold_labels\n",
    "L_gold_train = load_gold_labels(session, annotator_name='gold', split=0)\n",
    "%time L_train.lf_stats(L_gold_train)"
   ]
  },
  {
   "cell_type": "markdown",
   "metadata": {},
   "source": [
    "### Fitting the Generative Model\n",
    "\n",
    "Now, we'll train a model of the LFs to estimate their accuracies. Once the model is trained, we can combine the outputs of the LFs into a single, noise-aware training label set for our extractor. Intuitively, we'll model the LFs by observing how they overlap and conflict with each other."
   ]
  },
  {
   "cell_type": "code",
   "execution_count": 34,
   "metadata": {
    "collapsed": false
   },
   "outputs": [
    {
     "name": "stderr",
     "output_type": "stream",
     "text": [
      "/Users/sen/anaconda2/lib/python2.7/site-packages/matplotlib/__init__.py:1401: UserWarning:  This call to matplotlib.use() has no effect\n",
      "because the backend has already been chosen;\n",
      "matplotlib.use() must be called *before* pylab, matplotlib.pyplot,\n",
      "or matplotlib.backends is imported for the first time.\n",
      "\n",
      "  warnings.warn(_use_error_msg)\n"
     ]
    },
    {
     "name": "stdout",
     "output_type": "stream",
     "text": [
      "CPU times: user 14.7 s, sys: 48.3 ms, total: 14.8 s\n",
      "Wall time: 14.8 s\n"
     ]
    }
   ],
   "source": [
    "from snorkel.learning import GenerativeModel\n",
    "\n",
    "gen_model = GenerativeModel()\n",
    "%time gen_model.train(L_train, epochs=500, decay=0.95, step_size=0.1/L_train.shape[0], reg_param=1e-6)"
   ]
  },
  {
   "cell_type": "markdown",
   "metadata": {},
   "source": [
    "We now apply the generative model to the training candidates to get the noise-aware training label set. We'll refer to these as the training marginals:"
   ]
  },
  {
   "cell_type": "code",
   "execution_count": 35,
   "metadata": {
    "collapsed": true
   },
   "outputs": [],
   "source": [
    "train_marginals = gen_model.marginals(L_train)"
   ]
  },
  {
   "cell_type": "markdown",
   "metadata": {},
   "source": [
    "We'll look at the distribution of the training marginals:"
   ]
  },
  {
   "cell_type": "code",
   "execution_count": 36,
   "metadata": {
    "collapsed": false
   },
   "outputs": [
    {
     "data": {
      "image/png": "[encoded data removed]",
      "text/plain": [
       "<matplotlib.figure.Figure at 0x11e37b590>"
      ]
     },
     "metadata": {},
     "output_type": "display_data"
    }
   ],
   "source": [
    "import matplotlib.pyplot as plt\n",
    "plt.hist(train_marginals, bins=20)\n",
    "plt.show()"
   ]
  },
  {
   "cell_type": "markdown",
   "metadata": {},
   "source": [
    "We can view the learned accuracy parameters as well."
   ]
  },
  {
   "cell_type": "code",
   "execution_count": 37,
   "metadata": {
    "collapsed": false
   },
   "outputs": [
    {
     "data": {
      "text/plain": [
       "array([ 0.58227975,  0.52588359,  0.51741318,  0.83272798,  0.54597449,\n",
       "        0.60611012,  0.51600845,  0.8253843 ,  0.58800109,  0.51897436,\n",
       "        0.63495929,  0.674492  ,  0.51762609,  0.49512937,  0.51917407,\n",
       "        0.51855344])"
      ]
     },
     "execution_count": 37,
     "metadata": {},
     "output_type": "execute_result"
    }
   ],
   "source": [
    "gen_model.weights.lf_accuracy()"
   ]
  },
  {
   "cell_type": "markdown",
   "metadata": {
    "scrolled": true
   },
   "source": [
    "### Using the Model to Iterate on Labeling Functions\n",
    "\n",
    "Now that we have learned the generative model, we can stop here and use this to potentially debug and/or improve our labeling function set. First, we apply the LFs to our development set:"
   ]
  },
  {
   "cell_type": "code",
   "execution_count": 38,
   "metadata": {
    "collapsed": false,
    "scrolled": true
   },
   "outputs": [
    {
     "name": "stdout",
     "output_type": "stream",
     "text": [
      "Clearing existing...\n",
      "Running UDF...\n",
      "[========================================] 100%\n",
      "Copying part_attr_label_updates to postgres\n",
      "COPY 225\n",
      "\n"
     ]
    }
   ],
   "source": [
    "L_dev = labeler.apply_existing(split=1)"
   ]
  },
  {
   "cell_type": "markdown",
   "metadata": {},
   "source": [
    "Then, we get the score of the generative model:"
   ]
  },
  {
   "cell_type": "code",
   "execution_count": 39,
   "metadata": {
    "collapsed": false
   },
   "outputs": [
    {
     "name": "stdout",
     "output_type": "stream",
     "text": [
      "========================================\n",
      "Scores (Un-adjusted)\n",
      "========================================\n",
      "Pos. class accuracy: 0.209\n",
      "Neg. class accuracy: 0.994\n",
      "Precision            0.933\n",
      "Recall               0.209\n",
      "F1                   0.341\n",
      "----------------------------------------\n",
      "TP: 14 | FP: 1 | TN: 157 | FN: 53\n",
      "========================================\n",
      "\n"
     ]
    }
   ],
   "source": [
    "tp, fp, tn, fn = gen_model.score(session, L_dev, L_gold_dev)"
   ]
  },
  {
   "cell_type": "code",
   "execution_count": 40,
   "metadata": {
    "collapsed": false,
    "scrolled": false
   },
   "outputs": [
    {
     "data": {
      "text/html": [
       "<div>\n",
       "<table border=\"1\" class=\"dataframe\">\n",
       "  <thead>\n",
       "    <tr style=\"text-align: right;\">\n",
       "      <th></th>\n",
       "      <th>j</th>\n",
       "      <th>Coverage</th>\n",
       "      <th>Overlaps</th>\n",
       "      <th>Conflicts</th>\n",
       "      <th>TP</th>\n",
       "      <th>FP</th>\n",
       "      <th>FN</th>\n",
       "      <th>TN</th>\n",
       "      <th>Empirical Acc.</th>\n",
       "      <th>Learned Acc.</th>\n",
       "    </tr>\n",
       "  </thead>\n",
       "  <tbody>\n",
       "    <tr>\n",
       "      <th>LF_voltage_row_part</th>\n",
       "      <td>0</td>\n",
       "      <td>0.184690</td>\n",
       "      <td>0.184690</td>\n",
       "      <td>0.000000</td>\n",
       "      <td>0</td>\n",
       "      <td>0</td>\n",
       "      <td>28</td>\n",
       "      <td>124</td>\n",
       "      <td>0.815789</td>\n",
       "      <td>0.582280</td>\n",
       "    </tr>\n",
       "    <tr>\n",
       "      <th>LF_collector_aligned</th>\n",
       "      <td>1</td>\n",
       "      <td>0.030377</td>\n",
       "      <td>0.030377</td>\n",
       "      <td>0.000000</td>\n",
       "      <td>0</td>\n",
       "      <td>0</td>\n",
       "      <td>0</td>\n",
       "      <td>25</td>\n",
       "      <td>1.000000</td>\n",
       "      <td>0.525884</td>\n",
       "    </tr>\n",
       "    <tr>\n",
       "      <th>LF_operating_row</th>\n",
       "      <td>2</td>\n",
       "      <td>0.058323</td>\n",
       "      <td>0.058323</td>\n",
       "      <td>0.058323</td>\n",
       "      <td>46</td>\n",
       "      <td>2</td>\n",
       "      <td>0</td>\n",
       "      <td>0</td>\n",
       "      <td>0.958333</td>\n",
       "      <td>0.517413</td>\n",
       "    </tr>\n",
       "    <tr>\n",
       "      <th>LF_temp_outside_table</th>\n",
       "      <td>3</td>\n",
       "      <td>1.000000</td>\n",
       "      <td>1.000000</td>\n",
       "      <td>0.177400</td>\n",
       "      <td>0</td>\n",
       "      <td>0</td>\n",
       "      <td>220</td>\n",
       "      <td>603</td>\n",
       "      <td>0.732685</td>\n",
       "      <td>0.832728</td>\n",
       "    </tr>\n",
       "    <tr>\n",
       "      <th>LF_complement_left_row</th>\n",
       "      <td>4</td>\n",
       "      <td>0.100851</td>\n",
       "      <td>0.100851</td>\n",
       "      <td>0.031592</td>\n",
       "      <td>0</td>\n",
       "      <td>0</td>\n",
       "      <td>0</td>\n",
       "      <td>83</td>\n",
       "      <td>1.000000</td>\n",
       "      <td>0.545974</td>\n",
       "    </tr>\n",
       "    <tr>\n",
       "      <th>LF_current_aligned</th>\n",
       "      <td>5</td>\n",
       "      <td>0.239368</td>\n",
       "      <td>0.239368</td>\n",
       "      <td>0.000000</td>\n",
       "      <td>0</td>\n",
       "      <td>0</td>\n",
       "      <td>31</td>\n",
       "      <td>166</td>\n",
       "      <td>0.842640</td>\n",
       "      <td>0.606110</td>\n",
       "    </tr>\n",
       "    <tr>\n",
       "      <th>LF_tstg_row</th>\n",
       "      <td>6</td>\n",
       "      <td>0.110571</td>\n",
       "      <td>0.110571</td>\n",
       "      <td>0.110571</td>\n",
       "      <td>76</td>\n",
       "      <td>15</td>\n",
       "      <td>0</td>\n",
       "      <td>0</td>\n",
       "      <td>0.835165</td>\n",
       "      <td>0.516008</td>\n",
       "    </tr>\n",
       "    <tr>\n",
       "      <th>LF_not_temp_relevant</th>\n",
       "      <td>7</td>\n",
       "      <td>0.822600</td>\n",
       "      <td>0.822600</td>\n",
       "      <td>0.000000</td>\n",
       "      <td>0</td>\n",
       "      <td>0</td>\n",
       "      <td>103</td>\n",
       "      <td>574</td>\n",
       "      <td>0.847858</td>\n",
       "      <td>0.825384</td>\n",
       "    </tr>\n",
       "    <tr>\n",
       "      <th>LF_voltage_row_temp</th>\n",
       "      <td>8</td>\n",
       "      <td>0.184690</td>\n",
       "      <td>0.184690</td>\n",
       "      <td>0.000000</td>\n",
       "      <td>0</td>\n",
       "      <td>0</td>\n",
       "      <td>28</td>\n",
       "      <td>124</td>\n",
       "      <td>0.815789</td>\n",
       "      <td>0.588001</td>\n",
       "    </tr>\n",
       "    <tr>\n",
       "      <th>LF_negative_number_left</th>\n",
       "      <td>9</td>\n",
       "      <td>0.109356</td>\n",
       "      <td>0.109356</td>\n",
       "      <td>0.109356</td>\n",
       "      <td>75</td>\n",
       "      <td>15</td>\n",
       "      <td>0</td>\n",
       "      <td>0</td>\n",
       "      <td>0.833333</td>\n",
       "      <td>0.518974</td>\n",
       "    </tr>\n",
       "    <tr>\n",
       "      <th>LF_too_many_numbers_row</th>\n",
       "      <td>10</td>\n",
       "      <td>0.318348</td>\n",
       "      <td>0.318348</td>\n",
       "      <td>0.000000</td>\n",
       "      <td>0</td>\n",
       "      <td>0</td>\n",
       "      <td>43</td>\n",
       "      <td>219</td>\n",
       "      <td>0.835878</td>\n",
       "      <td>0.634959</td>\n",
       "    </tr>\n",
       "    <tr>\n",
       "      <th>LF_temp_on_high_page_num</th>\n",
       "      <td>11</td>\n",
       "      <td>0.431349</td>\n",
       "      <td>0.431349</td>\n",
       "      <td>0.000000</td>\n",
       "      <td>0</td>\n",
       "      <td>0</td>\n",
       "      <td>42</td>\n",
       "      <td>313</td>\n",
       "      <td>0.881690</td>\n",
       "      <td>0.674492</td>\n",
       "    </tr>\n",
       "    <tr>\n",
       "      <th>LF_to_left</th>\n",
       "      <td>12</td>\n",
       "      <td>0.102066</td>\n",
       "      <td>0.102066</td>\n",
       "      <td>0.102066</td>\n",
       "      <td>71</td>\n",
       "      <td>13</td>\n",
       "      <td>0</td>\n",
       "      <td>0</td>\n",
       "      <td>0.845238</td>\n",
       "      <td>0.517626</td>\n",
       "    </tr>\n",
       "    <tr>\n",
       "      <th>LF_temperature_row</th>\n",
       "      <td>13</td>\n",
       "      <td>0.177400</td>\n",
       "      <td>0.177400</td>\n",
       "      <td>0.177400</td>\n",
       "      <td>117</td>\n",
       "      <td>29</td>\n",
       "      <td>0</td>\n",
       "      <td>0</td>\n",
       "      <td>0.801370</td>\n",
       "      <td>0.495129</td>\n",
       "    </tr>\n",
       "    <tr>\n",
       "      <th>LF_storage_row</th>\n",
       "      <td>14</td>\n",
       "      <td>0.110571</td>\n",
       "      <td>0.110571</td>\n",
       "      <td>0.110571</td>\n",
       "      <td>76</td>\n",
       "      <td>15</td>\n",
       "      <td>0</td>\n",
       "      <td>0</td>\n",
       "      <td>0.835165</td>\n",
       "      <td>0.519174</td>\n",
       "    </tr>\n",
       "    <tr>\n",
       "      <th>LF_test</th>\n",
       "      <td>15</td>\n",
       "      <td>0.102066</td>\n",
       "      <td>0.102066</td>\n",
       "      <td>0.102066</td>\n",
       "      <td>71</td>\n",
       "      <td>13</td>\n",
       "      <td>0</td>\n",
       "      <td>0</td>\n",
       "      <td>0.845238</td>\n",
       "      <td>0.518553</td>\n",
       "    </tr>\n",
       "  </tbody>\n",
       "</table>\n",
       "</div>"
      ],
      "text/plain": [
       "                           j  Coverage  Overlaps  Conflicts   TP  FP   FN  \\\n",
       "LF_voltage_row_part        0  0.184690  0.184690   0.000000    0   0   28   \n",
       "LF_collector_aligned       1  0.030377  0.030377   0.000000    0   0    0   \n",
       "LF_operating_row           2  0.058323  0.058323   0.058323   46   2    0   \n",
       "LF_temp_outside_table      3  1.000000  1.000000   0.177400    0   0  220   \n",
       "LF_complement_left_row     4  0.100851  0.100851   0.031592    0   0    0   \n",
       "LF_current_aligned         5  0.239368  0.239368   0.000000    0   0   31   \n",
       "LF_tstg_row                6  0.110571  0.110571   0.110571   76  15    0   \n",
       "LF_not_temp_relevant       7  0.822600  0.822600   0.000000    0   0  103   \n",
       "LF_voltage_row_temp        8  0.184690  0.184690   0.000000    0   0   28   \n",
       "LF_negative_number_left    9  0.109356  0.109356   0.109356   75  15    0   \n",
       "LF_too_many_numbers_row   10  0.318348  0.318348   0.000000    0   0   43   \n",
       "LF_temp_on_high_page_num  11  0.431349  0.431349   0.000000    0   0   42   \n",
       "LF_to_left                12  0.102066  0.102066   0.102066   71  13    0   \n",
       "LF_temperature_row        13  0.177400  0.177400   0.177400  117  29    0   \n",
       "LF_storage_row            14  0.110571  0.110571   0.110571   76  15    0   \n",
       "LF_test                   15  0.102066  0.102066   0.102066   71  13    0   \n",
       "\n",
       "                           TN  Empirical Acc.  Learned Acc.  \n",
       "LF_voltage_row_part       124        0.815789      0.582280  \n",
       "LF_collector_aligned       25        1.000000      0.525884  \n",
       "LF_operating_row            0        0.958333      0.517413  \n",
       "LF_temp_outside_table     603        0.732685      0.832728  \n",
       "LF_complement_left_row     83        1.000000      0.545974  \n",
       "LF_current_aligned        166        0.842640      0.606110  \n",
       "LF_tstg_row                 0        0.835165      0.516008  \n",
       "LF_not_temp_relevant      574        0.847858      0.825384  \n",
       "LF_voltage_row_temp       124        0.815789      0.588001  \n",
       "LF_negative_number_left     0        0.833333      0.518974  \n",
       "LF_too_many_numbers_row   219        0.835878      0.634959  \n",
       "LF_temp_on_high_page_num  313        0.881690      0.674492  \n",
       "LF_to_left                  0        0.845238      0.517626  \n",
       "LF_temperature_row          0        0.801370      0.495129  \n",
       "LF_storage_row              0        0.835165      0.519174  \n",
       "LF_test                     0        0.845238      0.518553  "
      ]
     },
     "execution_count": 40,
     "metadata": {},
     "output_type": "execute_result"
    }
   ],
   "source": [
    "from snorkel.annotations import load_gold_labels\n",
    "L_gold_train = load_gold_labels(session, annotator_name='gold', split=0)\n",
    "# L_gold_train[L_gold_train==0]=-1\n",
    "# %time L_train.lf_stats_legacy(L_gold_train)\n",
    "L_train.lf_stats(L_gold_train, gen_model.weights.lf_accuracy())"
   ]
  },
  {
   "cell_type": "code",
   "execution_count": 41,
   "metadata": {
    "collapsed": false
   },
   "outputs": [
    {
     "data": {
      "text/plain": [
       "823"
      ]
     },
     "execution_count": 41,
     "metadata": {},
     "output_type": "execute_result"
    }
   ],
   "source": [
    "len(L_gold_train.todense())\n"
   ]
  },
  {
   "cell_type": "markdown",
   "metadata": {},
   "source": [
    "### Interpreting Generative Model Performance\n",
    "\n",
    "At this point, we should be getting an F1 score of around 0.6 to 0.7 on the development set, which is pretty good! However, we should be very careful in interpreting this. Since we developed our labeling functions using this development set as a guide, and our generative model is composed of these labeling functions, we expect it to score very well here!\n",
    "\n",
    "In fact, it is probably somewhat overfit to this set. However this is fine, since in the next tutorial, we'll train a more powerful end extraction model which will generalize beyond the development set, and which we will evaluate on a blind test set (i.e. one we never looked at during development).\n",
    "\n",
    "## Part 5: Training our End Extraction Model\n",
    "\n",
    "Now, we'll use the noisy training labels we generated in the last part to train our end extraction model. For this tutorial, we will be training a simple - but fairly effective - logistic regression model. More generally, however, Snorkel plugs in with many ML libraries including [TensorFlow](https://www.tensorflow.org/), making it easy to use almost any state-of-the-art model as the end extractor!\n",
    "\n",
    "### Training the Discriminative Model\n",
    "We use the training marginals to train a discriminative model that classifies each Candidate as a true or false mention. "
   ]
  },
  {
   "cell_type": "code",
   "execution_count": 42,
   "metadata": {
    "collapsed": false
   },
   "outputs": [
    {
     "name": "stdout",
     "output_type": "stream",
     "text": [
      "[SparseLR] lr=0.001 l1=0.0 l2=0.0\n",
      "[SparseLR] Building model\n",
      "[SparseLR] Training model\n",
      "[SparseLR] #examples=823  #epochs=200  batch size=100\n",
      "[SparseLR] Epoch 0 (0.43s)\tAvg. loss=0.510142\tNNZ=3723\n",
      "[SparseLR] Epoch 5 (0.92s)\tAvg. loss=0.102338\tNNZ=3723\n",
      "[SparseLR] Epoch 10 (1.42s)\tAvg. loss=0.073036\tNNZ=3723\n",
      "[SparseLR] Epoch 15 (1.90s)\tAvg. loss=0.061805\tNNZ=3723\n",
      "[SparseLR] Epoch 20 (2.39s)\tAvg. loss=0.056074\tNNZ=3723\n",
      "[SparseLR] Epoch 25 (2.88s)\tAvg. loss=0.052717\tNNZ=3723\n",
      "[SparseLR] Epoch 30 (3.38s)\tAvg. loss=0.050548\tNNZ=3723\n",
      "[SparseLR] Epoch 35 (3.97s)\tAvg. loss=0.049048\tNNZ=3723\n",
      "[SparseLR] Epoch 40 (4.46s)\tAvg. loss=0.047955\tNNZ=3723\n",
      "[SparseLR] Epoch 45 (4.96s)\tAvg. loss=0.047129\tNNZ=3723\n",
      "[SparseLR] Epoch 50 (5.45s)\tAvg. loss=0.046484\tNNZ=3723\n",
      "[SparseLR] Epoch 55 (5.94s)\tAvg. loss=0.045970\tNNZ=3723\n",
      "[SparseLR] Epoch 60 (6.43s)\tAvg. loss=0.045554\tNNZ=3723\n",
      "[SparseLR] Epoch 65 (7.03s)\tAvg. loss=0.045211\tNNZ=3723\n",
      "[SparseLR] Epoch 70 (7.51s)\tAvg. loss=0.044927\tNNZ=3723\n",
      "[SparseLR] Epoch 75 (8.02s)\tAvg. loss=0.044688\tNNZ=3723\n",
      "[SparseLR] Epoch 80 (8.52s)\tAvg. loss=0.044485\tNNZ=3723\n",
      "[SparseLR] Epoch 85 (9.01s)\tAvg. loss=0.044312\tNNZ=3723\n",
      "[SparseLR] Epoch 90 (9.50s)\tAvg. loss=0.044162\tNNZ=3723\n",
      "[SparseLR] Epoch 95 (10.09s)\tAvg. loss=0.044033\tNNZ=3723\n",
      "[SparseLR] Epoch 100 (10.58s)\tAvg. loss=0.043919\tNNZ=3723\n",
      "[SparseLR] Epoch 105 (11.07s)\tAvg. loss=0.043820\tNNZ=3723\n",
      "[SparseLR] Epoch 110 (11.57s)\tAvg. loss=0.043731\tNNZ=3723\n",
      "[SparseLR] Epoch 115 (12.06s)\tAvg. loss=0.043653\tNNZ=3723\n",
      "[SparseLR] Epoch 120 (12.55s)\tAvg. loss=0.043583\tNNZ=3723\n",
      "[SparseLR] Epoch 125 (13.04s)\tAvg. loss=0.043520\tNNZ=3723\n",
      "[SparseLR] Epoch 130 (13.65s)\tAvg. loss=0.043464\tNNZ=3723\n",
      "[SparseLR] Epoch 135 (14.13s)\tAvg. loss=0.043413\tNNZ=3723\n",
      "[SparseLR] Epoch 140 (14.62s)\tAvg. loss=0.043367\tNNZ=3723\n",
      "[SparseLR] Epoch 145 (15.11s)\tAvg. loss=0.043325\tNNZ=3723\n",
      "[SparseLR] Epoch 150 (15.61s)\tAvg. loss=0.043287\tNNZ=3723\n",
      "[SparseLR] Epoch 155 (16.10s)\tAvg. loss=0.043252\tNNZ=3723\n",
      "[SparseLR] Epoch 160 (16.69s)\tAvg. loss=0.043220\tNNZ=3723\n",
      "[SparseLR] Epoch 165 (17.18s)\tAvg. loss=0.043190\tNNZ=3723\n",
      "[SparseLR] Epoch 170 (17.68s)\tAvg. loss=0.043163\tNNZ=3723\n",
      "[SparseLR] Epoch 175 (18.17s)\tAvg. loss=0.043139\tNNZ=3723\n",
      "[SparseLR] Epoch 180 (18.67s)\tAvg. loss=0.043116\tNNZ=3723\n",
      "[SparseLR] Epoch 185 (19.15s)\tAvg. loss=0.043094\tNNZ=3723\n",
      "[SparseLR] Epoch 190 (19.75s)\tAvg. loss=0.043075\tNNZ=3723\n",
      "[SparseLR] Epoch 195 (20.24s)\tAvg. loss=0.043057\tNNZ=3723\n",
      "[SparseLR] Epoch 199 (20.64s)\tAvg. loss=0.043043\tNNZ=3723\n",
      "[SparseLR] Training done (20.64s)\n",
      "CPU times: user 23.9 s, sys: 2.67 s, total: 26.6 s\n",
      "Wall time: 21 s\n"
     ]
    }
   ],
   "source": [
    "from snorkel.learning import SparseLogisticRegression\n",
    "\n",
    "disc_model = SparseLogisticRegression()\n",
    "%time disc_model.train(F_train, train_marginals, n_epochs=200, lr=0.001)"
   ]
  },
  {
   "cell_type": "markdown",
   "metadata": {},
   "source": [
    "### Evaluating on the Test Set\n",
    "In this final section, we'll get the score we've been after: the performance of the extraction model on the blind test set (split 2). First, we load the test set labels and gold candidates from earlier:"
   ]
  },
  {
   "cell_type": "code",
   "execution_count": 43,
   "metadata": {
    "collapsed": true
   },
   "outputs": [],
   "source": [
    "from snorkel.annotations import load_gold_labels\n",
    "L_gold_test = load_gold_labels(session, annotator_name='gold', split=2)"
   ]
  },
  {
   "cell_type": "code",
   "execution_count": 44,
   "metadata": {
    "collapsed": false,
    "scrolled": true
   },
   "outputs": [
    {
     "name": "stdout",
     "output_type": "stream",
     "text": [
      "(129, 3723)\n",
      "(129, 1)\n"
     ]
    }
   ],
   "source": [
    "print F_test.shape\n",
    "print L_gold_test.shape\n"
   ]
  },
  {
   "cell_type": "markdown",
   "metadata": {
    "scrolled": true
   },
   "source": [
    "Now, we score using the discriminitive model:"
   ]
  },
  {
   "cell_type": "code",
   "execution_count": 45,
   "metadata": {
    "collapsed": false,
    "scrolled": true
   },
   "outputs": [
    {
     "name": "stdout",
     "output_type": "stream",
     "text": [
      "========================================\n",
      "Scores (Un-adjusted)\n",
      "========================================\n",
      "Pos. class accuracy: 0.0\n",
      "Neg. class accuracy: 1.0\n",
      "Precision            0.0\n",
      "Recall               0.0\n",
      "F1                   0.0\n",
      "----------------------------------------\n",
      "TP: 0 | FP: 0 | TN: 96 | FN: 33\n",
      "========================================\n",
      "\n"
     ]
    }
   ],
   "source": [
    "tp, fp, tn, fn = disc_model.score(session, F_test, L_gold_test)"
   ]
  },
  {
   "cell_type": "code",
   "execution_count": 46,
   "metadata": {
    "collapsed": false
   },
   "outputs": [
    {
     "name": "stdout",
     "output_type": "stream",
     "text": [
      "Preparing candidates...\n",
      "[========================================] 100%\n",
      "========================================\n",
      "Scoring on Entity-Level Gold Data\n",
      "========================================\n",
      "Corpus Precision nan\n",
      "Corpus Recall    0.0\n",
      "Corpus F1        nan\n",
      "----------------------------------------\n",
      "TP: 0 | FP: 0 | FN: 34\n",
      "========================================\n",
      "\n",
      "CPU times: user 58.6 ms, sys: 2.39 ms, total: 60.9 ms\n",
      "Wall time: 64.2 ms\n"
     ]
    }
   ],
   "source": [
    "from hardware_utils import entity_level_f1\n",
    "import os\n",
    "\n",
    "import cPickle as pickle\n",
    "pickle_file = os.environ['SNORKELHOME'] + '/tutorials/fonduer/hardware/data/parts_by_doc_dict.pkl'\n",
    "with open(pickle_file, 'r') as f:\n",
    "    parts_by_doc = pickle.load(f)\n",
    "\n",
    "# gold_file = os.environ['SNORKELHOME'] + '/tutorials/fonduer/hardware/data/hardware_tutorial_gold.csv'\n",
    "# corpus = session.query(Corpus).filter(Corpus.name == 'Hardware Dev').one()\n",
    "# %time (TP, FP, FN) = entity_level_f1(tp.union(fp), gold_file, ATTRIBUTE, test_docs, parts_by_doc=None)\n",
    "%time (TP, FP, FN) = entity_level_f1(tp.union(fp), gold_file, ATTRIBUTE, test_docs, parts_by_doc=parts_by_doc)"
   ]
  },
  {
   "cell_type": "code",
   "execution_count": 47,
   "metadata": {
    "collapsed": false
   },
   "outputs": [
    {
     "data": {
      "text/plain": [
       "[('BC546_DIOTEC', 'BC546', '150'),\n",
       " ('BC546_DIOTEC', 'BC546A', '150'),\n",
       " ('BC546_DIOTEC', 'BC546B', '150'),\n",
       " ('BC546_DIOTEC', 'BC547', '150'),\n",
       " ('BC546_DIOTEC', 'BC547A', '150'),\n",
       " ('BC546_DIOTEC', 'BC547B', '150'),\n",
       " ('BC546_DIOTEC', 'BC547C', '150'),\n",
       " ('BC546_DIOTEC', 'BC548', '150'),\n",
       " ('BC546_DIOTEC', 'BC548A', '150'),\n",
       " ('BC546_DIOTEC', 'BC548B', '150'),\n",
       " ('BC546_DIOTEC', 'BC548C', '150'),\n",
       " ('BC546_DIOTEC', 'BC549', '150'),\n",
       " ('BC546_DIOTEC', 'BC549B', '150'),\n",
       " ('BC546_DIOTEC', 'BC549C', '150'),\n",
       " ('BC550', 'BC546', '150'),\n",
       " ('BC550', 'BC546A', '150'),\n",
       " ('BC550', 'BC546B', '150'),\n",
       " ('BC550', 'BC546C', '150'),\n",
       " ('BC550', 'BC547', '150'),\n",
       " ('BC550', 'BC547A', '150'),\n",
       " ('BC550', 'BC547B', '150'),\n",
       " ('BC550', 'BC547C', '150'),\n",
       " ('BC550', 'BC548', '150'),\n",
       " ('BC550', 'BC548A', '150'),\n",
       " ('BC550', 'BC548B', '150'),\n",
       " ('BC550', 'BC548C', '150'),\n",
       " ('BC550', 'BC549', '150'),\n",
       " ('BC550', 'BC549A', '150'),\n",
       " ('BC550', 'BC549B', '150'),\n",
       " ('BC550', 'BC549C', '150'),\n",
       " ('BC550', 'BC550', '150'),\n",
       " ('BC550', 'BC550A', '150'),\n",
       " ('BC550', 'BC550B', '150'),\n",
       " ('BC550', 'BC550C', '150')]"
      ]
     },
     "execution_count": 47,
     "metadata": {},
     "output_type": "execute_result"
    }
   ],
   "source": [
    "FN"
   ]
  },
  {
   "cell_type": "code",
   "execution_count": 48,
   "metadata": {
    "collapsed": false
   },
   "outputs": [
    {
     "ename": "NameError",
     "evalue": "name 'fn_list' is not defined",
     "output_type": "error",
     "traceback": [
      "\u001b[0;31m---------------------------------------------------------------------------\u001b[0m",
      "\u001b[0;31mNameError\u001b[0m                                 Traceback (most recent call last)",
      "\u001b[0;32m<ipython-input-48-7eb5bc480cc2>\u001b[0m in \u001b[0;36m<module>\u001b[0;34m()\u001b[0m\n\u001b[0;32m----> 1\u001b[0;31m \u001b[0mfn_cand\u001b[0m \u001b[0;34m=\u001b[0m \u001b[0mfn_list\u001b[0m\u001b[0;34m[\u001b[0m\u001b[0;36m20\u001b[0m\u001b[0;34m]\u001b[0m\u001b[0;34m\u001b[0m\u001b[0m\n\u001b[0m\u001b[1;32m      2\u001b[0m \u001b[0;34m\u001b[0m\u001b[0m\n\u001b[1;32m      3\u001b[0m \u001b[0;32mfrom\u001b[0m \u001b[0mhardware_utils\u001b[0m \u001b[0;32mimport\u001b[0m \u001b[0mpart_error_analysis\u001b[0m\u001b[0;34m\u001b[0m\u001b[0m\n\u001b[1;32m      4\u001b[0m \u001b[0mpart_error_analysis\u001b[0m\u001b[0;34m(\u001b[0m\u001b[0mfn_cand\u001b[0m\u001b[0;34m)\u001b[0m\u001b[0;34m\u001b[0m\u001b[0m\n",
      "\u001b[0;31mNameError\u001b[0m: name 'fn_list' is not defined"
     ]
    }
   ],
   "source": [
    "fn_cand = fn_list[20]\n",
    "\n",
    "from hardware_utils import part_error_analysis\n",
    "part_error_analysis(fn_cand)"
   ]
  },
  {
   "cell_type": "code",
   "execution_count": null,
   "metadata": {
    "collapsed": false
   },
   "outputs": [],
   "source": [
    "print dir(train_cands[0][0].sentence.document)"
   ]
  },
  {
   "cell_type": "code",
   "execution_count": null,
   "metadata": {
    "collapsed": false
   },
   "outputs": [],
   "source": [
    "from snorkel.contrib.fonduer.visualizer import *"
   ]
  },
  {
   "cell_type": "code",
   "execution_count": null,
   "metadata": {
    "collapsed": true
   },
   "outputs": [],
   "source": []
  }
 ],
 "metadata": {
  "anaconda-cloud": {},
  "kernelspec": {
   "display_name": "Python 2",
   "language": "python",
   "name": "python2"
  },
  "language_info": {
   "codemirror_mode": {
    "name": "ipython",
    "version": 2
   },
   "file_extension": ".py",
   "mimetype": "text/x-python",
   "name": "python",
   "nbconvert_exporter": "python",
   "pygments_lexer": "ipython2",
   "version": "2.7.13"
  }
 },
 "nbformat": 4,
 "nbformat_minor": 1
}
