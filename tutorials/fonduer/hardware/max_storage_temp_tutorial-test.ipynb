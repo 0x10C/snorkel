{
 "cells": [
  {
   "cell_type": "markdown",
   "metadata": {},
   "source": [
    "# Tutorial: Extracting Maximum Storage Temperatures for Transistors from PDF Datasheets"
   ]
  },
  {
   "cell_type": "markdown",
   "metadata": {},
   "source": [
    "# Introduction\n",
    "\n",
    "We will walk through the process of using `Fonduer` to extract relations from [**richly formatted** data](https://hazyresearch.github.io/snorkel/blog/fonduer.html), where information is conveyed via combinations of textual, structural, tabular, and visual expressions, as seen in webpages, business reports, product specifications, and scientific literature.\n",
    "\n",
    "In this tutorial, we use `Fonduer` to identify mentions of the maximum storage temperature of transistors (e.g. `150°C`) in a corpus of transistor datasheets from [Digikey.com](https://www.digikey.com/products/en/discrete-semiconductor-products/transistors-bipolar-bjt-single/276).\n",
    "\n",
    "The tutorial is broken into several parts, each covering a Phase of the `Fonduer` pipeline (as outlined in the [paper](https://arxiv.org/abs/1703.05028)), and the iterative KBC process:\n",
    "\n",
    "1. KBC Initialization\n",
    "2. Candidate Generation and Multimodal Featurization\n",
    "3. Probabilistic Relation Classification\n",
    "4. Error Analysis and Iterative KBC\n",
    "\n",
    "In addition, we show how users can iteratively improve labeling functions to improve relation extraction quality.\n",
    "\n",
    "# Phase 1: KBC Initialization\n",
    "\n",
    "In this first phase of `Fonduer`'s pipeline, `Fonduer` uses a user specified _schema_ to initialize a relational database where the output KB will be stored. Furthermore, `Fonduer` iterates over its input _corpus_ and transforms each document into a unified data model, which captures the variability and multimodality of richly formatted data. This unified data model then servers as an intermediate representation used in the rest of the phases.\n",
    "\n",
    "This preprocessed data is saved to a database. Connection strings can be specified by setting the `SNORKELDB` environment variable. If no database is specified, then SQLite at `./snorkel.db` is created by default. However, to enabled parallel execution, we use PostgreSQL throughout this tutorial.\n",
    "\n",
    "We initialize several variables for convenience that define what the database should be called and what level of parallelization the `Fonduer` pipeline will be run with. In the code below, we use PostgreSQL as our database backend. \n",
    "\n",
    "Before you continue, please make sure that you have PostgreSQL installed and have created a new database named `stg_temp_max`."
   ]
  },
  {
   "cell_type": "code",
   "execution_count": 1,
   "metadata": {
    "collapsed": true,
    "scrolled": false
   },
   "outputs": [],
   "source": [
    "%load_ext autoreload\n",
    "%autoreload 2\n",
    "%matplotlib inline\n",
    "\n",
    "import os\n",
    "import sys\n",
    "\n",
    "PARALLEL = 4 # assuming a quad-core machine\n",
    "ATTRIBUTE = \"stg_temp_max\"\n",
    "\n",
    "os.environ['SNORKELDBNAME'] = ATTRIBUTE\n",
    "os.environ['SNORKELDB'] = 'postgres://localhost:5432/' + os.environ['SNORKELDBNAME']\n",
    "\n",
    "sys.path.append(os.environ['SNORKELHOME'] + '/tutorials/fonduer/hardware/')"
   ]
  },
  {
   "cell_type": "markdown",
   "metadata": {},
   "source": [
    "## 1.1 Defining a Candidate Schema\n",
    "\n",
    "We first initialize a `SnorkelSession`, which manages the connection to the database automatically, and enables us to save intermediate results."
   ]
  },
  {
   "cell_type": "code",
   "execution_count": 2,
   "metadata": {
    "scrolled": false
   },
   "outputs": [],
   "source": [
    "# from snorkel import SnorkelSession\n",
    "from snorkel.contrib.fonduer import SnorkelSession\n",
    "\n",
    "session = SnorkelSession()"
   ]
  },
  {
   "cell_type": "markdown",
   "metadata": {},
   "source": [
    "Next, we define the _schema_ of the relation we want to extract. This must be a subclass of Candidate, and we define it using a helper function. Here, we define a binary relation which connects two Span objects of text. This is what creates the relation's database table if it does not already exist."
   ]
  },
  {
   "cell_type": "code",
   "execution_count": 3,
   "metadata": {
    "collapsed": true
   },
   "outputs": [],
   "source": [
    "from snorkel.models import candidate_subclass\n",
    "\n",
    "Part_Attr = candidate_subclass('Part_Attr', ['part','attr'])"
   ]
  },
  {
   "cell_type": "markdown",
   "metadata": {
    "scrolled": false
   },
   "source": [
    "## 1.2 Parsing and Transforming the Input Documents into Unified Data Models\n",
    "\n",
    "Next, we load the corpus of datasheets and transform them into the unified data model. Each datasheet has a PDF and HTML representation. Both representations are used in conjunction to create a robust unified data model with textual, structural, tabular, and visual modality information. Note that since each document is independent of each other, we can parse the documents in parallel. Note that parallel execution will not work with SQLite, the default database engine. We depend on PostgreSQL for this functionality.\n",
    "\n",
    "### Configuring an `HTMLPreprocessor`\n",
    "We start by setting the paths to where our documents are stored, and defining a `HTMLPreprocessor` to read in the documents found in the specified paths. `max_docs` specified the number of documents to parse. For the sake of this tutorial, we only look at 100 documents.\n",
    "\n",
    "**Note that you need to have run `download_data.sh` before executing these next steps or you won't have the documents needed for the tutorial.**"
   ]
  },
  {
   "cell_type": "code",
   "execution_count": 4,
   "metadata": {
    "collapsed": true
   },
   "outputs": [],
   "source": [
    "from snorkel.contrib.fonduer import HTMLPreprocessor, OmniParser\n",
    "\n",
    "docs_path = os.environ['SNORKELHOME'] + '/tutorials/fonduer/hardware/data/html/'\n",
    "pdf_path = os.environ['SNORKELHOME'] + '/tutorials/fonduer/hardware/data/pdf/'\n",
    "\n",
    "max_docs = 20 #if 'CI' in os.environ else float('inf')\n",
    "doc_preprocessor = HTMLPreprocessor(docs_path, max_docs=max_docs)"
   ]
  },
  {
   "cell_type": "markdown",
   "metadata": {},
   "source": [
    "### Configuring an `OmniParser`\n",
    "Next, we configure an `OmniParser`, which serves as our `CorpusParser` for PDF documents. We use [CoreNLP](https://stanfordnlp.github.io/CoreNLP/) as a preprocessing tool to split our documents into phrases and tokens, and to provide annotations such as part-of-speech tags and dependency parse structures for these phrases. In addition, we can specify which modality information to include in the unified data model for each document. Below, we enable all modality information."
   ]
  },
  {
   "cell_type": "code",
   "execution_count": 5,
   "metadata": {
    "scrolled": false
   },
   "outputs": [
    {
     "name": "stdout",
     "output_type": "stream",
     "text": [
      "Clearing existing...\n",
      "Running UDF...\n",
      "CPU times: user 2.44 s, sys: 120 ms, total: 2.56 s\n",
      "Wall time: 1min 15s\n"
     ]
    }
   ],
   "source": [
    "corpus_parser = OmniParser(structural=True, lingual=True, visual=True, pdf_path=pdf_path)\n",
    "%time corpus_parser.apply(doc_preprocessor, parallelism=PARALLEL)"
   ]
  },
  {
   "cell_type": "markdown",
   "metadata": {},
   "source": [
    "We can then use simple database queries (written in the syntax of [SQLAlchemy](http://www.sqlalchemy.org/), which `Fonduer` uses) to check how many documents and phrases (sentences) were parsed, or even check how many phrases and tables are contained in each document."
   ]
  },
  {
   "cell_type": "code",
   "execution_count": 6,
   "metadata": {
    "scrolled": false
   },
   "outputs": [
    {
     "name": "stdout",
     "output_type": "stream",
     "text": [
      "Documents: 20\n",
      "Phrases: 9303\n"
     ]
    }
   ],
   "source": [
    "from snorkel.models import Document\n",
    "from snorkel.contrib.fonduer.models import Phrase\n",
    "\n",
    "print \"Documents:\", session.query(Document).count()\n",
    "print \"Phrases:\", session.query(Phrase).count()"
   ]
  },
  {
   "cell_type": "markdown",
   "metadata": {},
   "source": [
    "## 1.3 Dividing the Corpus into Test and Train\n",
    "\n",
    "We'll split the documents 80/10/10 into train/dev/test splits. Note that here we do this in a non-random order to preverse the consistency in the tutorial, and we reference the splits by 0/1/2 respectively."
   ]
  },
  {
   "cell_type": "code",
   "execution_count": 7,
   "metadata": {},
   "outputs": [
    {
     "name": "stdout",
     "output_type": "stream",
     "text": [
      "[u'DISES00490-1',\n",
      " u'MicroCommercialCo_2N3904AP',\n",
      " u'KECCS05435-1',\n",
      " u'CentralSemiconductorCorp_2N4013',\n",
      " u'BC818',\n",
      " u'PJECS00521-1',\n",
      " u'FairchildSemiconductor_KSC2310YTA',\n",
      " u'MCCCS09741-1',\n",
      " u'BC547',\n",
      " u'BC546',\n",
      " u'LITES00690-1',\n",
      " u'DISES00189-1',\n",
      " u'DiodesIncorporated_ZXT690BKTC',\n",
      " u'JCSTS01155-1',\n",
      " u'DiodesIncorporated_FZT651TC',\n",
      " u'PNJIS01186-1']\n"
     ]
    }
   ],
   "source": [
    "docs = session.query(Document).order_by(Document.name).all()\n",
    "ld   = len(docs)\n",
    "\n",
    "train_docs = set()\n",
    "dev_docs   = set()\n",
    "test_docs  = set()\n",
    "splits = (0.8, 0.9)\n",
    "data = [(doc.name, doc) for doc in docs]\n",
    "data.sort(key=lambda x: x[0])\n",
    "for i, (doc_name, doc) in enumerate(data):\n",
    "    if i < splits[0] * ld:\n",
    "        train_docs.add(doc)\n",
    "    elif i < splits[1] * ld:\n",
    "        dev_docs.add(doc)\n",
    "    else:\n",
    "        test_docs.add(doc)\n",
    "from pprint import pprint\n",
    "pprint([x.name for x in train_docs])"
   ]
  },
  {
   "cell_type": "markdown",
   "metadata": {},
   "source": [
    "# Phase 2: Candidate Extraction & Multimodal Featurization\n",
    "Given the unified data model from Phase 1, `Fonduer` extracts relation candidates based on user-provided **matchers** and **throttlers**. Then, `Fonduer` leverages the multimodality information captured in the unified data model to provide multimodal features for each candidate.\n",
    "\n",
    "## 2.1 Candidate Extraction\n",
    "\n",
    "The next step is to extract **candidates** from our corpus. A `candidate` is the object for which we want to make predictions. In this case, the candidates are pairs of transistor part numbers and their corresponding maximum storage temperatures as found in their datasheets. Our task is to predict which pairs are true in the associated document.\n",
    "\n",
    "To do so, we write **matchers** to define which spans of text in the corpus are instances of each entity. Matchers can leverage a variety of information from regular expressions, to dictionaries, to user-defined functions. Furthermore, different techniques can be combined to form higher quality matchers. In general, matchers should seek to be as precise as possible while maintaining complete recall.\n",
    "\n",
    "In our case, we need to write a matcher that defines a transistor part number and a matcher to define a valid temperature value.\n",
    "\n",
    "### Writing a simple temperature matcher\n",
    "\n",
    "Our maximum storage temperature matcher can be a very simple regular expression since we know that we are looking for integers, and by inspecting a portion of our corpus, we see that maximum storage temperatures fall within a fairly narrow range."
   ]
  },
  {
   "cell_type": "code",
   "execution_count": 8,
   "metadata": {
    "collapsed": true
   },
   "outputs": [],
   "source": [
    "from snorkel.matchers import *\n",
    "\n",
    "attr_matcher = RegexMatchSpan(rgx=r'(?:[1][5-9]|20)[05]', longest_match_only=False)"
   ]
  },
  {
   "cell_type": "markdown",
   "metadata": {},
   "source": [
    "### Writing an advanced transistor part matcher\n",
    "\n",
    "In contrast, transistor part numbers are complex expressions. Here, we show how transistor part numbers can leverage [naming conventions](https://en.wikipedia.org/wiki/Transistor#Part_numbering_standards.2Fspecifications) as regular expressions, and use a dictionary of known part numbers, and use user-defined functions together. First, we create a regular expression matcher for standard transistor naming conventions."
   ]
  },
  {
   "cell_type": "code",
   "execution_count": 9,
   "metadata": {
    "collapsed": true
   },
   "outputs": [],
   "source": [
    "### Transistor Naming Conventions as Regular Expressions ###\n",
    "eeca_rgx = '([ABC][A-Z][WXYZ]?[0-9]{3,5}(?:[A-Z]){0,5}[0-9]?[A-Z]?(?:-[A-Z0-9]{1,7})?(?:[-][A-Z0-9]{1,2})?(?:\\/DG)?)'\n",
    "jedec_rgx = '(2N\\d{3,4}[A-Z]{0,5}[0-9]?[A-Z]?)'\n",
    "jis_rgx = '(2S[ABCDEFGHJKMQRSTVZ]{1}[\\d]{2,4})'\n",
    "others_rgx = '((?:NSVBC|SMBT|MJ|MJE|MPS|MRF|RCA|TIP|ZTX|ZT|ZXT|TIS|TIPL|DTC|MMBT|SMMBT|PZT|FZT|STD|BUV|PBSS|KSC|CXT|FCX|CMPT){1}[\\d]{2,4}[A-Z]{0,5}(?:-[A-Z0-9]{0,6})?(?:[-][A-Z0-9]{0,1})?)'\n",
    "\n",
    "part_rgx = '|'.join([eeca_rgx, jedec_rgx, jis_rgx, others_rgx])\n",
    "part_rgx_matcher = RegexMatchSpan(rgx=part_rgx, longest_match_only=True)"
   ]
  },
  {
   "cell_type": "markdown",
   "metadata": {},
   "source": [
    "Next, we can create a matcher from a dictionary of known part numbers:"
   ]
  },
  {
   "cell_type": "code",
   "execution_count": 10,
   "metadata": {
    "collapsed": true
   },
   "outputs": [],
   "source": [
    "import csv\n",
    "\n",
    "def get_digikey_parts_set(path):\n",
    "    \"\"\"\n",
    "    Reads in the digikey part dictionary and yeilds each part.\n",
    "    \"\"\"\n",
    "    all_parts = set()\n",
    "    with open(path, \"r\") as csvinput:\n",
    "        reader = csv.reader(csvinput)\n",
    "        for line in reader:\n",
    "            (part, url) = line\n",
    "            all_parts.add(part)\n",
    "    return all_parts\n",
    "            \n",
    "### Dictionary of known transistor parts ###\n",
    "dict_path = os.environ['SNORKELHOME'] + '/tutorials/fonduer/hardware/data/digikey_part_dictionary.csv'\n",
    "part_dict_matcher = DictionaryMatch(d=get_digikey_parts_set(dict_path))"
   ]
  },
  {
   "cell_type": "markdown",
   "metadata": {},
   "source": [
    "We can also use user-defined functions to further improve our matchers. For example, here we use patterns in the document filenames as a signal for whether a span of text in a document is a valid transistor part number."
   ]
  },
  {
   "cell_type": "code",
   "execution_count": 11,
   "metadata": {
    "collapsed": true
   },
   "outputs": [],
   "source": [
    "def common_prefix_length_diff(str1, str2):\n",
    "    for i in range(min(len(str1), len(str2))):\n",
    "        if str1[i] != str2[i]:\n",
    "            return min(len(str1), len(str2)) - i\n",
    "    return 0\n",
    "\n",
    "def part_file_name_conditions(attr):\n",
    "    file_name = attr.sentence.document.name\n",
    "    if len(file_name.split('_')) != 2: return False\n",
    "    if attr.get_span()[0] == '-': return False\n",
    "    name = attr.get_span().replace('-', '')\n",
    "    return any(char.isdigit() for char in name) and any(char.isalpha() for char in name) and common_prefix_length_diff(file_name.split('_')[1], name) <= 2\n",
    "\n",
    "add_rgx = '^[A-Z0-9\\-]{5,15}$'\n",
    "\n",
    "part_file_name_lambda_matcher = LambdaFunctionMatch(func=part_file_name_conditions)\n",
    "part_file_name_matcher = Intersect(RegexMatchSpan(rgx=add_rgx, longest_match_only=True), part_file_name_lambda_matcher)"
   ]
  },
  {
   "cell_type": "markdown",
   "metadata": {},
   "source": [
    "Then, we can union all of these matchers together to form our final part matcher."
   ]
  },
  {
   "cell_type": "code",
   "execution_count": 12,
   "metadata": {
    "collapsed": true
   },
   "outputs": [],
   "source": [
    "part_matcher = Union(part_rgx_matcher, part_dict_matcher, part_file_name_matcher)"
   ]
  },
  {
   "cell_type": "markdown",
   "metadata": {},
   "source": [
    "These two matchers define each entity in our relation schema."
   ]
  },
  {
   "cell_type": "markdown",
   "metadata": {},
   "source": [
    "### Define a relation's `ContextSpaces`\n",
    "\n",
    "Next, in order to define the \"space\" of all candidates that are even considered from the document, we need to define a `ContextSpace` for each component of the relation we wish to extract.\n",
    "\n",
    "In the case of transistor part numbers, the `ContextSpace` can be quite complex due to the need to handle implicit part numbers that are implied in text like \"BC546A/B/C...BC548A/B/C\", which refers to 9 unique part numbers. In addition, to handle these, we consider all n-grams up to 3 words long.\n",
    "\n",
    "In contrast, the `ContextSpace` for temperature values is simpler: we only need to process different unicode representations of a (`-`), and don't need to look at more than two works at a time.\n",
    "\n",
    "When no special preproessing like this is needed, we could have used the default `OmniNgrams` class provided by `snorkel.candidates`. For example, if we were looking to match polarities, which only take the form of \"NPN\" or \"PNP\", we could've used `attr_ngrams = OmniNgrams(n_max=1)`."
   ]
  },
  {
   "cell_type": "code",
   "execution_count": 13,
   "metadata": {
    "collapsed": true
   },
   "outputs": [],
   "source": [
    "from hardware_spaces import OmniNgramsPart, OmniNgramsTemp\n",
    "    \n",
    "part_ngrams = OmniNgramsPart(parts_by_doc=None, n_max=3)\n",
    "attr_ngrams = OmniNgramsTemp(n_max=2)"
   ]
  },
  {
   "cell_type": "markdown",
   "metadata": {},
   "source": [
    "### Defining candidate `Throttlers`\n",
    "\n",
    "Next, we need to define **throttlers**, which allow us to further prune excess candidates and avoid unnecessarily materializing invalid candidates. Trottlers, like matchers, act as hard filters, and should be created to have high precision while maintaining complete recall, if possible.\n",
    "\n",
    "Here, we create a throttler that discards candidates if they are in the same table, but the part and storage temperature are not vertically or horizontally aligned."
   ]
  },
  {
   "cell_type": "code",
   "execution_count": 14,
   "metadata": {
    "collapsed": true
   },
   "outputs": [],
   "source": [
    "from snorkel.contrib.fonduer.lf_helpers import *\n",
    "import re\n",
    "\n",
    "def stg_temp_filter((part, attr)):\n",
    "    if same_table((part, attr)):\n",
    "        return (is_horz_aligned((part, attr)) or is_vert_aligned((part, attr)))\n",
    "    return True\n",
    "\n",
    "candidate_filter = stg_temp_filter"
   ]
  },
  {
   "cell_type": "markdown",
   "metadata": {},
   "source": [
    "### Running the `CandidateExtractor`\n",
    "\n",
    "Now, we have all the component necessary to perform candidate extraction. We have defined the \"space\" of things to consider for each candidate, provided matchers that signal when a valid mention is seen, and a throttler to prunes away excess candidates. We now can define the `CandidateExtractor` with the contexts to extract from, the matchers, and the throttler to use. "
   ]
  },
  {
   "cell_type": "code",
   "execution_count": 15,
   "metadata": {
    "scrolled": false
   },
   "outputs": [
    {
     "name": "stdout",
     "output_type": "stream",
     "text": [
      "Clearing existing...\n",
      "Running UDF...\n",
      "[========================================] 100%06%\n",
      "\n",
      "CPU times: user 18.7 s, sys: 1.86 s, total: 20.5 s\n",
      "Wall time: 1min 19s\n"
     ]
    }
   ],
   "source": [
    "from snorkel.candidates import CandidateExtractor\n",
    "\n",
    "\n",
    "candidate_extractor = CandidateExtractor(Part_Attr, \n",
    "                        [part_ngrams, attr_ngrams], \n",
    "                        [part_matcher, attr_matcher], \n",
    "                        candidate_filter=candidate_filter)\n",
    "\n",
    "%time candidate_extractor.apply(train_docs, split=0)"
   ]
  },
  {
   "cell_type": "markdown",
   "metadata": {},
   "source": [
    "Here we specified that these `Candidates` belong to the training set by specifying `split=0`; recall that we're referring to train/dev/test as splits 0/1/2."
   ]
  },
  {
   "cell_type": "code",
   "execution_count": 16,
   "metadata": {},
   "outputs": [
    {
     "name": "stdout",
     "output_type": "stream",
     "text": [
      "Number of candidates: 11503\n"
     ]
    }
   ],
   "source": [
    "train_cands = session.query(Part_Attr).filter(Part_Attr.split == 0).all()\n",
    "print \"Number of candidates:\", len(train_cands)"
   ]
  },
  {
   "cell_type": "markdown",
   "metadata": {},
   "source": [
    "### Repeating for development and test splits\n",
    "Finally, we rerun the same operation for the other two document divisions: dev and test. For each, we simply load the `Corpus` object and run them through the `CandidateExtractor`."
   ]
  },
  {
   "cell_type": "code",
   "execution_count": 17,
   "metadata": {},
   "outputs": [
    {
     "name": "stdout",
     "output_type": "stream",
     "text": [
      "Clearing existing...\n",
      "Running UDF...\n",
      "[========================================] 100%==============] 150%\n",
      "\n",
      "Number of candidates: 180\n",
      "Clearing existing...\n",
      "Running UDF...\n",
      "[========================================] 100%==============] 150%\n",
      "\n",
      "Number of candidates: 1120\n",
      "CPU times: user 3.14 s, sys: 296 ms, total: 3.44 s\n",
      "Wall time: 10.7 s\n"
     ]
    }
   ],
   "source": [
    "%%time\n",
    "for i, docs in enumerate([dev_docs, test_docs]):\n",
    "    candidate_extractor.apply(docs, split=i+1)\n",
    "    print \"Number of candidates:\", session.query(Part_Attr).filter(Part_Attr.split == i+1).count()"
   ]
  },
  {
   "cell_type": "markdown",
   "metadata": {},
   "source": [
    "## 2.2 Multimodal Featurization\n",
    "Unlike dealing with plain unstructured text, `Fonduer` deals with richly formatted data, and consequently featurizes each candidate with a baseline library of multimodal features. \n",
    "\n",
    "### Featurize with `Fonduer`'s optimized Postgres Feature Annotator\n",
    "We now annotate the candidates in our training, dev, and test sets with features. The `BatchFeatureAnnotator` provided by `Fonduer` allows this to be done in parallel to improve performance.\n",
    "\n",
    "`featurizer.apply` takes three important arguments.\n",
    "* `split` defines which candidate set wer are dealing with. For example, `split=0` is the training set.\n",
    "* `replace_key_set` determine whether or not replace, or reinitialize, the set of features to apply to candidates. That is, when `replace_key_set` is true, key set of features will be replaced with the key set of the features found in the split that is being processed.\n",
    "* `parallelism` determines how many processes to run in parallel.\n",
    "\n",
    "Notices that `replace_key_set=True` only for the first call to `featurizer.apply`, while the other calls have this parameter set to `False`. This is because we want to have the set of features we label candidates with defined by the features found in the set of training documents only. If a later call to `featurizer.apply` replaced the key set, then only the features of that particular split would be considered later in the pipeline."
   ]
  },
  {
   "cell_type": "code",
   "execution_count": 18,
   "metadata": {
    "scrolled": false
   },
   "outputs": [
    {
     "name": "stdout",
     "output_type": "stream",
     "text": [
      "Clearing existing...\n",
      "Running UDF...\n",
      "Copying part_attr_feature to postgres\n",
      "COPY 11503\n",
      "\n",
      "CPU times: user 10.5 s, sys: 156 ms, total: 10.7 s\n",
      "Wall time: 2min 4s\n",
      "(11503, 8018)\n",
      "Clearing existing...\n",
      "Running UDF...\n",
      "Copying part_attr_feature_updates to postgres\n",
      "COPY 180\n",
      "\n",
      "CPU times: user 172 ms, sys: 96 ms, total: 268 ms\n",
      "Wall time: 5.86 s\n",
      "(180, 8018)\n",
      "Clearing existing...\n",
      "Running UDF...\n",
      "Copying part_attr_feature_updates to postgres\n",
      "COPY 1120\n",
      "\n",
      "CPU times: user 1.05 s, sys: 108 ms, total: 1.16 s\n",
      "Wall time: 15.3 s\n",
      "(1120, 8018)\n"
     ]
    }
   ],
   "source": [
    "from snorkel.contrib.fonduer import BatchFeatureAnnotator\n",
    "\n",
    "featurizer = BatchFeatureAnnotator(Part_Attr)\n",
    "%time F_train = featurizer.apply(split=0, replace_key_set=True, parallelism=PARALLEL)\n",
    "print F_train.shape\n",
    "%time F_dev = featurizer.apply(split=1, replace_key_set=False, parallelism=PARALLEL)\n",
    "print F_dev.shape\n",
    "%time F_test = featurizer.apply(split=2, replace_key_set=False, parallelism=PARALLEL)\n",
    "print F_test.shape"
   ]
  },
  {
   "cell_type": "markdown",
   "metadata": {},
   "source": [
    "At the end of this phase, `Fonduer` has generated the set of candidates and the feature matrix. Note that Phase 1 and 2 are relatively static and typically are only executed once during the KBC process.\n",
    "\n",
    "# Phase 3: Probabilistic Relation Classification\n",
    "In this phase, `Fonduer` applies user-defined **labeling functions**, which express various heuristics, patterns, and [weak supervision](http://hazyresearch.github.io/snorkel/blog/weak_supervision.html) strategies to label our data, to each of the candidates to create a label matrix that is used by our data programming engine.\n",
    "\n",
    "In the wild, hand-labeled training data is rare and expensive. A common scenario is to have access to tons of unlabeled training data, and have some idea of how to label them programmatically. For example:\n",
    "* We may be able to think of text patterns that would indicate a part and polarity mention are related, for example the word \"temperature\" appearing between them.\n",
    "* We may have access to an external knowledge base that lists some pairs of parts and polarities, and can use these to noisily label some of our mention pairs.\n",
    "Our labeling functions will capture these types of strategies. We know that these labeling functions will not be perfect, and some may be quite low-quality, so we will model their accuracies with a generative model, which `Fonduer` will help us easily apply.\n",
    "\n",
    "Using data programming, we can then train machine learning models to learn which features are the most important in classifying candidates.\n",
    "\n",
    "### Loading Gold Data\n",
    "For convenience in error analysis and evaluation, we have already annotated the dev and test set for this tutorial, and we'll now load it using an externally-defined helper function.\n",
    "\n",
    "Loading and saving external \"gold\" labels can be a bit messy, but is often a critical part of development, especially when gold labels are expensive and/or time-consuming to obtain. Snorkel stores all labels that are manually annotated in a **stable** format (called StableLabels), which is somewhat independent from the rest of Snorkel's data model, does not get deleted when you delete the candidates, corpus, or any other objects, and can be recovered even if the rest of the data changes or is deleted.\n",
    "\n",
    "Our general procedure with external labels is to load them into the `StableLabel` table, then use `Fonduer`'s helpers to load them into the main data model from there. If interested in example implementation details, please see the script we now load:"
   ]
  },
  {
   "cell_type": "code",
   "execution_count": 19,
   "metadata": {},
   "outputs": [
    {
     "name": "stdout",
     "output_type": "stream",
     "text": [
      "Loading 12803 candidate labels\n",
      "[========================================] 100%\n",
      "\n",
      "AnnotatorLabels created: 12803\n"
     ]
    }
   ],
   "source": [
    "from hardware_utils import load_hardware_labels\n",
    "\n",
    "gold_file = os.environ['SNORKELHOME'] + '/tutorials/fonduer/hardware/data/hardware_tutorial_gold.csv'\n",
    "load_hardware_labels(session, Part_Attr, gold_file, ATTRIBUTE ,annotator_name='gold')"
   ]
  },
  {
   "cell_type": "markdown",
   "metadata": {},
   "source": [
    "### Creating Labeling Functions\n",
    "\n",
    "In `Fonduer`, our primary interface through which we provide training signal to the end extraction model we are training is by writing labeling functions (**LFs**) (as opposed to hand-labeling massive training sets).\n",
    "\n",
    "A labeling function isn't anything special. It's just a Python function that accepts a `Candidate` as the input argument and returns `1` if it says the Candidate should be marked as true, `-1` if it says the `Candidate` should be marked as false, and `0` if it doesn't know how to vote and abstains. In practice, many labeling functions are unipolar: it labels only 1s and 0s, or it labels only -1s and 0s.\n",
    "\n",
    "Recall that our goal is ultimately to train a high-performance classification model that predicts which of our Candidates are true mentions of maximum storage temperature relations. It turns out that we can do this by writing potentially low-quality labeling functions!\n",
    "\n",
    "With `Fonduer`, labeling functions can be written using intuitive patterns discovered by inspecting the target corpus. A library of labeling function helpers can be found in `snorkel.contrib.fonduer.lf_helpers`. \n",
    "\n",
    "For example, inspecting several document may reveal that storage temperatures are typically listed inside a table where the row header contains the word \"storage\". This intuitive pattern can be directly expressed as a labeling function. Similarly, the word \"temperature\" is an obvious positive signal."
   ]
  },
  {
   "cell_type": "code",
   "execution_count": 20,
   "metadata": {
    "collapsed": true
   },
   "outputs": [],
   "source": [
    "from snorkel.contrib.fonduer.lf_helpers import *\n",
    "import re\n",
    "\n",
    "def LF_storage_row(c):\n",
    "    return 1 if 'storage' in get_row_ngrams(c.attr) else 0\n",
    "\n",
    "def LF_temperature_row(c):\n",
    "    return 1 if 'temperature' in get_row_ngrams(c.attr) else 0"
   ]
  },
  {
   "cell_type": "markdown",
   "metadata": {},
   "source": [
    "We express several of these simple patterns below as a set of labeling functions:"
   ]
  },
  {
   "cell_type": "code",
   "execution_count": 21,
   "metadata": {
    "collapsed": true
   },
   "outputs": [],
   "source": [
    "def LF_operating_row(c):\n",
    "    return 1 if 'operating' in get_row_ngrams(c.attr) else 0\n",
    "\n",
    "def LF_tstg_row(c):\n",
    "    return 1 if overlap(\n",
    "        ['tstg','stg','ts'], \n",
    "        list(get_row_ngrams(c.attr))) else 0\n",
    "\n",
    "\n",
    "def LF_to_left(c):\n",
    "    return 1 if 'to' in get_left_ngrams(c.attr, window=2) else 0\n",
    "\n",
    "def LF_negative_number_left(c):\n",
    "    return 1 if any([re.match(r'-\\s*\\d+', ngram) for ngram in get_left_ngrams(c.attr, window=4)]) else 0"
   ]
  },
  {
   "cell_type": "markdown",
   "metadata": {},
   "source": [
    "Then, we collect all of the labeling function we would like to use into a single list, which is provided as input to the `LabelAnnotator`."
   ]
  },
  {
   "cell_type": "code",
   "execution_count": 22,
   "metadata": {
    "collapsed": true
   },
   "outputs": [],
   "source": [
    "stg_temp_lfs = [\n",
    "    LF_storage_row,\n",
    "    LF_operating_row,\n",
    "    LF_temperature_row,\n",
    "    LF_tstg_row,\n",
    "    LF_to_left,\n",
    "    LF_negative_number_left\n",
    "]"
   ]
  },
  {
   "cell_type": "markdown",
   "metadata": {},
   "source": [
    "### Applying the Labeling Functions\n",
    "\n",
    "Next, we need to actually run the LFs over all of our training candidates, producing a set of `Labels` and `LabelKeys` (just the names of the LFs) in the database. We'll do this using the `LabelAnnotator` class, a `UDF` which we will again run with `UDFRunner`. Note that this will delete any existing `Labels` and `LabelKeys` for this candidate set. Also note that we are using `Fonduer`'s optimized batch label annotator, which runs in parallel and depends on having Postgres as the backend database. \n",
    "\n",
    "By default, `labeler.apply` will drop the existing table of labeling functions and the label values for each candidate. However, this behavior can be controlled by three parameters to the function to imperove iteration performance and reduce redundant computation:\n",
    "- `split` defines which set to operate on (e.g. train, dev, or test)\n",
    "- `clear` can be `True` or `False`, and is `True` by default. When set to `False`, the labeling functioni table is not dropped, and the behavior of `labeler.apply` is defined by the following two parameters.\n",
    "- `update_keys` can be `True` or `False`. When `True`, the keys (which are each labeling function) are updated according to the set of labeling functions provided to the function. This should be set to `True` if new labeling functions are added. When `False`, no new LFs are evaluated and the keys of existing LFs remain the same.\n",
    "- `update_values` can be `True` or `False`. This defines how to resolve conflicts. When `True`, the values assigned to each candiate is updated to the new values when in conflict. This should be set to `True` if labeling function logic is edited, even though the name of the labeling function remains the same. When `False`, the existing labels assigned to each candidate are used, and newly computed labels are ignored.\n",
    "- `parallelism` is the amount of parallelism to use when labeling.\n",
    "\n",
    "With this in mind, we set `clear=True` when we first apply our labeling functions, and this ensures that the table is created and intialized with proper keys and values.\n",
    "\n",
    "In future iterations, we would typically set `clear=False, update_keys=True, update_values=True` so that we can simply update the set of LFs and their values without recreating the entire table. We will see how this is used later in the tutorial."
   ]
  },
  {
   "cell_type": "code",
   "execution_count": 23,
   "metadata": {},
   "outputs": [
    {
     "name": "stdout",
     "output_type": "stream",
     "text": [
      "Clearing existing...\n",
      "Running UDF...\n",
      "Copying part_attr_label to postgres\n",
      "COPY 11503\n",
      "\n",
      "CPU times: user 596 ms, sys: 112 ms, total: 708 ms\n",
      "Wall time: 1min 39s\n",
      "(11503, 6)\n"
     ]
    }
   ],
   "source": [
    "from snorkel.contrib.fonduer import BatchLabelAnnotator\n",
    "\n",
    "labeler = BatchLabelAnnotator(Part_Attr, lfs = stg_temp_lfs)\n",
    "%time L_train = labeler.apply(split=0, clear=True, parallelism=PARALLEL)\n",
    "print L_train.shape"
   ]
  },
  {
   "cell_type": "markdown",
   "metadata": {},
   "source": [
    "Note that the returned matrix is a special subclass of the scipy.sparse.csr_matrix class, with some special features which we demonstrate below:"
   ]
  },
  {
   "cell_type": "code",
   "execution_count": 24,
   "metadata": {},
   "outputs": [
    {
     "data": {
      "text/plain": [
       "Part_Attr(Span(\"BC848CW\", sentence=39424, chars=[13,19], words=[3,3]), ImplicitSpan(\"200\", sentence=54110, words=[0,0], position=[0]))"
      ]
     },
     "execution_count": 24,
     "metadata": {},
     "output_type": "execute_result"
    }
   ],
   "source": [
    "L_train.get_candidate(session, 0)"
   ]
  },
  {
   "cell_type": "markdown",
   "metadata": {},
   "source": [
    "We can also view statistics about the resulting label matrix.\n",
    "* **Coverage** is the fraction of candidates that the labeling function emits a non-zero label for.\n",
    "* **Overlap** is the fraction candidates that the labeling function emits a non-zero label for and that another labeling function emits a non-zero label for.\n",
    "* **Conflict** is the fraction candidates that the labeling function emits a non-zero label for and that another labeling function emits a conflicting non-zero label for.\n",
    "\n",
    "In addition, because we have already loaded the gold labels, we can view the emperical accuracy of these labeling functions when compared to our gold labels:"
   ]
  },
  {
   "cell_type": "code",
   "execution_count": 25,
   "metadata": {},
   "outputs": [
    {
     "name": "stdout",
     "output_type": "stream",
     "text": [
      "CPU times: user 44 ms, sys: 8 ms, total: 52 ms\n",
      "Wall time: 55.9 ms\n"
     ]
    },
    {
     "data": {
      "text/html": [
       "<div>\n",
       "<table border=\"1\" class=\"dataframe\">\n",
       "  <thead>\n",
       "    <tr style=\"text-align: right;\">\n",
       "      <th></th>\n",
       "      <th>j</th>\n",
       "      <th>Coverage</th>\n",
       "      <th>Overlaps</th>\n",
       "      <th>Conflicts</th>\n",
       "      <th>TP</th>\n",
       "      <th>FP</th>\n",
       "      <th>FN</th>\n",
       "      <th>TN</th>\n",
       "      <th>Empirical Acc.</th>\n",
       "    </tr>\n",
       "  </thead>\n",
       "  <tbody>\n",
       "    <tr>\n",
       "      <th>LF_operating_row</th>\n",
       "      <td>0</td>\n",
       "      <td>0.003738</td>\n",
       "      <td>0.003738</td>\n",
       "      <td>0.0</td>\n",
       "      <td>28</td>\n",
       "      <td>15</td>\n",
       "      <td>0</td>\n",
       "      <td>0</td>\n",
       "      <td>0.651163</td>\n",
       "    </tr>\n",
       "    <tr>\n",
       "      <th>LF_tstg_row</th>\n",
       "      <td>1</td>\n",
       "      <td>0.033209</td>\n",
       "      <td>0.033209</td>\n",
       "      <td>0.0</td>\n",
       "      <td>327</td>\n",
       "      <td>55</td>\n",
       "      <td>0</td>\n",
       "      <td>0</td>\n",
       "      <td>0.856021</td>\n",
       "    </tr>\n",
       "    <tr>\n",
       "      <th>LF_negative_number_left</th>\n",
       "      <td>2</td>\n",
       "      <td>0.035295</td>\n",
       "      <td>0.035295</td>\n",
       "      <td>0.0</td>\n",
       "      <td>357</td>\n",
       "      <td>49</td>\n",
       "      <td>0</td>\n",
       "      <td>0</td>\n",
       "      <td>0.879310</td>\n",
       "    </tr>\n",
       "    <tr>\n",
       "      <th>LF_to_left</th>\n",
       "      <td>3</td>\n",
       "      <td>0.025298</td>\n",
       "      <td>0.025298</td>\n",
       "      <td>0.0</td>\n",
       "      <td>254</td>\n",
       "      <td>37</td>\n",
       "      <td>0</td>\n",
       "      <td>0</td>\n",
       "      <td>0.872852</td>\n",
       "    </tr>\n",
       "    <tr>\n",
       "      <th>LF_temperature_row</th>\n",
       "      <td>4</td>\n",
       "      <td>0.056594</td>\n",
       "      <td>0.035121</td>\n",
       "      <td>0.0</td>\n",
       "      <td>579</td>\n",
       "      <td>72</td>\n",
       "      <td>0</td>\n",
       "      <td>0</td>\n",
       "      <td>0.889401</td>\n",
       "    </tr>\n",
       "    <tr>\n",
       "      <th>LF_storage_row</th>\n",
       "      <td>5</td>\n",
       "      <td>0.034426</td>\n",
       "      <td>0.034426</td>\n",
       "      <td>0.0</td>\n",
       "      <td>341</td>\n",
       "      <td>55</td>\n",
       "      <td>0</td>\n",
       "      <td>0</td>\n",
       "      <td>0.861111</td>\n",
       "    </tr>\n",
       "  </tbody>\n",
       "</table>\n",
       "</div>"
      ],
      "text/plain": [
       "                         j  Coverage  Overlaps  Conflicts   TP  FP  FN  TN  \\\n",
       "LF_operating_row         0  0.003738  0.003738        0.0   28  15   0   0   \n",
       "LF_tstg_row              1  0.033209  0.033209        0.0  327  55   0   0   \n",
       "LF_negative_number_left  2  0.035295  0.035295        0.0  357  49   0   0   \n",
       "LF_to_left               3  0.025298  0.025298        0.0  254  37   0   0   \n",
       "LF_temperature_row       4  0.056594  0.035121        0.0  579  72   0   0   \n",
       "LF_storage_row           5  0.034426  0.034426        0.0  341  55   0   0   \n",
       "\n",
       "                         Empirical Acc.  \n",
       "LF_operating_row               0.651163  \n",
       "LF_tstg_row                    0.856021  \n",
       "LF_negative_number_left        0.879310  \n",
       "LF_to_left                     0.872852  \n",
       "LF_temperature_row             0.889401  \n",
       "LF_storage_row                 0.861111  "
      ]
     },
     "execution_count": 25,
     "metadata": {},
     "output_type": "execute_result"
    }
   ],
   "source": [
    "from snorkel.annotations import load_gold_labels\n",
    "L_gold_train = load_gold_labels(session, annotator_name='gold', split=0)\n",
    "%time L_train.lf_stats(L_gold_train)"
   ]
  },
  {
   "cell_type": "markdown",
   "metadata": {},
   "source": [
    "### Fitting the Generative Model\n",
    "\n",
    "Now, we'll train a model of the LFs to estimate their accuracies. Once the model is trained, we can combine the outputs of the LFs into a single, noise-aware training label set for our extractor. Intuitively, we'll model the LFs by observing how they overlap and conflict with each other."
   ]
  },
  {
   "cell_type": "code",
   "execution_count": 26,
   "metadata": {},
   "outputs": [
    {
     "name": "stderr",
     "output_type": "stream",
     "text": [
      "/home/lwhsiao/repos/snorkel/.virtualenv/local/lib/python2.7/site-packages/matplotlib/__init__.py:1401: UserWarning:  This call to matplotlib.use() has no effect\n",
      "because the backend has already been chosen;\n",
      "matplotlib.use() must be called *before* pylab, matplotlib.pyplot,\n",
      "or matplotlib.backends is imported for the first time.\n",
      "\n",
      "  warnings.warn(_use_error_msg)\n"
     ]
    },
    {
     "name": "stdout",
     "output_type": "stream",
     "text": [
      "CPU times: user 1min 50s, sys: 56 ms, total: 1min 50s\n",
      "Wall time: 1min 50s\n"
     ]
    }
   ],
   "source": [
    "from snorkel.learning import GenerativeModel\n",
    "\n",
    "gen_model = GenerativeModel()\n",
    "%time gen_model.train(L_train, epochs=500, decay=0.9, step_size=0.001/L_train.shape[0], reg_param=0)"
   ]
  },
  {
   "cell_type": "markdown",
   "metadata": {},
   "source": [
    "We now apply the generative model to the training candidates to get the noise-aware training label set. We'll refer to these as the training marginals:"
   ]
  },
  {
   "cell_type": "code",
   "execution_count": 27,
   "metadata": {
    "collapsed": true
   },
   "outputs": [],
   "source": [
    "train_marginals = gen_model.marginals(L_train)"
   ]
  },
  {
   "cell_type": "markdown",
   "metadata": {},
   "source": [
    "We'll look at the distribution of the training marginals:"
   ]
  },
  {
   "cell_type": "code",
   "execution_count": 28,
   "metadata": {},
   "outputs": [
    {
     "data": {
      "image/png": "[encoded data removed]",
      "text/plain": [
       "<matplotlib.figure.Figure at 0x7f52b8e44fd0>"
      ]
     },
     "metadata": {},
     "output_type": "display_data"
    }
   ],
   "source": [
    "import matplotlib.pyplot as plt\n",
    "plt.hist(train_marginals, bins=20)\n",
    "plt.show()"
   ]
  },
  {
   "cell_type": "markdown",
   "metadata": {},
   "source": [
    "We can view the learned accuracy parameters as well."
   ]
  },
  {
   "cell_type": "code",
   "execution_count": 29,
   "metadata": {},
   "outputs": [
    {
     "data": {
      "text/plain": [
       "array([ 0.72880851,  0.72893558,  0.72893421,  0.72890228,  0.72899091,\n",
       "        0.72893146])"
      ]
     },
     "execution_count": 29,
     "metadata": {},
     "output_type": "execute_result"
    }
   ],
   "source": [
    "gen_model.weights.lf_accuracy()"
   ]
  },
  {
   "cell_type": "markdown",
   "metadata": {
    "scrolled": true
   },
   "source": [
    "### Using the Model to Iterate on Labeling Functions\n",
    "\n",
    "Now that we have learned the generative model, we can stop here and use this to potentially debug and/or improve our labeling function set. First, we apply the LFs to our development set:"
   ]
  },
  {
   "cell_type": "code",
   "execution_count": 30,
   "metadata": {},
   "outputs": [
    {
     "name": "stdout",
     "output_type": "stream",
     "text": [
      "Clearing existing...\n",
      "Running UDF...\n",
      "[========================================] 100%====] 125%\n",
      "\n",
      "Copying part_attr_label_updates to postgres\n",
      "COPY 180\n",
      "\n"
     ]
    }
   ],
   "source": [
    "L_dev = labeler.apply_existing(split=1)"
   ]
  },
  {
   "cell_type": "markdown",
   "metadata": {},
   "source": [
    "Then, we get the score of the generative model:"
   ]
  },
  {
   "cell_type": "code",
   "execution_count": 31,
   "metadata": {},
   "outputs": [
    {
     "name": "stdout",
     "output_type": "stream",
     "text": [
      "========================================\n",
      "Scores (Un-adjusted)\n",
      "========================================\n",
      "Pos. class accuracy: 0.326\n",
      "Neg. class accuracy: 0.968\n",
      "Precision            0.903\n",
      "Recall               0.326\n",
      "F1                   0.479\n",
      "----------------------------------------\n",
      "TP: 28 | FP: 3 | TN: 91 | FN: 58\n",
      "========================================\n",
      "\n"
     ]
    }
   ],
   "source": [
    "from snorkel.annotations import load_gold_labels\n",
    "L_gold_dev = load_gold_labels(session, annotator_name='gold', split=1)\n",
    "tp, fp, tn, fn = gen_model.score(session, L_dev, L_gold_dev)"
   ]
  },
  {
   "cell_type": "markdown",
   "metadata": {},
   "source": [
    "We can also view statistics about the labeling function's learned accuracy and compare them to the emperical accuracy."
   ]
  },
  {
   "cell_type": "code",
   "execution_count": 32,
   "metadata": {},
   "outputs": [
    {
     "data": {
      "text/html": [
       "<div>\n",
       "<table border=\"1\" class=\"dataframe\">\n",
       "  <thead>\n",
       "    <tr style=\"text-align: right;\">\n",
       "      <th></th>\n",
       "      <th>j</th>\n",
       "      <th>Coverage</th>\n",
       "      <th>Overlaps</th>\n",
       "      <th>Conflicts</th>\n",
       "      <th>TP</th>\n",
       "      <th>FP</th>\n",
       "      <th>FN</th>\n",
       "      <th>TN</th>\n",
       "      <th>Empirical Acc.</th>\n",
       "      <th>Learned Acc.</th>\n",
       "    </tr>\n",
       "  </thead>\n",
       "  <tbody>\n",
       "    <tr>\n",
       "      <th>LF_operating_row</th>\n",
       "      <td>0</td>\n",
       "      <td>0.150000</td>\n",
       "      <td>0.150000</td>\n",
       "      <td>0.0</td>\n",
       "      <td>24</td>\n",
       "      <td>3</td>\n",
       "      <td>0</td>\n",
       "      <td>0</td>\n",
       "      <td>0.888889</td>\n",
       "      <td>0.728809</td>\n",
       "    </tr>\n",
       "    <tr>\n",
       "      <th>LF_tstg_row</th>\n",
       "      <td>1</td>\n",
       "      <td>0.161111</td>\n",
       "      <td>0.161111</td>\n",
       "      <td>0.0</td>\n",
       "      <td>26</td>\n",
       "      <td>3</td>\n",
       "      <td>0</td>\n",
       "      <td>0</td>\n",
       "      <td>0.896552</td>\n",
       "      <td>0.728936</td>\n",
       "    </tr>\n",
       "    <tr>\n",
       "      <th>LF_negative_number_left</th>\n",
       "      <td>2</td>\n",
       "      <td>0.172222</td>\n",
       "      <td>0.172222</td>\n",
       "      <td>0.0</td>\n",
       "      <td>28</td>\n",
       "      <td>3</td>\n",
       "      <td>0</td>\n",
       "      <td>0</td>\n",
       "      <td>0.903226</td>\n",
       "      <td>0.728934</td>\n",
       "    </tr>\n",
       "    <tr>\n",
       "      <th>LF_to_left</th>\n",
       "      <td>3</td>\n",
       "      <td>0.172222</td>\n",
       "      <td>0.172222</td>\n",
       "      <td>0.0</td>\n",
       "      <td>28</td>\n",
       "      <td>3</td>\n",
       "      <td>0</td>\n",
       "      <td>0</td>\n",
       "      <td>0.903226</td>\n",
       "      <td>0.728902</td>\n",
       "    </tr>\n",
       "    <tr>\n",
       "      <th>LF_temperature_row</th>\n",
       "      <td>4</td>\n",
       "      <td>0.172222</td>\n",
       "      <td>0.172222</td>\n",
       "      <td>0.0</td>\n",
       "      <td>28</td>\n",
       "      <td>3</td>\n",
       "      <td>0</td>\n",
       "      <td>0</td>\n",
       "      <td>0.903226</td>\n",
       "      <td>0.728991</td>\n",
       "    </tr>\n",
       "    <tr>\n",
       "      <th>LF_storage_row</th>\n",
       "      <td>5</td>\n",
       "      <td>0.161111</td>\n",
       "      <td>0.161111</td>\n",
       "      <td>0.0</td>\n",
       "      <td>26</td>\n",
       "      <td>3</td>\n",
       "      <td>0</td>\n",
       "      <td>0</td>\n",
       "      <td>0.896552</td>\n",
       "      <td>0.728931</td>\n",
       "    </tr>\n",
       "  </tbody>\n",
       "</table>\n",
       "</div>"
      ],
      "text/plain": [
       "                         j  Coverage  Overlaps  Conflicts  TP  FP  FN  TN  \\\n",
       "LF_operating_row         0  0.150000  0.150000        0.0  24   3   0   0   \n",
       "LF_tstg_row              1  0.161111  0.161111        0.0  26   3   0   0   \n",
       "LF_negative_number_left  2  0.172222  0.172222        0.0  28   3   0   0   \n",
       "LF_to_left               3  0.172222  0.172222        0.0  28   3   0   0   \n",
       "LF_temperature_row       4  0.172222  0.172222        0.0  28   3   0   0   \n",
       "LF_storage_row           5  0.161111  0.161111        0.0  26   3   0   0   \n",
       "\n",
       "                         Empirical Acc.  Learned Acc.  \n",
       "LF_operating_row               0.888889      0.728809  \n",
       "LF_tstg_row                    0.896552      0.728936  \n",
       "LF_negative_number_left        0.903226      0.728934  \n",
       "LF_to_left                     0.903226      0.728902  \n",
       "LF_temperature_row             0.903226      0.728991  \n",
       "LF_storage_row                 0.896552      0.728931  "
      ]
     },
     "execution_count": 32,
     "metadata": {},
     "output_type": "execute_result"
    }
   ],
   "source": [
    "L_dev.lf_stats(L_gold_dev, gen_model.weights.lf_accuracy())"
   ]
  },
  {
   "cell_type": "markdown",
   "metadata": {},
   "source": [
    "### Interpreting Generative Model Performance\n",
    "\n",
    "At this point, we should be getting an F1 score of around 0.6 to 0.7 on the development set, which is pretty good! However, we should be very careful in interpreting this. Since we developed our labeling functions using this development set as a guide, and our generative model is composed of these labeling functions, we expect it to score very well here!\n",
    "\n",
    "In fact, it is probably somewhat overfit to this set. However this is fine, since in the next, we'll train a more powerful end extraction model which will generalize beyond the development set, and which we will evaluate on a blind test set (i.e. one we never looked at during development).\n",
    "\n",
    "\n",
    "### Training the Discriminative Model\n",
    "\n",
    "Now, we'll use the noisy training labels we generated in the last part to train our end extraction model. For this tutorial, we will be training a simple - but fairly effective - logistic regression model.\n",
    "\n",
    "We use the training marginals to train a discriminative model that classifies each Candidate as a true or false mention. "
   ]
  },
  {
   "cell_type": "code",
   "execution_count": 33,
   "metadata": {},
   "outputs": [
    {
     "name": "stdout",
     "output_type": "stream",
     "text": [
      "[SparseLR] lr=0.001 l1=0.0 l2=0.0\n",
      "[SparseLR] Building model\n",
      "[SparseLR] Training model\n",
      "[SparseLR] #examples=659  #epochs=200  batch size=100\n",
      "[SparseLR] Epoch 0 (0.14s)\tAvg. loss=0.851875\tNNZ=8018\n",
      "[SparseLR] Epoch 5 (0.78s)\tAvg. loss=0.193243\tNNZ=8018\n",
      "[SparseLR] Epoch 10 (1.23s)\tAvg. loss=0.168125\tNNZ=8018\n",
      "[SparseLR] Epoch 15 (1.77s)\tAvg. loss=0.159892\tNNZ=8018\n",
      "[SparseLR] Epoch 20 (2.30s)\tAvg. loss=0.155062\tNNZ=8018\n",
      "[SparseLR] Epoch 25 (3.09s)\tAvg. loss=0.151808\tNNZ=8018\n",
      "[SparseLR] Epoch 30 (3.76s)\tAvg. loss=0.149518\tNNZ=8018\n",
      "[SparseLR] Epoch 35 (4.43s)\tAvg. loss=0.147848\tNNZ=8018\n",
      "[SparseLR] Epoch 40 (5.10s)\tAvg. loss=0.146593\tNNZ=8018\n",
      "[SparseLR] Epoch 45 (6.22s)\tAvg. loss=0.145623\tNNZ=8018\n",
      "[SparseLR] Epoch 50 (6.95s)\tAvg. loss=0.144857\tNNZ=8018\n",
      "[SparseLR] Epoch 55 (7.63s)\tAvg. loss=0.144239\tNNZ=8018\n",
      "[SparseLR] Epoch 60 (8.12s)\tAvg. loss=0.143732\tNNZ=8018\n",
      "[SparseLR] Epoch 65 (8.60s)\tAvg. loss=0.143311\tNNZ=8018\n",
      "[SparseLR] Epoch 70 (9.09s)\tAvg. loss=0.142957\tNNZ=8018\n",
      "[SparseLR] Epoch 75 (9.57s)\tAvg. loss=0.142657\tNNZ=8018\n",
      "[SparseLR] Epoch 80 (10.04s)\tAvg. loss=0.142400\tNNZ=8018\n",
      "[SparseLR] Epoch 85 (10.96s)\tAvg. loss=0.142178\tNNZ=8018\n",
      "[SparseLR] Epoch 90 (11.44s)\tAvg. loss=0.141986\tNNZ=8018\n",
      "[SparseLR] Epoch 95 (12.16s)\tAvg. loss=0.141818\tNNZ=8018\n",
      "[SparseLR] Epoch 100 (12.64s)\tAvg. loss=0.141670\tNNZ=8018\n",
      "[SparseLR] Epoch 105 (13.12s)\tAvg. loss=0.141540\tNNZ=8018\n",
      "[SparseLR] Epoch 110 (13.60s)\tAvg. loss=0.141425\tNNZ=8018\n",
      "[SparseLR] Epoch 115 (14.08s)\tAvg. loss=0.141322\tNNZ=8018\n",
      "[SparseLR] Epoch 120 (14.87s)\tAvg. loss=0.141230\tNNZ=8018\n",
      "[SparseLR] Epoch 125 (15.62s)\tAvg. loss=0.141147\tNNZ=8018\n",
      "[SparseLR] Epoch 130 (16.11s)\tAvg. loss=0.141073\tNNZ=8018\n",
      "[SparseLR] Epoch 135 (16.78s)\tAvg. loss=0.141005\tNNZ=8018\n",
      "[SparseLR] Epoch 140 (17.48s)\tAvg. loss=0.140944\tNNZ=8018\n",
      "[SparseLR] Epoch 145 (18.40s)\tAvg. loss=0.140888\tNNZ=8018\n",
      "[SparseLR] Epoch 150 (19.06s)\tAvg. loss=0.140838\tNNZ=8018\n",
      "[SparseLR] Epoch 155 (19.59s)\tAvg. loss=0.140791\tNNZ=8018\n",
      "[SparseLR] Epoch 160 (20.31s)\tAvg. loss=0.140749\tNNZ=8018\n",
      "[SparseLR] Epoch 165 (21.14s)\tAvg. loss=0.140710\tNNZ=8018\n",
      "[SparseLR] Epoch 170 (21.83s)\tAvg. loss=0.140673\tNNZ=8018\n",
      "[SparseLR] Epoch 175 (22.55s)\tAvg. loss=0.140640\tNNZ=8018\n",
      "[SparseLR] Epoch 180 (23.19s)\tAvg. loss=0.140609\tNNZ=8018\n",
      "[SparseLR] Epoch 185 (23.67s)\tAvg. loss=0.140581\tNNZ=8018\n",
      "[SparseLR] Epoch 190 (24.40s)\tAvg. loss=0.140554\tNNZ=8018\n",
      "[SparseLR] Epoch 195 (25.20s)\tAvg. loss=0.140529\tNNZ=8018\n",
      "[SparseLR] Epoch 199 (25.84s)\tAvg. loss=0.140511\tNNZ=8018\n",
      "[SparseLR] Training done (25.84s)\n",
      "CPU times: user 28.7 s, sys: 440 ms, total: 29.2 s\n",
      "Wall time: 26.4 s\n"
     ]
    }
   ],
   "source": [
    "from snorkel.learning import SparseLogisticRegression\n",
    "\n",
    "disc_model = SparseLogisticRegression()\n",
    "%time disc_model.train(F_train, train_marginals, n_epochs=200, lr=0.001)"
   ]
  },
  {
   "cell_type": "markdown",
   "metadata": {},
   "source": [
    "### Evaluating on the Test Set\n",
    "In this final section, we'll get the score we've been after: the performance of the extraction model on the blind test set (split 2). First, we load the test set labels and gold candidates from earlier:"
   ]
  },
  {
   "cell_type": "code",
   "execution_count": 34,
   "metadata": {
    "collapsed": true
   },
   "outputs": [],
   "source": [
    "from snorkel.annotations import load_gold_labels\n",
    "L_gold_test = load_gold_labels(session, annotator_name='gold', split=2)"
   ]
  },
  {
   "cell_type": "markdown",
   "metadata": {
    "scrolled": true
   },
   "source": [
    "Now, we score using the discriminitive model:"
   ]
  },
  {
   "cell_type": "code",
   "execution_count": 35,
   "metadata": {
    "scrolled": false
   },
   "outputs": [
    {
     "name": "stdout",
     "output_type": "stream",
     "text": [
      "========================================\n",
      "Scores (Un-adjusted)\n",
      "========================================\n",
      "Pos. class accuracy: 0.967\n",
      "Neg. class accuracy: 0.00245\n",
      "Precision            0.264\n",
      "Recall               0.967\n",
      "F1                   0.415\n",
      "----------------------------------------\n",
      "TP: 293 | FP: 815 | TN: 2 | FN: 10\n",
      "========================================\n",
      "\n"
     ]
    }
   ],
   "source": [
    "tp, fp, tn, fn = disc_model.score(session, F_test, L_gold_test)"
   ]
  },
  {
   "cell_type": "code",
   "execution_count": 36,
   "metadata": {},
   "outputs": [
    {
     "name": "stdout",
     "output_type": "stream",
     "text": [
      "Preparing candidates...\n",
      "[========================================] 100%\n",
      "\n",
      "========================================\n",
      "Scoring on Entity-Level Gold Data\n",
      "========================================\n",
      "Corpus Precision 0.329\n",
      "Corpus Recall    1.0\n",
      "Corpus F1        0.495\n",
      "----------------------------------------\n",
      "TP: 27 | FP: 55 | FN: 0\n",
      "========================================\n",
      "\n",
      "CPU times: user 3.05 s, sys: 128 ms, total: 3.18 s\n",
      "Wall time: 3.63 s\n"
     ]
    }
   ],
   "source": [
    "from hardware_utils import entity_level_f1\n",
    "import os\n",
    "\n",
    "import cPickle as pickle\n",
    "pickle_file = os.environ['SNORKELHOME'] + '/tutorials/fonduer/hardware/data/parts_by_doc_dict.pkl'\n",
    "with open(pickle_file, 'r') as f:\n",
    "    parts_by_doc = pickle.load(f)\n",
    "\n",
    "%time (TP, FP, FN) = entity_level_f1(tp.union(fp), gold_file, ATTRIBUTE, test_docs, parts_by_doc=parts_by_doc)"
   ]
  },
  {
   "cell_type": "markdown",
   "metadata": {},
   "source": [
    "# Phase 4:  Error Analysis & Iterative KBC\n",
    "\n",
    "During the development process, we can iteratively improve the quality of our labeling functions through error analysis, without executing the full pipeline as in previous techniques. \n",
    "\n",
    "You may have noticed that our final score is about 50 F1 points. To remedy this and improve our quality, we can perform error analysis to understand what kinds of patterns we may have missed, or what issues exist with our labeling functions. Then, we can edit our set of labeling functions and rerun Phase 3, Probabilistic Relation Classification. \n",
    "\n",
    "## Error Analysis\n",
    "For example, notice that our `entity_level_f1` returns `TP`, `FP`, `FN` sets. We can also see that our recall is high, but we have low precision, so let's look at our false positivies, `FP`."
   ]
  },
  {
   "cell_type": "code",
   "execution_count": 37,
   "metadata": {},
   "outputs": [
    {
     "data": {
      "text/plain": [
       "[(u'BC546-D', u'BC546', u'180'),\n",
       " (u'BC546-D', u'BC546', u'200'),\n",
       " (u'BC546-D', u'BC546B', u'180'),\n",
       " (u'BC546-D', u'BC546B', u'200'),\n",
       " (u'BC546-D', u'BC546BG', u'180'),\n",
       " (u'BC546-D', u'BC546BG', u'200'),\n",
       " (u'BC546-D', u'BC546BRL1', u'180'),\n",
       " (u'BC546-D', u'BC546BRL1', u'200'),\n",
       " (u'BC546-D', u'BC546BRL1G', u'180'),\n",
       " (u'BC546-D', u'BC546BRL1G', u'200'),\n",
       " (u'BC546-D', u'BC546BZL1G', u'180'),\n",
       " (u'BC546-D', u'BC546BZL1G', u'200'),\n",
       " (u'BC546-D', u'BC547', u'180'),\n",
       " (u'BC546-D', u'BC547', u'200'),\n",
       " (u'BC546-D', u'BC547A', u'180'),\n",
       " (u'BC546-D', u'BC547A', u'200'),\n",
       " (u'BC546-D', u'BC547ARL', u'180'),\n",
       " (u'BC546-D', u'BC547ARL', u'200'),\n",
       " (u'BC546-D', u'BC547ARLG', u'180'),\n",
       " (u'BC546-D', u'BC547ARLG', u'200'),\n",
       " (u'BC546-D', u'BC547AZL1G', u'180'),\n",
       " (u'BC546-D', u'BC547AZL1G', u'200'),\n",
       " (u'BC546-D', u'BC547B', u'180'),\n",
       " (u'BC546-D', u'BC547B', u'200'),\n",
       " (u'BC546-D', u'BC547BG', u'180'),\n",
       " (u'BC546-D', u'BC547BG', u'200'),\n",
       " (u'BC546-D', u'BC547BRL1G', u'180'),\n",
       " (u'BC546-D', u'BC547BRL1G', u'200'),\n",
       " (u'BC546-D', u'BC547BZL1G', u'180'),\n",
       " (u'BC546-D', u'BC547BZL1G', u'200'),\n",
       " (u'BC546-D', u'BC547C', u'180'),\n",
       " (u'BC546-D', u'BC547C', u'200'),\n",
       " (u'BC546-D', u'BC547CG', u'180'),\n",
       " (u'BC546-D', u'BC547CG', u'200'),\n",
       " (u'BC546-D', u'BC547CZL1G', u'180'),\n",
       " (u'BC546-D', u'BC547CZL1G', u'200'),\n",
       " (u'BC546-D', u'BC548', u'180'),\n",
       " (u'BC546-D', u'BC548', u'200'),\n",
       " (u'BC546-D', u'BC548B', u'180'),\n",
       " (u'BC546-D', u'BC548B', u'200'),\n",
       " (u'BC546-D', u'BC548BG', u'180'),\n",
       " (u'BC546-D', u'BC548BG', u'200'),\n",
       " (u'BC546-D', u'BC548BRL1G', u'180'),\n",
       " (u'BC546-D', u'BC548BRL1G', u'200'),\n",
       " (u'BC546-D', u'BC548BZL1G', u'180'),\n",
       " (u'BC546-D', u'BC548BZL1G', u'200'),\n",
       " (u'BC546-D', u'BC548C', u'180'),\n",
       " (u'BC546-D', u'BC548C', u'200'),\n",
       " (u'BC546-D', u'BC548CG', u'180'),\n",
       " (u'BC546-D', u'BC548CG', u'200'),\n",
       " (u'BC546-D', u'BC548CZL1G', u'180'),\n",
       " (u'BC546-D', u'BC548CZL1G', u'200'),\n",
       " (u'RECTS01325-1', u'DTC114YCA-1', u'150'),\n",
       " (u'RECTS01325-1', u'DTC114YCA-1', u'200'),\n",
       " (u'RECTS01325-1', u'DTC114YUA', u'200')]"
      ]
     },
     "execution_count": 37,
     "metadata": {},
     "output_type": "execute_result"
    }
   ],
   "source": [
    "FP"
   ]
  },
  {
   "cell_type": "markdown",
   "metadata": {},
   "source": [
    "We can see that there are actually only a few documents that are causing us problems. In particular, we see that `BC546-D` is giving us many false positives. So, let's inspect one of those candidates. "
   ]
  },
  {
   "cell_type": "code",
   "execution_count": 38,
   "metadata": {},
   "outputs": [
    {
     "data": {
      "image/png": "[encoded data removed]",
      "text/plain": [
       "<wand.image.Image: 1656c0a 'PNG' (612x792)>"
      ]
     },
     "metadata": {},
     "output_type": "display_data"
    },
    {
     "data": {
      "image/png": "[encoded data removed]",
      "text/plain": [
       "<wand.image.Image: d72c048 'PNG' (612x792)>"
      ]
     },
     "metadata": {},
     "output_type": "display_data"
    }
   ],
   "source": [
    "from snorkel.contrib.fonduer.visualizer import *\n",
    "from hardware_utils import entity_to_candidates\n",
    "vis = Visualizer(pdf_path)\n",
    "\n",
    "# Get a list of candidates that match the FN[10] entity\n",
    "if 'CI' not in os.environ:\n",
    "    test_cands = session.query(Part_Attr).filter(Part_Attr.split == 2).all()\n",
    "    fp_cands = entity_to_candidates(FP[10], test_cands)\n",
    "    # Display a candidate\n",
    "    vis.display_candidates([fp_cands[0]])"
   ]
  },
  {
   "cell_type": "markdown",
   "metadata": {},
   "source": [
    "Here, the candidates are boxed in blue. We see that the `200` falls within the range of numbers that our matcher for storage temperature allows to match. By inspecting candidates like this, or just by examining the problematic PDFs directly, we can notice some patterns that we can exploit as new labeling functions."
   ]
  },
  {
   "cell_type": "code",
   "execution_count": 39,
   "metadata": {},
   "outputs": [
    {
     "data": {
      "image/png": "[encoded data removed]",
      "text/plain": [
       "<wand.image.Image: 1656c0a 'PNG' (612x792)>"
      ]
     },
     "metadata": {},
     "output_type": "display_data"
    },
    {
     "data": {
      "image/png": "[encoded data removed]",
      "text/plain": [
       "<wand.image.Image: 4ee8742 'PNG' (612x792)>"
      ]
     },
     "metadata": {},
     "output_type": "display_data"
    }
   ],
   "source": [
    "if 'CI' not in os.environ:\n",
    "    # Get a list of candidates that match the FN[10] entity\n",
    "    test_cands = session.query(Part_Attr).filter(Part_Attr.split == 2).all()\n",
    "    fp_cands = entity_to_candidates(FP[40], test_cands)\n",
    "\n",
    "    # # Display this candidate\n",
    "    vis.display_candidates([fp_cands[0]])"
   ]
  },
  {
   "cell_type": "markdown",
   "metadata": {},
   "source": [
    "## Iteratively Improving Labeling Functions\n",
    "\n",
    "From this error analysis, we may notice two important things. First, our original set of labeling functions had no labeling functions that labeled candidates a negative. This resulted in most skewing the models to accept most candidates, and hurt our precision. Second, we have now noticed that we need to focus on negatively labeling numbers that pass through our storage temperature matchers, but are not related to storage temperature.\n",
    "\n",
    "Below are a set of negative labeling functions that capture some of these patterns. For example, we label candidates an negative if the number is aligned with attributes that are not related to storage temperature, if a candidate represents a typical value, rather than a maximum value, if a temperature value is found outside of a table, and other intuitive patterns we noticed when carefully inspecting our false positives."
   ]
  },
  {
   "cell_type": "code",
   "execution_count": 40,
   "metadata": {
    "collapsed": true
   },
   "outputs": [],
   "source": [
    "def LF_test_condition_aligned(c):\n",
    "    return -1 if overlap(\n",
    "        ['test', 'condition'],\n",
    "        list(get_aligned_ngrams(c.attr))) else 0\n",
    "\n",
    "def LF_collector_aligned(c):\n",
    "    return -1 if overlap(\n",
    "        ['collector', 'collector-current', 'collector-base', 'collector-emitter'],\n",
    "        list(get_aligned_ngrams(c.attr))) else 0\n",
    "\n",
    "def LF_current_aligned(c):\n",
    "    ngrams = get_aligned_ngrams(c.attr)\n",
    "    return -1 if overlap(\n",
    "        ['current', 'dc', 'ic'],\n",
    "        list(get_aligned_ngrams(c.attr))) else 0\n",
    "\n",
    "def LF_voltage_row_temp(c):\n",
    "    ngrams = get_aligned_ngrams(c.attr)\n",
    "    return -1 if overlap(\n",
    "        ['voltage', 'cbo', 'ceo', 'ebo', 'v'],\n",
    "        list(get_aligned_ngrams(c.attr))) else 0\n",
    "\n",
    "def LF_voltage_row_part(c):\n",
    "    ngrams = get_aligned_ngrams(c.part)\n",
    "    return -1 if overlap(\n",
    "        ['voltage', 'cbo', 'ceo', 'ebo', 'v'],\n",
    "        list(get_aligned_ngrams(c.attr))) else 0\n",
    "\n",
    "def LF_typ_row(c):\n",
    "    return -1 if overlap(\n",
    "        ['typ', 'typ.'],\n",
    "        list(get_row_ngrams(c.attr))) else 0\n",
    "\n",
    "def LF_complement_left_row(c):\n",
    "    return -1 if (\n",
    "        overlap(['complement','complementary'], \n",
    "        chain.from_iterable([get_row_ngrams(c.part), get_left_ngrams(c.part, window=10)]))) else 0\n",
    "\n",
    "\n",
    "def LF_too_many_numbers_row(c):\n",
    "    num_numbers = list(get_row_ngrams(c.attr, attrib=\"ner_tags\")).count('number')\n",
    "    return -1 if num_numbers >= 3 else 0\n",
    "\n",
    "def LF_temp_on_high_page_num(c):\n",
    "    return -1 if c.attr.get_attrib_tokens('page')[0] > 2 else 0\n",
    "\n",
    "def LF_temp_outside_table(c):\n",
    "    return -1 if not c.attr.sentence.is_tabular() is None else 0\n",
    "\n",
    "def LF_not_temp_relevant(c):\n",
    "    return -1 if not overlap(\n",
    "        ['storage','temperature','tstg','stg', 'ts'],\n",
    "        list(get_aligned_ngrams(c.attr))) else 0"
   ]
  },
  {
   "cell_type": "markdown",
   "metadata": {
    "collapsed": true
   },
   "source": [
    "Then, we can add these to our list of labeling functions"
   ]
  },
  {
   "cell_type": "code",
   "execution_count": 41,
   "metadata": {
    "collapsed": true
   },
   "outputs": [],
   "source": [
    "stg_temp_lfs_2 = [LF_test_condition_aligned,\n",
    "                 LF_collector_aligned,\n",
    "                 LF_current_aligned,\n",
    "                 LF_voltage_row_temp,\n",
    "                 LF_voltage_row_part,\n",
    "                 LF_typ_row,\n",
    "                 LF_complement_left_row,\n",
    "                 LF_too_many_numbers_row,\n",
    "                 LF_temp_on_high_page_num,\n",
    "                 LF_temp_outside_table,\n",
    "                 LF_not_temp_relevant\n",
    "                ]"
   ]
  },
  {
   "cell_type": "markdown",
   "metadata": {},
   "source": [
    "And rerun labeling. Importantly, this time we set `clear=False`, `update_keys=True` and `update_values=True` to reflect the fact that we are adding new labeling functions, but do not want to throw away the computations already performed in the previous iteration."
   ]
  },
  {
   "cell_type": "code",
   "execution_count": 42,
   "metadata": {},
   "outputs": [
    {
     "name": "stdout",
     "output_type": "stream",
     "text": [
      "Running UDF...\n",
      "Copying part_attr_label_updates to postgres\n",
      "COPY 11503\n",
      "\n",
      "CPU times: user 884 ms, sys: 144 ms, total: 1.03 s\n",
      "Wall time: 4min 39s\n",
      "(11503, 17)\n"
     ]
    }
   ],
   "source": [
    "labeler = BatchLabelAnnotator(Part_Attr, lfs = stg_temp_lfs_2)\n",
    "%time L_train = labeler.apply(split=0, clear=False, update_keys=True, update_values=True, parallelism=PARALLEL)\n",
    "print L_train.shape"
   ]
  },
  {
   "cell_type": "markdown",
   "metadata": {},
   "source": [
    "Now, we can rerun probablistic relation classification, the same way we did above. We start with the generative model."
   ]
  },
  {
   "cell_type": "code",
   "execution_count": 43,
   "metadata": {},
   "outputs": [
    {
     "name": "stdout",
     "output_type": "stream",
     "text": [
      "CPU times: user 4min 18s, sys: 156 ms, total: 4min 18s\n",
      "Wall time: 4min 18s\n"
     ]
    }
   ],
   "source": [
    "gen_model = GenerativeModel()\n",
    "%time gen_model.train(L_train, epochs=500, decay=0.9, step_size=0.001/L_train.shape[0], reg_param=0)\n",
    "train_marginals = gen_model.marginals(L_train)"
   ]
  },
  {
   "cell_type": "markdown",
   "metadata": {},
   "source": [
    "Next, we rerun the discriminitive model and see that our score has improved significantly to about 80 F1 points."
   ]
  },
  {
   "cell_type": "code",
   "execution_count": 44,
   "metadata": {},
   "outputs": [
    {
     "name": "stdout",
     "output_type": "stream",
     "text": [
      "[SparseLR] lr=0.001 l1=0.0 l2=0.0\n",
      "[SparseLR] Building model\n",
      "[SparseLR] Training model\n",
      "[SparseLR] #examples=11503  #epochs=200  batch size=100\n",
      "[SparseLR] Epoch 0 (1.62s)\tAvg. loss=0.181428\tNNZ=8018\n",
      "[SparseLR] Epoch 5 (10.73s)\tAvg. loss=0.034117\tNNZ=8018\n",
      "[SparseLR] Epoch 10 (20.45s)\tAvg. loss=0.032330\tNNZ=8018\n",
      "[SparseLR] Epoch 15 (30.86s)\tAvg. loss=0.031789\tNNZ=8018\n",
      "[SparseLR] Epoch 20 (40.98s)\tAvg. loss=0.031561\tNNZ=8018\n",
      "[SparseLR] Epoch 25 (50.35s)\tAvg. loss=0.031450\tNNZ=8018\n",
      "[SparseLR] Epoch 30 (60.18s)\tAvg. loss=0.031439\tNNZ=8018\n",
      "[SparseLR] Epoch 35 (68.75s)\tAvg. loss=0.031396\tNNZ=8018\n",
      "[SparseLR] Epoch 40 (78.36s)\tAvg. loss=0.031349\tNNZ=8018\n",
      "[SparseLR] Epoch 45 (87.24s)\tAvg. loss=0.031403\tNNZ=8018\n",
      "[SparseLR] Epoch 50 (96.06s)\tAvg. loss=0.031365\tNNZ=8018\n",
      "[SparseLR] Epoch 55 (104.96s)\tAvg. loss=0.031357\tNNZ=8018\n",
      "[SparseLR] Epoch 60 (113.82s)\tAvg. loss=0.031338\tNNZ=8018\n",
      "[SparseLR] Epoch 65 (127.20s)\tAvg. loss=0.031389\tNNZ=8018\n",
      "[SparseLR] Epoch 70 (136.79s)\tAvg. loss=0.031348\tNNZ=8018\n",
      "[SparseLR] Epoch 75 (145.71s)\tAvg. loss=0.031320\tNNZ=8018\n",
      "[SparseLR] Epoch 80 (155.08s)\tAvg. loss=0.031338\tNNZ=8018\n",
      "[SparseLR] Epoch 85 (165.05s)\tAvg. loss=0.031333\tNNZ=8018\n",
      "[SparseLR] Epoch 90 (173.58s)\tAvg. loss=0.031330\tNNZ=8018\n",
      "[SparseLR] Epoch 95 (181.97s)\tAvg. loss=0.031345\tNNZ=8018\n",
      "[SparseLR] Epoch 100 (190.28s)\tAvg. loss=0.031323\tNNZ=8018\n",
      "[SparseLR] Epoch 105 (198.56s)\tAvg. loss=0.031377\tNNZ=8018\n",
      "[SparseLR] Epoch 110 (206.79s)\tAvg. loss=0.031334\tNNZ=8018\n",
      "[SparseLR] Epoch 115 (215.34s)\tAvg. loss=0.031328\tNNZ=8018\n",
      "[SparseLR] Epoch 120 (223.58s)\tAvg. loss=0.031392\tNNZ=8018\n",
      "[SparseLR] Epoch 125 (231.94s)\tAvg. loss=0.031345\tNNZ=8018\n",
      "[SparseLR] Epoch 130 (240.26s)\tAvg. loss=0.031328\tNNZ=8018\n",
      "[SparseLR] Epoch 135 (248.61s)\tAvg. loss=0.031359\tNNZ=8018\n",
      "[SparseLR] Epoch 140 (257.33s)\tAvg. loss=0.031324\tNNZ=8018\n",
      "[SparseLR] Epoch 145 (266.07s)\tAvg. loss=0.031354\tNNZ=8018\n",
      "[SparseLR] Epoch 150 (274.74s)\tAvg. loss=0.031342\tNNZ=8018\n",
      "[SparseLR] Epoch 155 (283.14s)\tAvg. loss=0.031311\tNNZ=8018\n",
      "[SparseLR] Epoch 160 (293.50s)\tAvg. loss=0.031344\tNNZ=8018\n",
      "[SparseLR] Epoch 165 (301.69s)\tAvg. loss=0.031357\tNNZ=8018\n",
      "[SparseLR] Epoch 170 (309.91s)\tAvg. loss=0.031356\tNNZ=8018\n",
      "[SparseLR] Epoch 175 (318.27s)\tAvg. loss=0.031340\tNNZ=8018\n",
      "[SparseLR] Epoch 180 (326.46s)\tAvg. loss=0.031348\tNNZ=8018\n",
      "[SparseLR] Epoch 185 (334.69s)\tAvg. loss=0.031349\tNNZ=8018\n",
      "[SparseLR] Epoch 190 (342.87s)\tAvg. loss=0.031326\tNNZ=8018\n",
      "[SparseLR] Epoch 195 (351.05s)\tAvg. loss=0.031355\tNNZ=8018\n",
      "[SparseLR] Epoch 199 (357.68s)\tAvg. loss=0.031369\tNNZ=8018\n",
      "[SparseLR] Training done (357.68s)\n",
      "CPU times: user 6min 41s, sys: 4.54 s, total: 6min 45s\n",
      "Wall time: 5min 58s\n",
      "========================================\n",
      "Scores (Un-adjusted)\n",
      "========================================\n",
      "Pos. class accuracy: 0.215\n",
      "Neg. class accuracy: 0.999\n",
      "Precision            0.985\n",
      "Recall               0.215\n",
      "F1                   0.352\n",
      "----------------------------------------\n",
      "TP: 65 | FP: 1 | TN: 816 | FN: 238\n",
      "========================================\n",
      "\n",
      "Preparing candidates...\n",
      "[========================================] 100%\n",
      "\n",
      "========================================\n",
      "Scoring on Entity-Level Gold Data\n",
      "========================================\n",
      "Corpus Precision 0.964\n",
      "Corpus Recall    1.0\n",
      "Corpus F1        0.982\n",
      "----------------------------------------\n",
      "TP: 27 | FP: 1 | FN: 0\n",
      "========================================\n",
      "\n",
      "CPU times: user 76 ms, sys: 12 ms, total: 88 ms\n",
      "Wall time: 77.3 ms\n"
     ]
    }
   ],
   "source": [
    "disc_model = SparseLogisticRegression()\n",
    "%time disc_model.train(F_train, train_marginals, n_epochs=200, lr=0.001)\n",
    "tp, fp, tn, fn = disc_model.score(session, F_test, L_gold_test)\n",
    "%time (TP, FP, FN) = entity_level_f1(tp.union(fp), gold_file, ATTRIBUTE, test_docs, parts_by_doc=parts_by_doc)"
   ]
  },
  {
   "cell_type": "markdown",
   "metadata": {},
   "source": [
    "Using these new LFs, we've significantly improved precision and lowered our number of false positives for an F1 score of about 90."
   ]
  }
 ],
 "metadata": {
  "anaconda-cloud": {},
  "kernelspec": {
   "display_name": "Python 2",
   "language": "python",
   "name": "python2"
  },
  "language_info": {
   "codemirror_mode": {
    "name": "ipython",
    "version": 2
   },
   "file_extension": ".py",
   "mimetype": "text/x-python",
   "name": "python",
   "nbconvert_exporter": "python",
   "pygments_lexer": "ipython2",
   "version": "2.7.12"
  }
 },
 "nbformat": 4,
 "nbformat_minor": 1
}
