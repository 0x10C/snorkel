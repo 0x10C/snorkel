{
 "cells": [
  {
   "cell_type": "markdown",
   "metadata": {},
   "source": [
    "# HARDWARE"
   ]
  },
  {
   "cell_type": "markdown",
   "metadata": {},
   "source": [
    "## Setup"
   ]
  },
  {
   "cell_type": "code",
   "execution_count": 1,
   "metadata": {
    "collapsed": false,
    "scrolled": false
   },
   "outputs": [
    {
     "name": "stderr",
     "output_type": "stream",
     "text": [
      "/Users/sen/anaconda2/lib/python2.7/site-packages/matplotlib/__init__.py:1085: UserWarning: Duplicate key in file \"/Users/sen/.matplotlib/matplotlibrc\", line #467\n",
      "  (fname, cnt))\n"
     ]
    },
    {
     "name": "stdout",
     "output_type": "stream",
     "text": [
      "True\n"
     ]
    }
   ],
   "source": [
    "%load_ext autoreload\n",
    "%autoreload 2\n",
    "%matplotlib inline\n",
    "\n",
    "\"\"\"\n",
    "To change attributes:\n",
    "1) Change ATTRIBUTE and you're good to go\n",
    "\"\"\"\n",
    "ATTRIBUTE = 'polarity'\n",
    "COUNTER = '_new'\n",
    "PARALLEL = 1\n",
    "PARALLEL_F = 1\n",
    "PARALLEL_EXTRACTION = 1\n",
    "TRAIN_SIZE = 5\n",
    "DEV_SIZE = 5\n",
    "TEST_SIZE = 5\n",
    "\n",
    "import os\n",
    "import sys\n",
    "\n",
    "os.environ['SNORKELDBNAME'] = ATTRIBUTE + str(COUNTER) +'2'\n",
    "os.environ['SNORKELDB'] = 'postgres://localhost:5432'# + os.environ['SNORKELDBNAME']\n",
    "        \n",
    "sys.path.append(os.environ['SNORKELHOME'] + '/tutorials/fonduer/tables/')\n",
    "snorkel_postgres = os.environ['SNORKELDB'].startswith('postgres')\n",
    "print snorkel_postgres"
   ]
  },
  {
   "cell_type": "code",
   "execution_count": 2,
   "metadata": {
    "collapsed": false,
    "scrolled": false
   },
   "outputs": [
    {
     "name": "stdout",
     "output_type": "stream",
     "text": [
      "0\n",
      "0\n",
      "SNORKELDB = postgres://localhost:5432\n",
      "SNORKELDBNAME = polarity_new2\n"
     ]
    }
   ],
   "source": [
    "import os\n",
    "if snorkel_postgres:\n",
    "#     os.environ['SNORKELDBNAME'] = ATTRIBUTE + str(COUNTER) +'2'\n",
    "    print os.system(\"dropdb \" + os.environ['SNORKELDBNAME'])\n",
    "    print os.system(\"createdb \" + os.environ['SNORKELDBNAME'])\n",
    "    print \"SNORKELDB = %s\" % os.environ['SNORKELDB']\n",
    "    print \"SNORKELDBNAME = %s\" % os.environ['SNORKELDBNAME']\n",
    "else:\n",
    "    try:\n",
    "        os.remove('snorkel.db')\n",
    "    except:\n",
    "        pass\n",
    "\n",
    "from fonduer import SnorkelSession\n",
    "session = SnorkelSession()"
   ]
  },
  {
   "cell_type": "markdown",
   "metadata": {},
   "source": [
    "## Parsing"
   ]
  },
  {
   "cell_type": "raw",
   "metadata": {
    "collapsed": false,
    "scrolled": false
   },
   "source": [
    "import os\n",
    "if snorkel_postgres:\n",
    "    from fonduer.async_parser import HTMLParser, AsyncOmniParser\n",
    "    from fonduer.models import Document, Sentence\n",
    "    print \"Starting async parse...\"\n",
    "    \n",
    "    doc_preprocessor = HTMLParser()\n",
    "    corpus_parser = AsyncOmniParser(blacklist=['style'], flatten=['span','br'], \n",
    "                                     tabular=True, lingual=True,\n",
    "                                     visual=True)\n",
    "    # PARSE TRAIN\n",
    "    corpus_name = 'Hardware Train'\n",
    "    docs_path = os.environ['SNORKELHOME'] + '/tutorials/fonduer/tables/data/hardware/train_digikey/html/'\n",
    "    pdf_path = os.environ['SNORKELHOME'] + '/tutorials/fonduer/tables/data/hardware/train_digikey/pdf/'\n",
    "\n",
    "    %time corpus_parser.apply(doc_preprocessor, docs_path, pdf_path, session, \\\n",
    "                                max_docs=TRAIN_SIZE, parallel=PARALLEL)\n",
    "    session.commit()\n",
    "    print \"Documents:\", session.query(Document).count()\n",
    "    print \"Sentences:\", session.query(Sentence).count()\n",
    "# #     print \"%s contains %d documents\" % (corpus, len(corpus))\n",
    "#     session.commit()\n",
    "#     # PARSE DEV\n",
    "#     corpus_name = 'Hardware Dev'\n",
    "#     docs_path = os.environ['SNORKELHOME'] + '/tutorials/fonduer/tables/data/hardware/dev/html/'\n",
    "#     pdf_path = os.environ['SNORKELHOME'] + '/tutorials/fonduer/tables/data/hardware/dev/pdf/'\n",
    "    \n",
    "#     %time corpus_parser.apply(doc_preprocessor, docs_path, pdf_path, session, \\\n",
    "#                                 max_docs=DEV_SIZE, parallel=PARALLEL)\n",
    "# #     print \"%s contains %d documents\" % (corpus, len(corpus))\n",
    "#     session.commit()\n",
    "#     if TEST_SIZE:\n",
    "#         # PARSE TEST\n",
    "#         corpus_name = 'Hardware Test'\n",
    "#         docs_path = os.environ['SNORKELHOME'] + '/tutorials/fonduer/tables/data/hardware/test/html/'\n",
    "#         pdf_path = os.environ['SNORKELHOME'] + '/tutorials/fonduer/tables/data/hardware/test/pdf/'\n",
    "        \n",
    "#         %time corpus_parser.apply(doc_preprocessor, docs_path, pdf_path, session, \\\n",
    "#                                     max_docs=TEST_SIZE, parallel=PARALLEL)\n",
    "# #         print \"%s contains %d documents\" % (corpus, len(corpus))\n",
    "#         session.commit()"
   ]
  },
  {
   "cell_type": "code",
   "execution_count": 3,
   "metadata": {
    "collapsed": false
   },
   "outputs": [
    {
     "name": "stdout",
     "output_type": "stream",
     "text": [
      "Starting async parse...\n",
      "Clearing existing...\n",
      "Running UDF...\n",
      "Documents: 20\n",
      "Sentences: 0\n"
     ]
    }
   ],
   "source": [
    "# from fonduer.async_parser import HTMLParser, AsyncOmniParser\n",
    "from fonduer.parser import HTMLPreprocessor, OmniParser\n",
    "from fonduer.models import Document, Sentence\n",
    "print \"Starting async parse...\"\n",
    "\n",
    "\n",
    "# docs_path = os.environ['SNORKELHOME'] + '/tutorials/fonduer/tables/data/hardware/train_digikey/html/'\n",
    "# pdf_path = os.environ['SNORKELHOME'] + '/tutorials/fonduer/tables/data/hardware/train_digikey/pdf/'\n",
    "docs_path = os.environ['SNORKELHOME'] + '/tutorials/fonduer/tables/data/hardware/dev/html/'\n",
    "pdf_path = os.environ['SNORKELHOME'] + '/tutorials/fonduer/tables/data/hardware/dev/pdf/'\n",
    "\n",
    "doc_preprocessor = HTMLPreprocessor(docs_path, max_docs=20)\n",
    "\n",
    "# corpus_parser = OmniParser(blacklist=['style'], flatten=['span','br'], tabular=True, lingual=True, visual=True, pdf_path=pdf_path)\n",
    "corpus_parser = OmniParser(structural=True, lingual=True, visual=True, blacklist=['style'], flatten=['span','br'], pdf_path=pdf_path)\n",
    "corpus_parser.apply(doc_preprocessor, parallelism=10)\n",
    "\n",
    "# corpus_parser = AsyncOmniParser(blacklist=['style'], flatten=['span','br'], \n",
    "#                                  tabular=True, lingual=True,\n",
    "#                                  visual=True)\n",
    "\n",
    "# %time corpus_parser.apply(doc_preprocessor, docs_path, pdf_path, session, \\\n",
    "#                             max_docs=TRAIN_SIZE, parallel=PARALLEL)\n",
    "# session.commit()\n",
    "print \"Documents:\", session.query(Document).count()\n",
    "print \"Sentences:\", session.query(Sentence).count()"
   ]
  },
  {
   "cell_type": "code",
   "execution_count": 4,
   "metadata": {
    "collapsed": true
   },
   "outputs": [],
   "source": [
    "docs = session.query(Document).order_by(Document.name).all()"
   ]
  },
  {
   "cell_type": "code",
   "execution_count": 5,
   "metadata": {
    "collapsed": false
   },
   "outputs": [
    {
     "name": "stdout",
     "output_type": "stream",
     "text": [
      "0 799 9\n",
      "1 662 9\n",
      "2 784 14\n",
      "3 662 11\n",
      "4 512 11\n",
      "5 700 10\n",
      "6 528 10\n",
      "7 158 2\n",
      "8 228 7\n",
      "9 511 10\n",
      "10 331 6\n",
      "11 528 9\n",
      "12 432 5\n",
      "13 567 8\n",
      "14 340 6\n",
      "15 432 5\n",
      "16 416 9\n",
      "17 820 9\n",
      "18 202 2\n",
      "19 301 4\n"
     ]
    }
   ],
   "source": [
    "for i, d in enumerate(docs):\n",
    "    print i, len(d.phrases), len(d.tables)"
   ]
  },
  {
   "cell_type": "raw",
   "metadata": {},
   "source": [
    "0 188 5\n",
    "1 198 4\n",
    "2 159 4\n",
    "3 213 4\n",
    "4 190 5\n",
    "5 193 5\n",
    "6 198 4\n",
    "7 195 4\n",
    "8 178 4\n",
    "9 202 4\n",
    "10 220 4\n",
    "11 185 5\n",
    "12 241 4\n",
    "13 209 4\n",
    "14 294 6\n",
    "15 295 6\n",
    "16 295 6\n",
    "17 297 6\n",
    "18 228 5\n",
    "19 302 6"
   ]
  },
  {
   "cell_type": "code",
   "execution_count": 6,
   "metadata": {
    "collapsed": false
   },
   "outputs": [
    {
     "name": "stdout",
     "output_type": "stream",
     "text": [
      "BC546 [54] [71]\n",
      "2N3906 MMBT3906 PZT3906 - PNP General-Purpose Amplifier [54, 54, 54, 54, 54, 54, 54] [427, 427, 427, 427, 427, 427, 427]\n",
      "2N3906 - General Purpose Transistors, PNP Silicon [54, 193, 92, 92, 112, 193, 136, 136] [71, 209, 110, 110, 129, 209, 153, 153]\n",
      "2n4123. [207, 188] [217, 203]\n",
      "2N4124/MMBT4124 NPN General Purpose Amplifier [54, 296, 296, 296, 296] [195, 309, 309, 309, 309]\n",
      "2N6426 [54] [71]\n",
      "Symbol [382] [392]\n",
      "AUKCS04635-1 [649] [663]\n",
      "BC182 NPN General Purpose Amplifier [96, 192, 192, 192, 192] [140, 203, 203, 203, 203]\n",
      "BC182 [54] [71]\n",
      "BC337 BC338 - NPN Epitaxial Silicon Transistor [61, 61, 61, 61, 61, 61, 61] [341, 341, 341, 341, 341, 341, 341]\n",
      "BC337 - NPN Amplifier Transistors [50, 305, 136, 335, 385] [73, 314, 153, 346, 396]\n",
      "BC546, BC547, BC548, BC549, BC550 - NPN Epitaxial Silicon Transistor [61, 255, 147, 255, 147, 255, 268, 255, 147, 147, 61, 61, 61, 61] [480, 266, 164, 266, 164, 266, 277, 266, 164, 164, 480, 480, 480, 480]\n",
      "BC546-BC548C(TO-92). [233, 293, 312, 293, 254] [248, 303, 327, 303, 264]\n",
      "BC546A Series_B14. [43, 76, 43] [58, 92, 58]\n",
      "BC546, BC547, BC548, BC549, BC550 - NPN Epitaxial Silicon Transistor [61, 255, 147, 255, 147, 255, 268, 255, 147, 147, 61, 61, 61, 61] [480, 266, 164, 266, 164, 266, 277, 266, 164, 164, 480, 480, 480, 480]\n",
      "BC818-40LT1 - General Purpose NPN Transistors [50, 50, 89, 89, 136, 108] [73, 73, 112, 112, 153, 132]\n",
      "BC546 - NPN Amplifier Transistors [50, 268, 136, 109, 109] [73, 277, 153, 132, 132]\n",
      "bc546 [46] [58]\n",
      "BC546/547/548/549/550 Switching and Applications [71, 183, 134, 170, 170, 170] [223, 194, 150, 182, 182, 182]\n"
     ]
    }
   ],
   "source": [
    "for i, d in enumerate(docs):\n",
    "    print d.phrases[0].text, d.phrases[0].top, d.phrases[0].bottom"
   ]
  },
  {
   "cell_type": "raw",
   "metadata": {},
   "source": [
    "2N3715 [522] [529]\n",
    "NPN High Power Silicon Transistor 2N5152 & 2N5154 Series 4-15-14_MMIC-Microstrip Pin Diodes.qxd [93, 93, 93, 93, 93, 116, 116, 116, 144, 93, 166, 93] [113, 113, 113, 113, 113, 129, 129, 129, 157, 113, 175, 113]\n",
    "NPN Power Silicon Transistor 2N5339 Series [51, 51, 51, 51, 73, 121] [70, 70, 70, 70, 86, 133]\n",
    "NPN High Power Silicon Transistor 2N6283 & 2N6284 Series [63, 63, 63, 86, 86, 114, 114, 114, 86] [83, 83, 83, 106, 106, 127, 127, 127, 106]\n",
    "metelics-sales@aeroflex.com [661] [676]\n",
    "VEBO [289] [300]\n",
    "Maximum Ratings [230, 230] [243, 243]\n",
    "Vdc [258] [266]\n",
    "Lawrence, MA 01840 [531, 531, 531, 531] [539, 539, 539, 539]\n",
    "Features [144] [157]\n",
    "Vdc [205] [213]\n",
    "PNP High Power Silicon Transistor 2N5679 & 2N5680 Series [72, 152, 72, 72, 72, 93, 93, 93, 164] [90, 161, 90, 90, 90, 106, 106, 106, 173]\n",
    "Features [98] [111]\n",
    "NPN High Power Silicon Transistor 2N6676 & 2N6678 Series [55, 55, 55, 55, 55, 78, 78, 78, 98] [75, 75, 75, 75, 75, 91, 91, 91, 111]\n",
    "0 [687] [694]\n",
    "BBD240.fm [172] [186]\n",
    "TIS631AA [490] [496]\n",
    "BBD242.fm [172] [186]\n",
    "70 [519] [526]\n",
    "BBD244.fm [172] [186]"
   ]
  },
  {
   "cell_type": "raw",
   "metadata": {},
   "source": [
    "0 188 5\n",
    "1 198 4\n",
    "2 159 4\n",
    "3 213 4\n",
    "4 190 5"
   ]
  },
  {
   "cell_type": "code",
   "execution_count": 7,
   "metadata": {
    "collapsed": false
   },
   "outputs": [
    {
     "data": {
      "text/plain": [
       "9913L"
      ]
     },
     "execution_count": 7,
     "metadata": {},
     "output_type": "execute_result"
    }
   ],
   "source": [
    "from fonduer.models import Document, Phrase\n",
    "\n",
    "\n",
    "session.query(Phrase).count()"
   ]
  },
  {
   "cell_type": "markdown",
   "metadata": {},
   "source": [
    "### Save Corpus"
   ]
  },
  {
   "cell_type": "code",
   "execution_count": 8,
   "metadata": {
    "collapsed": true
   },
   "outputs": [],
   "source": [
    "# If necessary\n",
    "if not snorkel_postgres:\n",
    "    import os\n",
    "    os.system('cp snorkel.db snorkel.db\\ corpus');"
   ]
  },
  {
   "cell_type": "markdown",
   "metadata": {},
   "source": [
    "## Extraction"
   ]
  },
  {
   "cell_type": "code",
   "execution_count": 9,
   "metadata": {
    "collapsed": true
   },
   "outputs": [],
   "source": [
    "# # If necessary:\n",
    "# import os\n",
    "# os.remove('snorkel.db');\n",
    "# os.system('cp snorkel.db\\ corpus snorkel.db');\n",
    "\n",
    "# import sys\n",
    "# sys.path.append(os.environ['SNORKELHOME'] + '/tutorials/tables/')\n",
    "\n",
    "# from snorkel import SnorkelSession\n",
    "# session = SnorkelSession()"
   ]
  },
  {
   "cell_type": "code",
   "execution_count": 10,
   "metadata": {
    "collapsed": false
   },
   "outputs": [],
   "source": [
    "from fonduer.models import candidate_subclass\n",
    "\n",
    "Part_Attr = candidate_subclass('Part_Attr', ['part','attr'])"
   ]
  },
  {
   "cell_type": "code",
   "execution_count": 11,
   "metadata": {
    "collapsed": true
   },
   "outputs": [],
   "source": [
    "# session.rollback()"
   ]
  },
  {
   "cell_type": "markdown",
   "metadata": {},
   "source": [
    "### Define Matchers"
   ]
  },
  {
   "cell_type": "code",
   "execution_count": 12,
   "metadata": {
    "collapsed": false
   },
   "outputs": [
    {
     "name": "stdout",
     "output_type": "stream",
     "text": [
      "Using combined matcher.\n"
     ]
    }
   ],
   "source": [
    "from hardware_matchers import get_matcher\n",
    "\n",
    "dict_path = os.environ['SNORKELHOME'] +\\\n",
    "    '/tutorials/fonduer/tables/data/hardware/gold_raw/digikey_part_dictionary.csv'\n",
    "part_matcher = get_matcher('part', dict_path)\n",
    "attr_matcher = get_matcher(ATTRIBUTE)"
   ]
  },
  {
   "cell_type": "markdown",
   "metadata": {},
   "source": [
    "### Define ContextSpaces"
   ]
  },
  {
   "cell_type": "code",
   "execution_count": 13,
   "metadata": {
    "collapsed": false
   },
   "outputs": [],
   "source": [
    "from hardware_spaces import get_space\n",
    "    \n",
    "part_ngrams = get_space('part')\n",
    "attr_ngrams = get_space(ATTRIBUTE)"
   ]
  },
  {
   "cell_type": "markdown",
   "metadata": {},
   "source": [
    "### Define Candidate Throttler"
   ]
  },
  {
   "cell_type": "code",
   "execution_count": 14,
   "metadata": {
    "collapsed": false
   },
   "outputs": [
    {
     "name": "stdout",
     "output_type": "stream",
     "text": [
      "<function polarity_throttler at 0x114325938>\n"
     ]
    }
   ],
   "source": [
    "from hardware_throttlers import get_throttler\n",
    "\n",
    "throttler = get_throttler(ATTRIBUTE)\n",
    "# throttler = None\n",
    "print throttler"
   ]
  },
  {
   "cell_type": "markdown",
   "metadata": {},
   "source": [
    "### Run CandidateExtractor"
   ]
  },
  {
   "cell_type": "code",
   "execution_count": 15,
   "metadata": {
    "collapsed": false,
    "scrolled": false
   },
   "outputs": [
    {
     "name": "stdout",
     "output_type": "stream",
     "text": [
      "Clearing existing...\n",
      "Running UDF...\n",
      "[========================================] 100%\n",
      "CPU times: user 30 s, sys: 722 ms, total: 30.7 s\n",
      "Wall time: 39.2 s\n"
     ]
    }
   ],
   "source": [
    "from fonduer.candidates import CandidateExtractor\n",
    "# from snorkel.utils import get_ORM_instance\n",
    "# from fonduer.async_candidates import parallel_extract\n",
    "\n",
    "candidate_extractor = CandidateExtractor(Part_Attr, \n",
    "                        [part_ngrams, attr_ngrams], \n",
    "                        [part_matcher, attr_matcher], \n",
    "                        throttler=throttler)\n",
    "\n",
    "%time candidate_extractor.apply(docs, split=0)\n",
    "\n",
    "# corpus_names = ['Hardware Train', 'Hardware Dev']\n",
    "# if TEST_SIZE:\n",
    "#     corpus_names.append('Hardware Test')\n",
    "# for corpus_name in corpus_names:\n",
    "#     corpus = get_ORM_instance(Corpus, session, corpus_name)\n",
    "#     print \"Extracting Candidates from %s\" % corpus\n",
    "#     %time candidates = parallel_extract(session, candidate_extractor, corpus, \\\n",
    "#                                         corpus_name + ' Candidates', \\\n",
    "#                                         parallel=PARALLEL_EXTRACTION)\n",
    "#     session.add(candidates)\n",
    "#     print \"%s contains %d Candidates\" % (candidates, len(candidates))\n",
    "# session.commit()"
   ]
  },
  {
   "cell_type": "code",
   "execution_count": 16,
   "metadata": {
    "collapsed": false
   },
   "outputs": [
    {
     "name": "stdout",
     "output_type": "stream",
     "text": [
      "Number of candidates: 3045\n"
     ]
    }
   ],
   "source": [
    "train_cands = session.query(Part_Attr).filter(Part_Attr.split == 0).all()\n",
    "print \"Number of candidates:\", len(train_cands)"
   ]
  },
  {
   "cell_type": "code",
   "execution_count": 17,
   "metadata": {
    "collapsed": false
   },
   "outputs": [
    {
     "name": "stdout",
     "output_type": "stream",
     "text": [
      "Part_Attr(Span(\"BC546\", sentence=4941, chars=[86,90], words=[11,11]), Span(\"NPN\", sentence=445, chars=[0,2], words=[0,0]))\n",
      "(IC= 2.0 mA, VCE= 5.0 V)                                                              BC546\n",
      "NPN Silicon\n"
     ]
    }
   ],
   "source": [
    "print train_cands[0]\n",
    "print train_cands[0][0].sentence.text\n",
    "print train_cands[0][1].sentence.text"
   ]
  },
  {
   "cell_type": "markdown",
   "metadata": {},
   "source": [
    "### Second Pass"
   ]
  },
  {
   "cell_type": "code",
   "execution_count": 18,
   "metadata": {
    "collapsed": false
   },
   "outputs": [],
   "source": [
    "# from hardware_utils import get_gold_parts_by_doc, get_manual_parts_by_doc\n",
    "# from snorkel.utils import get_ORM_instance\n",
    "# from snorkel.models import Corpus\n",
    "\n",
    "# corpus = get_ORM_instance(Corpus, session, 'Hardware Dev')\n",
    "\n",
    "# # parts_by_doc = get_gold_parts_by_doc()\n",
    "# parts_by_doc = get_manual_parts_by_doc(corpus.documents.all())\n",
    "# # parts_by_doc = None"
   ]
  },
  {
   "cell_type": "code",
   "execution_count": 19,
   "metadata": {
    "collapsed": true
   },
   "outputs": [],
   "source": [
    "# import cPickle as pickle\n",
    "# pickle_file = os.environ['SNORKELHOME'] + '/tutorials/tables/sandbox/parts_by_doc_dev.pkl'\n",
    "\n",
    "# with open(pickle_file, 'w') as f:\n",
    "#     pickle.dump(parts_by_doc, f)"
   ]
  },
  {
   "cell_type": "code",
   "execution_count": 20,
   "metadata": {
    "collapsed": false
   },
   "outputs": [],
   "source": [
    "import cPickle as pickle\n",
    "pickle_file = os.environ['SNORKELHOME'] + '/tutorials/fonduer/tables/sandbox/parts_by_doc_dev.pkl'\n",
    "with open(pickle_file, 'r') as f:\n",
    "    parts_by_doc = pickle.load(f)"
   ]
  },
  {
   "cell_type": "code",
   "execution_count": 21,
   "metadata": {
    "collapsed": false
   },
   "outputs": [
    {
     "name": "stdout",
     "output_type": "stream",
     "text": [
      "112823\n",
      "2N3906\n",
      "2N3906-D\n",
      "2N4123-D\n",
      "2N4124\n",
      "2N6426-D\n",
      "2N6427\n",
      "AUKCS04635-1\n",
      "BC182\n",
      "BC182-D\n",
      "BC337\n",
      "BC337-D\n",
      "BC546\n",
      "BC546-BC548C(TO-92)\n",
      "BC546A_Series_B14-521026\n",
      "BC547\n",
      "BC818-40LT1-D\n",
      "bc546-d\n",
      "bc546_diotec\n",
      "bc550\n"
     ]
    }
   ],
   "source": [
    "for i, d in enumerate(docs):\n",
    "    print d.name"
   ]
  },
  {
   "cell_type": "markdown",
   "metadata": {},
   "source": [
    "### Assess Recall"
   ]
  },
  {
   "cell_type": "code",
   "execution_count": 22,
   "metadata": {
    "collapsed": false
   },
   "outputs": [
    {
     "name": "stdout",
     "output_type": "stream",
     "text": [
      "Preparing candidates...\n",
      "[========================================] 100%\n",
      "========================================\n",
      "Scoring on Entity-Level Gold Data\n",
      "========================================\n",
      "Corpus Precision 0.908\n",
      "Corpus Recall    1.0\n",
      "Corpus F1        0.952\n",
      "----------------------------------------\n",
      "TP: 258 | FP: 26 | FN: 0\n",
      "========================================\n",
      "\n",
      "CPU times: user 3.15 s, sys: 215 ms, total: 3.36 s\n",
      "Wall time: 3.73 s\n"
     ]
    }
   ],
   "source": [
    "# from fonduer.models import Corpus, CandidateSet\n",
    "from hardware_utils import entity_level_f1\n",
    "\n",
    "# corpus = get_ORM_instance(Corpus, session, 'Hardware Dev')\n",
    "# candidates = get_ORM_instance(CandidateSet, session, 'Hardware Dev Candidates')\n",
    "candidates = train_cands\n",
    "\n",
    "gold_file = os.environ['SNORKELHOME'] + \\\n",
    "    '/tutorials/fonduer/tables/data/hardware/dev/hardware_dev_gold.csv'\n",
    "%time (ctp, cfp, cfn) = entity_level_f1(candidates, gold_file, ATTRIBUTE, docs, parts_by_doc)"
   ]
  },
  {
   "cell_type": "markdown",
   "metadata": {},
   "source": [
    "## Gold Labels"
   ]
  },
  {
   "cell_type": "code",
   "execution_count": 23,
   "metadata": {
    "collapsed": true
   },
   "outputs": [],
   "source": [
    "# If necessary\n",
    "# import os\n",
    "# os.remove('snorkel.db');\n",
    "# os.system('cp snorkel.db\\ candidates snorkel.db');\n",
    "\n",
    "# import sys\n",
    "# sys.path.append(os.environ['SNORKELHOME'] + '/tutorials/tables/')\n",
    "\n",
    "# from snorkel import SnorkelSession\n",
    "# session = SnorkelSession()\n",
    "\n",
    "# from snorkel.models import candidate_subclass\n",
    "# Part_Attr = candidate_subclass('Part_Attr', ['part','attr'])"
   ]
  },
  {
   "cell_type": "code",
   "execution_count": 24,
   "metadata": {
    "collapsed": false
   },
   "outputs": [],
   "source": [
    "# import os\n",
    "# from fonduer.models import CandidateSet\n",
    "# from hardware_utils import load_hardware_labels\n",
    "\n",
    "# data_sets = ['Dev']\n",
    "# gold_file = {}\n",
    "# gold_file['Dev'] = os.environ['SNORKELHOME'] + '/tutorials/fonduer/tables/data/hardware/dev/hardware_dev_gold.csv'\n",
    "# if TEST_SIZE:\n",
    "#     data_sets.append('Test')\n",
    "#     gold_file['Test'] = os.environ['SNORKELHOME'] + '/tutorials/fonduer/tables/data/hardware/test/hardware_test_gold.csv'\n",
    "# for data_set in data_sets:\n",
    "#     candidate_set_name = 'Hardware %s Candidates' % data_set\n",
    "#     candidates = session.query(CandidateSet).filter(\n",
    "#         CandidateSet.name == candidate_set_name).one()\n",
    "#     label_set_name = 'Hardware %s Candidates -- Gold' % data_set\n",
    "#     annotation_key_name = 'Hardware %s Labels -- Gold' % data_set\n",
    "#     %time gold_candidates, annotation_key = load_hardware_labels(session,\\\n",
    "#                            label_set_name, \\\n",
    "#                            annotation_key_name, \\\n",
    "#                            candidates, \\\n",
    "#                            gold_file[data_set], \\\n",
    "#                            ATTRIBUTE)\n",
    "#     candidates_gold = session.query(CandidateSet).filter(\n",
    "#         CandidateSet.name == candidate_set_name + ' -- Gold').one()\n",
    "#     print \"%d/%d Candidates in %s have positive Labels\" % (\n",
    "#         len(candidates_gold), len(candidates), candidates)"
   ]
  },
  {
   "cell_type": "markdown",
   "metadata": {},
   "source": [
    "## Features"
   ]
  },
  {
   "cell_type": "code",
   "execution_count": 28,
   "metadata": {
    "collapsed": false,
    "scrolled": true
   },
   "outputs": [
    {
     "name": "stdout",
     "output_type": "stream",
     "text": [
      "('CORE_e1_SPAN_TYPE_[EXPLICIT]', 1)\n",
      "('CORE_e1_STARTS_WITH_CAPITAL', 1)\n",
      "('CORE_e1_LENGTH_1', 1)\n",
      "('CORE_e2_SPAN_TYPE_[EXPLICIT]', 1)\n",
      "('CORE_e2_STARTS_WITH_CAPITAL', 1)\n",
      "('CORE_e2_LENGTH_1', 1)\n",
      "(u'DDL_e1_WORD_SEQ_[BC546]', 1)\n",
      "(u'DDL_e1_LEMMA_SEQ_[bc546]', 1)\n",
      "(u'DDL_e1_POS_SEQ_[NN]', 1)\n",
      "(u'DDL_e1_DEP_SEQ_[dep]', 1)\n",
      "(u'DDL_e1_W_LEFT_1_[-rrb-]', 1)\n",
      "(u'DDL_e1_W_LEFT_POS_1_[-RRB-]', 1)\n",
      "(u'DDL_e1_W_LEFT_2_[v -rrb-]', 1)\n",
      "(u'DDL_e1_W_LEFT_POS_2_[NN -RRB-]', 1)\n",
      "(u'DDL_e1_W_LEFT_3_[_NUMBER v -rrb-]', 1)\n",
      "(u'DDL_e1_W_LEFT_POS_3_[CD NN -RRB-]', 1)\n",
      "(u'DDL_e2_WORD_SEQ_[NPN]', 1)\n",
      "(u'DDL_e2_LEMMA_SEQ_[NPN]', 1)\n",
      "(u'DDL_e2_POS_SEQ_[NNP]', 1)\n",
      "(u'DDL_e2_DEP_SEQ_[compound]', 1)\n",
      "(u'DDL_e2_W_LEFT_1_[Silicon]', 1)\n",
      "(u'DDL_e2_W_LEFT_POS_1_[NNP]', 1)\n",
      "(u'DDL_e2_W_LEFT_2_[NPN Silicon]', 1)\n",
      "(u'DDL_e2_W_LEFT_POS_2_[NNP NNP]', 1)\n",
      "(u'DDL_e2_W_RIGHT_1_[Silicon]', 1)\n",
      "(u'DDL_e2_W_RIGHT_POS_1_[NNP]', 1)\n",
      "(u'DDL_e2_W_LEMMA_L_1_R_1_[Silicon]_[Silicon]', 1)\n",
      "(u'DDL_e2_W_POS_L_1_R_1_[NNP]_[NNP]', 1)\n",
      "(u'DDL_e2_W_LEMMA_L_2_R_1_[NPN Silicon]_[Silicon]', 1)\n",
      "(u'DDL_e2_W_POS_L_2_R_1_[NNP NNP]_[NNP]', 1)\n",
      "('TDL_INV_LEMMA:PARENTS-OF-BETWEEN-MENTION-and-MENTION[None]', 1)\n",
      "('TDL_INV_LEMMA:BETWEEN-MENTION-and-MENTION[=]', 1)\n",
      "('TDL_INV_DEP_LABEL:BETWEEN-MENTION-and-MENTION[ROOT]', 1)\n",
      "('TDL_INV_DEP_LABEL|LEMMA:BETWEEN-MENTION-and-MENTION[ROOT|=]', 1)\n",
      "('TDL_INV_LEMMA:SEQ-BETWEEN[ic]', 1)\n",
      "('TDL_INV_LEMMA:SEQ-BETWEEN[=]', 1)\n",
      "('TDL_INV_LEMMA:SEQ-BETWEEN[2.0]', 1)\n",
      "('TDL_INV_LEMMA:SEQ-BETWEEN[ma]', 1)\n",
      "('TDL_INV_LEMMA:SEQ-BETWEEN[,]', 1)\n",
      "('TDL_INV_LEMMA:SEQ-BETWEEN[vce]', 1)\n",
      "('TDL_INV_LEMMA:SEQ-BETWEEN[=]', 1)\n",
      "('TDL_INV_LEMMA:SEQ-BETWEEN[5.0]', 1)\n",
      "('TDL_INV_LEMMA:SEQ-BETWEEN[v]', 1)\n",
      "('TDL_INV_LEMMA:SEQ-BETWEEN[-rrb-]', 1)\n",
      "('TDL_INV_LEMMA:SEQ-BETWEEN[ic =]', 1)\n",
      "('TDL_INV_LEMMA:SEQ-BETWEEN[= 2.0]', 1)\n",
      "('TDL_INV_LEMMA:SEQ-BETWEEN[2.0 ma]', 1)\n",
      "('TDL_INV_LEMMA:SEQ-BETWEEN[ma ,]', 1)\n",
      "('TDL_INV_LEMMA:SEQ-BETWEEN[, vce]', 1)\n",
      "('TDL_INV_LEMMA:SEQ-BETWEEN[vce =]', 1)\n",
      "('TDL_INV_LEMMA:SEQ-BETWEEN[= 5.0]', 1)\n",
      "('TDL_INV_LEMMA:SEQ-BETWEEN[5.0 v]', 1)\n",
      "('TDL_INV_LEMMA:SEQ-BETWEEN[v -rrb-]', 1)\n",
      "('TDL_INV_LEMMA:SEQ-BETWEEN[ic = 2.0]', 1)\n",
      "('TDL_INV_LEMMA:SEQ-BETWEEN[= 2.0 ma]', 1)\n",
      "('TDL_INV_LEMMA:SEQ-BETWEEN[2.0 ma ,]', 1)\n",
      "('TDL_INV_LEMMA:SEQ-BETWEEN[ma , vce]', 1)\n",
      "('TDL_INV_LEMMA:SEQ-BETWEEN[, vce =]', 1)\n",
      "('TDL_INV_LEMMA:SEQ-BETWEEN[vce = 5.0]', 1)\n",
      "('TDL_INV_LEMMA:SEQ-BETWEEN[= 5.0 v]', 1)\n",
      "('TDL_INV_LEMMA:SEQ-BETWEEN[5.0 v -rrb-]', 1)\n",
      "('TDL_INV_LEMMA:LEFT-OF-MENTION[-rrb-]', 1)\n",
      "('TDL_INV_LEMMA:RIGHT-OF-MENTION[ic]', 1)\n",
      "('TDL_INV_SEQ-BETWEEN[LEN:8-13]', 1)\n",
      "('TDL_INV_BETWEEN-MENTION-and-MENTION[LEN:0-2]', 1)\n",
      "('STR_e1_TAG_p', 1)\n",
      "(u'STR_e1_HTML_ATTR_class=s5', 1)\n",
      "(u'STR_e1_HTML_ATTR_style=padding-right: 3pt;text-indent: 0pt;line-height: 10pt;text-align: right;', 1)\n",
      "('STR_e1_PARENT_TAG_td', 1)\n",
      "('STR_e1_PREV_SIB_TAG_p', 1)\n",
      "('STR_e1_NODE_POS_6', 1)\n",
      "('STR_e1_NEXT_SIB_TAG_p', 1)\n",
      "('STR_e1_ANCESTOR_CLASS_[None None None None None s5]', 1)\n",
      "('STR_e1_ANCESTOR_TAG_[html body table tr td p]', 1)\n",
      "('STR_e1_ANCESTOR_ID_[None None None None None None]', 1)\n",
      "('STR_e2_TAG_h1', 1)\n",
      "(u'STR_e2_HTML_ATTR_style=padding-top: 7pt;padding-left: 6pt;text-indent: 0pt;text-align: left;', 1)\n",
      "('STR_e2_PARENT_TAG_body', 1)\n",
      "('STR_e2_PREV_SIB_TAG_p', 1)\n",
      "('STR_e2_NODE_POS_5', 1)\n",
      "('STR_e2_NEXT_SIB_TAG_p', 1)\n",
      "('STR_e2_ANCESTOR_CLASS_[None None None]', 1)\n",
      "('STR_e2_ANCESTOR_TAG_[html body h1]', 1)\n",
      "('STR_e2_ANCESTOR_ID_[None None None]', 1)\n",
      "(u'STR_COMMON_ANCESTOR_[ html body]', 1)\n",
      "('STR_LOWEST_ANCESTOR_DEPTH_[1]', 1)\n",
      "(u'TAB_e1_CELL_WORDS_[(]', 1)\n",
      "(u'TAB_e1_CELL_WORDS_[( ic]', 1)\n",
      "(u'TAB_e1_CELL_WORDS_[ic]', 1)\n",
      "(u'TAB_e1_CELL_WORDS_[ic =]', 1)\n",
      "(u'TAB_e1_CELL_WORDS_[=]', 1)\n",
      "(u'TAB_e1_CELL_WORDS_[= 2.0]', 1)\n",
      "(u'TAB_e1_CELL_WORDS_[2.0]', 1)\n",
      "(u'TAB_e1_CELL_WORDS_[2.0 ma]', 1)\n",
      "(u'TAB_e1_CELL_WORDS_[ma]', 1)\n",
      "(u'TAB_e1_CELL_WORDS_[ma ,]', 1)\n",
      "(u'TAB_e1_CELL_WORDS_[,]', 1)\n",
      "(u'TAB_e1_CELL_WORDS_[, vce]', 1)\n",
      "(u'TAB_e1_CELL_WORDS_[vce]', 1)\n",
      "(u'TAB_e1_CELL_WORDS_[vce =]', 1)\n",
      "(u'TAB_e1_CELL_WORDS_[=]', 1)\n",
      "(u'TAB_e1_CELL_WORDS_[= 5.0]', 1)\n",
      "(u'TAB_e1_CELL_WORDS_[5.0]', 1)\n",
      "(u'TAB_e1_CELL_WORDS_[5.0 v]', 1)\n",
      "(u'TAB_e1_CELL_WORDS_[v]', 1)\n",
      "(u'TAB_e1_CELL_WORDS_[v )]', 1)\n",
      "(u'TAB_e1_CELL_WORDS_[)]', 1)\n",
      "(u'TAB_e1_CELL_WORDS_[dc]', 1)\n",
      "(u'TAB_e1_CELL_WORDS_[dc current]', 1)\n",
      "(u'TAB_e1_CELL_WORDS_[current]', 1)\n",
      "(u'TAB_e1_CELL_WORDS_[current gain]', 1)\n",
      "(u'TAB_e1_CELL_WORDS_[gain]', 1)\n",
      "(u'TAB_e1_CELL_WORDS_[(]', 1)\n",
      "(u'TAB_e1_CELL_WORDS_[( ic]', 1)\n",
      "(u'TAB_e1_CELL_WORDS_[ic]', 1)\n",
      "(u'TAB_e1_CELL_WORDS_[ic =]', 1)\n",
      "(u'TAB_e1_CELL_WORDS_[=]', 1)\n",
      "(u'TAB_e1_CELL_WORDS_[= 10]', 1)\n",
      "(u'TAB_e1_CELL_WORDS_[10]', 1)\n",
      "(u'TAB_e1_CELL_WORDS_[10 \\xb5a]', 1)\n",
      "(u'TAB_e1_CELL_WORDS_[\\xb5a]', 1)\n",
      "(u'TAB_e1_CELL_WORDS_[\\xb5a ,]', 1)\n",
      "(u'TAB_e1_CELL_WORDS_[,]', 1)\n",
      "(u'TAB_e1_CELL_WORDS_[, vce]', 1)\n",
      "(u'TAB_e1_CELL_WORDS_[vce]', 1)\n",
      "(u'TAB_e1_CELL_WORDS_[vce =]', 1)\n",
      "(u'TAB_e1_CELL_WORDS_[=]', 1)\n",
      "(u'TAB_e1_CELL_WORDS_[= 5.0]', 1)\n",
      "(u'TAB_e1_CELL_WORDS_[5.0]', 1)\n",
      "(u'TAB_e1_CELL_WORDS_[5.0 v]', 1)\n",
      "(u'TAB_e1_CELL_WORDS_[v]', 1)\n",
      "(u'TAB_e1_CELL_WORDS_[v )]', 1)\n",
      "(u'TAB_e1_CELL_WORDS_[)]', 1)\n",
      "(u'TAB_e1_CELL_WORDS_[) bc547a]', 1)\n",
      "(u'TAB_e1_CELL_WORDS_[bc547a]', 1)\n",
      "(u'TAB_e1_CELL_WORDS_[bc546b/547b/548b]', 1)\n",
      "(u'TAB_e1_CELL_WORDS_[bc548c]', 1)\n",
      "(u'TAB_e1_CELL_WORDS_[bc547]', 1)\n",
      "(u'TAB_e1_CELL_WORDS_[bc548]', 1)\n",
      "(u'TAB_e1_CELL_WORDS_[bc548 bc547a]', 1)\n",
      "(u'TAB_e1_CELL_WORDS_[bc547a]', 1)\n",
      "(u'TAB_e1_CELL_WORDS_[bc547a bc546b/547b/548b]', 1)\n",
      "(u'TAB_e1_CELL_WORDS_[bc546b/547b/548b]', 1)\n",
      "(u'TAB_e1_CELL_WORDS_[bc546b/547b/548b bc547c/bc548c]', 1)\n",
      "(u'TAB_e1_CELL_WORDS_[bc547c/bc548c]', 1)\n",
      "(u'TAB_e1_CELL_WORDS_[(]', 1)\n",
      "(u'TAB_e1_CELL_WORDS_[( ic]', 1)\n",
      "(u'TAB_e1_CELL_WORDS_[ic]', 1)\n",
      "(u'TAB_e1_CELL_WORDS_[ic =]', 1)\n",
      "(u'TAB_e1_CELL_WORDS_[=]', 1)\n",
      "(u'TAB_e1_CELL_WORDS_[= 100]', 1)\n",
      "(u'TAB_e1_CELL_WORDS_[100]', 1)\n",
      "(u'TAB_e1_CELL_WORDS_[100 ma]', 1)\n",
      "(u'TAB_e1_CELL_WORDS_[ma]', 1)\n",
      "(u'TAB_e1_CELL_WORDS_[ma ,]', 1)\n",
      "(u'TAB_e1_CELL_WORDS_[,]', 1)\n",
      "(u'TAB_e1_CELL_WORDS_[, vce]', 1)\n",
      "(u'TAB_e1_CELL_WORDS_[vce]', 1)\n",
      "(u'TAB_e1_CELL_WORDS_[vce =]', 1)\n",
      "(u'TAB_e1_CELL_WORDS_[=]', 1)\n",
      "(u'TAB_e1_CELL_WORDS_[= 5.0]', 1)\n",
      "(u'TAB_e1_CELL_WORDS_[5.0]', 1)\n",
      "(u'TAB_e1_CELL_WORDS_[5.0 v]', 1)\n",
      "(u'TAB_e1_CELL_WORDS_[v]', 1)\n",
      "(u'TAB_e1_CELL_WORDS_[v )]', 1)\n",
      "(u'TAB_e1_CELL_WORDS_[)]', 1)\n",
      "(u'TAB_e1_CELL_WORDS_[) bc547a/548a]', 1)\n",
      "(u'TAB_e1_CELL_WORDS_[bc547a/548a]', 1)\n",
      "(u'TAB_e1_CELL_WORDS_[bc547a/548a bc546b/547b/548b]', 1)\n",
      "(u'TAB_e1_CELL_WORDS_[bc546b/547b/548b]', 1)\n",
      "(u'TAB_e1_CELL_WORDS_[bc548c]', 1)\n",
      "('TAB_e1_ROW_NUM_[0]', 1)\n",
      "('TAB_e1_COL_NUM_[0]', 1)\n",
      "('TAB_e1_ROW_SPAN_[1]', 1)\n",
      "('TAB_e1_COL_SPAN_[1]', 1)\n",
      "(u'TAB_e1_ROW_WORDS_[(]', 1)\n",
      "(u'TAB_e1_ROW_WORDS_[( ic]', 1)\n",
      "(u'TAB_e1_ROW_WORDS_[ic]', 1)\n",
      "(u'TAB_e1_ROW_WORDS_[ic =]', 1)\n",
      "(u'TAB_e1_ROW_WORDS_[=]', 1)\n",
      "(u'TAB_e1_ROW_WORDS_[= 2.0]', 1)\n",
      "(u'TAB_e1_ROW_WORDS_[2.0]', 1)\n",
      "(u'TAB_e1_ROW_WORDS_[2.0 ma]', 1)\n",
      "(u'TAB_e1_ROW_WORDS_[ma]', 1)\n",
      "(u'TAB_e1_ROW_WORDS_[ma ,]', 1)\n",
      "(u'TAB_e1_ROW_WORDS_[,]', 1)\n",
      "(u'TAB_e1_ROW_WORDS_[, vce]', 1)\n",
      "(u'TAB_e1_ROW_WORDS_[vce]', 1)\n",
      "(u'TAB_e1_ROW_WORDS_[vce =]', 1)\n",
      "(u'TAB_e1_ROW_WORDS_[=]', 1)\n",
      "(u'TAB_e1_ROW_WORDS_[= 5.0]', 1)\n",
      "(u'TAB_e1_ROW_WORDS_[5.0]', 1)\n",
      "(u'TAB_e1_ROW_WORDS_[5.0 v]', 1)\n",
      "(u'TAB_e1_ROW_WORDS_[v]', 1)\n",
      "(u'TAB_e1_ROW_WORDS_[v )]', 1)\n",
      "(u'TAB_e1_ROW_WORDS_[)]', 1)\n",
      "(u'TAB_e1_ROW_WORDS_[dc]', 1)\n",
      "(u'TAB_e1_ROW_WORDS_[dc current]', 1)\n",
      "(u'TAB_e1_ROW_WORDS_[current]', 1)\n",
      "(u'TAB_e1_ROW_WORDS_[current gain]', 1)\n",
      "(u'TAB_e1_ROW_WORDS_[gain]', 1)\n",
      "(u'TAB_e1_ROW_WORDS_[(]', 1)\n",
      "(u'TAB_e1_ROW_WORDS_[( ic]', 1)\n",
      "(u'TAB_e1_ROW_WORDS_[ic]', 1)\n",
      "(u'TAB_e1_ROW_WORDS_[ic =]', 1)\n",
      "(u'TAB_e1_ROW_WORDS_[=]', 1)\n",
      "(u'TAB_e1_ROW_WORDS_[= 10]', 1)\n",
      "(u'TAB_e1_ROW_WORDS_[10]', 1)\n",
      "(u'TAB_e1_ROW_WORDS_[10 \\xb5a]', 1)\n",
      "(u'TAB_e1_ROW_WORDS_[\\xb5a]', 1)\n",
      "(u'TAB_e1_ROW_WORDS_[\\xb5a ,]', 1)\n",
      "(u'TAB_e1_ROW_WORDS_[,]', 1)\n",
      "(u'TAB_e1_ROW_WORDS_[, vce]', 1)\n",
      "(u'TAB_e1_ROW_WORDS_[vce]', 1)\n",
      "(u'TAB_e1_ROW_WORDS_[vce =]', 1)\n",
      "(u'TAB_e1_ROW_WORDS_[=]', 1)\n",
      "(u'TAB_e1_ROW_WORDS_[= 5.0]', 1)\n",
      "(u'TAB_e1_ROW_WORDS_[5.0]', 1)\n",
      "(u'TAB_e1_ROW_WORDS_[5.0 v]', 1)\n",
      "(u'TAB_e1_ROW_WORDS_[v]', 1)\n",
      "(u'TAB_e1_ROW_WORDS_[v )]', 1)\n",
      "(u'TAB_e1_ROW_WORDS_[)]', 1)\n",
      "(u'TAB_e1_ROW_WORDS_[) bc547a]', 1)\n",
      "(u'TAB_e1_ROW_WORDS_[bc547a]', 1)\n",
      "(u'TAB_e1_ROW_WORDS_[bc546b/547b/548b]', 1)\n",
      "(u'TAB_e1_ROW_WORDS_[bc548c]', 1)\n",
      "(u'TAB_e1_ROW_WORDS_[bc547]', 1)\n",
      "(u'TAB_e1_ROW_WORDS_[bc548]', 1)\n",
      "(u'TAB_e1_ROW_WORDS_[bc548 bc547a]', 1)\n",
      "(u'TAB_e1_ROW_WORDS_[bc547a]', 1)\n",
      "(u'TAB_e1_ROW_WORDS_[bc547a bc546b/547b/548b]', 1)\n",
      "(u'TAB_e1_ROW_WORDS_[bc546b/547b/548b]', 1)\n",
      "(u'TAB_e1_ROW_WORDS_[bc546b/547b/548b bc547c/bc548c]', 1)\n",
      "(u'TAB_e1_ROW_WORDS_[bc547c/bc548c]', 1)\n",
      "(u'TAB_e1_ROW_WORDS_[(]', 1)\n",
      "(u'TAB_e1_ROW_WORDS_[( ic]', 1)\n",
      "(u'TAB_e1_ROW_WORDS_[ic]', 1)\n",
      "(u'TAB_e1_ROW_WORDS_[ic =]', 1)\n",
      "(u'TAB_e1_ROW_WORDS_[=]', 1)\n",
      "(u'TAB_e1_ROW_WORDS_[= 100]', 1)\n",
      "(u'TAB_e1_ROW_WORDS_[100]', 1)\n",
      "(u'TAB_e1_ROW_WORDS_[100 ma]', 1)\n",
      "(u'TAB_e1_ROW_WORDS_[ma]', 1)\n",
      "(u'TAB_e1_ROW_WORDS_[ma ,]', 1)\n",
      "(u'TAB_e1_ROW_WORDS_[,]', 1)\n",
      "(u'TAB_e1_ROW_WORDS_[, vce]', 1)\n",
      "(u'TAB_e1_ROW_WORDS_[vce]', 1)\n",
      "(u'TAB_e1_ROW_WORDS_[vce =]', 1)\n",
      "(u'TAB_e1_ROW_WORDS_[=]', 1)\n",
      "(u'TAB_e1_ROW_WORDS_[= 5.0]', 1)\n",
      "(u'TAB_e1_ROW_WORDS_[5.0]', 1)\n",
      "(u'TAB_e1_ROW_WORDS_[5.0 v]', 1)\n",
      "(u'TAB_e1_ROW_WORDS_[v]', 1)\n",
      "(u'TAB_e1_ROW_WORDS_[v )]', 1)\n",
      "(u'TAB_e1_ROW_WORDS_[)]', 1)\n",
      "(u'TAB_e1_ROW_WORDS_[) bc547a/548a]', 1)\n",
      "(u'TAB_e1_ROW_WORDS_[bc547a/548a]', 1)\n",
      "(u'TAB_e1_ROW_WORDS_[bc547a/548a bc546b/547b/548b]', 1)\n",
      "(u'TAB_e1_ROW_WORDS_[bc546b/547b/548b]', 1)\n",
      "(u'TAB_e1_ROW_WORDS_[bc548c]', 1)\n",
      "(u'TAB_e1_ROW_WORDS_[hfe]', 1)\n",
      "(u'TAB_e1_ROW_WORDS_[-]', 1)\n",
      "(u'TAB_e1_ROW_WORDS_[-]', 1)\n",
      "(u'TAB_e1_ROW_WORDS_[-]', 1)\n",
      "(u'TAB_e1_ROW_WORDS_[110]', 1)\n",
      "(u'TAB_e1_ROW_WORDS_[110]', 1)\n",
      "(u'TAB_e1_ROW_WORDS_[110]', 1)\n",
      "(u'TAB_e1_ROW_WORDS_[110]', 1)\n",
      "(u'TAB_e1_ROW_WORDS_[200]', 1)\n",
      "(u'TAB_e1_ROW_WORDS_[420]', 1)\n",
      "(u'TAB_e1_ROW_WORDS_[-]', 1)\n",
      "(u'TAB_e1_ROW_WORDS_[-]', 1)\n",
      "(u'TAB_e1_ROW_WORDS_[-]', 1)\n",
      "(u'TAB_e1_ROW_WORDS_[90]', 1)\n",
      "(u'TAB_e1_ROW_WORDS_[150]', 1)\n",
      "(u'TAB_e1_ROW_WORDS_[270]', 1)\n",
      "(u'TAB_e1_ROW_WORDS_[-]', 1)\n",
      "(u'TAB_e1_ROW_WORDS_[-]', 1)\n",
      "(u'TAB_e1_ROW_WORDS_[-]', 1)\n",
      "(u'TAB_e1_ROW_WORDS_[- 180]', 1)\n",
      "(u'TAB_e1_ROW_WORDS_[180]', 1)\n",
      "(u'TAB_e1_ROW_WORDS_[290]', 1)\n",
      "(u'TAB_e1_ROW_WORDS_[520]', 1)\n",
      "(u'TAB_e1_ROW_WORDS_[120]', 1)\n",
      "(u'TAB_e1_ROW_WORDS_[180]', 1)\n",
      "(u'TAB_e1_ROW_WORDS_[300]', 1)\n",
      "(u'TAB_e1_ROW_WORDS_[-]', 1)\n",
      "(u'TAB_e1_ROW_WORDS_[-]', 1)\n",
      "(u'TAB_e1_ROW_WORDS_[-]', 1)\n",
      "(u'TAB_e1_ROW_WORDS_[450]', 1)\n",
      "(u'TAB_e1_ROW_WORDS_[800]', 1)\n",
      "(u'TAB_e1_ROW_WORDS_[800]', 1)\n",
      "(u'TAB_e1_ROW_WORDS_[220]', 1)\n",
      "(u'TAB_e1_ROW_WORDS_[450]', 1)\n",
      "(u'TAB_e1_ROW_WORDS_[800]', 1)\n",
      "(u'TAB_e1_ROW_WORDS_[-]', 1)\n",
      "(u'TAB_e1_ROW_WORDS_[-]', 1)\n",
      "(u'TAB_e1_ROW_WORDS_[-]', 1)\n",
      "(u'TAB_e1_ROW_WORDS_[-]', 1)\n",
      "(u'TAB_e1_COL_WORDS_[(]', 1)\n",
      "(u'TAB_e1_COL_WORDS_[( ic]', 1)\n",
      "(u'TAB_e1_COL_WORDS_[ic]', 1)\n",
      "(u'TAB_e1_COL_WORDS_[ic =]', 1)\n",
      "(u'TAB_e1_COL_WORDS_[=]', 1)\n",
      "(u'TAB_e1_COL_WORDS_[= 2.0]', 1)\n",
      "(u'TAB_e1_COL_WORDS_[2.0]', 1)\n",
      "(u'TAB_e1_COL_WORDS_[2.0 ma]', 1)\n",
      "(u'TAB_e1_COL_WORDS_[ma]', 1)\n",
      "(u'TAB_e1_COL_WORDS_[ma ,]', 1)\n",
      "(u'TAB_e1_COL_WORDS_[,]', 1)\n",
      "(u'TAB_e1_COL_WORDS_[, vce]', 1)\n",
      "(u'TAB_e1_COL_WORDS_[vce]', 1)\n",
      "(u'TAB_e1_COL_WORDS_[vce =]', 1)\n",
      "(u'TAB_e1_COL_WORDS_[=]', 1)\n",
      "(u'TAB_e1_COL_WORDS_[= 5.0]', 1)\n",
      "(u'TAB_e1_COL_WORDS_[5.0]', 1)\n",
      "(u'TAB_e1_COL_WORDS_[5.0 v]', 1)\n",
      "(u'TAB_e1_COL_WORDS_[v]', 1)\n",
      "(u'TAB_e1_COL_WORDS_[v )]', 1)\n",
      "(u'TAB_e1_COL_WORDS_[)]', 1)\n",
      "(u'TAB_e1_COL_WORDS_[dc]', 1)\n",
      "(u'TAB_e1_COL_WORDS_[dc current]', 1)\n",
      "(u'TAB_e1_COL_WORDS_[current]', 1)\n",
      "(u'TAB_e1_COL_WORDS_[current gain]', 1)\n",
      "(u'TAB_e1_COL_WORDS_[gain]', 1)\n",
      "(u'TAB_e1_COL_WORDS_[(]', 1)\n",
      "(u'TAB_e1_COL_WORDS_[( ic]', 1)\n",
      "(u'TAB_e1_COL_WORDS_[ic]', 1)\n",
      "(u'TAB_e1_COL_WORDS_[ic =]', 1)\n",
      "(u'TAB_e1_COL_WORDS_[=]', 1)\n",
      "(u'TAB_e1_COL_WORDS_[= 10]', 1)\n",
      "(u'TAB_e1_COL_WORDS_[10]', 1)\n",
      "(u'TAB_e1_COL_WORDS_[10 \\xb5a]', 1)\n",
      "(u'TAB_e1_COL_WORDS_[\\xb5a]', 1)\n",
      "(u'TAB_e1_COL_WORDS_[\\xb5a ,]', 1)\n",
      "(u'TAB_e1_COL_WORDS_[,]', 1)\n",
      "(u'TAB_e1_COL_WORDS_[, vce]', 1)\n",
      "(u'TAB_e1_COL_WORDS_[vce]', 1)\n",
      "(u'TAB_e1_COL_WORDS_[vce =]', 1)\n",
      "(u'TAB_e1_COL_WORDS_[=]', 1)\n",
      "(u'TAB_e1_COL_WORDS_[= 5.0]', 1)\n",
      "(u'TAB_e1_COL_WORDS_[5.0]', 1)\n",
      "(u'TAB_e1_COL_WORDS_[5.0 v]', 1)\n",
      "(u'TAB_e1_COL_WORDS_[v]', 1)\n",
      "(u'TAB_e1_COL_WORDS_[v )]', 1)\n",
      "(u'TAB_e1_COL_WORDS_[)]', 1)\n",
      "(u'TAB_e1_COL_WORDS_[) bc547a]', 1)\n",
      "(u'TAB_e1_COL_WORDS_[bc547a]', 1)\n",
      "(u'TAB_e1_COL_WORDS_[bc546b/547b/548b]', 1)\n",
      "(u'TAB_e1_COL_WORDS_[bc548c]', 1)\n",
      "(u'TAB_e1_COL_WORDS_[bc547]', 1)\n",
      "(u'TAB_e1_COL_WORDS_[bc548]', 1)\n",
      "(u'TAB_e1_COL_WORDS_[bc548 bc547a]', 1)\n",
      "(u'TAB_e1_COL_WORDS_[bc547a]', 1)\n",
      "(u'TAB_e1_COL_WORDS_[bc547a bc546b/547b/548b]', 1)\n",
      "(u'TAB_e1_COL_WORDS_[bc546b/547b/548b]', 1)\n",
      "(u'TAB_e1_COL_WORDS_[bc546b/547b/548b bc547c/bc548c]', 1)\n",
      "(u'TAB_e1_COL_WORDS_[bc547c/bc548c]', 1)\n",
      "(u'TAB_e1_COL_WORDS_[(]', 1)\n",
      "(u'TAB_e1_COL_WORDS_[( ic]', 1)\n",
      "(u'TAB_e1_COL_WORDS_[ic]', 1)\n",
      "(u'TAB_e1_COL_WORDS_[ic =]', 1)\n",
      "(u'TAB_e1_COL_WORDS_[=]', 1)\n",
      "(u'TAB_e1_COL_WORDS_[= 100]', 1)\n",
      "(u'TAB_e1_COL_WORDS_[100]', 1)\n",
      "(u'TAB_e1_COL_WORDS_[100 ma]', 1)\n",
      "(u'TAB_e1_COL_WORDS_[ma]', 1)\n",
      "(u'TAB_e1_COL_WORDS_[ma ,]', 1)\n",
      "(u'TAB_e1_COL_WORDS_[,]', 1)\n",
      "(u'TAB_e1_COL_WORDS_[, vce]', 1)\n",
      "(u'TAB_e1_COL_WORDS_[vce]', 1)\n",
      "(u'TAB_e1_COL_WORDS_[vce =]', 1)\n",
      "(u'TAB_e1_COL_WORDS_[=]', 1)\n",
      "(u'TAB_e1_COL_WORDS_[= 5.0]', 1)\n",
      "(u'TAB_e1_COL_WORDS_[5.0]', 1)\n",
      "(u'TAB_e1_COL_WORDS_[5.0 v]', 1)\n",
      "(u'TAB_e1_COL_WORDS_[v]', 1)\n",
      "(u'TAB_e1_COL_WORDS_[v )]', 1)\n",
      "(u'TAB_e1_COL_WORDS_[)]', 1)\n",
      "(u'TAB_e1_COL_WORDS_[) bc547a/548a]', 1)\n",
      "(u'TAB_e1_COL_WORDS_[bc547a/548a]', 1)\n",
      "(u'TAB_e1_COL_WORDS_[bc547a/548a bc546b/547b/548b]', 1)\n",
      "(u'TAB_e1_COL_WORDS_[bc546b/547b/548b]', 1)\n",
      "(u'TAB_e1_COL_WORDS_[bc548c]', 1)\n",
      "(u'TAB_e1_COL_WORDS_[collector]', 1)\n",
      "(u'TAB_e1_COL_WORDS_[collector -]', 1)\n",
      "(u'TAB_e1_COL_WORDS_[-]', 1)\n",
      "(u'TAB_e1_COL_WORDS_[- emitter]', 1)\n",
      "(u'TAB_e1_COL_WORDS_[emitter]', 1)\n",
      "(u'TAB_e1_COL_WORDS_[emitter saturation]', 1)\n",
      "(u'TAB_e1_COL_WORDS_[saturation]', 1)\n",
      "(u'TAB_e1_COL_WORDS_[saturation voltage]', 1)\n",
      "(u'TAB_e1_COL_WORDS_[voltage]', 1)\n",
      "(u'TAB_e1_COL_WORDS_[voltage (]', 1)\n",
      "(u'TAB_e1_COL_WORDS_[(]', 1)\n",
      "(u'TAB_e1_COL_WORDS_[( ic]', 1)\n",
      "(u'TAB_e1_COL_WORDS_[ic]', 1)\n",
      "(u'TAB_e1_COL_WORDS_[ic =]', 1)\n",
      "(u'TAB_e1_COL_WORDS_[=]', 1)\n",
      "(u'TAB_e1_COL_WORDS_[= 10]', 1)\n",
      "(u'TAB_e1_COL_WORDS_[10]', 1)\n",
      "(u'TAB_e1_COL_WORDS_[10 ma]', 1)\n",
      "(u'TAB_e1_COL_WORDS_[ma]', 1)\n",
      "(u'TAB_e1_COL_WORDS_[ma ,]', 1)\n",
      "(u'TAB_e1_COL_WORDS_[,]', 1)\n",
      "(u'TAB_e1_COL_WORDS_[, ib]', 1)\n",
      "(u'TAB_e1_COL_WORDS_[ib]', 1)\n",
      "(u'TAB_e1_COL_WORDS_[ib =]', 1)\n",
      "(u'TAB_e1_COL_WORDS_[=]', 1)\n",
      "(u'TAB_e1_COL_WORDS_[= 0.5]', 1)\n",
      "(u'TAB_e1_COL_WORDS_[0.5]', 1)\n",
      "(u'TAB_e1_COL_WORDS_[0.5 ma]', 1)\n",
      "(u'TAB_e1_COL_WORDS_[ma]', 1)\n",
      "(u'TAB_e1_COL_WORDS_[ma )]', 1)\n",
      "(u'TAB_e1_COL_WORDS_[)]', 1)\n",
      "(u'TAB_e1_COL_WORDS_[(]', 1)\n",
      "(u'TAB_e1_COL_WORDS_[( ic]', 1)\n",
      "(u'TAB_e1_COL_WORDS_[ic]', 1)\n",
      "(u'TAB_e1_COL_WORDS_[ic =]', 1)\n",
      "(u'TAB_e1_COL_WORDS_[=]', 1)\n",
      "(u'TAB_e1_COL_WORDS_[= 100]', 1)\n",
      "(u'TAB_e1_COL_WORDS_[100]', 1)\n",
      "(u'TAB_e1_COL_WORDS_[100 ma]', 1)\n",
      "(u'TAB_e1_COL_WORDS_[ma]', 1)\n",
      "(u'TAB_e1_COL_WORDS_[ma ,]', 1)\n",
      "(u'TAB_e1_COL_WORDS_[,]', 1)\n",
      "(u'TAB_e1_COL_WORDS_[, ib]', 1)\n",
      "(u'TAB_e1_COL_WORDS_[ib]', 1)\n",
      "(u'TAB_e1_COL_WORDS_[ib =]', 1)\n",
      "(u'TAB_e1_COL_WORDS_[=]', 1)\n",
      "(u'TAB_e1_COL_WORDS_[= 5.0]', 1)\n",
      "(u'TAB_e1_COL_WORDS_[5.0]', 1)\n",
      "(u'TAB_e1_COL_WORDS_[5.0 ma]', 1)\n",
      "(u'TAB_e1_COL_WORDS_[ma]', 1)\n",
      "(u'TAB_e1_COL_WORDS_[ma )]', 1)\n",
      "(u'TAB_e1_COL_WORDS_[)]', 1)\n",
      "(u'TAB_e1_COL_WORDS_[(]', 1)\n",
      "(u'TAB_e1_COL_WORDS_[( ic]', 1)\n",
      "(u'TAB_e1_COL_WORDS_[ic]', 1)\n",
      "(u'TAB_e1_COL_WORDS_[ic =]', 1)\n",
      "(u'TAB_e1_COL_WORDS_[=]', 1)\n",
      "(u'TAB_e1_COL_WORDS_[= 10]', 1)\n",
      "(u'TAB_e1_COL_WORDS_[10]', 1)\n",
      "(u'TAB_e1_COL_WORDS_[10 ma]', 1)\n",
      "(u'TAB_e1_COL_WORDS_[ma]', 1)\n",
      "(u'TAB_e1_COL_WORDS_[ma ,]', 1)\n",
      "(u'TAB_e1_COL_WORDS_[,]', 1)\n",
      "(u'TAB_e1_COL_WORDS_[, ib]', 1)\n",
      "(u'TAB_e1_COL_WORDS_[ib]', 1)\n",
      "(u'TAB_e1_COL_WORDS_[ib =]', 1)\n",
      "(u'TAB_e1_COL_WORDS_[=]', 1)\n",
      "(u'TAB_e1_COL_WORDS_[= see]', 1)\n",
      "(u'TAB_e1_COL_WORDS_[see]', 1)\n",
      "(u'TAB_e1_COL_WORDS_[see note]', 1)\n",
      "(u'TAB_e1_COL_WORDS_[note]', 1)\n",
      "(u'TAB_e1_COL_WORDS_[note 1]', 1)\n",
      "(u'TAB_e1_COL_WORDS_[1]', 1)\n",
      "(u'TAB_e1_COL_WORDS_[1 )]', 1)\n",
      "(u'TAB_e1_COL_WORDS_[)]', 1)\n",
      "(u'TAB_e1_COL_WORDS_[base]', 1)\n",
      "(u'TAB_e1_COL_WORDS_[base -]', 1)\n",
      "(u'TAB_e1_COL_WORDS_[-]', 1)\n",
      "(u'TAB_e1_COL_WORDS_[- emitter]', 1)\n",
      "(u'TAB_e1_COL_WORDS_[emitter]', 1)\n",
      "(u'TAB_e1_COL_WORDS_[emitter saturation]', 1)\n",
      "(u'TAB_e1_COL_WORDS_[saturation]', 1)\n",
      "(u'TAB_e1_COL_WORDS_[saturation voltage]', 1)\n",
      "(u'TAB_e1_COL_WORDS_[voltage]', 1)\n",
      "(u'TAB_e1_COL_WORDS_[voltage (]', 1)\n",
      "(u'TAB_e1_COL_WORDS_[(]', 1)\n",
      "(u'TAB_e1_COL_WORDS_[( ic]', 1)\n",
      "(u'TAB_e1_COL_WORDS_[ic]', 1)\n",
      "(u'TAB_e1_COL_WORDS_[ic =]', 1)\n",
      "(u'TAB_e1_COL_WORDS_[=]', 1)\n",
      "(u'TAB_e1_COL_WORDS_[= 10]', 1)\n",
      "(u'TAB_e1_COL_WORDS_[10]', 1)\n",
      "(u'TAB_e1_COL_WORDS_[10 ma]', 1)\n",
      "(u'TAB_e1_COL_WORDS_[ma]', 1)\n",
      "(u'TAB_e1_COL_WORDS_[ma ,]', 1)\n",
      "(u'TAB_e1_COL_WORDS_[,]', 1)\n",
      "(u'TAB_e1_COL_WORDS_[, ib]', 1)\n",
      "(u'TAB_e1_COL_WORDS_[ib]', 1)\n",
      "(u'TAB_e1_COL_WORDS_[ib =]', 1)\n",
      "(u'TAB_e1_COL_WORDS_[=]', 1)\n",
      "(u'TAB_e1_COL_WORDS_[= 0.5]', 1)\n",
      "(u'TAB_e1_COL_WORDS_[0.5]', 1)\n",
      "(u'TAB_e1_COL_WORDS_[0.5 ma]', 1)\n",
      "(u'TAB_e1_COL_WORDS_[ma]', 1)\n",
      "(u'TAB_e1_COL_WORDS_[ma )]', 1)\n",
      "(u'TAB_e1_COL_WORDS_[)]', 1)\n",
      "(u'TAB_e1_COL_WORDS_[base]', 1)\n",
      "(u'TAB_e1_COL_WORDS_[base -]', 1)\n",
      "(u'TAB_e1_COL_WORDS_[-]', 1)\n",
      "(u'TAB_e1_COL_WORDS_[- emitter]', 1)\n",
      "(u'TAB_e1_COL_WORDS_[emitter]', 1)\n",
      "(u'TAB_e1_COL_WORDS_[emitter on]', 1)\n",
      "(u'TAB_e1_COL_WORDS_[on]', 1)\n",
      "(u'TAB_e1_COL_WORDS_[on voltage]', 1)\n",
      "(u'TAB_e1_COL_WORDS_[voltage]', 1)\n",
      "(u'TAB_e1_COL_WORDS_[(]', 1)\n",
      "(u'TAB_e1_COL_WORDS_[( ic]', 1)\n",
      "(u'TAB_e1_COL_WORDS_[ic]', 1)\n",
      "(u'TAB_e1_COL_WORDS_[ic =]', 1)\n",
      "(u'TAB_e1_COL_WORDS_[=]', 1)\n",
      "(u'TAB_e1_COL_WORDS_[= 2.0]', 1)\n",
      "(u'TAB_e1_COL_WORDS_[2.0]', 1)\n",
      "(u'TAB_e1_COL_WORDS_[2.0 ma]', 1)\n",
      "(u'TAB_e1_COL_WORDS_[ma]', 1)\n",
      "(u'TAB_e1_COL_WORDS_[ma ,]', 1)\n",
      "(u'TAB_e1_COL_WORDS_[,]', 1)\n",
      "(u'TAB_e1_COL_WORDS_[, vce]', 1)\n",
      "(u'TAB_e1_COL_WORDS_[vce]', 1)\n",
      "(u'TAB_e1_COL_WORDS_[vce =]', 1)\n",
      "(u'TAB_e1_COL_WORDS_[=]', 1)\n",
      "(u'TAB_e1_COL_WORDS_[= 5.0]', 1)\n",
      "(u'TAB_e1_COL_WORDS_[5.0]', 1)\n",
      "(u'TAB_e1_COL_WORDS_[5.0 v]', 1)\n",
      "(u'TAB_e1_COL_WORDS_[v]', 1)\n",
      "(u'TAB_e1_COL_WORDS_[v )]', 1)\n",
      "(u'TAB_e1_COL_WORDS_[)]', 1)\n",
      "(u'TAB_e1_COL_WORDS_[(]', 1)\n",
      "(u'TAB_e1_COL_WORDS_[( ic]', 1)\n",
      "(u'TAB_e1_COL_WORDS_[ic]', 1)\n",
      "(u'TAB_e1_COL_WORDS_[ic =]', 1)\n",
      "(u'TAB_e1_COL_WORDS_[=]', 1)\n",
      "(u'TAB_e1_COL_WORDS_[= 10]', 1)\n",
      "(u'TAB_e1_COL_WORDS_[10]', 1)\n",
      "(u'TAB_e1_COL_WORDS_[10 ma]', 1)\n",
      "(u'TAB_e1_COL_WORDS_[ma]', 1)\n",
      "(u'TAB_e1_COL_WORDS_[ma ,]', 1)\n",
      "(u'TAB_e1_COL_WORDS_[,]', 1)\n",
      "(u'TAB_e1_COL_WORDS_[, vce]', 1)\n",
      "(u'TAB_e1_COL_WORDS_[vce]', 1)\n",
      "(u'TAB_e1_COL_WORDS_[vce =]', 1)\n",
      "(u'TAB_e1_COL_WORDS_[=]', 1)\n",
      "(u'TAB_e1_COL_WORDS_[= 5.0]', 1)\n",
      "(u'TAB_e1_COL_WORDS_[5.0]', 1)\n",
      "(u'TAB_e1_COL_WORDS_[5.0 v]', 1)\n",
      "(u'TAB_e1_COL_WORDS_[v]', 1)\n",
      "(u'TAB_e1_COL_WORDS_[v )]', 1)\n",
      "(u'TAB_e1_COL_WORDS_[)]', 1)\n",
      "('VIZ_e1_PAGE_[2]', 1)\n",
      "(u'VIZ_e2_ALIGNED_LEFT_transistor', 1)\n",
      "(u'VIZ_e2_ALIGNED_LEFT_amplifier', 1)\n",
      "(u'VIZ_e2_ALIGNED_transistor', 1)\n",
      "(u'VIZ_e2_ALIGNED_amplifier', 1)\n",
      "('VIZ_e2_PAGE_[1]', 1)\n"
     ]
    }
   ],
   "source": [
    "from fonduer.features.features import get_all_feats\n",
    "for f in get_all_feats(candidates[0]):\n",
    "    print f"
   ]
  },
  {
   "cell_type": "markdown",
   "metadata": {},
   "source": [
    "### Extract Features"
   ]
  },
  {
   "cell_type": "code",
   "execution_count": null,
   "metadata": {
    "collapsed": false,
    "scrolled": false
   },
   "outputs": [],
   "source": [
    "from fonduer.models import CandidateSet\n",
    "from snorkel.utils import get_ORM_instance\n",
    "\n",
    "train = get_ORM_instance(CandidateSet, session, 'Hardware Train Candidates')\n",
    "dev   = get_ORM_instance(CandidateSet, session, 'Hardware Dev Candidates')\n",
    "test  = get_ORM_instance(CandidateSet, session, 'Hardware Test Candidates')\n",
    "\n",
    "if snorkel_postgres:\n",
    "    from fonduer.async_annotations import annotate\n",
    "    print \"Starting async featurization...\"\n",
    "    %time F_train = annotate(train, parallel=PARALLEL_F, dynamic_scheduling=False)\n",
    "    %time F_dev   = annotate(dev, parallel=PARALLEL_F, dynamic_scheduling=False,\\\n",
    "                             keyset = 'Hardware Train Candidates')\n",
    "    if TEST_SIZE:\n",
    "        %time F_test = annotate(test, parallel=PARALLEL_F, dynamic_scheduling=False,\\\n",
    "                                keyset = 'Hardware Train Candidates')\n",
    "    \n",
    "else:\n",
    "    from fonduer.models import CandidateSet\n",
    "    from fonduer.fast_annotations import FeatureManager\n",
    "    from snorkel.utils import get_ORM_instance\n",
    "\n",
    "    print \"Starting sync featurization...\"\n",
    "    feature_manager = FeatureManager()\n",
    "    %time F_train = feature_manager.create(session, train, 'Train Features')\n",
    "    %time F_dev = feature_manager.update(session, dev, 'Train Features', expand_key_set=False)"
   ]
  },
  {
   "cell_type": "code",
   "execution_count": null,
   "metadata": {
    "collapsed": true
   },
   "outputs": [],
   "source": [
    "# If necessary:\n",
    "if not snorkel_postgres:\n",
    "    import os\n",
    "    os.system('cp snorkel.db snorkel.db\\ featurized');"
   ]
  },
  {
   "cell_type": "markdown",
   "metadata": {},
   "source": [
    "## LFs"
   ]
  },
  {
   "cell_type": "code",
   "execution_count": null,
   "metadata": {
    "collapsed": false
   },
   "outputs": [],
   "source": [
    "# If necessary\n",
    "# import os\n",
    "# os.remove('snorkel.db');\n",
    "# os.system('cp snorkel.db\\ featurized snorkel.db');\n",
    "\n",
    "# from snorkel import SnorkelSession\n",
    "# session = SnorkelSession()\n",
    "\n",
    "# import sys\n",
    "# sys.path.append(os.environ['SNORKELHOME'] + '/tutorials/tables/')\n",
    "\n",
    "# from snorkel.models import candidate_subclass\n",
    "# Part_Attr = candidate_subclass('Part_Attr', ['part','attr'])\n",
    "\n",
    "# from snorkel.models import CandidateSet\n",
    "# train = session.query(CandidateSet).filter(\n",
    "#     CandidateSet.name == 'Hardware Train Candidates').one()\n",
    "# dev = session.query(CandidateSet).filter(\n",
    "#     CandidateSet.name == 'Hardware Dev Candidates').one()\n",
    "\n",
    "# from snorkel.annotations import FeatureManager, LabelManager\n",
    "# feature_manager = FeatureManager()\n",
    "# %time F_train = feature_manager.load(session, train, 'Train Features')\n",
    "# %time F_dev = feature_manager.load(session, dev, 'Train Features')"
   ]
  },
  {
   "cell_type": "markdown",
   "metadata": {},
   "source": [
    "### Define LFs"
   ]
  },
  {
   "cell_type": "code",
   "execution_count": 29,
   "metadata": {
    "collapsed": false
   },
   "outputs": [],
   "source": [
    "from hardware_lfs import get_lfs\n",
    "\n",
    "LFs = get_lfs(ATTRIBUTE)"
   ]
  },
  {
   "cell_type": "code",
   "execution_count": 30,
   "metadata": {
    "collapsed": false
   },
   "outputs": [
    {
     "name": "stdout",
     "output_type": "stream",
     "text": [
      "0\n",
      "0\n",
      "0\n",
      "0\n",
      "1\n",
      "0\n",
      "0\n",
      "0\n",
      "0\n",
      "1\n",
      "1\n",
      "0\n"
     ]
    }
   ],
   "source": [
    "for lf in LFs:\n",
    "    print lf(candidates[0])"
   ]
  },
  {
   "cell_type": "markdown",
   "metadata": {},
   "source": [
    "### Apply LFs"
   ]
  },
  {
   "cell_type": "code",
   "execution_count": null,
   "metadata": {
    "collapsed": false
   },
   "outputs": [],
   "source": [
    "print train.name\n",
    "print len(train)"
   ]
  },
  {
   "cell_type": "code",
   "execution_count": null,
   "metadata": {
    "collapsed": false
   },
   "outputs": [],
   "source": [
    "if snorkel_postgres:\n",
    "    from fonduer.async_annotations import annotate\n",
    "    %time L_train = annotate(train, parallel=PARALLEL_F, update=False, lfs=LFs, dynamic_scheduling=False, storage='COO')\n",
    "else:\n",
    "    from fonduer.fast_annotations import LabelManager\n",
    "    label_manager = LabelManager()\n",
    "    %time L_train = label_manager.create(session, train, 'LF Labels', f=LFs)\n",
    "L_train"
   ]
  },
  {
   "cell_type": "markdown",
   "metadata": {},
   "source": [
    "### Assess LF accuracy"
   ]
  },
  {
   "cell_type": "code",
   "execution_count": null,
   "metadata": {
    "collapsed": false
   },
   "outputs": [],
   "source": [
    "%time L_train.lf_stats()"
   ]
  },
  {
   "cell_type": "code",
   "execution_count": null,
   "metadata": {
    "collapsed": true
   },
   "outputs": [],
   "source": [
    "# If necessary\n",
    "if not snorkel_postgres:\n",
    "    import os\n",
    "    os.system('cp snorkel.db snorkel.db\\ features');"
   ]
  },
  {
   "cell_type": "markdown",
   "metadata": {},
   "source": [
    "## Learn and Evaluate"
   ]
  },
  {
   "cell_type": "code",
   "execution_count": null,
   "metadata": {
    "collapsed": false
   },
   "outputs": [],
   "source": [
    "# If necessary:\n",
    "# import os\n",
    "# os.remove('snorkel.db');\n",
    "# os.system('cp snorkel.db\\ features snorkel.db');\n",
    "\n",
    "# from snorkel import SnorkelSession\n",
    "# session = SnorkelSession()\n",
    "\n",
    "# import sys\n",
    "# sys.path.append(os.environ['SNORKELHOME'] + '/tutorials/tables/')\n",
    "\n",
    "# from snorkel.models import candidate_subclass\n",
    "# Part_Attr = candidate_subclass('Part_Attr', ['part','attr'])\n",
    "\n",
    "# from snorkel.models import CandidateSet\n",
    "# train = session.query(CandidateSet).filter(\n",
    "#     CandidateSet.name == 'Hardware Training Candidates').one()\n",
    "# dev = session.query(CandidateSet).filter(\n",
    "#     CandidateSet.name == 'Hardware Development Candidates').one()\n",
    "\n",
    "# from snorkel.annotations import FeatureManager, LabelManager\n",
    "# feature_manager = FeatureManager()\n",
    "# %time F_train = feature_manager.load(session, train, 'Train Features')\n",
    "# %time F_dev = feature_manager.load(session, dev, 'Train Features')\n",
    "\n",
    "# label_manager = LabelManager()\n",
    "# %time L_train = label_manager.load(session, train, 'LF Labels')"
   ]
  },
  {
   "cell_type": "code",
   "execution_count": null,
   "metadata": {
    "collapsed": false
   },
   "outputs": [],
   "source": [
    "from snorkel.learning import GenerativeModel\n",
    "\n",
    "gen_model = GenerativeModel()\n",
    "%time gen_model.train(L_train, epochs=500, decay=0.95, step_size=0.1/L_train.shape[0], reg_param=1e-6)"
   ]
  },
  {
   "cell_type": "code",
   "execution_count": null,
   "metadata": {
    "collapsed": true
   },
   "outputs": [],
   "source": [
    "train_marginals = gen_model.marginals(L_train)"
   ]
  },
  {
   "cell_type": "code",
   "execution_count": null,
   "metadata": {
    "collapsed": false
   },
   "outputs": [],
   "source": [
    "import matplotlib.pyplot as plt\n",
    "plt.hist(train_marginals, bins=20)\n",
    "plt.show()"
   ]
  },
  {
   "cell_type": "code",
   "execution_count": null,
   "metadata": {
    "collapsed": false
   },
   "outputs": [],
   "source": [
    "gen_model.weights.lf_accuracy()"
   ]
  },
  {
   "cell_type": "code",
   "execution_count": null,
   "metadata": {
    "collapsed": false,
    "scrolled": true
   },
   "outputs": [],
   "source": [
    "# from snorkel.learning import NaiveBayes\n",
    "\n",
    "# gen_model = NaiveBayes()\n",
    "# %time gen_model.train(L_train, n_iter=2000, rate=1e-3, mu=1e-6)\n",
    "# train_marginals = gen_model.marginals(L_train)"
   ]
  },
  {
   "cell_type": "code",
   "execution_count": null,
   "metadata": {
    "collapsed": false
   },
   "outputs": [],
   "source": [
    "pprint(zip([lf.__name__ for lf in LFs], gen_model.weights.lf_accuracy_log_odds))\n",
    "print min(train_marginals)\n",
    "print max(train_marginals)"
   ]
  },
  {
   "cell_type": "code",
   "execution_count": null,
   "metadata": {
    "collapsed": false
   },
   "outputs": [],
   "source": [
    "from snorkel.learning import SparseLogisticRegression\n",
    "\n",
    "disc_model = SparseLogisticRegression()\n",
    "%time disc_model.train(F_train, train_marginals, n_epochs=200, lr=0.001)"
   ]
  },
  {
   "cell_type": "code",
   "execution_count": null,
   "metadata": {
    "collapsed": false,
    "scrolled": true
   },
   "outputs": [],
   "source": [
    "# from snorkel.learning import LogReg\n",
    "\n",
    "# disc_model = LogReg()\n",
    "# %time disc_model.train(F_train, train_marginals, n_iter=10000, rate=1e-3)"
   ]
  },
  {
   "cell_type": "code",
   "execution_count": null,
   "metadata": {
    "collapsed": false
   },
   "outputs": [],
   "source": [
    "dev_gold = session.query(CandidateSet).filter(\n",
    "    CandidateSet.name == 'Hardware Dev Candidates -- Gold').one()"
   ]
  },
  {
   "cell_type": "code",
   "execution_count": null,
   "metadata": {
    "collapsed": false
   },
   "outputs": [],
   "source": [
    "from fonduer.annotations import LabelManager\n",
    "label_manager = LabelManager()\n",
    "L_dev = label_manager.load(session, dev, 'Hardware Dev Labels -- Gold')\n",
    "L_dev.shape"
   ]
  },
  {
   "cell_type": "code",
   "execution_count": null,
   "metadata": {
    "collapsed": false,
    "scrolled": false
   },
   "outputs": [],
   "source": [
    "tp, fp, tn, fn = disc_model.score(session, F_dev, L_dev)"
   ]
  },
  {
   "cell_type": "code",
   "execution_count": null,
   "metadata": {
    "collapsed": false
   },
   "outputs": [],
   "source": [
    "from fonduer.models import Corpus\n",
    "from hardware_utils import entity_level_f1\n",
    "import os\n",
    "\n",
    "gold_file = os.environ['SNORKELHOME'] + '/tutorials/fonduer/tables/data/hardware/dev/hardware_dev_gold.csv'\n",
    "corpus = session.query(Corpus).filter(Corpus.name == 'Hardware Dev').one()\n",
    "%time (TP, FP, FN) = entity_level_f1(tp.union(fp), gold_file, ATTRIBUTE, corpus, parts_by_doc=None)\n",
    "%time (TP, FP, FN) = entity_level_f1(tp.union(fp), gold_file, ATTRIBUTE, corpus, parts_by_doc=parts_by_doc)"
   ]
  },
  {
   "cell_type": "markdown",
   "metadata": {},
   "source": [
    "### Error Analysis"
   ]
  },
  {
   "cell_type": "markdown",
   "metadata": {},
   "source": [
    "### Oracle"
   ]
  },
  {
   "cell_type": "code",
   "execution_count": null,
   "metadata": {
    "collapsed": false
   },
   "outputs": [],
   "source": [
    "from hardware_utils import get_gold_parts_by_doc, get_manual_parts_by_doc\n",
    "from snorkel.utils import get_ORM_instance\n",
    "from fonduer.models import Corpus\n",
    "\n",
    "parts_by_doc = get_gold_parts_by_doc()\n",
    "(TP, FP, FN) = entity_level_f1(tp.union(fp), gold_file, ATTRIBUTE, corpus, parts_by_doc)"
   ]
  },
  {
   "cell_type": "markdown",
   "metadata": {
    "collapsed": true
   },
   "source": [
    "### Test Results"
   ]
  },
  {
   "cell_type": "code",
   "execution_count": null,
   "metadata": {
    "collapsed": false,
    "scrolled": false
   },
   "outputs": [],
   "source": [
    "if TEST_SIZE:\n",
    "    from fonduer.annotations import LabelManager\n",
    "    label_manager = LabelManager()\n",
    "    L_test = label_manager.load(session, test, 'Hardware Test Labels -- Gold')\n",
    "    L_test.shape\n",
    "    \n",
    "    tp, fp, tn, fn = disc_model.score(session, F_test, L_test, b=0.91)\n",
    "    \n",
    "    from hardware_utils import get_gold_parts_by_doc, get_manual_parts_by_doc\n",
    "    from snorkel.utils import get_ORM_instance\n",
    "    from fonduer.models import Corpus\n",
    "\n",
    "    corpus = get_ORM_instance(Corpus, session, 'Hardware Test')\n",
    "\n",
    "    # parts_by_doc_test = get_manual_parts_by_doc(corpus.documents.all())\n",
    "    # parts_by_doc_test = None\n",
    "    import cPickle as pickle\n",
    "    pickle_file = os.environ['SNORKELHOME'] + '/tutorials/fonduer/tables/sandbox/parts_by_doc_test.pkl'\n",
    "    with open(pickle_file, 'r') as f:\n",
    "        parts_by_doc_test = pickle.load(f)\n",
    "\n",
    "    from hardware_utils import entity_level_f1\n",
    "\n",
    "    gold_file = os.environ['SNORKELHOME'] + '/tutorials/fonduer/tables/data/hardware/test/hardware_test_gold.csv'\n",
    "    (TP, FP, FN) = entity_level_f1(tp.union(fp), gold_file, ATTRIBUTE, corpus)\n",
    "    (TP, FP, FN) = entity_level_f1(tp.union(fp), gold_file, ATTRIBUTE, corpus, parts_by_doc_test)"
   ]
  },
  {
   "cell_type": "code",
   "execution_count": null,
   "metadata": {
    "collapsed": true
   },
   "outputs": [],
   "source": []
  }
 ],
 "metadata": {
  "anaconda-cloud": {},
  "kernelspec": {
   "display_name": "Python 2",
   "language": "python",
   "name": "python2"
  },
  "language_info": {
   "codemirror_mode": {
    "name": "ipython",
    "version": 2
   },
   "file_extension": ".py",
   "mimetype": "text/x-python",
   "name": "python",
   "nbconvert_exporter": "python",
   "pygments_lexer": "ipython2",
   "version": "2.7.13"
  }
 },
 "nbformat": 4,
 "nbformat_minor": 1
}
