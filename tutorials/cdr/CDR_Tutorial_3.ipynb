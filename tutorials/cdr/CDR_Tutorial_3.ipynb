{
 "cells": [
  {
   "cell_type": "markdown",
   "metadata": {},
   "source": [
    "# Chemical-Disease Relation (CDR) Tutorial\n",
    "\n",
    "In this example, we'll be writing an application to extract *mentions of* **chemical-induced-disease relationships** from Pubmed abstracts, as per the [BioCreative CDR Challenge](http://www.biocreative.org/resources/corpora/biocreative-v-cdr-corpus/).  This tutorial will show off some of the more advanced features of Snorkel, so we'll assume you've followed the Intro tutorial."
   ]
  },
  {
   "cell_type": "markdown",
   "metadata": {},
   "source": [
    "Let's start by reloading from the last notebook."
   ]
  },
  {
   "cell_type": "code",
   "execution_count": 1,
   "metadata": {
    "collapsed": false
   },
   "outputs": [
    {
     "name": "stdout",
     "output_type": "stream",
     "text": [
      "The autoreload extension is already loaded. To reload it, use:\n",
      "  %reload_ext autoreload\n"
     ]
    }
   ],
   "source": [
    "%load_ext autoreload\n",
    "%autoreload 2\n",
    "%matplotlib inline\n",
    "\n",
    "from snorkel import SnorkelSession\n",
    "\n",
    "session = SnorkelSession()"
   ]
  },
  {
   "cell_type": "code",
   "execution_count": 2,
   "metadata": {
    "collapsed": false
   },
   "outputs": [
    {
     "name": "stdout",
     "output_type": "stream",
     "text": [
      "Training set:\t8272 candidates\n",
      "Dev set:\t888 candidates\n",
      "Test set:\t4620 candidates\n"
     ]
    }
   ],
   "source": [
    "from snorkel.models import candidate_subclass\n",
    "\n",
    "ChemicalDisease = candidate_subclass('ChemicalDisease', ['chemical', 'disease'])\n",
    "\n",
    "train = session.query(ChemicalDisease).filter(ChemicalDisease.split == 0).all()\n",
    "dev = session.query(ChemicalDisease).filter(ChemicalDisease.split == 1).all()\n",
    "test = session.query(ChemicalDisease).filter(ChemicalDisease.split == 2).all()\n",
    "\n",
    "print 'Training set:\\t{0} candidates'.format(len(train))\n",
    "print 'Dev set:\\t{0} candidates'.format(len(dev))\n",
    "print 'Test set:\\t{0} candidates'.format(len(test))    "
   ]
  },
  {
   "cell_type": "code",
   "execution_count": 47,
   "metadata": {
    "collapsed": true
   },
   "outputs": [],
   "source": [
    "from snorkel.annotations import load_marginals\n",
    "train_marginals = load_marginals(session, split=0)"
   ]
  },
  {
   "cell_type": "markdown",
   "metadata": {},
   "source": [
    "# Computing features\n",
    "\n",
    "For `SparseLogReg`"
   ]
  },
  {
   "cell_type": "code",
   "execution_count": 5,
   "metadata": {
    "collapsed": false
   },
   "outputs": [
    {
     "name": "stdout",
     "output_type": "stream",
     "text": [
      "Clearing existing...\n",
      "Running UDF...\n",
      "[========================================] 100%\n",
      "\n",
      "CPU times: user 6min 27s, sys: 2.28 s, total: 6min 29s\n",
      "Wall time: 6min 30s\n"
     ]
    },
    {
     "data": {
      "text/plain": [
       "<8272x120876 sparse matrix of type '<type 'numpy.float64'>'\n",
       "\twith 444009 stored elements in Compressed Sparse Row format>"
      ]
     },
     "execution_count": 5,
     "metadata": {},
     "output_type": "execute_result"
    }
   ],
   "source": [
    "from snorkel.annotations import FeatureAnnotator\n",
    "featurizer = FeatureAnnotator()\n",
    "\n",
    "%time F_train = featurizer.apply(split=0)\n",
    "F_train"
   ]
  },
  {
   "cell_type": "code",
   "execution_count": 6,
   "metadata": {
    "collapsed": false
   },
   "outputs": [
    {
     "name": "stdout",
     "output_type": "stream",
     "text": [
      "Clearing existing...\n",
      "Running UDF...\n",
      "[========================================] 100%\n",
      "\n",
      "Clearing existing...\n",
      "Running UDF...\n",
      "[========================================] 100%\n",
      "\n",
      "CPU times: user 4min 1s, sys: 1.88 s, total: 4min 3s\n",
      "Wall time: 4min 2s\n"
     ]
    }
   ],
   "source": [
    "%%time\n",
    "F_dev  = featurizer.apply_existing(split=1)\n",
    "F_test = featurizer.apply_existing(split=2)"
   ]
  },
  {
   "cell_type": "markdown",
   "metadata": {},
   "source": [
    "# Training `SparseLogReg`\n",
    "\n",
    "Instead of LSTM, to start.  First, reloading features:"
   ]
  },
  {
   "cell_type": "code",
   "execution_count": 48,
   "metadata": {
    "collapsed": false
   },
   "outputs": [],
   "source": [
    "from snorkel.learning import SparseLogisticRegression\n",
    "disc_model = SparseLogisticRegression()"
   ]
  },
  {
   "cell_type": "code",
   "execution_count": 49,
   "metadata": {
    "collapsed": false
   },
   "outputs": [
    {
     "name": "stdout",
     "output_type": "stream",
     "text": [
      "Initialized RandomSearch search of size 20. Search space size = 125.\n"
     ]
    }
   ],
   "source": [
    "from snorkel.learning.utils import MentionScorer\n",
    "from snorkel.learning import RandomSearch, ListParameter, RangeParameter\n",
    "\n",
    "# Searching over learning rate\n",
    "rate_param = RangeParameter('lr', 1e-6, 1e-2, step=1, log_base=10)\n",
    "l1_param  = RangeParameter('l1_penalty', 1e-6, 1e-2, step=1, log_base=10)\n",
    "l2_param  = RangeParameter('l2_penalty', 1e-6, 1e-2, step=1, log_base=10)\n",
    "\n",
    "searcher = RandomSearch(session, disc_model, F_train, train_marginals, [rate_param, l1_param, l2_param], n=20)"
   ]
  },
  {
   "cell_type": "code",
   "execution_count": 50,
   "metadata": {
    "collapsed": false
   },
   "outputs": [
    {
     "data": {
      "text/plain": [
       "<888x1 sparse matrix of type '<type 'numpy.float64'>'\n",
       "\twith 888 stored elements in Compressed Sparse Row format>"
      ]
     },
     "execution_count": 50,
     "metadata": {},
     "output_type": "execute_result"
    }
   ],
   "source": [
    "from snorkel.annotations import load_gold_labels\n",
    "L_gold_dev = load_gold_labels(session, annotator_name='gold', split=1)\n",
    "L_gold_dev"
   ]
  },
  {
   "cell_type": "code",
   "execution_count": 51,
   "metadata": {
    "collapsed": false
   },
   "outputs": [
    {
     "name": "stdout",
     "output_type": "stream",
     "text": [
      "============================================================\n",
      "[1] Testing lr = 1.00e-02, l1_penalty = 1.00e-03, l2_penalty = 1.00e-04\n",
      "============================================================\n",
      "[SparseLR] lr=0.01 l1=0.001 l2=0.0001\n",
      "[SparseLR] Building model\n",
      "[SparseLR] Training model\n",
      "[SparseLR] #examples=6960  #epochs=50  batch size=100\n",
      "[SparseLR] Epoch 0 (7.90s)\tAvg. loss=0.582203\tNNZ=120800\n",
      "[SparseLR] Epoch 25 (17.22s)\tAvg. loss=0.416255\tNNZ=120827\n",
      "[SparseLR] Epoch 49 (26.21s)\tAvg. loss=0.405611\tNNZ=120788\n",
      "[SparseLR] Training done (26.21s)\n",
      "[SparseLR] Model saved. To load, use name\n",
      "\t\tSparseLR_0\n",
      "============================================================\n",
      "[2] Testing lr = 1.00e-04, l1_penalty = 1.00e-06, l2_penalty = 1.00e-03\n",
      "============================================================\n",
      "[SparseLR] lr=0.0001 l1=1e-06 l2=0.001\n",
      "[SparseLR] Building model\n",
      "[SparseLR] Training model\n",
      "[SparseLR] #examples=6960  #epochs=50  batch size=100\n",
      "[SparseLR] Epoch 0 (1.20s)\tAvg. loss=0.685407\tNNZ=120876\n",
      "[SparseLR] Epoch 25 (10.47s)\tAvg. loss=0.583310\tNNZ=120876\n",
      "[SparseLR] Epoch 49 (19.38s)\tAvg. loss=0.559029\tNNZ=120876\n",
      "[SparseLR] Training done (19.38s)\n",
      "============================================================\n",
      "[3] Testing lr = 1.00e-03, l1_penalty = 1.00e-05, l2_penalty = 1.00e-05\n",
      "============================================================\n",
      "[SparseLR] lr=0.001 l1=1e-05 l2=1e-05\n",
      "[SparseLR] Building model\n",
      "[SparseLR] Training model\n",
      "[SparseLR] #examples=6960  #epochs=50  batch size=100\n",
      "[SparseLR] Epoch 0 (1.18s)\tAvg. loss=0.648539\tNNZ=120876\n",
      "[SparseLR] Epoch 25 (10.46s)\tAvg. loss=0.491153\tNNZ=120876\n",
      "[SparseLR] Epoch 49 (19.43s)\tAvg. loss=0.463548\tNNZ=120876\n",
      "[SparseLR] Training done (19.43s)\n",
      "============================================================\n",
      "[4] Testing lr = 1.00e-03, l1_penalty = 1.00e-06, l2_penalty = 1.00e-03\n",
      "============================================================\n",
      "[SparseLR] lr=0.001 l1=1e-06 l2=0.001\n",
      "[SparseLR] Building model\n",
      "[SparseLR] Training model\n",
      "[SparseLR] #examples=6960  #epochs=50  batch size=100\n",
      "[SparseLR] Epoch 0 (1.18s)\tAvg. loss=0.648291\tNNZ=120876\n",
      "[SparseLR] Epoch 25 (10.99s)\tAvg. loss=0.491445\tNNZ=120876\n",
      "[SparseLR] Epoch 49 (19.94s)\tAvg. loss=0.464054\tNNZ=120876\n",
      "[SparseLR] Training done (19.94s)\n",
      "============================================================\n",
      "[5] Testing lr = 1.00e-02, l1_penalty = 1.00e-04, l2_penalty = 1.00e-05\n",
      "============================================================\n",
      "[SparseLR] lr=0.01 l1=0.0001 l2=1e-05\n",
      "[SparseLR] Building model\n",
      "[SparseLR] Training model\n",
      "[SparseLR] #examples=6960  #epochs=50  batch size=100\n",
      "[SparseLR] Epoch 0 (1.16s)\tAvg. loss=0.581898\tNNZ=120866\n",
      "[SparseLR] Epoch 25 (11.06s)\tAvg. loss=0.416906\tNNZ=120871\n",
      "[SparseLR] Epoch 49 (19.91s)\tAvg. loss=0.406206\tNNZ=120873\n",
      "[SparseLR] Training done (19.91s)\n",
      "[SparseLR] Model saved. To load, use name\n",
      "\t\tSparseLR_4\n",
      "============================================================\n",
      "[6] Testing lr = 1.00e-06, l1_penalty = 1.00e-03, l2_penalty = 1.00e-05\n",
      "============================================================\n",
      "[SparseLR] lr=1e-06 l1=0.001 l2=1e-05\n",
      "[SparseLR] Building model\n",
      "[SparseLR] Training model\n",
      "[SparseLR] #examples=6960  #epochs=50  batch size=100\n",
      "[SparseLR] Epoch 0 (1.27s)\tAvg. loss=0.693644\tNNZ=120876\n",
      "[SparseLR] Epoch 25 (10.53s)\tAvg. loss=0.689561\tNNZ=120876\n",
      "[SparseLR] Epoch 49 (19.92s)\tAvg. loss=0.685939\tNNZ=120876\n",
      "[SparseLR] Training done (19.92s)\n",
      "============================================================\n",
      "[7] Testing lr = 1.00e-06, l1_penalty = 1.00e-03, l2_penalty = 1.00e-02\n",
      "============================================================\n",
      "[SparseLR] lr=1e-06 l1=0.001 l2=0.01\n",
      "[SparseLR] Building model\n",
      "[SparseLR] Training model\n",
      "[SparseLR] #examples=6960  #epochs=50  batch size=100\n",
      "[SparseLR] Epoch 0 (1.28s)\tAvg. loss=0.691946\tNNZ=120876\n",
      "[SparseLR] Epoch 25 (10.59s)\tAvg. loss=0.687771\tNNZ=120876\n",
      "[SparseLR] Epoch 49 (19.58s)\tAvg. loss=0.684085\tNNZ=120876\n",
      "[SparseLR] Training done (19.58s)\n",
      "============================================================\n",
      "[8] Testing lr = 1.00e-02, l1_penalty = 1.00e-05, l2_penalty = 1.00e-02\n",
      "============================================================\n",
      "[SparseLR] lr=0.01 l1=1e-05 l2=0.01\n",
      "[SparseLR] Building model\n",
      "[SparseLR] Training model\n",
      "[SparseLR] #examples=6960  #epochs=50  batch size=100\n",
      "[SparseLR] Epoch 0 (1.22s)\tAvg. loss=0.584409\tNNZ=120874\n",
      "[SparseLR] Epoch 25 (11.14s)\tAvg. loss=0.419299\tNNZ=120876\n",
      "[SparseLR] Epoch 49 (20.06s)\tAvg. loss=0.408500\tNNZ=120876\n",
      "[SparseLR] Training done (20.06s)\n",
      "[SparseLR] Model saved. To load, use name\n",
      "\t\tSparseLR_7\n",
      "============================================================\n",
      "[9] Testing lr = 1.00e-04, l1_penalty = 1.00e-02, l2_penalty = 1.00e-06\n",
      "============================================================\n",
      "[SparseLR] lr=0.0001 l1=0.01 l2=1e-06\n",
      "[SparseLR] Building model\n",
      "[SparseLR] Training model\n",
      "[SparseLR] #examples=6960  #epochs=50  batch size=100\n",
      "[SparseLR] Epoch 0 (1.29s)\tAvg. loss=0.688106\tNNZ=120866\n",
      "[SparseLR] Epoch 25 (11.72s)\tAvg. loss=0.587605\tNNZ=120867\n",
      "[SparseLR] Epoch 49 (22.11s)\tAvg. loss=0.563878\tNNZ=120858\n",
      "[SparseLR] Training done (22.11s)\n",
      "============================================================\n",
      "[10] Testing lr = 1.00e-06, l1_penalty = 1.00e-05, l2_penalty = 1.00e-03\n",
      "============================================================\n",
      "[SparseLR] lr=1e-06 l1=1e-05 l2=0.001\n",
      "[SparseLR] Building model\n",
      "[SparseLR] Training model\n",
      "[SparseLR] #examples=6960  #epochs=50  batch size=100\n",
      "[SparseLR] Epoch 0 (1.22s)\tAvg. loss=0.692315\tNNZ=120876\n",
      "[SparseLR] Epoch 25 (10.43s)\tAvg. loss=0.688031\tNNZ=120876\n",
      "[SparseLR] Epoch 49 (19.88s)\tAvg. loss=0.684245\tNNZ=120876\n",
      "[SparseLR] Training done (19.88s)\n",
      "============================================================\n",
      "[11] Testing lr = 1.00e-04, l1_penalty = 1.00e-02, l2_penalty = 1.00e-04\n",
      "============================================================\n",
      "[SparseLR] lr=0.0001 l1=0.01 l2=0.0001\n",
      "[SparseLR] Building model\n",
      "[SparseLR] Training model\n",
      "[SparseLR] #examples=6960  #epochs=50  batch size=100\n",
      "[SparseLR] Epoch 0 (1.22s)\tAvg. loss=0.685668\tNNZ=120871\n",
      "[SparseLR] Epoch 25 (10.39s)\tAvg. loss=0.586547\tNNZ=120862\n",
      "[SparseLR] Epoch 49 (19.22s)\tAvg. loss=0.562661\tNNZ=120855\n",
      "[SparseLR] Training done (19.22s)\n",
      "============================================================\n",
      "[12] Testing lr = 1.00e-03, l1_penalty = 1.00e-06, l2_penalty = 1.00e-03\n",
      "============================================================\n",
      "[SparseLR] lr=0.001 l1=1e-06 l2=0.001\n",
      "[SparseLR] Building model\n",
      "[SparseLR] Training model\n",
      "[SparseLR] #examples=6960  #epochs=50  batch size=100\n",
      "[SparseLR] Epoch 0 (1.23s)\tAvg. loss=0.647060\tNNZ=120876\n",
      "[SparseLR] Epoch 25 (11.05s)\tAvg. loss=0.492627\tNNZ=120876\n",
      "[SparseLR] Epoch 49 (19.98s)\tAvg. loss=0.465474\tNNZ=120876\n",
      "[SparseLR] Training done (19.98s)\n",
      "============================================================\n",
      "[13] Testing lr = 1.00e-04, l1_penalty = 1.00e-04, l2_penalty = 1.00e-05\n",
      "============================================================\n",
      "[SparseLR] lr=0.0001 l1=0.0001 l2=1e-05\n",
      "[SparseLR] Building model\n",
      "[SparseLR] Training model\n",
      "[SparseLR] #examples=6960  #epochs=50  batch size=100\n",
      "[SparseLR] Epoch 0 (1.24s)\tAvg. loss=0.687016\tNNZ=120876\n",
      "[SparseLR] Epoch 25 (11.10s)\tAvg. loss=0.582242\tNNZ=120876\n",
      "[SparseLR] Epoch 49 (20.49s)\tAvg. loss=0.558189\tNNZ=120876\n",
      "[SparseLR] Training done (20.49s)\n",
      "============================================================\n",
      "[14] Testing lr = 1.00e-03, l1_penalty = 1.00e-05, l2_penalty = 1.00e-04\n",
      "============================================================\n",
      "[SparseLR] lr=0.001 l1=1e-05 l2=0.0001\n",
      "[SparseLR] Building model\n",
      "[SparseLR] Training model\n",
      "[SparseLR] #examples=6960  #epochs=50  batch size=100\n",
      "[SparseLR] Epoch 0 (1.26s)\tAvg. loss=0.648770\tNNZ=120876\n",
      "[SparseLR] Epoch 25 (10.85s)\tAvg. loss=0.490916\tNNZ=120876\n",
      "[SparseLR] Epoch 49 (21.21s)\tAvg. loss=0.463340\tNNZ=120876\n",
      "[SparseLR] Training done (21.21s)\n",
      "============================================================\n",
      "[15] Testing lr = 1.00e-04, l1_penalty = 1.00e-02, l2_penalty = 1.00e-05\n",
      "============================================================\n",
      "[SparseLR] lr=0.0001 l1=0.01 l2=1e-05\n",
      "[SparseLR] Building model\n",
      "[SparseLR] Training model\n",
      "[SparseLR] #examples=6960  #epochs=50  batch size=100\n",
      "[SparseLR] Epoch 0 (1.57s)\tAvg. loss=0.684673\tNNZ=120871\n",
      "[SparseLR] Epoch 25 (11.16s)\tAvg. loss=0.586398\tNNZ=120869\n",
      "[SparseLR] Epoch 49 (20.92s)\tAvg. loss=0.562801\tNNZ=120856\n",
      "[SparseLR] Training done (20.92s)\n",
      "============================================================\n",
      "[16] Testing lr = 1.00e-05, l1_penalty = 1.00e-06, l2_penalty = 1.00e-04\n",
      "============================================================\n",
      "[SparseLR] lr=1e-05 l1=1e-06 l2=0.0001\n",
      "[SparseLR] Building model\n",
      "[SparseLR] Training model\n",
      "[SparseLR] #examples=6960  #epochs=50  batch size=100\n",
      "[SparseLR] Epoch 0 (1.25s)\tAvg. loss=0.695228\tNNZ=120876\n",
      "[SparseLR] Epoch 25 (10.69s)\tAvg. loss=0.661010\tNNZ=120876\n",
      "[SparseLR] Epoch 49 (19.91s)\tAvg. loss=0.641405\tNNZ=120876\n",
      "[SparseLR] Training done (19.91s)\n",
      "============================================================\n",
      "[17] Testing lr = 1.00e-06, l1_penalty = 1.00e-02, l2_penalty = 1.00e-03\n",
      "============================================================\n",
      "[SparseLR] lr=1e-06 l1=0.01 l2=0.001\n",
      "[SparseLR] Building model\n",
      "[SparseLR] Training model\n",
      "[SparseLR] #examples=6960  #epochs=50  batch size=100\n",
      "[SparseLR] Epoch 0 (1.27s)\tAvg. loss=0.690916\tNNZ=120876\n",
      "[SparseLR] Epoch 25 (11.23s)\tAvg. loss=0.686970\tNNZ=120876\n",
      "[SparseLR] Epoch 49 (20.37s)\tAvg. loss=0.683482\tNNZ=120876\n",
      "[SparseLR] Training done (20.37s)\n",
      "============================================================\n",
      "[18] Testing lr = 1.00e-02, l1_penalty = 1.00e-05, l2_penalty = 1.00e-06\n",
      "============================================================\n",
      "[SparseLR] lr=0.01 l1=1e-05 l2=1e-06\n",
      "[SparseLR] Building model\n",
      "[SparseLR] Training model\n",
      "[SparseLR] #examples=6960  #epochs=50  batch size=100\n",
      "[SparseLR] Epoch 0 (1.31s)\tAvg. loss=0.582991\tNNZ=120876\n",
      "[SparseLR] Epoch 25 (11.05s)\tAvg. loss=0.416540\tNNZ=120876\n",
      "[SparseLR] Epoch 49 (22.33s)\tAvg. loss=0.405834\tNNZ=120876\n",
      "[SparseLR] Training done (22.33s)\n",
      "============================================================\n",
      "[19] Testing lr = 1.00e-05, l1_penalty = 1.00e-02, l2_penalty = 1.00e-06\n",
      "============================================================\n",
      "[SparseLR] lr=1e-05 l1=0.01 l2=1e-06\n",
      "[SparseLR] Building model\n",
      "[SparseLR] Training model\n",
      "[SparseLR] #examples=6960  #epochs=50  batch size=100\n",
      "[SparseLR] Epoch 0 (1.42s)\tAvg. loss=0.692051\tNNZ=120875\n",
      "[SparseLR] Epoch 25 (11.52s)\tAvg. loss=0.662044\tNNZ=120875\n",
      "[SparseLR] Epoch 49 (21.63s)\tAvg. loss=0.643910\tNNZ=120876\n",
      "[SparseLR] Training done (21.63s)\n",
      "============================================================\n",
      "[20] Testing lr = 1.00e-02, l1_penalty = 1.00e-05, l2_penalty = 1.00e-04\n",
      "============================================================\n",
      "[SparseLR] lr=0.01 l1=1e-05 l2=0.0001\n",
      "[SparseLR] Building model\n",
      "[SparseLR] Training model\n",
      "[SparseLR] #examples=6960  #epochs=50  batch size=100\n",
      "[SparseLR] Epoch 0 (1.35s)\tAvg. loss=0.583357\tNNZ=120875\n",
      "[SparseLR] Epoch 25 (11.29s)\tAvg. loss=0.416407\tNNZ=120875\n",
      "[SparseLR] Epoch 49 (20.97s)\tAvg. loss=0.405648\tNNZ=120876\n",
      "[SparseLR] Training done (20.97s)\n",
      "[SparseLR] Loaded model <SparseLR_7>\n"
     ]
    },
    {
     "data": {
      "text/html": [
       "<div>\n",
       "<table border=\"1\" class=\"dataframe\">\n",
       "  <thead>\n",
       "    <tr style=\"text-align: right;\">\n",
       "      <th></th>\n",
       "      <th>lr</th>\n",
       "      <th>l1_penalty</th>\n",
       "      <th>l2_penalty</th>\n",
       "      <th>Prec.</th>\n",
       "      <th>Rec.</th>\n",
       "      <th>F1</th>\n",
       "    </tr>\n",
       "  </thead>\n",
       "  <tbody>\n",
       "    <tr>\n",
       "      <th>7</th>\n",
       "      <td>0.010000</td>\n",
       "      <td>0.000010</td>\n",
       "      <td>0.010000</td>\n",
       "      <td>0.444954</td>\n",
       "      <td>0.655405</td>\n",
       "      <td>0.530055</td>\n",
       "    </tr>\n",
       "    <tr>\n",
       "      <th>4</th>\n",
       "      <td>0.010000</td>\n",
       "      <td>0.000100</td>\n",
       "      <td>0.000010</td>\n",
       "      <td>0.454988</td>\n",
       "      <td>0.631757</td>\n",
       "      <td>0.528996</td>\n",
       "    </tr>\n",
       "    <tr>\n",
       "      <th>19</th>\n",
       "      <td>0.010000</td>\n",
       "      <td>0.000010</td>\n",
       "      <td>0.000100</td>\n",
       "      <td>0.452555</td>\n",
       "      <td>0.628378</td>\n",
       "      <td>0.526167</td>\n",
       "    </tr>\n",
       "    <tr>\n",
       "      <th>0</th>\n",
       "      <td>0.010000</td>\n",
       "      <td>0.001000</td>\n",
       "      <td>0.000100</td>\n",
       "      <td>0.444712</td>\n",
       "      <td>0.625000</td>\n",
       "      <td>0.519663</td>\n",
       "    </tr>\n",
       "    <tr>\n",
       "      <th>2</th>\n",
       "      <td>0.001000</td>\n",
       "      <td>0.000010</td>\n",
       "      <td>0.000010</td>\n",
       "      <td>0.444712</td>\n",
       "      <td>0.625000</td>\n",
       "      <td>0.519663</td>\n",
       "    </tr>\n",
       "    <tr>\n",
       "      <th>17</th>\n",
       "      <td>0.010000</td>\n",
       "      <td>0.000010</td>\n",
       "      <td>0.000001</td>\n",
       "      <td>0.446078</td>\n",
       "      <td>0.614865</td>\n",
       "      <td>0.517045</td>\n",
       "    </tr>\n",
       "    <tr>\n",
       "      <th>3</th>\n",
       "      <td>0.001000</td>\n",
       "      <td>0.000001</td>\n",
       "      <td>0.001000</td>\n",
       "      <td>0.437647</td>\n",
       "      <td>0.628378</td>\n",
       "      <td>0.515950</td>\n",
       "    </tr>\n",
       "    <tr>\n",
       "      <th>11</th>\n",
       "      <td>0.001000</td>\n",
       "      <td>0.000001</td>\n",
       "      <td>0.001000</td>\n",
       "      <td>0.436620</td>\n",
       "      <td>0.628378</td>\n",
       "      <td>0.515235</td>\n",
       "    </tr>\n",
       "    <tr>\n",
       "      <th>13</th>\n",
       "      <td>0.001000</td>\n",
       "      <td>0.000010</td>\n",
       "      <td>0.000100</td>\n",
       "      <td>0.434368</td>\n",
       "      <td>0.614865</td>\n",
       "      <td>0.509091</td>\n",
       "    </tr>\n",
       "    <tr>\n",
       "      <th>15</th>\n",
       "      <td>0.000010</td>\n",
       "      <td>0.000001</td>\n",
       "      <td>0.000100</td>\n",
       "      <td>0.449198</td>\n",
       "      <td>0.567568</td>\n",
       "      <td>0.501493</td>\n",
       "    </tr>\n",
       "    <tr>\n",
       "      <th>8</th>\n",
       "      <td>0.000100</td>\n",
       "      <td>0.010000</td>\n",
       "      <td>0.000001</td>\n",
       "      <td>0.416092</td>\n",
       "      <td>0.611486</td>\n",
       "      <td>0.495212</td>\n",
       "    </tr>\n",
       "    <tr>\n",
       "      <th>10</th>\n",
       "      <td>0.000100</td>\n",
       "      <td>0.010000</td>\n",
       "      <td>0.000100</td>\n",
       "      <td>0.416092</td>\n",
       "      <td>0.611486</td>\n",
       "      <td>0.495212</td>\n",
       "    </tr>\n",
       "    <tr>\n",
       "      <th>1</th>\n",
       "      <td>0.000100</td>\n",
       "      <td>0.000001</td>\n",
       "      <td>0.001000</td>\n",
       "      <td>0.419204</td>\n",
       "      <td>0.604730</td>\n",
       "      <td>0.495159</td>\n",
       "    </tr>\n",
       "    <tr>\n",
       "      <th>14</th>\n",
       "      <td>0.000100</td>\n",
       "      <td>0.010000</td>\n",
       "      <td>0.000010</td>\n",
       "      <td>0.411765</td>\n",
       "      <td>0.614865</td>\n",
       "      <td>0.493225</td>\n",
       "    </tr>\n",
       "    <tr>\n",
       "      <th>12</th>\n",
       "      <td>0.000100</td>\n",
       "      <td>0.000100</td>\n",
       "      <td>0.000010</td>\n",
       "      <td>0.412442</td>\n",
       "      <td>0.604730</td>\n",
       "      <td>0.490411</td>\n",
       "    </tr>\n",
       "    <tr>\n",
       "      <th>18</th>\n",
       "      <td>0.000010</td>\n",
       "      <td>0.010000</td>\n",
       "      <td>0.000001</td>\n",
       "      <td>0.435135</td>\n",
       "      <td>0.543919</td>\n",
       "      <td>0.483483</td>\n",
       "    </tr>\n",
       "    <tr>\n",
       "      <th>6</th>\n",
       "      <td>0.000001</td>\n",
       "      <td>0.001000</td>\n",
       "      <td>0.010000</td>\n",
       "      <td>0.417098</td>\n",
       "      <td>0.543919</td>\n",
       "      <td>0.472141</td>\n",
       "    </tr>\n",
       "    <tr>\n",
       "      <th>16</th>\n",
       "      <td>0.000001</td>\n",
       "      <td>0.010000</td>\n",
       "      <td>0.001000</td>\n",
       "      <td>0.469799</td>\n",
       "      <td>0.472973</td>\n",
       "      <td>0.471380</td>\n",
       "    </tr>\n",
       "    <tr>\n",
       "      <th>9</th>\n",
       "      <td>0.000001</td>\n",
       "      <td>0.000010</td>\n",
       "      <td>0.001000</td>\n",
       "      <td>0.418239</td>\n",
       "      <td>0.449324</td>\n",
       "      <td>0.433225</td>\n",
       "    </tr>\n",
       "    <tr>\n",
       "      <th>5</th>\n",
       "      <td>0.000001</td>\n",
       "      <td>0.001000</td>\n",
       "      <td>0.000010</td>\n",
       "      <td>0.414474</td>\n",
       "      <td>0.425676</td>\n",
       "      <td>0.420000</td>\n",
       "    </tr>\n",
       "  </tbody>\n",
       "</table>\n",
       "</div>"
      ],
      "text/plain": [
       "          lr  l1_penalty  l2_penalty     Prec.      Rec.        F1\n",
       "7   0.010000    0.000010    0.010000  0.444954  0.655405  0.530055\n",
       "4   0.010000    0.000100    0.000010  0.454988  0.631757  0.528996\n",
       "19  0.010000    0.000010    0.000100  0.452555  0.628378  0.526167\n",
       "0   0.010000    0.001000    0.000100  0.444712  0.625000  0.519663\n",
       "2   0.001000    0.000010    0.000010  0.444712  0.625000  0.519663\n",
       "17  0.010000    0.000010    0.000001  0.446078  0.614865  0.517045\n",
       "3   0.001000    0.000001    0.001000  0.437647  0.628378  0.515950\n",
       "11  0.001000    0.000001    0.001000  0.436620  0.628378  0.515235\n",
       "13  0.001000    0.000010    0.000100  0.434368  0.614865  0.509091\n",
       "15  0.000010    0.000001    0.000100  0.449198  0.567568  0.501493\n",
       "8   0.000100    0.010000    0.000001  0.416092  0.611486  0.495212\n",
       "10  0.000100    0.010000    0.000100  0.416092  0.611486  0.495212\n",
       "1   0.000100    0.000001    0.001000  0.419204  0.604730  0.495159\n",
       "14  0.000100    0.010000    0.000010  0.411765  0.614865  0.493225\n",
       "12  0.000100    0.000100    0.000010  0.412442  0.604730  0.490411\n",
       "18  0.000010    0.010000    0.000001  0.435135  0.543919  0.483483\n",
       "6   0.000001    0.001000    0.010000  0.417098  0.543919  0.472141\n",
       "16  0.000001    0.010000    0.001000  0.469799  0.472973  0.471380\n",
       "9   0.000001    0.000010    0.001000  0.418239  0.449324  0.433225\n",
       "5   0.000001    0.001000    0.000010  0.414474  0.425676  0.420000"
      ]
     },
     "execution_count": 51,
     "metadata": {},
     "output_type": "execute_result"
    }
   ],
   "source": [
    "import numpy as np\n",
    "np.random.seed(1701)\n",
    "searcher.fit(F_dev, L_gold_dev, n_epochs=50, rebalance=0.5, print_freq=25)"
   ]
  },
  {
   "cell_type": "markdown",
   "metadata": {},
   "source": [
    "### Scoring on the test set\n",
    "\n",
    "Finally, we'll evaluate our performance on the blind test set of 500 documents. We'll load labels similar to how we did for the development set, and use the `score` function of our extraction model to see how we did."
   ]
  },
  {
   "cell_type": "code",
   "execution_count": 33,
   "metadata": {
    "collapsed": false
   },
   "outputs": [
    {
     "name": "stdout",
     "output_type": "stream",
     "text": [
      "AnnotatorLabels created: 0\n"
     ]
    }
   ],
   "source": [
    "from load_external_annotations import load_external_labels\n",
    "load_external_labels(session, ChemicalDisease, split=2, annotator='gold')"
   ]
  },
  {
   "cell_type": "code",
   "execution_count": 12,
   "metadata": {
    "collapsed": false
   },
   "outputs": [
    {
     "data": {
      "text/plain": [
       "<4620x1 sparse matrix of type '<type 'numpy.float64'>'\n",
       "\twith 4620 stored elements in Compressed Sparse Row format>"
      ]
     },
     "execution_count": 12,
     "metadata": {},
     "output_type": "execute_result"
    }
   ],
   "source": [
    "from snorkel.annotations import load_gold_labels\n",
    "L_gold_test = load_gold_labels(session, annotator_name='gold', split=2)\n",
    "L_gold_test"
   ]
  },
  {
   "cell_type": "code",
   "execution_count": 52,
   "metadata": {
    "collapsed": false
   },
   "outputs": [
    {
     "name": "stdout",
     "output_type": "stream",
     "text": [
      "========================================\n",
      "Scores (Un-adjusted)\n",
      "========================================\n",
      "Pos. class accuracy: 0.702\n",
      "Neg. class accuracy: 0.581\n",
      "Precision            0.447\n",
      "Recall               0.702\n",
      "F1                   0.546\n",
      "----------------------------------------\n",
      "TP: 1056 | FP: 1306 | TN: 1809 | FN: 449\n",
      "========================================\n",
      "\n"
     ]
    }
   ],
   "source": [
    "_, _, _, _ = disc_model.score(session, F_test, L_gold_test)"
   ]
  },
  {
   "cell_type": "markdown",
   "metadata": {},
   "source": [
    "# Part V: Training an LSTM extraction model\n",
    "\n",
    "In the intro tutorial, we automatically featurized the candidates and trained a linear model over these features. Here, we'll train a more complicated model for relation extraction: an LSTM network. You can read more about LSTMs [here](https://en.wikipedia.org/wiki/Long_short-term_memory) or [here](http://colah.github.io/posts/2015-08-Understanding-LSTMs/). An LSTM is a type of recurrent neural network and automatically generates a numerical representation for the candidate based on the sentence text, so no need for featurizing explicitly as in the intro tutorial. LSTMs take longer to train, and Snorkel doesn't currently support hyperparameter searches for them. We'll train a single model here, but feel free to try out other parameter sets. Just make sure to use the development set - and not the test set - for model selection."
   ]
  },
  {
   "cell_type": "code",
   "execution_count": null,
   "metadata": {
    "collapsed": false
   },
   "outputs": [],
   "source": [
    "from snorkel.contrib.learning import reLSTM\n",
    "\n",
    "lstm = reLSTM()\n",
    "lstm.train(\n",
    "    train, train_marginals, lr=0.005, dim=200, n_epochs=30,\n",
    "    dropout_rate=0.5, rebalance=0.25, print_freq=5\n",
    ")"
   ]
  }
 ],
 "metadata": {
  "anaconda-cloud": {},
  "kernelspec": {
   "display_name": "Python 2",
   "language": "python",
   "name": "python2"
  },
  "language_info": {
   "codemirror_mode": {
    "name": "ipython",
    "version": 2
   },
   "file_extension": ".py",
   "mimetype": "text/x-python",
   "name": "python",
   "nbconvert_exporter": "python",
   "pygments_lexer": "ipython2",
   "version": "2.7.10"
  }
 },
 "nbformat": 4,
 "nbformat_minor": 0
}
