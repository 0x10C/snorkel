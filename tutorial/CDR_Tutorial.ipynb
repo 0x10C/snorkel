{
 "cells": [
  {
   "cell_type": "markdown",
   "metadata": {},
   "source": [
    "# Tutorial, Part I: Candidate Extraction\n",
    "\n",
    "In this example, we'll be writing an application to extract **chemical-induced-disease relationships** from Pubmed abstracts, as per the [BioCreative CDR Challenge](http://www.biocreative.org/resources/corpora/biocreative-v-cdr-corpus/).  At core, we will be constructing a model to classify _candidate chemical-disease (C-D) relation mentions_ as either true or false.  To do this, we first need a set of such candidates- in this notebook, we'll use `DDLite` utilities to extract these candidates."
   ]
  },
  {
   "cell_type": "markdown",
   "metadata": {},
   "source": [
    "## Loading the Corpus\n",
    "\n",
    "First, we will load and pre-process the corpus, storing it for convenience in a `Corpus` object"
   ]
  },
  {
   "cell_type": "markdown",
   "metadata": {},
   "source": [
    "### Configuring a document parser\n",
    "\n",
    "We'll start by defining a `DocParser` class to read in Pubmed abstracts from [Pubtator]([Pubtator](http://www.ncbi.nlm.nih.gov/CBBresearch/Lu/Demo/PubTator/index.cgi)), where they are stored along with \"gold\" (i.e. hand-annotated by experts) *chemical* and *disease mention* annotations. We'll use the `XMLDocParser` class, which allows us to use [XPath queries](https://en.wikipedia.org/wiki/XPath) to specify the relevant sections of the XML format.\n",
    "\n",
    "_Note that we are newline-concatenating text from the title and abstract together for simplicity, but if we wanted to, we could easily extend the `DocParser` classes to preserve information about document structure._"
   ]
  },
  {
   "cell_type": "code",
   "execution_count": 1,
   "metadata": {
    "collapsed": false
   },
   "outputs": [],
   "source": [
    "from ddlite_parser import XMLDocParser\n",
    "xml_parser = XMLDocParser(\n",
    "    path='data/CDR_DevelopmentSet.xml',\n",
    "    doc='.//document',\n",
    "    text='.//passage/text/text()',\n",
    "    id='.//id/text()',\n",
    "    keep_xml_tree=True)"
   ]
  },
  {
   "cell_type": "markdown",
   "metadata": {},
   "source": [
    "### Selecting a sentence parser\n",
    "\n",
    "Next, we'll use an NLP preprocessing tool to split the `Document` objects into sentences, tokens, and provide annotations--part-of-speech tags, dependency parse structure, lemmatized word forms, etc.--for these sentences.  Here we use the default `SentenceParser` class."
   ]
  },
  {
   "cell_type": "code",
   "execution_count": 2,
   "metadata": {
    "collapsed": false
   },
   "outputs": [],
   "source": [
    "from ddlite_parser import SentenceParser\n",
    "sent_parser = SentenceParser()"
   ]
  },
  {
   "cell_type": "markdown",
   "metadata": {},
   "source": [
    "### Pre-processing & loading the corpus\n",
    "\n",
    "Finally, we'll put this all together using a `Corpus` object, which will execute the parsers and store the results as an iterator:"
   ]
  },
  {
   "cell_type": "code",
   "execution_count": 3,
   "metadata": {
    "collapsed": false
   },
   "outputs": [
    {
     "name": "stdout",
     "output_type": "stream",
     "text": [
      "Parsing documents...\n",
      "Parsing sentences...\n",
      "CPU times: user 4.43 s, sys: 129 ms, total: 4.55 s\n",
      "Wall time: 28 s\n"
     ]
    }
   ],
   "source": [
    "from ddlite_parser import Corpus\n",
    "%time corpus = Corpus(xml_parser, sent_parser)"
   ]
  },
  {
   "cell_type": "code",
   "execution_count": 4,
   "metadata": {
    "collapsed": false
   },
   "outputs": [
    {
     "name": "stdout",
     "output_type": "stream",
     "text": [
      "Document(id='1445986', file='CDR_DevelopmentSet.xml', text=\"Cefotetan-induced immune hemolytic anemia.\\nImmune hemolytic anemia due to a drug-adsorption mechanism has been described primarily in patients receiving penicillins and first-generation cephalosporins. We describe a patient who developed anemia while receiving intravenous cefotetan. Cefotetan-dependent antibodies were detected in the patient's serum and in an eluate prepared from his red blood cells. The eluate also reacted weakly with red blood cells in the absence of cefotetan, suggesting the concomitant formation of warm-reactive autoantibodies. These observations, in conjunction with clinical and laboratory evidence of extravascular hemolysis, are consistent with drug-induced hemolytic anemia, possibly involving both drug-adsorption and autoantibody formation mechanisms. This case emphasizes the need for increased awareness of hemolytic reactions to all cephalosporins.\", attribs={'root': <Element document at 0x10a947e60>})\n"
     ]
    }
   ],
   "source": [
    "doc  = corpus.get_docs()[2]\n",
    "print doc"
   ]
  },
  {
   "cell_type": "code",
   "execution_count": 5,
   "metadata": {
    "collapsed": false
   },
   "outputs": [
    {
     "name": "stdout",
     "output_type": "stream",
     "text": [
      "Sentence(id='1445986-0', words=[u'Cefotetan-induced', u'immune', u'hemolytic', u'anemia', u'.'], lemmas=[u'cefotetan-induced', u'immune', u'hemolytic', u'anemia', u'.'], poses=[u'JJ', u'JJ', u'JJ', u'NN', u'.'], dep_parents=[4, 4, 4, 0, 4], dep_labels=[u'amod', u'amod', u'amod', u'ROOT', u'punct'], sent_id=0, doc_id='1445986', text=u'Cefotetan-induced immune hemolytic anemia.', char_offsets=[0, 18, 25, 35, 41], doc_name='CDR_DevelopmentSet.xml')\n"
     ]
    }
   ],
   "source": [
    "sent = corpus.get_sentences_in(doc.id)[0]\n",
    "print sent"
   ]
  },
  {
   "cell_type": "markdown",
   "metadata": {},
   "source": [
    "## Writing a basic candidate extractor\n",
    "\n",
    "Next, we'll write a basic function to extract **candidate disease mentions** from the corpus.  For this first attempt, we'll just write a function that checks for matches against a list (or _\"dictionary\"_) of disease phrases, constructed using some pre-compiled ontologies ([UMLS](https://www.nlm.nih.gov/research/umls/), [ORDO](http://www.orphadata.org/cgi-bin/inc/ordo_orphanet.inc.php), [DOID](http://www.obofoundry.org/ontology/doid.html), [NCBI Diseases](http://www.ncbi.nlm.nih.gov/CBBresearch/Dogan/DISEASE/); see `tutorial/data/diseases.py`).\n",
    "\n",
    "We'll do this using a `CandidateSpace` object--which defines the basic candidates we consider, in this case n-grams up to a certain length--and a `Matcher` object, which filters this candidate space down."
   ]
  },
  {
   "cell_type": "code",
   "execution_count": 6,
   "metadata": {
    "collapsed": false
   },
   "outputs": [
    {
     "name": "stdout",
     "output_type": "stream",
     "text": [
      "Loaded 507899 disease phrases!\n"
     ]
    }
   ],
   "source": [
    "from load_dictionaries import load_disease_dictionary\n",
    "from ddlite_candidates import Ngrams\n",
    "from ddlite_matchers import DictionaryMatch\n",
    "\n",
    "# Load the disease phrase dictionary\n",
    "diseases = load_disease_dictionary()\n",
    "print \"Loaded %s disease phrases!\" % len(diseases)\n",
    "\n",
    "# Define a candidate space\n",
    "ngrams = Ngrams(n_max=3)\n",
    "\n",
    "# Define a matcher\n",
    "matcher = DictionaryMatch(d=diseases, longest_match_only=False)"
   ]
  },
  {
   "cell_type": "markdown",
   "metadata": {},
   "source": [
    "Note that we set `longest_match_only=False`, which means that we _will_ consider subsequences of phrases that match our dictionary.\n",
    "\n",
    "The `Ngrams` operator is applied over our `Sentence` objects and returns `Ngram` objects, and the `Matcher` then filters these, so we apply our operators over the sentences in the corpus, storing the results in a `Candidates` object for convenience:"
   ]
  },
  {
   "cell_type": "code",
   "execution_count": 7,
   "metadata": {
    "collapsed": false
   },
   "outputs": [
    {
     "name": "stdout",
     "output_type": "stream",
     "text": [
      "Extracting candidates...\n",
      "CPU times: user 5.08 s, sys: 230 ms, total: 5.31 s\n",
      "Wall time: 5.15 s\n"
     ]
    },
    {
     "data": {
      "text/plain": [
       "[<Ngram(\"depression\", id=6794356-5:662-671, chars=[662,671], words=[4,4]),\n",
       " <Ngram(\"fulminant hepatitis\", id=3411101-5:504-522, chars=[504,522], words=[8,9]),\n",
       " <Ngram(\"examined\", id=16132524-4:674-681, chars=[674,681], words=[29,29]),\n",
       " <Ngram(\"hypertension\", id=16820346-4:652-663, chars=[652,663], words=[3,3]),\n",
       " <Ngram(\"artery disease\", id=15531665-5:829-842, chars=[829,842], words=[16,17])]"
      ]
     },
     "execution_count": 7,
     "metadata": {},
     "output_type": "execute_result"
    }
   ],
   "source": [
    "from ddlite_candidates import Candidates\n",
    "%time c = Candidates(ngrams, matcher, corpus.get_sentences())\n",
    "c.get_candidates()[:5]"
   ]
  },
  {
   "cell_type": "markdown",
   "metadata": {},
   "source": [
    "## Evaluating our candidate recall on gold annotations\n",
    "\n",
    "Next, we'll test our _candidate recall_--in other words, how many of the true disease mentions we picked up in our candidate set--using the gold annotations in our dataset.\n",
    "\n",
    "The XML documents that we loaded using the `XMLDocParser` also contained annotations (this is why we kept the full xml tree using `keep_xml_tree=True`).  We'll load these annotations and map them to `Ngram` objects over our parsed sentences, that way we can easily compare our extracted candidate set with the gold annotations.  The code is fairly simple (see `tutorial/util.py`); note that we filter to only keep _disease_ annotations, and that the candidates should be uniquely identified by their `id` attribute:"
   ]
  },
  {
   "cell_type": "code",
   "execution_count": 11,
   "metadata": {
    "collapsed": false
   },
   "outputs": [],
   "source": [
    "from utils import collect_pubtator_annotations\n",
    "gold = []\n",
    "for doc, sents in corpus:\n",
    "    gold += [a for a in collect_pubtator_annotations(doc, sents) if a.metadata['type'] == 'Disease']\n",
    "gold = frozenset(gold)"
   ]
  },
  {
   "cell_type": "markdown",
   "metadata": {},
   "source": [
    "Now, we have a set of gold annotations of the same type as our candidates (`Ngram`), and can use set operations (where candidate objects are hashed by their `id` attribute), e.g.:"
   ]
  },
  {
   "cell_type": "code",
   "execution_count": 12,
   "metadata": {
    "collapsed": false
   },
   "outputs": [
    {
     "data": {
      "text/plain": [
       "3039"
      ]
     },
     "execution_count": 12,
     "metadata": {},
     "output_type": "execute_result"
    }
   ],
   "source": [
    "len(gold.intersection(c.get_candidates()))"
   ]
  },
  {
   "cell_type": "markdown",
   "metadata": {},
   "source": [
    "For convenience, we'll use a basic helper method of the `Candidates` object:"
   ]
  },
  {
   "cell_type": "code",
   "execution_count": 13,
   "metadata": {
    "collapsed": false
   },
   "outputs": [
    {
     "name": "stdout",
     "output_type": "stream",
     "text": [
      "# of gold annotations\t= 4244\n",
      "# of candidates\t\t= 6944\n",
      "Candidate recall\t= 0.716\n",
      "Candidate precision\t= 0.438\n"
     ]
    }
   ],
   "source": [
    "c.gold_stats(gold)"
   ]
  },
  {
   "cell_type": "markdown",
   "metadata": {},
   "source": [
    "We note that our focus in this stage is on **acheiving high candidate recall, without considering an impractically large candidate set**.  Our main focus after this stage will be on training a classifier to select which candidates are true; this will raise precision while hopefully keeping recall high.  _Note however that candidate recall is an upper bound for the recall of this classifier!_\n",
    "\n",
    "So, we have some work to do."
   ]
  },
  {
   "cell_type": "markdown",
   "metadata": {},
   "source": [
    "## Using the `Viewer` to inspect data\n",
    "\n",
    "Next, we'll use the `Viewer` class--here, specifically, the `SentenceNgramViewer`--to inspect the data.\n",
    "\n",
    "To start, we'll assemble a random set of all the sentences where there are gold annotations _not in our candidate set_, i.e. where we missed something, and then inspect these in the `Viewer`:"
   ]
  },
  {
   "cell_type": "code",
   "execution_count": 17,
   "metadata": {
    "collapsed": false
   },
   "outputs": [],
   "source": [
    "# Index the gold annotations by sentence id\n",
    "gold_by_sid = defaultdict(list)\n",
    "for g in gold:\n",
    "    gold_by_sid[g.sent_id].append(g)\n",
    "\n",
    "# Get sentences\n",
    "view_sents = [s for s in corpus.get_sentences() if len(c.get_candidates_in(s.id)) < len(gold_by_sid[s.id])]\n",
    "shuffle(view_sents)\n",
    "view_sents = view_sents[:50]"
   ]
  },
  {
   "cell_type": "markdown",
   "metadata": {},
   "source": [
    "Now, we instantiate and render the `Viewer` object; note we're being a bit sloppy, passing in _all_ the candidates and gold labels, but the `Viewer` object will take care of indexing them by sentence, and will only render the sentences we pass in:"
   ]
  },
  {
   "cell_type": "code",
   "execution_count": 18,
   "metadata": {
    "collapsed": false,
    "scrolled": true
   },
   "outputs": [
    {
     "data": {
      "text/html": [
       "<link href=\"../viewer/bootstrap/css/bootstrap.min.css\" rel=\"stylesheet\" />\n",
       "<link href=\"../viewer/viewer.css\" type=\"text/css\" rel=\"stylesheet\" />\n",
       "<div id=\"viewer-3650\" class=\"viewer-pane panel panel-default\" tabindex=\"0\">\n",
       "    <div class=\"panel-heading\">\n",
       "        <h3 class=\"panel-title\">Viewer</h3>\n",
       "        <div id=\"candidate-caption-3650\" class=\"panel-left-justify\"></div>\n",
       "    </div>\n",
       "    <div class=\"panel-body\" style=\"height:225px\">\n",
       "        <div class=\"viewer-page viewer-page-3650\" id=\"viewer-page-3650-0\" data-nc=\"4\">\n",
       "            <ul class=\"list-group\">\n",
       "        <li class=\"list-group-item\" data-toggle=\"tooltip\" data-placement=\"top\" title=\"20552622-6\"><div class=\"candidate-data\" id=\"cdata-3650-0-0\" caption=\"CID: 20552622-6:644-658\"></div><span class=\"\">DISCUSSION: Swallowing-induced </span><span class=\"gold-annotation\">atrial </span><span class=\"candidate gold-annotation c-3650-0-0\">tachyarrhythmia</span><span class=\"\"> (</span><span class=\"gold-annotation\">SIAT</span><span class=\"\">) is a rare phenomenon.</span></li>\n",
       "        \n",
       "        <li class=\"list-group-item\" data-toggle=\"tooltip\" data-placement=\"top\" title=\"11912119-1\"><div class=\"candidate-data\" id=\"cdata-3650-0-1\" caption=\"CID: 11912119-1:130-136\"></div><div class=\"candidate-data\" id=\"cdata-3650-0-2\" caption=\"CID: 11912119-1:168-180\"></div><span class=\"\">We assessed force coordination of the hand in </span><span class=\"gold-annotation\">Parkinson's </span><span class=\"candidate gold-annotation c-3650-0-1\">disease</span><span class=\"\"> and its relationship to motor </span><span class=\"candidate c-3650-0-2\">complications</span><span class=\"\"> of levodopa therapy, particularly to levodopa-induced </span><span class=\"gold-annotation\">dyskinesias</span><span class=\"\"> (</span><span class=\"gold-annotation\">LID</span><span class=\"\">).</span></li>\n",
       "        \n",
       "        <li class=\"list-group-item\" data-toggle=\"tooltip\" data-placement=\"top\" title=\"12852481-9\"><div class=\"candidate-data\" id=\"cdata-3650-0-3\" caption=\"CID: 12852481-9:1782-1784\"></div><span class=\"\">In single dose studies, </span><span class=\"gold-annotation\">DH</span><span class=\"\">, </span><span class=\"gold-annotation\">MD</span><span class=\"\">, and </span><span class=\"candidate gold-annotation c-3650-0-3\">VSD</span><span class=\"\"> were induced on GDs 9 and 10.</span></li>\n",
       "        </ul>\n",
       "        </div>\n",
       "        \n",
       "        <div class=\"viewer-page viewer-page-3650\" id=\"viewer-page-3650-1\" data-nc=\"2\">\n",
       "            <ul class=\"list-group\">\n",
       "        <li class=\"list-group-item\" data-toggle=\"tooltip\" data-placement=\"top\" title=\"8106150-8\"><div class=\"candidate-data\" id=\"cdata-3650-1-0\" caption=\"CID: 8106150-8:945-950\"></div><span class=\"\">Atropine converted the </span><span class=\"gold-annotation\">dystonic</span><span class=\"\"> movements into </span><span class=\"candidate gold-annotation c-3650-1-0\">chorea</span><span class=\"\">.</span></li>\n",
       "        \n",
       "        <li class=\"list-group-item\" data-toggle=\"tooltip\" data-placement=\"top\" title=\"9061311-3\"><span class=\"\">Neutrophils from 14 </span><span class=\"gold-annotation\">ALF</span><span class=\"\"> patients were stimulated via the complement receptors using zymosan opsonized with </span><span class=\"gold-annotation\">ALF</span><span class=\"\"> or control serum.</span></li>\n",
       "        \n",
       "        <li class=\"list-group-item\" data-toggle=\"tooltip\" data-placement=\"top\" title=\"9523850-2\"><div class=\"candidate-data\" id=\"cdata-3650-1-1\" caption=\"CID: 9523850-2:312-319\"></div><span class=\"\">In 40% of treated patients, an </span><span class=\"gold-annotation\">arthralgia</span><span class=\"\">-</span><span class=\"gold-annotation\">myalgia</span><span class=\"\"> </span><span class=\"candidate c-3650-1-1\">syndrome</span><span class=\"\"> develops.</span></li>\n",
       "        </ul>\n",
       "        </div>\n",
       "        \n",
       "        <div class=\"viewer-page viewer-page-3650\" id=\"viewer-page-3650-2\" data-nc=\"2\">\n",
       "            <ul class=\"list-group\">\n",
       "        <li class=\"list-group-item\" data-toggle=\"tooltip\" data-placement=\"top\" title=\"20304337-3\"><div class=\"candidate-data\" id=\"cdata-3650-2-0\" caption=\"CID: 20304337-3:352-361\"></div><span class=\"\">We report on an infant with </span><span class=\"gold-annotation\">multiple cranial-nerve involvement</span><span class=\"\"> attributable to </span><span class=\"gold-annotation\">brainstem </span><span class=\"candidate gold-annotation c-3650-2-0\">dysgenesis</span><span class=\"\">, born to a </span><span class=\"gold-annotation\">cocaine-addicted</span><span class=\"\"> mother.</span></li>\n",
       "        \n",
       "        <li class=\"list-group-item\" data-toggle=\"tooltip\" data-placement=\"top\" title=\"18541230-6\"><div class=\"candidate-data\" id=\"cdata-3650-2-1\" caption=\"CID: 18541230-6:613-626\"></div><span class=\"\">Puromycin aminonucleoside-induced </span><span class=\"gold-annotation\">renal dysfunction</span><span class=\"\"> and </span><span class=\"candidate gold-annotation c-3650-2-1\">hyperlipidemia</span><span class=\"\"> were also suppressed.</span></li>\n",
       "        \n",
       "        <li class=\"list-group-item\" data-toggle=\"tooltip\" data-placement=\"top\" title=\"16225977-9\"><span class=\"\">Together with previously reported cases, our patient suggests that </span><span class=\"gold-annotation\">tic-like symptoms</span><span class=\"\"> might occur in certain vulnerable individuals during treatment with atypical antipsychotics such as quetiapine, clozapine, or amisulpride.</span></li>\n",
       "        </ul>\n",
       "        </div>\n",
       "        \n",
       "        <div class=\"viewer-page viewer-page-3650\" id=\"viewer-page-3650-3\" data-nc=\"1\">\n",
       "            <ul class=\"list-group\">\n",
       "        <li class=\"list-group-item\" data-toggle=\"tooltip\" data-placement=\"top\" title=\"7910951-8\"><span class=\"\">A muscle biopsy in this patient showed </span><span class=\"gold-annotation\">loss of thick, myosin filaments</span><span class=\"\">.</span></li>\n",
       "        \n",
       "        <li class=\"list-group-item\" data-toggle=\"tooltip\" data-placement=\"top\" title=\"11705128-13\"><span class=\"\">Questions remain about the optimal dose of ribavirin and the incidence of </span><span class=\"gold-annotation\">RIHA</span><span class=\"\"> in a real-world population.</span></li>\n",
       "        \n",
       "        <li class=\"list-group-item\" data-toggle=\"tooltip\" data-placement=\"top\" title=\"11099450-6\"><div class=\"candidate-data\" id=\"cdata-3650-3-0\" caption=\"CID: 11099450-6:1520-1531\"></div><span class=\"\">Whereas cells in a wider area of the GPi may be implicated in </span><span class=\"candidate gold-annotation c-3650-3-0\">parkinsonism</span><span class=\"\">, the ventral GPi seems to be crucial for the manifestation of </span><span class=\"gold-annotation\">LID</span><span class=\"\">.</span></li>\n",
       "        </ul>\n",
       "        </div>\n",
       "        \n",
       "        <div class=\"viewer-page viewer-page-3650\" id=\"viewer-page-3650-4\" data-nc=\"0\">\n",
       "            <ul class=\"list-group\">\n",
       "        <li class=\"list-group-item\" data-toggle=\"tooltip\" data-placement=\"top\" title=\"3950060-7\"><span class=\"\">Based on this model and on Bayes' theorem, the predictive accuracy of identifying \"</span><span class=\"gold-annotation\">nephrotoxic</span><span class=\"\">\" patients increased from 0.17 to 0.39.</span></li>\n",
       "        \n",
       "        <li class=\"list-group-item\" data-toggle=\"tooltip\" data-placement=\"top\" title=\"11912119-9\"><span class=\"\">Severity of peak-dose </span><span class=\"gold-annotation\">dyskinesias</span><span class=\"\"> was strongly correlated with grip force in ON-state (r = 0.79 with peak force, P < 0.01).</span></li>\n",
       "        \n",
       "        <li class=\"list-group-item\" data-toggle=\"tooltip\" data-placement=\"top\" title=\"7880714-8\"><span class=\"\">IBPB may cause transient </span><span class=\"gold-annotation\">auditory dysfunction</span><span class=\"\"> in the ipsilateral ear, possibly via an effect on sympathetic innervation.</span></li>\n",
       "        </ul>\n",
       "        </div>\n",
       "        \n",
       "        <div class=\"viewer-page viewer-page-3650\" id=\"viewer-page-3650-5\" data-nc=\"2\">\n",
       "            <ul class=\"list-group\">\n",
       "        <li class=\"list-group-item\" data-toggle=\"tooltip\" data-placement=\"top\" title=\"9758264-2\"><div class=\"candidate-data\" id=\"cdata-3650-5-0\" caption=\"CID: 9758264-2:427-435\"></div><span class=\"\">RESULTS: Of 60 </span><span class=\"candidate gold-annotation c-3650-5-0\">epileptic</span><span class=\"\"> women with periconceptional folic acid (0.8 mg)-containing multivitamin supplementation, no one developed </span><span class=\"gold-annotation\">epilepsy</span><span class=\"\">-related side effects during the periconception period.</span></li>\n",
       "        \n",
       "        <li class=\"list-group-item\" data-toggle=\"tooltip\" data-placement=\"top\" title=\"3653576-2\"><div class=\"candidate-data\" id=\"cdata-3650-5-1\" caption=\"CID: 3653576-2:383-396\"></div><span class=\"\">Several routine indicators of </span><span class=\"candidate gold-annotation c-3650-5-1\">nephrotoxicity</span><span class=\"\">, the enzymes alkaline phosphatase and N-acetyl-beta-glucosaminidase, and the molecular weight of </span><span class=\"gold-annotation\">protein excretion</span><span class=\"\"> were determined on urine samples.</span></li>\n",
       "        \n",
       "        <li class=\"list-group-item\" data-toggle=\"tooltip\" data-placement=\"top\" title=\"3300918-0\"><span class=\"gold-annotation\">St. Anthony's fire</span><span class=\"\">, then and now: a case report and historical review.</span></li>\n",
       "        </ul>\n",
       "        </div>\n",
       "        \n",
       "        <div class=\"viewer-page viewer-page-3650\" id=\"viewer-page-3650-6\" data-nc=\"3\">\n",
       "            <ul class=\"list-group\">\n",
       "        <li class=\"list-group-item\" data-toggle=\"tooltip\" data-placement=\"top\" title=\"1728915-3\"><span class=\"\">From the analysis of these cases, two distinct forms of carbamazepine-associated </span><span class=\"gold-annotation\">cardiac dysfunction</span><span class=\"\"> emerged.</span></li>\n",
       "        \n",
       "        <li class=\"list-group-item\" data-toggle=\"tooltip\" data-placement=\"top\" title=\"20466178-1\"><div class=\"candidate-data\" id=\"cdata-3650-6-0\" caption=\"CID: 20466178-1:126-135\"></div><div class=\"candidate-data\" id=\"cdata-3650-6-1\" caption=\"CID: 20466178-1:137-145\"></div><div class=\"candidate-data\" id=\"cdata-3650-6-2\" caption=\"CID: 20466178-1:204-213\"></div><span class=\"\">We describe herein 3 patients who developed </span><span class=\"gold-annotation\">rosacea</span><span class=\"\">-like </span><span class=\"candidate gold-annotation c-3650-6-0\">dermatitis</span><span class=\"\"> </span><span class=\"candidate gold-annotation c-3650-6-1\">eruptions</span><span class=\"\"> while using 0.03% or 0.1% tacrolimus ointment for </span><span class=\"gold-annotation\">facial </span><span class=\"candidate gold-annotation c-3650-6-2\">dermatitis</span><span class=\"\">.</span></li>\n",
       "        \n",
       "        <li class=\"list-group-item\" data-toggle=\"tooltip\" data-placement=\"top\" title=\"17682013-10\"><span class=\"\">However, fluid attenuated inversion recovery (FLAIR) sequences frequently revealed persistent </span><span class=\"gold-annotation\">white matter abnormalities</span><span class=\"\">.</span></li>\n",
       "        </ul>\n",
       "        </div>\n",
       "        \n",
       "        <div class=\"viewer-page viewer-page-3650\" id=\"viewer-page-3650-7\" data-nc=\"1\">\n",
       "            <ul class=\"list-group\">\n",
       "        <li class=\"list-group-item\" data-toggle=\"tooltip\" data-placement=\"top\" title=\"8617710-5\"><span class=\"\">RESULTS: </span><span class=\"gold-annotation\">Impairment of cognitive function</span><span class=\"\"> was observed 6 to 8 hours after administration of haloperidol on Day 2 but was not evident 23 hours after dosing.</span></li>\n",
       "        \n",
       "        <li class=\"list-group-item\" data-toggle=\"tooltip\" data-placement=\"top\" title=\"16584858-4\"><span class=\"\">The protective role of mangiferin was analyzed by triphenyl tetrazolium chloride (TTC) test used for macroscopic enzyme mapping assay of the </span><span class=\"gold-annotation\">ischemic myocardium</span><span class=\"\">.</span></li>\n",
       "        \n",
       "        <li class=\"list-group-item\" data-toggle=\"tooltip\" data-placement=\"top\" title=\"12851669-1\"><div class=\"candidate-data\" id=\"cdata-3650-7-0\" caption=\"CID: 12851669-1:176-190\"></div><span class=\"\">OBJECTIVE: To achieve absolute risk estimates of </span><span class=\"gold-annotation\">venous </span><span class=\"candidate gold-annotation c-3650-7-0\">thromboembolism</span><span class=\"\"> (</span><span class=\"gold-annotation\">VTE</span><span class=\"\">) among women on cyproterone acetate plus ethinylestradiol (CPA/EE), and among women on combined oral contraceptives (COCs).</span></li>\n",
       "        </ul>\n",
       "        </div>\n",
       "        \n",
       "        <div class=\"viewer-page viewer-page-3650\" id=\"viewer-page-3650-8\" data-nc=\"0\">\n",
       "            <ul class=\"list-group\">\n",
       "        <li class=\"list-group-item\" data-toggle=\"tooltip\" data-placement=\"top\" title=\"1711760-5\"><span class=\"\">Four hours after </span><span class=\"gold-annotation\">MCAO</span><span class=\"\">, the rats were killed and the brains harvested.</span></li>\n",
       "        \n",
       "        <li class=\"list-group-item\" data-toggle=\"tooltip\" data-placement=\"top\" title=\"11208990-10\"><span class=\"\">In the IPRK phenylephrine and acetylcholine related responses were significantly impaired in the ADR-</span><span class=\"gold-annotation\">nephropathy</span><span class=\"\"> group.</span></li>\n",
       "        \n",
       "        <li class=\"list-group-item\" data-toggle=\"tooltip\" data-placement=\"top\" title=\"18627295-4\"><span class=\"\">This was associated with a reduced activation state of AKT, as well as an increased bax/bcl2 ratio in Western blots, indicating </span><span class=\"gold-annotation\">cardiac apoptosis</span><span class=\"\">.</span></li>\n",
       "        </ul>\n",
       "        </div>\n",
       "        \n",
       "        <div class=\"viewer-page viewer-page-3650\" id=\"viewer-page-3650-9\" data-nc=\"3\">\n",
       "            <ul class=\"list-group\">\n",
       "        <li class=\"list-group-item\" data-toggle=\"tooltip\" data-placement=\"top\" title=\"15266215-1\"><span class=\"\">There have been concerns that the risk of cardiovascular </span><span class=\"gold-annotation\">thrombotic</span><span class=\"\"> events may be higher with cyclooxygenase (COX)-2-specific inhibitors than nonselective nonsteroidal antiinflammatory drugs (NSAIDs).</span></li>\n",
       "        \n",
       "        <li class=\"list-group-item\" data-toggle=\"tooltip\" data-placement=\"top\" title=\"17042884-0\"><div class=\"candidate-data\" id=\"cdata-3650-9-0\" caption=\"CID: 17042884-0:27-49\"></div><div class=\"candidate-data\" id=\"cdata-3650-9-1\" caption=\"CID: 17042884-0:120-124\"></div><span class=\"\">Placebo-level incidence of </span><span class=\"candidate gold-annotation c-3650-9-0\">extrapyramidal symptoms</span><span class=\"\"> (</span><span class=\"gold-annotation\">EPS</span><span class=\"\">) with quetiapine in controlled studies of patients with </span><span class=\"gold-annotation\">bipolar </span><span class=\"candidate gold-annotation c-3650-9-1\">mania</span><span class=\"\">.</span></li>\n",
       "        \n",
       "        <li class=\"list-group-item\" data-toggle=\"tooltip\" data-placement=\"top\" title=\"11302406-5\"><div class=\"candidate-data\" id=\"cdata-3650-9-2\" caption=\"CID: 11302406-5:1163-1174\"></div><span class=\"\">In our patient, there was no other etiology identified that could explain </span><span class=\"gold-annotation\">QT prolongation</span><span class=\"\"> or </span><span class=\"gold-annotation\">TDP</span><span class=\"\"> The complete disappearance of </span><span class=\"gold-annotation\">NSVT</span><span class=\"\"> and </span><span class=\"gold-annotation\">premature ventricular </span><span class=\"candidate gold-annotation c-3650-9-2\">contractions</span><span class=\"\"> followed by normalization of QT interval after the drug was stopped strongly suggests fluconazole as the etiology.</span></li>\n",
       "        </ul>\n",
       "        </div>\n",
       "        \n",
       "        <div class=\"viewer-page viewer-page-3650\" id=\"viewer-page-3650-10\" data-nc=\"7\">\n",
       "            <ul class=\"list-group\">\n",
       "        <li class=\"list-group-item\" data-toggle=\"tooltip\" data-placement=\"top\" title=\"10910842-0\"><div class=\"candidate-data\" id=\"cdata-3650-10-0\" caption=\"CID: 10910842-0:58-64\"></div><span class=\"\">Prednisolone-induced </span><span class=\"gold-annotation\">muscle dysfunction</span><span class=\"\"> is caused more by </span><span class=\"candidate gold-annotation c-3650-10-0\">atrophy</span><span class=\"\"> than by altered acetylcholine receptor expression.</span></li>\n",
       "        \n",
       "        <li class=\"list-group-item\" data-toggle=\"tooltip\" data-placement=\"top\" title=\"11705128-12\"><span class=\"\">CONCLUSIONS: The direct cost of treating clinically significant </span><span class=\"gold-annotation\">RIHA</span><span class=\"\"> is 1% ( 170/ 16,459) of drug treatment costs.</span></li>\n",
       "        \n",
       "        <li class=\"list-group-item\" data-toggle=\"tooltip\" data-placement=\"top\" title=\"6637851-7\"><div class=\"candidate-data\" id=\"cdata-3650-10-1\" caption=\"CID: 6637851-7:1034-1050\"></div><div class=\"candidate-data\" id=\"cdata-3650-10-2\" caption=\"CID: 6637851-7:1057-1062\"></div><div class=\"candidate-data\" id=\"cdata-3650-10-3\" caption=\"CID: 6637851-7:1067-1072\"></div><div class=\"candidate-data\" id=\"cdata-3650-10-4\" caption=\"CID: 6637851-7:1081-1086\"></div><div class=\"candidate-data\" id=\"cdata-3650-10-5\" caption=\"CID: 6637851-7:1092-1099\"></div><div class=\"candidate-data\" id=\"cdata-3650-10-6\" caption=\"CID: 6637851-7:1201-1211\"></div><span class=\"\">The most common symptomatic </span><span class=\"candidate c-3650-10-1\">adverse reactions</span><span class=\"\"> were </span><span class=\"candidate gold-annotation c-3650-10-2\">tremor</span><span class=\"\"> or </span><span class=\"candidate gold-annotation c-3650-10-3\">ataxia</span><span class=\"\"> (35%), </span><span class=\"candidate gold-annotation c-3650-10-4\">nausea</span><span class=\"\"> and </span><span class=\"candidate gold-annotation c-3650-10-5\">anorexia</span><span class=\"\"> (8%), </span><span class=\"gold-annotation\">visual halos or blurring</span><span class=\"\"> (6%), </span><span class=\"gold-annotation\">thyroid function abnormalities</span><span class=\"\"> (6%) and </span><span class=\"gold-annotation\">pulmonary interstitial </span><span class=\"candidate gold-annotation c-3650-10-6\">infiltrates</span><span class=\"\"> (5%).</span></li>\n",
       "        </ul>\n",
       "        </div>\n",
       "        \n",
       "        <div class=\"viewer-page viewer-page-3650\" id=\"viewer-page-3650-11\" data-nc=\"3\">\n",
       "            <ul class=\"list-group\">\n",
       "        <li class=\"list-group-item\" data-toggle=\"tooltip\" data-placement=\"top\" title=\"11999899-11\"><div class=\"candidate-data\" id=\"cdata-3650-11-0\" caption=\"CID: 11999899-11:1661-1678\"></div><div class=\"candidate-data\" id=\"cdata-3650-11-1\" caption=\"CID: 11999899-11:1720-1727\"></div><span class=\"\">These results show that reserpine produces different and </span><span class=\"candidate gold-annotation c-3650-11-0\">abnormal movements</span><span class=\"\">, which are related to dose and schedule </span><span class=\"candidate c-3650-11-1\">employed</span><span class=\"\"> and can be considered as </span><span class=\"gold-annotation\">parkinsonian</span><span class=\"\">-like and </span><span class=\"gold-annotation\">tardive dsykinesia</span><span class=\"\"> signs.</span></li>\n",
       "        \n",
       "        <li class=\"list-group-item\" data-toggle=\"tooltip\" data-placement=\"top\" title=\"2343592-2\"><div class=\"candidate-data\" id=\"cdata-3650-11-2\" caption=\"CID: 2343592-2:306-313\"></div><span class=\"\">Neither patient had reported previous </span><span class=\"candidate gold-annotation c-3650-11-2\">seizures</span><span class=\"\"> or </span><span class=\"gold-annotation\">seizure</span><span class=\"\">-like activity nor was receiving anticonvulsant agents.</span></li>\n",
       "        \n",
       "        <li class=\"list-group-item\" data-toggle=\"tooltip\" data-placement=\"top\" title=\"8475949-7\"><span class=\"\">When </span><span class=\"gold-annotation\">QTc interval prolongation</span><span class=\"\"> is observed, early magnesium supplementation is advocated.</span></li>\n",
       "        </ul>\n",
       "        </div>\n",
       "        \n",
       "        <div class=\"viewer-page viewer-page-3650\" id=\"viewer-page-3650-12\" data-nc=\"2\">\n",
       "            <ul class=\"list-group\">\n",
       "        <li class=\"list-group-item\" data-toggle=\"tooltip\" data-placement=\"top\" title=\"11912119-5\"><div class=\"candidate-data\" id=\"cdata-3650-12-0\" caption=\"CID: 11912119-5:720-726\"></div><span class=\"\">In </span><span class=\"gold-annotation\">Parkinson's </span><span class=\"candidate gold-annotation c-3650-12-0\">disease</span><span class=\"\"> + </span><span class=\"gold-annotation\">LID</span><span class=\"\">, the force involved in pressing down the object before lifting was significantly increased by levodopa (by 61%, P < 0.05).</span></li>\n",
       "        \n",
       "        <li class=\"list-group-item\" data-toggle=\"tooltip\" data-placement=\"top\" title=\"15579441-2\"><span class=\"\">In this study, we developed a new </span><span class=\"gold-annotation\">hypoxia</span><span class=\"\">-responsive reporter vector using a </span><span class=\"gold-annotation\">hypoxia</span><span class=\"\">-responsive element of the 5' vascular endothelial growth factor untranslated region and generated a novel </span><span class=\"gold-annotation\">hypoxia</span><span class=\"\">-sensing transgenic rat.</span></li>\n",
       "        \n",
       "        <li class=\"list-group-item\" data-toggle=\"tooltip\" data-placement=\"top\" title=\"19234905-1\"><div class=\"candidate-data\" id=\"cdata-3650-12-1\" caption=\"CID: 19234905-1:277-283\"></div><span class=\"\">A prospective, randomized, double-blind pilot study to compare the results of stereotactic unilateral pallidotomy and subthalamotomy in advanced </span><span class=\"gold-annotation\">idiopathic Parkinson's </span><span class=\"candidate gold-annotation c-3650-12-1\">disease</span><span class=\"\"> (</span><span class=\"gold-annotation\">PD</span><span class=\"\">) refractory to medical treatment was designed.</span></li>\n",
       "        </ul>\n",
       "        </div>\n",
       "        \n",
       "        <div class=\"viewer-page viewer-page-3650\" id=\"viewer-page-3650-13\" data-nc=\"2\">\n",
       "            <ul class=\"list-group\">\n",
       "        <li class=\"list-group-item\" data-toggle=\"tooltip\" data-placement=\"top\" title=\"17042884-14\"><div class=\"candidate-data\" id=\"cdata-3650-13-0\" caption=\"CID: 17042884-14:2196-2200\"></div><div class=\"candidate-data\" id=\"cdata-3650-13-1\" caption=\"CID: 17042884-14:2235-2243\"></div><span class=\"\">CONCLUSIONS: In </span><span class=\"gold-annotation\">bipolar </span><span class=\"candidate gold-annotation c-3650-13-0\">mania</span><span class=\"\">, the incidence of </span><span class=\"gold-annotation\">EPS</span><span class=\"\">, including </span><span class=\"candidate gold-annotation c-3650-13-1\">akathisia</span><span class=\"\">, with quetiapine therapy is similar to that with placebo.</span></li>\n",
       "        \n",
       "        <li class=\"list-group-item\" data-toggle=\"tooltip\" data-placement=\"top\" title=\"19300240-11\"><span class=\"\">Echocardiogram revealed a normal ejection fraction and a resolution of the apical </span><span class=\"gold-annotation\">akinesis</span><span class=\"\">.</span></li>\n",
       "        \n",
       "        <li class=\"list-group-item\" data-toggle=\"tooltip\" data-placement=\"top\" title=\"16600756-2\"><span class=\"\">We investigated changes in urinary NGF and PGs in women with </span><span class=\"gold-annotation\">OAB</span><span class=\"\">.</span></li>\n",
       "        </ul>\n",
       "        </div>\n",
       "        \n",
       "        <div class=\"viewer-page viewer-page-3650\" id=\"viewer-page-3650-14\" data-nc=\"1\">\n",
       "            <ul class=\"list-group\">\n",
       "        <li class=\"list-group-item\" data-toggle=\"tooltip\" data-placement=\"top\" title=\"2709684-3\"><div class=\"candidate-data\" id=\"cdata-3650-14-0\" caption=\"CID: 2709684-3:528-537\"></div><span class=\"gold-annotation\">DM</span><span class=\"\"> rats with mild </span><span class=\"candidate gold-annotation c-3650-14-0\">glycosuria</span><span class=\"\"> (similar in degree to that of the P treated animals) were also studied.</span></li>\n",
       "        \n",
       "        <li class=\"list-group-item\" data-toggle=\"tooltip\" data-placement=\"top\" title=\"7066357-12\"><span class=\"\">It is likely that the early and striking increase of plasma HDL found in </span><span class=\"gold-annotation\">nephrotic</span><span class=\"\"> rats is related to a direct effect of the drug on HDL metabolism.</span></li>\n",
       "        \n",
       "        <li class=\"list-group-item\" data-toggle=\"tooltip\" data-placement=\"top\" title=\"19940105-8\"><span class=\"\">Higher doses of AMN082 (10 and 20 mg/kg p.o.) have no effect on the same models of </span><span class=\"gold-annotation\">PD</span><span class=\"\">.</span></li>\n",
       "        </ul>\n",
       "        </div>\n",
       "        \n",
       "        <div class=\"viewer-page viewer-page-3650\" id=\"viewer-page-3650-15\" data-nc=\"1\">\n",
       "            <ul class=\"list-group\">\n",
       "        <li class=\"list-group-item\" data-toggle=\"tooltip\" data-placement=\"top\" title=\"9636837-9\"><div class=\"candidate-data\" id=\"cdata-3650-15-0\" caption=\"CID: 9636837-9:1461-1473\"></div><span class=\"\">CONCLUSIONS: CBDCA is </span><span class=\"gold-annotation\">neurotoxic</span><span class=\"\"> in our model, and the type of pathological changes it induces are so closely similar to those caused by CDDP that it is probable that </span><span class=\"candidate gold-annotation c-3650-15-0\">neurotoxicity</span><span class=\"\"> is induced in the two drugs by the same mechanism.</span></li>\n",
       "        \n",
       "        <li class=\"list-group-item\" data-toggle=\"tooltip\" data-placement=\"top\" title=\"16584858-7\"><span class=\"\">Activities of heart tissue enzymic antioxidants and serum non-enzymic antioxidants levels rose significantly upon mangiferin administration as compared to ISPH-induced </span><span class=\"gold-annotation\">MI</span><span class=\"\"> rats.</span></li>\n",
       "        \n",
       "        <li class=\"list-group-item\" data-toggle=\"tooltip\" data-placement=\"top\" title=\"12851669-9\"><span class=\"\">CONCLUSION: Our results suggest the absolute risk of </span><span class=\"gold-annotation\">VTE</span><span class=\"\"> among Danish women on COCs is similar to that among women taking CPA/EE.</span></li>\n",
       "        </ul>\n",
       "        </div>\n",
       "        \n",
       "        <div class=\"viewer-page viewer-page-3650\" id=\"viewer-page-3650-16\" data-nc=\"1\">\n",
       "            <ul class=\"list-group\">\n",
       "        <li class=\"list-group-item\" data-toggle=\"tooltip\" data-placement=\"top\" title=\"16584858-8\"><div class=\"candidate-data\" id=\"cdata-3650-16-0\" caption=\"CID: 16584858-8:1728-1733\"></div><span class=\"\">From the present study it is concluded that mangiferin exerts a beneficial effect against ISPH-induced </span><span class=\"gold-annotation\">MI</span><span class=\"\"> due to its antioxidant potential, which regulated the tissues defense system against </span><span class=\"gold-annotation\">cardiac </span><span class=\"candidate gold-annotation c-3650-16-0\">damage</span><span class=\"\">.</span></li>\n",
       "        \n",
       "        <li class=\"list-group-item\" data-toggle=\"tooltip\" data-placement=\"top\" title=\"11282081-13\"><span class=\"\">CONCLUSIONS: Verapamil promotes </span><span class=\"gold-annotation\">AF</span><span class=\"\"> in normal dogs by promoting multiple circuit reentry, an effect dependent on intact autonomic tone and not shared by diltiazem.</span></li>\n",
       "        </ul>\n",
       "        </div>\n",
       "        </div>\n",
       "    <div class=\"panel-footer\">\n",
       "        <div class=\"btn-group\" role=\"group\" aria-label=\"...\">\n",
       "            <button id=\"prev-page-3650\" type=\"button\" class=\"btn btn-default\">\n",
       "                <span class=\"glyphicon glyphicon-left-arrow\" aria-hidden=\"true\"></span> Prev. Page (i)\n",
       "            </button>\n",
       "            <button id=\"prev-cand-3650\" type=\"button\" class=\"btn btn-default\">\n",
       "                <span class=\"glyphicon glyphicon-down-arrow\" aria-hidden=\"true\"></span> Prev. Cand. (j)\n",
       "            </button>\n",
       "            <button id=\"next-cand-3650\" type=\"button\" class=\"btn btn-default\">\n",
       "                <span class=\"glyphicon glyphicon-up-arrow\" aria-hidden=\"true\"></span> Next Cand. (l)\n",
       "            </button>\n",
       "            <button id=\"next-page-3650\" type=\"button\" class=\"btn btn-default\">\n",
       "                <span class=\"glyphicon glyphicon-right-arrow\" aria-hidden=\"true\"></span> Next Page (k)\n",
       "            </button>\n",
       "        </div>\n",
       "        <span><i>  Viewer must be focused for keyboard control</i></span>\n",
       "        <div class=\"page-num panel-left-justify\">Page <span id=\"page-3650\">0</span></div>\n",
       "    </div>\n",
       "</div>\n"
      ]
     },
     "metadata": {
      "text/html": {
       "isolated": false
      }
     },
     "output_type": "display_data"
    },
    {
     "data": {
      "application/javascript": [
       "$.getScript(\"http://d3js.org/d3.v3.min.js\", function () {\n",
       "$.getScript(\"https://ajax.googleapis.com/ajax/libs/jquery/1.11.3/jquery.min.js\", function () {\n",
       "var vid    = 3650;\n",
       "var nPages = 17;\n",
       "var cid    = 0;\n",
       "var pid    = 0;\n",
       "\n",
       "// Enable tooltip functionality\n",
       "$(function () {\n",
       "    $('[data-toggle=\"tooltip\"]').tooltip()\n",
       "});\n",
       "\n",
       "// Get the selector for a given candidate by number (w.r.t. to entire page group)\n",
       "function candidateSelector(cid) {\n",
       "    return $(\"span.c-\" + vid + \"-\" + pid + \"-\" + cid);\n",
       "}\n",
       "\n",
       "// Cycle through candidates and highlight, by increment inc\n",
       "function switchCandidate(inc) {\n",
       "    var nC = parseInt($(\"#viewer-page-\"+vid+\"-\"+pid).attr(\"data-nc\"));\n",
       "\n",
       "    // Clear highlighting and highlight new candidate\n",
       "    $(\"span.candidate\").removeClass(\"highlighted-candidate\");\n",
       "    if (cid + inc < 0) {\n",
       "        cid = nC + (cid + inc);\n",
       "    } else if (cid + inc > nC - 1) {\n",
       "        cid = (cid + inc) - nC;\n",
       "    } else {\n",
       "        cid += inc;\n",
       "    }\n",
       "    candidateSelector(cid).addClass(\"highlighted-candidate\");\n",
       "\n",
       "    // Fill in caption\n",
       "    $(\"#candidate-caption-\"+vid).html($(\"#cdata-\"+vid+\"-\"+pid+\"-\"+cid).attr(\"caption\"));\n",
       "};\n",
       "\n",
       "$(\"#next-cand-\" + vid).click(function() {\n",
       "    switchCandidate(1);\n",
       "});\n",
       "\n",
       "$(\"#prev-cand-\" + vid).click(function() {\n",
       "    switchCandidate(-1);\n",
       "});\n",
       "\n",
       "// Switch through pages\n",
       "function switchPage(inc) {\n",
       "    $(\".viewer-page-\"+vid).hide();\n",
       "    if (pid + inc < 0) {\n",
       "        pid = 0;\n",
       "    } else if (pid + inc > nPages - 1) {\n",
       "        pid = nPages - 1;\n",
       "    } else {\n",
       "        pid += inc;\n",
       "    }\n",
       "    $(\"#viewer-page-\"+vid+\"-\"+pid).show();\n",
       "\n",
       "    // Show pagination\n",
       "    $(\"#page-\"+vid).html(pid);\n",
       "\n",
       "    // Reset cid and set to first candidate\n",
       "    cid = 0;\n",
       "    switchCandidate(0);\n",
       "}\n",
       "\n",
       "$(\"#next-page-\" + vid).click(function() {\n",
       "    switchPage(1);\n",
       "});\n",
       "\n",
       "$(\"#prev-page-\" + vid).click(function() {\n",
       "    switchPage(-1);\n",
       "});\n",
       "\n",
       "// Arrow key functionality\n",
       "$(document).keydown(function(e) {\n",
       "\n",
       "    // Check that the Jupyter notebook cell the viewer is in is selected\n",
       "    if ($(\"#viewer-\"+vid).parents(\".cell\").hasClass(\"selected\")) {\n",
       "        switch(e.which) {\n",
       "            case 74: // j\n",
       "            switchCandidate(-1);\n",
       "            break;\n",
       "\n",
       "            case 73: // i\n",
       "            switchPage(-1);\n",
       "            break;\n",
       "\n",
       "            case 76: // l\n",
       "            switchCandidate(1);\n",
       "            break;\n",
       "\n",
       "            case 75: // k\n",
       "            switchPage(1);\n",
       "            break;\n",
       "        }\n",
       "    }\n",
       "});\n",
       "\n",
       "// Show the first page and highlight the first candidate\n",
       "$(\"#viewer-page-\"+vid+\"-0\").show();\n",
       "switchCandidate(0);\n",
       "});\n",
       "});\n"
      ]
     },
     "metadata": {},
     "output_type": "display_data"
    }
   ],
   "source": [
    "from ddlite_viewer import SentenceNgramViewer\n",
    "sv = SentenceNgramViewer(view_sents, c.get_candidates(), gold=gold)\n",
    "sv.render(n_per_page=3, height=225)"
   ]
  },
  {
   "cell_type": "markdown",
   "metadata": {},
   "source": [
    "## Composing a better candidate extractor\n",
    "\n",
    "Let's try to increase our candidate recall using `Matcher` operators.  We'll see in particular that they are compositional; noting that we are missing all of the acronyms, let's start with the `Union` operator, to integrate a dictionary for this:"
   ]
  },
  {
   "cell_type": "code",
   "execution_count": 21,
   "metadata": {
    "collapsed": false
   },
   "outputs": [
    {
     "name": "stdout",
     "output_type": "stream",
     "text": [
      "Loaded 36904 acronyms!\n",
      "Extracting candidates...\n",
      "CPU times: user 5.54 s, sys: 156 ms, total: 5.7 s\n",
      "Wall time: 5.59 s\n",
      "# of gold annotations\t= 4244\n",
      "# of candidates\t\t= 7530\n",
      "Candidate recall\t= 0.747\n",
      "Candidate precision\t= 0.421\n"
     ]
    }
   ],
   "source": [
    "from ddlite_matchers import Union\n",
    "from load_dictionaries import load_acronym_dictionary\n",
    "\n",
    "# Load the disease phrase dictionary\n",
    "acronyms = load_acronym_dictionary()\n",
    "print \"Loaded %s acronyms!\" % len(acronyms)\n",
    "\n",
    "# Define a new matcher\n",
    "matcher = Union(\n",
    "    DictionaryMatch(d=diseases, longest_match_only=False),\n",
    "    DictionaryMatch(d=acronyms, ignore_case=False))\n",
    "\n",
    "# Extract a new set of candidates\n",
    "%time c = Candidates(ngrams, matcher, corpus.get_sentences())\n",
    "c.gold_stats(gold)"
   ]
  },
  {
   "cell_type": "markdown",
   "metadata": {},
   "source": [
    "Next, we try using the `Concat` and `RegexMatch` operators to find candidate mentions composed of an _adjective followed by a term matching our diseases dictionary_.  Note in particular that we set `left_required=False` so that exact matches to our dictionary (with no adjective prepended) will still work:"
   ]
  },
  {
   "cell_type": "code",
   "execution_count": 22,
   "metadata": {
    "collapsed": false
   },
   "outputs": [
    {
     "name": "stdout",
     "output_type": "stream",
     "text": [
      "Extracting candidates...\n",
      "CPU times: user 15.9 s, sys: 697 ms, total: 16.6 s\n",
      "Wall time: 16.1 s\n",
      "# of gold annotations\t= 4244\n",
      "# of candidates\t\t= 9302\n",
      "Candidate recall\t= 0.789\n",
      "Candidate precision\t= 0.360\n"
     ]
    }
   ],
   "source": [
    "from ddlite_matchers import Concat, RegexMatchEach\n",
    "matcher = Union(\n",
    "    Concat(\n",
    "        RegexMatchEach(rgx=r'JJ*', attrib='poses'),\n",
    "        DictionaryMatch(d=diseases, longest_match_only=False),\n",
    "        left_required=False),\n",
    "    DictionaryMatch(d=acronyms, ignore_case=False))\n",
    "\n",
    "# Extract a new set of candidates\n",
    "%time c = Candidates(ngrams, matcher, corpus.get_sentences())\n",
    "c.gold_stats(gold)"
   ]
  },
  {
   "cell_type": "markdown",
   "metadata": {},
   "source": [
    "### More coming here...\n",
    "\n",
    "We've increased the candidate recall (on the development set) by 7.3% using some simple compositional `Matcher` operators.  We'll be adding more here soon!"
   ]
  },
  {
   "cell_type": "markdown",
   "metadata": {},
   "source": [
    "## TO-DO: Show how to connect to rest of pipeline!"
   ]
  },
  {
   "cell_type": "code",
   "execution_count": null,
   "metadata": {
    "collapsed": true
   },
   "outputs": [],
   "source": []
  }
 ],
 "metadata": {
  "kernelspec": {
   "display_name": "Python 2",
   "language": "python",
   "name": "python2"
  },
  "language_info": {
   "codemirror_mode": {
    "name": "ipython",
    "version": 2
   },
   "file_extension": ".py",
   "mimetype": "text/x-python",
   "name": "python",
   "nbconvert_exporter": "python",
   "pygments_lexer": "ipython2",
   "version": "2.7.10"
  }
 },
 "nbformat": 4,
 "nbformat_minor": 0
}
