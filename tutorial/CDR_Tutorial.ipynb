{
 "cells": [
  {
   "cell_type": "markdown",
   "metadata": {},
   "source": [
    "# Tutorial: Chemical-Disease Extraction\n",
    "\n",
    "## Part I: Candidate Extraction\n",
    "\n",
    "In this example, we'll be writing an application to extract **chemical-disease** relationships from Pubmed abstracts, as per the [BioCreative CDR Challenge](http://www.biocreative.org/resources/corpora/biocreative-v-cdr-corpus/).  At core, we will be constructing a model to classify _candidate chemical-disease (C-D) relation mentions_ as either true or false.  To do this, we first need a set of such candidates.\n",
    "\n",
    "In this notebook, we'll use `DDLite` utilities to extract these candidates.  In _part II_, we'll start with the gold set of candidates and just focus on the core candidate classification task."
   ]
  },
  {
   "cell_type": "markdown",
   "metadata": {},
   "source": [
    "### Parsing from XML format\n",
    "\n",
    "We'll start by using `DDLite`'s `DocParser` class to read in Pubmed abstracts from [Pubtator]([Pubtator](http://www.ncbi.nlm.nih.gov/CBBresearch/Lu/Demo/PubTator/index.cgi)), where they are stored along with gold chemical and disease mention annotations.\n",
    "\n",
    "We'll use the `XMLDocParser` class, which allows us to use XPath queries to specify the relevant sections of the XML format.  Note that we are simply newline-concatenating text from the title and abstract together for simplicity."
   ]
  },
  {
   "cell_type": "code",
   "execution_count": 32,
   "metadata": {
    "collapsed": false
   },
   "outputs": [
    {
     "data": {
      "text/plain": [
       "Document(id='6794356', file='CDR_DevelopmentSet.xml', text='Tricuspid valve regurgitation and lithium carbonate toxicity in a newborn infant.\\nA newborn with massive tricuspid regurgitation, atrial flutter, congestive heart failure, and a high serum lithium level is described. This is the first patient to initially manifest tricuspid regurgitation and atrial flutter, and the 11th described patient with cardiac disease among infants exposed to lithium compounds in the first trimester of pregnancy. Sixty-three percent of these infants had tricuspid valve involvement. Lithium carbonate may be a factor in the increasing incidence of congenital heart disease when taken during early pregnancy. It also causes neurologic depression, cyanosis, and cardiac arrhythmia when consumed prior to delivery.', attribs={'root': <Element document at 0x10db9fc30>})"
      ]
     },
     "execution_count": 32,
     "metadata": {},
     "output_type": "execute_result"
    }
   ],
   "source": [
    "from ddlite_parser import XMLDocParser\n",
    "xml_parser = XMLDocParser(path='data/CDR_DevelopmentSet.xml',\n",
    "    doc='.//document', text='.//passage/text/text()',\n",
    "    id='.//id/text()', keep_tree=True)\n",
    "documents = list(xml_parser.parse())\n",
    "documents[0]"
   ]
  },
  {
   "cell_type": "markdown",
   "metadata": {},
   "source": [
    "### Pre-processing the sentences\n",
    "\n",
    "Next, we'll use an NLP preprocessing tool to split the `Document` objects into sentences, tokens, and provide annotations--part-of-speech tags, dependency parse structure, lemmatized word forms, etc.--for these sentences."
   ]
  },
  {
   "cell_type": "code",
   "execution_count": 33,
   "metadata": {
    "collapsed": false
   },
   "outputs": [
    {
     "data": {
      "text/plain": [
       "Sentence(id='6794356-0', words=[u'Tricuspid', u'valve', u'regurgitation', u'and', u'lithium', u'carbonate', u'toxicity', u'in', u'a', u'newborn', u'infant', u'.'], lemmas=[u'tricuspid', u'valve', u'regurgitation', u'and', u'lithium', u'carbonate', u'toxicity', u'in', u'a', u'newborn', u'infant', u'.'], poses=[u'JJ', u'NN', u'NN', u'CC', u'NN', u'NN', u'NN', u'IN', u'DT', u'JJ', u'NN', u'.'], dep_parents=[3, 3, 0, 3, 7, 7, 3, 11, 11, 11, 3, 3], dep_labels=[u'amod', u'compound', u'ROOT', u'cc', u'compound', u'compound', u'conj', u'case', u'det', u'amod', u'nmod', u'punct'], sent_id=0, doc_id='6794356', text=u'Tricuspid valve regurgitation and lithium carbonate toxicity in a newborn infant.', char_offsets=[0, 10, 16, 30, 34, 42, 52, 61, 64, 66, 74, 80], doc_name='CDR_DevelopmentSet.xml')"
      ]
     },
     "execution_count": 33,
     "metadata": {},
     "output_type": "execute_result"
    }
   ],
   "source": [
    "from ddlite_parser import SentenceParser\n",
    "parser = SentenceParser()\n",
    "sentences  = parser.parse_docs(docs)\n",
    "sentences[0]"
   ]
  },
  {
   "cell_type": "markdown",
   "metadata": {},
   "source": [
    "#### Disease mentions\n",
    "We'll build our disease mention extractor using some pre-compiled ontologies ([UMLS](https://www.nlm.nih.gov/research/umls/), [ORDO](http://www.orphadata.org/cgi-bin/inc/ordo_orphanet.inc.php), [DOID](http://www.obofoundry.org/ontology/doid.html), [NCBI Diseases](http://www.ncbi.nlm.nih.gov/CBBresearch/Dogan/DISEASE/); see `tutorial/data/diseases.py`) and `DDLite`'s `CandidateExtractor` operators."
   ]
  },
  {
   "cell_type": "code",
   "execution_count": 34,
   "metadata": {
    "collapsed": false
   },
   "outputs": [
    {
     "data": {
      "text/plain": [
       "507899"
      ]
     },
     "execution_count": 34,
     "metadata": {},
     "output_type": "execute_result"
    }
   ],
   "source": [
    "from load_dictionaries import load_disease_dictionary, \\\n",
    "                              load_acronym_dictionary\n",
    "diseases = load_disease_dictionary()\n",
    "len(diseases)"
   ]
  },
  {
   "cell_type": "markdown",
   "metadata": {},
   "source": [
    "## Testing `CandidateSpace` and `Matcher`"
   ]
  },
  {
   "cell_type": "code",
   "execution_count": null,
   "metadata": {
    "collapsed": false
   },
   "outputs": [],
   "source": [
    "from ddlite_candidates import Ngrams\n",
    "from ddlite_matchers import DictionaryMatch, Union, Concat"
   ]
  },
  {
   "cell_type": "code",
   "execution_count": null,
   "metadata": {
    "collapsed": false
   },
   "outputs": [],
   "source": [
    "cs = Ngrams(n_max=3)"
   ]
  },
  {
   "cell_type": "code",
   "execution_count": null,
   "metadata": {
    "collapsed": false
   },
   "outputs": [],
   "source": [
    "matcher = DictionaryMatch(d=diseases, longest_match_only=True)\n",
    "matches = []\n",
    "for match in matcher.apply(cs.apply(sents[0])):\n",
    "    matches.append(match)\n",
    "    print match"
   ]
  },
  {
   "cell_type": "code",
   "execution_count": null,
   "metadata": {
    "collapsed": false
   },
   "outputs": [],
   "source": [
    "matches[1][:5]"
   ]
  },
  {
   "cell_type": "code",
   "execution_count": null,
   "metadata": {
    "collapsed": false
   },
   "outputs": [],
   "source": [
    "matcher = DictionaryMatch(d=diseases, longest_match_only=False)\n",
    "for match in matcher.apply(cs.apply(sents[0])):\n",
    "    print match"
   ]
  },
  {
   "cell_type": "code",
   "execution_count": null,
   "metadata": {
    "collapsed": false
   },
   "outputs": [],
   "source": [
    "dA = ['tricuspid valve', 'lithium']\n",
    "dB = ['regurgitation','carbonate']\n",
    "matcher = Concat(DictionaryMatch(d=dA), DictionaryMatch(d=dB))\n",
    "for match in matcher.apply(cs.apply(sent)):\n",
    "    print match"
   ]
  },
  {
   "cell_type": "markdown",
   "metadata": {},
   "source": [
    "### Writing a `CDR` candidate extractor\n",
    "\n",
    "We'll start by writing a _disease mention extractor_, then a _chemical mention extractor_, and finally will take all _C-D_ pairs co-occuring in a sentence as our C-D relation candidates."
   ]
  },
  {
   "cell_type": "markdown",
   "metadata": {},
   "source": [
    "#### Loading a gold candidate set\n",
    "First, we'll load in the gold annotations from the CDR development set, so that we can test our _candidate recall_, in other words how good our candidate extractor's coverage is."
   ]
  },
  {
   "cell_type": "code",
   "execution_count": 4,
   "metadata": {
    "collapsed": false,
    "scrolled": true
   },
   "outputs": [
    {
     "data": {
      "text/plain": [
       "Document(id='6794356', file='CDR_DevelopmentSet.xml', text='Tricuspid valve regurgitation and lithium carbonate toxicity in a newborn infant.\\nA newborn with massive tricuspid regurgitation, atrial flutter, congestive heart failure, and a high serum lithium level is described. This is the first patient to initially manifest tricuspid regurgitation and atrial flutter, and the 11th described patient with cardiac disease among infants exposed to lithium compounds in the first trimester of pregnancy. Sixty-three percent of these infants had tricuspid valve involvement. Lithium carbonate may be a factor in the increasing incidence of congenital heart disease when taken during early pregnancy. It also causes neurologic depression, cyanosis, and cardiac arrhythmia when consumed prior to delivery.', attribs={'root': <Element document at 0x1092ebe60>})"
      ]
     },
     "execution_count": 4,
     "metadata": {},
     "output_type": "execute_result"
    }
   ],
   "source": [
    "docs[0]\n",
    "doc"
   ]
  },
  {
   "cell_type": "code",
   "execution_count": 13,
   "metadata": {
    "collapsed": false
   },
   "outputs": [
    {
     "data": {
      "text/plain": [
       "[<Ngram(\"Tricuspid valve regurgitation\", id=6794356-0:0-28, chars=[0,28], words=[0,2]),\n",
       " <Ngram(\"toxicity\", id=6794356-0:52-59, chars=[52,59], words=[6,6]),\n",
       " <Ngram(\"tricuspid regurgitation\", id=6794356-1:105-127, chars=[105,127], words=[4,5]),\n",
       " <Ngram(\"atrial flutter\", id=6794356-1:130-143, chars=[130,143], words=[7,8]),\n",
       " <Ngram(\"congestive heart failure\", id=6794356-1:146-169, chars=[146,169], words=[10,12]),\n",
       " <Ngram(\"tricuspid regurgitation\", id=6794356-2:265-287, chars=[265,287], words=[8,9]),\n",
       " <Ngram(\"atrial flutter\", id=6794356-2:293-306, chars=[293,306], words=[11,12]),\n",
       " <Ngram(\"cardiac disease\", id=6794356-2:345-359, chars=[345,359], words=[20,21]),\n",
       " <Ngram(\"congenital heart disease\", id=6794356-4:576-599, chars=[576,599], words=[11,13]),\n",
       " <Ngram(\"neurologic depression\", id=6794356-5:651-671, chars=[651,671], words=[3,4]),\n",
       " <Ngram(\"cyanosis\", id=6794356-5:674-681, chars=[674,681], words=[6,6]),\n",
       " <Ngram(\"cardiac arrhythmia\", id=6794356-5:688-705, chars=[688,705], words=[9,10])]"
      ]
     },
     "execution_count": 13,
     "metadata": {},
     "output_type": "execute_result"
    }
   ],
   "source": [
    "from utils import collect_pubtator_annotations\n",
    "annos = collect_pubtator_annotations(doc, filter(lambda s : s.doc_id == doc.id, sents))\n",
    "annos = [a for a in annos if a.metadata['type'] == 'Disease']\n",
    "annos"
   ]
  },
  {
   "cell_type": "code",
   "execution_count": 14,
   "metadata": {
    "collapsed": false
   },
   "outputs": [
    {
     "data": {
      "text/plain": [
       "[<Ngram(\"Tricuspid valve regurgitation\", id=6794356-0:0-28, chars=[0,28], words=[0,2]),\n",
       " <Ngram(\"toxicity\", id=6794356-0:52-59, chars=[52,59], words=[6,6]),\n",
       " <Ngram(\"congestive heart failure\", id=6794356-1:146-169, chars=[146,169], words=[10,12]),\n",
       " <Ngram(\"serum lithium level\", id=6794356-1:183-201, chars=[183,201], words=[17,19]),\n",
       " <Ngram(\"tricuspid regurgitation\", id=6794356-1:105-127, chars=[105,127], words=[4,5]),\n",
       " <Ngram(\"atrial flutter\", id=6794356-1:130-143, chars=[130,143], words=[7,8]),\n",
       " <Ngram(\"tricuspid regurgitation\", id=6794356-2:265-287, chars=[265,287], words=[8,9]),\n",
       " <Ngram(\"atrial flutter\", id=6794356-2:293-306, chars=[293,306], words=[11,12]),\n",
       " <Ngram(\"cardiac disease\", id=6794356-2:345-359, chars=[345,359], words=[20,21]),\n",
       " <Ngram(\"congenital heart disease\", id=6794356-4:576-599, chars=[576,599], words=[11,13]),\n",
       " <Ngram(\"early pregnancy\", id=6794356-4:619-633, chars=[619,633], words=[17,18]),\n",
       " <Ngram(\"cardiac arrhythmia\", id=6794356-5:688-705, chars=[688,705], words=[9,10]),\n",
       " <Ngram(\"depression\", id=6794356-5:662-671, chars=[662,671], words=[4,4]),\n",
       " <Ngram(\"cyanosis\", id=6794356-5:674-681, chars=[674,681], words=[6,6])]"
      ]
     },
     "execution_count": 14,
     "metadata": {},
     "output_type": "execute_result"
    }
   ],
   "source": [
    "from ddlite_candidates import Ngrams\n",
    "cs = Ngrams(n_max=5)\n",
    "\n",
    "from ddlite_matchers import DictionaryMatch, Union, Concat\n",
    "matcher = DictionaryMatch(d=diseases, longest_match_only=True)\n",
    "matches = []\n",
    "for sent in sents[:6]:\n",
    "    for match in matcher.apply(cs.apply(sent)):\n",
    "        matches.append(match)\n",
    "matches"
   ]
  },
  {
   "cell_type": "code",
   "execution_count": 25,
   "metadata": {
    "collapsed": false
   },
   "outputs": [
    {
     "name": "stdout",
     "output_type": "stream",
     "text": [
      "Total gold candidates: 12\n",
      "Total candidate matches: 14\n",
      "CANDIDATE RECALL: 0.916666666667\n",
      "Missing matches: [<Ngram(\"neurologic depression\", id=6794356-5:651-671, chars=[651,671], words=[3,4])]\n"
     ]
    }
   ],
   "source": [
    "print \"Total gold candidates: %s\" % len(annos)\n",
    "print \"Total candidate matches: %s\" % len(matches)\n",
    "print \"CANDIDATE RECALL: %s\" % (len(set(annos).intersection(matches)) / float(len(annos)),)\n",
    "print \"Missing matches: %s\" % list(set(annos).difference(matches))"
   ]
  },
  {
   "cell_type": "code",
   "execution_count": 45,
   "metadata": {
    "collapsed": false
   },
   "outputs": [
    {
     "name": "stdout",
     "output_type": "stream",
     "text": [
      "0\n",
      "100\n",
      "200\n",
      "300\n",
      "400\n",
      "Total gold candidates: 4244\n",
      "Total candidate matches: 5403\n",
      "CANDIDATE RECALL: 0.678840716305\n"
     ]
    }
   ],
   "source": [
    "from ddlite_candidates import Ngrams\n",
    "from ddlite_matchers import DictionaryMatch, Union, Concat\n",
    "\n",
    "cs = Ngrams(n_max=5)\n",
    "matcher = DictionaryMatch(d=diseases, longest_match_only=True)\n",
    "\n",
    "disease_annotations = []\n",
    "disease_candidates  = []\n",
    "for i,doc in enumerate(documents):\n",
    "    if i % 100 == 0:\n",
    "        print i\n",
    "    \n",
    "    # Get the Sentences associated with each Document\n",
    "    sents = [s for s in sentences if s.doc_id == doc.id]\n",
    "    \n",
    "    # Get the gold annotations\n",
    "    disease_annotations += [a for a in collect_pubtator_annotations(doc, sents) if a.metadata['type'] == 'Disease']\n",
    "    \n",
    "    # Extract Candidates using our Matchers\n",
    "    for sent in sents:\n",
    "        disease_candidates += list(matcher.apply(cs.apply(sent)))\n",
    "disease_annotations = set(disease_annotations)\n",
    "\n",
    "N = len(disease_annotations)\n",
    "print \"Total gold candidates: %s\" % N\n",
    "print \"Total candidate matches: %s\" % len(disease_candidates)\n",
    "print \"CANDIDATE RECALL: %s\" % (len(disease_annotations.intersection(disease_candidates)) / float(N),)"
   ]
  },
  {
   "cell_type": "code",
   "execution_count": 38,
   "metadata": {
    "collapsed": false
   },
   "outputs": [
    {
     "data": {
      "text/plain": [
       "Document(id='17285209', file='CDR_DevelopmentSet.xml', text='Angiotensin-converting enzyme (ACE) inhibitor-associated angioedema of the stomach and small intestine: a case report.\\nThis is a case report on a 45-year old African-American female with newly diagnosed hypertension, who was started on a combination pill of amlodipine/benazapril 10/5 mg. The very next day, she presented at the emergency room (ER) with abdominal pain, nausea and vomiting. Physical exam, complete metabolic panel, and hemogram were in the normal range. She was discharged from the ER after a few hours of treatment with fluid and analgesics. However, she returned to the ER the next day with the same complaints. This time the physical exam was significant for a distended abdomen with dullness to percussion. CT scan of the abdomen revealed markedly thickened antrum of the stomach, duodenum and jejunum, along with fluid in the abdominal and pelvic cavity. Angiotensin-converting enzyme inhibitor (ACEI)-induced angioedema was suspected, and anti-hypertensive medications were discontinued. Her symptoms improved within the next 24 hours, and repeat CT after 72 hours revealed marked improvement in stomach and small bowel thickening and resolution of ascites. The recognition of angiotensin-converting enzyme (ACE) and angiotensin receptor blocker (ARB) intestinal angioedema constitutes a challenge to primary care physicians, internists, emergency room personal and surgeons.', attribs={'root': <Element document at 0x10931a870>})"
      ]
     },
     "execution_count": 38,
     "metadata": {},
     "output_type": "execute_result"
    }
   ],
   "source": [
    "docs[131]"
   ]
  },
  {
   "cell_type": "code",
   "execution_count": 30,
   "metadata": {
    "collapsed": false
   },
   "outputs": [
    {
     "data": {
      "text/plain": [
       "Document(id='6794356', file='CDR_DevelopmentSet.xml', text='Tricuspid valve regurgitation and lithium carbonate toxicity in a newborn infant.\\nA newborn with massive tricuspid regurgitation, atrial flutter, congestive heart failure, and a high serum lithium level is described. This is the first patient to initially manifest tricuspid regurgitation and atrial flutter, and the 11th described patient with cardiac disease among infants exposed to lithium compounds in the first trimester of pregnancy. Sixty-three percent of these infants had tricuspid valve involvement. Lithium carbonate may be a factor in the increasing incidence of congenital heart disease when taken during early pregnancy. It also causes neurologic depression, cyanosis, and cardiac arrhythmia when consumed prior to delivery.', attribs={'root': <Element document at 0x1092ebe60>})"
      ]
     },
     "execution_count": 30,
     "metadata": {},
     "output_type": "execute_result"
    }
   ],
   "source": [
    "docs[0]"
   ]
  },
  {
   "cell_type": "markdown",
   "metadata": {},
   "source": [
    "### Comparing against gold candidate set\n",
    "\n",
    "#### TODO: DictionaryMatch accepts either list or dict; in latter case, assumes vals are the IDs!\n",
    "\n",
    "#### ALSO: Add estimate_size method to CandidateExtraction operators"
   ]
  },
  {
   "cell_type": "markdown",
   "metadata": {},
   "source": [
    "### Saving to disk"
   ]
  },
  {
   "cell_type": "markdown",
   "metadata": {},
   "source": [
    "# TODO: Write tests!"
   ]
  }
 ],
 "metadata": {
  "kernelspec": {
   "display_name": "Python 2",
   "language": "python",
   "name": "python2"
  },
  "language_info": {
   "codemirror_mode": {
    "name": "ipython",
    "version": 2
   },
   "file_extension": ".py",
   "mimetype": "text/x-python",
   "name": "python",
   "nbconvert_exporter": "python",
   "pygments_lexer": "ipython2",
   "version": "2.7.10"
  }
 },
 "nbformat": 4,
 "nbformat_minor": 0
}
