{
 "cells": [
  {
   "cell_type": "markdown",
   "metadata": {},
   "source": [
    "# Tutorial, Part I: Candidate Extraction\n",
    "\n",
    "In this example, we'll be writing an application to extract **chemical-induced-disease relationships** from Pubmed abstracts, as per the [BioCreative CDR Challenge](http://www.biocreative.org/resources/corpora/biocreative-v-cdr-corpus/).  At core, we will be constructing a model to classify _candidate chemical-disease (C-D) relation mentions_ as either true or false.  To do this, we first need a set of such candidates- in this notebook, we'll use `DDLite` utilities to extract these candidates."
   ]
  },
  {
   "cell_type": "markdown",
   "metadata": {},
   "source": [
    "## Loading the Corpus\n",
    "\n",
    "First, we will load and pre-process the corpus, storing it for convenience in a `Corpus` object"
   ]
  },
  {
   "cell_type": "markdown",
   "metadata": {},
   "source": [
    "### Configuring a document parser\n",
    "\n",
    "We'll start by defining a `DocParser` class to read in Pubmed abstracts from [Pubtator]([Pubtator](http://www.ncbi.nlm.nih.gov/CBBresearch/Lu/Demo/PubTator/index.cgi)), where they are stored along with \"gold\" (i.e. hand-annotated by experts) *chemical* and *disease mention* annotations. We'll use the `XMLDocParser` class, which allows us to use [XPath queries](https://en.wikipedia.org/wiki/XPath) to specify the relevant sections of the XML format.\n",
    "\n",
    "_Note that we are newline-concatenating text from the title and abstract together for simplicity, but if we wanted to, we could easily extend the `DocParser` classes to preserve information about document structure._"
   ]
  },
  {
   "cell_type": "code",
   "execution_count": 1,
   "metadata": {
    "collapsed": false
   },
   "outputs": [],
   "source": [
    "from ddlite_parser import XMLDocParser\n",
    "xml_parser = XMLDocParser(\n",
    "    path='data/CDR_DevelopmentSet.xml',\n",
    "    doc='.//document',\n",
    "    text='.//passage/text/text()',\n",
    "    id='.//id/text()',\n",
    "    keep_xml_tree=True)"
   ]
  },
  {
   "cell_type": "markdown",
   "metadata": {},
   "source": [
    "### Selecting a sentence parser\n",
    "\n",
    "Next, we'll use an NLP preprocessing tool to split the `Document` objects into sentences, tokens, and provide annotations--part-of-speech tags, dependency parse structure, lemmatized word forms, etc.--for these sentences.  Here we use the default `SentenceParser` class."
   ]
  },
  {
   "cell_type": "code",
   "execution_count": 2,
   "metadata": {
    "collapsed": false
   },
   "outputs": [],
   "source": [
    "from ddlite_parser import SentenceParser\n",
    "sent_parser = SentenceParser()"
   ]
  },
  {
   "cell_type": "markdown",
   "metadata": {},
   "source": [
    "### Pre-processing & loading the corpus\n",
    "\n",
    "Finally, we'll put this all together using a `Corpus` object, which will execute the parsers and store the results as an iterator:"
   ]
  },
  {
   "cell_type": "code",
   "execution_count": 3,
   "metadata": {
    "collapsed": false
   },
   "outputs": [
    {
     "name": "stdout",
     "output_type": "stream",
     "text": [
      "Parsing documents...\n",
      "Parsing sentences...\n"
     ]
    }
   ],
   "source": [
    "from ddlite_parser import Corpus\n",
    "corpus = Corpus(xml_parser, sent_parser)"
   ]
  },
  {
   "cell_type": "code",
   "execution_count": 4,
   "metadata": {
    "collapsed": false
   },
   "outputs": [
    {
     "name": "stdout",
     "output_type": "stream",
     "text": [
      "Document(id='6794356', file='CDR_DevelopmentSet.xml', text='Tricuspid valve regurgitation and lithium carbonate toxicity in a newborn infant.\\nA newborn with massive tricuspid regurgitation, atrial flutter, congestive heart failure, and a high serum lithium level is described. This is the first patient to initially manifest tricuspid regurgitation and atrial flutter, and the 11th described patient with cardiac disease among infants exposed to lithium compounds in the first trimester of pregnancy. Sixty-three percent of these infants had tricuspid valve involvement. Lithium carbonate may be a factor in the increasing incidence of congenital heart disease when taken during early pregnancy. It also causes neurologic depression, cyanosis, and cardiac arrhythmia when consumed prior to delivery.', attribs={'root': <Element document at 0x10b79da50>})\n",
      "\n",
      "\n",
      "Sentence(id='6794356-0', words=[u'Tricuspid', u'valve', u'regurgitation', u'and', u'lithium', u'carbonate', u'toxicity', u'in', u'a', u'newborn', u'infant', u'.'], lemmas=[u'tricuspid', u'valve', u'regurgitation', u'and', u'lithium', u'carbonate', u'toxicity', u'in', u'a', u'newborn', u'infant', u'.'], poses=[u'JJ', u'NN', u'NN', u'CC', u'NN', u'NN', u'NN', u'IN', u'DT', u'JJ', u'NN', u'.'], dep_parents=[3, 3, 0, 3, 7, 7, 3, 11, 11, 11, 3, 3], dep_labels=[u'amod', u'compound', u'ROOT', u'cc', u'compound', u'compound', u'conj', u'case', u'det', u'amod', u'nmod', u'punct'], sent_id=0, doc_id='6794356', text=u'Tricuspid valve regurgitation and lithium carbonate toxicity in a newborn infant.', char_offsets=[0, 10, 16, 30, 34, 42, 52, 61, 64, 66, 74, 80], doc_name='CDR_DevelopmentSet.xml')\n"
     ]
    }
   ],
   "source": [
    "for doc, sentences in corpus:\n",
    "    print doc\n",
    "    print \"\\n\"\n",
    "    print sentences[0]\n",
    "    break"
   ]
  },
  {
   "cell_type": "markdown",
   "metadata": {},
   "source": [
    "## Writing a basic candidate extractor\n",
    "\n",
    "Next, we'll write a basic function to extract **candidate disease mentions** from the corpus.  For this first attempt, we'll just write a function that checks for matches against a list (or _\"dictionary\"_) of disease phrases, constructed using some pre-compiled ontologies ([UMLS](https://www.nlm.nih.gov/research/umls/), [ORDO](http://www.orphadata.org/cgi-bin/inc/ordo_orphanet.inc.php), [DOID](http://www.obofoundry.org/ontology/doid.html), [NCBI Diseases](http://www.ncbi.nlm.nih.gov/CBBresearch/Dogan/DISEASE/); see `tutorial/data/diseases.py`).\n",
    "\n",
    "We'll do this using a `CandidateSpace` object--which defines the basic candidates we consider, in this case n-grams up to a certain length--and a `Matcher` object, which filters this candidate space down."
   ]
  },
  {
   "cell_type": "code",
   "execution_count": 5,
   "metadata": {
    "collapsed": false
   },
   "outputs": [
    {
     "name": "stdout",
     "output_type": "stream",
     "text": [
      "Loaded 507899 disease phrases!\n"
     ]
    }
   ],
   "source": [
    "from load_dictionaries import load_disease_dictionary\n",
    "from ddlite_candidates import Ngrams\n",
    "from ddlite_matchers import DictionaryMatch\n",
    "\n",
    "# Load the disease phrase dictionary\n",
    "diseases = load_disease_dictionary()\n",
    "print \"Loaded %s disease phrases!\" % len(diseases)\n",
    "\n",
    "# Define a candidate space\n",
    "ngrams = Ngrams(n_max=3)\n",
    "\n",
    "# Define a matcher\n",
    "matcher = DictionaryMatch(d=diseases, longest_match_only=False)"
   ]
  },
  {
   "cell_type": "markdown",
   "metadata": {},
   "source": [
    "Note that we set `longest_match_only=False`, which means that we _will_ consider subsequences of phrases that match our dictionary.\n",
    "\n",
    "The `Ngrams` operator is applied over our `Sentence` objects and returns `Ngram` objects, and the `Matcher` then filters these, so we apply our operators over the corpus (also storing the results in our `Corpus` object):"
   ]
  },
  {
   "cell_type": "code",
   "execution_count": 6,
   "metadata": {
    "collapsed": false
   },
   "outputs": [
    {
     "data": {
      "text/plain": [
       "[<Ngram(\"blood pressure\", id=1969772-5:640-653, chars=[640,653], words=[2,3]),\n",
       " <Ngram(\"pressure\", id=1969772-5:646-653, chars=[646,653], words=[3,3]),\n",
       " <Ngram(\"anaesthesia\", id=1969772-5:925-935, chars=[925,935], words=[44,44]),\n",
       " <Ngram(\"hypotension\", id=1969772-4:562-572, chars=[562,572], words=[9,9]),\n",
       " <Ngram(\"Mean arterial pressure\", id=1969772-6:938-959, chars=[938,959], words=[0,2])]"
      ]
     },
     "execution_count": 6,
     "metadata": {},
     "output_type": "execute_result"
    }
   ],
   "source": [
    "corpus.extract_candidates(ngrams, matcher)\n",
    "candidates = list(corpus.iter_candidates())\n",
    "candidates[:5]"
   ]
  },
  {
   "cell_type": "markdown",
   "metadata": {},
   "source": [
    "## Evaluating our candidate recall on gold annotations\n",
    "\n",
    "Next, we'll test our _candidate recall_--in other words, how many of the true disease mentions we picked up in our candidate set--using the gold annotations in our dataset.\n",
    "\n",
    "The XML documents that we loaded using the `XMLDocParser` also contained annotations (this is why we kept the full xml tree using `keep_xml_tree=True`).  We'll load these annotations and map them to `Ngram` objects over our parsed sentences, that way we can easily compare our extracted candidate set with the gold annotations.  The code is fairly simple (see `tutorial/util.py`); note that we filter to only keep _disease_ annotations:"
   ]
  },
  {
   "cell_type": "code",
   "execution_count": 12,
   "metadata": {
    "collapsed": false
   },
   "outputs": [],
   "source": [
    "from utils import collect_pubtator_annotations\n",
    "gold = []\n",
    "for doc, sents in corpus:\n",
    "    gold += [a for a in collect_pubtator_annotations(doc, sents) if a.metadata['type'] == 'Disease']\n",
    "gold = frozenset(gold)"
   ]
  },
  {
   "cell_type": "markdown",
   "metadata": {},
   "source": [
    "Now, we can get candidate recall using simple set operations (note that the candidates are identified based on their `id` attribute):"
   ]
  },
  {
   "cell_type": "code",
   "execution_count": 23,
   "metadata": {
    "collapsed": false
   },
   "outputs": [
    {
     "name": "stdout",
     "output_type": "stream",
     "text": [
      "Candidate recall = 0.716\n"
     ]
    }
   ],
   "source": [
    "print \"Candidate recall = %0.3f\" % (len(gold.intersection(candidates)) / float(len(gold)),)"
   ]
  },
  {
   "cell_type": "markdown",
   "metadata": {},
   "source": [
    "## Using the `Viewer` to inspect data\n",
    "\n",
    "We see that our candidate recall is okay, but fairly low considering that the **candidate recall is an upper bound for our total system recall**.  Next, we'll use the `Viewer` object to do error analysis and get ideas of how to build a better candidate extractor!"
   ]
  },
  {
   "cell_type": "code",
   "execution_count": 24,
   "metadata": {
    "collapsed": false
   },
   "outputs": [
    {
     "data": {
      "text/html": [
       "<link href=\"../viewer/bootstrap/css/bootstrap.min.css\" rel=\"stylesheet\" />\n",
       "<link href=\"../viewer/viewer.css\" type=\"text/css\" rel=\"stylesheet\" />\n",
       "<div id=\"viewer-5439\" class=\"viewer-pane panel panel-default\" tabindex=\"0\">\n",
       "    <div class=\"panel-heading\">\n",
       "        <h3 class=\"panel-title\">Viewer</h3>\n",
       "        <div id=\"candidate-caption-5439\" class=\"panel-left-justify\"></div>\n",
       "    </div>\n",
       "    <div class=\"panel-body\" style=\"height:225px\">\n",
       "            <div class=\"viewer-page viewer-page-5439\" id=\"viewer-page-5439-0\" data-nc=\"4\">\n",
       "                <ul class=\"list-group\"><li class=\"list-group-item\"><div class=\"candidate-data\" id=\"cdata-5439-0-0\" caption=\"CID: 11208990-0:80-90\"></div><span class=\"\">Association of nitric oxide production and apoptosis in a model of experimental </span><span class=\"candidate gold-annotation c-5439-0-0\">nephropathy</span><span class=\"\">.</span></li><li class=\"list-group-item\"><div class=\"candidate-data\" id=\"cdata-5439-0-1\" caption=\"CID: 11208990-2:341-358\"></div><div class=\"candidate-data\" id=\"cdata-5439-0-2\" caption=\"CID: 11208990-2:351-358\"></div><span class=\"\">We have studied the role of NO and its association with apoptosis in an experimental model of </span><span class=\"candidate gold-annotation c-5439-0-1\">nephrotic </span><span class=\"candidate gold-annotation c-5439-0-1 c-5439-0-2\">syndrome</span><span class=\"\"> induced by a single injection of adriamycin (ADR).</span></li><li class=\"list-group-item\"><div class=\"candidate-data\" id=\"cdata-5439-0-3\" caption=\"CID: 11208990-4:670-680\"></div><span class=\"\">Rats were stratified into control groups and ADR-induced </span><span class=\"candidate gold-annotation c-5439-0-3\">nephropathy</span><span class=\"\"> groups.</span></li></ul>\n",
       "            </div>\n",
       "            <div class=\"viewer-page viewer-page-5439\" id=\"viewer-page-5439-1\" data-nc=\"3\">\n",
       "                <ul class=\"list-group\"><li class=\"list-group-item\"><div class=\"candidate-data\" id=\"cdata-5439-1-0\" caption=\"CID: 11208990-7:1069-1081\"></div><div class=\"candidate-data\" id=\"cdata-5439-1-1\" caption=\"CID: 11208990-7:1111-1122\"></div><span class=\"\">RESULTS: Histopathological examination of the kidneys of rats treated with ADR revealed focal areas of </span><span class=\"gold-annotation\">mesangial </span><span class=\"candidate gold-annotation c-5439-1-0\">proliferation</span><span class=\"\"> and mild </span><span class=\"gold-annotation\">tubulointerstitial </span><span class=\"candidate gold-annotation c-5439-1-1\">inflammation</span><span class=\"\">.</span></li><li class=\"list-group-item\"><div class=\"candidate-data\" id=\"cdata-5439-1-2\" caption=\"CID: 11208990-8:1170-1180\"></div><span class=\"\">They also had significantly higher levels of </span><span class=\"candidate gold-annotation c-5439-1-2\">proteinuria</span><span class=\"\"> compared with control and treatment groups (P < 0.05).</span></li><li class=\"list-group-item\"><span class=\"\">Urine nitrite levels were significantly increased in the ADR-</span><span class=\"gold-annotation\">nephropathy</span><span class=\"\"> group (P < 0.05).</span></li></ul>\n",
       "            </div>\n",
       "            <div class=\"viewer-page viewer-page-5439\" id=\"viewer-page-5439-2\" data-nc=\"2\">\n",
       "                <ul class=\"list-group\"><li class=\"list-group-item\"><span class=\"\">In the IPRK phenylephrine and acetylcholine related responses were significantly impaired in the ADR-</span><span class=\"gold-annotation\">nephropathy</span><span class=\"\"> group.</span></li><li class=\"list-group-item\"><div class=\"candidate-data\" id=\"cdata-5439-2-0\" caption=\"CID: 11208990-11:1462-1473\"></div><div class=\"candidate-data\" id=\"cdata-5439-2-1\" caption=\"CID: 11208990-11:1466-1473\"></div><span class=\"\">Apoptosis was </span><span class=\"candidate c-5439-2-0\">not </span><span class=\"candidate c-5439-2-0 c-5439-2-1\">detected</span><span class=\"\"> in controls.</span></li><li class=\"list-group-item\"><span class=\"\">However, in the ADR-</span><span class=\"gold-annotation\">nephropathy</span><span class=\"\"> group, numerous apoptotic cells were identified in the tubulointerstitial areas.</span></li></ul>\n",
       "            </div>\n",
       "            <div class=\"viewer-page viewer-page-5439\" id=\"viewer-page-5439-3\" data-nc=\"4\">\n",
       "                <ul class=\"list-group\"><li class=\"list-group-item\"><div class=\"candidate-data\" id=\"cdata-5439-3-0\" caption=\"CID: 11208990-15:1951-1962\"></div><div class=\"candidate-data\" id=\"cdata-5439-3-1\" caption=\"CID: 11208990-15:1983-1991\"></div><span class=\"\">CONCLUSION: We suggest that interactions between NO and apoptosis are important in the </span><span class=\"candidate c-5439-3-0\">pathogenesis</span><span class=\"\"> of the ADR-induced </span><span class=\"candidate gold-annotation c-5439-3-1\">nephrosis</span><span class=\"\">.</span></li><li class=\"list-group-item\"><div class=\"candidate-data\" id=\"cdata-5439-3-2\" caption=\"CID: 9636837-0:12-16\"></div><div class=\"candidate-data\" id=\"cdata-5439-3-3\" caption=\"CID: 9636837-0:44-50\"></div><span class=\"\">Carboplatin </span><span class=\"candidate c-5439-3-2\">toxic</span><span class=\"\"> effects on the peripheral </span><span class=\"candidate c-5439-3-3\">nervous</span><span class=\"\"> system of the rat.</span></li><li class=\"list-group-item\"><span class=\"\">BACKGROUND: The most striking of carboplatin's advantages (CBDCA) over cisplatin (CDDP) is its markedly reduced rate of </span><span class=\"gold-annotation\">neurotoxic</span><span class=\"\"> effects.</span></li></ul>\n",
       "            </div>\n",
       "            <div class=\"viewer-page viewer-page-5439\" id=\"viewer-page-5439-4\" data-nc=\"5\">\n",
       "                <ul class=\"list-group\"><li class=\"list-group-item\"><div class=\"candidate-data\" id=\"cdata-5439-4-0\" caption=\"CID: 9636837-2:399-405\"></div><div class=\"candidate-data\" id=\"cdata-5439-4-1\" caption=\"CID: 9636837-2:414-419\"></div><span class=\"\">However, the use of CBDCA higher-intensity schedules and the association with other </span><span class=\"gold-annotation\">neurotoxic</span><span class=\"\"> drugs in polychemotherapy may cause some concern about its safety with respect to </span><span class=\"gold-annotation\">peripheral </span><span class=\"candidate gold-annotation c-5439-4-0\">nervous</span><span class=\"gold-annotation\"> system </span><span class=\"candidate gold-annotation c-5439-4-1\">damage</span><span class=\"\">.</span></li><li class=\"list-group-item\"><div class=\"candidate-data\" id=\"cdata-5439-4-2\" caption=\"CID: 9636837-4:581-593\"></div><div class=\"candidate-data\" id=\"cdata-5439-4-3\" caption=\"CID: 9636837-4:662-686\"></div><span class=\"candidate gold-annotation c-5439-4-2\">Neurotoxicity</span><span class=\"\"> was assessed for behavioral (tail-flick test), neurophysiological (</span><span class=\"candidate c-5439-4-3\">nerve conduction velocity</span><span class=\"\"> in the tail nerve), morphological, morphometrical and analytical effects.</span></li><li class=\"list-group-item\"><div class=\"candidate-data\" id=\"cdata-5439-4-4\" caption=\"CID: 9636837-5:826-838\"></div><span class=\"\">RESULTS: CBDCA administration induced dose-dependent </span><span class=\"gold-annotation\">peripheral </span><span class=\"candidate gold-annotation c-5439-4-4\">neurotoxicity</span><span class=\"\">.</span></li></ul>\n",
       "            </div>\n",
       "            <div class=\"viewer-page viewer-page-5439\" id=\"viewer-page-5439-5\" data-nc=\"4\">\n",
       "                <ul class=\"list-group\"><li class=\"list-group-item\"><div class=\"candidate-data\" id=\"cdata-5439-5-0\" caption=\"CID: 9636837-6:841-844\"></div><div class=\"candidate-data\" id=\"cdata-5439-5-1\" caption=\"CID: 9636837-6:861-885\"></div><span class=\"candidate gold-annotation c-5439-5-0\">Pain</span><span class=\"\"> perception and </span><span class=\"candidate c-5439-5-1\">nerve conduction velocity</span><span class=\"\"> in the tail were significantly impaired, particularly after the high-dose treatment.</span></li><li class=\"list-group-item\"><div class=\"candidate-data\" id=\"cdata-5439-5-2\" caption=\"CID: 9636837-8:1224-1231\"></div><span class=\"\">Moreover, significant amounts of platinum were </span><span class=\"candidate c-5439-5-2\">detected</span><span class=\"\"> in the dorsal root ganglia and kidney after CBDCA treatment.</span></li><li class=\"list-group-item\"><div class=\"candidate-data\" id=\"cdata-5439-5-3\" caption=\"CID: 9636837-9:1461-1473\"></div><span class=\"\">CONCLUSIONS: CBDCA is </span><span class=\"gold-annotation\">neurotoxic</span><span class=\"\"> in our model, and the type of pathological changes it induces are so closely similar to those caused by CDDP that it is probable that </span><span class=\"candidate gold-annotation c-5439-5-3\">neurotoxicity</span><span class=\"\"> is induced in the two drugs by the same mechanism.</span></li></ul>\n",
       "            </div>\n",
       "            <div class=\"viewer-page viewer-page-5439\" id=\"viewer-page-5439-6\" data-nc=\"7\">\n",
       "                <ul class=\"list-group\"><li class=\"list-group-item\"><div class=\"candidate-data\" id=\"cdata-5439-6-0\" caption=\"CID: 9636837-10:1639-1645\"></div><span class=\"\">This model can be used alone or in combination with other drugs to explore the effect of CBDCA on the peripheral </span><span class=\"candidate c-5439-6-0\">nervous</span><span class=\"\"> system.</span></li><li class=\"list-group-item\"><div class=\"candidate-data\" id=\"cdata-5439-6-1\" caption=\"CID: 1445986-0:18-40\"></div><div class=\"candidate-data\" id=\"cdata-5439-6-2\" caption=\"CID: 1445986-0:25-40\"></div><div class=\"candidate-data\" id=\"cdata-5439-6-3\" caption=\"CID: 1445986-0:35-40\"></div><span class=\"\">Cefotetan-induced </span><span class=\"candidate c-5439-6-1\">immune </span><span class=\"candidate gold-annotation c-5439-6-1 c-5439-6-2\">hemolytic </span><span class=\"candidate gold-annotation c-5439-6-1 c-5439-6-2 c-5439-6-3\">anemia</span><span class=\"\">.</span></li><li class=\"list-group-item\"><div class=\"candidate-data\" id=\"cdata-5439-6-4\" caption=\"CID: 1445986-1:43-65\"></div><div class=\"candidate-data\" id=\"cdata-5439-6-5\" caption=\"CID: 1445986-1:50-65\"></div><div class=\"candidate-data\" id=\"cdata-5439-6-6\" caption=\"CID: 1445986-1:60-65\"></div><span class=\"candidate c-5439-6-4\">Immune </span><span class=\"candidate gold-annotation c-5439-6-4 c-5439-6-5\">hemolytic </span><span class=\"candidate gold-annotation c-5439-6-4 c-5439-6-5 c-5439-6-6\">anemia</span><span class=\"\"> due to a drug-adsorption mechanism has been described primarily in patients receiving penicillins and first-generation cephalosporins.</span></li></ul>\n",
       "            </div>\n",
       "            <div class=\"viewer-page viewer-page-5439\" id=\"viewer-page-5439-7\" data-nc=\"5\">\n",
       "                <ul class=\"list-group\"><li class=\"list-group-item\"><div class=\"candidate-data\" id=\"cdata-5439-7-0\" caption=\"CID: 1445986-2:238-243\"></div><span class=\"\">We describe a patient who developed </span><span class=\"candidate gold-annotation c-5439-7-0\">anemia</span><span class=\"\"> while receiving intravenous cefotetan.</span></li><li class=\"list-group-item\"><div class=\"candidate-data\" id=\"cdata-5439-7-1\" caption=\"CID: 1445986-3:320-327\"></div><span class=\"\">Cefotetan-dependent antibodies were </span><span class=\"candidate c-5439-7-1\">detected</span><span class=\"\"> in the patient's serum and in an eluate prepared from his red blood cells.</span></li><li class=\"list-group-item\"><div class=\"candidate-data\" id=\"cdata-5439-7-2\" caption=\"CID: 1445986-5:676-704\"></div><div class=\"candidate-data\" id=\"cdata-5439-7-3\" caption=\"CID: 1445986-5:689-704\"></div><div class=\"candidate-data\" id=\"cdata-5439-7-4\" caption=\"CID: 1445986-5:699-704\"></div><span class=\"\">These observations, in conjunction with clinical and laboratory evidence of extravascular </span><span class=\"gold-annotation\">hemolysis</span><span class=\"\">, are consistent with </span><span class=\"candidate c-5439-7-2\">drug-induced </span><span class=\"candidate gold-annotation c-5439-7-2 c-5439-7-3\">hemolytic </span><span class=\"candidate gold-annotation c-5439-7-2 c-5439-7-3 c-5439-7-4\">anemia</span><span class=\"\">, possibly involving both drug-adsorption and autoantibody formation mechanisms.</span></li></ul>\n",
       "            </div>\n",
       "            <div class=\"viewer-page viewer-page-5439\" id=\"viewer-page-5439-8\" data-nc=\"5\">\n",
       "                <ul class=\"list-group\"><li class=\"list-group-item\"><div class=\"candidate-data\" id=\"cdata-5439-8-0\" caption=\"CID: 1445986-6:843-861\"></div><span class=\"\">This case emphasizes the need for increased awareness of </span><span class=\"candidate c-5439-8-0\">hemolytic reactions</span><span class=\"\"> to all cephalosporins.</span></li><li class=\"list-group-item\"><div class=\"candidate-data\" id=\"cdata-5439-8-1\" caption=\"CID: 2435991-0:74-84\"></div><span class=\"\">Antiarrhythmic plasma concentrations of cibenzoline on canine </span><span class=\"gold-annotation\">ventricular </span><span class=\"candidate gold-annotation c-5439-8-1\">arrhythmias</span><span class=\"\">.</span></li><li class=\"list-group-item\"><div class=\"candidate-data\" id=\"cdata-5439-8-2\" caption=\"CID: 2435991-1:177-187\"></div><div class=\"candidate-data\" id=\"cdata-5439-8-3\" caption=\"CID: 2435991-1:233-240\"></div><div class=\"candidate-data\" id=\"cdata-5439-8-4\" caption=\"CID: 2435991-1:298-307\"></div><span class=\"\">Using two-stage coronary ligation-, digitalis-, and adrenaline-induced canine </span><span class=\"gold-annotation\">ventricular </span><span class=\"candidate gold-annotation c-5439-8-2\">arrhythmias</span><span class=\"\">, antiarrhythmic effects of cibenzoline were </span><span class=\"candidate c-5439-8-3\">examined</span><span class=\"\"> and the minimum effective plasma concentration for each </span><span class=\"candidate gold-annotation c-5439-8-4\">arrhythmia</span><span class=\"\"> model was determined.</span></li></ul>\n",
       "            </div>\n",
       "            <div class=\"viewer-page viewer-page-5439\" id=\"viewer-page-5439-9\" data-nc=\"5\">\n",
       "                <ul class=\"list-group\"><li class=\"list-group-item\"><div class=\"candidate-data\" id=\"cdata-5439-9-0\" caption=\"CID: 2435991-2:362-372\"></div><div class=\"candidate-data\" id=\"cdata-5439-9-1\" caption=\"CID: 2435991-2:427-437\"></div><span class=\"\">Cibenzoline suppressed all the </span><span class=\"candidate gold-annotation c-5439-9-0\">arrhythmias</span><span class=\"\">, and the minimum effective plasma concentrations for </span><span class=\"candidate gold-annotation c-5439-9-1\">arrhythmias</span><span class=\"\"> induced by 24-h coronary ligation, 48-h coronary ligation, digitalis, and adrenaline were 1.9 +/- 0.9 (by 8 mg/kg i.v.), 1.6 +/- 0.5 (by 8 mg/kg i.v.), 0.6 +/- 0.2 (by 2 mg/kg i.v.), and 3.5 +/- 1.3 (by 5 mg/kg i.v.) micrograms/ml, respectively (mean +/- SDM, n = 6-7).</span></li><li class=\"list-group-item\"><div class=\"candidate-data\" id=\"cdata-5439-9-2\" caption=\"CID: 2435991-3:750-759\"></div><div class=\"candidate-data\" id=\"cdata-5439-9-3\" caption=\"CID: 2435991-3:820-830\"></div><span class=\"\">The concentration for adrenaline-induced </span><span class=\"candidate gold-annotation c-5439-9-2\">arrhythmia</span><span class=\"\"> was significantly higher than those for the other types of </span><span class=\"candidate gold-annotation c-5439-9-3\">arrhythmias</span><span class=\"\">.</span></li><li class=\"list-group-item\"><div class=\"candidate-data\" id=\"cdata-5439-9-4\" caption=\"CID: 2435991-4:944-950\"></div><span class=\"\">This pharmacological profile is similar to those of mexiletine and tocainide, and all three drugs have central </span><span class=\"candidate c-5439-9-4\">nervous</span><span class=\"\"> system (CNS) stimulant action.</span></li></ul>\n",
       "            </div>\n",
       "            <div class=\"viewer-page viewer-page-5439\" id=\"viewer-page-5439-10\" data-nc=\"7\">\n",
       "                <ul class=\"list-group\"><li class=\"list-group-item\"><div class=\"candidate-data\" id=\"cdata-5439-10-0\" caption=\"CID: 2435991-5:1012-1015\"></div><div class=\"candidate-data\" id=\"cdata-5439-10-1\" caption=\"CID: 2435991-5:1017-1027\"></div><div class=\"candidate-data\" id=\"cdata-5439-10-2\" caption=\"CID: 2435991-5:1129-1138\"></div><span class=\"\">Because cibenzoline had only </span><span class=\"candidate c-5439-10-0\">weak</span><span class=\"\"> </span><span class=\"candidate gold-annotation c-5439-10-1\">hypotensive</span><span class=\"\"> and sinus node </span><span class=\"gold-annotation\">depressive</span><span class=\"\"> effects and was found to be orally active when given to coronary ligation </span><span class=\"candidate gold-annotation c-5439-10-2\">arrhythmia</span><span class=\"\"> dogs, its clinical usefulness is expected.</span></li><li class=\"list-group-item\"><div class=\"candidate-data\" id=\"cdata-5439-10-3\" caption=\"CID: 17344330-0:0-6\"></div><div class=\"candidate-data\" id=\"cdata-5439-10-4\" caption=\"CID: 17344330-0:70-86\"></div><div class=\"candidate-data\" id=\"cdata-5439-10-5\" caption=\"CID: 17344330-0:77-86\"></div><span class=\"candidate gold-annotation c-5439-10-3\">Syncope</span><span class=\"\"> and </span><span class=\"gold-annotation\">QT prolongation</span><span class=\"\"> among patients treated with methadone for </span><span class=\"candidate c-5439-10-4\">heroin </span><span class=\"candidate c-5439-10-4 c-5439-10-5\">dependence</span><span class=\"\"> in the city of Copenhagen.</span></li><li class=\"list-group-item\"><div class=\"candidate-data\" id=\"cdata-5439-10-6\" caption=\"CID: 17344330-1:189-198\"></div><span class=\"\">BACKGROUND: Methadone is prescribed to heroin addicts to decrease illicit </span><span class=\"candidate c-5439-10-6\">opioid use</span><span class=\"\">.</span></li></ul>\n",
       "            </div>\n",
       "            <div class=\"viewer-page viewer-page-5439\" id=\"viewer-page-5439-11\" data-nc=\"5\">\n",
       "                <ul class=\"list-group\"><li class=\"list-group-item\"><div class=\"candidate-data\" id=\"cdata-5439-11-0\" caption=\"CID: 17344330-2:261-278\"></div><span class=\"\">Prolongation of the QT interval in the ECG of patients with </span><span class=\"candidate gold-annotation c-5439-11-0\">torsade de pointes</span><span class=\"\"> (</span><span class=\"gold-annotation\">TdP</span><span class=\"\">) has been reported in methadone users.</span></li><li class=\"list-group-item\"><div class=\"candidate-data\" id=\"cdata-5439-11-1\" caption=\"CID: 17344330-3:352-356\"></div><div class=\"candidate-data\" id=\"cdata-5439-11-2\" caption=\"CID: 17344330-3:430-436\"></div><div class=\"candidate-data\" id=\"cdata-5439-11-3\" caption=\"CID: 17344330-3:449-456\"></div><span class=\"\">As heroin addicts sometimes </span><span class=\"candidate c-5439-11-1\">faint</span><span class=\"\"> while using illicit drugs, doctors might attribute too many episodes of </span><span class=\"candidate gold-annotation c-5439-11-2\">syncope</span><span class=\"\"> to illicit </span><span class=\"candidate c-5439-11-3\">drug use</span><span class=\"\"> and thereby underestimate the incidence of </span><span class=\"gold-annotation\">TdP</span><span class=\"\"> in this special population, and the high mortality in this population may, in part, be caused by the proarrhythmic effect of methadone.</span></li><li class=\"list-group-item\"><div class=\"candidate-data\" id=\"cdata-5439-11-4\" caption=\"CID: 17344330-4:691-694\"></div><span class=\"\">METHODS: In this cross-sectional study interview, </span><span class=\"candidate c-5439-11-4\">ECGs</span><span class=\"\"> and blood samples were collected in a population of adult heroin addicts treated with methadone or buprenorphine on a daily basis.</span></li></ul>\n",
       "            </div>\n",
       "            <div class=\"viewer-page viewer-page-5439\" id=\"viewer-page-5439-12\" data-nc=\"4\">\n",
       "                <ul class=\"list-group\"><li class=\"list-group-item\"><div class=\"candidate-data\" id=\"cdata-5439-12-0\" caption=\"CID: 17344330-5:850-863\"></div><div class=\"candidate-data\" id=\"cdata-5439-12-1\" caption=\"CID: 17344330-5:855-863\"></div><span class=\"\">Of the patients at the </span><span class=\"candidate c-5439-12-0\">Drug </span><span class=\"candidate c-5439-12-0 c-5439-12-1\">Addiction</span><span class=\"\"> Service in the municipal of Copenhagen, 450 (approximately 52%) were included.</span></li><li class=\"list-group-item\"><div class=\"candidate-data\" id=\"cdata-5439-12-2\" caption=\"CID: 17344330-6:987-990\"></div><span class=\"\">The QT interval was estimated from 12 lead </span><span class=\"candidate c-5439-12-2\">ECGs</span><span class=\"\">.</span></li><li class=\"list-group-item\"><div class=\"candidate-data\" id=\"cdata-5439-12-3\" caption=\"CID: 17344330-7:1051-1057\"></div><span class=\"\">All participants were interviewed about any experience of </span><span class=\"candidate gold-annotation c-5439-12-3\">syncope</span><span class=\"\">.</span></li></ul>\n",
       "            </div>\n",
       "            <div class=\"viewer-page viewer-page-5439\" id=\"viewer-page-5439-13\" data-nc=\"4\">\n",
       "                <ul class=\"list-group\"><li class=\"list-group-item\"><div class=\"candidate-data\" id=\"cdata-5439-13-0\" caption=\"CID: 17344330-8:1140-1146\"></div><div class=\"candidate-data\" id=\"cdata-5439-13-1\" caption=\"CID: 17344330-8:1187-1196\"></div><div class=\"candidate-data\" id=\"cdata-5439-13-2\" caption=\"CID: 17344330-8:1211-1220\"></div><span class=\"\">The association between opioid dose and QT, and methadone dose and reporting of </span><span class=\"candidate gold-annotation c-5439-13-0\">syncope</span><span class=\"\"> was assessed using multivariate linear </span><span class=\"candidate c-5439-13-1\">regression</span><span class=\"\"> and logistic </span><span class=\"candidate c-5439-13-2\">regression</span><span class=\"\">, respectively.</span></li><li class=\"list-group-item\"><span class=\"\">Among the subjects treated with methadone, 28% men and 32% women had </span><span class=\"gold-annotation\">prolonged QTc interval</span><span class=\"\">.</span></li><li class=\"list-group-item\"><div class=\"candidate-data\" id=\"cdata-5439-13-3\" caption=\"CID: 17344330-13:1657-1663\"></div><span class=\"\">A 50 mg higher methadone dose was associated with a 1.2 (95% CI 1.1 to 1.4) times higher odds for </span><span class=\"candidate gold-annotation c-5439-13-3\">syncope</span><span class=\"\">.</span></li></ul>\n",
       "            </div>\n",
       "            <div class=\"viewer-page viewer-page-5439\" id=\"viewer-page-5439-14\" data-nc=\"5\">\n",
       "                <ul class=\"list-group\"><li class=\"list-group-item\"><div class=\"candidate-data\" id=\"cdata-5439-14-0\" caption=\"CID: 17344330-14:1748-1754\"></div><span class=\"\">CONCLUSIONS: Methadone is associated with </span><span class=\"gold-annotation\">QT prolongation</span><span class=\"\"> and higher reporting of </span><span class=\"candidate gold-annotation c-5439-14-0\">syncope</span><span class=\"\"> in a population of heroin addicts.</span></li><li class=\"list-group-item\"><div class=\"candidate-data\" id=\"cdata-5439-14-1\" caption=\"CID: 2528969-0:29-38\"></div><div class=\"candidate-data\" id=\"cdata-5439-14-2\" caption=\"CID: 2528969-0:105-112\"></div><span class=\"\">Nature, time course and dose </span><span class=\"candidate c-5439-14-1\">dependence</span><span class=\"\"> of zidovudine-related side effects: results from the Multicenter </span><span class=\"candidate c-5439-14-2\">Canadian</span><span class=\"\"> Azidothymidine Trial.</span></li><li class=\"list-group-item\"><div class=\"candidate-data\" id=\"cdata-5439-14-3\" caption=\"CID: 2528969-2:420-426\"></div><div class=\"candidate-data\" id=\"cdata-5439-14-4\" caption=\"CID: 2528969-2:464-470\"></div><span class=\"\">Our study group consisted of 74 HIV-positive homosexual men belonging to groups II B, III and IV C2 from the Centers for </span><span class=\"candidate c-5439-14-3\">Disease</span><span class=\"\"> Control (CDC) classification of </span><span class=\"gold-annotation\">HIV </span><span class=\"candidate gold-annotation c-5439-14-4\">disease</span><span class=\"\">.</span></li></ul>\n",
       "            </div>\n",
       "            <div class=\"viewer-page viewer-page-5439\" id=\"viewer-page-5439-15\" data-nc=\"6\">\n",
       "                <ul class=\"list-group\"><li class=\"list-group-item\"><div class=\"candidate-data\" id=\"cdata-5439-15-0\" caption=\"CID: 2528969-6:971-985\"></div><div class=\"candidate-data\" id=\"cdata-5439-15-1\" caption=\"CID: 2528969-6:1034-1039\"></div><div class=\"candidate-data\" id=\"cdata-5439-15-2\" caption=\"CID: 2528969-6:1048-1054\"></div><div class=\"candidate-data\" id=\"cdata-5439-15-3\" caption=\"CID: 2528969-6:1066-1073\"></div><span class=\"\">Symptomatic </span><span class=\"candidate c-5439-15-0\">adverse effects</span><span class=\"\"> were present in 96% of subjects, most commonly </span><span class=\"candidate gold-annotation c-5439-15-1\">nausea</span><span class=\"\"> (64%), </span><span class=\"candidate gold-annotation c-5439-15-2\">fatigue</span><span class=\"\"> (55%) and </span><span class=\"candidate gold-annotation c-5439-15-3\">headache</span><span class=\"\"> (49%).</span></li><li class=\"list-group-item\"><div class=\"candidate-data\" id=\"cdata-5439-15-4\" caption=\"CID: 2528969-10:1351-1366\"></div><span class=\"\">A red blood cell count decrease, a </span><span class=\"candidate c-5439-15-4\">mean cell volume</span><span class=\"\"> increase and a granulocyte count decrease developed early in a dose-independent fashion, reverting at least partially during the washout phase.</span></li><li class=\"list-group-item\"><div class=\"candidate-data\" id=\"cdata-5439-15-5\" caption=\"CID: 2528969-11:1528-1545\"></div><span class=\"\">The decrease in </span><span class=\"candidate c-5439-15-5\">reticulocyte count</span><span class=\"\"> was dose related between 600 and 900 mg/day with no further change when the dose was escalated to 1200 mg/day.</span></li></ul>\n",
       "            </div>\n",
       "            <div class=\"viewer-page viewer-page-5439\" id=\"viewer-page-5439-16\" data-nc=\"5\">\n",
       "                <ul class=\"list-group\"><li class=\"list-group-item\"><span class=\"\">Bone marrow changes occurred rapidly as demonstrated by </span><span class=\"gold-annotation\">megaloblastosis</span><span class=\"\"> in 95% of 65 specimens at week 18.</span></li><li class=\"list-group-item\"><div class=\"candidate-data\" id=\"cdata-5439-16-0\" caption=\"CID: 14982270-0:20-39\"></div><div class=\"candidate-data\" id=\"cdata-5439-16-1\" caption=\"CID: 14982270-0:32-39\"></div><span class=\"\">Methimazole-induced </span><span class=\"candidate gold-annotation c-5439-16-0\">cholestatic </span><span class=\"candidate gold-annotation c-5439-16-0 c-5439-16-1\">jaundice</span><span class=\"\">.</span></li><li class=\"list-group-item\"><div class=\"candidate-data\" id=\"cdata-5439-16-2\" caption=\"CID: 14982270-2:150-157\"></div><div class=\"candidate-data\" id=\"cdata-5439-16-3\" caption=\"CID: 14982270-2:163-169\"></div><div class=\"candidate-data\" id=\"cdata-5439-16-4\" caption=\"CID: 14982270-2:264-278\"></div><span class=\"\">A 43-year-old woman had severe </span><span class=\"candidate gold-annotation c-5439-16-2\">jaundice</span><span class=\"\"> and </span><span class=\"candidate gold-annotation c-5439-16-3\">itching</span><span class=\"\"> 1 month after receiving methimazole (10 mg tid) and propranolol (20 mg tid) for treatment of </span><span class=\"candidate gold-annotation c-5439-16-4\">hyperthyroidism</span><span class=\"\">.</span></li></ul>\n",
       "            </div>\n",
       "            <div class=\"viewer-page viewer-page-5439\" id=\"viewer-page-5439-17\" data-nc=\"7\">\n",
       "                <ul class=\"list-group\"><li class=\"list-group-item\"><div class=\"candidate-data\" id=\"cdata-5439-17-0\" caption=\"CID: 14982270-3:356-363\"></div><span class=\"\">The patient continued treatment for another 4 days after the appearance of </span><span class=\"candidate gold-annotation c-5439-17-0\">jaundice</span><span class=\"\"> until she finished both medications.</span></li><li class=\"list-group-item\"><div class=\"candidate-data\" id=\"cdata-5439-17-1\" caption=\"CID: 14982270-4:419-427\"></div><div class=\"candidate-data\" id=\"cdata-5439-17-2\" caption=\"CID: 14982270-4:476-482\"></div><div class=\"candidate-data\" id=\"cdata-5439-17-3\" caption=\"CID: 14982270-4:485-492\"></div><div class=\"candidate-data\" id=\"cdata-5439-17-4\" caption=\"CID: 14982270-4:499-516\"></div><span class=\"\">When seen at the </span><span class=\"candidate c-5439-17-1\">emergency</span><span class=\"\"> department 2 weeks later, she still had severe </span><span class=\"candidate gold-annotation c-5439-17-2\">icterus</span><span class=\"\">, </span><span class=\"candidate gold-annotation c-5439-17-3\">pruritus</span><span class=\"\">, and </span><span class=\"candidate gold-annotation c-5439-17-4\">hyperbilirubinemia</span><span class=\"\">, formed mainly of the conjugated fraction.</span></li><li class=\"list-group-item\"><div class=\"candidate-data\" id=\"cdata-5439-17-5\" caption=\"CID: 14982270-5:581-591\"></div><div class=\"candidate-data\" id=\"cdata-5439-17-6\" caption=\"CID: 14982270-5:597-605\"></div><span class=\"\">Methimazole-induced </span><span class=\"candidate gold-annotation c-5439-17-5\">cholestasis</span><span class=\"\"> was </span><span class=\"candidate c-5439-17-6\">diagnosed</span><span class=\"\">, and propranolol therapy was resumed.</span></li></ul>\n",
       "            </div>\n",
       "            <div class=\"viewer-page viewer-page-5439\" id=\"viewer-page-5439-18\" data-nc=\"4\">\n",
       "                <ul class=\"list-group\"><li class=\"list-group-item\"><div class=\"candidate-data\" id=\"cdata-5439-18-0\" caption=\"CID: 14982270-6:705-720\"></div><span class=\"\">Over the following 9 days, the symptoms improved and plasma </span><span class=\"candidate c-5439-18-0\">bilirubin levels</span><span class=\"\"> were normal after 12 weeks without methimazole.</span></li><li class=\"list-group-item\"><div class=\"candidate-data\" id=\"cdata-5439-18-1\" caption=\"CID: 14982270-7:865-884\"></div><div class=\"candidate-data\" id=\"cdata-5439-18-2\" caption=\"CID: 14982270-7:877-884\"></div><span class=\"\">In rare cases within the first few weeks of therapy, this drug can cause severe and reversible </span><span class=\"candidate gold-annotation c-5439-18-1\">cholestatic </span><span class=\"candidate gold-annotation c-5439-18-1 c-5439-18-2\">jaundice</span><span class=\"\">.</span></li><li class=\"list-group-item\"><div class=\"candidate-data\" id=\"cdata-5439-18-3\" caption=\"CID: 14982270-8:935-948\"></div><span class=\"\">Physicians and patients should be aware of this </span><span class=\"candidate c-5439-18-3\">adverse effect</span><span class=\"\"> so that, upon occurrence, they can discontinue methimazole therapy and avoid unnecessary invasive procedures.</span></li></ul>\n",
       "            </div>\n",
       "            <div class=\"viewer-page viewer-page-5439\" id=\"viewer-page-5439-19\" data-nc=\"8\">\n",
       "                <ul class=\"list-group\"><li class=\"list-group-item\"><div class=\"candidate-data\" id=\"cdata-5439-19-0\" caption=\"CID: 15075188-0:102-119\"></div><div class=\"candidate-data\" id=\"cdata-5439-19-1\" caption=\"CID: 15075188-0:112-119\"></div><span class=\"\">Increased expression and apical targeting of renal ENaC subunits in puromycin aminonucleoside-induced </span><span class=\"candidate gold-annotation c-5439-19-0\">nephrotic </span><span class=\"candidate gold-annotation c-5439-19-0 c-5439-19-1\">syndrome</span><span class=\"\"> in rats.</span></li><li class=\"list-group-item\"><div class=\"candidate-data\" id=\"cdata-5439-19-2\" caption=\"CID: 15075188-1:130-147\"></div><div class=\"candidate-data\" id=\"cdata-5439-19-3\" caption=\"CID: 15075188-1:140-147\"></div><div class=\"candidate-data\" id=\"cdata-5439-19-4\" caption=\"CID: 15075188-1:194-210\"></div><div class=\"candidate-data\" id=\"cdata-5439-19-5\" caption=\"CID: 15075188-1:206-210\"></div><span class=\"candidate gold-annotation c-5439-19-2\">Nephrotic </span><span class=\"candidate gold-annotation c-5439-19-2 c-5439-19-3\">syndrome</span><span class=\"\"> is often accompanied by sodium retention and </span><span class=\"candidate c-5439-19-4\">generalized </span><span class=\"candidate gold-annotation c-5439-19-4 c-5439-19-5\">edema</span><span class=\"\">.</span></li><li class=\"list-group-item\"><div class=\"candidate-data\" id=\"cdata-5439-19-6\" caption=\"CID: 15075188-3:381-391\"></div><div class=\"candidate-data\" id=\"cdata-5439-19-7\" caption=\"CID: 15075188-3:401-416\"></div><span class=\"\">We hypothesized that epithelial Na channel (ENaC) subunit dysregulation may be </span><span class=\"candidate c-5439-19-6\">responsible</span><span class=\"\"> for the </span><span class=\"candidate c-5439-19-7\">increased sodium</span><span class=\"\"> retention.</span></li></ul>\n",
       "            </div>\n",
       "            <div class=\"viewer-page viewer-page-5439\" id=\"viewer-page-5439-20\" data-nc=\"8\">\n",
       "                <ul class=\"list-group\"><li class=\"list-group-item\"><div class=\"candidate-data\" id=\"cdata-5439-20-0\" caption=\"CID: 15075188-5:620-630\"></div><div class=\"candidate-data\" id=\"cdata-5439-20-1\" caption=\"CID: 15075188-5:633-647\"></div><div class=\"candidate-data\" id=\"cdata-5439-20-2\" caption=\"CID: 15075188-5:700-706\"></div><span class=\"\">After 7 days, PAN treatment induced significant </span><span class=\"candidate gold-annotation c-5439-20-0\">proteinuria</span><span class=\"\">, </span><span class=\"candidate gold-annotation c-5439-20-1\">hypoalbuminemia</span><span class=\"\">, decreased urinary sodium excretion, and extensive </span><span class=\"candidate gold-annotation c-5439-20-2\">ascites</span><span class=\"\">.</span></li><li class=\"list-group-item\"><div class=\"candidate-data\" id=\"cdata-5439-20-3\" caption=\"CID: 15075188-11:1710-1714\"></div><div class=\"candidate-data\" id=\"cdata-5439-20-4\" caption=\"CID: 15075188-11:1800-1808\"></div><span class=\"\">Moreover, the abundance of the </span><span class=\"candidate c-5439-20-3\">alpha</span><span class=\"\">(1)-subunit of the Na-K-ATPase was decreased in the cortex and ISOM, but it remained </span><span class=\"candidate c-5439-20-4\">unchanged</span><span class=\"\"> in the IM.</span></li><li class=\"list-group-item\"><div class=\"candidate-data\" id=\"cdata-5439-20-5\" caption=\"CID: 15075188-12:1998-2001\"></div><div class=\"candidate-data\" id=\"cdata-5439-20-6\" caption=\"CID: 15075188-12:2062-2079\"></div><div class=\"candidate-data\" id=\"cdata-5439-20-7\" caption=\"CID: 15075188-12:2072-2079\"></div><span class=\"\">In conclusion, the increased or sustained expression of ENaC subunits combined with increased apical targeting in the DCT2, connecting tubule, and collecting duct are likely to </span><span class=\"candidate c-5439-20-5\">play</span><span class=\"\"> a role in the sodium retention associated with PAN-induced </span><span class=\"candidate gold-annotation c-5439-20-6\">nephrotic </span><span class=\"candidate gold-annotation c-5439-20-6 c-5439-20-7\">syndrome</span><span class=\"\">.</span></li></ul>\n",
       "            </div>\n",
       "            <div class=\"viewer-page viewer-page-5439\" id=\"viewer-page-5439-21\" data-nc=\"9\">\n",
       "                <ul class=\"list-group\"><li class=\"list-group-item\"><div class=\"candidate-data\" id=\"cdata-5439-21-0\" caption=\"CID: 15075188-13:2147-2150\"></div><span class=\"\">The decreased abundance of NHE3, BSC-1, TSC, and Na-K-ATPase may </span><span class=\"candidate c-5439-21-0\">play</span><span class=\"\"> a compensatory role to promote sodium excretion.</span></li><li class=\"list-group-item\"><div class=\"candidate-data\" id=\"cdata-5439-21-1\" caption=\"CID: 6127992-1:117-139\"></div><div class=\"candidate-data\" id=\"cdata-5439-21-2\" caption=\"CID: 6127992-1:127-139\"></div><div class=\"candidate-data\" id=\"cdata-5439-21-3\" caption=\"CID: 6127992-1:133-139\"></div><div class=\"candidate-data\" id=\"cdata-5439-21-4\" caption=\"CID: 6127992-1:160-174\"></div><div class=\"candidate-data\" id=\"cdata-5439-21-5\" caption=\"CID: 6127992-1:177-187\"></div><div class=\"candidate-data\" id=\"cdata-5439-21-6\" caption=\"CID: 6127992-1:193-203\"></div><span class=\"\">Three patients with </span><span class=\"candidate gold-annotation c-5439-21-1\">ischaemic </span><span class=\"candidate gold-annotation c-5439-21-1 c-5439-21-2\">heart </span><span class=\"candidate gold-annotation c-5439-21-1 c-5439-21-2 c-5439-21-3\">disease</span><span class=\"\"> developed profound </span><span class=\"candidate gold-annotation c-5439-21-4\">cardiac failure</span><span class=\"\">, </span><span class=\"candidate gold-annotation c-5439-21-5\">hypotension</span><span class=\"\"> and </span><span class=\"candidate gold-annotation c-5439-21-6\">bradycardia</span><span class=\"\"> during combined therapy with verapamil and beta-adrenergic blocking drugs.</span></li><li class=\"list-group-item\"><div class=\"candidate-data\" id=\"cdata-5439-21-7\" caption=\"CID: 7619765-0:18-38\"></div><div class=\"candidate-data\" id=\"cdata-5439-21-8\" caption=\"CID: 7619765-0:29-38\"></div><span class=\"\">Etoposide-related </span><span class=\"candidate gold-annotation c-5439-21-7\">myocardial </span><span class=\"candidate gold-annotation c-5439-21-7 c-5439-21-8\">infarction</span><span class=\"\">.</span></li></ul>\n",
       "            </div>\n",
       "            <div class=\"viewer-page viewer-page-5439\" id=\"viewer-page-5439-22\" data-nc=\"9\">\n",
       "                <ul class=\"list-group\"><li class=\"list-group-item\"><div class=\"candidate-data\" id=\"cdata-5439-22-0\" caption=\"CID: 7619765-1:61-81\"></div><div class=\"candidate-data\" id=\"cdata-5439-22-1\" caption=\"CID: 7619765-1:72-81\"></div><div class=\"candidate-data\" id=\"cdata-5439-22-2\" caption=\"CID: 7619765-1:170-191\"></div><div class=\"candidate-data\" id=\"cdata-5439-22-3\" caption=\"CID: 7619765-1:179-191\"></div><div class=\"candidate-data\" id=\"cdata-5439-22-4\" caption=\"CID: 7619765-1:185-191\"></div><span class=\"\">The occurrence of a </span><span class=\"candidate gold-annotation c-5439-22-0\">myocardial </span><span class=\"candidate gold-annotation c-5439-22-0 c-5439-22-1\">infarction</span><span class=\"\"> is reported after chemotherapy containing etoposide, in a man with no risk factors for </span><span class=\"candidate gold-annotation c-5439-22-2\">coronary </span><span class=\"candidate gold-annotation c-5439-22-2 c-5439-22-3\">heart </span><span class=\"candidate gold-annotation c-5439-22-2 c-5439-22-3 c-5439-22-4\">disease</span><span class=\"\">.</span></li><li class=\"list-group-item\"><div class=\"candidate-data\" id=\"cdata-5439-22-5\" caption=\"CID: 19289093-1:196-209\"></div><div class=\"candidate-data\" id=\"cdata-5439-22-6\" caption=\"CID: 19289093-1:207-209\"></div><span class=\"\">Heparin is a commonly implemented anticoagulant used to treat </span><span class=\"candidate c-5439-22-5\">critically </span><span class=\"candidate c-5439-22-5 c-5439-22-6\">ill</span><span class=\"\"> patients.</span></li><li class=\"list-group-item\"><div class=\"candidate-data\" id=\"cdata-5439-22-7\" caption=\"CID: 19289093-2:388-398\"></div><div class=\"candidate-data\" id=\"cdata-5439-22-8\" caption=\"CID: 19289093-2:400-407\"></div><span class=\"\">Recently, a number of commercial lots of heparin products were found to be contaminated with an oversulfated chondroitin sulfate (OSCS) derivative that could elicit a </span><span class=\"candidate gold-annotation c-5439-22-7\">hypotensive</span><span class=\"\"> </span><span class=\"candidate c-5439-22-8\">response</span><span class=\"\"> in pigs following a single high-dose infusion.</span></li></ul>\n",
       "            </div>\n",
       "            <div class=\"viewer-page viewer-page-5439\" id=\"viewer-page-5439-23\" data-nc=\"3\">\n",
       "                <ul class=\"list-group\"><li class=\"list-group-item\"><div class=\"candidate-data\" id=\"cdata-5439-23-0\" caption=\"CID: 19289093-3:588-598\"></div><span class=\"\">Using both contaminated heparin products and the synthetically produced derivative, we showed that the OSCS produces dose-dependent </span><span class=\"candidate gold-annotation c-5439-23-0\">hypotension</span><span class=\"\"> in pigs.</span></li><li class=\"list-group-item\"><div class=\"candidate-data\" id=\"cdata-5439-23-1\" caption=\"CID: 8480959-0:68-87\"></div><span class=\"\">Efficacy and tolerability of lovastatin in 3390 women with moderate </span><span class=\"candidate gold-annotation c-5439-23-1\">hypercholesterolemia</span><span class=\"\">.</span></li><li class=\"list-group-item\"><div class=\"candidate-data\" id=\"cdata-5439-23-2\" caption=\"CID: 8480959-1:174-193\"></div><span class=\"\">OBJECTIVE: To evaluate the efficacy and safety of lovastatin in women with moderate </span><span class=\"candidate gold-annotation c-5439-23-2\">hypercholesterolemia</span><span class=\"\">.</span></li></ul>\n",
       "            </div>\n",
       "            <div class=\"viewer-page viewer-page-5439\" id=\"viewer-page-5439-24\" data-nc=\"4\">\n",
       "                <ul class=\"list-group\"><li class=\"list-group-item\"><div class=\"candidate-data\" id=\"cdata-5439-24-0\" caption=\"CID: 8480959-5:819-832\"></div><span class=\"\">MEASUREMENTS: Plasma total, low-density lipoprotein (LDL), and high-density lipoprotein (HDL) cholesterol, and triglycerides; and laboratory and clinical evidence of </span><span class=\"candidate c-5439-24-0\">adverse events</span><span class=\"\"> monitored periodically throughout the study.</span></li><li class=\"list-group-item\"><div class=\"candidate-data\" id=\"cdata-5439-24-1\" caption=\"CID: 8480959-7:1222-1230\"></div><div class=\"candidate-data\" id=\"cdata-5439-24-2\" caption=\"CID: 8480959-7:1252-1269\"></div><span class=\"\">Depending on the dose, from 82% to 95% of lovastatin-treated women achieved the National Cholesterol </span><span class=\"candidate c-5439-24-1\">Education</span><span class=\"\"> Program goal of LDL </span><span class=\"candidate c-5439-24-2\">cholesterol levels</span><span class=\"\"> less than 4.14 mmol/L (160 mg/dL), and 40% to 87% achieved the goal of 3.36 mmol/L (130 mg/dL).</span></li><li class=\"list-group-item\"><div class=\"candidate-data\" id=\"cdata-5439-24-3\" caption=\"CID: 8480959-9:1525-1532\"></div><span class=\"candidate gold-annotation c-5439-24-3\">Myopathy</span><span class=\"\">, defined as muscle symptoms with creatine kinase elevations greater than 10 times the upper limit of normal, was rare and associated with the highest recommended daily dose of lovastatin (80 mg).</span></li></ul>\n",
       "            </div>\n",
       "            <div class=\"viewer-page viewer-page-5439\" id=\"viewer-page-5439-25\" data-nc=\"4\">\n",
       "                <ul class=\"list-group\"><li class=\"list-group-item\"><div class=\"candidate-data\" id=\"cdata-5439-25-0\" caption=\"CID: 8480959-11:1929-1956\"></div><div class=\"candidate-data\" id=\"cdata-5439-25-1\" caption=\"CID: 8480959-11:1937-1956\"></div><span class=\"\">CONCLUSION: Lovastatin is highly effective and generally well tolerated as therapy for </span><span class=\"candidate c-5439-25-0\">primary </span><span class=\"candidate gold-annotation c-5439-25-0 c-5439-25-1\">hypercholesterolemia</span><span class=\"\"> in women.</span></li><li class=\"list-group-item\"><div class=\"candidate-data\" id=\"cdata-5439-25-2\" caption=\"CID: 8251368-0:43-56\"></div><span class=\"\">Photodistributed nifedipine-induced facial </span><span class=\"candidate gold-annotation c-5439-25-2\">telangiectasia</span><span class=\"\">.</span></li><li class=\"list-group-item\"><div class=\"candidate-data\" id=\"cdata-5439-25-3\" caption=\"CID: 8251368-1:154-167\"></div><span class=\"\">Five months after starting nifedipine (Adalat), two patients developed photodistributed facial </span><span class=\"candidate gold-annotation c-5439-25-3\">telangiectasia</span><span class=\"\">, which became more noticeable with time.</span></li></ul>\n",
       "            </div>\n",
       "            <div class=\"viewer-page viewer-page-5439\" id=\"viewer-page-5439-26\" data-nc=\"5\">\n",
       "                <ul class=\"list-group\"><li class=\"list-group-item\"><div class=\"candidate-data\" id=\"cdata-5439-26-0\" caption=\"CID: 8251368-2:240-255\"></div><div class=\"candidate-data\" id=\"cdata-5439-26-1\" caption=\"CID: 8251368-2:260-267\"></div><span class=\"\">Neither patient complained of </span><span class=\"candidate c-5439-26-0\">photosensitivity</span><span class=\"\"> or </span><span class=\"candidate gold-annotation c-5439-26-1\">flushing</span><span class=\"\">.</span></li><li class=\"list-group-item\"><div class=\"candidate-data\" id=\"cdata-5439-26-2\" caption=\"CID: 8251368-4:428-437\"></div><div class=\"candidate-data\" id=\"cdata-5439-26-3\" caption=\"CID: 8251368-4:442-455\"></div><span class=\"\">One commenced the closely related drug amlodipine 3 years later, with </span><span class=\"candidate c-5439-26-2\">recurrence</span><span class=\"\"> of </span><span class=\"candidate gold-annotation c-5439-26-3\">telangiectasia</span><span class=\"\">.</span></li><li class=\"list-group-item\"><div class=\"candidate-data\" id=\"cdata-5439-26-4\" caption=\"CID: 8251368-5:487-500\"></div><span class=\"\">The photodistribution of the </span><span class=\"candidate gold-annotation c-5439-26-4\">telangiectasia</span><span class=\"\"> suggests a significant drug/light interaction.</span></li></ul>\n",
       "            </div>\n",
       "            <div class=\"viewer-page viewer-page-5439\" id=\"viewer-page-5439-27\" data-nc=\"8\">\n",
       "                <ul class=\"list-group\"><li class=\"list-group-item\"><div class=\"candidate-data\" id=\"cdata-5439-27-0\" caption=\"CID: 7650771-0:12-19\"></div><span class=\"\">Cholinergic </span><span class=\"candidate gold-annotation c-5439-27-0\">toxicity</span><span class=\"\"> resulting from ocular instillation of echothiophate iodide eye drops.</span></li><li class=\"list-group-item\"><div class=\"candidate-data\" id=\"cdata-5439-27-1\" caption=\"CID: 7650771-1:132-139\"></div><div class=\"candidate-data\" id=\"cdata-5439-27-2\" caption=\"CID: 7650771-1:220-234\"></div><div class=\"candidate-data\" id=\"cdata-5439-27-3\" caption=\"CID: 7650771-1:227-234\"></div><div class=\"candidate-data\" id=\"cdata-5439-27-4\" caption=\"CID: 7650771-1:264-272\"></div><div class=\"candidate-data\" id=\"cdata-5439-27-5\" caption=\"CID: 7650771-1:277-293\"></div><div class=\"candidate-data\" id=\"cdata-5439-27-6\" caption=\"CID: 7650771-1:277-286\"></div><span class=\"\">A patient developed a severe cholinergic </span><span class=\"candidate c-5439-27-1\">syndrome</span><span class=\"\"> from the use of echothiophate iodide ophthalmic drops, presented with profound </span><span class=\"candidate gold-annotation c-5439-27-2\">muscle </span><span class=\"candidate gold-annotation c-5439-27-2 c-5439-27-3\">weakness</span><span class=\"\"> and was initially given the </span><span class=\"candidate c-5439-27-4\">diagnosis</span><span class=\"\"> of </span><span class=\"candidate gold-annotation c-5439-27-5 c-5439-27-6\">myasthenia</span><span class=\"candidate gold-annotation c-5439-27-5\"> gravis</span><span class=\"\">.</span></li><li class=\"list-group-item\"><div class=\"candidate-data\" id=\"cdata-5439-27-7\" caption=\"CID: 7650771-2:357-365\"></div><span class=\"\">Red blood cell and serum cholinesterase levels were severely </span><span class=\"candidate c-5439-27-7\">depressed</span><span class=\"\"> and symptoms resolved spontaneously following discontinuation of the eye drops.</span></li></ul>\n",
       "            </div>\n",
       "            <div class=\"viewer-page viewer-page-5439\" id=\"viewer-page-5439-28\" data-nc=\"5\">\n",
       "                <ul class=\"list-group\"><li class=\"list-group-item\"><div class=\"candidate-data\" id=\"cdata-5439-28-0\" caption=\"CID: 3115150-0:52-66\"></div><div class=\"candidate-data\" id=\"cdata-5439-28-1\" caption=\"CID: 3115150-0:59-66\"></div><span class=\"\">Ketanserin pretreatment reverses alfentanil-induced </span><span class=\"candidate gold-annotation c-5439-28-0\">muscle </span><span class=\"candidate gold-annotation c-5439-28-0 c-5439-28-1\">rigidity</span><span class=\"\">.</span></li><li class=\"list-group-item\"><div class=\"candidate-data\" id=\"cdata-5439-28-2\" caption=\"CID: 3115150-1:197-211\"></div><div class=\"candidate-data\" id=\"cdata-5439-28-3\" caption=\"CID: 3115150-1:204-211\"></div><span class=\"\">Systemic pretreatment with ketanserin, a relatively specific type-2 serotonin receptor antagonist, significantly attenuated the </span><span class=\"candidate gold-annotation c-5439-28-2\">muscle </span><span class=\"candidate gold-annotation c-5439-28-2 c-5439-28-3\">rigidity</span><span class=\"\"> produced in rats by the potent short-acting opiate agonist alfentanil.</span></li><li class=\"list-group-item\"><div class=\"candidate-data\" id=\"cdata-5439-28-4\" caption=\"CID: 3115150-2:375-382\"></div><span class=\"\">Following placement of subcutaneous electrodes in each animal's left gastrocnemius muscle, </span><span class=\"candidate gold-annotation c-5439-28-4\">rigidity</span><span class=\"\"> was assessed by analyzing root-mean-square electromyographic activity.</span></li></ul>\n",
       "            </div>\n",
       "            <div class=\"viewer-page viewer-page-5439\" id=\"viewer-page-5439-29\" data-nc=\"4\">\n",
       "                <ul class=\"list-group\"><li class=\"list-group-item\"><div class=\"candidate-data\" id=\"cdata-5439-29-0\" caption=\"CID: 3115150-4:725-732\"></div><span class=\"\">Chlordiazepoxide at doses up to 10 mg/kg failed to significantly influence the </span><span class=\"candidate gold-annotation c-5439-29-0\">rigidity</span><span class=\"\"> produced by alfentanil.</span></li><li class=\"list-group-item\"><div class=\"candidate-data\" id=\"cdata-5439-29-1\" caption=\"CID: 3115150-5:781-788\"></div><span class=\"\">Despite the absence of </span><span class=\"candidate gold-annotation c-5439-29-1\">rigidity</span><span class=\"\">, animals that received ketanserin (greater than 0.31 mg/kg i.p.) followed by alfentanil were motionless, flaccid, and less responsive to external stimuli than were animals receiving alfentanil alone.</span></li><li class=\"list-group-item\"><div class=\"candidate-data\" id=\"cdata-5439-29-2\" caption=\"CID: 3115150-7:1237-1251\"></div><div class=\"candidate-data\" id=\"cdata-5439-29-3\" caption=\"CID: 3115150-7:1244-1251\"></div><span class=\"\">These results, in combination with previous work, suggest that </span><span class=\"candidate gold-annotation c-5439-29-2\">muscle </span><span class=\"candidate gold-annotation c-5439-29-2 c-5439-29-3\">rigidity</span><span class=\"\">, a clinically relevant side-effect of parenteral narcotic administration, may be partly mediated via serotonergic pathways.</span></li></ul>\n",
       "            </div>\n",
       "            <div class=\"viewer-page viewer-page-5439\" id=\"viewer-page-5439-30\" data-nc=\"5\">\n",
       "                <ul class=\"list-group\"><li class=\"list-group-item\"><div class=\"candidate-data\" id=\"cdata-5439-30-0\" caption=\"CID: 3115150-8:1479-1486\"></div><div class=\"candidate-data\" id=\"cdata-5439-30-1\" caption=\"CID: 3115150-8:1604-1625\"></div><div class=\"candidate-data\" id=\"cdata-5439-30-2\" caption=\"CID: 3115150-8:1616-1625\"></div><span class=\"\">Pretreatment with type-2 serotonin antagonists may be clinically useful in attenuating opiate-induced </span><span class=\"candidate gold-annotation c-5439-30-0\">rigidity</span><span class=\"\">, although further studies will be necessary to assess the interaction of possibly enhanced CNS, </span><span class=\"gold-annotation\">cardiovascular, and </span><span class=\"candidate gold-annotation c-5439-30-1\">respiratory </span><span class=\"candidate gold-annotation c-5439-30-1 c-5439-30-2\">depression</span><span class=\"\">.</span></li><li class=\"list-group-item\"><div class=\"candidate-data\" id=\"cdata-5439-30-3\" caption=\"CID: 871943-0:51-56\"></div><span class=\"\">The use of serum cholinesterase in succinylcholine </span><span class=\"candidate gold-annotation c-5439-30-3\">apnoea</span><span class=\"\">.</span></li><li class=\"list-group-item\"><div class=\"candidate-data\" id=\"cdata-5439-30-4\" caption=\"CID: 871943-1:111-116\"></div><span class=\"\">Fifteen patients demonstrating unexpected prolonged </span><span class=\"candidate gold-annotation c-5439-30-4\">apnoea</span><span class=\"\"> lasting several hours after succinylcholine have been treated by a new preparation of human serum cholinesterase.</span></li></ul>\n",
       "            </div>\n",
       "            <div class=\"viewer-page viewer-page-5439\" id=\"viewer-page-5439-31\" data-nc=\"8\">\n",
       "                <ul class=\"list-group\"><li class=\"list-group-item\"><div class=\"candidate-data\" id=\"cdata-5439-31-0\" caption=\"CID: 871943-5:542-548\"></div><span class=\"\">It is therefore supposed that other </span><span class=\"candidate c-5439-31-0\">unknown</span><span class=\"\"> variants of serum cholinesterase exist which cannot hydrolyze succinylcholine.</span></li><li class=\"list-group-item\"><div class=\"candidate-data\" id=\"cdata-5439-31-1\" caption=\"CID: 871943-6:680-685\"></div><div class=\"candidate-data\" id=\"cdata-5439-31-2\" caption=\"CID: 871943-6:709-714\"></div><span class=\"\">The use of serum cholinesterase in succinylcholine </span><span class=\"candidate gold-annotation c-5439-31-1\">apnoea</span><span class=\"\"> provided considerable </span><span class=\"candidate c-5439-31-2\">relief</span><span class=\"\"> to both patient and anaesthetist.</span></li><li class=\"list-group-item\"><div class=\"candidate-data\" id=\"cdata-5439-31-3\" caption=\"CID: 10225068-0:0-20\"></div><div class=\"candidate-data\" id=\"cdata-5439-31-4\" caption=\"CID: 10225068-0:13-20\"></div><div class=\"candidate-data\" id=\"cdata-5439-31-5\" caption=\"CID: 10225068-0:35-45\"></div><div class=\"candidate-data\" id=\"cdata-5439-31-6\" caption=\"CID: 10225068-0:103-123\"></div><div class=\"candidate-data\" id=\"cdata-5439-31-7\" caption=\"CID: 10225068-0:116-123\"></div><span class=\"candidate gold-annotation c-5439-31-3\">Cauda equina </span><span class=\"candidate gold-annotation c-5439-31-3 c-5439-31-4\">syndrome</span><span class=\"\"> after spinal </span><span class=\"candidate c-5439-31-5\">anaesthesia</span><span class=\"\"> with hyperbaric 5% lignocaine: a review of six cases of </span><span class=\"candidate gold-annotation c-5439-31-6\">cauda equina </span><span class=\"candidate gold-annotation c-5439-31-6 c-5439-31-7\">syndrome</span><span class=\"\"> reported to the Swedish Pharmaceutical Insurance 1993-1997.</span></li></ul>\n",
       "            </div>\n",
       "            <div class=\"viewer-page viewer-page-5439\" id=\"viewer-page-5439-32\" data-nc=\"5\">\n",
       "                <ul class=\"list-group\"><li class=\"list-group-item\"><div class=\"candidate-data\" id=\"cdata-5439-32-0\" caption=\"CID: 10225068-1:198-218\"></div><div class=\"candidate-data\" id=\"cdata-5439-32-1\" caption=\"CID: 10225068-1:211-218\"></div><span class=\"\">Six cases of </span><span class=\"candidate gold-annotation c-5439-32-0\">cauda equina </span><span class=\"candidate gold-annotation c-5439-32-0 c-5439-32-1\">syndrome</span><span class=\"\"> with varying severity were reported to the Swedish Pharmaceutical Insurance during the period 1993-1997.</span></li><li class=\"list-group-item\"><div class=\"candidate-data\" id=\"cdata-5439-32-2\" caption=\"CID: 10225068-2:357-367\"></div><span class=\"\">All were associated with spinal </span><span class=\"candidate c-5439-32-2\">anaesthesia</span><span class=\"\"> using hyperbaric 5% lignocaine.</span></li><li class=\"list-group-item\"><div class=\"candidate-data\" id=\"cdata-5439-32-3\" caption=\"CID: 10225068-3:435-445\"></div><div class=\"candidate-data\" id=\"cdata-5439-32-4\" caption=\"CID: 10225068-3:505-509\"></div><span class=\"\">Five cases had single-shot spinal </span><span class=\"candidate c-5439-32-3\">anaesthesia</span><span class=\"\"> and one had a repeat spinal anaesthetic due to inadequate </span><span class=\"candidate c-5439-32-4\">block</span><span class=\"\">.</span></li></ul>\n",
       "            </div>\n",
       "            <div class=\"viewer-page viewer-page-5439\" id=\"viewer-page-5439-33\" data-nc=\"1\">\n",
       "                <ul class=\"list-group\"><li class=\"list-group-item\"><div class=\"candidate-data\" id=\"cdata-5439-33-0\" caption=\"CID: 10225068-5:641-653\"></div><span class=\"\">Three of the cases were most likely caused by direct </span><span class=\"candidate gold-annotation c-5439-33-0\">neurotoxicity</span><span class=\"\"> of hyperbaric 5% lignocaine.</span></li></ul>\n",
       "            </div></div>\n",
       "    <div class=\"panel-footer\">\n",
       "        <div class=\"btn-group\" role=\"group\" aria-label=\"...\">\n",
       "            <button id=\"prev-page-5439\" type=\"button\" class=\"btn btn-default\">\n",
       "                <span class=\"glyphicon glyphicon-left-arrow\" aria-hidden=\"true\"></span> Prev. Page (i)\n",
       "            </button>\n",
       "            <button id=\"prev-cand-5439\" type=\"button\" class=\"btn btn-default\">\n",
       "                <span class=\"glyphicon glyphicon-down-arrow\" aria-hidden=\"true\"></span> Prev. Cand. (j)\n",
       "            </button>\n",
       "            <button id=\"next-cand-5439\" type=\"button\" class=\"btn btn-default\">\n",
       "                <span class=\"glyphicon glyphicon-up-arrow\" aria-hidden=\"true\"></span> Next Cand. (l)\n",
       "            </button>\n",
       "            <button id=\"next-page-5439\" type=\"button\" class=\"btn btn-default\">\n",
       "                <span class=\"glyphicon glyphicon-right-arrow\" aria-hidden=\"true\"></span> Next Page (k)\n",
       "            </button>\n",
       "        </div>\n",
       "        <span><i>  Viewer must be focused for keyboard control</i></span>\n",
       "        <div class=\"page-num panel-left-justify\">Page <span id=\"page-5439\">0</span></div>\n",
       "    </div>\n",
       "</div>\n"
      ]
     },
     "metadata": {
      "text/html": {
       "isolated": false
      }
     },
     "output_type": "display_data"
    },
    {
     "data": {
      "application/javascript": [
       "$.getScript(\"http://d3js.org/d3.v3.min.js\", function () {\n",
       "$.getScript(\"https://ajax.googleapis.com/ajax/libs/jquery/1.11.3/jquery.min.js\", function () {\n",
       "var vid    = 5439;\n",
       "var nPages = 34;\n",
       "var cid    = 0;\n",
       "var pid    = 0;\n",
       "\n",
       "// Get the selector for a given candidate by number (w.r.t. to entire page group)\n",
       "function candidateSelector(cid) {\n",
       "    return $(\"span.c-\" + vid + \"-\" + pid + \"-\" + cid);\n",
       "}\n",
       "\n",
       "// Cycle through candidates and highlight, by increment inc\n",
       "function switchCandidate(inc) {\n",
       "    var nC = parseInt($(\"#viewer-page-\"+vid+\"-\"+pid).attr(\"data-nc\"));\n",
       "\n",
       "    // Clear highlighting and highlight new candidate\n",
       "    $(\"span.candidate\").removeClass(\"highlighted-candidate\");\n",
       "    if (cid + inc < 0) {\n",
       "        cid = nC + (cid + inc);\n",
       "    } else if (cid + inc > nC - 1) {\n",
       "        cid = (cid + inc) - nC;\n",
       "    } else {\n",
       "        cid += inc;\n",
       "    }\n",
       "    candidateSelector(cid).addClass(\"highlighted-candidate\");\n",
       "\n",
       "    // Fill in caption\n",
       "    $(\"#candidate-caption-\"+vid).html($(\"#cdata-\"+vid+\"-\"+pid+\"-\"+cid).attr(\"caption\"));\n",
       "};\n",
       "\n",
       "$(\"#next-cand-\" + vid).click(function() {\n",
       "    switchCandidate(1);\n",
       "});\n",
       "\n",
       "$(\"#prev-cand-\" + vid).click(function() {\n",
       "    switchCandidate(-1);\n",
       "});\n",
       "\n",
       "// Switch through pages\n",
       "function switchPage(inc) {\n",
       "    $(\".viewer-page-\"+vid).hide();\n",
       "    if (pid + inc < 0) {\n",
       "        pid = 0;\n",
       "    } else if (pid + inc > nPages - 1) {\n",
       "        pid = nPages - 1;\n",
       "    } else {\n",
       "        pid += inc;\n",
       "    }\n",
       "    $(\"#viewer-page-\"+vid+\"-\"+pid).show();\n",
       "\n",
       "    // Show pagination\n",
       "    $(\"#page-\"+vid).html(pid);\n",
       "\n",
       "    // Reset cid and set to first candidate\n",
       "    cid = 0;\n",
       "    switchCandidate(0);\n",
       "}\n",
       "\n",
       "$(\"#next-page-\" + vid).click(function() {\n",
       "    switchPage(1);\n",
       "});\n",
       "\n",
       "$(\"#prev-page-\" + vid).click(function() {\n",
       "    switchPage(-1);\n",
       "});\n",
       "\n",
       "// Arrow key functionality\n",
       "$(document).keydown(function(e) {\n",
       "\n",
       "    // Check that the Jupyter notebook cell the viewer is in is selected\n",
       "    if ($(\"#viewer-\"+vid).parents(\".cell\").hasClass(\"selected\")) {\n",
       "        switch(e.which) {\n",
       "            case 74: // j\n",
       "            switchCandidate(-1);\n",
       "            break;\n",
       "\n",
       "            case 73: // i\n",
       "            switchPage(-1);\n",
       "            break;\n",
       "\n",
       "            case 76: // l\n",
       "            switchCandidate(1);\n",
       "            break;\n",
       "\n",
       "            case 75: // k\n",
       "            switchPage(1);\n",
       "            break;\n",
       "        }\n",
       "    }\n",
       "});\n",
       "\n",
       "// Show the first page and highlight the first candidate\n",
       "$(\"#viewer-page-\"+vid+\"-0\").show();\n",
       "switchCandidate(0);\n",
       "});\n",
       "});\n"
      ]
     },
     "metadata": {},
     "output_type": "display_data"
    }
   ],
   "source": [
    "from ddlite_viewer import SentenceNgramViewer\n",
    "sentences = list(corpus.iter_sentences())\n",
    "sv        = SentenceNgramViewer(sentences, candidates, lambda c : c.sent_id, gold=list(gold), n_max=100)\n",
    "sv.render(n_per_page=3, height=225)"
   ]
  },
  {
   "cell_type": "markdown",
   "metadata": {},
   "source": [
    "## Testing `CandidateSpace` and `Matcher`"
   ]
  },
  {
   "cell_type": "code",
   "execution_count": null,
   "metadata": {
    "collapsed": false
   },
   "outputs": [],
   "source": [
    "from ddlite_candidates import Ngrams\n",
    "from ddlite_matchers import DictionaryMatch, Union, Concat"
   ]
  },
  {
   "cell_type": "code",
   "execution_count": null,
   "metadata": {
    "collapsed": false
   },
   "outputs": [],
   "source": [
    "cs = Ngrams(n_max=3)"
   ]
  },
  {
   "cell_type": "code",
   "execution_count": null,
   "metadata": {
    "collapsed": false
   },
   "outputs": [],
   "source": [
    "matcher = DictionaryMatch(d=diseases, longest_match_only=True)\n",
    "matches = []\n",
    "for match in matcher.apply(cs.apply(sents[0])):\n",
    "    matches.append(match)\n",
    "    print match"
   ]
  },
  {
   "cell_type": "code",
   "execution_count": null,
   "metadata": {
    "collapsed": false
   },
   "outputs": [],
   "source": [
    "matches[1][:5]"
   ]
  },
  {
   "cell_type": "code",
   "execution_count": null,
   "metadata": {
    "collapsed": false
   },
   "outputs": [],
   "source": [
    "matcher = DictionaryMatch(d=diseases, longest_match_only=False)\n",
    "for match in matcher.apply(cs.apply(sents[0])):\n",
    "    print match"
   ]
  },
  {
   "cell_type": "code",
   "execution_count": null,
   "metadata": {
    "collapsed": false
   },
   "outputs": [],
   "source": [
    "dA = ['tricuspid valve', 'lithium']\n",
    "dB = ['regurgitation','carbonate']\n",
    "matcher = Concat(DictionaryMatch(d=dA), DictionaryMatch(d=dB))\n",
    "for match in matcher.apply(cs.apply(sent)):\n",
    "    print match"
   ]
  },
  {
   "cell_type": "markdown",
   "metadata": {},
   "source": [
    "### Comparing against gold candidate set\n",
    "\n",
    "#### TODO: DictionaryMatch accepts either list or dict; in latter case, assumes vals are the IDs!\n",
    "\n",
    "#### ALSO: Add estimate_size method to CandidateExtraction operators"
   ]
  }
 ],
 "metadata": {
  "kernelspec": {
   "display_name": "Python 2",
   "language": "python",
   "name": "python2"
  },
  "language_info": {
   "codemirror_mode": {
    "name": "ipython",
    "version": 2
   },
   "file_extension": ".py",
   "mimetype": "text/x-python",
   "name": "python",
   "nbconvert_exporter": "python",
   "pygments_lexer": "ipython2",
   "version": "2.7.10"
  }
 },
 "nbformat": 4,
 "nbformat_minor": 0
}
