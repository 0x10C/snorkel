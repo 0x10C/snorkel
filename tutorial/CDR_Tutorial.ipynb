{
 "cells": [
  {
   "cell_type": "markdown",
   "metadata": {},
   "source": [
    "# Tutorial, Part I: Candidate Extraction\n",
    "\n",
    "In this example, we'll be writing an application to extract **chemical-induced-disease relationships** from Pubmed abstracts, as per the [BioCreative CDR Challenge](http://www.biocreative.org/resources/corpora/biocreative-v-cdr-corpus/).  At core, we will be constructing a model to classify _candidate chemical-disease (C-D) relation mentions_ as either true or false.  To do this, we first need a set of such candidates- in this notebook, we'll use `DDLite` utilities to extract these candidates."
   ]
  },
  {
   "cell_type": "markdown",
   "metadata": {},
   "source": [
    "## Loading the Corpus\n",
    "\n",
    "First, we will load and pre-process the corpus, storing it for convenience in a `Corpus` object"
   ]
  },
  {
   "cell_type": "markdown",
   "metadata": {},
   "source": [
    "### Configuring a document parser\n",
    "\n",
    "We'll start by defining a `DocParser` class to read in Pubmed abstracts from [Pubtator]([Pubtator](http://www.ncbi.nlm.nih.gov/CBBresearch/Lu/Demo/PubTator/index.cgi)), where they are stored along with \"gold\" (i.e. hand-annotated by experts) *chemical* and *disease mention* annotations. We'll use the `XMLDocParser` class, which allows us to use [XPath queries](https://en.wikipedia.org/wiki/XPath) to specify the relevant sections of the XML format.\n",
    "\n",
    "_Note that we are newline-concatenating text from the title and abstract together for simplicity, but if we wanted to, we could easily extend the `DocParser` classes to preserve information about document structure._"
   ]
  },
  {
   "cell_type": "code",
   "execution_count": 1,
   "metadata": {
    "collapsed": false
   },
   "outputs": [],
   "source": [
    "from ddlite_parser import XMLDocParser\n",
    "xml_parser = XMLDocParser(\n",
    "    path='data/CDR_DevelopmentSet.xml',\n",
    "    doc='.//document',\n",
    "    text='.//passage/text/text()',\n",
    "    id='.//id/text()',\n",
    "    keep_xml_tree=True)"
   ]
  },
  {
   "cell_type": "markdown",
   "metadata": {},
   "source": [
    "### Selecting a sentence parser\n",
    "\n",
    "Next, we'll use an NLP preprocessing tool to split the `Document` objects into sentences, tokens, and provide annotations--part-of-speech tags, dependency parse structure, lemmatized word forms, etc.--for these sentences.  Here we use the default `SentenceParser` class."
   ]
  },
  {
   "cell_type": "code",
   "execution_count": 2,
   "metadata": {
    "collapsed": false
   },
   "outputs": [],
   "source": [
    "from ddlite_parser import SentenceParser\n",
    "sent_parser = SentenceParser()"
   ]
  },
  {
   "cell_type": "markdown",
   "metadata": {},
   "source": [
    "### Pre-processing & loading the corpus\n",
    "\n",
    "Finally, we'll put this all together using a `Corpus` object, which will execute the parsers and store the results as an iterator:"
   ]
  },
  {
   "cell_type": "code",
   "execution_count": 3,
   "metadata": {
    "collapsed": false
   },
   "outputs": [
    {
     "name": "stdout",
     "output_type": "stream",
     "text": [
      "Parsing documents...\n",
      "Parsing sentences...\n",
      "CPU times: user 4.15 s, sys: 120 ms, total: 4.27 s\n",
      "Wall time: 28.1 s\n"
     ]
    }
   ],
   "source": [
    "from ddlite_parser import Corpus\n",
    "%time corpus = Corpus(xml_parser, sent_parser)"
   ]
  },
  {
   "cell_type": "code",
   "execution_count": 4,
   "metadata": {
    "collapsed": false
   },
   "outputs": [
    {
     "name": "stdout",
     "output_type": "stream",
     "text": [
      "Document(id='1445986', file='CDR_DevelopmentSet.xml', text=\"Cefotetan-induced immune hemolytic anemia.\\nImmune hemolytic anemia due to a drug-adsorption mechanism has been described primarily in patients receiving penicillins and first-generation cephalosporins. We describe a patient who developed anemia while receiving intravenous cefotetan. Cefotetan-dependent antibodies were detected in the patient's serum and in an eluate prepared from his red blood cells. The eluate also reacted weakly with red blood cells in the absence of cefotetan, suggesting the concomitant formation of warm-reactive autoantibodies. These observations, in conjunction with clinical and laboratory evidence of extravascular hemolysis, are consistent with drug-induced hemolytic anemia, possibly involving both drug-adsorption and autoantibody formation mechanisms. This case emphasizes the need for increased awareness of hemolytic reactions to all cephalosporins.\", attribs={'root': <Element document at 0x109ad7e60>})\n"
     ]
    }
   ],
   "source": [
    "doc  = corpus.get_docs()[2]\n",
    "print doc"
   ]
  },
  {
   "cell_type": "code",
   "execution_count": 5,
   "metadata": {
    "collapsed": false
   },
   "outputs": [
    {
     "name": "stdout",
     "output_type": "stream",
     "text": [
      "Sentence(id='1445986-0', words=[u'Cefotetan-induced', u'immune', u'hemolytic', u'anemia', u'.'], lemmas=[u'cefotetan-induced', u'immune', u'hemolytic', u'anemia', u'.'], poses=[u'JJ', u'JJ', u'JJ', u'NN', u'.'], dep_parents=[4, 4, 4, 0, 4], dep_labels=[u'amod', u'amod', u'amod', u'ROOT', u'punct'], sent_id=0, doc_id='1445986', text=u'Cefotetan-induced immune hemolytic anemia.', char_offsets=[0, 18, 25, 35, 41], doc_name='CDR_DevelopmentSet.xml')\n"
     ]
    }
   ],
   "source": [
    "sent = corpus.get_sentences_in(doc.id)[0]\n",
    "print sent"
   ]
  },
  {
   "cell_type": "markdown",
   "metadata": {},
   "source": [
    "## Writing a basic candidate extractor\n",
    "\n",
    "Next, we'll write a basic function to extract **candidate disease mentions** from the corpus.  For this first attempt, we'll just write a function that checks for matches against a list (or _\"dictionary\"_) of disease phrases, constructed using some pre-compiled ontologies ([UMLS](https://www.nlm.nih.gov/research/umls/), [ORDO](http://www.orphadata.org/cgi-bin/inc/ordo_orphanet.inc.php), [DOID](http://www.obofoundry.org/ontology/doid.html), [NCBI Diseases](http://www.ncbi.nlm.nih.gov/CBBresearch/Dogan/DISEASE/); see `tutorial/data/diseases.py`).\n",
    "\n",
    "We'll do this using a `CandidateSpace` object--which defines the basic candidates we consider, in this case n-grams up to a certain length--and a `Matcher` object, which filters this candidate space down."
   ]
  },
  {
   "cell_type": "code",
   "execution_count": 6,
   "metadata": {
    "collapsed": false
   },
   "outputs": [
    {
     "name": "stdout",
     "output_type": "stream",
     "text": [
      "Loaded 507899 disease phrases!\n"
     ]
    }
   ],
   "source": [
    "from load_dictionaries import load_disease_dictionary\n",
    "from ddlite_candidates import Ngrams\n",
    "from ddlite_matchers import DictionaryMatch\n",
    "\n",
    "# Load the disease phrase dictionary\n",
    "diseases = load_disease_dictionary()\n",
    "print \"Loaded %s disease phrases!\" % len(diseases)\n",
    "\n",
    "# Define a candidate space\n",
    "ngrams = Ngrams(n_max=3)\n",
    "\n",
    "# Define a matcher\n",
    "matcher = DictionaryMatch(d=diseases, longest_match_only=False)"
   ]
  },
  {
   "cell_type": "markdown",
   "metadata": {},
   "source": [
    "Note that we set `longest_match_only=False`, which means that we _will_ consider subsequences of phrases that match our dictionary.\n",
    "\n",
    "The `Ngrams` operator is applied over our `Sentence` objects and returns `Ngram` objects, and the `Matcher` then filters these, so we apply our operators over the sentences in the corpus, storing the results in a `Candidates` object for convenience:"
   ]
  },
  {
   "cell_type": "code",
   "execution_count": 7,
   "metadata": {
    "collapsed": false
   },
   "outputs": [
    {
     "name": "stdout",
     "output_type": "stream",
     "text": [
      "Extracting candidates...\n",
      "CPU times: user 5.05 s, sys: 452 ms, total: 5.5 s\n",
      "Wall time: 5.18 s\n"
     ]
    },
    {
     "data": {
      "text/plain": [
       "[<Ngram(\"depression\", id=6794356-5:662-671, chars=[662,671], words=[4,4]),\n",
       " <Ngram(\"fulminant hepatitis\", id=3411101-5:504-522, chars=[504,522], words=[8,9]),\n",
       " <Ngram(\"examined\", id=16132524-4:674-681, chars=[674,681], words=[29,29]),\n",
       " <Ngram(\"hypertension\", id=16820346-4:652-663, chars=[652,663], words=[3,3]),\n",
       " <Ngram(\"artery disease\", id=15531665-5:829-842, chars=[829,842], words=[16,17])]"
      ]
     },
     "execution_count": 7,
     "metadata": {},
     "output_type": "execute_result"
    }
   ],
   "source": [
    "from ddlite_candidates import Candidates\n",
    "%time c = Candidates(ngrams, matcher, corpus.get_sentences())\n",
    "c.get_candidates()[:5]"
   ]
  },
  {
   "cell_type": "markdown",
   "metadata": {},
   "source": [
    "## Evaluating our candidate recall on gold annotations\n",
    "\n",
    "Next, we'll test our _candidate recall_--in other words, how many of the true disease mentions we picked up in our candidate set--using the gold annotations in our dataset.\n",
    "\n",
    "The XML documents that we loaded using the `XMLDocParser` also contained annotations (this is why we kept the full xml tree using `keep_xml_tree=True`).  We'll load these annotations and map them to `Ngram` objects over our parsed sentences, that way we can easily compare our extracted candidate set with the gold annotations.  The code is fairly simple (see `tutorial/util.py`); note that we filter to only keep _disease_ annotations, and that the candidates should be uniquely identified by their `id` attribute:"
   ]
  },
  {
   "cell_type": "code",
   "execution_count": 8,
   "metadata": {
    "collapsed": false
   },
   "outputs": [],
   "source": [
    "from utils import collect_pubtator_annotations\n",
    "gold = []\n",
    "for doc, sents in corpus:\n",
    "    gold += [a for a in collect_pubtator_annotations(doc, sents) if a.metadata['type'] == 'Disease']\n",
    "gold = frozenset(gold)"
   ]
  },
  {
   "cell_type": "markdown",
   "metadata": {},
   "source": [
    "Now, we have a set of gold annotations of the same type as our candidates (`Ngram`), and can use set operations (where candidate objects are hashed by their `id` attribute), e.g.:"
   ]
  },
  {
   "cell_type": "code",
   "execution_count": 9,
   "metadata": {
    "collapsed": false
   },
   "outputs": [
    {
     "data": {
      "text/plain": [
       "3039"
      ]
     },
     "execution_count": 9,
     "metadata": {},
     "output_type": "execute_result"
    }
   ],
   "source": [
    "len(gold.intersection(c.get_candidates()))"
   ]
  },
  {
   "cell_type": "markdown",
   "metadata": {},
   "source": [
    "For convenience, we'll use a basic helper method of the `Candidates` object:"
   ]
  },
  {
   "cell_type": "code",
   "execution_count": 10,
   "metadata": {
    "collapsed": false
   },
   "outputs": [
    {
     "name": "stdout",
     "output_type": "stream",
     "text": [
      "# of gold annotations\t= 4244\n",
      "# of candidates\t\t= 6944\n",
      "Candidate recall\t= 0.716\n",
      "Candidate precision\t= 0.438\n"
     ]
    }
   ],
   "source": [
    "c.gold_stats(gold)"
   ]
  },
  {
   "cell_type": "markdown",
   "metadata": {},
   "source": [
    "We note that our focus in this stage is on **acheiving high candidate recall, without considering an impractically large candidate set**.  Our main focus after this stage will be on training a classifier to select which candidates are true; this will raise precision while hopefully keeping recall high.  _Note however that candidate recall is an upper bound for the recall of this classifier!_\n",
    "\n",
    "So, we have some work to do."
   ]
  },
  {
   "cell_type": "markdown",
   "metadata": {},
   "source": [
    "## Using the `Viewer` to inspect data\n",
    "\n",
    "Next, we'll use the `Viewer` class--here, specifically, the `SentenceNgramViewer`--to inspect the data.\n",
    "\n",
    "To start, we'll assemble a random set of all the sentences where there are gold annotations _not in our candidate set_, i.e. where we missed something, and then inspect these in the `Viewer`:"
   ]
  },
  {
   "cell_type": "code",
   "execution_count": 11,
   "metadata": {
    "collapsed": false
   },
   "outputs": [],
   "source": [
    "# Index the gold annotations by sentence id\n",
    "gold_by_sid = defaultdict(list)\n",
    "for g in gold:\n",
    "    gold_by_sid[g.sent_id].append(g)\n",
    "\n",
    "# Get sentences\n",
    "view_sents = [s for s in corpus.get_sentences() if len(c.get_candidates_in(s.id)) < len(gold_by_sid[s.id])]\n",
    "shuffle(view_sents)\n",
    "view_sents = view_sents[:50]"
   ]
  },
  {
   "cell_type": "markdown",
   "metadata": {},
   "source": [
    "Now, we instantiate and render the `Viewer` object; note we're being a bit sloppy, passing in _all_ the candidates and gold labels, but the `Viewer` object will take care of indexing them by sentence, and will only render the sentences we pass in:"
   ]
  },
  {
   "cell_type": "code",
   "execution_count": 12,
   "metadata": {
    "collapsed": false,
    "scrolled": true
   },
   "outputs": [
    {
     "data": {
      "text/html": [
       "<link href=\"../viewer/bootstrap/css/bootstrap.min.css\" rel=\"stylesheet\" />\n",
       "<link href=\"../viewer/viewer.css\" type=\"text/css\" rel=\"stylesheet\" />\n",
       "<div id=\"viewer-3728\" class=\"viewer-pane panel panel-default\" tabindex=\"0\">\n",
       "    <div class=\"panel-heading\">\n",
       "        <h3 class=\"panel-title\">Viewer</h3>\n",
       "        <div id=\"candidate-caption-3728\" class=\"panel-left-justify\"></div>\n",
       "    </div>\n",
       "    <div class=\"panel-body\" style=\"height:225px\">\n",
       "        <div class=\"viewer-page viewer-page-3728\" id=\"viewer-page-3728-0\" data-nc=\"3\">\n",
       "            <ul class=\"list-group\">\n",
       "        <li class=\"list-group-item\" data-toggle=\"tooltip\" data-placement=\"top\" title=\"11860495-0\"><span class=\"\">Steroid structure and pharmacological properties determine the anti-</span><span class=\"gold-annotation\">amnesic</span><span class=\"\"> effects of pregnenolone sulphate in the passive avoidance task in rats.</span></li>\n",
       "        \n",
       "        <li class=\"list-group-item\" data-toggle=\"tooltip\" data-placement=\"top\" title=\"11063349-11\"><div class=\"candidate-data\" id=\"cdata-3728-0-0\" caption=\"CID: 11063349-11:1215-1223\"></div><div class=\"candidate-data\" id=\"cdata-3728-0-1\" caption=\"CID: 11063349-11:1263-1268\"></div><span class=\"\">RAPA was discontinued in four patients, because of </span><span class=\"candidate gold-annotation c-3728-0-0\">pneumonia</span><span class=\"\"> in two, </span><span class=\"gold-annotation\">PTLD</span><span class=\"\"> in one, and oral </span><span class=\"gold-annotation\">aphtous </span><span class=\"candidate gold-annotation c-3728-0-1\">ulcers</span><span class=\"\"> in one.</span></li>\n",
       "        \n",
       "        <li class=\"list-group-item\" data-toggle=\"tooltip\" data-placement=\"top\" title=\"3084782-4\"><div class=\"candidate-data\" id=\"cdata-3728-0-2\" caption=\"CID: 3084782-4:643-651\"></div><span class=\"\">Compared to healthy controls a lower DR5 frequency was observed in patients with </span><span class=\"gold-annotation\">RA</span><span class=\"\"> except for the Tiopronin related </span><span class=\"candidate gold-annotation c-3728-0-2\">nephritis</span><span class=\"\"> group.</span></li>\n",
       "        </ul>\n",
       "        </div>\n",
       "        \n",
       "        <div class=\"viewer-page viewer-page-3728\" id=\"viewer-page-3728-1\" data-nc=\"0\">\n",
       "            <ul class=\"list-group\">\n",
       "        <li class=\"list-group-item\" data-toggle=\"tooltip\" data-placement=\"top\" title=\"8475949-7\"><span class=\"\">When </span><span class=\"gold-annotation\">QTc interval prolongation</span><span class=\"\"> is observed, early magnesium supplementation is advocated.</span></li>\n",
       "        \n",
       "        <li class=\"list-group-item\" data-toggle=\"tooltip\" data-placement=\"top\" title=\"11705128-4\"><span class=\"\">METHODS: A systematic literature review was conducted to synthesize information on the incidence and management of </span><span class=\"gold-annotation\">RIHA</span><span class=\"\">.</span></li>\n",
       "        \n",
       "        <li class=\"list-group-item\" data-toggle=\"tooltip\" data-placement=\"top\" title=\"19234905-6\"><span class=\"\">There was statistically significant improvement in all contralateral major </span><span class=\"gold-annotation\">parkinsonian</span><span class=\"\"> motor signs in all patients followed for 6 months.</span></li>\n",
       "        </ul>\n",
       "        </div>\n",
       "        \n",
       "        <div class=\"viewer-page viewer-page-3728\" id=\"viewer-page-3728-2\" data-nc=\"0\">\n",
       "            <ul class=\"list-group\">\n",
       "        <li class=\"list-group-item\" data-toggle=\"tooltip\" data-placement=\"top\" title=\"2320800-5\"><span class=\"\">Ifosfamide is a known </span><span class=\"gold-annotation\">nephrotoxic</span><span class=\"\"> drug with demonstrated </span><span class=\"gold-annotation\">tubulopathies</span><span class=\"\">.</span></li>\n",
       "        \n",
       "        <li class=\"list-group-item\" data-toggle=\"tooltip\" data-placement=\"top\" title=\"20304337-2\"><span class=\"\">Vasoconstriction appears to be the common mechanism of action leading to a wide range of </span><span class=\"gold-annotation\">fetal anomalies</span><span class=\"\">.</span></li>\n",
       "        \n",
       "        <li class=\"list-group-item\" data-toggle=\"tooltip\" data-placement=\"top\" title=\"33969-2\"><span class=\"\">Ethopropazine and benztropine were found to be equally effective in controlling </span><span class=\"gold-annotation\">parkinsonian symptoms</span><span class=\"\"> and were as efficacious as procyclidine, their previous antiparkinsonian drug.</span></li>\n",
       "        </ul>\n",
       "        </div>\n",
       "        \n",
       "        <div class=\"viewer-page viewer-page-3728\" id=\"viewer-page-3728-3\" data-nc=\"2\">\n",
       "            <ul class=\"list-group\">\n",
       "        <li class=\"list-group-item\" data-toggle=\"tooltip\" data-placement=\"top\" title=\"11282081-1\"><div class=\"candidate-data\" id=\"cdata-3728-3-0\" caption=\"CID: 11282081-1:188-206\"></div><div class=\"candidate-data\" id=\"cdata-3728-3-1\" caption=\"CID: 11282081-1:195-206\"></div><span class=\"\">BACKGROUND: </span><span class=\"gold-annotation\">Atrial tachycardia</span><span class=\"\">-induced remodeling promotes the occurrence and maintenance of </span><span class=\"candidate gold-annotation c-3728-3-0\">atrial </span><span class=\"candidate gold-annotation c-3728-3-0 c-3728-3-1\">fibrillation</span><span class=\"\"> (</span><span class=\"gold-annotation\">AF</span><span class=\"\">) and decreases L-type Ca(2+) current.</span></li>\n",
       "        \n",
       "        <li class=\"list-group-item\" data-toggle=\"tooltip\" data-placement=\"top\" title=\"19319147-2\"><span class=\"\">There is no consensus on the optimal treatment for W-</span><span class=\"gold-annotation\">ICH</span><span class=\"\">.</span></li>\n",
       "        \n",
       "        <li class=\"list-group-item\" data-toggle=\"tooltip\" data-placement=\"top\" title=\"7803371-7\"><span class=\"\">This report describes a case of </span><span class=\"gold-annotation\">cognitive deterioration</span><span class=\"\"> resulting from prolonged use of DM.</span></li>\n",
       "        </ul>\n",
       "        </div>\n",
       "        \n",
       "        <div class=\"viewer-page viewer-page-3728\" id=\"viewer-page-3728-4\" data-nc=\"1\">\n",
       "            <ul class=\"list-group\">\n",
       "        <li class=\"list-group-item\" data-toggle=\"tooltip\" data-placement=\"top\" title=\"12571256-2\"><span class=\"\">Whether iso-osmolar contrast medium is less </span><span class=\"gold-annotation\">nephrotoxic</span><span class=\"\"> than low-osmolar contrast medium in high-risk patients is uncertain.</span></li>\n",
       "        \n",
       "        <li class=\"list-group-item\" data-toggle=\"tooltip\" data-placement=\"top\" title=\"11705128-9\"><span class=\"\">We estimated the direct cost of treating clinically significant </span><span class=\"gold-annotation\">RIHA</span><span class=\"\"> to be  170 per patient receiving combination therapy per 48-week treatment course (range  68- 692).</span></li>\n",
       "        \n",
       "        <li class=\"list-group-item\" data-toggle=\"tooltip\" data-placement=\"top\" title=\"16116131-0\"><div class=\"candidate-data\" id=\"cdata-3728-4-0\" caption=\"CID: 16116131-0:84-90\"></div><span class=\"\">rTMS of supplementary motor area modulates therapy-induced </span><span class=\"gold-annotation\">dyskinesias</span><span class=\"\"> in </span><span class=\"gold-annotation\">Parkinson </span><span class=\"candidate gold-annotation c-3728-4-0\">disease</span><span class=\"\">.</span></li>\n",
       "        </ul>\n",
       "        </div>\n",
       "        \n",
       "        <div class=\"viewer-page viewer-page-3728\" id=\"viewer-page-3728-5\" data-nc=\"0\">\n",
       "            <ul class=\"list-group\">\n",
       "        <li class=\"list-group-item\" data-toggle=\"tooltip\" data-placement=\"top\" title=\"16634859-11\"><span class=\"\">Any alcohol consumption postpregnancy recognition among the heavy drinkers resulted in </span><span class=\"gold-annotation\">reduced cerebellar growth</span><span class=\"\"> as well as </span><span class=\"gold-annotation\">decreased cranial to body growth</span><span class=\"\"> in comparison with women who either quit drinking or who were nondrinkers.</span></li>\n",
       "        \n",
       "        <li class=\"list-group-item\" data-toggle=\"tooltip\" data-placement=\"top\" title=\"8045270-2\"><span class=\"\">Oral administration of KF17837 (2.5, 10.0 and 30.0 mg/kg) significantly ameliorated the </span><span class=\"gold-annotation\">cataleptic</span><span class=\"\"> responses induced by intracerebroventricular administration of an adenosine A2A receptor agonist, CGS 21680 (10 micrograms), in a dose-dependent manner.</span></li>\n",
       "        \n",
       "        <li class=\"list-group-item\" data-toggle=\"tooltip\" data-placement=\"top\" title=\"11099450-2\"><span class=\"\">We found significant positive correlations between the preoperative levodopa responsiveness of motor signs and the levodopa responsiveness of scores in timed tests (Core Assessment Program for Intracerebral Transplantations) in the contralateral limbs and the improvement in these scores after surgery, whereas there was no correlation with the improvement in </span><span class=\"gold-annotation\">LID</span><span class=\"\">.</span></li>\n",
       "        </ul>\n",
       "        </div>\n",
       "        \n",
       "        <div class=\"viewer-page viewer-page-3728\" id=\"viewer-page-3728-6\" data-nc=\"1\">\n",
       "            <ul class=\"list-group\">\n",
       "        <li class=\"list-group-item\" data-toggle=\"tooltip\" data-placement=\"top\" title=\"15565293-11\"><span class=\"\">In both sets (four) of eyes of the subjects with persistent </span><span class=\"gold-annotation\">visual deficits</span><span class=\"\"> (patients B and C), there was an average loss of 79% of nerve fiber thickness in the temporal quadrant.</span></li>\n",
       "        \n",
       "        <li class=\"list-group-item\" data-toggle=\"tooltip\" data-placement=\"top\" title=\"20394767-1\"><span class=\"\">RATIONALE AND OBJECTIVES: The light-enhanced </span><span class=\"gold-annotation\">startle</span><span class=\"\"> paradigm (LES) is suggested to model </span><span class=\"gold-annotation\">anxiety</span><span class=\"\">, because of the non-specific cue and the long-term effect.</span></li>\n",
       "        \n",
       "        <li class=\"list-group-item\" data-toggle=\"tooltip\" data-placement=\"top\" title=\"20552622-9\"><div class=\"candidate-data\" id=\"cdata-3728-6-0\" caption=\"CID: 20552622-9:949-958\"></div><span class=\"\">It discusses demographics, clinical characteristics and types of </span><span class=\"candidate gold-annotation c-3728-6-0\">arrhythmia</span><span class=\"\">, postulated mechanisms of </span><span class=\"gold-annotation\">SIAT</span><span class=\"\">, and different treatment possibilities such as medications, surgery, and radiofrequency catheter ablation (RFCA).</span></li>\n",
       "        </ul>\n",
       "        </div>\n",
       "        \n",
       "        <div class=\"viewer-page viewer-page-3728\" id=\"viewer-page-3728-7\" data-nc=\"3\">\n",
       "            <ul class=\"list-group\">\n",
       "        <li class=\"list-group-item\" data-toggle=\"tooltip\" data-placement=\"top\" title=\"17344330-11\"><span class=\"\">Among the subjects treated with methadone, 28% men and 32% women had </span><span class=\"gold-annotation\">prolonged QTc interval</span><span class=\"\">.</span></li>\n",
       "        \n",
       "        <li class=\"list-group-item\" data-toggle=\"tooltip\" data-placement=\"top\" title=\"11208990-12\"><span class=\"\">However, in the ADR-</span><span class=\"gold-annotation\">nephropathy</span><span class=\"\"> group, numerous apoptotic cells were identified in the tubulointerstitial areas.</span></li>\n",
       "        \n",
       "        <li class=\"list-group-item\" data-toggle=\"tooltip\" data-placement=\"top\" title=\"9758264-0\"><div class=\"candidate-data\" id=\"cdata-3728-7-0\" caption=\"CID: 9758264-0:76-83\"></div><div class=\"candidate-data\" id=\"cdata-3728-7-1\" caption=\"CID: 9758264-0:174-182\"></div><div class=\"candidate-data\" id=\"cdata-3728-7-2\" caption=\"CID: 9758264-0:263-275\"></div><span class=\"\">Epileptogenic activity of folic acid after drug induces </span><span class=\"gold-annotation\">SLE</span><span class=\"\"> (folic acid and </span><span class=\"candidate gold-annotation c-3728-7-0\">epilepsy</span><span class=\"\">)\n",
       "OBJECTIVE: To study the effect of folic acid-containing multivitamin supplementation in </span><span class=\"candidate gold-annotation c-3728-7-1\">epileptic</span><span class=\"\"> women before and during pregnancy in order to determine the rate of structural </span><span class=\"candidate gold-annotation c-3728-7-2\">birth defects</span><span class=\"\"> and </span><span class=\"gold-annotation\">epilepsy</span><span class=\"\">-related side effects.</span></li>\n",
       "        </ul>\n",
       "        </div>\n",
       "        \n",
       "        <div class=\"viewer-page viewer-page-3728\" id=\"viewer-page-3728-8\" data-nc=\"1\">\n",
       "            <ul class=\"list-group\">\n",
       "        <li class=\"list-group-item\" data-toggle=\"tooltip\" data-placement=\"top\" title=\"19300240-11\"><span class=\"\">Echocardiogram revealed a normal ejection fraction and a resolution of the apical </span><span class=\"gold-annotation\">akinesis</span><span class=\"\">.</span></li>\n",
       "        \n",
       "        <li class=\"list-group-item\" data-toggle=\"tooltip\" data-placement=\"top\" title=\"17285209-8\"><div class=\"candidate-data\" id=\"cdata-3728-8-0\" caption=\"CID: 17285209-8:932-941\"></div><span class=\"\">Angiotensin-converting enzyme inhibitor (ACEI)-induced </span><span class=\"candidate gold-annotation c-3728-8-0\">angioedema</span><span class=\"\"> was suspected, and anti-</span><span class=\"gold-annotation\">hypertensive</span><span class=\"\"> medications were discontinued.</span></li>\n",
       "        \n",
       "        <li class=\"list-group-item\" data-toggle=\"tooltip\" data-placement=\"top\" title=\"3653576-4\"><span class=\"\">The latter was characterized by a pronounced increase in </span><span class=\"gold-annotation\">protein excretion</span><span class=\"\">, especially proteins with molecular weight greater than 40,000 Da.</span></li>\n",
       "        </ul>\n",
       "        </div>\n",
       "        \n",
       "        <div class=\"viewer-page viewer-page-3728\" id=\"viewer-page-3728-9\" data-nc=\"0\">\n",
       "            <ul class=\"list-group\">\n",
       "        <li class=\"list-group-item\" data-toggle=\"tooltip\" data-placement=\"top\" title=\"3780814-2\"><span class=\"\">Wistar rats (180 g) were treated by DEN alone or by DEN + PB during 2, 4 and 6 weeks according to our schedule for </span><span class=\"gold-annotation\">hepatocarcinogenesis</span><span class=\"\">.</span></li>\n",
       "        \n",
       "        <li class=\"list-group-item\" data-toggle=\"tooltip\" data-placement=\"top\" title=\"11282081-8\"><span class=\"\">In these experiments, verapamil shortened mean effective refractory period (ERP) from 122+/-5 to 114+/-4 ms (P<0.02) at a cycle length of 300 ms, decreased ERP heterogeneity (from 15+/-1 to 10+/-1%, P<0.05), heterogeneously accelerated atrial conduction and decreased the cycle length of </span><span class=\"gold-annotation\">AF</span><span class=\"\"> (94+/-4 to 84+/-3 ms, P<0.005).</span></li>\n",
       "        \n",
       "        <li class=\"list-group-item\" data-toggle=\"tooltip\" data-placement=\"top\" title=\"11282081-5\"><span class=\"\">Epicardial mapping with 240 epicardial electrodes was used to evaluate activation during </span><span class=\"gold-annotation\">AF</span><span class=\"\">.</span></li>\n",
       "        </ul>\n",
       "        </div>\n",
       "        \n",
       "        <div class=\"viewer-page viewer-page-3728\" id=\"viewer-page-3728-10\" data-nc=\"2\">\n",
       "            <ul class=\"list-group\">\n",
       "        <li class=\"list-group-item\" data-toggle=\"tooltip\" data-placement=\"top\" title=\"11705128-13\"><span class=\"\">Questions remain about the optimal dose of ribavirin and the incidence of </span><span class=\"gold-annotation\">RIHA</span><span class=\"\"> in a real-world population.</span></li>\n",
       "        \n",
       "        <li class=\"list-group-item\" data-toggle=\"tooltip\" data-placement=\"top\" title=\"3653576-2\"><div class=\"candidate-data\" id=\"cdata-3728-10-0\" caption=\"CID: 3653576-2:383-396\"></div><span class=\"\">Several routine indicators of </span><span class=\"candidate gold-annotation c-3728-10-0\">nephrotoxicity</span><span class=\"\">, the enzymes alkaline phosphatase and N-acetyl-beta-glucosaminidase, and the molecular weight of </span><span class=\"gold-annotation\">protein excretion</span><span class=\"\"> were determined on urine samples.</span></li>\n",
       "        \n",
       "        <li class=\"list-group-item\" data-toggle=\"tooltip\" data-placement=\"top\" title=\"18541230-6\"><div class=\"candidate-data\" id=\"cdata-3728-10-1\" caption=\"CID: 18541230-6:613-626\"></div><span class=\"\">Puromycin aminonucleoside-induced </span><span class=\"gold-annotation\">renal dysfunction</span><span class=\"\"> and </span><span class=\"candidate gold-annotation c-3728-10-1\">hyperlipidemia</span><span class=\"\"> were also suppressed.</span></li>\n",
       "        </ul>\n",
       "        </div>\n",
       "        \n",
       "        <div class=\"viewer-page viewer-page-3728\" id=\"viewer-page-3728-11\" data-nc=\"2\">\n",
       "            <ul class=\"list-group\">\n",
       "        <li class=\"list-group-item\" data-toggle=\"tooltip\" data-placement=\"top\" title=\"11912119-8\"><div class=\"candidate-data\" id=\"cdata-3728-11-0\" caption=\"CID: 11912119-8:1157-1163\"></div><div class=\"candidate-data\" id=\"cdata-3728-11-1\" caption=\"CID: 11912119-8:1191-1197\"></div><span class=\"\">Peak grip force in ON-state was 140% (P < 0.05) higher in </span><span class=\"gold-annotation\">Parkinson's </span><span class=\"candidate gold-annotation c-3728-11-0\">disease</span><span class=\"\"> + </span><span class=\"gold-annotation\">LID</span><span class=\"\"> than in </span><span class=\"gold-annotation\">Parkinson's </span><span class=\"candidate gold-annotation c-3728-11-1\">disease</span><span class=\"\"> - </span><span class=\"gold-annotation\">LID</span><span class=\"\">, while static grip force was increased by 138% (P < 0.01) between groups.</span></li>\n",
       "        \n",
       "        <li class=\"list-group-item\" data-toggle=\"tooltip\" data-placement=\"top\" title=\"11694026-8\"><span class=\"\">Taken together, our results confirm the good tolerability of nimesulide and paracetamol in patients who experienced </span><span class=\"gold-annotation\">urticaria</span><span class=\"\">/</span><span class=\"gold-annotation\">angioedema</span><span class=\"\"> caused by NSAIDs.</span></li>\n",
       "        \n",
       "        <li class=\"list-group-item\" data-toggle=\"tooltip\" data-placement=\"top\" title=\"2004015-0\"><span class=\"\">Sensitivity of erythroid progenitor colonies to erythropoietin in azidothymidine treated </span><span class=\"gold-annotation\">immunodeficient</span><span class=\"\"> mice.</span></li>\n",
       "        </ul>\n",
       "        </div>\n",
       "        \n",
       "        <div class=\"viewer-page viewer-page-3728\" id=\"viewer-page-3728-12\" data-nc=\"6\">\n",
       "            <ul class=\"list-group\">\n",
       "        <li class=\"list-group-item\" data-toggle=\"tooltip\" data-placement=\"top\" title=\"16596970-0\"><div class=\"candidate-data\" id=\"cdata-3728-12-0\" caption=\"CID: 16596970-0:12-19\"></div><span class=\"\">Pilocarpine </span><span class=\"candidate gold-annotation c-3728-12-0\">seizures</span><span class=\"\"> cause age-dependent </span><span class=\"gold-annotation\">impairment in auditory location discrimination</span><span class=\"\">.</span></li>\n",
       "        \n",
       "        <li class=\"list-group-item\" data-toggle=\"tooltip\" data-placement=\"top\" title=\"6381653-2\"><div class=\"candidate-data\" id=\"cdata-3728-12-1\" caption=\"CID: 6381653-2:436-442\"></div><div class=\"candidate-data\" id=\"cdata-3728-12-2\" caption=\"CID: 6381653-2:482-493\"></div><span class=\"\">Control of levodopa-induced </span><span class=\"gold-annotation\">dyskinesias</span><span class=\"\"> by </span><span class=\"gold-annotation\">thalamic </span><span class=\"candidate gold-annotation c-3728-12-1\">lesions</span><span class=\"\"> in the course of routine treatment of </span><span class=\"candidate gold-annotation c-3728-12-2\">Parkinsonism</span><span class=\"\"> is discussed.</span></li>\n",
       "        \n",
       "        <li class=\"list-group-item\" data-toggle=\"tooltip\" data-placement=\"top\" title=\"2004015-2\"><div class=\"candidate-data\" id=\"cdata-3728-12-3\" caption=\"CID: 2004015-2:227-235\"></div><div class=\"candidate-data\" id=\"cdata-3728-12-4\" caption=\"CID: 2004015-2:279-287\"></div><div class=\"candidate-data\" id=\"cdata-3728-12-5\" caption=\"CID: 2004015-2:331-337\"></div><span class=\"\">We have used a murine model of </span><span class=\"gold-annotation\">AIDS</span><span class=\"\">, </span><span class=\"candidate gold-annotation c-3728-12-3\">infection</span><span class=\"\"> of female C57BL/6 mice with LP-BM5 murine </span><span class=\"candidate gold-annotation c-3728-12-4\">leukaemia</span><span class=\"\"> (MuLV) virus, to determine if AZT-induced </span><span class=\"candidate gold-annotation c-3728-12-5\">anaemia</span><span class=\"\"> is due, in part, to decreased responsiveness of erythropoietic precursors (BFU-e) to erythropoietin (EPO).</span></li>\n",
       "        </ul>\n",
       "        </div>\n",
       "        \n",
       "        <div class=\"viewer-page viewer-page-3728\" id=\"viewer-page-3728-13\" data-nc=\"1\">\n",
       "            <ul class=\"list-group\">\n",
       "        <li class=\"list-group-item\" data-toggle=\"tooltip\" data-placement=\"top\" title=\"9326871-6\"><span class=\"\">The </span><span class=\"gold-annotation\">dysrhythmias</span><span class=\"\"> resolved after discontinuation of the drug.</span></li>\n",
       "        \n",
       "        <li class=\"list-group-item\" data-toggle=\"tooltip\" data-placement=\"top\" title=\"16600756-10\"><span class=\"\">In patients with </span><span class=\"gold-annotation\">OAB</span><span class=\"\"> urinary PGE2 positively correlated with volume at first desire to void and maximum cystometric capacity (p <0.05).</span></li>\n",
       "        \n",
       "        <li class=\"list-group-item\" data-toggle=\"tooltip\" data-placement=\"top\" title=\"11912119-7\"><div class=\"candidate-data\" id=\"cdata-3728-13-0\" caption=\"CID: 11912119-7:1072-1078\"></div><span class=\"\">In contrast, no excessive force was found in </span><span class=\"gold-annotation\">Parkinson's </span><span class=\"candidate gold-annotation c-3728-13-0\">disease</span><span class=\"\"> - </span><span class=\"gold-annotation\">LID</span><span class=\"\">.</span></li>\n",
       "        </ul>\n",
       "        </div>\n",
       "        \n",
       "        <div class=\"viewer-page viewer-page-3728\" id=\"viewer-page-3728-14\" data-nc=\"3\">\n",
       "            <ul class=\"list-group\">\n",
       "        <li class=\"list-group-item\" data-toggle=\"tooltip\" data-placement=\"top\" title=\"2709684-8\"><div class=\"candidate-data\" id=\"cdata-3728-14-0\" caption=\"CID: 2709684-8:1412-1427\"></div><span class=\"\">In Group II, P did not prevent gentamicin-</span><span class=\"gold-annotation\">ARF</span><span class=\"\"> (maximal decrease in CCr at day 9.89%, P less than 0.001; peak lysozymuria, 1863 +/- 321 micrograms/day; and </span><span class=\"candidate gold-annotation c-3728-14-0\">tubular necrosis</span><span class=\"\"> score, 3.9 +/- 0.1).</span></li>\n",
       "        \n",
       "        <li class=\"list-group-item\" data-toggle=\"tooltip\" data-placement=\"top\" title=\"18674790-7\"><div class=\"candidate-data\" id=\"cdata-3728-14-1\" caption=\"CID: 18674790-7:1268-1273\"></div><span class=\"\">Mechanistic studies revealed that </span><span class=\"gold-annotation\">OB</span><span class=\"\"> rats are sensitized due to: (1) higher oxyradical </span><span class=\"candidate c-3728-14-1\">stress</span><span class=\"\"> leading to upregulation of uncoupling proteins 2 and 3, (2) downregulation of cardiac peroxisome proliferators activated receptor-alpha, (3) decreased plasma adiponectin levels, (4) decreased cardiac fatty-acid oxidation (666.9+/-14.0 nmol/min/g heart in ND versus 400.2+/-11.8 nmol/min/g heart in </span><span class=\"gold-annotation\">OB</span><span class=\"\">), (5) decreased mitochondrial AMP-alpha2 protein kinase, and (6) 86% drop in cardiac ATP levels accompanied by decreased ATP/ADP ratio after doxorubicin administration.</span></li>\n",
       "        \n",
       "        <li class=\"list-group-item\" data-toggle=\"tooltip\" data-placement=\"top\" title=\"11868798-4\"><div class=\"candidate-data\" id=\"cdata-3728-14-2\" caption=\"CID: 11868798-4:579-589\"></div><span class=\"\">This study was designed to assess the ability of spironolactone to reduce potassium requirements and to prevent </span><span class=\"candidate gold-annotation c-3728-14-2\">hypokalemia</span><span class=\"\"> in </span><span class=\"gold-annotation\">neutropenic</span><span class=\"\"> patients on AmB treatment.</span></li>\n",
       "        </ul>\n",
       "        </div>\n",
       "        \n",
       "        <div class=\"viewer-page viewer-page-3728\" id=\"viewer-page-3728-15\" data-nc=\"2\">\n",
       "            <ul class=\"list-group\">\n",
       "        <li class=\"list-group-item\" data-toggle=\"tooltip\" data-placement=\"top\" title=\"20552622-8\"><span class=\"\">This article summarizes all the cases published, creating a comprehensive review of the current knowledge and approach to </span><span class=\"gold-annotation\">SIAT</span><span class=\"\">.</span></li>\n",
       "        \n",
       "        <li class=\"list-group-item\" data-toggle=\"tooltip\" data-placement=\"top\" title=\"11208990-9\"><span class=\"\">Urine nitrite levels were significantly increased in the ADR-</span><span class=\"gold-annotation\">nephropathy</span><span class=\"\"> group (P < 0.05).</span></li>\n",
       "        \n",
       "        <li class=\"list-group-item\" data-toggle=\"tooltip\" data-placement=\"top\" title=\"1423339-1\"><div class=\"candidate-data\" id=\"cdata-3728-15-0\" caption=\"CID: 1423339-1:125-132\"></div><div class=\"candidate-data\" id=\"cdata-3728-15-1\" caption=\"CID: 1423339-1:161-168\"></div><span class=\"\">An elderly woman developed an </span><span class=\"gold-annotation\">Alzheimer</span><span class=\"\">-like subacute </span><span class=\"candidate gold-annotation c-3728-15-0\">dementia</span><span class=\"\"> as a result of propranolol </span><span class=\"candidate gold-annotation c-3728-15-1\">toxicity</span><span class=\"\">.</span></li>\n",
       "        </ul>\n",
       "        </div>\n",
       "        \n",
       "        <div class=\"viewer-page viewer-page-3728\" id=\"viewer-page-3728-16\" data-nc=\"0\">\n",
       "            <ul class=\"list-group\">\n",
       "        <li class=\"list-group-item\" data-toggle=\"tooltip\" data-placement=\"top\" title=\"19940105-2\"><span class=\"\">Among the eight mGlu receptor subtypes, mGlu7 receptor is prominently expressed in the basal ganglia, but its role in restoring motor function in animal models of </span><span class=\"gold-annotation\">PD</span><span class=\"\"> is not known.</span></li>\n",
       "        \n",
       "        <li class=\"list-group-item\" data-toggle=\"tooltip\" data-placement=\"top\" title=\"9848575-7\"><span class=\"\">The low-grade </span><span class=\"gold-annotation\">cardiotoxic</span><span class=\"\"> changes were enhanced by the additional doxorubicin treatment.</span></li>\n",
       "        </ul>\n",
       "        </div>\n",
       "        </div>\n",
       "    <div class=\"panel-footer\">\n",
       "        <div class=\"btn-group\" role=\"group\" aria-label=\"...\">\n",
       "            <button id=\"prev-page-3728\" type=\"button\" class=\"btn btn-default\">\n",
       "                <span class=\"glyphicon glyphicon-left-arrow\" aria-hidden=\"true\"></span> Prev. Page (i)\n",
       "            </button>\n",
       "            <button id=\"prev-cand-3728\" type=\"button\" class=\"btn btn-default\">\n",
       "                <span class=\"glyphicon glyphicon-down-arrow\" aria-hidden=\"true\"></span> Prev. Cand. (j)\n",
       "            </button>\n",
       "            <button id=\"next-cand-3728\" type=\"button\" class=\"btn btn-default\">\n",
       "                <span class=\"glyphicon glyphicon-up-arrow\" aria-hidden=\"true\"></span> Next Cand. (l)\n",
       "            </button>\n",
       "            <button id=\"next-page-3728\" type=\"button\" class=\"btn btn-default\">\n",
       "                <span class=\"glyphicon glyphicon-right-arrow\" aria-hidden=\"true\"></span> Next Page (k)\n",
       "            </button>\n",
       "        </div>\n",
       "        <span><i>  Viewer must be focused for keyboard control</i></span>\n",
       "        <div class=\"page-num panel-left-justify\">Page <span id=\"page-3728\">0</span></div>\n",
       "    </div>\n",
       "</div>\n"
      ]
     },
     "metadata": {
      "text/html": {
       "isolated": false
      }
     },
     "output_type": "display_data"
    },
    {
     "data": {
      "application/javascript": [
       "$.getScript(\"http://d3js.org/d3.v3.min.js\", function () {\n",
       "$.getScript(\"https://ajax.googleapis.com/ajax/libs/jquery/1.11.3/jquery.min.js\", function () {\n",
       "var vid    = 3728;\n",
       "var nPages = 17;\n",
       "var cid    = 0;\n",
       "var pid    = 0;\n",
       "\n",
       "// Enable tooltip functionality\n",
       "$(function () {\n",
       "    $('[data-toggle=\"tooltip\"]').tooltip()\n",
       "});\n",
       "\n",
       "// Get the selector for a given candidate by number (w.r.t. to entire page group)\n",
       "function candidateSelector(cid) {\n",
       "    return $(\"span.c-\" + vid + \"-\" + pid + \"-\" + cid);\n",
       "}\n",
       "\n",
       "// Cycle through candidates and highlight, by increment inc\n",
       "function switchCandidate(inc) {\n",
       "    var nC = parseInt($(\"#viewer-page-\"+vid+\"-\"+pid).attr(\"data-nc\"));\n",
       "\n",
       "    // Clear highlighting and highlight new candidate\n",
       "    $(\"span.candidate\").removeClass(\"highlighted-candidate\");\n",
       "    if (cid + inc < 0) {\n",
       "        cid = nC + (cid + inc);\n",
       "    } else if (cid + inc > nC - 1) {\n",
       "        cid = (cid + inc) - nC;\n",
       "    } else {\n",
       "        cid += inc;\n",
       "    }\n",
       "    candidateSelector(cid).addClass(\"highlighted-candidate\");\n",
       "\n",
       "    // Fill in caption\n",
       "    $(\"#candidate-caption-\"+vid).html($(\"#cdata-\"+vid+\"-\"+pid+\"-\"+cid).attr(\"caption\"));\n",
       "};\n",
       "\n",
       "$(\"#next-cand-\" + vid).click(function() {\n",
       "    switchCandidate(1);\n",
       "});\n",
       "\n",
       "$(\"#prev-cand-\" + vid).click(function() {\n",
       "    switchCandidate(-1);\n",
       "});\n",
       "\n",
       "// Switch through pages\n",
       "function switchPage(inc) {\n",
       "    $(\".viewer-page-\"+vid).hide();\n",
       "    if (pid + inc < 0) {\n",
       "        pid = 0;\n",
       "    } else if (pid + inc > nPages - 1) {\n",
       "        pid = nPages - 1;\n",
       "    } else {\n",
       "        pid += inc;\n",
       "    }\n",
       "    $(\"#viewer-page-\"+vid+\"-\"+pid).show();\n",
       "\n",
       "    // Show pagination\n",
       "    $(\"#page-\"+vid).html(pid);\n",
       "\n",
       "    // Reset cid and set to first candidate\n",
       "    cid = 0;\n",
       "    switchCandidate(0);\n",
       "}\n",
       "\n",
       "$(\"#next-page-\" + vid).click(function() {\n",
       "    switchPage(1);\n",
       "});\n",
       "\n",
       "$(\"#prev-page-\" + vid).click(function() {\n",
       "    switchPage(-1);\n",
       "});\n",
       "\n",
       "// Arrow key functionality\n",
       "$(document).keydown(function(e) {\n",
       "\n",
       "    // Check that the Jupyter notebook cell the viewer is in is selected\n",
       "    if ($(\"#viewer-\"+vid).parents(\".cell\").hasClass(\"selected\")) {\n",
       "        switch(e.which) {\n",
       "            case 74: // j\n",
       "            switchCandidate(-1);\n",
       "            break;\n",
       "\n",
       "            case 73: // i\n",
       "            switchPage(-1);\n",
       "            break;\n",
       "\n",
       "            case 76: // l\n",
       "            switchCandidate(1);\n",
       "            break;\n",
       "\n",
       "            case 75: // k\n",
       "            switchPage(1);\n",
       "            break;\n",
       "        }\n",
       "    }\n",
       "});\n",
       "\n",
       "// Show the first page and highlight the first candidate\n",
       "$(\"#viewer-page-\"+vid+\"-0\").show();\n",
       "switchCandidate(0);\n",
       "});\n",
       "});\n"
      ]
     },
     "metadata": {},
     "output_type": "display_data"
    }
   ],
   "source": [
    "from ddlite_viewer import SentenceNgramViewer\n",
    "sv = SentenceNgramViewer(view_sents, c.get_candidates(), gold=gold)\n",
    "sv.render(n_per_page=3, height=225)"
   ]
  },
  {
   "cell_type": "markdown",
   "metadata": {},
   "source": [
    "## Composing a better candidate extractor\n",
    "\n",
    "Let's try to increase our candidate recall using more of the `Matcher` operators and their functionalities.  First, let's turn on **Porter stemming** in our dictionary matcher; Porter stemming is an aggressive rules-based method for normalizing word endings."
   ]
  },
  {
   "cell_type": "code",
   "execution_count": 13,
   "metadata": {
    "collapsed": false
   },
   "outputs": [
    {
     "name": "stdout",
     "output_type": "stream",
     "text": [
      "Extracting candidates...\n",
      "CPU times: user 10.1 s, sys: 271 ms, total: 10.4 s\n",
      "Wall time: 10.2 s\n",
      "# of gold annotations\t= 4244\n",
      "# of candidates\t\t= 9266\n",
      "Candidate recall\t= 0.749\n",
      "Candidate precision\t= 0.343\n"
     ]
    },
    {
     "name": "stderr",
     "output_type": "stream",
     "text": [
      "/Library/Python/2.7/site-packages/nltk/stem/porter.py:274: UnicodeWarning: Unicode equal comparison failed to convert both arguments to Unicode - interpreting them as being unequal\n",
      "  if word[-1] == 's':\n"
     ]
    }
   ],
   "source": [
    "# Define a new matcher\n",
    "matcher = DictionaryMatch(d=diseases, longest_match_only=False, stemmer='porter')\n",
    "\n",
    "# Extract a new set of candidates\n",
    "%time c = Candidates(ngrams, matcher, corpus.get_sentences())\n",
    "c.gold_stats(gold)"
   ]
  },
  {
   "cell_type": "markdown",
   "metadata": {},
   "source": [
    "We'll see in particular that they are compositional; noting that we are missing all of the acronyms, let's start with the `Union` operator, to integrate a dictionary for this:"
   ]
  },
  {
   "cell_type": "code",
   "execution_count": 14,
   "metadata": {
    "collapsed": false
   },
   "outputs": [
    {
     "name": "stdout",
     "output_type": "stream",
     "text": [
      "Loaded 36904 acronyms!\n",
      "Extracting candidates...\n",
      "CPU times: user 10.5 s, sys: 288 ms, total: 10.8 s\n",
      "Wall time: 10.6 s\n",
      "# of gold annotations\t= 4244\n",
      "# of candidates\t\t= 9811\n",
      "Candidate recall\t= 0.778\n",
      "Candidate precision\t= 0.336\n"
     ]
    }
   ],
   "source": [
    "from ddlite_matchers import Union\n",
    "from load_dictionaries import load_acronym_dictionary\n",
    "\n",
    "# Load the disease phrase dictionary\n",
    "acronyms = load_acronym_dictionary()\n",
    "print \"Loaded %s acronyms!\" % len(acronyms)\n",
    "\n",
    "# Define a new matcher\n",
    "matcher = Union(\n",
    "    DictionaryMatch(d=diseases, longest_match_only=False, stemmer='porter'),\n",
    "    DictionaryMatch(d=acronyms, ignore_case=False))\n",
    "\n",
    "# Extract a new set of candidates\n",
    "%time c = Candidates(ngrams, matcher, corpus.get_sentences())\n",
    "c.gold_stats(gold)"
   ]
  },
  {
   "cell_type": "markdown",
   "metadata": {},
   "source": [
    "Next, we try using the `Concat` and `RegexMatch` operators to find candidate mentions composed of an _adjective followed by a term matching our diseases dictionary_.  Note in particular that we set `left_required=False` so that exact matches to our dictionary (with no adjective prepended) will still work:"
   ]
  },
  {
   "cell_type": "code",
   "execution_count": 15,
   "metadata": {
    "collapsed": false
   },
   "outputs": [
    {
     "name": "stdout",
     "output_type": "stream",
     "text": [
      "Extracting candidates...\n",
      "CPU times: user 21.4 s, sys: 465 ms, total: 21.8 s\n",
      "Wall time: 21.5 s\n",
      "# of gold annotations\t= 4244\n",
      "# of candidates\t\t= 12292\n",
      "Candidate recall\t= 0.821\n",
      "Candidate precision\t= 0.284\n"
     ]
    }
   ],
   "source": [
    "from ddlite_matchers import Concat, RegexMatchEach\n",
    "matcher = Union(\n",
    "    Concat(\n",
    "        RegexMatchEach(rgx=r'JJ*', attrib='poses'),\n",
    "        DictionaryMatch(d=diseases, longest_match_only=False, stemmer='porter'),\n",
    "        left_required=False),\n",
    "    DictionaryMatch(d=acronyms, ignore_case=False))\n",
    "\n",
    "# Extract a new set of candidates\n",
    "%time c = Candidates(ngrams, matcher, corpus.get_sentences())\n",
    "c.gold_stats(gold)"
   ]
  },
  {
   "cell_type": "markdown",
   "metadata": {},
   "source": [
    "### More coming here...\n",
    "\n",
    "We've increased the candidate recall (on the development set) by 7.3% using some simple compositional `Matcher` operators.  We'll be adding more here soon!"
   ]
  },
  {
   "cell_type": "markdown",
   "metadata": {},
   "source": [
    "## Connecting with the rest of the `DDLite` workflow\n",
    "\n",
    "We are in the process of a big code refactor!  For now, to connect the candidates derived as in above to the rest of the `DDLite` workflow, create a `CandidateExtractor` class as follows:"
   ]
  },
  {
   "cell_type": "code",
   "execution_count": null,
   "metadata": {
    "collapsed": true
   },
   "outputs": [],
   "source": [
    "from ddlite_matchers import CandidateExtractor\n",
    "ce = CandidateExtractor(ngrams, matcher)"
   ]
  },
  {
   "cell_type": "markdown",
   "metadata": {},
   "source": [
    "This object can now be used in place of the candidate extractors in the other tutorials!"
   ]
  }
 ],
 "metadata": {
  "kernelspec": {
   "display_name": "Python 2",
   "language": "python",
   "name": "python2"
  },
  "language_info": {
   "codemirror_mode": {
    "name": "ipython",
    "version": 2
   },
   "file_extension": ".py",
   "mimetype": "text/x-python",
   "name": "python",
   "nbconvert_exporter": "python",
   "pygments_lexer": "ipython2",
   "version": "2.7.10"
  }
 },
 "nbformat": 4,
 "nbformat_minor": 0
}
