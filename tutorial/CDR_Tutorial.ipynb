{
 "cells": [
  {
   "cell_type": "markdown",
   "metadata": {},
   "source": [
    "# Tutorial, Part I: Candidate Extraction\n",
    "\n",
    "In this example, we'll be writing an application to extract **chemical-induced-disease relationships** from Pubmed abstracts, as per the [BioCreative CDR Challenge](http://www.biocreative.org/resources/corpora/biocreative-v-cdr-corpus/).  At core, we will be constructing a model to classify _candidate chemical-disease (C-D) relation mentions_ as either true or false.  To do this, we first need a set of such candidates- in this notebook, we'll use `DDLite` utilities to extract these candidates."
   ]
  },
  {
   "cell_type": "markdown",
   "metadata": {},
   "source": [
    "## Loading the Corpus\n",
    "\n",
    "First, we will load and pre-process the corpus, storing it for convenience in a `Corpus` object"
   ]
  },
  {
   "cell_type": "markdown",
   "metadata": {},
   "source": [
    "### Configuring a document parser\n",
    "\n",
    "We'll start by defining a `DocParser` class to read in Pubmed abstracts from [Pubtator]([Pubtator](http://www.ncbi.nlm.nih.gov/CBBresearch/Lu/Demo/PubTator/index.cgi)), where they are stored along with \"gold\" (i.e. hand-annotated by experts) *chemical* and *disease mention* annotations. We'll use the `XMLDocParser` class, which allows us to use [XPath queries](https://en.wikipedia.org/wiki/XPath) to specify the relevant sections of the XML format.\n",
    "\n",
    "_Note that we are newline-concatenating text from the title and abstract together for simplicity, but if we wanted to, we could easily extend the `DocParser` classes to preserve information about document structure._"
   ]
  },
  {
   "cell_type": "code",
   "execution_count": 1,
   "metadata": {
    "collapsed": false
   },
   "outputs": [],
   "source": [
    "from ddlite_parser import XMLDocParser\n",
    "xml_parser = XMLDocParser(\n",
    "    path='data/CDR_DevelopmentSet.xml',\n",
    "    doc='.//document',\n",
    "    text='.//passage/text/text()',\n",
    "    id='.//id/text()',\n",
    "    keep_xml_tree=True)"
   ]
  },
  {
   "cell_type": "markdown",
   "metadata": {},
   "source": [
    "### Selecting a sentence parser\n",
    "\n",
    "Next, we'll use an NLP preprocessing tool to split the `Document` objects into sentences, tokens, and provide annotations--part-of-speech tags, dependency parse structure, lemmatized word forms, etc.--for these sentences.  Here we use the default `SentenceParser` class."
   ]
  },
  {
   "cell_type": "code",
   "execution_count": 2,
   "metadata": {
    "collapsed": false
   },
   "outputs": [],
   "source": [
    "from ddlite_parser import SentenceParser\n",
    "sent_parser = SentenceParser()"
   ]
  },
  {
   "cell_type": "markdown",
   "metadata": {},
   "source": [
    "### Pre-processing & loading the corpus\n",
    "\n",
    "Finally, we'll put this all together using a `Corpus` object, which will execute the parsers and store the results as an iterator:"
   ]
  },
  {
   "cell_type": "code",
   "execution_count": 3,
   "metadata": {
    "collapsed": false
   },
   "outputs": [
    {
     "name": "stdout",
     "output_type": "stream",
     "text": [
      "Parsing documents...\n",
      "Parsing sentences...\n"
     ]
    }
   ],
   "source": [
    "from ddlite_parser import Corpus\n",
    "corpus = Corpus(xml_parser, sent_parser)"
   ]
  },
  {
   "cell_type": "code",
   "execution_count": 4,
   "metadata": {
    "collapsed": false
   },
   "outputs": [
    {
     "name": "stdout",
     "output_type": "stream",
     "text": [
      "Document(id='6794356', file='CDR_DevelopmentSet.xml', text='Tricuspid valve regurgitation and lithium carbonate toxicity in a newborn infant.\\nA newborn with massive tricuspid regurgitation, atrial flutter, congestive heart failure, and a high serum lithium level is described. This is the first patient to initially manifest tricuspid regurgitation and atrial flutter, and the 11th described patient with cardiac disease among infants exposed to lithium compounds in the first trimester of pregnancy. Sixty-three percent of these infants had tricuspid valve involvement. Lithium carbonate may be a factor in the increasing incidence of congenital heart disease when taken during early pregnancy. It also causes neurologic depression, cyanosis, and cardiac arrhythmia when consumed prior to delivery.', attribs={'root': <Element document at 0x108093a50>})\n",
      "\n",
      "\n",
      "Sentence(id='6794356-0', words=[u'Tricuspid', u'valve', u'regurgitation', u'and', u'lithium', u'carbonate', u'toxicity', u'in', u'a', u'newborn', u'infant', u'.'], lemmas=[u'tricuspid', u'valve', u'regurgitation', u'and', u'lithium', u'carbonate', u'toxicity', u'in', u'a', u'newborn', u'infant', u'.'], poses=[u'JJ', u'NN', u'NN', u'CC', u'NN', u'NN', u'NN', u'IN', u'DT', u'JJ', u'NN', u'.'], dep_parents=[3, 3, 0, 3, 7, 7, 3, 11, 11, 11, 3, 3], dep_labels=[u'amod', u'compound', u'ROOT', u'cc', u'compound', u'compound', u'conj', u'case', u'det', u'amod', u'nmod', u'punct'], sent_id=0, doc_id='6794356', text=u'Tricuspid valve regurgitation and lithium carbonate toxicity in a newborn infant.', char_offsets=[0, 10, 16, 30, 34, 42, 52, 61, 64, 66, 74, 80], doc_name='CDR_DevelopmentSet.xml')\n"
     ]
    }
   ],
   "source": [
    "for doc, sentences in corpus:\n",
    "    print doc\n",
    "    print \"\\n\"\n",
    "    print sentences[0]\n",
    "    break"
   ]
  },
  {
   "cell_type": "markdown",
   "metadata": {},
   "source": [
    "## Writing a basic candidate extractor\n",
    "\n",
    "Next, we'll write a basic function to extract **candidate disease mentions** from the corpus.  For this first attempt, we'll just write a function that checks for matches against a list (or _\"dictionary\"_) of disease phrases, constructed using some pre-compiled ontologies ([UMLS](https://www.nlm.nih.gov/research/umls/), [ORDO](http://www.orphadata.org/cgi-bin/inc/ordo_orphanet.inc.php), [DOID](http://www.obofoundry.org/ontology/doid.html), [NCBI Diseases](http://www.ncbi.nlm.nih.gov/CBBresearch/Dogan/DISEASE/); see `tutorial/data/diseases.py`).\n",
    "\n",
    "We'll do this using a `CandidateSpace` object--which defines the basic candidates we consider, in this case n-grams up to a certain length--and a `Matcher` object, which filters this candidate space down."
   ]
  },
  {
   "cell_type": "code",
   "execution_count": 5,
   "metadata": {
    "collapsed": false
   },
   "outputs": [
    {
     "name": "stdout",
     "output_type": "stream",
     "text": [
      "Loaded 507899 disease phrases!\n"
     ]
    }
   ],
   "source": [
    "from load_dictionaries import load_disease_dictionary\n",
    "from ddlite_candidates import Ngrams\n",
    "from ddlite_matchers import DictionaryMatch\n",
    "\n",
    "# Load the disease phrase dictionary\n",
    "diseases = load_disease_dictionary()\n",
    "print \"Loaded %s disease phrases!\" % len(diseases)\n",
    "\n",
    "# Define a candidate space\n",
    "ngrams = Ngrams(n_max=3)\n",
    "\n",
    "# Define a matcher\n",
    "matcher = DictionaryMatch(d=diseases, longest_match_only=False)"
   ]
  },
  {
   "cell_type": "markdown",
   "metadata": {},
   "source": [
    "Note that we set `longest_match_only=False`, which means that we _will_ consider subsequences of phrases that match our dictionary.\n",
    "\n",
    "The `Ngrams` operator is applied over our `Sentence` objects and returns `Ngram` objects, and the `Matcher` then filters these, so we apply our operators over the corpus (also storing the results in our `Corpus` object):"
   ]
  },
  {
   "cell_type": "code",
   "execution_count": 6,
   "metadata": {
    "collapsed": false
   },
   "outputs": [
    {
     "data": {
      "text/plain": [
       "[<Ngram(\"blood pressure\", id=1969772-5:640-653, chars=[640,653], words=[2,3]),\n",
       " <Ngram(\"pressure\", id=1969772-5:646-653, chars=[646,653], words=[3,3]),\n",
       " <Ngram(\"anaesthesia\", id=1969772-5:925-935, chars=[925,935], words=[44,44]),\n",
       " <Ngram(\"hypotension\", id=1969772-4:562-572, chars=[562,572], words=[9,9]),\n",
       " <Ngram(\"Mean arterial pressure\", id=1969772-6:938-959, chars=[938,959], words=[0,2])]"
      ]
     },
     "execution_count": 6,
     "metadata": {},
     "output_type": "execute_result"
    }
   ],
   "source": [
    "corpus.extract_candidates(ngrams, matcher)\n",
    "candidates = list(corpus.iter_candidates())\n",
    "candidates[:5]"
   ]
  },
  {
   "cell_type": "markdown",
   "metadata": {},
   "source": [
    "## Evaluating our candidate recall on gold annotations\n",
    "\n",
    "Next, we'll test our _candidate recall_--in other words, how many of the true disease mentions we picked up in our candidate set--using the gold annotations in our dataset.\n",
    "\n",
    "The XML documents that we loaded using the `XMLDocParser` also contained annotations (this is why we kept the full xml tree using `keep_xml_tree=True`).  We'll load these annotations and map them to `Ngram` objects over our parsed sentences, that way we can easily compare our extracted candidate set with the gold annotations.  The code is fairly simple (see `tutorial/util.py`); note that we filter to only keep _disease_ annotations, and that the candidates should be uniquely identified by their `id` attribute:"
   ]
  },
  {
   "cell_type": "code",
   "execution_count": 12,
   "metadata": {
    "collapsed": false
   },
   "outputs": [],
   "source": [
    "from utils import collect_pubtator_annotations\n",
    "gold = []\n",
    "for doc, sents in corpus:\n",
    "    gold += [a for a in collect_pubtator_annotations(doc, sents) if a.metadata['type'] == 'Disease']\n",
    "gold = frozenset(gold)"
   ]
  },
  {
   "cell_type": "markdown",
   "metadata": {},
   "source": [
    "Now, we can get candidate recall using simple set operations (note that the candidates are identified based on their `id` attribute):"
   ]
  },
  {
   "cell_type": "code",
   "execution_count": 13,
   "metadata": {
    "collapsed": false
   },
   "outputs": [
    {
     "name": "stdout",
     "output_type": "stream",
     "text": [
      "# of candidates\t\t= 6944\n",
      "Candidate recall\t= 0.716\n",
      "Candidate precision\t= 0.438\n"
     ]
    }
   ],
   "source": [
    "def print_candidate_stats(candidates, gold):\n",
    "    nc = len(candidates)\n",
    "    ng = len(gold)\n",
    "    print \"# of candidates\\t\\t= %s\" % nc\n",
    "    print \"Candidate recall\\t= %0.3f\" % (len(gold.intersection(candidates)) / float(ng),)\n",
    "    print \"Candidate precision\\t= %0.3f\" % (len(gold.intersection(candidates)) / float(nc),)\n",
    "\n",
    "print_candidate_stats(candidates, gold)"
   ]
  },
  {
   "cell_type": "markdown",
   "metadata": {},
   "source": [
    "We note that our focus in this stage is on **acheiving high candidate recall, without considering an impractically large candidate set**.  Our main focus after this stage will be on training a classifier to select which candidates are true; this will raise precision while hopefully keeping recall high.  _Note however that candidate recall is an upper bound for the recall of this classifier!_\n",
    "\n",
    "So, we have some work to do."
   ]
  },
  {
   "cell_type": "markdown",
   "metadata": {},
   "source": [
    "## Using the `Viewer` to inspect data\n",
    "\n",
    "Next, we'll take a random set of all the sentences where there are gold annotations not in our candidate set, and use the `Viewer` class--here, specifically, the `SentenceNgramViewer`--to inspect the data"
   ]
  },
  {
   "cell_type": "code",
   "execution_count": 22,
   "metadata": {
    "collapsed": true
   },
   "outputs": [],
   "source": [
    "from random import sample\n",
    "\n",
    "# Collect indexed by sentence id\n",
    "candidates_by_sid = defaultdict(list)\n",
    "gold_by_sid       = defaultdict(list)\n",
    "sentences_by_sid  = {}\n",
    "for c in corpus.iter_candidates():\n",
    "    candidates_by_sid[c.sent_id].append(c)\n",
    "for g in gold:\n",
    "    gold_by_sid[g.sent_id].append(g)\n",
    "for s in corpus.iter_sentences():\n",
    "    sentences_by_sid[s.id] = s\n",
    "    \n",
    "# Take random sample\n",
    "NS_MAX = 100\n",
    "sids   = gold_by_sid.keys()\n",
    "shuffle(sids)\n",
    "sents_sample = []\n",
    "cands_sample = []\n",
    "gold_sample  = []  \n",
    "for sid in sids:\n",
    "    if len(candidates_by_sid[sid]) < len(gold_by_sid[sid]):\n",
    "        sents_sample.append(sentences_by_sid[sid])\n",
    "        cands_sample += candidates_by_sid[sid]\n",
    "        gold_sample  += gold_by_sid[sid]\n",
    "        if len(sents_sample) == NS_MAX:\n",
    "            break"
   ]
  },
  {
   "cell_type": "markdown",
   "metadata": {},
   "source": [
    "## TO-DO:\n",
    "\n",
    "### Clean the above up by extending `Corpus` object!\n",
    "\n",
    "### Split into a `Candidates` object?"
   ]
  },
  {
   "cell_type": "code",
   "execution_count": 28,
   "metadata": {
    "collapsed": false,
    "scrolled": true
   },
   "outputs": [
    {
     "data": {
      "text/html": [
       "<link href=\"../viewer/bootstrap/css/bootstrap.min.css\" rel=\"stylesheet\" />\n",
       "<link href=\"../viewer/viewer.css\" type=\"text/css\" rel=\"stylesheet\" />\n",
       "<div id=\"viewer-9458\" class=\"viewer-pane panel panel-default\" tabindex=\"0\">\n",
       "    <div class=\"panel-heading\">\n",
       "        <h3 class=\"panel-title\">Viewer</h3>\n",
       "        <div id=\"candidate-caption-9458\" class=\"panel-left-justify\"></div>\n",
       "    </div>\n",
       "    <div class=\"panel-body\" style=\"height:225px\">\n",
       "        <div class=\"viewer-page viewer-page-9458\" id=\"viewer-page-9458-0\" data-nc=\"1\">\n",
       "            <ul class=\"list-group\">\n",
       "        <li class=\"list-group-item\" data-toggle=\"tooltip\" data-placement=\"top\" title=\"17241657-1\"><span class=\"\">Earlier studies have demonstrated that antagonism of sigma1 receptors attenuates the </span><span class=\"gold-annotation\">convulsive</span><span class=\"\">, lethal, locomotor stimulatory and rewarding actions of cocaine in mice.</span></li>\n",
       "        \n",
       "        <li class=\"list-group-item\" data-toggle=\"tooltip\" data-placement=\"top\" title=\"3653576-4\"><span class=\"\">The latter was characterized by a pronounced increase in </span><span class=\"gold-annotation\">protein excretion</span><span class=\"\">, especially proteins with molecular weight greater than 40,000 Da.</span></li>\n",
       "        \n",
       "        <li class=\"list-group-item\" data-toggle=\"tooltip\" data-placement=\"top\" title=\"2466960-4\"><div class=\"candidate-data\" id=\"cdata-9458-0-0\" caption=\"CID: 2466960-4:603-608\"></div><span class=\"gold-annotation\">Anginal</span><span class=\"\"> episodes were rare: only one patient had </span><span class=\"candidate gold-annotation c-9458-0-0\">angina</span><span class=\"\"> (during 5-FU infusion).</span></li>\n",
       "        </ul>\n",
       "        </div>\n",
       "        \n",
       "        <div class=\"viewer-page viewer-page-9458\" id=\"viewer-page-9458-1\" data-nc=\"0\">\n",
       "            <ul class=\"list-group\">\n",
       "        <li class=\"list-group-item\" data-toggle=\"tooltip\" data-placement=\"top\" title=\"17682013-10\"><span class=\"\">However, fluid attenuated inversion recovery (FLAIR) sequences frequently revealed persistent </span><span class=\"gold-annotation\">white matter abnormalities</span><span class=\"\">.</span></li>\n",
       "        \n",
       "        <li class=\"list-group-item\" data-toggle=\"tooltip\" data-placement=\"top\" title=\"8384253-2\"><span class=\"\">The patients were interviewed with emphasis on </span><span class=\"gold-annotation\">neuropathic symptoms</span><span class=\"\">.</span></li>\n",
       "        \n",
       "        <li class=\"list-group-item\" data-toggle=\"tooltip\" data-placement=\"top\" title=\"6769133-0\"><span class=\"gold-annotation\">Cardiotoxic</span><span class=\"\"> and possible leukemogenic effects of adriamycin in nonhuman primates.</span></li>\n",
       "        </ul>\n",
       "        </div>\n",
       "        \n",
       "        <div class=\"viewer-page viewer-page-9458\" id=\"viewer-page-9458-2\" data-nc=\"0\">\n",
       "            <ul class=\"list-group\">\n",
       "        <li class=\"list-group-item\" data-toggle=\"tooltip\" data-placement=\"top\" title=\"18627295-1\"><span class=\"\">Clinical use of the anthracycline doxorubicin (DOX) is limited by its </span><span class=\"gold-annotation\">cardiotoxic</span><span class=\"\"> effects, which are attributed to the induction of apoptosis.</span></li>\n",
       "        \n",
       "        <li class=\"list-group-item\" data-toggle=\"tooltip\" data-placement=\"top\" title=\"8106150-4\"><span class=\"\">A series of agents acting primarily on neurotransmitters other than dopamine were then tested in combination with L-DOPA to see if the </span><span class=\"gold-annotation\">dyskinetic</span><span class=\"\"> movements would be modified.</span></li>\n",
       "        \n",
       "        <li class=\"list-group-item\" data-toggle=\"tooltip\" data-placement=\"top\" title=\"20394767-1\"><span class=\"\">RATIONALE AND OBJECTIVES: The light-enhanced </span><span class=\"gold-annotation\">startle</span><span class=\"\"> paradigm (LES) is suggested to model </span><span class=\"gold-annotation\">anxiety</span><span class=\"\">, because of the non-specific cue and the long-term effect.</span></li>\n",
       "        </ul>\n",
       "        </div>\n",
       "        \n",
       "        <div class=\"viewer-page viewer-page-9458\" id=\"viewer-page-9458-3\" data-nc=\"1\">\n",
       "            <ul class=\"list-group\">\n",
       "        <li class=\"list-group-item\" data-toggle=\"tooltip\" data-placement=\"top\" title=\"11912119-0\"><div class=\"candidate-data\" id=\"cdata-9458-3-0\" caption=\"CID: 11912119-0:63-69\"></div><span class=\"\">Force overflow and levodopa-induced </span><span class=\"gold-annotation\">dyskinesias</span><span class=\"\"> in </span><span class=\"gold-annotation\">Parkinson's </span><span class=\"candidate gold-annotation c-9458-3-0\">disease</span><span class=\"\">.</span></li>\n",
       "        \n",
       "        <li class=\"list-group-item\" data-toggle=\"tooltip\" data-placement=\"top\" title=\"9672273-13\"><span class=\"\">There is no difference in </span><span class=\"gold-annotation\">breast-cancer</span><span class=\"\"> frequency between the placebo (22 cases) and tamoxifen (19) arms.</span></li>\n",
       "        \n",
       "        <li class=\"list-group-item\" data-toggle=\"tooltip\" data-placement=\"top\" title=\"2322844-3\"><span class=\"\">Prostaglandin E2 showed a </span><span class=\"gold-annotation\">hyperalgesic</span><span class=\"\"> effect at doses of 1 pg to 10 ng/mouse, but the effect lasted shorter (3-30 min) than that of prostaglandin D2.</span></li>\n",
       "        </ul>\n",
       "        </div>\n",
       "        \n",
       "        <div class=\"viewer-page viewer-page-9458\" id=\"viewer-page-9458-4\" data-nc=\"2\">\n",
       "            <ul class=\"list-group\">\n",
       "        <li class=\"list-group-item\" data-toggle=\"tooltip\" data-placement=\"top\" title=\"6728084-0\"><span class=\"gold-annotation\">Nephrotoxic</span><span class=\"\"> effects of aminoglycoside treatment on renal protein reabsorption and accumulation.</span></li>\n",
       "        \n",
       "        <li class=\"list-group-item\" data-toggle=\"tooltip\" data-placement=\"top\" title=\"20552622-8\"><span class=\"\">This article summarizes all the cases published, creating a comprehensive review of the current knowledge and approach to </span><span class=\"gold-annotation\">SIAT</span><span class=\"\">.</span></li>\n",
       "        \n",
       "        <li class=\"list-group-item\" data-toggle=\"tooltip\" data-placement=\"top\" title=\"11999899-11\"><div class=\"candidate-data\" id=\"cdata-9458-4-0\" caption=\"CID: 11999899-11:1661-1678\"></div><div class=\"candidate-data\" id=\"cdata-9458-4-1\" caption=\"CID: 11999899-11:1720-1727\"></div><span class=\"\">These results show that reserpine produces different and </span><span class=\"candidate gold-annotation c-9458-4-0\">abnormal movements</span><span class=\"\">, which are related to dose and schedule </span><span class=\"candidate c-9458-4-1\">employed</span><span class=\"\"> and can be considered as </span><span class=\"gold-annotation\">parkinsonian</span><span class=\"\">-like and </span><span class=\"gold-annotation\">tardive dsykinesia</span><span class=\"\"> signs.</span></li>\n",
       "        </ul>\n",
       "        </div>\n",
       "        \n",
       "        <div class=\"viewer-page viewer-page-9458\" id=\"viewer-page-9458-5\" data-nc=\"0\">\n",
       "            <ul class=\"list-group\">\n",
       "        <li class=\"list-group-item\" data-toggle=\"tooltip\" data-placement=\"top\" title=\"133615-12\"><span class=\"\">Previous studies suggested the possiblility of increased propensity for </span><span class=\"gold-annotation\">thromboembolic episodes</span><span class=\"\"> in patients possessing the A antigen.</span></li>\n",
       "        \n",
       "        <li class=\"list-group-item\" data-toggle=\"tooltip\" data-placement=\"top\" title=\"16600756-2\"><span class=\"\">We investigated changes in urinary NGF and PGs in women with </span><span class=\"gold-annotation\">OAB</span><span class=\"\">.</span></li>\n",
       "        \n",
       "        <li class=\"list-group-item\" data-toggle=\"tooltip\" data-placement=\"top\" title=\"3780814-3\"><span class=\"\">After the end of the treatment, the number and the size of induced PAS positive </span><span class=\"gold-annotation\">preneoplastic foci</span><span class=\"\"> was significantly reduced when PB was given simultaneously with DEN for 4 and 6 weeks.</span></li>\n",
       "        </ul>\n",
       "        </div>\n",
       "        \n",
       "        <div class=\"viewer-page viewer-page-9458\" id=\"viewer-page-9458-6\" data-nc=\"3\">\n",
       "            <ul class=\"list-group\">\n",
       "        <li class=\"list-group-item\" data-toggle=\"tooltip\" data-placement=\"top\" title=\"17682013-0\"><div class=\"candidate-data\" id=\"cdata-9458-6-0\" caption=\"CID: 17682013-0:8-26\"></div><span class=\"\">Delayed </span><span class=\"candidate gold-annotation c-9458-6-0\">leukoencephalopathy</span><span class=\"\"> with </span><span class=\"gold-annotation\">stroke</span><span class=\"\">-like presentation in chemotherapy recipients.</span></li>\n",
       "        \n",
       "        <li class=\"list-group-item\" data-toggle=\"tooltip\" data-placement=\"top\" title=\"14633084-10\"><span class=\"\">However, the replacement of last two doses of mesna with saline or all of the mesna doses with dexamethasone did not prevent </span><span class=\"gold-annotation\">HC</span><span class=\"\">.</span></li>\n",
       "        \n",
       "        <li class=\"list-group-item\" data-toggle=\"tooltip\" data-placement=\"top\" title=\"15266362-6\"><div class=\"candidate-data\" id=\"cdata-9458-6-1\" caption=\"CID: 15266362-6:756-771\"></div><div class=\"candidate-data\" id=\"cdata-9458-6-2\" caption=\"CID: 15266362-6:788-798\"></div><span class=\"\">It is likely that the </span><span class=\"candidate gold-annotation c-9458-6-1\">hypersensitivity</span><span class=\"\"> (</span><span class=\"gold-annotation\">eosinophilic</span><span class=\"\">) </span><span class=\"candidate gold-annotation c-9458-6-2\">myocarditis</span><span class=\"\"> was related to dobutamine infusion therapy.</span></li>\n",
       "        </ul>\n",
       "        </div>\n",
       "        \n",
       "        <div class=\"viewer-page viewer-page-9458\" id=\"viewer-page-9458-7\" data-nc=\"2\">\n",
       "            <ul class=\"list-group\">\n",
       "        <li class=\"list-group-item\" data-toggle=\"tooltip\" data-placement=\"top\" title=\"458486-4\"><span class=\"\">These results fail to support the notion that levodopa-induced </span><span class=\"gold-annotation\">dyskinesias</span><span class=\"\"> are caused by overstimulation of a separate group of dopamine receptors.</span></li>\n",
       "        \n",
       "        <li class=\"list-group-item\" data-toggle=\"tooltip\" data-placement=\"top\" title=\"11860278-2\"><div class=\"candidate-data\" id=\"cdata-9458-7-0\" caption=\"CID: 11860278-2:345-352\"></div><span class=\"gold-annotation\">Excitotoxicity</span><span class=\"\"> leading to neuronal cell death in the affected areas is a major consequence of </span><span class=\"candidate gold-annotation c-9458-7-0\">seizures</span><span class=\"\"> at the cellular level.</span></li>\n",
       "        \n",
       "        <li class=\"list-group-item\" data-toggle=\"tooltip\" data-placement=\"top\" title=\"11912119-5\"><div class=\"candidate-data\" id=\"cdata-9458-7-1\" caption=\"CID: 11912119-5:720-726\"></div><span class=\"\">In </span><span class=\"gold-annotation\">Parkinson's </span><span class=\"candidate gold-annotation c-9458-7-1\">disease</span><span class=\"\"> + </span><span class=\"gold-annotation\">LID</span><span class=\"\">, the force involved in pressing down the object before lifting was significantly increased by levodopa (by 61%, P < 0.05).</span></li>\n",
       "        </ul>\n",
       "        </div>\n",
       "        \n",
       "        <div class=\"viewer-page viewer-page-9458\" id=\"viewer-page-9458-8\" data-nc=\"1\">\n",
       "            <ul class=\"list-group\">\n",
       "        <li class=\"list-group-item\" data-toggle=\"tooltip\" data-placement=\"top\" title=\"11868798-9\"><div class=\"candidate-data\" id=\"cdata-9458-8-0\" caption=\"CID: 11868798-9:1442-1452\"></div><span class=\"\">CONCLUSION: This study showed that spironolactone can reduce potassium requirements and prevent </span><span class=\"candidate gold-annotation c-9458-8-0\">hypokalemia</span><span class=\"\"> by reducing urinary potassium loss in </span><span class=\"gold-annotation\">neutropenic</span><span class=\"\"> patients on AmB treatment.</span></li>\n",
       "        \n",
       "        <li class=\"list-group-item\" data-toggle=\"tooltip\" data-placement=\"top\" title=\"12571256-2\"><span class=\"\">Whether iso-osmolar contrast medium is less </span><span class=\"gold-annotation\">nephrotoxic</span><span class=\"\"> than low-osmolar contrast medium in high-risk patients is uncertain.</span></li>\n",
       "        \n",
       "        <li class=\"list-group-item\" data-toggle=\"tooltip\" data-placement=\"top\" title=\"11705128-3\"><span class=\"\">The objective of this study was to evaluate the direct health-care costs and management of </span><span class=\"gold-annotation\">RIHA</span><span class=\"\"> during treatment of </span><span class=\"gold-annotation\">CHC</span><span class=\"\"> in a clinical trial setting.</span></li>\n",
       "        </ul>\n",
       "        </div>\n",
       "        \n",
       "        <div class=\"viewer-page viewer-page-9458\" id=\"viewer-page-9458-9\" data-nc=\"2\">\n",
       "            <ul class=\"list-group\">\n",
       "        <li class=\"list-group-item\" data-toggle=\"tooltip\" data-placement=\"top\" title=\"20552622-7\"><span class=\"\">Fewer than 50 cases of </span><span class=\"gold-annotation\">SIAT</span><span class=\"\"> have been described in the literature.</span></li>\n",
       "        \n",
       "        <li class=\"list-group-item\" data-toggle=\"tooltip\" data-placement=\"top\" title=\"8665051-10\"><div class=\"candidate-data\" id=\"cdata-9458-9-0\" caption=\"CID: 8665051-10:1403-1409\"></div><div class=\"candidate-data\" id=\"cdata-9458-9-1\" caption=\"CID: 8665051-10:1465-1471\"></div><span class=\"\">ATPase staining of the diaphragm, scalenus medius, and gastrocnemius showed type IIb fiber </span><span class=\"candidate gold-annotation c-9458-9-0\">atrophy</span><span class=\"\"> in the steroid groups and also diaphragmatic type IIa </span><span class=\"candidate gold-annotation c-9458-9-1\">atrophy</span><span class=\"\"> with T, whereas histologic examinations revealed a normal muscular pattern with absence of </span><span class=\"gold-annotation\">necrosis</span><span class=\"\">.</span></li>\n",
       "        \n",
       "        <li class=\"list-group-item\" data-toggle=\"tooltip\" data-placement=\"top\" title=\"8106150-1\"><span class=\"\">A group of four monkeys was rendered </span><span class=\"gold-annotation\">parkinsonian</span><span class=\"\"> with the toxin MPTP.</span></li>\n",
       "        </ul>\n",
       "        </div>\n",
       "        \n",
       "        <div class=\"viewer-page viewer-page-9458\" id=\"viewer-page-9458-10\" data-nc=\"3\">\n",
       "            <ul class=\"list-group\">\n",
       "        <li class=\"list-group-item\" data-toggle=\"tooltip\" data-placement=\"top\" title=\"3653576-2\"><div class=\"candidate-data\" id=\"cdata-9458-10-0\" caption=\"CID: 3653576-2:383-396\"></div><span class=\"\">Several routine indicators of </span><span class=\"candidate gold-annotation c-9458-10-0\">nephrotoxicity</span><span class=\"\">, the enzymes alkaline phosphatase and N-acetyl-beta-glucosaminidase, and the molecular weight of </span><span class=\"gold-annotation\">protein excretion</span><span class=\"\"> were determined on urine samples.</span></li>\n",
       "        \n",
       "        <li class=\"list-group-item\" data-toggle=\"tooltip\" data-placement=\"top\" title=\"6504332-1\"><div class=\"candidate-data\" id=\"cdata-9458-10-1\" caption=\"CID: 6504332-1:133-142\"></div><div class=\"candidate-data\" id=\"cdata-9458-10-2\" caption=\"CID: 6504332-1:190-197\"></div><span class=\"\">A 2-year-old child with known </span><span class=\"gold-annotation\">neurologic impairment</span><span class=\"\"> developed a </span><span class=\"candidate gold-annotation c-9458-10-1\">dyskinesia</span><span class=\"\"> soon after starting phenobarbital therapy for </span><span class=\"candidate gold-annotation c-9458-10-2\">seizures</span><span class=\"\">.</span></li>\n",
       "        \n",
       "        <li class=\"list-group-item\" data-toggle=\"tooltip\" data-placement=\"top\" title=\"11208990-10\"><span class=\"\">In the IPRK phenylephrine and acetylcholine related responses were significantly impaired in the ADR-</span><span class=\"gold-annotation\">nephropathy</span><span class=\"\"> group.</span></li>\n",
       "        </ul>\n",
       "        </div>\n",
       "        \n",
       "        <div class=\"viewer-page viewer-page-9458\" id=\"viewer-page-9458-11\" data-nc=\"0\">\n",
       "            <ul class=\"list-group\">\n",
       "        <li class=\"list-group-item\" data-toggle=\"tooltip\" data-placement=\"top\" title=\"15266215-6\"><span class=\"\">The risk of serious </span><span class=\"gold-annotation\">thrombotic</span><span class=\"\"> events was also similar for each valdecoxib dose.</span></li>\n",
       "        \n",
       "        <li class=\"list-group-item\" data-toggle=\"tooltip\" data-placement=\"top\" title=\"761833-7\"><span class=\"\">These results provide a reasonable explanation for the beneficial effects observed in some </span><span class=\"gold-annotation\">encephalopathic</span><span class=\"\"> patients receiving L-dopa.</span></li>\n",
       "        \n",
       "        <li class=\"list-group-item\" data-toggle=\"tooltip\" data-placement=\"top\" title=\"11705128-12\"><span class=\"\">CONCLUSIONS: The direct cost of treating clinically significant </span><span class=\"gold-annotation\">RIHA</span><span class=\"\"> is 1% ( 170/ 16,459) of drug treatment costs.</span></li>\n",
       "        </ul>\n",
       "        </div>\n",
       "        \n",
       "        <div class=\"viewer-page viewer-page-9458\" id=\"viewer-page-9458-12\" data-nc=\"1\">\n",
       "            <ul class=\"list-group\">\n",
       "        <li class=\"list-group-item\" data-toggle=\"tooltip\" data-placement=\"top\" title=\"16710500-5\"><span class=\"\">The </span><span class=\"gold-annotation\">visual field loss</span><span class=\"\"> had a bitemporal flavour, suggesting involvement of the optic chiasm.</span></li>\n",
       "        \n",
       "        <li class=\"list-group-item\" data-toggle=\"tooltip\" data-placement=\"top\" title=\"14633084-2\"><span class=\"\">In the study presented here, we investigated the use of dexamethasone in combination with mesna for the prevention of IFS-induced </span><span class=\"gold-annotation\">HC</span><span class=\"\">.</span></li>\n",
       "        \n",
       "        <li class=\"list-group-item\" data-toggle=\"tooltip\" data-placement=\"top\" title=\"18657397-7\"><div class=\"candidate-data\" id=\"cdata-9458-12-0\" caption=\"CID: 18657397-7:1088-1092\"></div><span class=\"\">Our results show that the most affected frequency bands were </span><span class=\"candidate c-9458-12-0\">delta</span><span class=\"\">, theta, beta-2 and gamma-2 bands during the </span><span class=\"gold-annotation\">epileptiform activity</span><span class=\"\"> and there were marked differences in terms of spectral densities between three investigated episodes (basal activity, latent period and </span><span class=\"gold-annotation\">epileptiform activity</span><span class=\"\">).</span></li>\n",
       "        </ul>\n",
       "        </div>\n",
       "        \n",
       "        <div class=\"viewer-page viewer-page-9458\" id=\"viewer-page-9458-13\" data-nc=\"0\">\n",
       "            <ul class=\"list-group\">\n",
       "        <li class=\"list-group-item\" data-toggle=\"tooltip\" data-placement=\"top\" title=\"133615-0\"><span class=\"\">Progestational agents and </span><span class=\"gold-annotation\">blood coagulation</span><span class=\"\">.</span></li>\n",
       "        \n",
       "        <li class=\"list-group-item\" data-toggle=\"tooltip\" data-placement=\"top\" title=\"3961813-4\"><span class=\"gold-annotation\">Neurotoxic</span><span class=\"\"> esterase activities 24 hr after TOTP or DFP were less than 20% of values measured in chickens not given organophosphorous compounds.</span></li>\n",
       "        \n",
       "        <li class=\"list-group-item\" data-toggle=\"tooltip\" data-placement=\"top\" title=\"11099450-1\"><span class=\"\">The objective of this study was to explore the functional anatomy of the globus pallidus internus (GPi) by studying the effects of unilateral pallidotomy on </span><span class=\"gold-annotation\">parkinsonian</span><span class=\"\"> 'off' signs and levodopa-induced </span><span class=\"gold-annotation\">dyskinesias</span><span class=\"\"> (</span><span class=\"gold-annotation\">LID</span><span class=\"\">).</span></li>\n",
       "        </ul>\n",
       "        </div>\n",
       "        \n",
       "        <div class=\"viewer-page viewer-page-9458\" id=\"viewer-page-9458-14\" data-nc=\"2\">\n",
       "            <ul class=\"list-group\">\n",
       "        <li class=\"list-group-item\" data-toggle=\"tooltip\" data-placement=\"top\" title=\"11912119-4\"><div class=\"candidate-data\" id=\"cdata-9458-14-0\" caption=\"CID: 11912119-4:685-691\"></div><span class=\"\">A pathological increase of forces was seen in ON-state in </span><span class=\"gold-annotation\">Parkinson's </span><span class=\"candidate gold-annotation c-9458-14-0\">disease</span><span class=\"\"> + </span><span class=\"gold-annotation\">LID</span><span class=\"\"> only.</span></li>\n",
       "        \n",
       "        <li class=\"list-group-item\" data-toggle=\"tooltip\" data-placement=\"top\" title=\"17344330-14\"><div class=\"candidate-data\" id=\"cdata-9458-14-1\" caption=\"CID: 17344330-14:1748-1754\"></div><span class=\"\">CONCLUSIONS: Methadone is associated with </span><span class=\"gold-annotation\">QT prolongation</span><span class=\"\"> and higher reporting of </span><span class=\"candidate gold-annotation c-9458-14-1\">syncope</span><span class=\"\"> in a population of heroin addicts.</span></li>\n",
       "        \n",
       "        <li class=\"list-group-item\" data-toggle=\"tooltip\" data-placement=\"top\" title=\"1535072-3\"><span class=\"\">This study evaluated yohimbine as a treatment for the </span><span class=\"gold-annotation\">sexual side effects</span><span class=\"\"> caused by serotonin reuptake blockers.</span></li>\n",
       "        </ul>\n",
       "        </div>\n",
       "        \n",
       "        <div class=\"viewer-page viewer-page-9458\" id=\"viewer-page-9458-15\" data-nc=\"0\">\n",
       "            <ul class=\"list-group\">\n",
       "        <li class=\"list-group-item\" data-toggle=\"tooltip\" data-placement=\"top\" title=\"9061311-6\"><span class=\"\">Superoxide and hydrogen peroxide production in neutrophils stimulated with formyl-methionyl-leucyl-phenylalanine (fMLP) from a further 18 </span><span class=\"gold-annotation\">ALF</span><span class=\"\"> patients was unaffected compared with control neutrophils.</span></li>\n",
       "        \n",
       "        <li class=\"list-group-item\" data-toggle=\"tooltip\" data-placement=\"top\" title=\"1636026-7\"><span class=\"\">In summary, suprofen causes </span><span class=\"gold-annotation\">acute declines in renal function</span><span class=\"\">, most likely by directly altering the intrarenal distribution of uric acid.</span></li>\n",
       "        \n",
       "        <li class=\"list-group-item\" data-toggle=\"tooltip\" data-placement=\"top\" title=\"7910951-8\"><span class=\"\">A muscle biopsy in this patient showed </span><span class=\"gold-annotation\">loss of thick, myosin filaments</span><span class=\"\">.</span></li>\n",
       "        </ul>\n",
       "        </div>\n",
       "        \n",
       "        <div class=\"viewer-page viewer-page-9458\" id=\"viewer-page-9458-16\" data-nc=\"1\">\n",
       "            <ul class=\"list-group\">\n",
       "        <li class=\"list-group-item\" data-toggle=\"tooltip\" data-placement=\"top\" title=\"16596970-11\"><span class=\"\">This impairment may explain one cause of </span><span class=\"gold-annotation\">impaired auditory location discrimination</span><span class=\"\"> in humans.</span></li>\n",
       "        \n",
       "        <li class=\"list-group-item\" data-toggle=\"tooltip\" data-placement=\"top\" title=\"12851669-5\"><span class=\"\">RESULTS: During the time frame of the study, 330 women were found to have had </span><span class=\"gold-annotation\">VTE</span><span class=\"\"> while on COCs.</span></li>\n",
       "        \n",
       "        <li class=\"list-group-item\" data-toggle=\"tooltip\" data-placement=\"top\" title=\"20552622-9\"><div class=\"candidate-data\" id=\"cdata-9458-16-0\" caption=\"CID: 20552622-9:949-958\"></div><span class=\"\">It discusses demographics, clinical characteristics and types of </span><span class=\"candidate gold-annotation c-9458-16-0\">arrhythmia</span><span class=\"\">, postulated mechanisms of </span><span class=\"gold-annotation\">SIAT</span><span class=\"\">, and different treatment possibilities such as medications, surgery, and radiofrequency catheter ablation (RFCA).</span></li>\n",
       "        </ul>\n",
       "        </div>\n",
       "        \n",
       "        <div class=\"viewer-page viewer-page-9458\" id=\"viewer-page-9458-17\" data-nc=\"0\">\n",
       "            <ul class=\"list-group\">\n",
       "        <li class=\"list-group-item\" data-toggle=\"tooltip\" data-placement=\"top\" title=\"11208990-12\"><span class=\"\">However, in the ADR-</span><span class=\"gold-annotation\">nephropathy</span><span class=\"\"> group, numerous apoptotic cells were identified in the tubulointerstitial areas.</span></li>\n",
       "        \n",
       "        <li class=\"list-group-item\" data-toggle=\"tooltip\" data-placement=\"top\" title=\"8106150-5\"><span class=\"\">Several drugs, including clonidine, physostigmine, methysergide, 5-MDOT, propranolol, and MK-801, markedly reduced the </span><span class=\"gold-annotation\">dyskinetic</span><span class=\"\"> movements but at the cost of a return of </span><span class=\"gold-annotation\">parkinsonian</span><span class=\"\"> symptomatology.</span></li>\n",
       "        \n",
       "        <li class=\"list-group-item\" data-toggle=\"tooltip\" data-placement=\"top\" title=\"8475949-7\"><span class=\"\">When </span><span class=\"gold-annotation\">QTc interval prolongation</span><span class=\"\"> is observed, early magnesium supplementation is advocated.</span></li>\n",
       "        </ul>\n",
       "        </div>\n",
       "        \n",
       "        <div class=\"viewer-page viewer-page-9458\" id=\"viewer-page-9458-18\" data-nc=\"4\">\n",
       "            <ul class=\"list-group\">\n",
       "        <li class=\"list-group-item\" data-toggle=\"tooltip\" data-placement=\"top\" title=\"17574447-0\"><div class=\"candidate-data\" id=\"cdata-9458-18-0\" caption=\"CID: 17574447-0:19-29\"></div><span class=\"gold-annotation\">Hepatonecrosis</span><span class=\"\"> and </span><span class=\"candidate gold-annotation c-9458-18-0\">cholangitis</span><span class=\"\"> related to long-term phenobarbital therapy: an autopsy report of two patients.</span></li>\n",
       "        \n",
       "        <li class=\"list-group-item\" data-toggle=\"tooltip\" data-placement=\"top\" title=\"7197363-2\"><div class=\"candidate-data\" id=\"cdata-9458-18-1\" caption=\"CID: 7197363-2:293-326\"></div><div class=\"candidate-data\" id=\"cdata-9458-18-2\" caption=\"CID: 7197363-2:313-326\"></div><div class=\"candidate-data\" id=\"cdata-9458-18-3\" caption=\"CID: 7197363-2:449-456\"></div><span class=\"\">Forty-eight hr of </span><span class=\"gold-annotation\">REMD</span><span class=\"\"> increased </span><span class=\"candidate c-9458-18-1\">apomorphine-induced </span><span class=\"candidate gold-annotation c-9458-18-1 c-9458-18-2\">aggressiveness</span><span class=\"\">, and reduced (immediately after completing of </span><span class=\"gold-annotation\">REMD</span><span class=\"\">) or increased (96 hr after completing of </span><span class=\"gold-annotation\">REMD</span><span class=\"\">) quipazine-induced </span><span class=\"gold-annotation\">head </span><span class=\"candidate gold-annotation c-9458-18-3\">twitches</span><span class=\"\">.</span></li>\n",
       "        \n",
       "        <li class=\"list-group-item\" data-toggle=\"tooltip\" data-placement=\"top\" title=\"9326871-6\"><span class=\"\">The </span><span class=\"gold-annotation\">dysrhythmias</span><span class=\"\"> resolved after discontinuation of the drug.</span></li>\n",
       "        </ul>\n",
       "        </div>\n",
       "        \n",
       "        <div class=\"viewer-page viewer-page-9458\" id=\"viewer-page-9458-19\" data-nc=\"1\">\n",
       "            <ul class=\"list-group\">\n",
       "        <li class=\"list-group-item\" data-toggle=\"tooltip\" data-placement=\"top\" title=\"17965424-11\"><span class=\"\">CONCLUSIONS: Etoricoxib 90 mg demonstrated a significantly lower risk for discontinuing treatment due to </span><span class=\"gold-annotation\">GI AEs</span><span class=\"\"> compared with diclofenac 150 mg.</span></li>\n",
       "        \n",
       "        <li class=\"list-group-item\" data-toggle=\"tooltip\" data-placement=\"top\" title=\"9523850-2\"><div class=\"candidate-data\" id=\"cdata-9458-19-0\" caption=\"CID: 9523850-2:312-319\"></div><span class=\"\">In 40% of treated patients, an </span><span class=\"gold-annotation\">arthralgia</span><span class=\"\">-</span><span class=\"gold-annotation\">myalgia</span><span class=\"\"> </span><span class=\"candidate c-9458-19-0\">syndrome</span><span class=\"\"> develops.</span></li>\n",
       "        \n",
       "        <li class=\"list-group-item\" data-toggle=\"tooltip\" data-placement=\"top\" title=\"12600698-0\"><span class=\"\">Protective effect of edaravone against streptomycin-induced </span><span class=\"gold-annotation\">vestibulotoxicity</span><span class=\"\"> in the guinea pig.</span></li>\n",
       "        </ul>\n",
       "        </div>\n",
       "        \n",
       "        <div class=\"viewer-page viewer-page-9458\" id=\"viewer-page-9458-20\" data-nc=\"3\">\n",
       "            <ul class=\"list-group\">\n",
       "        <li class=\"list-group-item\" data-toggle=\"tooltip\" data-placement=\"top\" title=\"11099450-6\"><div class=\"candidate-data\" id=\"cdata-9458-20-0\" caption=\"CID: 11099450-6:1520-1531\"></div><span class=\"\">Whereas cells in a wider area of the GPi may be implicated in </span><span class=\"candidate gold-annotation c-9458-20-0\">parkinsonism</span><span class=\"\">, the ventral GPi seems to be crucial for the manifestation of </span><span class=\"gold-annotation\">LID</span><span class=\"\">.</span></li>\n",
       "        \n",
       "        <li class=\"list-group-item\" data-toggle=\"tooltip\" data-placement=\"top\" title=\"9549528-3\"><div class=\"candidate-data\" id=\"cdata-9458-20-1\" caption=\"CID: 9549528-3:638-645\"></div><span class=\"\">The </span><span class=\"gold-annotation\">dyskinetic</span><span class=\"\"> </span><span class=\"gold-annotation\">parkinsonian</span><span class=\"\"> patients exhibited a pattern of </span><span class=\"candidate c-9458-20-1\">response</span><span class=\"\"> which was markedly different from those of the normal subjects and non-</span><span class=\"gold-annotation\">dyskinetic</span><span class=\"\"> </span><span class=\"gold-annotation\">parkinsonian</span><span class=\"\"> patients, with a significant overactivation in the supplementary motor area and the ipsi- and contralateral primary motor areas.</span></li>\n",
       "        \n",
       "        <li class=\"list-group-item\" data-toggle=\"tooltip\" data-placement=\"top\" title=\"11245434-0\"><div class=\"candidate-data\" id=\"cdata-9458-20-2\" caption=\"CID: 11245434-0:93-98\"></div><span class=\"\">Erythropoietin restores the </span><span class=\"gold-annotation\">anemia</span><span class=\"\">-induced reduction in cyclophosphamide </span><span class=\"gold-annotation\">cytotoxicity</span><span class=\"\"> in rat </span><span class=\"candidate gold-annotation c-9458-20-2\">tumors</span><span class=\"\">.</span></li>\n",
       "        </ul>\n",
       "        </div>\n",
       "        \n",
       "        <div class=\"viewer-page viewer-page-9458\" id=\"viewer-page-9458-21\" data-nc=\"6\">\n",
       "            <ul class=\"list-group\">\n",
       "        <li class=\"list-group-item\" data-toggle=\"tooltip\" data-placement=\"top\" title=\"3950060-7\"><span class=\"\">Based on this model and on Bayes' theorem, the predictive accuracy of identifying \"</span><span class=\"gold-annotation\">nephrotoxic</span><span class=\"\">\" patients increased from 0.17 to 0.39.</span></li>\n",
       "        \n",
       "        <li class=\"list-group-item\" data-toggle=\"tooltip\" data-placement=\"top\" title=\"7707116-8\"><div class=\"candidate-data\" id=\"cdata-9458-21-0\" caption=\"CID: 7707116-8:1038-1061\"></div><div class=\"candidate-data\" id=\"cdata-9458-21-1\" caption=\"CID: 7707116-8:1052-1061\"></div><div class=\"candidate-data\" id=\"cdata-9458-21-2\" caption=\"CID: 7707116-8:1111-1123\"></div><div class=\"candidate-data\" id=\"cdata-9458-21-3\" caption=\"CID: 7707116-8:1134-1137\"></div><div class=\"candidate-data\" id=\"cdata-9458-21-4\" caption=\"CID: 7707116-8:1182-1186\"></div><div class=\"candidate-data\" id=\"cdata-9458-21-5\" caption=\"CID: 7707116-8:1183-1186\"></div><span class=\"candidate c-9458-21-0\">Dose-limiting </span><span class=\"candidate gold-annotation c-9458-21-0 c-9458-21-1\">toxicities</span><span class=\"\"> in six of nine patients at 200 mg/m2/d included </span><span class=\"candidate gold-annotation c-9458-21-2\">hypercalcemia</span><span class=\"\"> (n = 3), </span><span class=\"candidate gold-annotation c-9458-21-3\">rash</span><span class=\"\"> (n = 2), and </span><span class=\"gold-annotation\">anemia</span><span class=\"\">/</span><span class=\"gold-annotation\">thrombocytopenia</span><span class=\"\">/</span><span class=\"gold-annotation\">emesis</span><span class=\"candidate c-9458-21-4\">/</span><span class=\"candidate gold-annotation c-9458-21-4 c-9458-21-5\">rash</span><span class=\"\"> (n = 1).</span></li>\n",
       "        \n",
       "        <li class=\"list-group-item\" data-toggle=\"tooltip\" data-placement=\"top\" title=\"12600698-6\"><span class=\"\">These results suggest that edaravone suppresses streptomycin-induced </span><span class=\"gold-annotation\">vestibulotoxicity</span><span class=\"\">.</span></li>\n",
       "        </ul>\n",
       "        </div>\n",
       "        \n",
       "        <div class=\"viewer-page viewer-page-9458\" id=\"viewer-page-9458-22\" data-nc=\"1\">\n",
       "            <ul class=\"list-group\">\n",
       "        <li class=\"list-group-item\" data-toggle=\"tooltip\" data-placement=\"top\" title=\"12571256-0\"><span class=\"gold-annotation\">Nephrotoxic</span><span class=\"\"> effects in high-risk patients undergoing angiography.</span></li>\n",
       "        \n",
       "        <li class=\"list-group-item\" data-toggle=\"tooltip\" data-placement=\"top\" title=\"9636837-9\"><div class=\"candidate-data\" id=\"cdata-9458-22-0\" caption=\"CID: 9636837-9:1461-1473\"></div><span class=\"\">CONCLUSIONS: CBDCA is </span><span class=\"gold-annotation\">neurotoxic</span><span class=\"\"> in our model, and the type of pathological changes it induces are so closely similar to those caused by CDDP that it is probable that </span><span class=\"candidate gold-annotation c-9458-22-0\">neurotoxicity</span><span class=\"\"> is induced in the two drugs by the same mechanism.</span></li>\n",
       "        \n",
       "        <li class=\"list-group-item\" data-toggle=\"tooltip\" data-placement=\"top\" title=\"15096016-7\"><span class=\"\">Stimulation often produces an improvement in the </span><span class=\"gold-annotation\">hyper- or dyskinetic</span><span class=\"\"> upper limbs, but increases the \"freezing\" phenomenon in the lower limbs at the same time.</span></li>\n",
       "        </ul>\n",
       "        </div>\n",
       "        \n",
       "        <div class=\"viewer-page viewer-page-9458\" id=\"viewer-page-9458-23\" data-nc=\"1\">\n",
       "            <ul class=\"list-group\">\n",
       "        <li class=\"list-group-item\" data-toggle=\"tooltip\" data-placement=\"top\" title=\"11861791-8\"><span class=\"\">Treatment with a PJ34 significantly improved </span><span class=\"gold-annotation\">cardiac dysfunction</span><span class=\"\"> and increased the survival of the animals.</span></li>\n",
       "        \n",
       "        <li class=\"list-group-item\" data-toggle=\"tooltip\" data-placement=\"top\" title=\"19996135-10\"><div class=\"candidate-data\" id=\"cdata-9458-23-0\" caption=\"CID: 19996135-10:1490-1497\"></div><span class=\"\">No evidence of </span><span class=\"gold-annotation\">brain ischemic</span><span class=\"\">, metabolic, or </span><span class=\"gold-annotation\">hyperthermia</span><span class=\"\">-induced causes for their </span><span class=\"candidate gold-annotation c-9458-23-0\">seizures</span><span class=\"\"> was apparent.</span></li>\n",
       "        \n",
       "        <li class=\"list-group-item\" data-toggle=\"tooltip\" data-placement=\"top\" title=\"11099450-2\"><span class=\"\">We found significant positive correlations between the preoperative levodopa responsiveness of motor signs and the levodopa responsiveness of scores in timed tests (Core Assessment Program for Intracerebral Transplantations) in the contralateral limbs and the improvement in these scores after surgery, whereas there was no correlation with the improvement in </span><span class=\"gold-annotation\">LID</span><span class=\"\">.</span></li>\n",
       "        </ul>\n",
       "        </div>\n",
       "        \n",
       "        <div class=\"viewer-page viewer-page-9458\" id=\"viewer-page-9458-24\" data-nc=\"1\">\n",
       "            <ul class=\"list-group\">\n",
       "        <li class=\"list-group-item\" data-toggle=\"tooltip\" data-placement=\"top\" title=\"2004015-0\"><span class=\"\">Sensitivity of erythroid progenitor colonies to erythropoietin in azidothymidine treated </span><span class=\"gold-annotation\">immunodeficient</span><span class=\"\"> mice.</span></li>\n",
       "        \n",
       "        <li class=\"list-group-item\" data-toggle=\"tooltip\" data-placement=\"top\" title=\"16225977-0\"><span class=\"\">Amisulpride related </span><span class=\"gold-annotation\">tic-like symptoms</span><span class=\"\"> in an adolescent </span><span class=\"gold-annotation\">schizophrenic</span><span class=\"\">.</span></li>\n",
       "        \n",
       "        <li class=\"list-group-item\" data-toggle=\"tooltip\" data-placement=\"top\" title=\"12739036-11\"><div class=\"candidate-data\" id=\"cdata-9458-24-0\" caption=\"CID: 12739036-11:1183-1185\"></div><span class=\"\">Discriminating between primary </span><span class=\"gold-annotation\">SLE</span><span class=\"\">-induced </span><span class=\"gold-annotation\">affection of the musculoskeletal system</span><span class=\"\"> and drug-induced side effects is important for appropriate treatment of </span><span class=\"candidate gold-annotation c-9458-24-0\">SLE</span><span class=\"\"> patients.</span></li>\n",
       "        </ul>\n",
       "        </div>\n",
       "        \n",
       "        <div class=\"viewer-page viewer-page-9458\" id=\"viewer-page-9458-25\" data-nc=\"0\">\n",
       "            <ul class=\"list-group\">\n",
       "        <li class=\"list-group-item\" data-toggle=\"tooltip\" data-placement=\"top\" title=\"16225977-4\"><span class=\"\">The </span><span class=\"gold-annotation\">tic-like symptoms</span><span class=\"\"> resolved completely after we reduced the dose of amisulpride down to 800 mg per day.</span></li>\n",
       "        \n",
       "        <li class=\"list-group-item\" data-toggle=\"tooltip\" data-placement=\"top\" title=\"2790457-3\"><span class=\"\">Chronic CBZ also decreased the incidence of </span><span class=\"gold-annotation\">seizure</span><span class=\"\">-related mortality in the cocaine-injected rats.</span></li>\n",
       "        \n",
       "        <li class=\"list-group-item\" data-toggle=\"tooltip\" data-placement=\"top\" title=\"20304337-2\"><span class=\"\">Vasoconstriction appears to be the common mechanism of action leading to a wide range of </span><span class=\"gold-annotation\">fetal anomalies</span><span class=\"\">.</span></li>\n",
       "        </ul>\n",
       "        </div>\n",
       "        \n",
       "        <div class=\"viewer-page viewer-page-9458\" id=\"viewer-page-9458-26\" data-nc=\"1\">\n",
       "            <ul class=\"list-group\">\n",
       "        <li class=\"list-group-item\" data-toggle=\"tooltip\" data-placement=\"top\" title=\"9672273-15\"><div class=\"candidate-data\" id=\"cdata-9458-26-0\" caption=\"CID: 9672273-15:1869-1889\"></div><span class=\"\">Compared with the placebo group, there was a significantly increased risk of </span><span class=\"gold-annotation\">vascular events</span><span class=\"\"> and </span><span class=\"candidate gold-annotation c-9458-26-0\">hypertriglyceridaemia</span><span class=\"\"> among women on tamoxifen.</span></li>\n",
       "        \n",
       "        <li class=\"list-group-item\" data-toggle=\"tooltip\" data-placement=\"top\" title=\"11912119-9\"><span class=\"\">Severity of peak-dose </span><span class=\"gold-annotation\">dyskinesias</span><span class=\"\"> was strongly correlated with grip force in ON-state (r = 0.79 with peak force, P < 0.01).</span></li>\n",
       "        \n",
       "        <li class=\"list-group-item\" data-toggle=\"tooltip\" data-placement=\"top\" title=\"9061311-3\"><span class=\"\">Neutrophils from 14 </span><span class=\"gold-annotation\">ALF</span><span class=\"\"> patients were stimulated via the complement receptors using zymosan opsonized with </span><span class=\"gold-annotation\">ALF</span><span class=\"\"> or control serum.</span></li>\n",
       "        </ul>\n",
       "        </div>\n",
       "        \n",
       "        <div class=\"viewer-page viewer-page-9458\" id=\"viewer-page-9458-27\" data-nc=\"0\">\n",
       "            <ul class=\"list-group\">\n",
       "        <li class=\"list-group-item\" data-toggle=\"tooltip\" data-placement=\"top\" title=\"11860495-0\"><span class=\"\">Steroid structure and pharmacological properties determine the anti-</span><span class=\"gold-annotation\">amnesic</span><span class=\"\"> effects of pregnenolone sulphate in the passive avoidance task in rats.</span></li>\n",
       "        \n",
       "        <li class=\"list-group-item\" data-toggle=\"tooltip\" data-placement=\"top\" title=\"16225977-2\"><span class=\"\">However, there are two case reports that show </span><span class=\"gold-annotation\">tic-like symptoms</span><span class=\"\">, including motor and phonic variants, occurring during treatment with quetiapine or clozapine.</span></li>\n",
       "        \n",
       "        <li class=\"list-group-item\" data-toggle=\"tooltip\" data-placement=\"top\" title=\"12851669-9\"><span class=\"\">CONCLUSION: Our results suggest the absolute risk of </span><span class=\"gold-annotation\">VTE</span><span class=\"\"> among Danish women on COCs is similar to that among women taking CPA/EE.</span></li>\n",
       "        </ul>\n",
       "        </div>\n",
       "        \n",
       "        <div class=\"viewer-page viewer-page-9458\" id=\"viewer-page-9458-28\" data-nc=\"0\">\n",
       "            <ul class=\"list-group\">\n",
       "        <li class=\"list-group-item\" data-toggle=\"tooltip\" data-placement=\"top\" title=\"11860278-9\"><span class=\"\">Moreover, the dopaminergic control of </span><span class=\"gold-annotation\">epilepsy</span><span class=\"\">-induced </span><span class=\"gold-annotation\">neurodegeneration</span><span class=\"\"> seems to be mediated by distinct interactions of D2R signaling with these two neurotransmitters.</span></li>\n",
       "        \n",
       "        <li class=\"list-group-item\" data-toggle=\"tooltip\" data-placement=\"top\" title=\"18657397-5\"><span class=\"\">Basal activity, latent period and the penicillin-induced </span><span class=\"gold-annotation\">epileptiform activity</span><span class=\"\"> periods were then analyzed using both conventional methods and spectral analysis.</span></li>\n",
       "        \n",
       "        <li class=\"list-group-item\" data-toggle=\"tooltip\" data-placement=\"top\" title=\"1636026-2\"><span class=\"\">The direct </span><span class=\"gold-annotation\">nephrotoxic</span><span class=\"\"> effects of a single dose of 15 mg of suprofen were compared in the recirculating isolated rat kidney perfused with cell-free buffer with or without the addition of 5 mg/dL of uric acid.</span></li>\n",
       "        </ul>\n",
       "        </div>\n",
       "        \n",
       "        <div class=\"viewer-page viewer-page-9458\" id=\"viewer-page-9458-29\" data-nc=\"2\">\n",
       "            <ul class=\"list-group\">\n",
       "        <li class=\"list-group-item\" data-toggle=\"tooltip\" data-placement=\"top\" title=\"2709684-8\"><div class=\"candidate-data\" id=\"cdata-9458-29-0\" caption=\"CID: 2709684-8:1412-1427\"></div><span class=\"\">In Group II, P did not prevent gentamicin-</span><span class=\"gold-annotation\">ARF</span><span class=\"\"> (maximal decrease in CCr at day 9.89%, P less than 0.001; peak lysozymuria, 1863 +/- 321 micrograms/day; and </span><span class=\"candidate gold-annotation c-9458-29-0\">tubular necrosis</span><span class=\"\"> score, 3.9 +/- 0.1).</span></li>\n",
       "        \n",
       "        <li class=\"list-group-item\" data-toggle=\"tooltip\" data-placement=\"top\" title=\"19996135-7\"><div class=\"candidate-data\" id=\"cdata-9458-29-1\" caption=\"CID: 19996135-7:1070-1077\"></div><span class=\"\">All patients with </span><span class=\"candidate gold-annotation c-9458-29-1\">seizures</span><span class=\"\"> did not have permanent </span><span class=\"gold-annotation\">neurological abnormalities</span><span class=\"\">.</span></li>\n",
       "        \n",
       "        <li class=\"list-group-item\" data-toggle=\"tooltip\" data-placement=\"top\" title=\"16157917-3\"><span class=\"gold-annotation\">MJ</span><span class=\"\"> disappeared when LTG dose was decreased by 25 to 50%.</span></li>\n",
       "        </ul>\n",
       "        </div>\n",
       "        \n",
       "        <div class=\"viewer-page viewer-page-9458\" id=\"viewer-page-9458-30\" data-nc=\"2\">\n",
       "            <ul class=\"list-group\">\n",
       "        <li class=\"list-group-item\" data-toggle=\"tooltip\" data-placement=\"top\" title=\"9758264-2\"><div class=\"candidate-data\" id=\"cdata-9458-30-0\" caption=\"CID: 9758264-2:427-435\"></div><span class=\"\">RESULTS: Of 60 </span><span class=\"candidate gold-annotation c-9458-30-0\">epileptic</span><span class=\"\"> women with periconceptional folic acid (0.8 mg)-containing multivitamin supplementation, no one developed </span><span class=\"gold-annotation\">epilepsy</span><span class=\"\">-related side effects during the periconception period.</span></li>\n",
       "        \n",
       "        <li class=\"list-group-item\" data-toggle=\"tooltip\" data-placement=\"top\" title=\"16725121-6\"><span class=\"\">Co-administration of lidocaine with desipramine reversed the changes of </span><span class=\"gold-annotation\">convulsive</span><span class=\"\"> activity of lidocaine and cocaine induced by repeated administration of desipramine.</span></li>\n",
       "        \n",
       "        <li class=\"list-group-item\" data-toggle=\"tooltip\" data-placement=\"top\" title=\"6153967-5\"><div class=\"candidate-data\" id=\"cdata-9458-30-1\" caption=\"CID: 6153967-5:501-509\"></div><span class=\"candidate gold-annotation c-9458-30-1\">Epileptic</span><span class=\"\"> foci delineated and activated by enflurane were surgically ablated and the patients are now </span><span class=\"gold-annotation\">seizure</span><span class=\"\">-free.</span></li>\n",
       "        </ul>\n",
       "        </div>\n",
       "        \n",
       "        <div class=\"viewer-page viewer-page-9458\" id=\"viewer-page-9458-31\" data-nc=\"0\">\n",
       "            <ul class=\"list-group\">\n",
       "        <li class=\"list-group-item\" data-toggle=\"tooltip\" data-placement=\"top\" title=\"11827497-9\"><span class=\"gold-annotation\">Thromboemboli</span><span class=\"\"> were venous (12 patients, 7 with </span><span class=\"gold-annotation\">pulmonary emboli</span><span class=\"\">) or arterial (4 patients) or both.</span></li>\n",
       "        \n",
       "        <li class=\"list-group-item\" data-toggle=\"tooltip\" data-placement=\"top\" title=\"19319147-2\"><span class=\"\">There is no consensus on the optimal treatment for W-</span><span class=\"gold-annotation\">ICH</span><span class=\"\">.</span></li>\n",
       "        \n",
       "        <li class=\"list-group-item\" data-toggle=\"tooltip\" data-placement=\"top\" title=\"20394767-0\"><span class=\"\">Fear-potentiated </span><span class=\"gold-annotation\">startle</span><span class=\"\">, but not light-enhanced </span><span class=\"gold-annotation\">startle</span><span class=\"\">, is enhanced by anxiogenic drugs.</span></li>\n",
       "        </ul>\n",
       "        </div>\n",
       "        \n",
       "        <div class=\"viewer-page viewer-page-9458\" id=\"viewer-page-9458-32\" data-nc=\"6\">\n",
       "            <ul class=\"list-group\">\n",
       "        <li class=\"list-group-item\" data-toggle=\"tooltip\" data-placement=\"top\" title=\"19319147-13\"><span class=\"\">Future studies are needed to assess the therapeutic potential emerging from our finding for human W-</span><span class=\"gold-annotation\">ICH</span><span class=\"\">.</span></li>\n",
       "        \n",
       "        <li class=\"list-group-item\" data-toggle=\"tooltip\" data-placement=\"top\" title=\"1711760-12\"><div class=\"candidate-data\" id=\"cdata-9458-32-0\" caption=\"CID: 1711760-12:1405-1438\"></div><div class=\"candidate-data\" id=\"cdata-9458-32-1\" caption=\"CID: 1711760-12:1427-1438\"></div><div class=\"candidate-data\" id=\"cdata-9458-32-2\" caption=\"CID: 1711760-12:1466-1473\"></div><div class=\"candidate-data\" id=\"cdata-9458-32-3\" caption=\"CID: 1711760-12:1475-1483\"></div><div class=\"candidate-data\" id=\"cdata-9458-32-4\" caption=\"CID: 1711760-12:1485-1489\"></div><div class=\"candidate-data\" id=\"cdata-9458-32-5\" caption=\"CID: 1711760-12:1530-1534\"></div><span class=\"\">The data indicate that </span><span class=\"candidate c-9458-32-0\">phenylephrine-induced </span><span class=\"candidate gold-annotation c-9458-32-0 c-9458-32-1\">hypertension</span><span class=\"\"> instituted 2 h after </span><span class=\"gold-annotation\">MCAO</span><span class=\"\"> </span><span class=\"candidate c-9458-32-2\">does not</span><span class=\"\"> </span><span class=\"candidate c-9458-32-3\">aggravate</span><span class=\"\"> </span><span class=\"candidate gold-annotation c-9458-32-4\">edema</span><span class=\"\"> in the </span><span class=\"gold-annotation\">ischemic</span><span class=\"\"> core, that it improves </span><span class=\"candidate gold-annotation c-9458-32-5\">edema</span><span class=\"\"> in the periphery of the </span><span class=\"gold-annotation\">ischemic</span><span class=\"\"> territory, and that it reduces the area of histochemical </span><span class=\"gold-annotation\">neuronal dysfunction</span><span class=\"\">.</span></li>\n",
       "        \n",
       "        <li class=\"list-group-item\" data-toggle=\"tooltip\" data-placement=\"top\" title=\"11208990-9\"><span class=\"\">Urine nitrite levels were significantly increased in the ADR-</span><span class=\"gold-annotation\">nephropathy</span><span class=\"\"> group (P < 0.05).</span></li>\n",
       "        </ul>\n",
       "        </div>\n",
       "        \n",
       "        <div class=\"viewer-page viewer-page-9458\" id=\"viewer-page-9458-33\" data-nc=\"0\">\n",
       "            <ul class=\"list-group\">\n",
       "        <li class=\"list-group-item\" data-toggle=\"tooltip\" data-placement=\"top\" title=\"17344330-11\"><span class=\"\">Among the subjects treated with methadone, 28% men and 32% women had </span><span class=\"gold-annotation\">prolonged QTc interval</span><span class=\"\">.</span></li>\n",
       "        </ul>\n",
       "        </div>\n",
       "        </div>\n",
       "    <div class=\"panel-footer\">\n",
       "        <div class=\"btn-group\" role=\"group\" aria-label=\"...\">\n",
       "            <button id=\"prev-page-9458\" type=\"button\" class=\"btn btn-default\">\n",
       "                <span class=\"glyphicon glyphicon-left-arrow\" aria-hidden=\"true\"></span> Prev. Page (i)\n",
       "            </button>\n",
       "            <button id=\"prev-cand-9458\" type=\"button\" class=\"btn btn-default\">\n",
       "                <span class=\"glyphicon glyphicon-down-arrow\" aria-hidden=\"true\"></span> Prev. Cand. (j)\n",
       "            </button>\n",
       "            <button id=\"next-cand-9458\" type=\"button\" class=\"btn btn-default\">\n",
       "                <span class=\"glyphicon glyphicon-up-arrow\" aria-hidden=\"true\"></span> Next Cand. (l)\n",
       "            </button>\n",
       "            <button id=\"next-page-9458\" type=\"button\" class=\"btn btn-default\">\n",
       "                <span class=\"glyphicon glyphicon-right-arrow\" aria-hidden=\"true\"></span> Next Page (k)\n",
       "            </button>\n",
       "        </div>\n",
       "        <span><i>  Viewer must be focused for keyboard control</i></span>\n",
       "        <div class=\"page-num panel-left-justify\">Page <span id=\"page-9458\">0</span></div>\n",
       "    </div>\n",
       "</div>\n"
      ]
     },
     "metadata": {
      "text/html": {
       "isolated": false
      }
     },
     "output_type": "display_data"
    },
    {
     "data": {
      "application/javascript": [
       "$.getScript(\"http://d3js.org/d3.v3.min.js\", function () {\n",
       "$.getScript(\"https://ajax.googleapis.com/ajax/libs/jquery/1.11.3/jquery.min.js\", function () {\n",
       "var vid    = 9458;\n",
       "var nPages = 34;\n",
       "var cid    = 0;\n",
       "var pid    = 0;\n",
       "\n",
       "// Enable tooltip functionality\n",
       "$(function () {\n",
       "    $('[data-toggle=\"tooltip\"]').tooltip()\n",
       "});\n",
       "\n",
       "// Get the selector for a given candidate by number (w.r.t. to entire page group)\n",
       "function candidateSelector(cid) {\n",
       "    return $(\"span.c-\" + vid + \"-\" + pid + \"-\" + cid);\n",
       "}\n",
       "\n",
       "// Cycle through candidates and highlight, by increment inc\n",
       "function switchCandidate(inc) {\n",
       "    var nC = parseInt($(\"#viewer-page-\"+vid+\"-\"+pid).attr(\"data-nc\"));\n",
       "\n",
       "    // Clear highlighting and highlight new candidate\n",
       "    $(\"span.candidate\").removeClass(\"highlighted-candidate\");\n",
       "    if (cid + inc < 0) {\n",
       "        cid = nC + (cid + inc);\n",
       "    } else if (cid + inc > nC - 1) {\n",
       "        cid = (cid + inc) - nC;\n",
       "    } else {\n",
       "        cid += inc;\n",
       "    }\n",
       "    candidateSelector(cid).addClass(\"highlighted-candidate\");\n",
       "\n",
       "    // Fill in caption\n",
       "    $(\"#candidate-caption-\"+vid).html($(\"#cdata-\"+vid+\"-\"+pid+\"-\"+cid).attr(\"caption\"));\n",
       "};\n",
       "\n",
       "$(\"#next-cand-\" + vid).click(function() {\n",
       "    switchCandidate(1);\n",
       "});\n",
       "\n",
       "$(\"#prev-cand-\" + vid).click(function() {\n",
       "    switchCandidate(-1);\n",
       "});\n",
       "\n",
       "// Switch through pages\n",
       "function switchPage(inc) {\n",
       "    $(\".viewer-page-\"+vid).hide();\n",
       "    if (pid + inc < 0) {\n",
       "        pid = 0;\n",
       "    } else if (pid + inc > nPages - 1) {\n",
       "        pid = nPages - 1;\n",
       "    } else {\n",
       "        pid += inc;\n",
       "    }\n",
       "    $(\"#viewer-page-\"+vid+\"-\"+pid).show();\n",
       "\n",
       "    // Show pagination\n",
       "    $(\"#page-\"+vid).html(pid);\n",
       "\n",
       "    // Reset cid and set to first candidate\n",
       "    cid = 0;\n",
       "    switchCandidate(0);\n",
       "}\n",
       "\n",
       "$(\"#next-page-\" + vid).click(function() {\n",
       "    switchPage(1);\n",
       "});\n",
       "\n",
       "$(\"#prev-page-\" + vid).click(function() {\n",
       "    switchPage(-1);\n",
       "});\n",
       "\n",
       "// Arrow key functionality\n",
       "$(document).keydown(function(e) {\n",
       "\n",
       "    // Check that the Jupyter notebook cell the viewer is in is selected\n",
       "    if ($(\"#viewer-\"+vid).parents(\".cell\").hasClass(\"selected\")) {\n",
       "        switch(e.which) {\n",
       "            case 74: // j\n",
       "            switchCandidate(-1);\n",
       "            break;\n",
       "\n",
       "            case 73: // i\n",
       "            switchPage(-1);\n",
       "            break;\n",
       "\n",
       "            case 76: // l\n",
       "            switchCandidate(1);\n",
       "            break;\n",
       "\n",
       "            case 75: // k\n",
       "            switchPage(1);\n",
       "            break;\n",
       "        }\n",
       "    }\n",
       "});\n",
       "\n",
       "// Show the first page and highlight the first candidate\n",
       "$(\"#viewer-page-\"+vid+\"-0\").show();\n",
       "switchCandidate(0);\n",
       "});\n",
       "});\n"
      ]
     },
     "metadata": {},
     "output_type": "display_data"
    }
   ],
   "source": [
    "from ddlite_viewer import SentenceNgramViewer\n",
    "sv        = SentenceNgramViewer(sents_sample, cands_sample, lambda c : c.sent_id, gold=gold_sample, n_max=100)\n",
    "sv.render(n_per_page=3, height=225)"
   ]
  },
  {
   "cell_type": "markdown",
   "metadata": {},
   "source": [
    "## Composing a better candidate extractor"
   ]
  },
  {
   "cell_type": "code",
   "execution_count": 16,
   "metadata": {
    "collapsed": false
   },
   "outputs": [
    {
     "name": "stdout",
     "output_type": "stream",
     "text": [
      "Loaded 36904 acronyms!\n",
      "# of candidates\t\t= 7530\n",
      "Candidate recall\t= 0.747\n",
      "Candidate precision\t= 0.421\n"
     ]
    }
   ],
   "source": [
    "from ddlite_matchers import Union\n",
    "from load_dictionaries import load_acronym_dictionary\n",
    "\n",
    "# Load the disease phrase dictionary\n",
    "acronyms = load_acronym_dictionary()\n",
    "print \"Loaded %s acronyms!\" % len(acronyms)\n",
    "\n",
    "# Define a new matcher\n",
    "matcher = Union(\n",
    "    DictionaryMatch(d=diseases, longest_match_only=False),\n",
    "    DictionaryMatch(d=acronyms, ignore_case=False))\n",
    "\n",
    "# Extract a new set of candidates\n",
    "corpus.extract_candidates(ngrams, matcher)\n",
    "print_candidate_stats(list(corpus.iter_candidates()), gold)"
   ]
  },
  {
   "cell_type": "markdown",
   "metadata": {},
   "source": [
    "Next, we try using the `Concat` and `RegexMatch` operators:"
   ]
  },
  {
   "cell_type": "code",
   "execution_count": 21,
   "metadata": {
    "collapsed": false
   },
   "outputs": [
    {
     "name": "stdout",
     "output_type": "stream",
     "text": [
      "# of candidates\t\t= 9306\n",
      "Candidate recall\t= 0.789\n",
      "Candidate precision\t= 0.360\n"
     ]
    }
   ],
   "source": [
    "from ddlite_matchers import Concat, RegexMatchEach\n",
    "matcher = Union(\n",
    "    Concat(\n",
    "        RegexMatchEach(rgx=r'JJ*', attrib='poses'),\n",
    "        DictionaryMatch(d=diseases, longest_match_only=False),\n",
    "    left_required=False),\n",
    "    DictionaryMatch(d=acronyms, ignore_case=False))\n",
    "\n",
    "# Extract a new set of candidates\n",
    "corpus.extract_candidates(ngrams, matcher)\n",
    "print_candidate_stats(list(corpus.iter_candidates()), gold)"
   ]
  },
  {
   "cell_type": "markdown",
   "metadata": {},
   "source": [
    "### More coming here...\n",
    "\n",
    "We've increased the candidate recall (on the development set) by 7.3% using some simple compositional `Matcher` operators.  We'll be adding more here soon!"
   ]
  }
 ],
 "metadata": {
  "kernelspec": {
   "display_name": "Python 2",
   "language": "python",
   "name": "python2"
  },
  "language_info": {
   "codemirror_mode": {
    "name": "ipython",
    "version": 2
   },
   "file_extension": ".py",
   "mimetype": "text/x-python",
   "name": "python",
   "nbconvert_exporter": "python",
   "pygments_lexer": "ipython2",
   "version": "2.7.10"
  }
 },
 "nbformat": 4,
 "nbformat_minor": 0
}
