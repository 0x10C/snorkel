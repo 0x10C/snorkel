{
 "cells": [
  {
   "cell_type": "markdown",
   "metadata": {},
   "source": [
    "# Tutorial, Part I: Candidate Extraction\n",
    "\n",
    "In this example, we'll be writing an application to extract **chemical-induced-disease relationships** from Pubmed abstracts, as per the [BioCreative CDR Challenge](http://www.biocreative.org/resources/corpora/biocreative-v-cdr-corpus/).  At core, we will be constructing a model to classify _candidate chemical-disease (C-D) relation mentions_ as either true or false.  To do this, we first need a set of such candidates- in this notebook, we'll use `DDLite` utilities to extract these candidates."
   ]
  },
  {
   "cell_type": "markdown",
   "metadata": {},
   "source": [
    "## Loading the Corpus\n",
    "\n",
    "First, we will load and pre-process the corpus, storing it for convenience in a `Corpus` object"
   ]
  },
  {
   "cell_type": "markdown",
   "metadata": {},
   "source": [
    "### Configuring a document parser\n",
    "\n",
    "We'll start by defining a `DocParser` class to read in Pubmed abstracts from [Pubtator]([Pubtator](http://www.ncbi.nlm.nih.gov/CBBresearch/Lu/Demo/PubTator/index.cgi)), where they are stored along with \"gold\" (i.e. hand-annotated by experts) *chemical* and *disease mention* annotations. We'll use the `XMLDocParser` class, which allows us to use [XPath queries](https://en.wikipedia.org/wiki/XPath) to specify the relevant sections of the XML format.\n",
    "\n",
    "_Note that we are newline-concatenating text from the title and abstract together for simplicity, but if we wanted to, we could easily extend the `DocParser` classes to preserve information about document structure._"
   ]
  },
  {
   "cell_type": "code",
   "execution_count": 1,
   "metadata": {
    "collapsed": false
   },
   "outputs": [],
   "source": [
    "from ddlite_parser import XMLDocParser\n",
    "xml_parser = XMLDocParser(\n",
    "    path='data/CDR_DevelopmentSet.xml',\n",
    "    doc='.//document',\n",
    "    text='.//passage/text/text()',\n",
    "    id='.//id/text()',\n",
    "    keep_xml_tree=True)"
   ]
  },
  {
   "cell_type": "markdown",
   "metadata": {},
   "source": [
    "### Selecting a sentence parser\n",
    "\n",
    "Next, we'll use an NLP preprocessing tool to split the `Document` objects into sentences, tokens, and provide annotations--part-of-speech tags, dependency parse structure, lemmatized word forms, etc.--for these sentences.  Here we use the default `SentenceParser` class."
   ]
  },
  {
   "cell_type": "code",
   "execution_count": 2,
   "metadata": {
    "collapsed": false
   },
   "outputs": [],
   "source": [
    "from ddlite_parser import SentenceParser\n",
    "sent_parser = SentenceParser()"
   ]
  },
  {
   "cell_type": "markdown",
   "metadata": {},
   "source": [
    "### Pre-processing & loading the corpus\n",
    "\n",
    "Finally, we'll put this all together using a `Corpus` object, which will execute the parsers and store the results as an iterator:"
   ]
  },
  {
   "cell_type": "code",
   "execution_count": 3,
   "metadata": {
    "collapsed": false
   },
   "outputs": [
    {
     "name": "stdout",
     "output_type": "stream",
     "text": [
      "Parsing documents...\n",
      "Parsing sentences...\n",
      "CPU times: user 5.23 s, sys: 183 ms, total: 5.41 s\n",
      "Wall time: 42.3 s\n"
     ]
    }
   ],
   "source": [
    "from ddlite_parser import Corpus\n",
    "%time corpus = Corpus(xml_parser, sent_parser)"
   ]
  },
  {
   "cell_type": "code",
   "execution_count": 4,
   "metadata": {
    "collapsed": false
   },
   "outputs": [
    {
     "name": "stdout",
     "output_type": "stream",
     "text": [
      "Document(id='1445986', file='CDR_DevelopmentSet.xml', text=\"Cefotetan-induced immune hemolytic anemia.\\nImmune hemolytic anemia due to a drug-adsorption mechanism has been described primarily in patients receiving penicillins and first-generation cephalosporins. We describe a patient who developed anemia while receiving intravenous cefotetan. Cefotetan-dependent antibodies were detected in the patient's serum and in an eluate prepared from his red blood cells. The eluate also reacted weakly with red blood cells in the absence of cefotetan, suggesting the concomitant formation of warm-reactive autoantibodies. These observations, in conjunction with clinical and laboratory evidence of extravascular hemolysis, are consistent with drug-induced hemolytic anemia, possibly involving both drug-adsorption and autoantibody formation mechanisms. This case emphasizes the need for increased awareness of hemolytic reactions to all cephalosporins.\", attribs={'root': <Element document at 0x10486a2d8>})\n"
     ]
    }
   ],
   "source": [
    "doc  = corpus.get_docs()[2]\n",
    "print doc"
   ]
  },
  {
   "cell_type": "code",
   "execution_count": 5,
   "metadata": {
    "collapsed": false
   },
   "outputs": [
    {
     "name": "stdout",
     "output_type": "stream",
     "text": [
      "Sentence(id='1445986-0', words=[u'Cefotetan-induced', u'immune', u'hemolytic', u'anemia', u'.'], lemmas=[u'cefotetan-induced', u'immune', u'hemolytic', u'anemia', u'.'], poses=[u'JJ', u'JJ', u'JJ', u'NN', u'.'], dep_parents=[4, 4, 4, 0, 4], dep_labels=[u'amod', u'amod', u'amod', u'ROOT', u'punct'], sent_id=0, doc_id='1445986', text=u'Cefotetan-induced immune hemolytic anemia.', char_offsets=[0, 18, 25, 35, 41], doc_name='CDR_DevelopmentSet.xml')\n"
     ]
    }
   ],
   "source": [
    "sent = corpus.get_sentences_in(doc.id)[0]\n",
    "print sent"
   ]
  },
  {
   "cell_type": "markdown",
   "metadata": {},
   "source": [
    "## Writing a basic candidate extractor\n",
    "\n",
    "Next, we'll write a basic function to extract **candidate disease mentions** from the corpus.  For this first attempt, we'll just write a function that checks for matches against a list (or _\"dictionary\"_) of disease phrases, constructed using some pre-compiled ontologies ([UMLS](https://www.nlm.nih.gov/research/umls/), [ORDO](http://www.orphadata.org/cgi-bin/inc/ordo_orphanet.inc.php), [DOID](http://www.obofoundry.org/ontology/doid.html), [NCBI Diseases](http://www.ncbi.nlm.nih.gov/CBBresearch/Dogan/DISEASE/); see `tutorial/data/diseases.py`).\n",
    "\n",
    "We'll do this using a `CandidateSpace` object--which defines the basic candidates we consider, in this case n-grams up to a certain length--and a `Matcher` object, which filters this candidate space down."
   ]
  },
  {
   "cell_type": "code",
   "execution_count": 6,
   "metadata": {
    "collapsed": false
   },
   "outputs": [
    {
     "name": "stdout",
     "output_type": "stream",
     "text": [
      "Loaded 507899 disease phrases!\n"
     ]
    }
   ],
   "source": [
    "from load_dictionaries import load_disease_dictionary\n",
    "from ddlite_candidates import Ngrams\n",
    "from ddlite_matchers import DictionaryMatch\n",
    "\n",
    "# Load the disease phrase dictionary\n",
    "diseases = load_disease_dictionary()\n",
    "print \"Loaded %s disease phrases!\" % len(diseases)\n",
    "\n",
    "# Define a candidate space\n",
    "ngrams = Ngrams(n_max=3)\n",
    "\n",
    "# Define a matcher\n",
    "matcher = DictionaryMatch(d=diseases, longest_match_only=False)"
   ]
  },
  {
   "cell_type": "markdown",
   "metadata": {},
   "source": [
    "Note that we set `longest_match_only=False`, which means that we _will_ consider subsequences of phrases that match our dictionary.\n",
    "\n",
    "The `Ngrams` operator is applied over our `Sentence` objects and returns `Ngram` objects, and the `Matcher` then filters these, so we apply our operators over the sentences in the corpus, storing the results in a `Candidates` object for convenience:"
   ]
  },
  {
   "cell_type": "code",
   "execution_count": 7,
   "metadata": {
    "collapsed": false
   },
   "outputs": [
    {
     "name": "stdout",
     "output_type": "stream",
     "text": [
      "Extracting candidates...\n",
      "CPU times: user 7.9 s, sys: 66.7 ms, total: 7.96 s\n",
      "Wall time: 8 s\n"
     ]
    },
    {
     "data": {
      "text/plain": [
       "[<Ngram(\"depression\", id=6794356-5:662-671, chars=[662,671], words=[4,4]),\n",
       " <Ngram(\"fulminant hepatitis\", id=3411101-5:504-522, chars=[504,522], words=[8,9]),\n",
       " <Ngram(\"examined\", id=16132524-4:674-681, chars=[674,681], words=[29,29]),\n",
       " <Ngram(\"hypertension\", id=16820346-4:652-663, chars=[652,663], words=[3,3]),\n",
       " <Ngram(\"artery disease\", id=15531665-5:829-842, chars=[829,842], words=[16,17])]"
      ]
     },
     "execution_count": 7,
     "metadata": {},
     "output_type": "execute_result"
    }
   ],
   "source": [
    "from ddlite_candidates import Candidates\n",
    "%time c = Candidates(ngrams, matcher, corpus.get_sentences())\n",
    "c.get_candidates()[:5]"
   ]
  },
  {
   "cell_type": "markdown",
   "metadata": {},
   "source": [
    "## Evaluating our candidate recall on gold annotations\n",
    "\n",
    "Next, we'll test our _candidate recall_--in other words, how many of the true disease mentions we picked up in our candidate set--using the gold annotations in our dataset.\n",
    "\n",
    "The XML documents that we loaded using the `XMLDocParser` also contained annotations (this is why we kept the full xml tree using `keep_xml_tree=True`).  We'll load these annotations and map them to `Ngram` objects over our parsed sentences, that way we can easily compare our extracted candidate set with the gold annotations.  The code is fairly simple (see `tutorial/util.py`); note that we filter to only keep _disease_ annotations, and that the candidates should be uniquely identified by their `id` attribute:"
   ]
  },
  {
   "cell_type": "code",
   "execution_count": 8,
   "metadata": {
    "collapsed": false
   },
   "outputs": [],
   "source": [
    "from utils import collect_pubtator_annotations\n",
    "gold = []\n",
    "for doc, sents in corpus:\n",
    "    gold += [a for a in collect_pubtator_annotations(doc, sents) if a.metadata['type'] == 'Disease']\n",
    "gold = frozenset(gold)"
   ]
  },
  {
   "cell_type": "markdown",
   "metadata": {},
   "source": [
    "Now, we have a set of gold annotations of the same type as our candidates (`Ngram`), and can use set operations (where candidate objects are hashed by their `id` attribute), e.g.:"
   ]
  },
  {
   "cell_type": "code",
   "execution_count": 9,
   "metadata": {
    "collapsed": false
   },
   "outputs": [
    {
     "data": {
      "text/plain": [
       "3039"
      ]
     },
     "execution_count": 9,
     "metadata": {},
     "output_type": "execute_result"
    }
   ],
   "source": [
    "len(gold.intersection(c.get_candidates()))"
   ]
  },
  {
   "cell_type": "markdown",
   "metadata": {},
   "source": [
    "For convenience, we'll use a basic helper method of the `Candidates` object:"
   ]
  },
  {
   "cell_type": "code",
   "execution_count": 10,
   "metadata": {
    "collapsed": false
   },
   "outputs": [
    {
     "name": "stdout",
     "output_type": "stream",
     "text": [
      "# of gold annotations\t= 4244\n",
      "# of candidates\t\t= 6944\n",
      "Candidate recall\t= 0.716\n",
      "Candidate precision\t= 0.438\n"
     ]
    }
   ],
   "source": [
    "c.gold_stats(gold)"
   ]
  },
  {
   "cell_type": "markdown",
   "metadata": {},
   "source": [
    "We note that our focus in this stage is on **acheiving high candidate recall, without considering an impractically large candidate set**.  Our main focus after this stage will be on training a classifier to select which candidates are true; this will raise precision while hopefully keeping recall high.  _Note however that candidate recall is an upper bound for the recall of this classifier!_\n",
    "\n",
    "So, we have some work to do."
   ]
  },
  {
   "cell_type": "markdown",
   "metadata": {},
   "source": [
    "## Using the `Viewer` to inspect data\n",
    "\n",
    "Next, we'll use the `Viewer` class--here, specifically, the `SentenceNgramViewer`--to inspect the data.\n",
    "\n",
    "To start, we'll assemble a random set of all the sentences where there are gold annotations _not in our candidate set_, i.e. where we missed something, and then inspect these in the `Viewer`:"
   ]
  },
  {
   "cell_type": "code",
   "execution_count": 15,
   "metadata": {
    "collapsed": false
   },
   "outputs": [],
   "source": [
    "from collections import defaultdict\n",
    "from random import shuffle\n",
    "\n",
    "# Index the gold annotations by sentence id\n",
    "gold_by_sid = defaultdict(list)\n",
    "for g in gold:\n",
    "    gold_by_sid[g.sent_id].append(g)\n",
    "\n",
    "# Get sentences\n",
    "view_sents = [s for s in corpus.get_sentences() if len(c.get_candidates_in(s.id)) < len(gold_by_sid[s.id])]\n",
    "shuffle(view_sents)\n",
    "view_sents = view_sents[:50]"
   ]
  },
  {
   "cell_type": "markdown",
   "metadata": {},
   "source": [
    "Now, we instantiate and render the `Viewer` object; note we're being a bit sloppy, passing in _all_ the candidates and gold labels, but the `Viewer` object will take care of indexing them by sentence, and will only render the sentences we pass in:"
   ]
  },
  {
   "cell_type": "code",
   "execution_count": 16,
   "metadata": {
    "collapsed": false,
    "scrolled": true
   },
   "outputs": [
    {
     "data": {
      "text/html": [
       "<link href=\"../viewer/bootstrap/css/bootstrap.min.css\" rel=\"stylesheet\" />\n",
       "<link href=\"../viewer/viewer.css\" type=\"text/css\" rel=\"stylesheet\" />\n",
       "<div id=\"viewer-3018\" class=\"viewer-pane panel panel-default\" tabindex=\"0\">\n",
       "    <div class=\"panel-heading\">\n",
       "        <h3 class=\"panel-title\">Viewer</h3>\n",
       "        <div id=\"candidate-caption-3018\" class=\"panel-left-justify\"></div>\n",
       "    </div>\n",
       "    <div class=\"panel-body\" style=\"height:225px\">\n",
       "        <div class=\"viewer-page viewer-page-3018\" id=\"viewer-page-3018-0\" data-nc=\"0\">\n",
       "            <ul class=\"list-group\">\n",
       "        <li class=\"list-group-item\" data-toggle=\"tooltip\" data-placement=\"top\" title=\"11282081-13\"><span class=\"\">CONCLUSIONS: Verapamil promotes </span><span class=\"gold-annotation\">AF</span><span class=\"\"> in normal dogs by promoting multiple circuit reentry, an effect dependent on intact autonomic tone and not shared by diltiazem.</span></li>\n",
       "        \n",
       "        <li class=\"list-group-item\" data-toggle=\"tooltip\" data-placement=\"top\" title=\"8384253-2\"><span class=\"\">The patients were interviewed with emphasis on </span><span class=\"gold-annotation\">neuropathic symptoms</span><span class=\"\">.</span></li>\n",
       "        \n",
       "        <li class=\"list-group-item\" data-toggle=\"tooltip\" data-placement=\"top\" title=\"2594614-4\"><span class=\"\">When BN 52021 (20 mg/kg i.v.) was injected immediately after bupivacaine (2 mg/kg), a partial reversion of the </span><span class=\"gold-annotation\">decrease of MBP and HR</span><span class=\"\"> was observed, whereas the dose of 10 mg/kg was ineffective.</span></li>\n",
       "        </ul>\n",
       "        </div>\n",
       "        \n",
       "        <div class=\"viewer-page viewer-page-3018\" id=\"viewer-page-3018-1\" data-nc=\"3\">\n",
       "            <ul class=\"list-group\">\n",
       "        <li class=\"list-group-item\" data-toggle=\"tooltip\" data-placement=\"top\" title=\"2257294-4\"><div class=\"candidate-data\" id=\"cdata-3018-1-0\" caption=\"CID: 2257294-4:751-756\"></div><div class=\"candidate-data\" id=\"cdata-3018-1-1\" caption=\"CID: 2257294-4:947-952\"></div><div class=\"candidate-data\" id=\"cdata-3018-1-2\" caption=\"CID: 2257294-4:958-967\"></div><span class=\"\">In mice rendered </span><span class=\"candidate gold-annotation c-3018-1-0\">anemic</span><span class=\"\"> and </span><span class=\"gold-annotation\">leukopenic</span><span class=\"\"> by the administration of AZT for 28 days in drinking water (1.5 mg/mL), the continued administration of AZT plus daily BAU (300 mg/kg, orally) partially reversed AZT-induced </span><span class=\"candidate gold-annotation c-3018-1-1\">anemia</span><span class=\"\"> and </span><span class=\"candidate gold-annotation c-3018-1-2\">leukopenia</span><span class=\"\"> (P less than .05), increased peripheral reticulocytes (to 4.9%, P less than .01), increased cellularity in the marrow, and improved </span><span class=\"gold-annotation\">megaloblastosis</span><span class=\"\">.</span></li>\n",
       "        \n",
       "        <li class=\"list-group-item\" data-toggle=\"tooltip\" data-placement=\"top\" title=\"458486-4\"><span class=\"\">These results fail to support the notion that levodopa-induced </span><span class=\"gold-annotation\">dyskinesias</span><span class=\"\"> are caused by overstimulation of a separate group of dopamine receptors.</span></li>\n",
       "        \n",
       "        <li class=\"list-group-item\" data-toggle=\"tooltip\" data-placement=\"top\" title=\"12571256-0\"><span class=\"gold-annotation\">Nephrotoxic</span><span class=\"\"> effects in high-risk patients undergoing angiography.</span></li>\n",
       "        </ul>\n",
       "        </div>\n",
       "        \n",
       "        <div class=\"viewer-page viewer-page-3018\" id=\"viewer-page-3018-2\" data-nc=\"0\">\n",
       "            <ul class=\"list-group\">\n",
       "        <li class=\"list-group-item\" data-toggle=\"tooltip\" data-placement=\"top\" title=\"16116131-3\"><span class=\"\">rTMS at 1 Hz was observed to markedly reduce </span><span class=\"gold-annotation\">drug-induced dyskinesias</span><span class=\"\">, whereas 5-Hz rTMS induced a slight but not significant increase.</span></li>\n",
       "        \n",
       "        <li class=\"list-group-item\" data-toggle=\"tooltip\" data-placement=\"top\" title=\"8475949-7\"><span class=\"\">When </span><span class=\"gold-annotation\">QTc interval prolongation</span><span class=\"\"> is observed, early magnesium supplementation is advocated.</span></li>\n",
       "        \n",
       "        <li class=\"list-group-item\" data-toggle=\"tooltip\" data-placement=\"top\" title=\"20552622-7\"><span class=\"\">Fewer than 50 cases of </span><span class=\"gold-annotation\">SIAT</span><span class=\"\"> have been described in the literature.</span></li>\n",
       "        </ul>\n",
       "        </div>\n",
       "        \n",
       "        <div class=\"viewer-page viewer-page-3018\" id=\"viewer-page-3018-3\" data-nc=\"1\">\n",
       "            <ul class=\"list-group\">\n",
       "        <li class=\"list-group-item\" data-toggle=\"tooltip\" data-placement=\"top\" title=\"8665051-3\"><span class=\"\">Therefore, 60 male rats were randomly assigned to receive daily injection of saline (C), methylprednisolone (M), or triamcinolone (T) 80 mg/kg/d for 5 d. Nutritional intake, measured daily in 15 animals, showed a significant </span><span class=\"gold-annotation\">reduction of food intake</span><span class=\"\"> in the steroid-treated groups (-50 and -79% in M and T, respectively).</span></li>\n",
       "        \n",
       "        <li class=\"list-group-item\" data-toggle=\"tooltip\" data-placement=\"top\" title=\"8045270-2\"><span class=\"\">Oral administration of KF17837 (2.5, 10.0 and 30.0 mg/kg) significantly ameliorated the </span><span class=\"gold-annotation\">cataleptic</span><span class=\"\"> responses induced by intracerebroventricular administration of an adenosine A2A receptor agonist, CGS 21680 (10 micrograms), in a dose-dependent manner.</span></li>\n",
       "        \n",
       "        <li class=\"list-group-item\" data-toggle=\"tooltip\" data-placement=\"top\" title=\"8106150-8\"><div class=\"candidate-data\" id=\"cdata-3018-3-0\" caption=\"CID: 8106150-8:945-950\"></div><span class=\"\">Atropine converted the </span><span class=\"gold-annotation\">dystonic</span><span class=\"\"> movements into </span><span class=\"candidate gold-annotation c-3018-3-0\">chorea</span><span class=\"\">.</span></li>\n",
       "        </ul>\n",
       "        </div>\n",
       "        \n",
       "        <div class=\"viewer-page viewer-page-3018\" id=\"viewer-page-3018-4\" data-nc=\"1\">\n",
       "            <ul class=\"list-group\">\n",
       "        <li class=\"list-group-item\" data-toggle=\"tooltip\" data-placement=\"top\" title=\"19996135-7\"><div class=\"candidate-data\" id=\"cdata-3018-4-0\" caption=\"CID: 19996135-7:1070-1077\"></div><span class=\"\">All patients with </span><span class=\"candidate gold-annotation c-3018-4-0\">seizures</span><span class=\"\"> did not have permanent </span><span class=\"gold-annotation\">neurological abnormalities</span><span class=\"\">.</span></li>\n",
       "        \n",
       "        <li class=\"list-group-item\" data-toggle=\"tooltip\" data-placement=\"top\" title=\"8106150-0\"><span class=\"\">Effect of nondopaminergic drugs on L-dopa-induced </span><span class=\"gold-annotation\">dyskinesias</span><span class=\"\"> in MPTP-treated monkeys.</span></li>\n",
       "        \n",
       "        <li class=\"list-group-item\" data-toggle=\"tooltip\" data-placement=\"top\" title=\"16157917-3\"><span class=\"gold-annotation\">MJ</span><span class=\"\"> disappeared when LTG dose was decreased by 25 to 50%.</span></li>\n",
       "        </ul>\n",
       "        </div>\n",
       "        \n",
       "        <div class=\"viewer-page viewer-page-3018\" id=\"viewer-page-3018-5\" data-nc=\"2\">\n",
       "            <ul class=\"list-group\">\n",
       "        <li class=\"list-group-item\" data-toggle=\"tooltip\" data-placement=\"top\" title=\"9549528-3\"><div class=\"candidate-data\" id=\"cdata-3018-5-0\" caption=\"CID: 9549528-3:638-645\"></div><span class=\"\">The </span><span class=\"gold-annotation\">dyskinetic</span><span class=\"\"> </span><span class=\"gold-annotation\">parkinsonian</span><span class=\"\"> patients exhibited a pattern of </span><span class=\"candidate c-3018-5-0\">response</span><span class=\"\"> which was markedly different from those of the normal subjects and non-</span><span class=\"gold-annotation\">dyskinetic</span><span class=\"\"> </span><span class=\"gold-annotation\">parkinsonian</span><span class=\"\"> patients, with a significant overactivation in the supplementary motor area and the ipsi- and contralateral primary motor areas.</span></li>\n",
       "        \n",
       "        <li class=\"list-group-item\" data-toggle=\"tooltip\" data-placement=\"top\" title=\"19234905-1\"><div class=\"candidate-data\" id=\"cdata-3018-5-1\" caption=\"CID: 19234905-1:277-283\"></div><span class=\"\">A prospective, randomized, double-blind pilot study to compare the results of stereotactic unilateral pallidotomy and subthalamotomy in advanced </span><span class=\"gold-annotation\">idiopathic Parkinson's </span><span class=\"candidate gold-annotation c-3018-5-1\">disease</span><span class=\"\"> (</span><span class=\"gold-annotation\">PD</span><span class=\"\">) refractory to medical treatment was designed.</span></li>\n",
       "        \n",
       "        <li class=\"list-group-item\" data-toggle=\"tooltip\" data-placement=\"top\" title=\"1711760-5\"><span class=\"\">Four hours after </span><span class=\"gold-annotation\">MCAO</span><span class=\"\">, the rats were killed and the brains harvested.</span></li>\n",
       "        </ul>\n",
       "        </div>\n",
       "        \n",
       "        <div class=\"viewer-page viewer-page-3018\" id=\"viewer-page-3018-6\" data-nc=\"3\">\n",
       "            <ul class=\"list-group\">\n",
       "        <li class=\"list-group-item\" data-toggle=\"tooltip\" data-placement=\"top\" title=\"11099450-5\"><div class=\"candidate-data\" id=\"cdata-3018-6-0\" caption=\"CID: 11099450-5:1161-1167\"></div><div class=\"candidate-data\" id=\"cdata-3018-6-1\" caption=\"CID: 11099450-5:1247-1252\"></div><div class=\"candidate-data\" id=\"cdata-3018-6-2\" caption=\"CID: 11099450-5:1382-1392\"></div><span class=\"\">The differential predictive value of levodopa responsiveness for the </span><span class=\"candidate c-3018-6-0\">outcome</span><span class=\"\"> of </span><span class=\"gold-annotation\">parkinsonian</span><span class=\"\"> 'off' signs and </span><span class=\"gold-annotation\">LID</span><span class=\"\"> and the different correlations of ventral </span><span class=\"candidate c-3018-6-1\">lesion</span><span class=\"\"> volume with </span><span class=\"gold-annotation\">dyskinesias</span><span class=\"\"> and </span><span class=\"gold-annotation\">parkinsonian</span><span class=\"\"> 'off' signs indicate that different anatomical or pathophysiological substrates may be </span><span class=\"candidate c-3018-6-2\">responsible</span><span class=\"\"> for the generation of </span><span class=\"gold-annotation\">parkinsonian</span><span class=\"\"> 'off' signs and </span><span class=\"gold-annotation\">dyskinesias</span><span class=\"\">.</span></li>\n",
       "        \n",
       "        <li class=\"list-group-item\" data-toggle=\"tooltip\" data-placement=\"top\" title=\"6728084-8\"><span class=\"\">Thus, aminoglycosides may act as nephrotoxicants at glomerular and/or tubular level inducing </span><span class=\"gold-annotation\">impairment of renal reabsorption</span><span class=\"\"> and accumulation of proteins.</span></li>\n",
       "        \n",
       "        <li class=\"list-group-item\" data-toggle=\"tooltip\" data-placement=\"top\" title=\"18589141-13\"><span class=\"\">The percentage of </span><span class=\"gold-annotation\">HIT</span><span class=\"\"> antibody-positive patients was 0.5% preoperatively, 5.6% on POD 7, and 5.6% on POD 14.</span></li>\n",
       "        </ul>\n",
       "        </div>\n",
       "        \n",
       "        <div class=\"viewer-page viewer-page-3018\" id=\"viewer-page-3018-7\" data-nc=\"4\">\n",
       "            <ul class=\"list-group\">\n",
       "        <li class=\"list-group-item\" data-toggle=\"tooltip\" data-placement=\"top\" title=\"18674790-5\"><div class=\"candidate-data\" id=\"cdata-3018-7-0\" caption=\"CID: 18674790-5:857-870\"></div><div class=\"candidate-data\" id=\"cdata-3018-7-1\" caption=\"CID: 18674790-5:939-943\"></div><div class=\"candidate-data\" id=\"cdata-3018-7-2\" caption=\"CID: 18674790-5:1006-1013\"></div><span class=\"\">A LD(10) dose (8 mg doxorubicin/kg, ip) administered on day 43 of the HFD feeding regimen led to higher </span><span class=\"candidate gold-annotation c-3018-7-0\">cardiotoxicity</span><span class=\"\">, </span><span class=\"gold-annotation\">cardiac dysfunction</span><span class=\"\">, lipid peroxidation, and 80% mortality in the </span><span class=\"candidate gold-annotation c-3018-7-1\">obese</span><span class=\"\"> (</span><span class=\"gold-annotation\">OB</span><span class=\"\">) rats in the absence of any significant </span><span class=\"gold-annotation\">renal or hepatic </span><span class=\"candidate gold-annotation c-3018-7-2\">toxicity</span><span class=\"\">.</span></li>\n",
       "        \n",
       "        <li class=\"list-group-item\" data-toggle=\"tooltip\" data-placement=\"top\" title=\"6699841-2\"><span class=\"\">No other factor predisposing to </span><span class=\"gold-annotation\">RPN</span><span class=\"\"> could be discovered.</span></li>\n",
       "        \n",
       "        <li class=\"list-group-item\" data-toggle=\"tooltip\" data-placement=\"top\" title=\"10539815-14\"><div class=\"candidate-data\" id=\"cdata-3018-7-3\" caption=\"CID: 10539815-14:2679-2702\"></div><span class=\"\">CONCLUSIONS: Enalapril use caused a 33% increase in the risk of </span><span class=\"candidate gold-annotation c-3018-7-3\">decreased renal function</span><span class=\"\"> in patients with </span><span class=\"gold-annotation\">CHF</span><span class=\"\">.</span></li>\n",
       "        </ul>\n",
       "        </div>\n",
       "        \n",
       "        <div class=\"viewer-page viewer-page-3018\" id=\"viewer-page-3018-8\" data-nc=\"1\">\n",
       "            <ul class=\"list-group\">\n",
       "        <li class=\"list-group-item\" data-toggle=\"tooltip\" data-placement=\"top\" title=\"9326871-6\"><span class=\"\">The </span><span class=\"gold-annotation\">dysrhythmias</span><span class=\"\"> resolved after discontinuation of the drug.</span></li>\n",
       "        \n",
       "        <li class=\"list-group-item\" data-toggle=\"tooltip\" data-placement=\"top\" title=\"7066357-10\"><div class=\"candidate-data\" id=\"cdata-3018-8-0\" caption=\"CID: 7066357-10:1599-1610\"></div><span class=\"\">In the pre-</span><span class=\"gold-annotation\">nephrotic</span><span class=\"\"> stage lipoproteinuria was negligible, while in the early </span><span class=\"gold-annotation\">nephrotic</span><span class=\"\"> stage the </span><span class=\"candidate c-3018-8-0\">urinary loss</span><span class=\"\"> of plasma lipoproteins consisted mainly of HDL.</span></li>\n",
       "        \n",
       "        <li class=\"list-group-item\" data-toggle=\"tooltip\" data-placement=\"top\" title=\"11860278-3\"><span class=\"\">In this respect, little is known about the role of DA receptors in the occurrence of </span><span class=\"gold-annotation\">epilepsy</span><span class=\"\">-induced neuronal cell death.</span></li>\n",
       "        </ul>\n",
       "        </div>\n",
       "        \n",
       "        <div class=\"viewer-page viewer-page-3018\" id=\"viewer-page-3018-9\" data-nc=\"4\">\n",
       "            <ul class=\"list-group\">\n",
       "        <li class=\"list-group-item\" data-toggle=\"tooltip\" data-placement=\"top\" title=\"8617710-5\"><span class=\"\">RESULTS: </span><span class=\"gold-annotation\">Impairment of cognitive function</span><span class=\"\"> was observed 6 to 8 hours after administration of haloperidol on Day 2 but was not evident 23 hours after dosing.</span></li>\n",
       "        \n",
       "        <li class=\"list-group-item\" data-toggle=\"tooltip\" data-placement=\"top\" title=\"11245434-1\"><div class=\"candidate-data\" id=\"cdata-3018-9-0\" caption=\"CID: 11245434-1:152-157\"></div><div class=\"candidate-data\" id=\"cdata-3018-9-1\" caption=\"CID: 11245434-1:287-292\"></div><span class=\"\">The aim of this study was to examine the impact of </span><span class=\"candidate gold-annotation c-3018-9-0\">anemia</span><span class=\"\"> prevention by recombinant human erythropoietin (rHuEPO) treatment on the </span><span class=\"gold-annotation\">cytotoxicity</span><span class=\"\"> of cyclophosphamide in solid experimental </span><span class=\"candidate gold-annotation c-3018-9-1\">tumors</span><span class=\"\">.</span></li>\n",
       "        \n",
       "        <li class=\"list-group-item\" data-toggle=\"tooltip\" data-placement=\"top\" title=\"11999899-11\"><div class=\"candidate-data\" id=\"cdata-3018-9-2\" caption=\"CID: 11999899-11:1661-1678\"></div><div class=\"candidate-data\" id=\"cdata-3018-9-3\" caption=\"CID: 11999899-11:1720-1727\"></div><span class=\"\">These results show that reserpine produces different and </span><span class=\"candidate gold-annotation c-3018-9-2\">abnormal movements</span><span class=\"\">, which are related to dose and schedule </span><span class=\"candidate c-3018-9-3\">employed</span><span class=\"\"> and can be considered as </span><span class=\"gold-annotation\">parkinsonian</span><span class=\"\">-like and </span><span class=\"gold-annotation\">tardive dsykinesia</span><span class=\"\"> signs.</span></li>\n",
       "        </ul>\n",
       "        </div>\n",
       "        \n",
       "        <div class=\"viewer-page viewer-page-3018\" id=\"viewer-page-3018-10\" data-nc=\"1\">\n",
       "            <ul class=\"list-group\">\n",
       "        <li class=\"list-group-item\" data-toggle=\"tooltip\" data-placement=\"top\" title=\"8854309-0\"><div class=\"candidate-data\" id=\"cdata-3018-10-0\" caption=\"CID: 8854309-0:66-73\"></div><span class=\"\">A measure of </span><span class=\"gold-annotation\">pupillary oscillation</span><span class=\"\"> as a marker of cocaine-induced </span><span class=\"candidate gold-annotation c-3018-10-0\">paranoia</span><span class=\"\">.</span></li>\n",
       "        \n",
       "        <li class=\"list-group-item\" data-toggle=\"tooltip\" data-placement=\"top\" title=\"16600756-2\"><span class=\"\">We investigated changes in urinary NGF and PGs in women with </span><span class=\"gold-annotation\">OAB</span><span class=\"\">.</span></li>\n",
       "        \n",
       "        <li class=\"list-group-item\" data-toggle=\"tooltip\" data-placement=\"top\" title=\"9154656-6\"><span class=\"\">These data suggest that the hepatic and extrahepatic Ao mRNA levels are unaltered during the development of the acute </span><span class=\"gold-annotation\">NS</span><span class=\"\"> induced by PAN.</span></li>\n",
       "        </ul>\n",
       "        </div>\n",
       "        \n",
       "        <div class=\"viewer-page viewer-page-3018\" id=\"viewer-page-3018-11\" data-nc=\"0\">\n",
       "            <ul class=\"list-group\">\n",
       "        <li class=\"list-group-item\" data-toggle=\"tooltip\" data-placement=\"top\" title=\"8106150-5\"><span class=\"\">Several drugs, including clonidine, physostigmine, methysergide, 5-MDOT, propranolol, and MK-801, markedly reduced the </span><span class=\"gold-annotation\">dyskinetic</span><span class=\"\"> movements but at the cost of a return of </span><span class=\"gold-annotation\">parkinsonian</span><span class=\"\"> symptomatology.</span></li>\n",
       "        \n",
       "        <li class=\"list-group-item\" data-toggle=\"tooltip\" data-placement=\"top\" title=\"2709684-6\"><span class=\"gold-annotation\">Nephrotoxic</span><span class=\"\"> doses (40 mg/kg body wt/day) of gentamicin were injected during the last nine days of study to the animals of groups II to IV.</span></li>\n",
       "        \n",
       "        <li class=\"list-group-item\" data-toggle=\"tooltip\" data-placement=\"top\" title=\"7910951-8\"><span class=\"\">A muscle biopsy in this patient showed </span><span class=\"gold-annotation\">loss of thick, myosin filaments</span><span class=\"\">.</span></li>\n",
       "        </ul>\n",
       "        </div>\n",
       "        \n",
       "        <div class=\"viewer-page viewer-page-3018\" id=\"viewer-page-3018-12\" data-nc=\"3\">\n",
       "            <ul class=\"list-group\">\n",
       "        <li class=\"list-group-item\" data-toggle=\"tooltip\" data-placement=\"top\" title=\"17943461-9\"><div class=\"candidate-data\" id=\"cdata-3018-12-0\" caption=\"CID: 17943461-9:1840-1853\"></div><span class=\"\">CONCLUSIONS: The expression of Fas ligand in the myocardium, as identified in HIV-positive patients, might increase the susceptibility to HAART-induced </span><span class=\"candidate gold-annotation c-3018-12-0\">cardiomyopathy</span><span class=\"\"> due to activation of apoptotic pathways, resulting in </span><span class=\"gold-annotation\">cardiac dilation and dysfunction</span><span class=\"\">.</span></li>\n",
       "        \n",
       "        <li class=\"list-group-item\" data-toggle=\"tooltip\" data-placement=\"top\" title=\"11245434-4\"><div class=\"candidate-data\" id=\"cdata-3018-12-1\" caption=\"CID: 11245434-4:646-651\"></div><span class=\"\">Four days after carboplatin treatment, </span><span class=\"candidate gold-annotation c-3018-12-1\">tumors</span><span class=\"\"> (DS-</span><span class=\"gold-annotation\">sarcoma</span><span class=\"\"> of the rat) were implanted s.c. onto the hind food dorsum.</span></li>\n",
       "        \n",
       "        <li class=\"list-group-item\" data-toggle=\"tooltip\" data-placement=\"top\" title=\"19996135-10\"><div class=\"candidate-data\" id=\"cdata-3018-12-2\" caption=\"CID: 19996135-10:1490-1497\"></div><span class=\"\">No evidence of </span><span class=\"gold-annotation\">brain ischemic</span><span class=\"\">, metabolic, or </span><span class=\"gold-annotation\">hyperthermia</span><span class=\"\">-induced causes for their </span><span class=\"candidate gold-annotation c-3018-12-2\">seizures</span><span class=\"\"> was apparent.</span></li>\n",
       "        </ul>\n",
       "        </div>\n",
       "        \n",
       "        <div class=\"viewer-page viewer-page-3018\" id=\"viewer-page-3018-13\" data-nc=\"1\">\n",
       "            <ul class=\"list-group\">\n",
       "        <li class=\"list-group-item\" data-toggle=\"tooltip\" data-placement=\"top\" title=\"9061311-7\"><span class=\"\">Serum C3 complement levels were significantly reduced in </span><span class=\"gold-annotation\">ALF</span><span class=\"\"> patients compared with control subjects (P < 0.0005).</span></li>\n",
       "        \n",
       "        <li class=\"list-group-item\" data-toggle=\"tooltip\" data-placement=\"top\" title=\"19996135-1\"><div class=\"candidate-data\" id=\"cdata-3018-13-0\" caption=\"CID: 19996135-1:216-223\"></div><span class=\"\">BACKGROUND: In 2 separate centers, we observed a notable increase in the incidence of postoperative </span><span class=\"gold-annotation\">convulsive</span><span class=\"\"> </span><span class=\"candidate gold-annotation c-3018-13-0\">seizures</span><span class=\"\"> from 1.3% to 3.8% in patients having undergone major cardiac surgical procedures.</span></li>\n",
       "        \n",
       "        <li class=\"list-group-item\" data-toggle=\"tooltip\" data-placement=\"top\" title=\"11694026-0\"><span class=\"\">Tolerability of nimesulide and paracetamol in patients with NSAID-induced </span><span class=\"gold-annotation\">urticaria</span><span class=\"\">/</span><span class=\"gold-annotation\">angioedema</span><span class=\"\">.</span></li>\n",
       "        </ul>\n",
       "        </div>\n",
       "        \n",
       "        <div class=\"viewer-page viewer-page-3018\" id=\"viewer-page-3018-14\" data-nc=\"0\">\n",
       "            <ul class=\"list-group\">\n",
       "        <li class=\"list-group-item\" data-toggle=\"tooltip\" data-placement=\"top\" title=\"9270571-7\"><span class=\"\">Potent DA D1 receptor agents with an intermediate duration of efficacy such as A-86929 (approximately 4 hr at higher doses tested) are potential therapeutic tools in </span><span class=\"gold-annotation\">PD</span><span class=\"\"> and merit further attention.</span></li>\n",
       "        \n",
       "        <li class=\"list-group-item\" data-toggle=\"tooltip\" data-placement=\"top\" title=\"1636026-2\"><span class=\"\">The direct </span><span class=\"gold-annotation\">nephrotoxic</span><span class=\"\"> effects of a single dose of 15 mg of suprofen were compared in the recirculating isolated rat kidney perfused with cell-free buffer with or without the addition of 5 mg/dL of uric acid.</span></li>\n",
       "        \n",
       "        <li class=\"list-group-item\" data-toggle=\"tooltip\" data-placement=\"top\" title=\"12571256-2\"><span class=\"\">Whether iso-osmolar contrast medium is less </span><span class=\"gold-annotation\">nephrotoxic</span><span class=\"\"> than low-osmolar contrast medium in high-risk patients is uncertain.</span></li>\n",
       "        </ul>\n",
       "        </div>\n",
       "        \n",
       "        <div class=\"viewer-page viewer-page-3018\" id=\"viewer-page-3018-15\" data-nc=\"1\">\n",
       "            <ul class=\"list-group\">\n",
       "        <li class=\"list-group-item\" data-toggle=\"tooltip\" data-placement=\"top\" title=\"10225068-7\"><span class=\"\">All cases sustained permanent </span><span class=\"gold-annotation\">neurological deficits</span><span class=\"\">.</span></li>\n",
       "        \n",
       "        <li class=\"list-group-item\" data-toggle=\"tooltip\" data-placement=\"top\" title=\"10027919-14\"><div class=\"candidate-data\" id=\"cdata-3018-15-0\" caption=\"CID: 10027919-14:1988-1995\"></div><span class=\"\">In Nx dogs, OCT reversed abnormal bone formation, such as </span><span class=\"gold-annotation\">woven osteoid</span><span class=\"\"> and </span><span class=\"candidate gold-annotation c-3018-15-0\">fibrosis</span><span class=\"\">, but did not significantly alter the level of bone turnover.</span></li>\n",
       "        \n",
       "        <li class=\"list-group-item\" data-toggle=\"tooltip\" data-placement=\"top\" title=\"11705128-13\"><span class=\"\">Questions remain about the optimal dose of ribavirin and the incidence of </span><span class=\"gold-annotation\">RIHA</span><span class=\"\"> in a real-world population.</span></li>\n",
       "        </ul>\n",
       "        </div>\n",
       "        \n",
       "        <div class=\"viewer-page viewer-page-3018\" id=\"viewer-page-3018-16\" data-nc=\"4\">\n",
       "            <ul class=\"list-group\">\n",
       "        <li class=\"list-group-item\" data-toggle=\"tooltip\" data-placement=\"top\" title=\"16116131-0\"><div class=\"candidate-data\" id=\"cdata-3018-16-0\" caption=\"CID: 16116131-0:84-90\"></div><span class=\"\">rTMS of supplementary motor area modulates therapy-induced </span><span class=\"gold-annotation\">dyskinesias</span><span class=\"\"> in </span><span class=\"gold-annotation\">Parkinson </span><span class=\"candidate gold-annotation c-3018-16-0\">disease</span><span class=\"\">.</span></li>\n",
       "        \n",
       "        <li class=\"list-group-item\" data-toggle=\"tooltip\" data-placement=\"top\" title=\"15266215-3\"><div class=\"candidate-data\" id=\"cdata-3018-16-1\" caption=\"CID: 15266215-3:913-926\"></div><div class=\"candidate-data\" id=\"cdata-3018-16-2\" caption=\"CID: 15266215-3:932-951\"></div><div class=\"candidate-data\" id=\"cdata-3018-16-3\" caption=\"CID: 15266215-3:943-951\"></div><span class=\"\">The incidence of cardiovascular </span><span class=\"gold-annotation\">thrombotic</span><span class=\"\"> events (cardiac, cerebrovascular and peripheral vascular, or arterial </span><span class=\"gold-annotation\">thrombotic</span><span class=\"\">) was determined by analyzing pooled valdecoxib (10-80 mg daily), nonselective NSAID (diclofenac 75 mg bid, ibuprofen 800 mg tid, or naproxen 500 mg bid) and placebo data from 10 randomized </span><span class=\"candidate gold-annotation c-3018-16-1\">osteoarthritis</span><span class=\"\"> and </span><span class=\"candidate gold-annotation c-3018-16-2\">rheumatoid </span><span class=\"candidate gold-annotation c-3018-16-2 c-3018-16-3\">arthritis</span><span class=\"\"> trials that were 6-52 weeks in duration.</span></li>\n",
       "        </ul>\n",
       "        </div>\n",
       "        </div>\n",
       "    <div class=\"panel-footer\">\n",
       "        <div class=\"btn-group\" role=\"group\" aria-label=\"...\">\n",
       "            <button id=\"prev-page-3018\" type=\"button\" class=\"btn btn-default\">\n",
       "                <span class=\"glyphicon glyphicon-left-arrow\" aria-hidden=\"true\"></span> Prev. Page (i)\n",
       "            </button>\n",
       "            <button id=\"prev-cand-3018\" type=\"button\" class=\"btn btn-default\">\n",
       "                <span class=\"glyphicon glyphicon-down-arrow\" aria-hidden=\"true\"></span> Prev. Cand. (j)\n",
       "            </button>\n",
       "            <button id=\"next-cand-3018\" type=\"button\" class=\"btn btn-default\">\n",
       "                <span class=\"glyphicon glyphicon-up-arrow\" aria-hidden=\"true\"></span> Next Cand. (l)\n",
       "            </button>\n",
       "            <button id=\"next-page-3018\" type=\"button\" class=\"btn btn-default\">\n",
       "                <span class=\"glyphicon glyphicon-right-arrow\" aria-hidden=\"true\"></span> Next Page (k)\n",
       "            </button>\n",
       "        </div>\n",
       "        <span><i>  Viewer must be focused for keyboard control</i></span>\n",
       "        <div class=\"page-num panel-left-justify\">Page <span id=\"page-3018\">0</span></div>\n",
       "    </div>\n",
       "</div>\n"
      ]
     },
     "metadata": {
      "text/html": {
       "isolated": false
      }
     },
     "output_type": "display_data"
    },
    {
     "data": {
      "application/javascript": [
       "$.getScript(\"http://d3js.org/d3.v3.min.js\", function () {\n",
       "$.getScript(\"https://ajax.googleapis.com/ajax/libs/jquery/1.11.3/jquery.min.js\", function () {\n",
       "var vid    = 3018;\n",
       "var nPages = 17;\n",
       "var cid    = 0;\n",
       "var pid    = 0;\n",
       "\n",
       "// Enable tooltip functionality\n",
       "$(function () {\n",
       "    $('[data-toggle=\"tooltip\"]').tooltip()\n",
       "});\n",
       "\n",
       "// Get the selector for a given candidate by number (w.r.t. to entire page group)\n",
       "function candidateSelector(cid) {\n",
       "    return $(\"span.c-\" + vid + \"-\" + pid + \"-\" + cid);\n",
       "}\n",
       "\n",
       "// Cycle through candidates and highlight, by increment inc\n",
       "function switchCandidate(inc) {\n",
       "    var nC = parseInt($(\"#viewer-page-\"+vid+\"-\"+pid).attr(\"data-nc\"));\n",
       "\n",
       "    // Clear highlighting and highlight new candidate\n",
       "    $(\"span.candidate\").removeClass(\"highlighted-candidate\");\n",
       "    if (cid + inc < 0) {\n",
       "        cid = nC + (cid + inc);\n",
       "    } else if (cid + inc > nC - 1) {\n",
       "        cid = (cid + inc) - nC;\n",
       "    } else {\n",
       "        cid += inc;\n",
       "    }\n",
       "    candidateSelector(cid).addClass(\"highlighted-candidate\");\n",
       "\n",
       "    // Fill in caption\n",
       "    $(\"#candidate-caption-\"+vid).html($(\"#cdata-\"+vid+\"-\"+pid+\"-\"+cid).attr(\"caption\"));\n",
       "};\n",
       "\n",
       "$(\"#next-cand-\" + vid).click(function() {\n",
       "    switchCandidate(1);\n",
       "});\n",
       "\n",
       "$(\"#prev-cand-\" + vid).click(function() {\n",
       "    switchCandidate(-1);\n",
       "});\n",
       "\n",
       "// Switch through pages\n",
       "function switchPage(inc) {\n",
       "    $(\".viewer-page-\"+vid).hide();\n",
       "    if (pid + inc < 0) {\n",
       "        pid = 0;\n",
       "    } else if (pid + inc > nPages - 1) {\n",
       "        pid = nPages - 1;\n",
       "    } else {\n",
       "        pid += inc;\n",
       "    }\n",
       "    $(\"#viewer-page-\"+vid+\"-\"+pid).show();\n",
       "\n",
       "    // Show pagination\n",
       "    $(\"#page-\"+vid).html(pid);\n",
       "\n",
       "    // Reset cid and set to first candidate\n",
       "    cid = 0;\n",
       "    switchCandidate(0);\n",
       "}\n",
       "\n",
       "$(\"#next-page-\" + vid).click(function() {\n",
       "    switchPage(1);\n",
       "});\n",
       "\n",
       "$(\"#prev-page-\" + vid).click(function() {\n",
       "    switchPage(-1);\n",
       "});\n",
       "\n",
       "// Arrow key functionality\n",
       "$(document).keydown(function(e) {\n",
       "\n",
       "    // Check that the Jupyter notebook cell the viewer is in is selected\n",
       "    if ($(\"#viewer-\"+vid).parents(\".cell\").hasClass(\"selected\")) {\n",
       "        switch(e.which) {\n",
       "            case 74: // j\n",
       "            switchCandidate(-1);\n",
       "            break;\n",
       "\n",
       "            case 73: // i\n",
       "            switchPage(-1);\n",
       "            break;\n",
       "\n",
       "            case 76: // l\n",
       "            switchCandidate(1);\n",
       "            break;\n",
       "\n",
       "            case 75: // k\n",
       "            switchPage(1);\n",
       "            break;\n",
       "        }\n",
       "    }\n",
       "});\n",
       "\n",
       "// Show the first page and highlight the first candidate\n",
       "$(\"#viewer-page-\"+vid+\"-0\").show();\n",
       "switchCandidate(0);\n",
       "});\n",
       "});\n"
      ]
     },
     "metadata": {},
     "output_type": "display_data"
    }
   ],
   "source": [
    "from ddlite_viewer import SentenceNgramViewer\n",
    "sv = SentenceNgramViewer(view_sents, c.get_candidates(), gold=gold)\n",
    "sv.render(n_per_page=3, height=225)"
   ]
  },
  {
   "cell_type": "markdown",
   "metadata": {},
   "source": [
    "## Composing a better candidate extractor\n",
    "\n",
    "Let's try to increase our candidate recall using more of the `Matcher` operators and their functionalities.  First, let's turn on **Porter stemming** in our dictionary matcher; Porter stemming is an aggressive rules-based method for normalizing word endings."
   ]
  },
  {
   "cell_type": "code",
   "execution_count": 17,
   "metadata": {
    "collapsed": false
   },
   "outputs": [
    {
     "name": "stdout",
     "output_type": "stream",
     "text": [
      "Extracting candidates...\n",
      "CPU times: user 16.3 s, sys: 389 ms, total: 16.7 s\n",
      "Wall time: 16.9 s\n",
      "# of gold annotations\t= 4244\n",
      "# of candidates\t\t= 9266\n",
      "Candidate recall\t= 0.749\n",
      "Candidate precision\t= 0.343\n"
     ]
    },
    {
     "name": "stderr",
     "output_type": "stream",
     "text": [
      "/Users/bradenhancock/anaconda/lib/python2.7/site-packages/nltk/stem/porter.py:274: UnicodeWarning: Unicode equal comparison failed to convert both arguments to Unicode - interpreting them as being unequal\n",
      "  if word[-1] == 's':\n"
     ]
    }
   ],
   "source": [
    "# Define a new matcher\n",
    "matcher = DictionaryMatch(d=diseases, longest_match_only=False, stemmer='porter')\n",
    "\n",
    "# Extract a new set of candidates\n",
    "%time c = Candidates(ngrams, matcher, corpus.get_sentences())\n",
    "c.gold_stats(gold)"
   ]
  },
  {
   "cell_type": "markdown",
   "metadata": {},
   "source": [
    "We'll see in particular that they are compositional; noting that we are missing all of the acronyms, let's start with the `Union` operator, to integrate a dictionary for this:"
   ]
  },
  {
   "cell_type": "code",
   "execution_count": 18,
   "metadata": {
    "collapsed": false
   },
   "outputs": [
    {
     "name": "stdout",
     "output_type": "stream",
     "text": [
      "Loaded 36904 acronyms!\n",
      "Extracting candidates...\n",
      "CPU times: user 18.4 s, sys: 569 ms, total: 19 s\n",
      "Wall time: 20.2 s\n",
      "# of gold annotations\t= 4244\n",
      "# of candidates\t\t= 9811\n",
      "Candidate recall\t= 0.778\n",
      "Candidate precision\t= 0.336\n"
     ]
    }
   ],
   "source": [
    "from ddlite_matchers import Union\n",
    "from load_dictionaries import load_acronym_dictionary\n",
    "\n",
    "# Load the disease phrase dictionary\n",
    "acronyms = load_acronym_dictionary()\n",
    "print \"Loaded %s acronyms!\" % len(acronyms)\n",
    "\n",
    "# Define a new matcher\n",
    "matcher = Union(\n",
    "    DictionaryMatch(d=diseases, longest_match_only=False, stemmer='porter'),\n",
    "    DictionaryMatch(d=acronyms, ignore_case=False))\n",
    "\n",
    "# Extract a new set of candidates\n",
    "%time c = Candidates(ngrams, matcher, corpus.get_sentences())\n",
    "c.gold_stats(gold)"
   ]
  },
  {
   "cell_type": "markdown",
   "metadata": {},
   "source": [
    "Next, we try using the `Concat` and `RegexMatch` operators to find candidate mentions composed of an _adjective followed by a term matching our diseases dictionary_.  Note in particular that we set `left_required=False` so that exact matches to our dictionary (with no adjective prepended) will still work:"
   ]
  },
  {
   "cell_type": "code",
   "execution_count": null,
   "metadata": {
    "collapsed": false
   },
   "outputs": [],
   "source": [
    "from ddlite_matchers import Concat, RegexMatchEach\n",
    "matcher = Union(\n",
    "    Concat(\n",
    "        RegexMatchEach(rgx=r'JJ*', attrib='poses'),\n",
    "        DictionaryMatch(d=diseases, longest_match_only=False, stemmer='porter'),\n",
    "        left_required=False),\n",
    "    DictionaryMatch(d=acronyms, ignore_case=False))\n",
    "\n",
    "# Extract a new set of candidates\n",
    "%time c = Candidates(ngrams, matcher, corpus.get_sentences())\n",
    "c.gold_stats(gold)"
   ]
  },
  {
   "cell_type": "markdown",
   "metadata": {},
   "source": [
    "### More coming here...\n",
    "\n",
    "We've increased the candidate recall (on the development set) by 7.3% using some simple compositional `Matcher` operators.  We'll be adding more here soon!"
   ]
  },
  {
   "cell_type": "markdown",
   "metadata": {},
   "source": [
    "## Connecting with the rest of the `DDLite` workflow\n",
    "\n",
    "We are in the process of a big code refactor!  For now, to connect the candidates derived as in above to the rest of the `DDLite` workflow, create a `CandidateExtractor` class as follows:"
   ]
  },
  {
   "cell_type": "code",
   "execution_count": null,
   "metadata": {
    "collapsed": true
   },
   "outputs": [],
   "source": [
    "from ddlite_matchers import CandidateExtractor\n",
    "ce = CandidateExtractor(ngrams, matcher)"
   ]
  },
  {
   "cell_type": "markdown",
   "metadata": {},
   "source": [
    "This object can now be used in place of the candidate extractors in the other tutorials!"
   ]
  }
 ],
 "metadata": {
  "kernelspec": {
   "display_name": "Python 2",
   "language": "python",
   "name": "python2"
  },
  "language_info": {
   "codemirror_mode": {
    "name": "ipython",
    "version": 2
   },
   "file_extension": ".py",
   "mimetype": "text/x-python",
   "name": "python",
   "nbconvert_exporter": "python",
   "pygments_lexer": "ipython2",
   "version": "2.7.12"
  }
 },
 "nbformat": 4,
 "nbformat_minor": 0
}
