{
 "cells": [
  {
   "cell_type": "markdown",
   "metadata": {},
   "source": [
    "# Tutorial, Part I: Candidate Extraction\n",
    "\n",
    "In this example, we'll be writing an application to extract **chemical-induced-disease relationships** from Pubmed abstracts, as per the [BioCreative CDR Challenge](http://www.biocreative.org/resources/corpora/biocreative-v-cdr-corpus/).  At core, we will be constructing a model to classify _candidate chemical-disease (C-D) relation mentions_ as either true or false.  To do this, we first need a set of such candidates- in this notebook, we'll use `DDLite` utilities to extract these candidates."
   ]
  },
  {
   "cell_type": "markdown",
   "metadata": {},
   "source": [
    "## Loading the Corpus\n",
    "\n",
    "First, we will load and pre-process the corpus, storing it for convenience in a `Corpus` object"
   ]
  },
  {
   "cell_type": "markdown",
   "metadata": {},
   "source": [
    "### Configuring a document parser\n",
    "\n",
    "We'll start by defining a `DocParser` class to read in Pubmed abstracts from [Pubtator]([Pubtator](http://www.ncbi.nlm.nih.gov/CBBresearch/Lu/Demo/PubTator/index.cgi)), where they are stored along with \"gold\" (i.e. hand-annotated by experts) *chemical* and *disease mention* annotations. We'll use the `XMLDocParser` class, which allows us to use [XPath queries](https://en.wikipedia.org/wiki/XPath) to specify the relevant sections of the XML format.\n",
    "\n",
    "_Note that we are newline-concatenating text from the title and abstract together for simplicity, but if we wanted to, we could easily extend the `DocParser` classes to preserve information about document structure._"
   ]
  },
  {
   "cell_type": "code",
   "execution_count": 1,
   "metadata": {
    "collapsed": false
   },
   "outputs": [],
   "source": [
    "from ddlite_parser import XMLDocParser\n",
    "xml_parser = XMLDocParser(\n",
    "    path='data/CDR_DevelopmentSet.xml',\n",
    "    doc='.//document',\n",
    "    text='.//passage/text/text()',\n",
    "    id='.//id/text()',\n",
    "    keep_xml_tree=True)"
   ]
  },
  {
   "cell_type": "markdown",
   "metadata": {},
   "source": [
    "### Selecting a sentence parser\n",
    "\n",
    "Next, we'll use an NLP preprocessing tool to split the `Document` objects into sentences, tokens, and provide annotations--part-of-speech tags, dependency parse structure, lemmatized word forms, etc.--for these sentences.  Here we use the default `SentenceParser` class."
   ]
  },
  {
   "cell_type": "code",
   "execution_count": 2,
   "metadata": {
    "collapsed": false
   },
   "outputs": [],
   "source": [
    "from ddlite_parser import SentenceParser\n",
    "sent_parser = SentenceParser()"
   ]
  },
  {
   "cell_type": "markdown",
   "metadata": {},
   "source": [
    "### Pre-processing & loading the corpus\n",
    "\n",
    "Finally, we'll put this all together using a `Corpus` object, which will execute the parsers and store the results as an iterator:"
   ]
  },
  {
   "cell_type": "code",
   "execution_count": 3,
   "metadata": {
    "collapsed": false
   },
   "outputs": [
    {
     "name": "stdout",
     "output_type": "stream",
     "text": [
      "Parsing documents...\n",
      "Parsing sentences...\n",
      "CPU times: user 4.3 s, sys: 138 ms, total: 4.44 s\n",
      "Wall time: 29.8 s\n"
     ]
    }
   ],
   "source": [
    "from ddlite_parser import Corpus\n",
    "%time corpus = Corpus(xml_parser, sent_parser)"
   ]
  },
  {
   "cell_type": "code",
   "execution_count": 4,
   "metadata": {
    "collapsed": false
   },
   "outputs": [
    {
     "name": "stdout",
     "output_type": "stream",
     "text": [
      "Document(id='1445986', file='CDR_DevelopmentSet.xml', text=\"Cefotetan-induced immune hemolytic anemia.\\nImmune hemolytic anemia due to a drug-adsorption mechanism has been described primarily in patients receiving penicillins and first-generation cephalosporins. We describe a patient who developed anemia while receiving intravenous cefotetan. Cefotetan-dependent antibodies were detected in the patient's serum and in an eluate prepared from his red blood cells. The eluate also reacted weakly with red blood cells in the absence of cefotetan, suggesting the concomitant formation of warm-reactive autoantibodies. These observations, in conjunction with clinical and laboratory evidence of extravascular hemolysis, are consistent with drug-induced hemolytic anemia, possibly involving both drug-adsorption and autoantibody formation mechanisms. This case emphasizes the need for increased awareness of hemolytic reactions to all cephalosporins.\", attribs={'root': <Element document at 0x1169b7e60>})\n"
     ]
    }
   ],
   "source": [
    "doc  = corpus.get_docs()[2]\n",
    "print doc"
   ]
  },
  {
   "cell_type": "code",
   "execution_count": 5,
   "metadata": {
    "collapsed": false
   },
   "outputs": [
    {
     "name": "stdout",
     "output_type": "stream",
     "text": [
      "Sentence(id='1445986-0', words=[u'Cefotetan-induced', u'immune', u'hemolytic', u'anemia', u'.'], lemmas=[u'cefotetan-induced', u'immune', u'hemolytic', u'anemia', u'.'], poses=[u'JJ', u'JJ', u'JJ', u'NN', u'.'], dep_parents=[4, 4, 4, 0, 4], dep_labels=[u'amod', u'amod', u'amod', u'ROOT', u'punct'], sent_id=0, doc_id='1445986', text=u'Cefotetan-induced immune hemolytic anemia.', char_offsets=[0, 18, 25, 35, 41], doc_name='CDR_DevelopmentSet.xml')\n"
     ]
    }
   ],
   "source": [
    "sent = corpus.get_sentences_in(doc.id)[0]\n",
    "print sent"
   ]
  },
  {
   "cell_type": "markdown",
   "metadata": {},
   "source": [
    "## Writing a basic candidate extractor\n",
    "\n",
    "Next, we'll write a basic function to extract **candidate disease mentions** from the corpus.  For this first attempt, we'll just write a function that checks for matches against a list (or _\"dictionary\"_) of disease phrases, constructed using some pre-compiled ontologies ([UMLS](https://www.nlm.nih.gov/research/umls/), [ORDO](http://www.orphadata.org/cgi-bin/inc/ordo_orphanet.inc.php), [DOID](http://www.obofoundry.org/ontology/doid.html), [NCBI Diseases](http://www.ncbi.nlm.nih.gov/CBBresearch/Dogan/DISEASE/); see `tutorial/data/diseases.py`).\n",
    "\n",
    "We'll do this using a `CandidateSpace` object--which defines the basic candidates we consider, in this case n-grams up to a certain length--and a `Matcher` object, which filters this candidate space down."
   ]
  },
  {
   "cell_type": "code",
   "execution_count": 6,
   "metadata": {
    "collapsed": false
   },
   "outputs": [
    {
     "name": "stdout",
     "output_type": "stream",
     "text": [
      "Loaded 507899 disease phrases!\n"
     ]
    }
   ],
   "source": [
    "from load_dictionaries import load_disease_dictionary\n",
    "from ddlite_candidates import Ngrams\n",
    "from ddlite_matchers import DictionaryMatch\n",
    "\n",
    "# Load the disease phrase dictionary\n",
    "diseases = load_disease_dictionary()\n",
    "print \"Loaded %s disease phrases!\" % len(diseases)\n",
    "\n",
    "# Define a candidate space\n",
    "ngrams = Ngrams(n_max=3)\n",
    "\n",
    "# Define a matcher\n",
    "matcher = DictionaryMatch(d=diseases, longest_match_only=False)"
   ]
  },
  {
   "cell_type": "markdown",
   "metadata": {},
   "source": [
    "Note that we set `longest_match_only=False`, which means that we _will_ consider subsequences of phrases that match our dictionary.\n",
    "\n",
    "The `Ngrams` operator is applied over our `Sentence` objects and returns `Ngram` objects, and the `Matcher` then filters these, so we apply our operators over the sentences in the corpus, storing the results in a `Candidates` object for convenience:"
   ]
  },
  {
   "cell_type": "code",
   "execution_count": 7,
   "metadata": {
    "collapsed": false
   },
   "outputs": [
    {
     "name": "stdout",
     "output_type": "stream",
     "text": [
      "Extracting candidates...\n",
      "CPU times: user 5.16 s, sys: 137 ms, total: 5.3 s\n",
      "Wall time: 5.21 s\n"
     ]
    },
    {
     "data": {
      "text/plain": [
       "[<Ngram(\"depression\", id=6794356-5:662-671, chars=[662,671], words=[4,4]),\n",
       " <Ngram(\"fulminant hepatitis\", id=3411101-5:504-522, chars=[504,522], words=[8,9]),\n",
       " <Ngram(\"examined\", id=16132524-4:674-681, chars=[674,681], words=[29,29]),\n",
       " <Ngram(\"hypertension\", id=16820346-4:652-663, chars=[652,663], words=[3,3]),\n",
       " <Ngram(\"artery disease\", id=15531665-5:829-842, chars=[829,842], words=[16,17])]"
      ]
     },
     "execution_count": 7,
     "metadata": {},
     "output_type": "execute_result"
    }
   ],
   "source": [
    "from ddlite_candidates import Candidates\n",
    "%time c = Candidates(ngrams, matcher, corpus.get_sentences())\n",
    "c.get_candidates()[:5]"
   ]
  },
  {
   "cell_type": "markdown",
   "metadata": {},
   "source": [
    "## Evaluating our candidate recall on gold annotations\n",
    "\n",
    "Next, we'll test our _candidate recall_--in other words, how many of the true disease mentions we picked up in our candidate set--using the gold annotations in our dataset.\n",
    "\n",
    "The XML documents that we loaded using the `XMLDocParser` also contained annotations (this is why we kept the full xml tree using `keep_xml_tree=True`).  We'll load these annotations and map them to `Ngram` objects over our parsed sentences, that way we can easily compare our extracted candidate set with the gold annotations.  The code is fairly simple (see `tutorial/util.py`); note that we filter to only keep _disease_ annotations, and that the candidates should be uniquely identified by their `id` attribute:"
   ]
  },
  {
   "cell_type": "code",
   "execution_count": 8,
   "metadata": {
    "collapsed": false
   },
   "outputs": [],
   "source": [
    "from utils import collect_pubtator_annotations\n",
    "gold = []\n",
    "for doc, sents in corpus:\n",
    "    gold += [a for a in collect_pubtator_annotations(doc, sents) if a.metadata['type'] == 'Disease']\n",
    "gold = frozenset(gold)"
   ]
  },
  {
   "cell_type": "markdown",
   "metadata": {},
   "source": [
    "Now, we have a set of gold annotations of the same type as our candidates (`Ngram`), and can use set operations (where candidate objects are hashed by their `id` attribute), e.g.:"
   ]
  },
  {
   "cell_type": "code",
   "execution_count": 9,
   "metadata": {
    "collapsed": false
   },
   "outputs": [
    {
     "data": {
      "text/plain": [
       "3039"
      ]
     },
     "execution_count": 9,
     "metadata": {},
     "output_type": "execute_result"
    }
   ],
   "source": [
    "len(gold.intersection(c.get_candidates()))"
   ]
  },
  {
   "cell_type": "markdown",
   "metadata": {},
   "source": [
    "For convenience, we'll use a basic helper method of the `Candidates` object:"
   ]
  },
  {
   "cell_type": "code",
   "execution_count": 10,
   "metadata": {
    "collapsed": false
   },
   "outputs": [
    {
     "name": "stdout",
     "output_type": "stream",
     "text": [
      "# of gold annotations\t= 4244\n",
      "# of candidates\t\t= 6944\n",
      "Candidate recall\t= 0.716\n",
      "Candidate precision\t= 0.438\n"
     ]
    }
   ],
   "source": [
    "c.gold_stats(gold)"
   ]
  },
  {
   "cell_type": "markdown",
   "metadata": {},
   "source": [
    "We note that our focus in this stage is on **acheiving high candidate recall, without considering an impractically large candidate set**.  Our main focus after this stage will be on training a classifier to select which candidates are true; this will raise precision while hopefully keeping recall high.  _Note however that candidate recall is an upper bound for the recall of this classifier!_\n",
    "\n",
    "So, we have some work to do."
   ]
  },
  {
   "cell_type": "markdown",
   "metadata": {},
   "source": [
    "## Using the `Viewer` to inspect data\n",
    "\n",
    "Next, we'll use the `Viewer` class--here, specifically, the `SentenceNgramViewer`--to inspect the data.\n",
    "\n",
    "To start, we'll assemble a random set of all the sentences where there are gold annotations _not in our candidate set_, i.e. where we missed something, and then inspect these in the `Viewer`:"
   ]
  },
  {
   "cell_type": "code",
   "execution_count": 11,
   "metadata": {
    "collapsed": false
   },
   "outputs": [],
   "source": [
    "from collections import defaultdict\n",
    "from random import shuffle\n",
    "\n",
    "# Index the gold annotations by sentence id\n",
    "gold_by_sid = defaultdict(list)\n",
    "for g in gold:\n",
    "    gold_by_sid[g.sent_id].append(g)\n",
    "\n",
    "# Get sentences\n",
    "view_sents = [s for s in corpus.get_sentences() if len(c.get_candidates_in(s.id)) < len(gold_by_sid[s.id])]\n",
    "shuffle(view_sents)\n",
    "view_sents = view_sents[:50]"
   ]
  },
  {
   "cell_type": "markdown",
   "metadata": {},
   "source": [
    "Now, we instantiate and render the `Viewer` object; note we're being a bit sloppy, passing in _all_ the candidates and gold labels, but the `Viewer` object will take care of indexing them by sentence, and will only render the sentences we pass in:"
   ]
  },
  {
   "cell_type": "code",
   "execution_count": 12,
   "metadata": {
    "collapsed": false,
    "scrolled": true
   },
   "outputs": [
    {
     "data": {
      "text/html": [
       "<link href=\"../viewer/bootstrap/css/bootstrap.min.css\" rel=\"stylesheet\" />\n",
       "<link href=\"../viewer/viewer.css\" type=\"text/css\" rel=\"stylesheet\" />\n",
       "<div id=\"viewer-9673\" class=\"viewer-pane panel panel-default\" tabindex=\"0\">\n",
       "    <div class=\"panel-heading\">\n",
       "        <h3 class=\"panel-title\">Viewer</h3>\n",
       "        <div id=\"candidate-caption-9673\" class=\"panel-left-justify\"></div>\n",
       "    </div>\n",
       "    <div class=\"panel-body\" style=\"height:225px\">\n",
       "        <div class=\"viewer-page viewer-page-9673\" id=\"viewer-page-9673-0\" data-nc=\"1\">\n",
       "            <ul class=\"list-group\">\n",
       "        <li class=\"list-group-item\" data-toggle=\"tooltip\" data-placement=\"top\" title=\"11868798-9\"><div class=\"candidate-data\" id=\"cdata-9673-0-0\" caption=\"CID: 11868798-9:1442-1452\"></div><span class=\"\">CONCLUSION: This study showed that spironolactone can reduce potassium requirements and prevent </span><span class=\"candidate gold-annotation c-9673-0-0\">hypokalemia</span><span class=\"\"> by reducing urinary potassium loss in </span><span class=\"gold-annotation\">neutropenic</span><span class=\"\"> patients on AmB treatment.</span></li>\n",
       "        \n",
       "        <li class=\"list-group-item\" data-toggle=\"tooltip\" data-placement=\"top\" title=\"7910951-8\"><span class=\"\">A muscle biopsy in this patient showed </span><span class=\"gold-annotation\">loss of thick, myosin filaments</span><span class=\"\">.</span></li>\n",
       "        \n",
       "        <li class=\"list-group-item\" data-toggle=\"tooltip\" data-placement=\"top\" title=\"2594614-4\"><span class=\"\">When BN 52021 (20 mg/kg i.v.) was injected immediately after bupivacaine (2 mg/kg), a partial reversion of the </span><span class=\"gold-annotation\">decrease of MBP and HR</span><span class=\"\"> was observed, whereas the dose of 10 mg/kg was ineffective.</span></li>\n",
       "        </ul>\n",
       "        </div>\n",
       "        \n",
       "        <div class=\"viewer-page viewer-page-9673\" id=\"viewer-page-9673-1\" data-nc=\"0\">\n",
       "            <ul class=\"list-group\">\n",
       "        <li class=\"list-group-item\" data-toggle=\"tooltip\" data-placement=\"top\" title=\"17241657-1\"><span class=\"\">Earlier studies have demonstrated that antagonism of sigma1 receptors attenuates the </span><span class=\"gold-annotation\">convulsive</span><span class=\"\">, lethal, locomotor stimulatory and rewarding actions of cocaine in mice.</span></li>\n",
       "        \n",
       "        <li class=\"list-group-item\" data-toggle=\"tooltip\" data-placement=\"top\" title=\"9321531-4\"><span class=\"\">RESULTS: The percent improvements at six months were as follows: off-period score for overall motor function, 28 percent (95 percent confidence interval, 19 to 38 percent), with most of the improvement in the contralateral limbs; off-period score for activities of daily living, 29 percent (95 percent confidence interval, 19 to 39 percent); on-period score for contralateral </span><span class=\"gold-annotation\">dyskinesias</span><span class=\"\">, 82 percent (95 percent confidence interval, 72 to 91 percent); and on-period score for ipsilateral </span><span class=\"gold-annotation\">dyskinesias</span><span class=\"\">, 44 percent (95 percent confidence interval, 29 to 59 percent).</span></li>\n",
       "        \n",
       "        <li class=\"list-group-item\" data-toggle=\"tooltip\" data-placement=\"top\" title=\"18239197-0\"><span class=\"\">Increased </span><span class=\"gold-annotation\">mental slowing</span><span class=\"\"> associated with the APOE epsilon4 allele after trihexyphenidyl oral anticholinergic challenge in healthy elderly.</span></li>\n",
       "        </ul>\n",
       "        </div>\n",
       "        \n",
       "        <div class=\"viewer-page viewer-page-9673\" id=\"viewer-page-9673-2\" data-nc=\"1\">\n",
       "            <ul class=\"list-group\">\n",
       "        <li class=\"list-group-item\" data-toggle=\"tooltip\" data-placement=\"top\" title=\"8384253-2\"><span class=\"\">The patients were interviewed with emphasis on </span><span class=\"gold-annotation\">neuropathic symptoms</span><span class=\"\">.</span></li>\n",
       "        \n",
       "        <li class=\"list-group-item\" data-toggle=\"tooltip\" data-placement=\"top\" title=\"9270571-1\"><div class=\"candidate-data\" id=\"cdata-9673-2-0\" caption=\"CID: 9270571-1:229-235\"></div><span class=\"\">The clinical utility of dopamine (DA) D1 receptor agonists in the treatment of </span><span class=\"gold-annotation\">Parkinson's </span><span class=\"candidate gold-annotation c-9673-2-0\">disease</span><span class=\"\"> (</span><span class=\"gold-annotation\">PD</span><span class=\"\">) is still unclear.</span></li>\n",
       "        \n",
       "        <li class=\"list-group-item\" data-toggle=\"tooltip\" data-placement=\"top\" title=\"9669632-3\"><span class=\"\">METHODS: Thirty-eight patients with </span><span class=\"gold-annotation\">IBS</span><span class=\"\"> (</span><span class=\"gold-annotation\">constipation</span><span class=\"\">-predominant, n = 17; </span><span class=\"gold-annotation\">diarrhoea</span><span class=\"\">-predominant, n = 21) underwent 24-h ambulatory jejunal manometry before and after 12 week's treatment [cisapride, 5 mg three times daily (n = 19) or placebo (n = 19)].</span></li>\n",
       "        </ul>\n",
       "        </div>\n",
       "        \n",
       "        <div class=\"viewer-page viewer-page-9673\" id=\"viewer-page-9673-3\" data-nc=\"3\">\n",
       "            <ul class=\"list-group\">\n",
       "        <li class=\"list-group-item\" data-toggle=\"tooltip\" data-placement=\"top\" title=\"9270571-5\"><div class=\"candidate-data\" id=\"cdata-9673-3-0\" caption=\"CID: 9270571-5:1466-1477\"></div><span class=\"\">Acute administration of A-86929 was as efficacious in alleviating MPTP-induced </span><span class=\"candidate gold-annotation c-9673-3-0\">parkinsonism</span><span class=\"\"> as levodopa and LY-171555, but was less likely to reproduce the levodopa-induced </span><span class=\"gold-annotation\">dyskinesias</span><span class=\"\"> in these animals than with either LY-171555 or subsequent challenge of levodopa.</span></li>\n",
       "        \n",
       "        <li class=\"list-group-item\" data-toggle=\"tooltip\" data-placement=\"top\" title=\"8665051-10\"><div class=\"candidate-data\" id=\"cdata-9673-3-1\" caption=\"CID: 8665051-10:1403-1409\"></div><div class=\"candidate-data\" id=\"cdata-9673-3-2\" caption=\"CID: 8665051-10:1465-1471\"></div><span class=\"\">ATPase staining of the diaphragm, scalenus medius, and gastrocnemius showed type IIb fiber </span><span class=\"candidate gold-annotation c-9673-3-1\">atrophy</span><span class=\"\"> in the steroid groups and also diaphragmatic type IIa </span><span class=\"candidate gold-annotation c-9673-3-2\">atrophy</span><span class=\"\"> with T, whereas histologic examinations revealed a normal muscular pattern with absence of </span><span class=\"gold-annotation\">necrosis</span><span class=\"\">.</span></li>\n",
       "        \n",
       "        <li class=\"list-group-item\" data-toggle=\"tooltip\" data-placement=\"top\" title=\"16600756-10\"><span class=\"\">In patients with </span><span class=\"gold-annotation\">OAB</span><span class=\"\"> urinary PGE2 positively correlated with volume at first desire to void and maximum cystometric capacity (p <0.05).</span></li>\n",
       "        </ul>\n",
       "        </div>\n",
       "        \n",
       "        <div class=\"viewer-page viewer-page-9673\" id=\"viewer-page-9673-4\" data-nc=\"6\">\n",
       "            <ul class=\"list-group\">\n",
       "        <li class=\"list-group-item\" data-toggle=\"tooltip\" data-placement=\"top\" title=\"1535072-9\"><span class=\"\">CONCLUSION: The results of this study indicate that yohimbine may be an effective treatment for the </span><span class=\"gold-annotation\">sexual side effects</span><span class=\"\"> caused by serotonin reuptake blockers.</span></li>\n",
       "        \n",
       "        <li class=\"list-group-item\" data-toggle=\"tooltip\" data-placement=\"top\" title=\"6637851-7\"><div class=\"candidate-data\" id=\"cdata-9673-4-0\" caption=\"CID: 6637851-7:1034-1050\"></div><div class=\"candidate-data\" id=\"cdata-9673-4-1\" caption=\"CID: 6637851-7:1057-1062\"></div><div class=\"candidate-data\" id=\"cdata-9673-4-2\" caption=\"CID: 6637851-7:1067-1072\"></div><div class=\"candidate-data\" id=\"cdata-9673-4-3\" caption=\"CID: 6637851-7:1081-1086\"></div><div class=\"candidate-data\" id=\"cdata-9673-4-4\" caption=\"CID: 6637851-7:1092-1099\"></div><div class=\"candidate-data\" id=\"cdata-9673-4-5\" caption=\"CID: 6637851-7:1201-1211\"></div><span class=\"\">The most common symptomatic </span><span class=\"candidate c-9673-4-0\">adverse reactions</span><span class=\"\"> were </span><span class=\"candidate gold-annotation c-9673-4-1\">tremor</span><span class=\"\"> or </span><span class=\"candidate gold-annotation c-9673-4-2\">ataxia</span><span class=\"\"> (35%), </span><span class=\"candidate gold-annotation c-9673-4-3\">nausea</span><span class=\"\"> and </span><span class=\"candidate gold-annotation c-9673-4-4\">anorexia</span><span class=\"\"> (8%), </span><span class=\"gold-annotation\">visual halos or blurring</span><span class=\"\"> (6%), </span><span class=\"gold-annotation\">thyroid function abnormalities</span><span class=\"\"> (6%) and </span><span class=\"gold-annotation\">pulmonary interstitial </span><span class=\"candidate gold-annotation c-9673-4-5\">infiltrates</span><span class=\"\"> (5%).</span></li>\n",
       "        \n",
       "        <li class=\"list-group-item\" data-toggle=\"tooltip\" data-placement=\"top\" title=\"16584858-7\"><span class=\"\">Activities of heart tissue enzymic antioxidants and serum non-enzymic antioxidants levels rose significantly upon mangiferin administration as compared to ISPH-induced </span><span class=\"gold-annotation\">MI</span><span class=\"\"> rats.</span></li>\n",
       "        </ul>\n",
       "        </div>\n",
       "        \n",
       "        <div class=\"viewer-page viewer-page-9673\" id=\"viewer-page-9673-5\" data-nc=\"1\">\n",
       "            <ul class=\"list-group\">\n",
       "        <li class=\"list-group-item\" data-toggle=\"tooltip\" data-placement=\"top\" title=\"11099450-1\"><span class=\"\">The objective of this study was to explore the functional anatomy of the globus pallidus internus (GPi) by studying the effects of unilateral pallidotomy on </span><span class=\"gold-annotation\">parkinsonian</span><span class=\"\"> 'off' signs and levodopa-induced </span><span class=\"gold-annotation\">dyskinesias</span><span class=\"\"> (</span><span class=\"gold-annotation\">LID</span><span class=\"\">).</span></li>\n",
       "        \n",
       "        <li class=\"list-group-item\" data-toggle=\"tooltip\" data-placement=\"top\" title=\"3653576-5\"><div class=\"candidate-data\" id=\"cdata-9673-5-0\" caption=\"CID: 3653576-5:866-871\"></div><span class=\"\">In contrast, </span><span class=\"gold-annotation\">protein excretion</span><span class=\"\"> in tubular </span><span class=\"candidate c-9673-5-0\">damage</span><span class=\"\"> was raised only slightly and characterized by </span><span class=\"gold-annotation\">excretion of proteins</span><span class=\"\"> of a wide range of molecular weights.</span></li>\n",
       "        \n",
       "        <li class=\"list-group-item\" data-toggle=\"tooltip\" data-placement=\"top\" title=\"1711760-7\"><span class=\"\">Specific gravity (SG) was determined in the subcortex and in two sites in the cortex (core and periphery of the </span><span class=\"gold-annotation\">ischemic</span><span class=\"\"> territory).</span></li>\n",
       "        </ul>\n",
       "        </div>\n",
       "        \n",
       "        <div class=\"viewer-page viewer-page-9673\" id=\"viewer-page-9673-6\" data-nc=\"0\">\n",
       "            <ul class=\"list-group\">\n",
       "        <li class=\"list-group-item\" data-toggle=\"tooltip\" data-placement=\"top\" title=\"2528969-12\"><span class=\"\">Bone marrow changes occurred rapidly as demonstrated by </span><span class=\"gold-annotation\">megaloblastosis</span><span class=\"\"> in 95% of 65 specimens at week 18.</span></li>\n",
       "        \n",
       "        <li class=\"list-group-item\" data-toggle=\"tooltip\" data-placement=\"top\" title=\"17263743-3\"><span class=\"\">Without the knowledge of the medical personnel, the patient's mother administered three doses of clonidine during the evening before and morning of surgery to reduce </span><span class=\"gold-annotation\">anxiety</span><span class=\"\">.</span></li>\n",
       "        \n",
       "        <li class=\"list-group-item\" data-toggle=\"tooltip\" data-placement=\"top\" title=\"18627295-3\"><span class=\"\">DOX control mice showed </span><span class=\"gold-annotation\">cardiac dysfunction</span><span class=\"\"> measured by pressure-volume loops in vivo.</span></li>\n",
       "        </ul>\n",
       "        </div>\n",
       "        \n",
       "        <div class=\"viewer-page viewer-page-9673\" id=\"viewer-page-9673-7\" data-nc=\"2\">\n",
       "            <ul class=\"list-group\">\n",
       "        <li class=\"list-group-item\" data-toggle=\"tooltip\" data-placement=\"top\" title=\"19319147-2\"><span class=\"\">There is no consensus on the optimal treatment for W-</span><span class=\"gold-annotation\">ICH</span><span class=\"\">.</span></li>\n",
       "        \n",
       "        <li class=\"list-group-item\" data-toggle=\"tooltip\" data-placement=\"top\" title=\"10524660-8\"><div class=\"candidate-data\" id=\"cdata-9673-7-0\" caption=\"CID: 10524660-8:1074-1081\"></div><div class=\"candidate-data\" id=\"cdata-9673-7-1\" caption=\"CID: 10524660-8:1134-1141\"></div><span class=\"\">In the controls, the GTN-induced </span><span class=\"candidate gold-annotation c-9673-7-0\">headache</span><span class=\"\"> gradually disappeared, whereas in </span><span class=\"gold-annotation\">migraineurs</span><span class=\"\"> peak </span><span class=\"candidate gold-annotation c-9673-7-1\">headache</span><span class=\"\"> intensity occurred at a mean time of 240 min post-infusion.</span></li>\n",
       "        \n",
       "        <li class=\"list-group-item\" data-toggle=\"tooltip\" data-placement=\"top\" title=\"14633084-9\"><span class=\"\">CONCLUSION: Dexamethasone in combination with mesna was efficient in blocking IFS-induced </span><span class=\"gold-annotation\">HC</span><span class=\"\">.</span></li>\n",
       "        </ul>\n",
       "        </div>\n",
       "        \n",
       "        <div class=\"viewer-page viewer-page-9673\" id=\"viewer-page-9673-8\" data-nc=\"2\">\n",
       "            <ul class=\"list-group\">\n",
       "        <li class=\"list-group-item\" data-toggle=\"tooltip\" data-placement=\"top\" title=\"12739036-11\"><span class=\"\">Discriminating between primary </span><span class=\"gold-annotation\">SLE</span><span class=\"\">-induced </span><span class=\"gold-annotation\">affection of the musculoskeletal system</span><span class=\"\"> and drug-induced side effects is important for appropriate treatment of </span><span class=\"gold-annotation\">SLE</span><span class=\"\"> patients.</span></li>\n",
       "        \n",
       "        <li class=\"list-group-item\" data-toggle=\"tooltip\" data-placement=\"top\" title=\"10539815-16\"><div class=\"candidate-data\" id=\"cdata-9673-8-0\" caption=\"CID: 10539815-16:2777-2784\"></div><div class=\"candidate-data\" id=\"cdata-9673-8-1\" caption=\"CID: 10539815-16:2827-2842\"></div><span class=\"candidate gold-annotation c-9673-8-0\">Diabetes</span><span class=\"\"> was associated with an increased risk of </span><span class=\"candidate gold-annotation c-9673-8-1\">renal impairment</span><span class=\"\"> in all patients with </span><span class=\"gold-annotation\">CHF</span><span class=\"\">, but this risk was reduced in the enalapril group compared with the placebo group.</span></li>\n",
       "        \n",
       "        <li class=\"list-group-item\" data-toggle=\"tooltip\" data-placement=\"top\" title=\"16725121-6\"><span class=\"\">Co-administration of lidocaine with desipramine reversed the changes of </span><span class=\"gold-annotation\">convulsive</span><span class=\"\"> activity of lidocaine and cocaine induced by repeated administration of desipramine.</span></li>\n",
       "        </ul>\n",
       "        </div>\n",
       "        \n",
       "        <div class=\"viewer-page viewer-page-9673\" id=\"viewer-page-9673-9\" data-nc=\"2\">\n",
       "            <ul class=\"list-group\">\n",
       "        <li class=\"list-group-item\" data-toggle=\"tooltip\" data-placement=\"top\" title=\"17285209-8\"><div class=\"candidate-data\" id=\"cdata-9673-9-0\" caption=\"CID: 17285209-8:932-941\"></div><span class=\"\">Angiotensin-converting enzyme inhibitor (ACEI)-induced </span><span class=\"candidate gold-annotation c-9673-9-0\">angioedema</span><span class=\"\"> was suspected, and anti-</span><span class=\"gold-annotation\">hypertensive</span><span class=\"\"> medications were discontinued.</span></li>\n",
       "        \n",
       "        <li class=\"list-group-item\" data-toggle=\"tooltip\" data-placement=\"top\" title=\"18541230-5\"><span class=\"\">Treatment with antithrombin attenuated the puromycin aminonucleoside-induced </span><span class=\"gold-annotation\">hematological abnormalities</span><span class=\"\">.</span></li>\n",
       "        \n",
       "        <li class=\"list-group-item\" data-toggle=\"tooltip\" data-placement=\"top\" title=\"20552622-6\"><div class=\"candidate-data\" id=\"cdata-9673-9-1\" caption=\"CID: 20552622-6:644-658\"></div><span class=\"\">DISCUSSION: Swallowing-induced </span><span class=\"gold-annotation\">atrial </span><span class=\"candidate gold-annotation c-9673-9-1\">tachyarrhythmia</span><span class=\"\"> (</span><span class=\"gold-annotation\">SIAT</span><span class=\"\">) is a rare phenomenon.</span></li>\n",
       "        </ul>\n",
       "        </div>\n",
       "        \n",
       "        <div class=\"viewer-page viewer-page-9673\" id=\"viewer-page-9673-10\" data-nc=\"2\">\n",
       "            <ul class=\"list-group\">\n",
       "        <li class=\"list-group-item\" data-toggle=\"tooltip\" data-placement=\"top\" title=\"1535072-2\"><span class=\"\">A single case report suggests that yohimbine may be used to treat the </span><span class=\"gold-annotation\">sexual side effects</span><span class=\"\"> of clomipramine.</span></li>\n",
       "        \n",
       "        <li class=\"list-group-item\" data-toggle=\"tooltip\" data-placement=\"top\" title=\"16116131-0\"><div class=\"candidate-data\" id=\"cdata-9673-10-0\" caption=\"CID: 16116131-0:84-90\"></div><span class=\"\">rTMS of supplementary motor area modulates therapy-induced </span><span class=\"gold-annotation\">dyskinesias</span><span class=\"\"> in </span><span class=\"gold-annotation\">Parkinson </span><span class=\"candidate gold-annotation c-9673-10-0\">disease</span><span class=\"\">.</span></li>\n",
       "        \n",
       "        <li class=\"list-group-item\" data-toggle=\"tooltip\" data-placement=\"top\" title=\"18541230-6\"><div class=\"candidate-data\" id=\"cdata-9673-10-1\" caption=\"CID: 18541230-6:613-626\"></div><span class=\"\">Puromycin aminonucleoside-induced </span><span class=\"gold-annotation\">renal dysfunction</span><span class=\"\"> and </span><span class=\"candidate gold-annotation c-9673-10-1\">hyperlipidemia</span><span class=\"\"> were also suppressed.</span></li>\n",
       "        </ul>\n",
       "        </div>\n",
       "        \n",
       "        <div class=\"viewer-page viewer-page-9673\" id=\"viewer-page-9673-11\" data-nc=\"5\">\n",
       "            <ul class=\"list-group\">\n",
       "        <li class=\"list-group-item\" data-toggle=\"tooltip\" data-placement=\"top\" title=\"16600756-13\"><span class=\"\">Urinary levels of these factors may be used as markers to evaluate </span><span class=\"gold-annotation\">OAB</span><span class=\"\"> symptoms.</span></li>\n",
       "        \n",
       "        <li class=\"list-group-item\" data-toggle=\"tooltip\" data-placement=\"top\" title=\"17042884-14\"><div class=\"candidate-data\" id=\"cdata-9673-11-0\" caption=\"CID: 17042884-14:2196-2200\"></div><div class=\"candidate-data\" id=\"cdata-9673-11-1\" caption=\"CID: 17042884-14:2235-2243\"></div><span class=\"\">CONCLUSIONS: In </span><span class=\"gold-annotation\">bipolar </span><span class=\"candidate gold-annotation c-9673-11-0\">mania</span><span class=\"\">, the incidence of </span><span class=\"gold-annotation\">EPS</span><span class=\"\">, including </span><span class=\"candidate gold-annotation c-9673-11-1\">akathisia</span><span class=\"\">, with quetiapine therapy is similar to that with placebo.</span></li>\n",
       "        \n",
       "        <li class=\"list-group-item\" data-toggle=\"tooltip\" data-placement=\"top\" title=\"2004015-2\"><div class=\"candidate-data\" id=\"cdata-9673-11-2\" caption=\"CID: 2004015-2:227-235\"></div><div class=\"candidate-data\" id=\"cdata-9673-11-3\" caption=\"CID: 2004015-2:279-287\"></div><div class=\"candidate-data\" id=\"cdata-9673-11-4\" caption=\"CID: 2004015-2:331-337\"></div><span class=\"\">We have used a murine model of </span><span class=\"gold-annotation\">AIDS</span><span class=\"\">, </span><span class=\"candidate gold-annotation c-9673-11-2\">infection</span><span class=\"\"> of female C57BL/6 mice with LP-BM5 murine </span><span class=\"candidate gold-annotation c-9673-11-3\">leukaemia</span><span class=\"\"> (MuLV) virus, to determine if AZT-induced </span><span class=\"candidate gold-annotation c-9673-11-4\">anaemia</span><span class=\"\"> is due, in part, to decreased responsiveness of erythropoietic precursors (BFU-e) to erythropoietin (EPO).</span></li>\n",
       "        </ul>\n",
       "        </div>\n",
       "        \n",
       "        <div class=\"viewer-page viewer-page-9673\" id=\"viewer-page-9673-12\" data-nc=\"2\">\n",
       "            <ul class=\"list-group\">\n",
       "        <li class=\"list-group-item\" data-toggle=\"tooltip\" data-placement=\"top\" title=\"7066357-12\"><span class=\"\">It is likely that the early and striking increase of plasma HDL found in </span><span class=\"gold-annotation\">nephrotic</span><span class=\"\"> rats is related to a direct effect of the drug on HDL metabolism.</span></li>\n",
       "        \n",
       "        <li class=\"list-group-item\" data-toggle=\"tooltip\" data-placement=\"top\" title=\"3088349-1\"><div class=\"candidate-data\" id=\"cdata-9673-12-0\" caption=\"CID: 3088349-1:199-204\"></div><div class=\"candidate-data\" id=\"cdata-9673-12-1\" caption=\"CID: 3088349-1:309-316\"></div><span class=\"\">Following unilateral 6-OHDA induced </span><span class=\"gold-annotation\">SN </span><span class=\"candidate gold-annotation c-9673-12-0\">lesion</span><span class=\"\">, a transient period of </span><span class=\"gold-annotation\">contralateral rotation</span><span class=\"\"> has been reported to precede the predominant </span><span class=\"gold-annotation\">ipsilateral </span><span class=\"candidate gold-annotation c-9673-12-1\">circling</span><span class=\"\">.</span></li>\n",
       "        \n",
       "        <li class=\"list-group-item\" data-toggle=\"tooltip\" data-placement=\"top\" title=\"11284996-3\"><span class=\"\">The subjects were randomly allocated to receive 0.5 microg/kg/min GTN or placebo over 20 min on two </span><span class=\"gold-annotation\">headache</span><span class=\"\">-free days.</span></li>\n",
       "        </ul>\n",
       "        </div>\n",
       "        \n",
       "        <div class=\"viewer-page viewer-page-9673\" id=\"viewer-page-9673-13\" data-nc=\"1\">\n",
       "            <ul class=\"list-group\">\n",
       "        <li class=\"list-group-item\" data-toggle=\"tooltip\" data-placement=\"top\" title=\"6728084-8\"><span class=\"\">Thus, aminoglycosides may act as nephrotoxicants at glomerular and/or tubular level inducing </span><span class=\"gold-annotation\">impairment of renal reabsorption</span><span class=\"\"> and accumulation of proteins.</span></li>\n",
       "        \n",
       "        <li class=\"list-group-item\" data-toggle=\"tooltip\" data-placement=\"top\" title=\"8106150-7\"><div class=\"candidate-data\" id=\"cdata-9673-13-0\" caption=\"CID: 8106150-7:886-895\"></div><span class=\"\">Baclofen was also useful in one monkey against a more </span><span class=\"gold-annotation\">dystonic</span><span class=\"\"> form of </span><span class=\"candidate gold-annotation c-9673-13-0\">dyskinesia</span><span class=\"\">.</span></li>\n",
       "        \n",
       "        <li class=\"list-group-item\" data-toggle=\"tooltip\" data-placement=\"top\" title=\"11282081-5\"><span class=\"\">Epicardial mapping with 240 epicardial electrodes was used to evaluate activation during </span><span class=\"gold-annotation\">AF</span><span class=\"\">.</span></li>\n",
       "        </ul>\n",
       "        </div>\n",
       "        \n",
       "        <div class=\"viewer-page viewer-page-9673\" id=\"viewer-page-9673-14\" data-nc=\"3\">\n",
       "            <ul class=\"list-group\">\n",
       "        <li class=\"list-group-item\" data-toggle=\"tooltip\" data-placement=\"top\" title=\"15266362-6\"><div class=\"candidate-data\" id=\"cdata-9673-14-0\" caption=\"CID: 15266362-6:756-771\"></div><div class=\"candidate-data\" id=\"cdata-9673-14-1\" caption=\"CID: 15266362-6:788-798\"></div><span class=\"\">It is likely that the </span><span class=\"candidate gold-annotation c-9673-14-0\">hypersensitivity</span><span class=\"\"> (</span><span class=\"gold-annotation\">eosinophilic</span><span class=\"\">) </span><span class=\"candidate gold-annotation c-9673-14-1\">myocarditis</span><span class=\"\"> was related to dobutamine infusion therapy.</span></li>\n",
       "        \n",
       "        <li class=\"list-group-item\" data-toggle=\"tooltip\" data-placement=\"top\" title=\"11524350-10\"><div class=\"candidate-data\" id=\"cdata-9673-14-2\" caption=\"CID: 11524350-10:1017-1024\"></div><span class=\"\">The cumulative doses of levobupivacaine that produced </span><span class=\"gold-annotation\">dysrhythmias</span><span class=\"\"> and </span><span class=\"candidate gold-annotation c-9673-14-2\">asystole</span><span class=\"\"> were smaller than the corresponding doses of ropivacaine, but they were larger than those of bupivacaine.</span></li>\n",
       "        \n",
       "        <li class=\"list-group-item\" data-toggle=\"tooltip\" data-placement=\"top\" title=\"3653576-4\"><span class=\"\">The latter was characterized by a pronounced increase in </span><span class=\"gold-annotation\">protein excretion</span><span class=\"\">, especially proteins with molecular weight greater than 40,000 Da.</span></li>\n",
       "        </ul>\n",
       "        </div>\n",
       "        \n",
       "        <div class=\"viewer-page viewer-page-9673\" id=\"viewer-page-9673-15\" data-nc=\"6\">\n",
       "            <ul class=\"list-group\">\n",
       "        <li class=\"list-group-item\" data-toggle=\"tooltip\" data-placement=\"top\" title=\"1711760-5\"><span class=\"\">Four hours after </span><span class=\"gold-annotation\">MCAO</span><span class=\"\">, the rats were killed and the brains harvested.</span></li>\n",
       "        \n",
       "        <li class=\"list-group-item\" data-toggle=\"tooltip\" data-placement=\"top\" title=\"1711760-12\"><div class=\"candidate-data\" id=\"cdata-9673-15-0\" caption=\"CID: 1711760-12:1427-1438\"></div><div class=\"candidate-data\" id=\"cdata-9673-15-1\" caption=\"CID: 1711760-12:1466-1473\"></div><div class=\"candidate-data\" id=\"cdata-9673-15-2\" caption=\"CID: 1711760-12:1475-1483\"></div><div class=\"candidate-data\" id=\"cdata-9673-15-3\" caption=\"CID: 1711760-12:1485-1489\"></div><div class=\"candidate-data\" id=\"cdata-9673-15-4\" caption=\"CID: 1711760-12:1530-1534\"></div><span class=\"\">The data indicate that phenylephrine-induced </span><span class=\"candidate gold-annotation c-9673-15-0\">hypertension</span><span class=\"\"> instituted 2 h after </span><span class=\"gold-annotation\">MCAO</span><span class=\"\"> </span><span class=\"candidate c-9673-15-1\">does not</span><span class=\"\"> </span><span class=\"candidate c-9673-15-2\">aggravate</span><span class=\"\"> </span><span class=\"candidate gold-annotation c-9673-15-3\">edema</span><span class=\"\"> in the </span><span class=\"gold-annotation\">ischemic</span><span class=\"\"> core, that it improves </span><span class=\"candidate gold-annotation c-9673-15-4\">edema</span><span class=\"\"> in the periphery of the </span><span class=\"gold-annotation\">ischemic</span><span class=\"\"> territory, and that it reduces the area of histochemical </span><span class=\"gold-annotation\">neuronal dysfunction</span><span class=\"\">.</span></li>\n",
       "        \n",
       "        <li class=\"list-group-item\" data-toggle=\"tooltip\" data-placement=\"top\" title=\"9523850-2\"><div class=\"candidate-data\" id=\"cdata-9673-15-5\" caption=\"CID: 9523850-2:312-319\"></div><span class=\"\">In 40% of treated patients, an </span><span class=\"gold-annotation\">arthralgia</span><span class=\"\">-</span><span class=\"gold-annotation\">myalgia</span><span class=\"\"> </span><span class=\"candidate c-9673-15-5\">syndrome</span><span class=\"\"> develops.</span></li>\n",
       "        </ul>\n",
       "        </div>\n",
       "        \n",
       "        <div class=\"viewer-page viewer-page-9673\" id=\"viewer-page-9673-16\" data-nc=\"1\">\n",
       "            <ul class=\"list-group\">\n",
       "        <li class=\"list-group-item\" data-toggle=\"tooltip\" data-placement=\"top\" title=\"11099450-3\"><div class=\"candidate-data\" id=\"cdata-9673-16-0\" caption=\"CID: 11099450-3:761-766\"></div><span class=\"\">We also found a highly significant correlation (P: < 0.0001, r = 0.8) between the volume of the ventral </span><span class=\"candidate c-9673-16-0\">lesion</span><span class=\"\"> in the GPi and the improvement in </span><span class=\"gold-annotation\">LID</span><span class=\"\"> in the contralateral limbs, whereas there was no correlation between the ventral volume and the improvement in </span><span class=\"gold-annotation\">parkinsonian</span><span class=\"\"> 'off' signs.</span></li>\n",
       "        \n",
       "        <li class=\"list-group-item\" data-toggle=\"tooltip\" data-placement=\"top\" title=\"12600698-6\"><span class=\"\">These results suggest that edaravone suppresses streptomycin-induced </span><span class=\"gold-annotation\">vestibulotoxicity</span><span class=\"\">.</span></li>\n",
       "        </ul>\n",
       "        </div>\n",
       "        </div>\n",
       "    <div class=\"panel-footer\">\n",
       "        <div class=\"btn-group\" role=\"group\" aria-label=\"...\">\n",
       "            <button id=\"prev-page-9673\" type=\"button\" class=\"btn btn-default\">\n",
       "                <span class=\"glyphicon glyphicon-left-arrow\" aria-hidden=\"true\"></span> Prev. Page (i)\n",
       "            </button>\n",
       "            <button id=\"prev-cand-9673\" type=\"button\" class=\"btn btn-default\">\n",
       "                <span class=\"glyphicon glyphicon-down-arrow\" aria-hidden=\"true\"></span> Prev. Cand. (j)\n",
       "            </button>\n",
       "            <button id=\"next-cand-9673\" type=\"button\" class=\"btn btn-default\">\n",
       "                <span class=\"glyphicon glyphicon-up-arrow\" aria-hidden=\"true\"></span> Next Cand. (l)\n",
       "            </button>\n",
       "            <button id=\"next-page-9673\" type=\"button\" class=\"btn btn-default\">\n",
       "                <span class=\"glyphicon glyphicon-right-arrow\" aria-hidden=\"true\"></span> Next Page (k)\n",
       "            </button>\n",
       "        </div>\n",
       "        <span><i>  Viewer must be focused for keyboard control</i></span>\n",
       "        <div class=\"page-num panel-left-justify\">Page <span id=\"page-9673\">0</span></div>\n",
       "    </div>\n",
       "</div>\n"
      ]
     },
     "metadata": {
      "text/html": {
       "isolated": false
      }
     },
     "output_type": "display_data"
    },
    {
     "data": {
      "application/javascript": [
       "$.getScript(\"http://d3js.org/d3.v3.min.js\", function () {\n",
       "$.getScript(\"https://ajax.googleapis.com/ajax/libs/jquery/1.11.3/jquery.min.js\", function () {\n",
       "var vid    = 9673;\n",
       "var nPages = 17;\n",
       "var cid    = 0;\n",
       "var pid    = 0;\n",
       "\n",
       "// Enable tooltip functionality\n",
       "$(function () {\n",
       "    $('[data-toggle=\"tooltip\"]').tooltip()\n",
       "});\n",
       "\n",
       "// Get the selector for a given candidate by number (w.r.t. to entire page group)\n",
       "function candidateSelector(cid) {\n",
       "    return $(\"span.c-\" + vid + \"-\" + pid + \"-\" + cid);\n",
       "}\n",
       "\n",
       "// Cycle through candidates and highlight, by increment inc\n",
       "function switchCandidate(inc) {\n",
       "    var nC = parseInt($(\"#viewer-page-\"+vid+\"-\"+pid).attr(\"data-nc\"));\n",
       "\n",
       "    // Clear highlighting and highlight new candidate\n",
       "    $(\"span.candidate\").removeClass(\"highlighted-candidate\");\n",
       "    if (cid + inc < 0) {\n",
       "        cid = nC + (cid + inc);\n",
       "    } else if (cid + inc > nC - 1) {\n",
       "        cid = (cid + inc) - nC;\n",
       "    } else {\n",
       "        cid += inc;\n",
       "    }\n",
       "    candidateSelector(cid).addClass(\"highlighted-candidate\");\n",
       "\n",
       "    // Fill in caption\n",
       "    $(\"#candidate-caption-\"+vid).html($(\"#cdata-\"+vid+\"-\"+pid+\"-\"+cid).attr(\"caption\"));\n",
       "};\n",
       "\n",
       "$(\"#next-cand-\" + vid).click(function() {\n",
       "    switchCandidate(1);\n",
       "});\n",
       "\n",
       "$(\"#prev-cand-\" + vid).click(function() {\n",
       "    switchCandidate(-1);\n",
       "});\n",
       "\n",
       "// Switch through pages\n",
       "function switchPage(inc) {\n",
       "    $(\".viewer-page-\"+vid).hide();\n",
       "    if (pid + inc < 0) {\n",
       "        pid = 0;\n",
       "    } else if (pid + inc > nPages - 1) {\n",
       "        pid = nPages - 1;\n",
       "    } else {\n",
       "        pid += inc;\n",
       "    }\n",
       "    $(\"#viewer-page-\"+vid+\"-\"+pid).show();\n",
       "\n",
       "    // Show pagination\n",
       "    $(\"#page-\"+vid).html(pid);\n",
       "\n",
       "    // Reset cid and set to first candidate\n",
       "    cid = 0;\n",
       "    switchCandidate(0);\n",
       "}\n",
       "\n",
       "$(\"#next-page-\" + vid).click(function() {\n",
       "    switchPage(1);\n",
       "});\n",
       "\n",
       "$(\"#prev-page-\" + vid).click(function() {\n",
       "    switchPage(-1);\n",
       "});\n",
       "\n",
       "// Arrow key functionality\n",
       "$(document).keydown(function(e) {\n",
       "\n",
       "    // Check that the Jupyter notebook cell the viewer is in is selected\n",
       "    if ($(\"#viewer-\"+vid).parents(\".cell\").hasClass(\"selected\")) {\n",
       "        switch(e.which) {\n",
       "            case 74: // j\n",
       "            switchCandidate(-1);\n",
       "            break;\n",
       "\n",
       "            case 73: // i\n",
       "            switchPage(-1);\n",
       "            break;\n",
       "\n",
       "            case 76: // l\n",
       "            switchCandidate(1);\n",
       "            break;\n",
       "\n",
       "            case 75: // k\n",
       "            switchPage(1);\n",
       "            break;\n",
       "        }\n",
       "    }\n",
       "});\n",
       "\n",
       "// Show the first page and highlight the first candidate\n",
       "$(\"#viewer-page-\"+vid+\"-0\").show();\n",
       "switchCandidate(0);\n",
       "});\n",
       "});\n"
      ]
     },
     "metadata": {},
     "output_type": "display_data"
    }
   ],
   "source": [
    "from ddlite_viewer import SentenceNgramViewer\n",
    "sv = SentenceNgramViewer(view_sents, c.get_candidates(), gold=gold)\n",
    "sv.render(n_per_page=3, height=225)"
   ]
  },
  {
   "cell_type": "markdown",
   "metadata": {},
   "source": [
    "## Composing a better candidate extractor\n",
    "\n",
    "Let's try to increase our candidate recall using more of the `Matcher` operators and their functionalities.  First, let's turn on **Porter stemming** in our dictionary matcher; Porter stemming is an aggressive rules-based method for normalizing word endings."
   ]
  },
  {
   "cell_type": "code",
   "execution_count": 13,
   "metadata": {
    "collapsed": false
   },
   "outputs": [
    {
     "name": "stdout",
     "output_type": "stream",
     "text": [
      "Extracting candidates...\n",
      "CPU times: user 9.83 s, sys: 198 ms, total: 10 s\n",
      "Wall time: 9.91 s\n",
      "# of gold annotations\t= 4244\n",
      "# of candidates\t\t= 9266\n",
      "Candidate recall\t= 0.749\n",
      "Candidate precision\t= 0.343\n"
     ]
    },
    {
     "name": "stderr",
     "output_type": "stream",
     "text": [
      "/Library/Python/2.7/site-packages/nltk/stem/porter.py:274: UnicodeWarning: Unicode equal comparison failed to convert both arguments to Unicode - interpreting them as being unequal\n",
      "  if word[-1] == 's':\n"
     ]
    }
   ],
   "source": [
    "# Define a new matcher\n",
    "matcher = DictionaryMatch(d=diseases, longest_match_only=False, stemmer='porter')\n",
    "\n",
    "# Extract a new set of candidates\n",
    "%time c = Candidates(ngrams, matcher, corpus.get_sentences())\n",
    "c.gold_stats(gold)"
   ]
  },
  {
   "cell_type": "markdown",
   "metadata": {},
   "source": [
    "Next, note that *`Matcher` objects are compositional*. Observing in the `Viewer` that we are missing all of the acronyms, let's start with the `Union` operator, to integrate a dictionary for this:"
   ]
  },
  {
   "cell_type": "code",
   "execution_count": 14,
   "metadata": {
    "collapsed": false
   },
   "outputs": [
    {
     "name": "stdout",
     "output_type": "stream",
     "text": [
      "Loaded 36904 acronyms!\n",
      "Extracting candidates...\n",
      "CPU times: user 10.7 s, sys: 120 ms, total: 10.8 s\n",
      "Wall time: 10.7 s\n",
      "# of gold annotations\t= 4244\n",
      "# of candidates\t\t= 9811\n",
      "Candidate recall\t= 0.778\n",
      "Candidate precision\t= 0.336\n"
     ]
    }
   ],
   "source": [
    "from ddlite_matchers import Union\n",
    "from load_dictionaries import load_acronym_dictionary\n",
    "\n",
    "# Load the disease phrase dictionary\n",
    "acronyms = load_acronym_dictionary()\n",
    "print \"Loaded %s acronyms!\" % len(acronyms)\n",
    "\n",
    "# Define a new matcher\n",
    "matcher = Union(\n",
    "    DictionaryMatch(d=diseases, longest_match_only=False, stemmer='porter'),\n",
    "    DictionaryMatch(d=acronyms, ignore_case=False))\n",
    "\n",
    "# Extract a new set of candidates\n",
    "%time c = Candidates(ngrams, matcher, corpus.get_sentences())\n",
    "c.gold_stats(gold)"
   ]
  },
  {
   "cell_type": "markdown",
   "metadata": {},
   "source": [
    "Next, we try using the `Concat` and `RegexMatch` operators to find candidate mentions composed of an _adjective followed by a term matching our diseases dictionary_.  Note in particular that we set `left_required=False` so that exact matches to our dictionary (with no adjective prepended) will still work:"
   ]
  },
  {
   "cell_type": "code",
   "execution_count": 15,
   "metadata": {
    "collapsed": false
   },
   "outputs": [
    {
     "name": "stdout",
     "output_type": "stream",
     "text": [
      "Extracting candidates...\n",
      "CPU times: user 21.8 s, sys: 513 ms, total: 22.3 s\n",
      "Wall time: 22 s\n",
      "# of gold annotations\t= 4244\n",
      "# of candidates\t\t= 12292\n",
      "Candidate recall\t= 0.821\n",
      "Candidate precision\t= 0.284\n"
     ]
    }
   ],
   "source": [
    "from ddlite_matchers import Concat, RegexMatchEach\n",
    "matcher = Union(\n",
    "    Concat(\n",
    "        RegexMatchEach(rgx=r'JJ*', attrib='poses'),\n",
    "        DictionaryMatch(d=diseases, longest_match_only=False, stemmer='porter'),\n",
    "        left_required=False),\n",
    "    DictionaryMatch(d=acronyms, ignore_case=False))\n",
    "\n",
    "# Extract a new set of candidates\n",
    "%time c = Candidates(ngrams, matcher, corpus.get_sentences())\n",
    "c.gold_stats(gold)"
   ]
  },
  {
   "cell_type": "markdown",
   "metadata": {},
   "source": [
    "### Running candidate extraction in parallel\n",
    "\n",
    "Note that **the candidate extraction procedure can be parallelized across multiple cores using the `parallelism=N`** optional argument to the `Candidates` object."
   ]
  },
  {
   "cell_type": "markdown",
   "metadata": {},
   "source": [
    "### More coming here...\n",
    "\n",
    "We've increased the candidate recall (on the development set) by 7.3% using some simple compositional `Matcher` operators.  We'll be adding more here soon!"
   ]
  },
  {
   "cell_type": "markdown",
   "metadata": {},
   "source": [
    "## Connecting with the rest of the `DDLite` workflow\n",
    "\n",
    "We are in the process of a big code refactor!  For now, to connect the candidates derived as in above to the rest of the `DDLite` workflow, create a `CandidateExtractor` class as follows:"
   ]
  },
  {
   "cell_type": "code",
   "execution_count": null,
   "metadata": {
    "collapsed": true
   },
   "outputs": [],
   "source": [
    "from ddlite_matchers import CandidateExtractor\n",
    "ce = CandidateExtractor(ngrams, matcher)"
   ]
  },
  {
   "cell_type": "markdown",
   "metadata": {},
   "source": [
    "This object can now be used in place of the candidate extractors in the other tutorials!"
   ]
  }
 ],
 "metadata": {
  "kernelspec": {
   "display_name": "Python 2",
   "language": "python",
   "name": "python2"
  },
  "language_info": {
   "codemirror_mode": {
    "name": "ipython",
    "version": 2
   },
   "file_extension": ".py",
   "mimetype": "text/x-python",
   "name": "python",
   "nbconvert_exporter": "python",
   "pygments_lexer": "ipython2",
   "version": "2.7.10"
  }
 },
 "nbformat": 4,
 "nbformat_minor": 0
}
