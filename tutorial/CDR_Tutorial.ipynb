{
 "cells": [
  {
   "cell_type": "markdown",
   "metadata": {},
   "source": [
    "# Tutorial, Part I: Candidate Extraction\n",
    "\n",
    "In this example, we'll be writing an application to extract **chemical-induced-disease relationships** from Pubmed abstracts, as per the [BioCreative CDR Challenge](http://www.biocreative.org/resources/corpora/biocreative-v-cdr-corpus/).  At core, we will be constructing a model to classify _candidate chemical-disease (C-D) relation mentions_ as either true or false.  To do this, we first need a set of such candidates- in this notebook, we'll use `DDLite` utilities to extract these candidates."
   ]
  },
  {
   "cell_type": "markdown",
   "metadata": {},
   "source": [
    "## Loading the Corpus\n",
    "\n",
    "First, we will load and pre-process the corpus, storing it for convenience in a `Corpus` object"
   ]
  },
  {
   "cell_type": "markdown",
   "metadata": {},
   "source": [
    "### Configuring a document parser\n",
    "\n",
    "We'll start by defining a `DocParser` class to read in Pubmed abstracts from [Pubtator]([Pubtator](http://www.ncbi.nlm.nih.gov/CBBresearch/Lu/Demo/PubTator/index.cgi)), where they are stored along with \"gold\" (i.e. hand-annotated by experts) *chemical* and *disease mention* annotations. We'll use the `XMLDocParser` class, which allows us to use [XPath queries](https://en.wikipedia.org/wiki/XPath) to specify the relevant sections of the XML format.\n",
    "\n",
    "_Note that we are newline-concatenating text from the title and abstract together for simplicity, but if we wanted to, we could easily extend the `DocParser` classes to preserve information about document structure._"
   ]
  },
  {
   "cell_type": "code",
   "execution_count": 1,
   "metadata": {
    "collapsed": false
   },
   "outputs": [],
   "source": [
    "from ddlite_parser import XMLDocParser\n",
    "xml_parser = XMLDocParser(\n",
    "    path='data/CDR_DevelopmentSet.xml',\n",
    "    doc='.//document',\n",
    "    text='.//passage/text/text()',\n",
    "    id='.//id/text()',\n",
    "    keep_xml_tree=True)"
   ]
  },
  {
   "cell_type": "markdown",
   "metadata": {},
   "source": [
    "### Selecting a sentence parser\n",
    "\n",
    "Next, we'll use an NLP preprocessing tool to split the `Document` objects into sentences, tokens, and provide annotations--part-of-speech tags, dependency parse structure, lemmatized word forms, etc.--for these sentences.  Here we use the default `SentenceParser` class."
   ]
  },
  {
   "cell_type": "code",
   "execution_count": 2,
   "metadata": {
    "collapsed": false
   },
   "outputs": [],
   "source": [
    "from ddlite_parser import SentenceParser\n",
    "sent_parser = SentenceParser()"
   ]
  },
  {
   "cell_type": "markdown",
   "metadata": {},
   "source": [
    "### Pre-processing & loading the corpus\n",
    "\n",
    "Finally, we'll put this all together using a `Corpus` object, which will execute the parsers and store the results as an iterator:"
   ]
  },
  {
   "cell_type": "code",
   "execution_count": 3,
   "metadata": {
    "collapsed": false
   },
   "outputs": [
    {
     "name": "stdout",
     "output_type": "stream",
     "text": [
      "Parsing documents...\n",
      "Parsing sentences...\n",
      "CPU times: user 4.01 s, sys: 121 ms, total: 4.13 s\n",
      "Wall time: 36.4 s\n"
     ]
    }
   ],
   "source": [
    "from ddlite_parser import Corpus\n",
    "%time corpus = Corpus(xml_parser, sent_parser)"
   ]
  },
  {
   "cell_type": "code",
   "execution_count": 4,
   "metadata": {
    "collapsed": false
   },
   "outputs": [
    {
     "name": "stdout",
     "output_type": "stream",
     "text": [
      "Document(id='1445986', file='CDR_DevelopmentSet.xml', text=\"Cefotetan-induced immune hemolytic anemia.\\nImmune hemolytic anemia due to a drug-adsorption mechanism has been described primarily in patients receiving penicillins and first-generation cephalosporins. We describe a patient who developed anemia while receiving intravenous cefotetan. Cefotetan-dependent antibodies were detected in the patient's serum and in an eluate prepared from his red blood cells. The eluate also reacted weakly with red blood cells in the absence of cefotetan, suggesting the concomitant formation of warm-reactive autoantibodies. These observations, in conjunction with clinical and laboratory evidence of extravascular hemolysis, are consistent with drug-induced hemolytic anemia, possibly involving both drug-adsorption and autoantibody formation mechanisms. This case emphasizes the need for increased awareness of hemolytic reactions to all cephalosporins.\", attribs={'root': <Element document at 0x107e80e60>})\n"
     ]
    }
   ],
   "source": [
    "doc  = corpus.get_docs()[2]\n",
    "print doc"
   ]
  },
  {
   "cell_type": "code",
   "execution_count": 5,
   "metadata": {
    "collapsed": false
   },
   "outputs": [
    {
     "name": "stdout",
     "output_type": "stream",
     "text": [
      "Sentence(id='1445986-0', words=[u'Cefotetan-induced', u'immune', u'hemolytic', u'anemia', u'.'], lemmas=[u'cefotetan-induced', u'immune', u'hemolytic', u'anemia', u'.'], poses=[u'JJ', u'JJ', u'JJ', u'NN', u'.'], dep_parents=[4, 4, 4, 0, 4], dep_labels=[u'amod', u'amod', u'amod', u'ROOT', u'punct'], sent_id=0, doc_id='1445986', text=u'Cefotetan-induced immune hemolytic anemia.', char_offsets=[0, 18, 25, 35, 41], doc_name='CDR_DevelopmentSet.xml')\n"
     ]
    }
   ],
   "source": [
    "sent = corpus.get_sentences_in(doc.id)[0]\n",
    "print sent"
   ]
  },
  {
   "cell_type": "markdown",
   "metadata": {},
   "source": [
    "## Writing a basic candidate extractor\n",
    "\n",
    "Next, we'll write a basic function to extract **candidate disease mentions** from the corpus.  For this first attempt, we'll just write a function that checks for matches against a list (or _\"dictionary\"_) of disease phrases, constructed using some pre-compiled ontologies ([UMLS](https://www.nlm.nih.gov/research/umls/), [ORDO](http://www.orphadata.org/cgi-bin/inc/ordo_orphanet.inc.php), [DOID](http://www.obofoundry.org/ontology/doid.html), [NCBI Diseases](http://www.ncbi.nlm.nih.gov/CBBresearch/Dogan/DISEASE/); see `tutorial/data/diseases.py`).\n",
    "\n",
    "We'll do this using a `CandidateSpace` object--which defines the basic candidates we consider, in this case n-grams up to a certain length--and a `Matcher` object, which filters this candidate space down."
   ]
  },
  {
   "cell_type": "code",
   "execution_count": 6,
   "metadata": {
    "collapsed": false
   },
   "outputs": [
    {
     "name": "stdout",
     "output_type": "stream",
     "text": [
      "Loaded 507899 disease phrases!\n"
     ]
    }
   ],
   "source": [
    "from load_dictionaries import load_disease_dictionary\n",
    "from ddlite_candidates import Ngrams\n",
    "from ddlite_matchers import DictionaryMatch\n",
    "\n",
    "# Load the disease phrase dictionary\n",
    "diseases = load_disease_dictionary()\n",
    "print \"Loaded %s disease phrases!\" % len(diseases)\n",
    "\n",
    "# Define a candidate space\n",
    "ngrams = Ngrams(n_max=3)\n",
    "\n",
    "# Define a matcher\n",
    "matcher = DictionaryMatch(d=diseases, longest_match_only=False)"
   ]
  },
  {
   "cell_type": "markdown",
   "metadata": {},
   "source": [
    "Note that we set `longest_match_only=False`, which means that we _will_ consider subsequences of phrases that match our dictionary.\n",
    "\n",
    "The `Ngrams` operator is applied over our `Sentence` objects and returns `Ngram` objects, and the `Matcher` then filters these, so we apply our operators over the sentences in the corpus, storing the results in a `Candidates` object for convenience:"
   ]
  },
  {
   "cell_type": "code",
   "execution_count": 7,
   "metadata": {
    "collapsed": false
   },
   "outputs": [
    {
     "name": "stdout",
     "output_type": "stream",
     "text": [
      "Extracting candidates...\n",
      "CPU times: user 5.05 s, sys: 261 ms, total: 5.31 s\n",
      "Wall time: 5.13 s\n"
     ]
    },
    {
     "data": {
      "text/plain": [
       "[<Ngram(\"depression\", id=6794356-5:662-671, chars=[662,671], words=[4,4]),\n",
       " <Ngram(\"fulminant hepatitis\", id=3411101-5:504-522, chars=[504,522], words=[8,9]),\n",
       " <Ngram(\"examined\", id=16132524-4:674-681, chars=[674,681], words=[29,29]),\n",
       " <Ngram(\"hypertension\", id=16820346-4:652-663, chars=[652,663], words=[3,3]),\n",
       " <Ngram(\"artery disease\", id=15531665-5:829-842, chars=[829,842], words=[16,17])]"
      ]
     },
     "execution_count": 7,
     "metadata": {},
     "output_type": "execute_result"
    }
   ],
   "source": [
    "from ddlite_candidates import Candidates\n",
    "%time c = Candidates(ngrams, matcher, corpus.get_sentences())\n",
    "c.get_candidates()[:5]"
   ]
  },
  {
   "cell_type": "markdown",
   "metadata": {},
   "source": [
    "## Evaluating our candidate recall on gold annotations\n",
    "\n",
    "Next, we'll test our _candidate recall_--in other words, how many of the true disease mentions we picked up in our candidate set--using the gold annotations in our dataset.\n",
    "\n",
    "The XML documents that we loaded using the `XMLDocParser` also contained annotations (this is why we kept the full xml tree using `keep_xml_tree=True`).  We'll load these annotations and map them to `Ngram` objects over our parsed sentences, that way we can easily compare our extracted candidate set with the gold annotations.  The code is fairly simple (see `tutorial/util.py`); note that we filter to only keep _disease_ annotations, and that the candidates should be uniquely identified by their `id` attribute:"
   ]
  },
  {
   "cell_type": "code",
   "execution_count": 8,
   "metadata": {
    "collapsed": false
   },
   "outputs": [],
   "source": [
    "from utils import collect_pubtator_annotations\n",
    "gold = []\n",
    "for doc, sents in corpus:\n",
    "    gold += [a for a in collect_pubtator_annotations(doc, sents) if a.metadata['type'] == 'Disease']\n",
    "gold = frozenset(gold)"
   ]
  },
  {
   "cell_type": "markdown",
   "metadata": {},
   "source": [
    "Now, we have a set of gold annotations of the same type as our candidates (`Ngram`), and can use set operations (where candidate objects are hashed by their `id` attribute), e.g.:"
   ]
  },
  {
   "cell_type": "code",
   "execution_count": 9,
   "metadata": {
    "collapsed": false
   },
   "outputs": [
    {
     "data": {
      "text/plain": [
       "3039"
      ]
     },
     "execution_count": 9,
     "metadata": {},
     "output_type": "execute_result"
    }
   ],
   "source": [
    "len(gold.intersection(c.get_candidates()))"
   ]
  },
  {
   "cell_type": "markdown",
   "metadata": {},
   "source": [
    "For convenience, we'll use a basic helper method of the `Candidates` object:"
   ]
  },
  {
   "cell_type": "code",
   "execution_count": 10,
   "metadata": {
    "collapsed": false
   },
   "outputs": [
    {
     "name": "stdout",
     "output_type": "stream",
     "text": [
      "# of gold annotations\t= 4244\n",
      "# of candidates\t\t= 6944\n",
      "Candidate recall\t= 0.716\n",
      "Candidate precision\t= 0.438\n"
     ]
    }
   ],
   "source": [
    "c.gold_stats(gold)"
   ]
  },
  {
   "cell_type": "markdown",
   "metadata": {},
   "source": [
    "We note that our focus in this stage is on **acheiving high candidate recall, without considering an impractically large candidate set**.  Our main focus after this stage will be on training a classifier to select which candidates are true; this will raise precision while hopefully keeping recall high.  _Note however that candidate recall is an upper bound for the recall of this classifier!_\n",
    "\n",
    "So, we have some work to do."
   ]
  },
  {
   "cell_type": "markdown",
   "metadata": {},
   "source": [
    "## Using the `Viewer` to inspect data\n",
    "\n",
    "Next, we'll use the `Viewer` class--here, specifically, the `SentenceNgramViewer`--to inspect the data.\n",
    "\n",
    "To start, we'll assemble a random set of all the sentences where there are gold annotations _not in our candidate set_, i.e. where we missed something, and then inspect these in the `Viewer`:"
   ]
  },
  {
   "cell_type": "code",
   "execution_count": 11,
   "metadata": {
    "collapsed": false
   },
   "outputs": [],
   "source": [
    "# Index the gold annotations by sentence id\n",
    "gold_by_sid = defaultdict(list)\n",
    "for g in gold:\n",
    "    gold_by_sid[g.sent_id].append(g)\n",
    "\n",
    "# Get sentences\n",
    "view_sents = [s for s in corpus.get_sentences() if len(c.get_candidates_in(s.id)) < len(gold_by_sid[s.id])]\n",
    "shuffle(view_sents)\n",
    "view_sents = view_sents[:50]"
   ]
  },
  {
   "cell_type": "markdown",
   "metadata": {},
   "source": [
    "Now, we instantiate and render the `Viewer` object; note we're being a bit sloppy, passing in _all_ the candidates and gold labels, but the `Viewer` object will take care of indexing them by sentence, and will only render the sentences we pass in:"
   ]
  },
  {
   "cell_type": "code",
   "execution_count": 12,
   "metadata": {
    "collapsed": false,
    "scrolled": true
   },
   "outputs": [
    {
     "data": {
      "text/html": [
       "<link href=\"../viewer/bootstrap/css/bootstrap.min.css\" rel=\"stylesheet\" />\n",
       "<link href=\"../viewer/viewer.css\" type=\"text/css\" rel=\"stylesheet\" />\n",
       "<div id=\"viewer-4023\" class=\"viewer-pane panel panel-default\" tabindex=\"0\">\n",
       "    <div class=\"panel-heading\">\n",
       "        <h3 class=\"panel-title\">Viewer</h3>\n",
       "        <div id=\"candidate-caption-4023\" class=\"panel-left-justify\"></div>\n",
       "    </div>\n",
       "    <div class=\"panel-body\" style=\"height:225px\">\n",
       "        <div class=\"viewer-page viewer-page-4023\" id=\"viewer-page-4023-0\" data-nc=\"1\">\n",
       "            <ul class=\"list-group\">\n",
       "        <li class=\"list-group-item\" data-toggle=\"tooltip\" data-placement=\"top\" title=\"11912119-5\"><div class=\"candidate-data\" id=\"cdata-4023-0-0\" caption=\"CID: 11912119-5:720-726\"></div><span class=\"\">In </span><span class=\"gold-annotation\">Parkinson's </span><span class=\"candidate gold-annotation c-4023-0-0\">disease</span><span class=\"\"> + </span><span class=\"gold-annotation\">LID</span><span class=\"\">, the force involved in pressing down the object before lifting was significantly increased by levodopa (by 61%, P < 0.05).</span></li>\n",
       "        \n",
       "        <li class=\"list-group-item\" data-toggle=\"tooltip\" data-placement=\"top\" title=\"9061311-4\"><span class=\"\">Superoxide and hydrogen peroxide production by </span><span class=\"gold-annotation\">ALF</span><span class=\"\"> neutrophils stimulated with zymosan opsonized with </span><span class=\"gold-annotation\">ALF</span><span class=\"\"> serum was significantly reduced compared with the control subjects (P < 0.01).</span></li>\n",
       "        \n",
       "        <li class=\"list-group-item\" data-toggle=\"tooltip\" data-placement=\"top\" title=\"8106150-5\"><span class=\"\">Several drugs, including clonidine, physostigmine, methysergide, 5-MDOT, propranolol, and MK-801, markedly reduced the </span><span class=\"gold-annotation\">dyskinetic</span><span class=\"\"> movements but at the cost of a return of </span><span class=\"gold-annotation\">parkinsonian</span><span class=\"\"> symptomatology.</span></li>\n",
       "        </ul>\n",
       "        </div>\n",
       "        \n",
       "        <div class=\"viewer-page viewer-page-4023\" id=\"viewer-page-4023-1\" data-nc=\"4\">\n",
       "            <ul class=\"list-group\">\n",
       "        <li class=\"list-group-item\" data-toggle=\"tooltip\" data-placement=\"top\" title=\"16157917-1\"><div class=\"candidate-data\" id=\"cdata-4023-1-0\" caption=\"CID: 16157917-1:142-151\"></div><div class=\"candidate-data\" id=\"cdata-4023-1-1\" caption=\"CID: 16157917-1:240-254\"></div><div class=\"candidate-data\" id=\"cdata-4023-1-2\" caption=\"CID: 16157917-1:250-254\"></div><span class=\"\">Five patients with </span><span class=\"gold-annotation\">idiopathic generalized </span><span class=\"candidate gold-annotation c-4023-1-0\">epilepsies</span><span class=\"\"> (</span><span class=\"gold-annotation\">IGE</span><span class=\"\">) treated with lamotrigine (LTG) experienced exacerbation or de novo appearance of </span><span class=\"candidate gold-annotation c-4023-1-1\">myoclonic </span><span class=\"candidate gold-annotation c-4023-1-1 c-4023-1-2\">jerks</span><span class=\"\"> (</span><span class=\"gold-annotation\">MJ</span><span class=\"\">).</span></li>\n",
       "        \n",
       "        <li class=\"list-group-item\" data-toggle=\"tooltip\" data-placement=\"top\" title=\"9545159-0\"><span class=\"gold-annotation\">Prolongation of the QT interval</span><span class=\"\"> related to cisapride-diltiazem interaction.</span></li>\n",
       "        \n",
       "        <li class=\"list-group-item\" data-toggle=\"tooltip\" data-placement=\"top\" title=\"3653576-5\"><div class=\"candidate-data\" id=\"cdata-4023-1-3\" caption=\"CID: 3653576-5:866-871\"></div><span class=\"\">In contrast, </span><span class=\"gold-annotation\">protein excretion</span><span class=\"\"> in tubular </span><span class=\"candidate c-4023-1-3\">damage</span><span class=\"\"> was raised only slightly and characterized by </span><span class=\"gold-annotation\">excretion of proteins</span><span class=\"\"> of a wide range of molecular weights.</span></li>\n",
       "        </ul>\n",
       "        </div>\n",
       "        \n",
       "        <div class=\"viewer-page viewer-page-4023\" id=\"viewer-page-4023-2\" data-nc=\"3\">\n",
       "            <ul class=\"list-group\">\n",
       "        <li class=\"list-group-item\" data-toggle=\"tooltip\" data-placement=\"top\" title=\"1711760-6\"><div class=\"candidate-data\" id=\"cdata-4023-2-0\" caption=\"CID: 1711760-6:684-691\"></div><span class=\"\">The brains were sectioned along coronal planes spanning the distribution of </span><span class=\"candidate gold-annotation c-4023-2-0\">ischemia</span><span class=\"\"> produced by </span><span class=\"gold-annotation\">MCAO</span><span class=\"\">.</span></li>\n",
       "        \n",
       "        <li class=\"list-group-item\" data-toggle=\"tooltip\" data-placement=\"top\" title=\"11999899-11\"><div class=\"candidate-data\" id=\"cdata-4023-2-1\" caption=\"CID: 11999899-11:1661-1678\"></div><div class=\"candidate-data\" id=\"cdata-4023-2-2\" caption=\"CID: 11999899-11:1720-1727\"></div><span class=\"\">These results show that reserpine produces different and </span><span class=\"candidate gold-annotation c-4023-2-1\">abnormal movements</span><span class=\"\">, which are related to dose and schedule </span><span class=\"candidate c-4023-2-2\">employed</span><span class=\"\"> and can be considered as </span><span class=\"gold-annotation\">parkinsonian</span><span class=\"\">-like and </span><span class=\"gold-annotation\">tardive dsykinesia</span><span class=\"\"> signs.</span></li>\n",
       "        \n",
       "        <li class=\"list-group-item\" data-toggle=\"tooltip\" data-placement=\"top\" title=\"19721134-6\"><span class=\"\">These data suggest that pilocarpine produced antiarrhythmic actions on </span><span class=\"gold-annotation\">arrhythmic</span><span class=\"\"> rat and guinea pig models induced by aconitine or ouabain via stimulating the cardiac M(3)-mAChR.</span></li>\n",
       "        </ul>\n",
       "        </div>\n",
       "        \n",
       "        <div class=\"viewer-page viewer-page-4023\" id=\"viewer-page-4023-3\" data-nc=\"4\">\n",
       "            <ul class=\"list-group\">\n",
       "        <li class=\"list-group-item\" data-toggle=\"tooltip\" data-placement=\"top\" title=\"9848575-7\"><span class=\"\">The low-grade </span><span class=\"gold-annotation\">cardiotoxic</span><span class=\"\"> changes were enhanced by the additional doxorubicin treatment.</span></li>\n",
       "        \n",
       "        <li class=\"list-group-item\" data-toggle=\"tooltip\" data-placement=\"top\" title=\"20466178-1\"><div class=\"candidate-data\" id=\"cdata-4023-3-0\" caption=\"CID: 20466178-1:126-135\"></div><div class=\"candidate-data\" id=\"cdata-4023-3-1\" caption=\"CID: 20466178-1:137-145\"></div><div class=\"candidate-data\" id=\"cdata-4023-3-2\" caption=\"CID: 20466178-1:204-213\"></div><span class=\"\">We describe herein 3 patients who developed </span><span class=\"gold-annotation\">rosacea</span><span class=\"\">-like </span><span class=\"candidate gold-annotation c-4023-3-0\">dermatitis</span><span class=\"\"> </span><span class=\"candidate gold-annotation c-4023-3-1\">eruptions</span><span class=\"\"> while using 0.03% or 0.1% tacrolimus ointment for </span><span class=\"gold-annotation\">facial </span><span class=\"candidate gold-annotation c-4023-3-2\">dermatitis</span><span class=\"\">.</span></li>\n",
       "        \n",
       "        <li class=\"list-group-item\" data-toggle=\"tooltip\" data-placement=\"top\" title=\"16116131-0\"><div class=\"candidate-data\" id=\"cdata-4023-3-3\" caption=\"CID: 16116131-0:84-90\"></div><span class=\"\">rTMS of supplementary motor area modulates therapy-induced </span><span class=\"gold-annotation\">dyskinesias</span><span class=\"\"> in </span><span class=\"gold-annotation\">Parkinson </span><span class=\"candidate gold-annotation c-4023-3-3\">disease</span><span class=\"\">.</span></li>\n",
       "        </ul>\n",
       "        </div>\n",
       "        \n",
       "        <div class=\"viewer-page viewer-page-4023\" id=\"viewer-page-4023-4\" data-nc=\"0\">\n",
       "            <ul class=\"list-group\">\n",
       "        <li class=\"list-group-item\" data-toggle=\"tooltip\" data-placement=\"top\" title=\"1728915-0\"><span class=\"\">Carbamazepine-induced </span><span class=\"gold-annotation\">cardiac dysfunction</span><span class=\"\">.</span></li>\n",
       "        \n",
       "        <li class=\"list-group-item\" data-toggle=\"tooltip\" data-placement=\"top\" title=\"16225977-4\"><span class=\"\">The </span><span class=\"gold-annotation\">tic-like symptoms</span><span class=\"\"> resolved completely after we reduced the dose of amisulpride down to 800 mg per day.</span></li>\n",
       "        \n",
       "        <li class=\"list-group-item\" data-toggle=\"tooltip\" data-placement=\"top\" title=\"16225977-3\"><span class=\"\">We present a 15-year-old girl </span><span class=\"gold-annotation\">schizophrenic</span><span class=\"\"> who developed frequent </span><span class=\"gold-annotation\">involuntary eye-blinking movements</span><span class=\"\"> after 5 months of amisulpride treatment (1000 mg per day).</span></li>\n",
       "        </ul>\n",
       "        </div>\n",
       "        \n",
       "        <div class=\"viewer-page viewer-page-4023\" id=\"viewer-page-4023-5\" data-nc=\"2\">\n",
       "            <ul class=\"list-group\">\n",
       "        <li class=\"list-group-item\" data-toggle=\"tooltip\" data-placement=\"top\" title=\"8267029-6\"><div class=\"candidate-data\" id=\"cdata-4023-5-0\" caption=\"CID: 8267029-6:878-888\"></div><span class=\"\">This new case of </span><span class=\"gold-annotation\">RPGN</span><span class=\"\"> in the course of D-penicillamine treatment emphasizes the need for frequent monitoring of renal function and evaluation of urinary sediment and </span><span class=\"candidate gold-annotation c-4023-5-0\">proteinuria</span><span class=\"\"> in these patients.</span></li>\n",
       "        \n",
       "        <li class=\"list-group-item\" data-toggle=\"tooltip\" data-placement=\"top\" title=\"18239197-0\"><span class=\"\">Increased </span><span class=\"gold-annotation\">mental slowing</span><span class=\"\"> associated with the APOE epsilon4 allele after trihexyphenidyl oral anticholinergic challenge in healthy elderly.</span></li>\n",
       "        \n",
       "        <li class=\"list-group-item\" data-toggle=\"tooltip\" data-placement=\"top\" title=\"19135948-9\"><div class=\"candidate-data\" id=\"cdata-4023-5-1\" caption=\"CID: 19135948-9:1374-1377\"></div><span class=\"\">Although this new combination appears to be effective as a prophylactic regimen for acute </span><span class=\"candidate gold-annotation c-4023-5-1\">GVHD</span><span class=\"\">, the incidence of </span><span class=\"gold-annotation\">TMA</span><span class=\"\"> and </span><span class=\"gold-annotation\">SOS</span><span class=\"\"> is considerably higher than seen with other regimens.</span></li>\n",
       "        </ul>\n",
       "        </div>\n",
       "        \n",
       "        <div class=\"viewer-page viewer-page-4023\" id=\"viewer-page-4023-6\" data-nc=\"6\">\n",
       "            <ul class=\"list-group\">\n",
       "        <li class=\"list-group-item\" data-toggle=\"tooltip\" data-placement=\"top\" title=\"11860278-3\"><span class=\"\">In this respect, little is known about the role of DA receptors in the occurrence of </span><span class=\"gold-annotation\">epilepsy</span><span class=\"\">-induced neuronal cell death.</span></li>\n",
       "        \n",
       "        <li class=\"list-group-item\" data-toggle=\"tooltip\" data-placement=\"top\" title=\"6637851-7\"><div class=\"candidate-data\" id=\"cdata-4023-6-0\" caption=\"CID: 6637851-7:1034-1050\"></div><div class=\"candidate-data\" id=\"cdata-4023-6-1\" caption=\"CID: 6637851-7:1057-1062\"></div><div class=\"candidate-data\" id=\"cdata-4023-6-2\" caption=\"CID: 6637851-7:1067-1072\"></div><div class=\"candidate-data\" id=\"cdata-4023-6-3\" caption=\"CID: 6637851-7:1081-1086\"></div><div class=\"candidate-data\" id=\"cdata-4023-6-4\" caption=\"CID: 6637851-7:1092-1099\"></div><div class=\"candidate-data\" id=\"cdata-4023-6-5\" caption=\"CID: 6637851-7:1201-1211\"></div><span class=\"\">The most common symptomatic </span><span class=\"candidate c-4023-6-0\">adverse reactions</span><span class=\"\"> were </span><span class=\"candidate gold-annotation c-4023-6-1\">tremor</span><span class=\"\"> or </span><span class=\"candidate gold-annotation c-4023-6-2\">ataxia</span><span class=\"\"> (35%), </span><span class=\"candidate gold-annotation c-4023-6-3\">nausea</span><span class=\"\"> and </span><span class=\"candidate gold-annotation c-4023-6-4\">anorexia</span><span class=\"\"> (8%), </span><span class=\"gold-annotation\">visual halos or blurring</span><span class=\"\"> (6%), </span><span class=\"gold-annotation\">thyroid function abnormalities</span><span class=\"\"> (6%) and </span><span class=\"gold-annotation\">pulmonary interstitial </span><span class=\"candidate gold-annotation c-4023-6-5\">infiltrates</span><span class=\"\"> (5%).</span></li>\n",
       "        \n",
       "        <li class=\"list-group-item\" data-toggle=\"tooltip\" data-placement=\"top\" title=\"11861791-8\"><span class=\"\">Treatment with a PJ34 significantly improved </span><span class=\"gold-annotation\">cardiac dysfunction</span><span class=\"\"> and increased the survival of the animals.</span></li>\n",
       "        </ul>\n",
       "        </div>\n",
       "        \n",
       "        <div class=\"viewer-page viewer-page-4023\" id=\"viewer-page-4023-7\" data-nc=\"2\">\n",
       "            <ul class=\"list-group\">\n",
       "        <li class=\"list-group-item\" data-toggle=\"tooltip\" data-placement=\"top\" title=\"17975693-3\"><span class=\"\">RESULTS: The results indicate that ciprofloxacin- and norfloxacin-treated rats showed </span><span class=\"gold-annotation\">anxious behaviour</span><span class=\"\"> in comparison to control rats in all the parameters studied.</span></li>\n",
       "        \n",
       "        <li class=\"list-group-item\" data-toggle=\"tooltip\" data-placement=\"top\" title=\"17943461-9\"><div class=\"candidate-data\" id=\"cdata-4023-7-0\" caption=\"CID: 17943461-9:1840-1853\"></div><span class=\"\">CONCLUSIONS: The expression of Fas ligand in the myocardium, as identified in HIV-positive patients, might increase the susceptibility to HAART-induced </span><span class=\"candidate gold-annotation c-4023-7-0\">cardiomyopathy</span><span class=\"\"> due to activation of apoptotic pathways, resulting in </span><span class=\"gold-annotation\">cardiac dilation and dysfunction</span><span class=\"\">.</span></li>\n",
       "        \n",
       "        <li class=\"list-group-item\" data-toggle=\"tooltip\" data-placement=\"top\" title=\"18541230-6\"><div class=\"candidate-data\" id=\"cdata-4023-7-1\" caption=\"CID: 18541230-6:613-626\"></div><span class=\"\">Puromycin aminonucleoside-induced </span><span class=\"gold-annotation\">renal dysfunction</span><span class=\"\"> and </span><span class=\"candidate gold-annotation c-4023-7-1\">hyperlipidemia</span><span class=\"\"> were also suppressed.</span></li>\n",
       "        </ul>\n",
       "        </div>\n",
       "        \n",
       "        <div class=\"viewer-page viewer-page-4023\" id=\"viewer-page-4023-8\" data-nc=\"2\">\n",
       "            <ul class=\"list-group\">\n",
       "        <li class=\"list-group-item\" data-toggle=\"tooltip\" data-placement=\"top\" title=\"12851669-8\"><span class=\"\">The corresponding absolute risk of </span><span class=\"gold-annotation\">VTE</span><span class=\"\"> was 3.4 (range, 3.1-3.8) per 10 000 women years among the women on COCs, 4.2 (range, 3.2-5.2) per 10 000 women years among women on levonorgestrel-containing COCs, and 3.1 (range, 1.3-4.9) per 10 000 women years among the women on CPA/EE.</span></li>\n",
       "        \n",
       "        <li class=\"list-group-item\" data-toggle=\"tooltip\" data-placement=\"top\" title=\"12851669-5\"><span class=\"\">RESULTS: During the time frame of the study, 330 women were found to have had </span><span class=\"gold-annotation\">VTE</span><span class=\"\"> while on COCs.</span></li>\n",
       "        \n",
       "        <li class=\"list-group-item\" data-toggle=\"tooltip\" data-placement=\"top\" title=\"1423339-1\"><div class=\"candidate-data\" id=\"cdata-4023-8-0\" caption=\"CID: 1423339-1:125-132\"></div><div class=\"candidate-data\" id=\"cdata-4023-8-1\" caption=\"CID: 1423339-1:161-168\"></div><span class=\"\">An elderly woman developed an </span><span class=\"gold-annotation\">Alzheimer</span><span class=\"\">-like subacute </span><span class=\"candidate gold-annotation c-4023-8-0\">dementia</span><span class=\"\"> as a result of propranolol </span><span class=\"candidate gold-annotation c-4023-8-1\">toxicity</span><span class=\"\">.</span></li>\n",
       "        </ul>\n",
       "        </div>\n",
       "        \n",
       "        <div class=\"viewer-page viewer-page-4023\" id=\"viewer-page-4023-9\" data-nc=\"3\">\n",
       "            <ul class=\"list-group\">\n",
       "        <li class=\"list-group-item\" data-toggle=\"tooltip\" data-placement=\"top\" title=\"3088349-7\"><span class=\"\">These findings suggest that amphetamine has an irreversible effect on the post-lesion DA pool contributing to </span><span class=\"gold-annotation\">contralateral rotation</span><span class=\"\">.</span></li>\n",
       "        \n",
       "        <li class=\"list-group-item\" data-toggle=\"tooltip\" data-placement=\"top\" title=\"7542793-6\"><span class=\"\">These results suggest that the </span><span class=\"gold-annotation\">nephrotoxic</span><span class=\"\"> effects of CsA and FK506 is likely mediated through binding to renal immunophilin and inhibiting calcineurin phosphatase.</span></li>\n",
       "        \n",
       "        <li class=\"list-group-item\" data-toggle=\"tooltip\" data-placement=\"top\" title=\"3108839-4\"><div class=\"candidate-data\" id=\"cdata-4023-9-0\" caption=\"CID: 3108839-4:551-557\"></div><div class=\"candidate-data\" id=\"cdata-4023-9-1\" caption=\"CID: 3108839-4:633-639\"></div><div class=\"candidate-data\" id=\"cdata-4023-9-2\" caption=\"CID: 3108839-4:712-720\"></div><span class=\"gold-annotation\">Renal </span><span class=\"candidate gold-annotation c-4023-9-0\">lesions</span><span class=\"\"> are similar to those seen in idiopathic </span><span class=\"gold-annotation\">HUS</span><span class=\"\"> and include arteriolar fibrin </span><span class=\"candidate gold-annotation c-4023-9-1\">thrombi</span><span class=\"\">, expanded subendothelial zones in glomerular capillary walls, </span><span class=\"gold-annotation\">ischemic</span><span class=\"\"> </span><span class=\"candidate c-4023-9-2\">wrinkling</span><span class=\"\"> of glomerular basement membranes and mesangiolysis.</span></li>\n",
       "        </ul>\n",
       "        </div>\n",
       "        \n",
       "        <div class=\"viewer-page viewer-page-4023\" id=\"viewer-page-4023-10\" data-nc=\"2\">\n",
       "            <ul class=\"list-group\">\n",
       "        <li class=\"list-group-item\" data-toggle=\"tooltip\" data-placement=\"top\" title=\"9154656-4\"><span class=\"\">Although a great urinary excretion and half-normal plasma levels of Ao were observed on day 6 after PAN injection, when </span><span class=\"gold-annotation\">NS</span><span class=\"\"> was clearly established, hepatic Ao mRNA levels did not change.</span></li>\n",
       "        \n",
       "        <li class=\"list-group-item\" data-toggle=\"tooltip\" data-placement=\"top\" title=\"10524660-8\"><div class=\"candidate-data\" id=\"cdata-4023-10-0\" caption=\"CID: 10524660-8:1074-1081\"></div><div class=\"candidate-data\" id=\"cdata-4023-10-1\" caption=\"CID: 10524660-8:1134-1141\"></div><span class=\"\">In the controls, the GTN-induced </span><span class=\"candidate gold-annotation c-4023-10-0\">headache</span><span class=\"\"> gradually disappeared, whereas in </span><span class=\"gold-annotation\">migraineurs</span><span class=\"\"> peak </span><span class=\"candidate gold-annotation c-4023-10-1\">headache</span><span class=\"\"> intensity occurred at a mean time of 240 min post-infusion.</span></li>\n",
       "        \n",
       "        <li class=\"list-group-item\" data-toggle=\"tooltip\" data-placement=\"top\" title=\"20552622-7\"><span class=\"\">Fewer than 50 cases of </span><span class=\"gold-annotation\">SIAT</span><span class=\"\"> have been described in the literature.</span></li>\n",
       "        </ul>\n",
       "        </div>\n",
       "        \n",
       "        <div class=\"viewer-page viewer-page-4023\" id=\"viewer-page-4023-11\" data-nc=\"1\">\n",
       "            <ul class=\"list-group\">\n",
       "        <li class=\"list-group-item\" data-toggle=\"tooltip\" data-placement=\"top\" title=\"16600756-8\"><span class=\"\">RESULTS: Urinary NGF, PGE2 and PGF2alpha were significantly increased in patients with </span><span class=\"gold-annotation\">OAB</span><span class=\"\"> compared with controls (p <0.05).</span></li>\n",
       "        \n",
       "        <li class=\"list-group-item\" data-toggle=\"tooltip\" data-placement=\"top\" title=\"11860278-2\"><div class=\"candidate-data\" id=\"cdata-4023-11-0\" caption=\"CID: 11860278-2:345-352\"></div><span class=\"gold-annotation\">Excitotoxicity</span><span class=\"\"> leading to neuronal cell death in the affected areas is a major consequence of </span><span class=\"candidate gold-annotation c-4023-11-0\">seizures</span><span class=\"\"> at the cellular level.</span></li>\n",
       "        \n",
       "        <li class=\"list-group-item\" data-toggle=\"tooltip\" data-placement=\"top\" title=\"19940105-3\"><span class=\"\">The effects of N,N'-dibenzhydrylethane-1,2-diamine dihydrochloride (AMN082), the first selective allosteric activator of mGlu7 receptors, were thus tested in different rodent models of </span><span class=\"gold-annotation\">PD</span><span class=\"\">.</span></li>\n",
       "        </ul>\n",
       "        </div>\n",
       "        \n",
       "        <div class=\"viewer-page viewer-page-4023\" id=\"viewer-page-4023-12\" data-nc=\"1\">\n",
       "            <ul class=\"list-group\">\n",
       "        <li class=\"list-group-item\" data-toggle=\"tooltip\" data-placement=\"top\" title=\"2709684-3\"><div class=\"candidate-data\" id=\"cdata-4023-12-0\" caption=\"CID: 2709684-3:528-537\"></div><span class=\"gold-annotation\">DM</span><span class=\"\"> rats with mild </span><span class=\"candidate gold-annotation c-4023-12-0\">glycosuria</span><span class=\"\"> (similar in degree to that of the P treated animals) were also studied.</span></li>\n",
       "        \n",
       "        <li class=\"list-group-item\" data-toggle=\"tooltip\" data-placement=\"top\" title=\"11694026-0\"><span class=\"\">Tolerability of nimesulide and paracetamol in patients with NSAID-induced </span><span class=\"gold-annotation\">urticaria</span><span class=\"\">/</span><span class=\"gold-annotation\">angioedema</span><span class=\"\">.</span></li>\n",
       "        \n",
       "        <li class=\"list-group-item\" data-toggle=\"tooltip\" data-placement=\"top\" title=\"14633084-10\"><span class=\"\">However, the replacement of last two doses of mesna with saline or all of the mesna doses with dexamethasone did not prevent </span><span class=\"gold-annotation\">HC</span><span class=\"\">.</span></li>\n",
       "        </ul>\n",
       "        </div>\n",
       "        \n",
       "        <div class=\"viewer-page viewer-page-4023\" id=\"viewer-page-4023-13\" data-nc=\"6\">\n",
       "            <ul class=\"list-group\">\n",
       "        <li class=\"list-group-item\" data-toggle=\"tooltip\" data-placement=\"top\" title=\"11282081-1\"><div class=\"candidate-data\" id=\"cdata-4023-13-0\" caption=\"CID: 11282081-1:188-206\"></div><div class=\"candidate-data\" id=\"cdata-4023-13-1\" caption=\"CID: 11282081-1:195-206\"></div><span class=\"\">BACKGROUND: </span><span class=\"gold-annotation\">Atrial tachycardia</span><span class=\"\">-induced remodeling promotes the occurrence and maintenance of </span><span class=\"candidate gold-annotation c-4023-13-0\">atrial </span><span class=\"candidate gold-annotation c-4023-13-0 c-4023-13-1\">fibrillation</span><span class=\"\"> (</span><span class=\"gold-annotation\">AF</span><span class=\"\">) and decreases L-type Ca(2+) current.</span></li>\n",
       "        \n",
       "        <li class=\"list-group-item\" data-toggle=\"tooltip\" data-placement=\"top\" title=\"15897593-5\"><div class=\"candidate-data\" id=\"cdata-4023-13-2\" caption=\"CID: 15897593-5:1101-1116\"></div><div class=\"candidate-data\" id=\"cdata-4023-13-3\" caption=\"CID: 15897593-5:1122-1132\"></div><div class=\"candidate-data\" id=\"cdata-4023-13-4\" caption=\"CID: 15897593-5:1280-1295\"></div><div class=\"candidate-data\" id=\"cdata-4023-13-5\" caption=\"CID: 15897593-5:1298-1308\"></div><span class=\"\">RESULTS: Nontoxic doses of dexrazoxane reduced </span><span class=\"candidate gold-annotation c-4023-13-2\">myelosuppression</span><span class=\"\"> and </span><span class=\"candidate gold-annotation c-4023-13-3\">weight loss</span><span class=\"\"> from daunorubicin and etoposide in mice and antagonized their antiproliferative effects in the colony assay; however, dexrazoxane neither reduced </span><span class=\"candidate gold-annotation c-4023-13-4\">myelosuppression</span><span class=\"\">, </span><span class=\"candidate gold-annotation c-4023-13-5\">weight loss</span><span class=\"\">, nor the in vitro </span><span class=\"gold-annotation\">cytotoxicity</span><span class=\"\"> from doxorubicin.</span></li>\n",
       "        \n",
       "        <li class=\"list-group-item\" data-toggle=\"tooltip\" data-placement=\"top\" title=\"18589141-14\"><span class=\"\">None of the subjects/patients developed UFH-related </span><span class=\"gold-annotation\">HIT</span><span class=\"\">.</span></li>\n",
       "        </ul>\n",
       "        </div>\n",
       "        \n",
       "        <div class=\"viewer-page viewer-page-4023\" id=\"viewer-page-4023-14\" data-nc=\"2\">\n",
       "            <ul class=\"list-group\">\n",
       "        <li class=\"list-group-item\" data-toggle=\"tooltip\" data-placement=\"top\" title=\"19370593-16\"><span class=\"\">The only significantly increased risk reported was for </span><span class=\"gold-annotation\">venous thrombo-embolism</span><span class=\"\"> in women taking combined continuous HT: their absolute risk remained low, at less than 1/500.</span></li>\n",
       "        \n",
       "        <li class=\"list-group-item\" data-toggle=\"tooltip\" data-placement=\"top\" title=\"9067481-1\"><span class=\"\">In addition to its use as a stabilizer/rigidifier of membranes, cholesteryl hemisuccinate, tris salt (CS) administration has also been shown to protect rats from the </span><span class=\"gold-annotation\">hepatotoxic</span><span class=\"\"> effects of carbon tetrachloride (CCl4).</span></li>\n",
       "        \n",
       "        <li class=\"list-group-item\" data-toggle=\"tooltip\" data-placement=\"top\" title=\"17042884-14\"><div class=\"candidate-data\" id=\"cdata-4023-14-0\" caption=\"CID: 17042884-14:2196-2200\"></div><div class=\"candidate-data\" id=\"cdata-4023-14-1\" caption=\"CID: 17042884-14:2235-2243\"></div><span class=\"\">CONCLUSIONS: In </span><span class=\"gold-annotation\">bipolar </span><span class=\"candidate gold-annotation c-4023-14-0\">mania</span><span class=\"\">, the incidence of </span><span class=\"gold-annotation\">EPS</span><span class=\"\">, including </span><span class=\"candidate gold-annotation c-4023-14-1\">akathisia</span><span class=\"\">, with quetiapine therapy is similar to that with placebo.</span></li>\n",
       "        </ul>\n",
       "        </div>\n",
       "        \n",
       "        <div class=\"viewer-page viewer-page-4023\" id=\"viewer-page-4023-15\" data-nc=\"1\">\n",
       "            <ul class=\"list-group\">\n",
       "        <li class=\"list-group-item\" data-toggle=\"tooltip\" data-placement=\"top\" title=\"17285209-8\"><div class=\"candidate-data\" id=\"cdata-4023-15-0\" caption=\"CID: 17285209-8:932-941\"></div><span class=\"\">Angiotensin-converting enzyme inhibitor (ACEI)-induced </span><span class=\"candidate gold-annotation c-4023-15-0\">angioedema</span><span class=\"\"> was suspected, and anti-</span><span class=\"gold-annotation\">hypertensive</span><span class=\"\"> medications were discontinued.</span></li>\n",
       "        \n",
       "        <li class=\"list-group-item\" data-toggle=\"tooltip\" data-placement=\"top\" title=\"2320800-5\"><span class=\"\">Ifosfamide is a known </span><span class=\"gold-annotation\">nephrotoxic</span><span class=\"\"> drug with demonstrated </span><span class=\"gold-annotation\">tubulopathies</span><span class=\"\">.</span></li>\n",
       "        \n",
       "        <li class=\"list-group-item\" data-toggle=\"tooltip\" data-placement=\"top\" title=\"15580403-6\"><span class=\"\">However, 10 of 37 patients with reduction of ribavirin could not continue combination therapy because their <8.5 g/dl hemoglobin values decreased to or </span><span class=\"gold-annotation\">anemia</span><span class=\"\">-related severe side effects occurred (group B).</span></li>\n",
       "        </ul>\n",
       "        </div>\n",
       "        \n",
       "        <div class=\"viewer-page viewer-page-4023\" id=\"viewer-page-4023-16\" data-nc=\"0\">\n",
       "            <ul class=\"list-group\">\n",
       "        <li class=\"list-group-item\" data-toggle=\"tooltip\" data-placement=\"top\" title=\"11282081-3\"><span class=\"\">METHODS: To evaluate the potential mechanisms of </span><span class=\"gold-annotation\">AF</span><span class=\"\"> promotion by Ca(2+) channel blockers, we administered verapamil to morphine-chloralose anesthetized dogs.</span></li>\n",
       "        \n",
       "        <li class=\"list-group-item\" data-toggle=\"tooltip\" data-placement=\"top\" title=\"3431591-4\"><span class=\"\">As inhibitors of isolated L1210 TS, CB 3717 di-, tri-, tetra- and pentaglutamate are 26-, 87-, 119- and 114-fold more potent than CB 3717, respectively, and their formation may, therefore, be an important determinant of CB 3717 </span><span class=\"gold-annotation\">cytotoxicity</span><span class=\"\">.</span></li>\n",
       "        </ul>\n",
       "        </div>\n",
       "        </div>\n",
       "    <div class=\"panel-footer\">\n",
       "        <div class=\"btn-group\" role=\"group\" aria-label=\"...\">\n",
       "            <button id=\"prev-page-4023\" type=\"button\" class=\"btn btn-default\">\n",
       "                <span class=\"glyphicon glyphicon-left-arrow\" aria-hidden=\"true\"></span> Prev. Page (i)\n",
       "            </button>\n",
       "            <button id=\"prev-cand-4023\" type=\"button\" class=\"btn btn-default\">\n",
       "                <span class=\"glyphicon glyphicon-down-arrow\" aria-hidden=\"true\"></span> Prev. Cand. (j)\n",
       "            </button>\n",
       "            <button id=\"next-cand-4023\" type=\"button\" class=\"btn btn-default\">\n",
       "                <span class=\"glyphicon glyphicon-up-arrow\" aria-hidden=\"true\"></span> Next Cand. (l)\n",
       "            </button>\n",
       "            <button id=\"next-page-4023\" type=\"button\" class=\"btn btn-default\">\n",
       "                <span class=\"glyphicon glyphicon-right-arrow\" aria-hidden=\"true\"></span> Next Page (k)\n",
       "            </button>\n",
       "        </div>\n",
       "        <span><i>  Viewer must be focused for keyboard control</i></span>\n",
       "        <div class=\"page-num panel-left-justify\">Page <span id=\"page-4023\">0</span></div>\n",
       "    </div>\n",
       "</div>\n"
      ]
     },
     "metadata": {
      "text/html": {
       "isolated": false
      }
     },
     "output_type": "display_data"
    },
    {
     "data": {
      "application/javascript": [
       "$.getScript(\"http://d3js.org/d3.v3.min.js\", function () {\n",
       "$.getScript(\"https://ajax.googleapis.com/ajax/libs/jquery/1.11.3/jquery.min.js\", function () {\n",
       "var vid    = 4023;\n",
       "var nPages = 17;\n",
       "var cid    = 0;\n",
       "var pid    = 0;\n",
       "\n",
       "// Enable tooltip functionality\n",
       "$(function () {\n",
       "    $('[data-toggle=\"tooltip\"]').tooltip()\n",
       "});\n",
       "\n",
       "// Get the selector for a given candidate by number (w.r.t. to entire page group)\n",
       "function candidateSelector(cid) {\n",
       "    return $(\"span.c-\" + vid + \"-\" + pid + \"-\" + cid);\n",
       "}\n",
       "\n",
       "// Cycle through candidates and highlight, by increment inc\n",
       "function switchCandidate(inc) {\n",
       "    var nC = parseInt($(\"#viewer-page-\"+vid+\"-\"+pid).attr(\"data-nc\"));\n",
       "\n",
       "    // Clear highlighting and highlight new candidate\n",
       "    $(\"span.candidate\").removeClass(\"highlighted-candidate\");\n",
       "    if (cid + inc < 0) {\n",
       "        cid = nC + (cid + inc);\n",
       "    } else if (cid + inc > nC - 1) {\n",
       "        cid = (cid + inc) - nC;\n",
       "    } else {\n",
       "        cid += inc;\n",
       "    }\n",
       "    candidateSelector(cid).addClass(\"highlighted-candidate\");\n",
       "\n",
       "    // Fill in caption\n",
       "    $(\"#candidate-caption-\"+vid).html($(\"#cdata-\"+vid+\"-\"+pid+\"-\"+cid).attr(\"caption\"));\n",
       "};\n",
       "\n",
       "$(\"#next-cand-\" + vid).click(function() {\n",
       "    switchCandidate(1);\n",
       "});\n",
       "\n",
       "$(\"#prev-cand-\" + vid).click(function() {\n",
       "    switchCandidate(-1);\n",
       "});\n",
       "\n",
       "// Switch through pages\n",
       "function switchPage(inc) {\n",
       "    $(\".viewer-page-\"+vid).hide();\n",
       "    if (pid + inc < 0) {\n",
       "        pid = 0;\n",
       "    } else if (pid + inc > nPages - 1) {\n",
       "        pid = nPages - 1;\n",
       "    } else {\n",
       "        pid += inc;\n",
       "    }\n",
       "    $(\"#viewer-page-\"+vid+\"-\"+pid).show();\n",
       "\n",
       "    // Show pagination\n",
       "    $(\"#page-\"+vid).html(pid);\n",
       "\n",
       "    // Reset cid and set to first candidate\n",
       "    cid = 0;\n",
       "    switchCandidate(0);\n",
       "}\n",
       "\n",
       "$(\"#next-page-\" + vid).click(function() {\n",
       "    switchPage(1);\n",
       "});\n",
       "\n",
       "$(\"#prev-page-\" + vid).click(function() {\n",
       "    switchPage(-1);\n",
       "});\n",
       "\n",
       "// Arrow key functionality\n",
       "$(document).keydown(function(e) {\n",
       "\n",
       "    // Check that the Jupyter notebook cell the viewer is in is selected\n",
       "    if ($(\"#viewer-\"+vid).parents(\".cell\").hasClass(\"selected\")) {\n",
       "        switch(e.which) {\n",
       "            case 74: // j\n",
       "            switchCandidate(-1);\n",
       "            break;\n",
       "\n",
       "            case 73: // i\n",
       "            switchPage(-1);\n",
       "            break;\n",
       "\n",
       "            case 76: // l\n",
       "            switchCandidate(1);\n",
       "            break;\n",
       "\n",
       "            case 75: // k\n",
       "            switchPage(1);\n",
       "            break;\n",
       "        }\n",
       "    }\n",
       "});\n",
       "\n",
       "// Show the first page and highlight the first candidate\n",
       "$(\"#viewer-page-\"+vid+\"-0\").show();\n",
       "switchCandidate(0);\n",
       "});\n",
       "});\n"
      ]
     },
     "metadata": {},
     "output_type": "display_data"
    }
   ],
   "source": [
    "from ddlite_viewer import SentenceNgramViewer\n",
    "sv = SentenceNgramViewer(view_sents, c.get_candidates(), gold=gold)\n",
    "sv.render(n_per_page=3, height=225)"
   ]
  },
  {
   "cell_type": "markdown",
   "metadata": {},
   "source": [
    "## Composing a better candidate extractor\n",
    "\n",
    "Let's try to increase our candidate recall using more of the `Matcher` operators and their functionalities.  First, let's turn on **Porter stemming** in our dictionary matcher; Porter stemming is an aggressive rules-based method for normalizing word endings."
   ]
  },
  {
   "cell_type": "code",
   "execution_count": 13,
   "metadata": {
    "collapsed": false
   },
   "outputs": [
    {
     "name": "stdout",
     "output_type": "stream",
     "text": [
      "Extracting candidates...\n",
      "CPU times: user 9.64 s, sys: 203 ms, total: 9.84 s\n",
      "Wall time: 9.71 s\n",
      "# of gold annotations\t= 4244\n",
      "# of candidates\t\t= 9266\n",
      "Candidate recall\t= 0.749\n",
      "Candidate precision\t= 0.343\n"
     ]
    },
    {
     "name": "stderr",
     "output_type": "stream",
     "text": [
      "/Library/Python/2.7/site-packages/nltk/stem/porter.py:274: UnicodeWarning: Unicode equal comparison failed to convert both arguments to Unicode - interpreting them as being unequal\n",
      "  if word[-1] == 's':\n"
     ]
    }
   ],
   "source": [
    "# Define a new matcher\n",
    "matcher = DictionaryMatch(d=diseases, longest_match_only=False, stemmer='porter')\n",
    "\n",
    "# Extract a new set of candidates\n",
    "%time c = Candidates(ngrams, matcher, corpus.get_sentences())\n",
    "c.gold_stats(gold)"
   ]
  },
  {
   "cell_type": "markdown",
   "metadata": {},
   "source": [
    "Next, note that *`Matcher` objects are compositional*. Observing in the `Viewer` that we are missing all of the acronyms, let's start with the `Union` operator, to integrate a dictionary for this:"
   ]
  },
  {
   "cell_type": "code",
   "execution_count": 14,
   "metadata": {
    "collapsed": false
   },
   "outputs": [
    {
     "name": "stdout",
     "output_type": "stream",
     "text": [
      "Loaded 36904 acronyms!\n",
      "Extracting candidates...\n",
      "CPU times: user 11.1 s, sys: 213 ms, total: 11.3 s\n",
      "Wall time: 11.2 s\n",
      "# of gold annotations\t= 4244\n",
      "# of candidates\t\t= 9811\n",
      "Candidate recall\t= 0.778\n",
      "Candidate precision\t= 0.336\n"
     ]
    }
   ],
   "source": [
    "from ddlite_matchers import Union\n",
    "from load_dictionaries import load_acronym_dictionary\n",
    "\n",
    "# Load the disease phrase dictionary\n",
    "acronyms = load_acronym_dictionary()\n",
    "print \"Loaded %s acronyms!\" % len(acronyms)\n",
    "\n",
    "# Define a new matcher\n",
    "matcher = Union(\n",
    "    DictionaryMatch(d=diseases, longest_match_only=False, stemmer='porter'),\n",
    "    DictionaryMatch(d=acronyms, ignore_case=False))\n",
    "\n",
    "# Extract a new set of candidates\n",
    "%time c = Candidates(ngrams, matcher, corpus.get_sentences())\n",
    "c.gold_stats(gold)"
   ]
  },
  {
   "cell_type": "markdown",
   "metadata": {},
   "source": [
    "Next, we try using the `Concat` and `RegexMatch` operators to find candidate mentions composed of an _adjective followed by a term matching our diseases dictionary_.  Note in particular that we set `left_required=False` so that exact matches to our dictionary (with no adjective prepended) will still work:"
   ]
  },
  {
   "cell_type": "code",
   "execution_count": 15,
   "metadata": {
    "collapsed": false
   },
   "outputs": [
    {
     "name": "stdout",
     "output_type": "stream",
     "text": [
      "Extracting candidates...\n",
      "CPU times: user 22.1 s, sys: 446 ms, total: 22.5 s\n",
      "Wall time: 22.2 s\n",
      "# of gold annotations\t= 4244\n",
      "# of candidates\t\t= 12292\n",
      "Candidate recall\t= 0.821\n",
      "Candidate precision\t= 0.284\n"
     ]
    }
   ],
   "source": [
    "from ddlite_matchers import Concat, RegexMatchEach\n",
    "matcher = Union(\n",
    "    Concat(\n",
    "        RegexMatchEach(rgx=r'JJ*', attrib='poses'),\n",
    "        DictionaryMatch(d=diseases, longest_match_only=False, stemmer='porter'),\n",
    "        left_required=False),\n",
    "    DictionaryMatch(d=acronyms, ignore_case=False))\n",
    "\n",
    "# Extract a new set of candidates\n",
    "%time c = Candidates(ngrams, matcher, corpus.get_sentences())\n",
    "c.gold_stats(gold)"
   ]
  },
  {
   "cell_type": "markdown",
   "metadata": {},
   "source": [
    "### More coming here...\n",
    "\n",
    "We've increased the candidate recall (on the development set) by 7.3% using some simple compositional `Matcher` operators.  We'll be adding more here soon!"
   ]
  },
  {
   "cell_type": "markdown",
   "metadata": {},
   "source": [
    "## Connecting with the rest of the `DDLite` workflow\n",
    "\n",
    "We are in the process of a big code refactor!  For now, to connect the candidates derived as in above to the rest of the `DDLite` workflow, create a `CandidateExtractor` class as follows:"
   ]
  },
  {
   "cell_type": "code",
   "execution_count": null,
   "metadata": {
    "collapsed": true
   },
   "outputs": [],
   "source": [
    "from ddlite_matchers import CandidateExtractor\n",
    "ce = CandidateExtractor(ngrams, matcher)"
   ]
  },
  {
   "cell_type": "markdown",
   "metadata": {},
   "source": [
    "This object can now be used in place of the candidate extractors in the other tutorials!"
   ]
  }
 ],
 "metadata": {
  "kernelspec": {
   "display_name": "Python 2",
   "language": "python",
   "name": "python2"
  },
  "language_info": {
   "codemirror_mode": {
    "name": "ipython",
    "version": 2
   },
   "file_extension": ".py",
   "mimetype": "text/x-python",
   "name": "python",
   "nbconvert_exporter": "python",
   "pygments_lexer": "ipython2",
   "version": "2.7.10"
  }
 },
 "nbformat": 4,
 "nbformat_minor": 0
}
