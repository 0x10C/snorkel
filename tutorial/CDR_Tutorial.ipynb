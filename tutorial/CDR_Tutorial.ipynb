{
 "cells": [
  {
   "cell_type": "markdown",
   "metadata": {},
   "source": [
    "# Tutorial: Chemical-Disease Extraction\n",
    "\n",
    "## Part I: Candidate Extraction\n",
    "\n",
    "In this example, we'll be writing an application to extract **chemical-disease** relationships from Pubmed abstracts, as per the [BioCreative CDR Challenge](http://www.biocreative.org/resources/corpora/biocreative-v-cdr-corpus/).  At core, we will be constructing a model to classify _candidate chemical-disease (C-D) relation mentions_ as either true or false.  To do this, we first need a set of such candidates.\n",
    "\n",
    "In this notebook, we'll use `DDLite` utilities to extract these candidates.  In _part II_, we'll start with the gold set of candidates and just focus on the core candidate classification task."
   ]
  },
  {
   "cell_type": "markdown",
   "metadata": {},
   "source": [
    "### Parsing from XML format\n",
    "\n",
    "We'll start by using `DDLite`'s `DocParser` class to read in Pubmed abstracts from [Pubtator]([Pubtator](http://www.ncbi.nlm.nih.gov/CBBresearch/Lu/Demo/PubTator/index.cgi)), where they are stored along with gold chemical and disease mention annotations.\n",
    "\n",
    "We'll use the `XMLDocParser` class, which allows us to use XPath queries to specify the relevant sections of the XML format.  Note that we are simply newline-concatenating text from the title and abstract together for simplicity."
   ]
  },
  {
   "cell_type": "code",
   "execution_count": 1,
   "metadata": {
    "collapsed": false
   },
   "outputs": [
    {
     "data": {
      "text/plain": [
       "Document(id='6794356', file='CDR_DevelopmentSet.xml', text='Tricuspid valve regurgitation and lithium carbonate toxicity in a newborn infant.\\nA newborn with massive tricuspid regurgitation, atrial flutter, congestive heart failure, and a high serum lithium level is described. This is the first patient to initially manifest tricuspid regurgitation and atrial flutter, and the 11th described patient with cardiac disease among infants exposed to lithium compounds in the first trimester of pregnancy. Sixty-three percent of these infants had tricuspid valve involvement. Lithium carbonate may be a factor in the increasing incidence of congenital heart disease when taken during early pregnancy. It also causes neurologic depression, cyanosis, and cardiac arrhythmia when consumed prior to delivery.', attribs={'root': <Element document at 0x11695ee60>})"
      ]
     },
     "execution_count": 1,
     "metadata": {},
     "output_type": "execute_result"
    }
   ],
   "source": [
    "from ddlite_parser import XMLDocParser\n",
    "xml_parser = XMLDocParser(path='data/CDR_DevelopmentSet.xml',\n",
    "    doc='.//document', text='.//passage/text/text()',\n",
    "    id='.//id/text()', keep_tree=True)\n",
    "docs = list(xml_parser.parse())\n",
    "docs[0]"
   ]
  },
  {
   "cell_type": "markdown",
   "metadata": {},
   "source": [
    "### Pre-processing the sentences\n",
    "\n",
    "Next, we'll use an NLP preprocessing tool to split the `Document` objects into sentences, tokens, and provide annotations--part-of-speech tags, dependency parse structure, lemmatized word forms, etc.--for these sentences."
   ]
  },
  {
   "cell_type": "code",
   "execution_count": 2,
   "metadata": {
    "collapsed": false
   },
   "outputs": [
    {
     "data": {
      "text/plain": [
       "Sentence(id='6794356-0', words=[u'Tricuspid', u'valve', u'regurgitation', u'and', u'lithium', u'carbonate', u'toxicity', u'in', u'a', u'newborn', u'infant', u'.'], lemmas=[u'tricuspid', u'valve', u'regurgitation', u'and', u'lithium', u'carbonate', u'toxicity', u'in', u'a', u'newborn', u'infant', u'.'], poses=[u'JJ', u'NN', u'NN', u'CC', u'NN', u'NN', u'NN', u'IN', u'DT', u'JJ', u'NN', u'.'], dep_parents=[3, 3, 0, 3, 7, 7, 3, 11, 11, 11, 3, 3], dep_labels=[u'amod', u'compound', u'ROOT', u'cc', u'compound', u'compound', u'conj', u'case', u'det', u'amod', u'nmod', u'punct'], sent_id=0, doc_id='6794356', text=u'Tricuspid valve regurgitation and lithium carbonate toxicity in a newborn infant.', char_offsets=[0, 10, 16, 30, 34, 42, 52, 61, 64, 66, 74, 80], doc_name='CDR_DevelopmentSet.xml')"
      ]
     },
     "execution_count": 2,
     "metadata": {},
     "output_type": "execute_result"
    }
   ],
   "source": [
    "from ddlite_parser import SentenceParser\n",
    "parser = SentenceParser()\n",
    "sents  = parser.parse_docs(docs)\n",
    "sent   = sents[0]\n",
    "sent"
   ]
  },
  {
   "cell_type": "markdown",
   "metadata": {},
   "source": [
    "## Testing `CandidateSpace` and `Matcher`"
   ]
  },
  {
   "cell_type": "code",
   "execution_count": 3,
   "metadata": {
    "collapsed": false
   },
   "outputs": [],
   "source": [
    "from ddlite_candidates import Ngrams\n",
    "from ddlite_matchers import DictionaryMatch, Union, Concat"
   ]
  },
  {
   "cell_type": "code",
   "execution_count": 4,
   "metadata": {
    "collapsed": false
   },
   "outputs": [],
   "source": [
    "cs = Ngrams(n_max=3)"
   ]
  },
  {
   "cell_type": "code",
   "execution_count": 9,
   "metadata": {
    "collapsed": false
   },
   "outputs": [
    {
     "name": "stdout",
     "output_type": "stream",
     "text": [
      "<Ngram(\"Tricuspid valve regurgitation\", id=6794356-0:0-28, chars=[0,28], words=[0,2])\n",
      "<Ngram(\"toxicity\", id=6794356-0:52-59, chars=[52,59], words=[6,6])\n"
     ]
    }
   ],
   "source": [
    "matcher = DictionaryMatch(d=diseases, longest_match_only=True)\n",
    "matches = []\n",
    "for match in matcher.apply(cs.apply(sents[0])):\n",
    "    matches.append(match)\n",
    "    print match"
   ]
  },
  {
   "cell_type": "code",
   "execution_count": 10,
   "metadata": {
    "collapsed": false
   },
   "outputs": [
    {
     "data": {
      "text/plain": [
       "<Ngram(\"toxic\", id=6794356-0:52-56, chars=[52,56], words=[6,6])"
      ]
     },
     "execution_count": 10,
     "metadata": {},
     "output_type": "execute_result"
    }
   ],
   "source": [
    "matches[1][:5]"
   ]
  },
  {
   "cell_type": "code",
   "execution_count": 11,
   "metadata": {
    "collapsed": false
   },
   "outputs": [
    {
     "name": "stdout",
     "output_type": "stream",
     "text": [
      "<Ngram(\"Tricuspid valve regurgitation\", id=6794356-0:0-28, chars=[0,28], words=[0,2])\n",
      "<Ngram(\"regurgitation\", id=6794356-0:16-28, chars=[16,28], words=[2,2])\n",
      "<Ngram(\"toxicity\", id=6794356-0:52-59, chars=[52,59], words=[6,6])\n"
     ]
    }
   ],
   "source": [
    "matcher = DictionaryMatch(d=diseases, longest_match_only=False)\n",
    "for match in matcher.apply(cs.apply(sents[0])):\n",
    "    print match"
   ]
  },
  {
   "cell_type": "code",
   "execution_count": 12,
   "metadata": {
    "collapsed": false
   },
   "outputs": [
    {
     "name": "stdout",
     "output_type": "stream",
     "text": [
      "<Ngram(\"Tricuspid valve regurgitation\", id=6794356-0:0-28, chars=[0,28], words=[0,2])\n",
      "<Ngram(\"lithium carbonate\", id=6794356-0:34-50, chars=[34,50], words=[4,5])\n"
     ]
    }
   ],
   "source": [
    "dA = ['tricuspid valve', 'lithium']\n",
    "dB = ['regurgitation','carbonate']\n",
    "matcher = Concat(DictionaryMatch(d=dA), DictionaryMatch(d=dB))\n",
    "for match in matcher.apply(cs.apply(sent)):\n",
    "    print match"
   ]
  },
  {
   "cell_type": "markdown",
   "metadata": {},
   "source": [
    "### Writing a `CDR` candidate extractor\n",
    "\n",
    "We'll start by writing a _disease mention extractor_, then a _chemical mention extractor_, and finally will take all _C-D_ pairs co-occuring in a sentence as our C-D relation candidates."
   ]
  },
  {
   "cell_type": "markdown",
   "metadata": {},
   "source": [
    "#### Loading a gold candidate set\n",
    "First, we'll load in the gold annotations from the CDR development set, so that we can test our _candidate recall_, in other words how good our candidate extractor's coverage is."
   ]
  },
  {
   "cell_type": "code",
   "execution_count": 13,
   "metadata": {
    "collapsed": false,
    "scrolled": true
   },
   "outputs": [
    {
     "data": {
      "text/plain": [
       "Document(id='6794356', file='CDR_DevelopmentSet.xml', text='Tricuspid valve regurgitation and lithium carbonate toxicity in a newborn infant.\\nA newborn with massive tricuspid regurgitation, atrial flutter, congestive heart failure, and a high serum lithium level is described. This is the first patient to initially manifest tricuspid regurgitation and atrial flutter, and the 11th described patient with cardiac disease among infants exposed to lithium compounds in the first trimester of pregnancy. Sixty-three percent of these infants had tricuspid valve involvement. Lithium carbonate may be a factor in the increasing incidence of congenital heart disease when taken during early pregnancy. It also causes neurologic depression, cyanosis, and cardiac arrhythmia when consumed prior to delivery.', attribs={'root': <Element document at 0x11695ee60>})"
      ]
     },
     "execution_count": 13,
     "metadata": {},
     "output_type": "execute_result"
    }
   ],
   "source": [
    "doc = docs[0]\n",
    "doc"
   ]
  },
  {
   "cell_type": "code",
   "execution_count": 14,
   "metadata": {
    "collapsed": false
   },
   "outputs": [
    {
     "data": {
      "text/plain": [
       "[<Ngram(\"Tricuspid valve regurgitation\", id=6794356-0:0-28, chars=[0,28], words=[0,2]),\n",
       " <Ngram(\"lithium carbonate\", id=6794356-0:34-50, chars=[34,50], words=[4,5]),\n",
       " <Ngram(\"toxicity\", id=6794356-0:52-59, chars=[52,59], words=[6,6]),\n",
       " <Ngram(\"tricuspid regurgitation\", id=6794356-1:105-127, chars=[105,127], words=[4,5]),\n",
       " <Ngram(\"atrial flutter\", id=6794356-1:130-143, chars=[130,143], words=[7,8]),\n",
       " <Ngram(\"congestive heart failure\", id=6794356-1:146-169, chars=[146,169], words=[10,12]),\n",
       " <Ngram(\"lithium\", id=6794356-1:189-195, chars=[189,195], words=[18,18]),\n",
       " <Ngram(\"tricuspid regurgitation\", id=6794356-2:265-287, chars=[265,287], words=[8,9]),\n",
       " <Ngram(\"atrial flutter\", id=6794356-2:293-306, chars=[293,306], words=[11,12]),\n",
       " <Ngram(\"cardiac disease\", id=6794356-2:345-359, chars=[345,359], words=[20,21]),\n",
       " <Ngram(\"lithium\", id=6794356-2:386-392, chars=[386,392], words=[26,26]),\n",
       " <Ngram(\"Lithium carbonate\", id=6794356-4:511-527, chars=[511,527], words=[0,1]),\n",
       " <Ngram(\"congenital heart disease\", id=6794356-4:576-599, chars=[576,599], words=[11,13]),\n",
       " <Ngram(\"neurologic depression\", id=6794356-5:651-671, chars=[651,671], words=[3,4]),\n",
       " <Ngram(\"cyanosis\", id=6794356-5:674-681, chars=[674,681], words=[6,6]),\n",
       " <Ngram(\"cardiac arrhythmia\", id=6794356-5:688-705, chars=[688,705], words=[9,10])]"
      ]
     },
     "execution_count": 14,
     "metadata": {},
     "output_type": "execute_result"
    }
   ],
   "source": [
    "from utils import collect_pubtator_annotations\n",
    "annos = collect_pubtator_annotations(doc, filter(lambda s : s.doc_id == doc.id, sents))\n",
    "annos"
   ]
  },
  {
   "cell_type": "markdown",
   "metadata": {},
   "source": [
    "#### Disease mentions\n",
    "We'll build our disease mention extractor using some pre-compiled ontologies ([UMLS](https://www.nlm.nih.gov/research/umls/), [ORDO](http://www.orphadata.org/cgi-bin/inc/ordo_orphanet.inc.php), [DOID](http://www.obofoundry.org/ontology/doid.html), [NCBI Diseases](http://www.ncbi.nlm.nih.gov/CBBresearch/Dogan/DISEASE/); see `tutorial/data/diseases.py`) and `DDLite`'s `CandidateExtractor` operators."
   ]
  },
  {
   "cell_type": "code",
   "execution_count": 6,
   "metadata": {
    "collapsed": true
   },
   "outputs": [],
   "source": [
    "from load_dictionaries import load_disease_dictionary, \\\n",
    "                              load_acronym_dictionary"
   ]
  },
  {
   "cell_type": "code",
   "execution_count": 7,
   "metadata": {
    "collapsed": false
   },
   "outputs": [],
   "source": [
    "diseases = load_disease_dictionary()"
   ]
  },
  {
   "cell_type": "code",
   "execution_count": 8,
   "metadata": {
    "collapsed": false
   },
   "outputs": [
    {
     "data": {
      "text/plain": [
       "507899"
      ]
     },
     "execution_count": 8,
     "metadata": {},
     "output_type": "execute_result"
    }
   ],
   "source": [
    "len(diseases)"
   ]
  },
  {
   "cell_type": "markdown",
   "metadata": {},
   "source": [
    "### Comparing against gold candidate set\n",
    "\n",
    "#### TODO: DictionaryMatch accepts either list or dict; in latter case, assumes vals are the IDs!\n",
    "\n",
    "#### ALSO: Add estimate_size method to CandidateExtraction operators"
   ]
  },
  {
   "cell_type": "markdown",
   "metadata": {},
   "source": [
    "### Saving to disk"
   ]
  },
  {
   "cell_type": "markdown",
   "metadata": {},
   "source": [
    "# TODO: Write tests!"
   ]
  }
 ],
 "metadata": {
  "kernelspec": {
   "display_name": "Python 2",
   "language": "python",
   "name": "python2"
  },
  "language_info": {
   "codemirror_mode": {
    "name": "ipython",
    "version": 2
   },
   "file_extension": ".py",
   "mimetype": "text/x-python",
   "name": "python",
   "nbconvert_exporter": "python",
   "pygments_lexer": "ipython2",
   "version": "2.7.10"
  }
 },
 "nbformat": 4,
 "nbformat_minor": 0
}
