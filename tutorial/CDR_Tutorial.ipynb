{
 "cells": [
  {
   "cell_type": "markdown",
   "metadata": {},
   "source": [
    "# Tutorial, Part I: Candidate Extraction\n",
    "\n",
    "In this example, we'll be writing an application to extract **chemical-induced-disease relationships** from Pubmed abstracts, as per the [BioCreative CDR Challenge](http://www.biocreative.org/resources/corpora/biocreative-v-cdr-corpus/).  At core, we will be constructing a model to classify _candidate chemical-disease (C-D) relation mentions_ as either true or false.  To do this, we first need a set of such candidates- in this notebook, we'll use `DDLite` utilities to extract these candidates."
   ]
  },
  {
   "cell_type": "markdown",
   "metadata": {},
   "source": [
    "## Loading the Corpus\n",
    "\n",
    "First, we will load and pre-process the corpus, storing it for convenience in a `Corpus` object"
   ]
  },
  {
   "cell_type": "markdown",
   "metadata": {},
   "source": [
    "### Configuring a document parser\n",
    "\n",
    "We'll start by defining a `DocParser` class to read in Pubmed abstracts from [Pubtator]([Pubtator](http://www.ncbi.nlm.nih.gov/CBBresearch/Lu/Demo/PubTator/index.cgi)), where they are stored along with \"gold\" (i.e. hand-annotated by experts) *chemical* and *disease mention* annotations. We'll use the `XMLDocParser` class, which allows us to use [XPath queries](https://en.wikipedia.org/wiki/XPath) to specify the relevant sections of the XML format.\n",
    "\n",
    "_Note that we are newline-concatenating text from the title and abstract together for simplicity, but if we wanted to, we could easily extend the `DocParser` classes to preserve information about document structure._"
   ]
  },
  {
   "cell_type": "code",
   "execution_count": 1,
   "metadata": {
    "collapsed": false
   },
   "outputs": [],
   "source": [
    "from ddlite_parser import XMLDocParser\n",
    "xml_parser = XMLDocParser(\n",
    "    path='data/CDR_DevelopmentSet.xml',\n",
    "    doc='.//document',\n",
    "    text='.//passage/text/text()',\n",
    "    id='.//id/text()',\n",
    "    keep_xml_tree=True)"
   ]
  },
  {
   "cell_type": "markdown",
   "metadata": {},
   "source": [
    "### Selecting a sentence parser\n",
    "\n",
    "Next, we'll use an NLP preprocessing tool to split the `Document` objects into sentences, tokens, and provide annotations--part-of-speech tags, dependency parse structure, lemmatized word forms, etc.--for these sentences.  Here we use the default `SentenceParser` class."
   ]
  },
  {
   "cell_type": "code",
   "execution_count": 2,
   "metadata": {
    "collapsed": false
   },
   "outputs": [],
   "source": [
    "from ddlite_parser import SentenceParser\n",
    "sent_parser = SentenceParser()"
   ]
  },
  {
   "cell_type": "markdown",
   "metadata": {},
   "source": [
    "### Pre-processing & loading the corpus\n",
    "\n",
    "Finally, we'll put this all together using a `Corpus` object, which will execute the parsers and store the results as an iterator:"
   ]
  },
  {
   "cell_type": "code",
   "execution_count": 3,
   "metadata": {
    "collapsed": false
   },
   "outputs": [
    {
     "name": "stdout",
     "output_type": "stream",
     "text": [
      "Parsing documents...\n",
      "Parsing sentences...\n",
      "CPU times: user 4.28 s, sys: 130 ms, total: 4.41 s\n",
      "Wall time: 29.8 s\n"
     ]
    }
   ],
   "source": [
    "from ddlite_parser import Corpus\n",
    "%time corpus = Corpus(xml_parser, sent_parser)"
   ]
  },
  {
   "cell_type": "code",
   "execution_count": 4,
   "metadata": {
    "collapsed": false
   },
   "outputs": [
    {
     "name": "stdout",
     "output_type": "stream",
     "text": [
      "Document(id='1445986', file='CDR_DevelopmentSet.xml', text=\"Cefotetan-induced immune hemolytic anemia.\\nImmune hemolytic anemia due to a drug-adsorption mechanism has been described primarily in patients receiving penicillins and first-generation cephalosporins. We describe a patient who developed anemia while receiving intravenous cefotetan. Cefotetan-dependent antibodies were detected in the patient's serum and in an eluate prepared from his red blood cells. The eluate also reacted weakly with red blood cells in the absence of cefotetan, suggesting the concomitant formation of warm-reactive autoantibodies. These observations, in conjunction with clinical and laboratory evidence of extravascular hemolysis, are consistent with drug-induced hemolytic anemia, possibly involving both drug-adsorption and autoantibody formation mechanisms. This case emphasizes the need for increased awareness of hemolytic reactions to all cephalosporins.\", attribs={'root': <Element document at 0x10b85fe60>})\n"
     ]
    }
   ],
   "source": [
    "doc  = corpus.get_docs()[2]\n",
    "print doc"
   ]
  },
  {
   "cell_type": "code",
   "execution_count": 5,
   "metadata": {
    "collapsed": false
   },
   "outputs": [
    {
     "name": "stdout",
     "output_type": "stream",
     "text": [
      "Sentence(id='1445986-0', words=[u'Cefotetan-induced', u'immune', u'hemolytic', u'anemia', u'.'], lemmas=[u'cefotetan-induced', u'immune', u'hemolytic', u'anemia', u'.'], poses=[u'JJ', u'JJ', u'JJ', u'NN', u'.'], dep_parents=[4, 4, 4, 0, 4], dep_labels=[u'amod', u'amod', u'amod', u'ROOT', u'punct'], sent_id=0, doc_id='1445986', text=u'Cefotetan-induced immune hemolytic anemia.', char_offsets=[0, 18, 25, 35, 41], doc_name='CDR_DevelopmentSet.xml')\n"
     ]
    }
   ],
   "source": [
    "sent = corpus.get_sentences_in(doc.id)[0]\n",
    "print sent"
   ]
  },
  {
   "cell_type": "markdown",
   "metadata": {},
   "source": [
    "## Writing a basic candidate extractor\n",
    "\n",
    "Next, we'll write a basic function to extract **candidate disease mentions** from the corpus.  For this first attempt, we'll just write a function that checks for matches against a list (or _\"dictionary\"_) of disease phrases, constructed using some pre-compiled ontologies ([UMLS](https://www.nlm.nih.gov/research/umls/), [ORDO](http://www.orphadata.org/cgi-bin/inc/ordo_orphanet.inc.php), [DOID](http://www.obofoundry.org/ontology/doid.html), [NCBI Diseases](http://www.ncbi.nlm.nih.gov/CBBresearch/Dogan/DISEASE/); see `tutorial/data/diseases.py`).\n",
    "\n",
    "We'll do this using a `CandidateSpace` object--which defines the basic candidates we consider, in this case n-grams up to a certain length--and a `Matcher` object, which filters this candidate space down."
   ]
  },
  {
   "cell_type": "code",
   "execution_count": 6,
   "metadata": {
    "collapsed": false
   },
   "outputs": [
    {
     "name": "stdout",
     "output_type": "stream",
     "text": [
      "Loaded 507899 disease phrases!\n"
     ]
    }
   ],
   "source": [
    "from load_dictionaries import load_disease_dictionary\n",
    "from ddlite_candidates import Ngrams\n",
    "from ddlite_matchers import DictionaryMatch\n",
    "\n",
    "# Load the disease phrase dictionary\n",
    "diseases = load_disease_dictionary()\n",
    "print \"Loaded %s disease phrases!\" % len(diseases)\n",
    "\n",
    "# Define a candidate space\n",
    "ngrams = Ngrams(n_max=3)\n",
    "\n",
    "# Define a matcher\n",
    "matcher = DictionaryMatch(d=diseases, longest_match_only=False)"
   ]
  },
  {
   "cell_type": "markdown",
   "metadata": {},
   "source": [
    "Note that we set `longest_match_only=False`, which means that we _will_ consider subsequences of phrases that match our dictionary.\n",
    "\n",
    "The `Ngrams` operator is applied over our `Sentence` objects and returns `Ngram` objects, and the `Matcher` then filters these, so we apply our operators over the sentences in the corpus, storing the results in a `Candidates` object for convenience:"
   ]
  },
  {
   "cell_type": "code",
   "execution_count": null,
   "metadata": {
    "collapsed": true
   },
   "outputs": [],
   "source": [
    "from multiprocessing import Queue, JoinableQueue, Process\n",
    "from Queue import Empty\n",
    "from time import sleep"
   ]
  },
  {
   "cell_type": "code",
   "execution_count": null,
   "metadata": {
    "collapsed": false
   },
   "outputs": [],
   "source": [
    "# Create Process subclass\n",
    "class IncrementerProcess(Process):\n",
    "    def __init__(self, qin, qout, inc):\n",
    "        Process.__init__(self)\n",
    "        self.qin  = qin\n",
    "        self.qout = qout\n",
    "        self.inc  = inc\n",
    "    \n",
    "    def run(self):\n",
    "        while not self.qin.empty():\n",
    "            sleep(5)\n",
    "            try:\n",
    "                n = self.qin.get(False)\n",
    "                n += self.inc\n",
    "                self.qout.put(n)\n",
    "                self.qin.task_done()\n",
    "            except Empty:\n",
    "                break\n",
    "\n",
    "# Initialize the queues\n",
    "nums_out = Queue()\n",
    "nums_in  = JoinableQueue()\n",
    "for i in range(0,20):\n",
    "    nums_in.put(i)\n",
    "\n",
    "# Start the processes\n",
    "PARALLELISM = 4\n",
    "ps = []\n",
    "for i in range(PARALLELISM):\n",
    "    p = IncrementerProcess(nums_in, nums_out, 10)\n",
    "    p.start()\n",
    "    ps.append(p)\n",
    "\n",
    "# Join on the tasks queue\n",
    "nums_in.join()\n",
    "    \n",
    "# Collect from the out queue and return\n",
    "result = []\n",
    "while not nums_out.empty():\n",
    "    result.append(nums_out.get(False))\n",
    "print result"
   ]
  },
  {
   "cell_type": "code",
   "execution_count": null,
   "metadata": {
    "collapsed": true
   },
   "outputs": [],
   "source": []
  },
  {
   "cell_type": "code",
   "execution_count": 26,
   "metadata": {
    "collapsed": false
   },
   "outputs": [
    {
     "name": "stdout",
     "output_type": "stream",
     "text": [
      "Extracting candidates...\n",
      "CPU times: user 2.13 s, sys: 365 ms, total: 2.49 s\n",
      "Wall time: 13 s\n",
      "6944\n"
     ]
    }
   ],
   "source": [
    "from ddlite_candidates import Candidates\n",
    "%time c = Candidates(ngrams, matcher, corpus.get_sentences(), parallelism=4)\n",
    "c.get_candidates()[:5]\n",
    "print len(c.get_candidates())"
   ]
  },
  {
   "cell_type": "markdown",
   "metadata": {},
   "source": [
    "## Evaluating our candidate recall on gold annotations\n",
    "\n",
    "Next, we'll test our _candidate recall_--in other words, how many of the true disease mentions we picked up in our candidate set--using the gold annotations in our dataset.\n",
    "\n",
    "The XML documents that we loaded using the `XMLDocParser` also contained annotations (this is why we kept the full xml tree using `keep_xml_tree=True`).  We'll load these annotations and map them to `Ngram` objects over our parsed sentences, that way we can easily compare our extracted candidate set with the gold annotations.  The code is fairly simple (see `tutorial/util.py`); note that we filter to only keep _disease_ annotations, and that the candidates should be uniquely identified by their `id` attribute:"
   ]
  },
  {
   "cell_type": "code",
   "execution_count": 31,
   "metadata": {
    "collapsed": false
   },
   "outputs": [],
   "source": [
    "from utils import collect_pubtator_annotations\n",
    "gold = []\n",
    "for doc, sents in corpus:\n",
    "    gold += [a for a in collect_pubtator_annotations(doc, sents) if a.metadata['type'] == 'Disease']\n",
    "gold = frozenset(gold)"
   ]
  },
  {
   "cell_type": "markdown",
   "metadata": {},
   "source": [
    "Now, we have a set of gold annotations of the same type as our candidates (`Ngram`), and can use set operations (where candidate objects are hashed by their `id` attribute), e.g.:"
   ]
  },
  {
   "cell_type": "code",
   "execution_count": 32,
   "metadata": {
    "collapsed": false
   },
   "outputs": [
    {
     "data": {
      "text/plain": [
       "3039"
      ]
     },
     "execution_count": 32,
     "metadata": {},
     "output_type": "execute_result"
    }
   ],
   "source": [
    "len(gold.intersection(c.get_candidates()))"
   ]
  },
  {
   "cell_type": "markdown",
   "metadata": {},
   "source": [
    "For convenience, we'll use a basic helper method of the `Candidates` object:"
   ]
  },
  {
   "cell_type": "code",
   "execution_count": 33,
   "metadata": {
    "collapsed": false
   },
   "outputs": [
    {
     "name": "stdout",
     "output_type": "stream",
     "text": [
      "# of gold annotations\t= 4244\n",
      "# of candidates\t\t= 6944\n",
      "Candidate recall\t= 0.716\n",
      "Candidate precision\t= 0.438\n"
     ]
    }
   ],
   "source": [
    "c.gold_stats(gold)"
   ]
  },
  {
   "cell_type": "markdown",
   "metadata": {},
   "source": [
    "We note that our focus in this stage is on **acheiving high candidate recall, without considering an impractically large candidate set**.  Our main focus after this stage will be on training a classifier to select which candidates are true; this will raise precision while hopefully keeping recall high.  _Note however that candidate recall is an upper bound for the recall of this classifier!_\n",
    "\n",
    "So, we have some work to do."
   ]
  },
  {
   "cell_type": "markdown",
   "metadata": {},
   "source": [
    "## Using the `Viewer` to inspect data\n",
    "\n",
    "Next, we'll use the `Viewer` class--here, specifically, the `SentenceNgramViewer`--to inspect the data.\n",
    "\n",
    "To start, we'll assemble a random set of all the sentences where there are gold annotations _not in our candidate set_, i.e. where we missed something, and then inspect these in the `Viewer`:"
   ]
  },
  {
   "cell_type": "code",
   "execution_count": 34,
   "metadata": {
    "collapsed": false
   },
   "outputs": [],
   "source": [
    "from collections import defaultdict\n",
    "from random import shuffle\n",
    "\n",
    "# Index the gold annotations by sentence id\n",
    "gold_by_sid = defaultdict(list)\n",
    "for g in gold:\n",
    "    gold_by_sid[g.sent_id].append(g)\n",
    "\n",
    "# Get sentences\n",
    "view_sents = [s for s in corpus.get_sentences() if len(c.get_candidates_in(s.id)) < len(gold_by_sid[s.id])]\n",
    "shuffle(view_sents)\n",
    "view_sents = view_sents[:50]"
   ]
  },
  {
   "cell_type": "markdown",
   "metadata": {},
   "source": [
    "Now, we instantiate and render the `Viewer` object; note we're being a bit sloppy, passing in _all_ the candidates and gold labels, but the `Viewer` object will take care of indexing them by sentence, and will only render the sentences we pass in:"
   ]
  },
  {
   "cell_type": "code",
   "execution_count": 35,
   "metadata": {
    "collapsed": false,
    "scrolled": true
   },
   "outputs": [
    {
     "data": {
      "text/html": [
       "<link href=\"../viewer/bootstrap/css/bootstrap.min.css\" rel=\"stylesheet\" />\n",
       "<link href=\"../viewer/viewer.css\" type=\"text/css\" rel=\"stylesheet\" />\n",
       "<div id=\"viewer-273\" class=\"viewer-pane panel panel-default\" tabindex=\"0\">\n",
       "    <div class=\"panel-heading\">\n",
       "        <h3 class=\"panel-title\">Viewer</h3>\n",
       "        <div id=\"candidate-caption-273\" class=\"panel-left-justify\"></div>\n",
       "    </div>\n",
       "    <div class=\"panel-body\" style=\"height:225px\">\n",
       "        <div class=\"viewer-page viewer-page-273\" id=\"viewer-page-273-0\" data-nc=\"4\">\n",
       "            <ul class=\"list-group\">\n",
       "        <li class=\"list-group-item\" data-toggle=\"tooltip\" data-placement=\"top\" title=\"16157917-1\"><div class=\"candidate-data\" id=\"cdata-273-0-0\" caption=\"CID: 16157917-1:142-151\"></div><div class=\"candidate-data\" id=\"cdata-273-0-1\" caption=\"CID: 16157917-1:240-254\"></div><div class=\"candidate-data\" id=\"cdata-273-0-2\" caption=\"CID: 16157917-1:250-254\"></div><span class=\"\">Five patients with </span><span class=\"gold-annotation\">idiopathic generalized </span><span class=\"candidate gold-annotation c-273-0-0\">epilepsies</span><span class=\"\"> (</span><span class=\"gold-annotation\">IGE</span><span class=\"\">) treated with lamotrigine (LTG) experienced exacerbation or de novo appearance of </span><span class=\"candidate gold-annotation c-273-0-1\">myoclonic </span><span class=\"candidate gold-annotation c-273-0-1 c-273-0-2\">jerks</span><span class=\"\"> (</span><span class=\"gold-annotation\">MJ</span><span class=\"\">).</span></li>\n",
       "        \n",
       "        <li class=\"list-group-item\" data-toggle=\"tooltip\" data-placement=\"top\" title=\"12907924-2\"><span class=\"\">Significant </span><span class=\"gold-annotation\">obsessive-compulsive behavior</span><span class=\"\"> ensued but diminished over several weeks when methylphenidate was replaced by fluvoxamine.</span></li>\n",
       "        \n",
       "        <li class=\"list-group-item\" data-toggle=\"tooltip\" data-placement=\"top\" title=\"18541230-6\"><div class=\"candidate-data\" id=\"cdata-273-0-3\" caption=\"CID: 18541230-6:613-626\"></div><span class=\"\">Puromycin aminonucleoside-induced </span><span class=\"gold-annotation\">renal dysfunction</span><span class=\"\"> and </span><span class=\"candidate gold-annotation c-273-0-3\">hyperlipidemia</span><span class=\"\"> were also suppressed.</span></li>\n",
       "        </ul>\n",
       "        </div>\n",
       "        \n",
       "        <div class=\"viewer-page viewer-page-273\" id=\"viewer-page-273-1\" data-nc=\"2\">\n",
       "            <ul class=\"list-group\">\n",
       "        <li class=\"list-group-item\" data-toggle=\"tooltip\" data-placement=\"top\" title=\"8106150-6\"><span class=\"\">However, yohimbine and meperidine reduced predominantly the </span><span class=\"gold-annotation\">dyskinetic</span><span class=\"\"> movements.</span></li>\n",
       "        \n",
       "        <li class=\"list-group-item\" data-toggle=\"tooltip\" data-placement=\"top\" title=\"19105845-10\"><div class=\"candidate-data\" id=\"cdata-273-1-0\" caption=\"CID: 19105845-10:1819-1829\"></div><span class=\"\">CONCLUSION: In conclusion, the demonstration of an inverse relationship between infusion time of a fixed and </span><span class=\"gold-annotation\">convulsive</span><span class=\"\"> dose of bupropion and the risk of </span><span class=\"candidate gold-annotation c-273-1-0\">convulsions</span><span class=\"\"> in a prospective study is novel.</span></li>\n",
       "        \n",
       "        <li class=\"list-group-item\" data-toggle=\"tooltip\" data-placement=\"top\" title=\"11245434-4\"><div class=\"candidate-data\" id=\"cdata-273-1-1\" caption=\"CID: 11245434-4:646-651\"></div><span class=\"\">Four days after carboplatin treatment, </span><span class=\"candidate gold-annotation c-273-1-1\">tumors</span><span class=\"\"> (DS-</span><span class=\"gold-annotation\">sarcoma</span><span class=\"\"> of the rat) were implanted s.c. onto the hind food dorsum.</span></li>\n",
       "        </ul>\n",
       "        </div>\n",
       "        \n",
       "        <div class=\"viewer-page viewer-page-273\" id=\"viewer-page-273-2\" data-nc=\"0\">\n",
       "            <ul class=\"list-group\">\n",
       "        <li class=\"list-group-item\" data-toggle=\"tooltip\" data-placement=\"top\" title=\"15266215-6\"><span class=\"\">The risk of serious </span><span class=\"gold-annotation\">thrombotic</span><span class=\"\"> events was also similar for each valdecoxib dose.</span></li>\n",
       "        \n",
       "        <li class=\"list-group-item\" data-toggle=\"tooltip\" data-placement=\"top\" title=\"9326871-6\"><span class=\"\">The </span><span class=\"gold-annotation\">dysrhythmias</span><span class=\"\"> resolved after discontinuation of the drug.</span></li>\n",
       "        \n",
       "        <li class=\"list-group-item\" data-toggle=\"tooltip\" data-placement=\"top\" title=\"1535072-0\"><span class=\"\">Yohimbine treatment of </span><span class=\"gold-annotation\">sexual side effects</span><span class=\"\"> induced by serotonin reuptake blockers.</span></li>\n",
       "        </ul>\n",
       "        </div>\n",
       "        \n",
       "        <div class=\"viewer-page viewer-page-273\" id=\"viewer-page-273-3\" data-nc=\"1\">\n",
       "            <ul class=\"list-group\">\n",
       "        <li class=\"list-group-item\" data-toggle=\"tooltip\" data-placement=\"top\" title=\"18627295-0\"><div class=\"candidate-data\" id=\"cdata-273-3-0\" caption=\"CID: 18627295-0:35-46\"></div><span class=\"\">Doxorubicin </span><span class=\"gold-annotation\">cardiomyopathy</span><span class=\"\">-induced </span><span class=\"candidate gold-annotation c-273-3-0\">inflammation</span><span class=\"\"> and apoptosis are attenuated by gene deletion of the kinin B1 receptor.</span></li>\n",
       "        \n",
       "        <li class=\"list-group-item\" data-toggle=\"tooltip\" data-placement=\"top\" title=\"9321531-4\"><span class=\"\">RESULTS: The percent improvements at six months were as follows: off-period score for overall motor function, 28 percent (95 percent confidence interval, 19 to 38 percent), with most of the improvement in the contralateral limbs; off-period score for activities of daily living, 29 percent (95 percent confidence interval, 19 to 39 percent); on-period score for contralateral </span><span class=\"gold-annotation\">dyskinesias</span><span class=\"\">, 82 percent (95 percent confidence interval, 72 to 91 percent); and on-period score for ipsilateral </span><span class=\"gold-annotation\">dyskinesias</span><span class=\"\">, 44 percent (95 percent confidence interval, 29 to 59 percent).</span></li>\n",
       "        \n",
       "        <li class=\"list-group-item\" data-toggle=\"tooltip\" data-placement=\"top\" title=\"17965424-8\"><span class=\"\">The cumulative discontinuation rate due to </span><span class=\"gold-annotation\">GI AEs</span><span class=\"\"> was significantly lower with etoricoxib than diclofenac (5.2 vs 8.5 events per 100 patient-years, respectively; hazard ratio 0.62 (95% CI: 0.47, 0.81; p<or=0.001)).</span></li>\n",
       "        </ul>\n",
       "        </div>\n",
       "        \n",
       "        <div class=\"viewer-page viewer-page-273\" id=\"viewer-page-273-4\" data-nc=\"2\">\n",
       "            <ul class=\"list-group\">\n",
       "        <li class=\"list-group-item\" data-toggle=\"tooltip\" data-placement=\"top\" title=\"18589141-15\"><span class=\"\">CONCLUSIONS: In our series, the occurrence of </span><span class=\"gold-annotation\">HIT</span><span class=\"\"> after liver transplantation was uncommon.</span></li>\n",
       "        \n",
       "        <li class=\"list-group-item\" data-toggle=\"tooltip\" data-placement=\"top\" title=\"6504332-1\"><div class=\"candidate-data\" id=\"cdata-273-4-0\" caption=\"CID: 6504332-1:133-142\"></div><div class=\"candidate-data\" id=\"cdata-273-4-1\" caption=\"CID: 6504332-1:190-197\"></div><span class=\"\">A 2-year-old child with known </span><span class=\"gold-annotation\">neurologic impairment</span><span class=\"\"> developed a </span><span class=\"candidate gold-annotation c-273-4-0\">dyskinesia</span><span class=\"\"> soon after starting phenobarbital therapy for </span><span class=\"candidate gold-annotation c-273-4-1\">seizures</span><span class=\"\">.</span></li>\n",
       "        \n",
       "        <li class=\"list-group-item\" data-toggle=\"tooltip\" data-placement=\"top\" title=\"12571256-2\"><span class=\"\">Whether iso-osmolar contrast medium is less </span><span class=\"gold-annotation\">nephrotoxic</span><span class=\"\"> than low-osmolar contrast medium in high-risk patients is uncertain.</span></li>\n",
       "        </ul>\n",
       "        </div>\n",
       "        \n",
       "        <div class=\"viewer-page viewer-page-273\" id=\"viewer-page-273-5\" data-nc=\"1\">\n",
       "            <ul class=\"list-group\">\n",
       "        <li class=\"list-group-item\" data-toggle=\"tooltip\" data-placement=\"top\" title=\"19996135-7\"><div class=\"candidate-data\" id=\"cdata-273-5-0\" caption=\"CID: 19996135-7:1070-1077\"></div><span class=\"\">All patients with </span><span class=\"candidate gold-annotation c-273-5-0\">seizures</span><span class=\"\"> did not have permanent </span><span class=\"gold-annotation\">neurological abnormalities</span><span class=\"\">.</span></li>\n",
       "        \n",
       "        <li class=\"list-group-item\" data-toggle=\"tooltip\" data-placement=\"top\" title=\"9270571-7\"><span class=\"\">Potent DA D1 receptor agents with an intermediate duration of efficacy such as A-86929 (approximately 4 hr at higher doses tested) are potential therapeutic tools in </span><span class=\"gold-annotation\">PD</span><span class=\"\"> and merit further attention.</span></li>\n",
       "        \n",
       "        <li class=\"list-group-item\" data-toggle=\"tooltip\" data-placement=\"top\" title=\"3780814-3\"><span class=\"\">After the end of the treatment, the number and the size of induced PAS positive </span><span class=\"gold-annotation\">preneoplastic foci</span><span class=\"\"> was significantly reduced when PB was given simultaneously with DEN for 4 and 6 weeks.</span></li>\n",
       "        </ul>\n",
       "        </div>\n",
       "        \n",
       "        <div class=\"viewer-page viewer-page-273\" id=\"viewer-page-273-6\" data-nc=\"1\">\n",
       "            <ul class=\"list-group\">\n",
       "        <li class=\"list-group-item\" data-toggle=\"tooltip\" data-placement=\"top\" title=\"10539815-14\"><div class=\"candidate-data\" id=\"cdata-273-6-0\" caption=\"CID: 10539815-14:2679-2702\"></div><span class=\"\">CONCLUSIONS: Enalapril use caused a 33% increase in the risk of </span><span class=\"candidate gold-annotation c-273-6-0\">decreased renal function</span><span class=\"\"> in patients with </span><span class=\"gold-annotation\">CHF</span><span class=\"\">.</span></li>\n",
       "        \n",
       "        <li class=\"list-group-item\" data-toggle=\"tooltip\" data-placement=\"top\" title=\"11705128-3\"><span class=\"\">The objective of this study was to evaluate the direct health-care costs and management of </span><span class=\"gold-annotation\">RIHA</span><span class=\"\"> during treatment of </span><span class=\"gold-annotation\">CHC</span><span class=\"\"> in a clinical trial setting.</span></li>\n",
       "        \n",
       "        <li class=\"list-group-item\" data-toggle=\"tooltip\" data-placement=\"top\" title=\"12549952-10\"><span class=\"\">CONCLUSIONS: Clinicians should be aware of the possibility of </span><span class=\"gold-annotation\">acute liver insult</span><span class=\"\"> induced by bupropion given concurrently with other </span><span class=\"gold-annotation\">hepatotoxic</span><span class=\"\"> drugs.</span></li>\n",
       "        </ul>\n",
       "        </div>\n",
       "        \n",
       "        <div class=\"viewer-page viewer-page-273\" id=\"viewer-page-273-7\" data-nc=\"0\">\n",
       "            <ul class=\"list-group\">\n",
       "        <li class=\"list-group-item\" data-toggle=\"tooltip\" data-placement=\"top\" title=\"20533999-5\"><span class=\"\">In addition, we demonstrate that mice genetically engineered to have unilateral brain DA deficits develop METH-induced </span><span class=\"gold-annotation\">dopaminergic deficits</span><span class=\"\"> that are of comparable magnitude on both sides of the brain.</span></li>\n",
       "        \n",
       "        <li class=\"list-group-item\" data-toggle=\"tooltip\" data-placement=\"top\" title=\"11705128-9\"><span class=\"\">We estimated the direct cost of treating clinically significant </span><span class=\"gold-annotation\">RIHA</span><span class=\"\"> to be  170 per patient receiving combination therapy per 48-week treatment course (range  68- 692).</span></li>\n",
       "        \n",
       "        <li class=\"list-group-item\" data-toggle=\"tooltip\" data-placement=\"top\" title=\"8106150-0\"><span class=\"\">Effect of nondopaminergic drugs on L-dopa-induced </span><span class=\"gold-annotation\">dyskinesias</span><span class=\"\"> in MPTP-treated monkeys.</span></li>\n",
       "        </ul>\n",
       "        </div>\n",
       "        \n",
       "        <div class=\"viewer-page viewer-page-273\" id=\"viewer-page-273-8\" data-nc=\"2\">\n",
       "            <ul class=\"list-group\">\n",
       "        <li class=\"list-group-item\" data-toggle=\"tooltip\" data-placement=\"top\" title=\"11302406-5\"><div class=\"candidate-data\" id=\"cdata-273-8-0\" caption=\"CID: 11302406-5:1163-1174\"></div><span class=\"\">In our patient, there was no other etiology identified that could explain </span><span class=\"gold-annotation\">QT prolongation</span><span class=\"\"> or </span><span class=\"gold-annotation\">TDP</span><span class=\"\"> The complete disappearance of </span><span class=\"gold-annotation\">NSVT</span><span class=\"\"> and </span><span class=\"gold-annotation\">premature ventricular </span><span class=\"candidate gold-annotation c-273-8-0\">contractions</span><span class=\"\"> followed by normalization of QT interval after the drug was stopped strongly suggests fluconazole as the etiology.</span></li>\n",
       "        \n",
       "        <li class=\"list-group-item\" data-toggle=\"tooltip\" data-placement=\"top\" title=\"9270571-3\"><span class=\"\">We therefore conducted the present acute dose-response study in four 1-methyl-4-phenyl-1,2,3,6-tetrahydropyridine (MPTP)-exposed cynomolgus monkeys primed to exhibit levodopa-induced </span><span class=\"gold-annotation\">dyskinesias</span><span class=\"\"> to evaluate the locomotor and </span><span class=\"gold-annotation\">dyskinetic</span><span class=\"\"> effects on challenge with four doses (from 0.03 to 1.0 mg/kg) of A-86929 ([-]-[5aR,11bS]-4,5,5a,6,7,11b-hexahydro-2-propyl-3-thia-5-+ ++azacyclopent-1- ena[c]phenathrene-9-10-diol), a selective and full DA D1-like receptor agonist with an intermediate duration of action.</span></li>\n",
       "        \n",
       "        <li class=\"list-group-item\" data-toggle=\"tooltip\" data-placement=\"top\" title=\"11099450-3\"><div class=\"candidate-data\" id=\"cdata-273-8-1\" caption=\"CID: 11099450-3:761-766\"></div><span class=\"\">We also found a highly significant correlation (P: < 0.0001, r = 0.8) between the volume of the ventral </span><span class=\"candidate c-273-8-1\">lesion</span><span class=\"\"> in the GPi and the improvement in </span><span class=\"gold-annotation\">LID</span><span class=\"\"> in the contralateral limbs, whereas there was no correlation between the ventral volume and the improvement in </span><span class=\"gold-annotation\">parkinsonian</span><span class=\"\"> 'off' signs.</span></li>\n",
       "        </ul>\n",
       "        </div>\n",
       "        \n",
       "        <div class=\"viewer-page viewer-page-273\" id=\"viewer-page-273-9\" data-nc=\"0\">\n",
       "            <ul class=\"list-group\">\n",
       "        <li class=\"list-group-item\" data-toggle=\"tooltip\" data-placement=\"top\" title=\"6769133-0\"><span class=\"gold-annotation\">Cardiotoxic</span><span class=\"\"> and possible leukemogenic effects of adriamycin in nonhuman primates.</span></li>\n",
       "        \n",
       "        <li class=\"list-group-item\" data-toggle=\"tooltip\" data-placement=\"top\" title=\"2466960-6\"><span class=\"\">The incidence of </span><span class=\"gold-annotation\">ischemic</span><span class=\"\"> episodes per patient per hour was 0.05 +/- 0.02 prior to 5-FU infusion v 0.13 +/- 0.03 during 5-FU infusion (P less than .001); the duration of ECG changes was 0.6 +/- 0.3 minutes per patient per hour before 5-FU v 1.9 +/- 0.5 minutes per patient per hour during 5-FU (P less than .01).</span></li>\n",
       "        \n",
       "        <li class=\"list-group-item\" data-toggle=\"tooltip\" data-placement=\"top\" title=\"17682013-10\"><span class=\"\">However, fluid attenuated inversion recovery (FLAIR) sequences frequently revealed persistent </span><span class=\"gold-annotation\">white matter abnormalities</span><span class=\"\">.</span></li>\n",
       "        </ul>\n",
       "        </div>\n",
       "        \n",
       "        <div class=\"viewer-page viewer-page-273\" id=\"viewer-page-273-10\" data-nc=\"1\">\n",
       "            <ul class=\"list-group\">\n",
       "        <li class=\"list-group-item\" data-toggle=\"tooltip\" data-placement=\"top\" title=\"12851669-8\"><span class=\"\">The corresponding absolute risk of </span><span class=\"gold-annotation\">VTE</span><span class=\"\"> was 3.4 (range, 3.1-3.8) per 10 000 women years among the women on COCs, 4.2 (range, 3.2-5.2) per 10 000 women years among women on levonorgestrel-containing COCs, and 3.1 (range, 1.3-4.9) per 10 000 women years among the women on CPA/EE.</span></li>\n",
       "        \n",
       "        <li class=\"list-group-item\" data-toggle=\"tooltip\" data-placement=\"top\" title=\"17285209-8\"><div class=\"candidate-data\" id=\"cdata-273-10-0\" caption=\"CID: 17285209-8:932-941\"></div><span class=\"\">Angiotensin-converting enzyme inhibitor (ACEI)-induced </span><span class=\"candidate gold-annotation c-273-10-0\">angioedema</span><span class=\"\"> was suspected, and anti-</span><span class=\"gold-annotation\">hypertensive</span><span class=\"\"> medications were discontinued.</span></li>\n",
       "        \n",
       "        <li class=\"list-group-item\" data-toggle=\"tooltip\" data-placement=\"top\" title=\"19319147-2\"><span class=\"\">There is no consensus on the optimal treatment for W-</span><span class=\"gold-annotation\">ICH</span><span class=\"\">.</span></li>\n",
       "        </ul>\n",
       "        </div>\n",
       "        \n",
       "        <div class=\"viewer-page viewer-page-273\" id=\"viewer-page-273-11\" data-nc=\"1\">\n",
       "            <ul class=\"list-group\">\n",
       "        <li class=\"list-group-item\" data-toggle=\"tooltip\" data-placement=\"top\" title=\"11573852-9\"><div class=\"candidate-data\" id=\"cdata-273-11-0\" caption=\"CID: 11573852-9:1079-1086\"></div><span class=\"\">The time course of events suggested that amphotericin B was the cause of the </span><span class=\"candidate gold-annotation c-273-11-0\">seizures</span><span class=\"\"> in this </span><span class=\"gold-annotation\">AIDS</span><span class=\"\"> patient.</span></li>\n",
       "        \n",
       "        <li class=\"list-group-item\" data-toggle=\"tooltip\" data-placement=\"top\" title=\"9061311-4\"><span class=\"\">Superoxide and hydrogen peroxide production by </span><span class=\"gold-annotation\">ALF</span><span class=\"\"> neutrophils stimulated with zymosan opsonized with </span><span class=\"gold-annotation\">ALF</span><span class=\"\"> serum was significantly reduced compared with the control subjects (P < 0.01).</span></li>\n",
       "        \n",
       "        <li class=\"list-group-item\" data-toggle=\"tooltip\" data-placement=\"top\" title=\"3780814-0\"><span class=\"\">Anti-</span><span class=\"gold-annotation\">carcinogenic</span><span class=\"\"> action of phenobarbital given simultaneously with diethylnitrosamine in the rat.</span></li>\n",
       "        </ul>\n",
       "        </div>\n",
       "        \n",
       "        <div class=\"viewer-page viewer-page-273\" id=\"viewer-page-273-12\" data-nc=\"4\">\n",
       "            <ul class=\"list-group\">\n",
       "        <li class=\"list-group-item\" data-toggle=\"tooltip\" data-placement=\"top\" title=\"8106150-7\"><div class=\"candidate-data\" id=\"cdata-273-12-0\" caption=\"CID: 8106150-7:886-895\"></div><span class=\"\">Baclofen was also useful in one monkey against a more </span><span class=\"gold-annotation\">dystonic</span><span class=\"\"> form of </span><span class=\"candidate gold-annotation c-273-12-0\">dyskinesia</span><span class=\"\">.</span></li>\n",
       "        \n",
       "        <li class=\"list-group-item\" data-toggle=\"tooltip\" data-placement=\"top\" title=\"11208990-12\"><span class=\"\">However, in the ADR-</span><span class=\"gold-annotation\">nephropathy</span><span class=\"\"> group, numerous apoptotic cells were identified in the tubulointerstitial areas.</span></li>\n",
       "        \n",
       "        <li class=\"list-group-item\" data-toggle=\"tooltip\" data-placement=\"top\" title=\"18674790-5\"><div class=\"candidate-data\" id=\"cdata-273-12-1\" caption=\"CID: 18674790-5:857-870\"></div><div class=\"candidate-data\" id=\"cdata-273-12-2\" caption=\"CID: 18674790-5:939-943\"></div><div class=\"candidate-data\" id=\"cdata-273-12-3\" caption=\"CID: 18674790-5:1006-1013\"></div><span class=\"\">A LD(10) dose (8 mg doxorubicin/kg, ip) administered on day 43 of the HFD feeding regimen led to higher </span><span class=\"candidate gold-annotation c-273-12-1\">cardiotoxicity</span><span class=\"\">, </span><span class=\"gold-annotation\">cardiac dysfunction</span><span class=\"\">, lipid peroxidation, and 80% mortality in the </span><span class=\"candidate gold-annotation c-273-12-2\">obese</span><span class=\"\"> (</span><span class=\"gold-annotation\">OB</span><span class=\"\">) rats in the absence of any significant </span><span class=\"gold-annotation\">renal or hepatic </span><span class=\"candidate gold-annotation c-273-12-3\">toxicity</span><span class=\"\">.</span></li>\n",
       "        </ul>\n",
       "        </div>\n",
       "        \n",
       "        <div class=\"viewer-page viewer-page-273\" id=\"viewer-page-273-13\" data-nc=\"2\">\n",
       "            <ul class=\"list-group\">\n",
       "        <li class=\"list-group-item\" data-toggle=\"tooltip\" data-placement=\"top\" title=\"18627295-3\"><span class=\"\">DOX control mice showed </span><span class=\"gold-annotation\">cardiac dysfunction</span><span class=\"\"> measured by pressure-volume loops in vivo.</span></li>\n",
       "        \n",
       "        <li class=\"list-group-item\" data-toggle=\"tooltip\" data-placement=\"top\" title=\"761833-7\"><span class=\"\">These results provide a reasonable explanation for the beneficial effects observed in some </span><span class=\"gold-annotation\">encephalopathic</span><span class=\"\"> patients receiving L-dopa.</span></li>\n",
       "        \n",
       "        <li class=\"list-group-item\" data-toggle=\"tooltip\" data-placement=\"top\" title=\"12852481-12\"><div class=\"candidate-data\" id=\"cdata-273-13-0\" caption=\"CID: 12852481-12:2127-2129\"></div><div class=\"candidate-data\" id=\"cdata-273-13-1\" caption=\"CID: 12852481-12:2150-2162\"></div><span class=\"\">CONCLUSIONS: High concordance in major </span><span class=\"gold-annotation\">developmental anomalies</span><span class=\"\"> between Wistar and SD rats were noted with the exception of </span><span class=\"candidate gold-annotation c-273-13-0\">VSD</span><span class=\"\"> in the SD rats and </span><span class=\"candidate gold-annotation c-273-13-1\">hydrocephalus</span><span class=\"\"> in the Wistar rats.</span></li>\n",
       "        </ul>\n",
       "        </div>\n",
       "        \n",
       "        <div class=\"viewer-page viewer-page-273\" id=\"viewer-page-273-14\" data-nc=\"1\">\n",
       "            <ul class=\"list-group\">\n",
       "        <li class=\"list-group-item\" data-toggle=\"tooltip\" data-placement=\"top\" title=\"20394767-2\"><span class=\"\">In contrast, the fear-potentiated </span><span class=\"gold-annotation\">startle</span><span class=\"\"> (FPS) is suggested to model conditioned fear.</span></li>\n",
       "        \n",
       "        <li class=\"list-group-item\" data-toggle=\"tooltip\" data-placement=\"top\" title=\"16596970-10\"><div class=\"candidate-data\" id=\"cdata-273-14-0\" caption=\"CID: 16596970-10:1185-1202\"></div><span class=\"candidate gold-annotation c-273-14-0\">Status epilepticus</span><span class=\"\"> in rat causes an age-dependent, long-term </span><span class=\"gold-annotation\">impairment in auditory discrimination</span><span class=\"\">.</span></li>\n",
       "        \n",
       "        <li class=\"list-group-item\" data-toggle=\"tooltip\" data-placement=\"top\" title=\"12571256-3\"><span class=\"\">METHODS: We conducted a randomized, double-blind, prospective, multicenter study comparing the </span><span class=\"gold-annotation\">nephrotoxic</span><span class=\"\"> effects of an iso-osmolar, dimeric, nonionic contrast medium, iodixanol, with those of a low-osmolar, nonionic, monomeric contrast medium, iohexol.</span></li>\n",
       "        </ul>\n",
       "        </div>\n",
       "        \n",
       "        <div class=\"viewer-page viewer-page-273\" id=\"viewer-page-273-15\" data-nc=\"2\">\n",
       "            <ul class=\"list-group\">\n",
       "        <li class=\"list-group-item\" data-toggle=\"tooltip\" data-placement=\"top\" title=\"9061311-6\"><span class=\"\">Superoxide and hydrogen peroxide production in neutrophils stimulated with formyl-methionyl-leucyl-phenylalanine (fMLP) from a further 18 </span><span class=\"gold-annotation\">ALF</span><span class=\"\"> patients was unaffected compared with control neutrophils.</span></li>\n",
       "        \n",
       "        <li class=\"list-group-item\" data-toggle=\"tooltip\" data-placement=\"top\" title=\"8665051-10\"><div class=\"candidate-data\" id=\"cdata-273-15-0\" caption=\"CID: 8665051-10:1403-1409\"></div><div class=\"candidate-data\" id=\"cdata-273-15-1\" caption=\"CID: 8665051-10:1465-1471\"></div><span class=\"\">ATPase staining of the diaphragm, scalenus medius, and gastrocnemius showed type IIb fiber </span><span class=\"candidate gold-annotation c-273-15-0\">atrophy</span><span class=\"\"> in the steroid groups and also diaphragmatic type IIa </span><span class=\"candidate gold-annotation c-273-15-1\">atrophy</span><span class=\"\"> with T, whereas histologic examinations revealed a normal muscular pattern with absence of </span><span class=\"gold-annotation\">necrosis</span><span class=\"\">.</span></li>\n",
       "        \n",
       "        <li class=\"list-group-item\" data-toggle=\"tooltip\" data-placement=\"top\" title=\"11912119-9\"><span class=\"\">Severity of peak-dose </span><span class=\"gold-annotation\">dyskinesias</span><span class=\"\"> was strongly correlated with grip force in ON-state (r = 0.79 with peak force, P < 0.01).</span></li>\n",
       "        </ul>\n",
       "        </div>\n",
       "        \n",
       "        <div class=\"viewer-page viewer-page-273\" id=\"viewer-page-273-16\" data-nc=\"2\">\n",
       "            <ul class=\"list-group\">\n",
       "        <li class=\"list-group-item\" data-toggle=\"tooltip\" data-placement=\"top\" title=\"1732442-10\"><div class=\"candidate-data\" id=\"cdata-273-16-0\" caption=\"CID: 1732442-10:1824-1835\"></div><div class=\"candidate-data\" id=\"cdata-273-16-1\" caption=\"CID: 1732442-10:1930-1943\"></div><span class=\"\">The appearance of impaired cardiac adrenergic neuron activity in the presence of slight </span><span class=\"gold-annotation\">myocardial impairment</span><span class=\"\"> (scattered or focal </span><span class=\"gold-annotation\">vacuolar </span><span class=\"candidate gold-annotation c-273-16-0\">degeneration</span><span class=\"\">) indicates that MIBG scintigraphy may be a useful method for detection of adriamycin-induced </span><span class=\"candidate gold-annotation c-273-16-1\">cardiomyopathy</span><span class=\"\">.</span></li>\n",
       "        \n",
       "        <li class=\"list-group-item\" data-toggle=\"tooltip\" data-placement=\"top\" title=\"12600698-0\"><span class=\"\">Protective effect of edaravone against streptomycin-induced </span><span class=\"gold-annotation\">vestibulotoxicity</span><span class=\"\"> in the guinea pig.</span></li>\n",
       "        </ul>\n",
       "        </div>\n",
       "        </div>\n",
       "    <div class=\"panel-footer\">\n",
       "        <div class=\"btn-group\" role=\"group\" aria-label=\"...\">\n",
       "            <button id=\"prev-page-273\" type=\"button\" class=\"btn btn-default\">\n",
       "                <span class=\"glyphicon glyphicon-left-arrow\" aria-hidden=\"true\"></span> Prev. Page (i)\n",
       "            </button>\n",
       "            <button id=\"prev-cand-273\" type=\"button\" class=\"btn btn-default\">\n",
       "                <span class=\"glyphicon glyphicon-down-arrow\" aria-hidden=\"true\"></span> Prev. Cand. (j)\n",
       "            </button>\n",
       "            <button id=\"next-cand-273\" type=\"button\" class=\"btn btn-default\">\n",
       "                <span class=\"glyphicon glyphicon-up-arrow\" aria-hidden=\"true\"></span> Next Cand. (l)\n",
       "            </button>\n",
       "            <button id=\"next-page-273\" type=\"button\" class=\"btn btn-default\">\n",
       "                <span class=\"glyphicon glyphicon-right-arrow\" aria-hidden=\"true\"></span> Next Page (k)\n",
       "            </button>\n",
       "        </div>\n",
       "        <span><i>  Viewer must be focused for keyboard control</i></span>\n",
       "        <div class=\"page-num panel-left-justify\">Page <span id=\"page-273\">0</span></div>\n",
       "    </div>\n",
       "</div>\n"
      ]
     },
     "metadata": {
      "text/html": {
       "isolated": false
      }
     },
     "output_type": "display_data"
    },
    {
     "data": {
      "application/javascript": [
       "$.getScript(\"http://d3js.org/d3.v3.min.js\", function () {\n",
       "$.getScript(\"https://ajax.googleapis.com/ajax/libs/jquery/1.11.3/jquery.min.js\", function () {\n",
       "var vid    = 273;\n",
       "var nPages = 17;\n",
       "var cid    = 0;\n",
       "var pid    = 0;\n",
       "\n",
       "// Enable tooltip functionality\n",
       "$(function () {\n",
       "    $('[data-toggle=\"tooltip\"]').tooltip()\n",
       "});\n",
       "\n",
       "// Get the selector for a given candidate by number (w.r.t. to entire page group)\n",
       "function candidateSelector(cid) {\n",
       "    return $(\"span.c-\" + vid + \"-\" + pid + \"-\" + cid);\n",
       "}\n",
       "\n",
       "// Cycle through candidates and highlight, by increment inc\n",
       "function switchCandidate(inc) {\n",
       "    var nC = parseInt($(\"#viewer-page-\"+vid+\"-\"+pid).attr(\"data-nc\"));\n",
       "\n",
       "    // Clear highlighting and highlight new candidate\n",
       "    $(\"span.candidate\").removeClass(\"highlighted-candidate\");\n",
       "    if (cid + inc < 0) {\n",
       "        cid = nC + (cid + inc);\n",
       "    } else if (cid + inc > nC - 1) {\n",
       "        cid = (cid + inc) - nC;\n",
       "    } else {\n",
       "        cid += inc;\n",
       "    }\n",
       "    candidateSelector(cid).addClass(\"highlighted-candidate\");\n",
       "\n",
       "    // Fill in caption\n",
       "    $(\"#candidate-caption-\"+vid).html($(\"#cdata-\"+vid+\"-\"+pid+\"-\"+cid).attr(\"caption\"));\n",
       "};\n",
       "\n",
       "$(\"#next-cand-\" + vid).click(function() {\n",
       "    switchCandidate(1);\n",
       "});\n",
       "\n",
       "$(\"#prev-cand-\" + vid).click(function() {\n",
       "    switchCandidate(-1);\n",
       "});\n",
       "\n",
       "// Switch through pages\n",
       "function switchPage(inc) {\n",
       "    $(\".viewer-page-\"+vid).hide();\n",
       "    if (pid + inc < 0) {\n",
       "        pid = 0;\n",
       "    } else if (pid + inc > nPages - 1) {\n",
       "        pid = nPages - 1;\n",
       "    } else {\n",
       "        pid += inc;\n",
       "    }\n",
       "    $(\"#viewer-page-\"+vid+\"-\"+pid).show();\n",
       "\n",
       "    // Show pagination\n",
       "    $(\"#page-\"+vid).html(pid);\n",
       "\n",
       "    // Reset cid and set to first candidate\n",
       "    cid = 0;\n",
       "    switchCandidate(0);\n",
       "}\n",
       "\n",
       "$(\"#next-page-\" + vid).click(function() {\n",
       "    switchPage(1);\n",
       "});\n",
       "\n",
       "$(\"#prev-page-\" + vid).click(function() {\n",
       "    switchPage(-1);\n",
       "});\n",
       "\n",
       "// Arrow key functionality\n",
       "$(document).keydown(function(e) {\n",
       "\n",
       "    // Check that the Jupyter notebook cell the viewer is in is selected\n",
       "    if ($(\"#viewer-\"+vid).parents(\".cell\").hasClass(\"selected\")) {\n",
       "        switch(e.which) {\n",
       "            case 74: // j\n",
       "            switchCandidate(-1);\n",
       "            break;\n",
       "\n",
       "            case 73: // i\n",
       "            switchPage(-1);\n",
       "            break;\n",
       "\n",
       "            case 76: // l\n",
       "            switchCandidate(1);\n",
       "            break;\n",
       "\n",
       "            case 75: // k\n",
       "            switchPage(1);\n",
       "            break;\n",
       "        }\n",
       "    }\n",
       "});\n",
       "\n",
       "// Show the first page and highlight the first candidate\n",
       "$(\"#viewer-page-\"+vid+\"-0\").show();\n",
       "switchCandidate(0);\n",
       "});\n",
       "});\n"
      ]
     },
     "metadata": {},
     "output_type": "display_data"
    }
   ],
   "source": [
    "from ddlite_viewer import SentenceNgramViewer\n",
    "sv = SentenceNgramViewer(view_sents, c.get_candidates(), gold=gold)\n",
    "sv.render(n_per_page=3, height=225)"
   ]
  },
  {
   "cell_type": "markdown",
   "metadata": {},
   "source": [
    "## Composing a better candidate extractor\n",
    "\n",
    "Let's try to increase our candidate recall using more of the `Matcher` operators and their functionalities.  First, let's turn on **Porter stemming** in our dictionary matcher; Porter stemming is an aggressive rules-based method for normalizing word endings."
   ]
  },
  {
   "cell_type": "code",
   "execution_count": 36,
   "metadata": {
    "collapsed": false
   },
   "outputs": [
    {
     "name": "stdout",
     "output_type": "stream",
     "text": [
      "Extracting candidates...\n",
      "CPU times: user 10.1 s, sys: 295 ms, total: 10.4 s\n",
      "Wall time: 10.2 s\n",
      "# of gold annotations\t= 4244\n",
      "# of candidates\t\t= 9266\n",
      "Candidate recall\t= 0.749\n",
      "Candidate precision\t= 0.343\n"
     ]
    },
    {
     "name": "stderr",
     "output_type": "stream",
     "text": [
      "/Library/Python/2.7/site-packages/nltk/stem/porter.py:274: UnicodeWarning: Unicode equal comparison failed to convert both arguments to Unicode - interpreting them as being unequal\n",
      "  if word[-1] == 's':\n"
     ]
    }
   ],
   "source": [
    "# Define a new matcher\n",
    "matcher = DictionaryMatch(d=diseases, longest_match_only=False, stemmer='porter')\n",
    "\n",
    "# Extract a new set of candidates\n",
    "%time c = Candidates(ngrams, matcher, corpus.get_sentences())\n",
    "c.gold_stats(gold)"
   ]
  },
  {
   "cell_type": "markdown",
   "metadata": {},
   "source": [
    "Next, note that *`Matcher` objects are compositional*. Observing in the `Viewer` that we are missing all of the acronyms, let's start with the `Union` operator, to integrate a dictionary for this:"
   ]
  },
  {
   "cell_type": "code",
   "execution_count": 37,
   "metadata": {
    "collapsed": false
   },
   "outputs": [
    {
     "name": "stdout",
     "output_type": "stream",
     "text": [
      "Loaded 36904 acronyms!\n",
      "Extracting candidates...\n",
      "CPU times: user 10.8 s, sys: 112 ms, total: 11 s\n",
      "Wall time: 10.9 s\n",
      "# of gold annotations\t= 4244\n",
      "# of candidates\t\t= 9811\n",
      "Candidate recall\t= 0.778\n",
      "Candidate precision\t= 0.336\n"
     ]
    }
   ],
   "source": [
    "from ddlite_matchers import Union\n",
    "from load_dictionaries import load_acronym_dictionary\n",
    "\n",
    "# Load the disease phrase dictionary\n",
    "acronyms = load_acronym_dictionary()\n",
    "print \"Loaded %s acronyms!\" % len(acronyms)\n",
    "\n",
    "# Define a new matcher\n",
    "matcher = Union(\n",
    "    DictionaryMatch(d=diseases, longest_match_only=False, stemmer='porter'),\n",
    "    DictionaryMatch(d=acronyms, ignore_case=False))\n",
    "\n",
    "# Extract a new set of candidates\n",
    "%time c = Candidates(ngrams, matcher, corpus.get_sentences())\n",
    "c.gold_stats(gold)"
   ]
  },
  {
   "cell_type": "markdown",
   "metadata": {},
   "source": [
    "Next, we try using the `Concat` and `RegexMatch` operators to find candidate mentions composed of an _adjective followed by a term matching our diseases dictionary_.  Note in particular that we set `left_required=False` so that exact matches to our dictionary (with no adjective prepended) will still work:"
   ]
  },
  {
   "cell_type": "code",
   "execution_count": 40,
   "metadata": {
    "collapsed": false
   },
   "outputs": [
    {
     "name": "stdout",
     "output_type": "stream",
     "text": [
      "Extracting candidates...\n",
      "CPU times: user 20.6 s, sys: 558 ms, total: 21.1 s\n",
      "Wall time: 20.8 s\n",
      "# of gold annotations\t= 4244\n",
      "# of candidates\t\t= 12292\n",
      "Candidate recall\t= 0.821\n",
      "Candidate precision\t= 0.284\n"
     ]
    }
   ],
   "source": [
    "from ddlite_matchers import Concat, RegexMatchEach\n",
    "matcher = Union(\n",
    "    Concat(\n",
    "        RegexMatchEach(rgx=r'JJ*', attrib='poses'),\n",
    "        DictionaryMatch(d=diseases, longest_match_only=False, stemmer='porter'),\n",
    "        left_required=False),\n",
    "    DictionaryMatch(d=acronyms, ignore_case=False))\n",
    "\n",
    "# Extract a new set of candidates\n",
    "%time c = Candidates(ngrams, matcher, corpus.get_sentences())\n",
    "c.gold_stats(gold)"
   ]
  },
  {
   "cell_type": "code",
   "execution_count": 41,
   "metadata": {
    "collapsed": false
   },
   "outputs": [
    {
     "name": "stdout",
     "output_type": "stream",
     "text": [
      "Extracting candidates...\n",
      "CPU times: user 2.83 s, sys: 435 ms, total: 3.27 s\n",
      "Wall time: 29.2 s\n",
      "# of gold annotations\t= 4244\n",
      "# of candidates\t\t= 12292\n",
      "Candidate recall\t= 0.821\n",
      "Candidate precision\t= 0.284\n"
     ]
    }
   ],
   "source": [
    "from ddlite_matchers import Concat, RegexMatchEach\n",
    "matcher = Union(\n",
    "    Concat(\n",
    "        RegexMatchEach(rgx=r'JJ*', attrib='poses'),\n",
    "        DictionaryMatch(d=diseases, longest_match_only=False, stemmer='porter'),\n",
    "        left_required=False),\n",
    "    DictionaryMatch(d=acronyms, ignore_case=False))\n",
    "\n",
    "# Extract a new set of candidates\n",
    "%time c = Candidates(ngrams, matcher, corpus.get_sentences(), parallelism=4)\n",
    "c.gold_stats(gold)"
   ]
  },
  {
   "cell_type": "markdown",
   "metadata": {},
   "source": [
    "### More coming here...\n",
    "\n",
    "We've increased the candidate recall (on the development set) by 7.3% using some simple compositional `Matcher` operators.  We'll be adding more here soon!"
   ]
  },
  {
   "cell_type": "markdown",
   "metadata": {},
   "source": [
    "## Connecting with the rest of the `DDLite` workflow\n",
    "\n",
    "We are in the process of a big code refactor!  For now, to connect the candidates derived as in above to the rest of the `DDLite` workflow, create a `CandidateExtractor` class as follows:"
   ]
  },
  {
   "cell_type": "code",
   "execution_count": null,
   "metadata": {
    "collapsed": true
   },
   "outputs": [],
   "source": [
    "from ddlite_matchers import CandidateExtractor\n",
    "ce = CandidateExtractor(ngrams, matcher)"
   ]
  },
  {
   "cell_type": "markdown",
   "metadata": {},
   "source": [
    "This object can now be used in place of the candidate extractors in the other tutorials!"
   ]
  }
 ],
 "metadata": {
  "kernelspec": {
   "display_name": "Python 2",
   "language": "python",
   "name": "python2"
  },
  "language_info": {
   "codemirror_mode": {
    "name": "ipython",
    "version": 2
   },
   "file_extension": ".py",
   "mimetype": "text/x-python",
   "name": "python",
   "nbconvert_exporter": "python",
   "pygments_lexer": "ipython2",
   "version": "2.7.10"
  }
 },
 "nbformat": 4,
 "nbformat_minor": 0
}
