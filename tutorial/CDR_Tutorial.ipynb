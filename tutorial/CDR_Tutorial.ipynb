{
 "cells": [
  {
   "cell_type": "markdown",
   "metadata": {},
   "source": [
    "# Tutorial: Chemical-Disease Extraction\n",
    "\n",
    "## Part I: Candidate Extraction\n",
    "\n",
    "In this example, we'll be writing an application to extract **chemical-disease** relationships from Pubmed abstracts, as per the [BioCreative CDR Challenge](http://www.biocreative.org/resources/corpora/biocreative-v-cdr-corpus/).  At core, we will be constructing a model to classify _candidate chemical-disease (C-D) relation mentions_ as either true or false.  To do this, we first need a set of such candidates.\n",
    "\n",
    "In this notebook, we'll use `DDLite` utilities to extract these candidates.  In _part II_, we'll start with the gold set of candidates and just focus on the core candidate classification task."
   ]
  },
  {
   "cell_type": "markdown",
   "metadata": {},
   "source": [
    "### Parsing from XML format\n",
    "\n",
    "We'll start by using `DDLite`'s `DocParser` class to read in Pubmed abstracts from [Pubtator]([Pubtator](http://www.ncbi.nlm.nih.gov/CBBresearch/Lu/Demo/PubTator/index.cgi)), where they are stored along with gold chemical and disease mention annotations.\n",
    "\n",
    "We'll use the `XMLDocParser` class, which allows us to use XPath queries to specify the relevant sections of the XML format.  Note that we are simply newline-concatenating text from the title and abstract together for simplicity."
   ]
  },
  {
   "cell_type": "code",
   "execution_count": 1,
   "metadata": {
    "collapsed": false
   },
   "outputs": [
    {
     "data": {
      "text/plain": [
       "Document(id='6794356', file='CDR_DevelopmentSet.xml', text='Tricuspid valve regurgitation and lithium carbonate toxicity in a newborn infant.\\nA newborn with massive tricuspid regurgitation, atrial flutter, congestive heart failure, and a high serum lithium level is described. This is the first patient to initially manifest tricuspid regurgitation and atrial flutter, and the 11th described patient with cardiac disease among infants exposed to lithium compounds in the first trimester of pregnancy. Sixty-three percent of these infants had tricuspid valve involvement. Lithium carbonate may be a factor in the increasing incidence of congenital heart disease when taken during early pregnancy. It also causes neurologic depression, cyanosis, and cardiac arrhythmia when consumed prior to delivery.', attribs={'root': <Element document at 0x10b7d4e60>})"
      ]
     },
     "execution_count": 1,
     "metadata": {},
     "output_type": "execute_result"
    }
   ],
   "source": [
    "from ddlite_parser import XMLDocParser\n",
    "xml_parser = XMLDocParser(path='data/CDR_DevelopmentSet.xml',\n",
    "    doc='.//document', text='.//passage/text/text()',\n",
    "    id='.//id/text()', keep_tree=True)\n",
    "docs = list(xml_parser.parse())\n",
    "docs[0]"
   ]
  },
  {
   "cell_type": "markdown",
   "metadata": {},
   "source": [
    "### Pre-processing the sentences\n",
    "\n",
    "Next, we'll use an NLP preprocessing tool to split the `Document` objects into sentences, tokens, and provide annotations--part-of-speech tags, dependency parse structure, lemmatized word forms, etc.--for these sentences."
   ]
  },
  {
   "cell_type": "code",
   "execution_count": 2,
   "metadata": {
    "collapsed": false
   },
   "outputs": [
    {
     "data": {
      "text/plain": [
       "Sentence(id='6794356-0', words=[u'Tricuspid', u'valve', u'regurgitation', u'and', u'lithium', u'carbonate', u'toxicity', u'in', u'a', u'newborn', u'infant', u'.'], lemmas=[u'tricuspid', u'valve', u'regurgitation', u'and', u'lithium', u'carbonate', u'toxicity', u'in', u'a', u'newborn', u'infant', u'.'], poses=[u'JJ', u'NN', u'NN', u'CC', u'NN', u'NN', u'NN', u'IN', u'DT', u'JJ', u'NN', u'.'], dep_parents=[3, 3, 0, 3, 7, 7, 3, 11, 11, 11, 3, 3], dep_labels=[u'amod', u'compound', u'ROOT', u'cc', u'compound', u'compound', u'conj', u'case', u'det', u'amod', u'nmod', u'punct'], sent_id=0, doc_id='6794356', text=u'Tricuspid valve regurgitation and lithium carbonate toxicity in a newborn infant.', char_offsets=[0, 10, 16, 30, 34, 42, 52, 61, 64, 66, 74, 80], doc_name='CDR_DevelopmentSet.xml')"
      ]
     },
     "execution_count": 2,
     "metadata": {},
     "output_type": "execute_result"
    }
   ],
   "source": [
    "from ddlite_parser import SentenceParser\n",
    "parser = SentenceParser()\n",
    "sents  = parser.parse_docs(docs)\n",
    "sent   = sents[0]\n",
    "sent"
   ]
  },
  {
   "cell_type": "markdown",
   "metadata": {},
   "source": [
    "## Testing `CandidateSpace` and `Matcher`"
   ]
  },
  {
   "cell_type": "code",
   "execution_count": 39,
   "metadata": {
    "collapsed": false
   },
   "outputs": [],
   "source": [
    "from ddlite_candidates import Ngrams\n",
    "from ddlite_matchers import DictionaryMatch"
   ]
  },
  {
   "cell_type": "code",
   "execution_count": 40,
   "metadata": {
    "collapsed": false
   },
   "outputs": [],
   "source": [
    "cs = Ngrams(n_max=3)"
   ]
  },
  {
   "cell_type": "code",
   "execution_count": 43,
   "metadata": {
    "collapsed": false
   },
   "outputs": [
    {
     "name": "stdout",
     "output_type": "stream",
     "text": [
      "<Ngram(\"Tricuspid valve regurgitation\", id=6794356-0:0-28, chars=[0,28], words=[0,2])\n",
      "<Ngram(\"valve regurgitation and\", id=6794356-0:10-32, chars=[10,32], words=[1,3])\n",
      "<Ngram(\"regurgitation and lithium\", id=6794356-0:16-40, chars=[16,40], words=[2,4])\n",
      "<Ngram(\"and lithium carbonate\", id=6794356-0:30-50, chars=[30,50], words=[3,5])\n",
      "<Ngram(\"lithium carbonate toxicity\", id=6794356-0:34-59, chars=[34,59], words=[4,6])\n",
      "<Ngram(\"carbonate toxicity in\", id=6794356-0:42-62, chars=[42,62], words=[5,7])\n",
      "<Ngram(\"toxicity in a\", id=6794356-0:52-64, chars=[52,64], words=[6,8])\n",
      "<Ngram(\"in a newborn\", id=6794356-0:61-72, chars=[61,72], words=[7,9])\n",
      "<Ngram(\"a newborn infant\", id=6794356-0:64-79, chars=[64,79], words=[8,10])\n",
      "<Ngram(\"newborn infant .\", id=6794356-0:66-81, chars=[66,81], words=[9,11])\n",
      "<Ngram(\"Tricuspid valve\", id=6794356-0:0-14, chars=[0,14], words=[0,1])\n",
      "<Ngram(\"valve regurgitation\", id=6794356-0:10-28, chars=[10,28], words=[1,2])\n",
      "<Ngram(\"regurgitation and\", id=6794356-0:16-32, chars=[16,32], words=[2,3])\n",
      "<Ngram(\"and lithium\", id=6794356-0:30-40, chars=[30,40], words=[3,4])\n",
      "<Ngram(\"lithium carbonate\", id=6794356-0:34-50, chars=[34,50], words=[4,5])\n",
      "<Ngram(\"carbonate toxicity\", id=6794356-0:42-59, chars=[42,59], words=[5,6])\n",
      "<Ngram(\"toxicity in\", id=6794356-0:52-62, chars=[52,62], words=[6,7])\n",
      "<Ngram(\"in a\", id=6794356-0:61-64, chars=[61,64], words=[7,8])\n",
      "<Ngram(\"a newborn\", id=6794356-0:64-72, chars=[64,72], words=[8,9])\n",
      "<Ngram(\"newborn infant\", id=6794356-0:66-79, chars=[66,79], words=[9,10])\n",
      "<Ngram(\"infant .\", id=6794356-0:74-81, chars=[74,81], words=[10,11])\n",
      "<Ngram(\"Tricuspid\", id=6794356-0:0-8, chars=[0,8], words=[0,0])\n",
      "<Ngram(\"valve\", id=6794356-0:10-14, chars=[10,14], words=[1,1])\n",
      "<Ngram(\"regurgitation\", id=6794356-0:16-28, chars=[16,28], words=[2,2])\n",
      "<Ngram(\"and\", id=6794356-0:30-32, chars=[30,32], words=[3,3])\n",
      "<Ngram(\"lithium\", id=6794356-0:34-40, chars=[34,40], words=[4,4])\n",
      "<Ngram(\"carbonate\", id=6794356-0:42-50, chars=[42,50], words=[5,5])\n",
      "<Ngram(\"toxicity\", id=6794356-0:52-59, chars=[52,59], words=[6,6])\n",
      "<Ngram(\"in\", id=6794356-0:61-62, chars=[61,62], words=[7,7])\n",
      "<Ngram(\"a\", id=6794356-0:64-64, chars=[64,64], words=[8,8])\n",
      "<Ngram(\"newborn\", id=6794356-0:66-72, chars=[66,72], words=[9,9])\n",
      "<Ngram(\"infant\", id=6794356-0:74-79, chars=[74,79], words=[10,10])\n",
      "<Ngram(\".\", id=6794356-0:80-80, chars=[80,80], words=[11,11])\n"
     ]
    }
   ],
   "source": [
    "for ng in cs.apply(sent):\n",
    "    print ng"
   ]
  },
  {
   "cell_type": "code",
   "execution_count": 46,
   "metadata": {
    "collapsed": false
   },
   "outputs": [
    {
     "name": "stdout",
     "output_type": "stream",
     "text": [
      "<Ngram(\"Tricuspid valve regurgitation\", id=6794356-0:0-28, chars=[0,28], words=[0,2])\n",
      "<Ngram(\"toxicity\", id=6794356-0:52-59, chars=[52,59], words=[6,6])\n"
     ]
    }
   ],
   "source": [
    "matcher = DictionaryMatch(d=diseases, longest_match_only=True)\n",
    "matches = []\n",
    "for match in matcher.apply(cs.apply(sents[0])):\n",
    "    matches.append(match)\n",
    "    print match"
   ]
  },
  {
   "cell_type": "code",
   "execution_count": 61,
   "metadata": {
    "collapsed": false
   },
   "outputs": [
    {
     "data": {
      "text/plain": [
       "<Ngram(\"toxic\", id=6794356-0:52-56, chars=[52,56], words=[6,6])"
      ]
     },
     "execution_count": 61,
     "metadata": {},
     "output_type": "execute_result"
    }
   ],
   "source": [
    "matches[1][:5]"
   ]
  },
  {
   "cell_type": "code",
   "execution_count": 45,
   "metadata": {
    "collapsed": false
   },
   "outputs": [
    {
     "name": "stdout",
     "output_type": "stream",
     "text": [
      "<Ngram(\"Tricuspid valve regurgitation\", id=6794356-0:0-28, chars=[0,28], words=[0,2])\n",
      "<Ngram(\"regurgitation\", id=6794356-0:16-28, chars=[16,28], words=[2,2])\n",
      "<Ngram(\"toxicity\", id=6794356-0:52-59, chars=[52,59], words=[6,6])\n"
     ]
    }
   ],
   "source": [
    "matcher = DictionaryMatch(d=diseases, longest_match_only=False)\n",
    "for match in matcher.apply(cs.apply(sents[0])):\n",
    "    print match"
   ]
  },
  {
   "cell_type": "markdown",
   "metadata": {},
   "source": [
    "### Writing a `CDR` candidate extractor\n",
    "\n",
    "We'll start by writing a _disease mention extractor_, then a _chemical mention extractor_, and finally will take all _C-D_ pairs co-occuring in a sentence as our C-D relation candidates."
   ]
  },
  {
   "cell_type": "markdown",
   "metadata": {},
   "source": [
    "#### Loading a gold candidate set\n",
    "First, we'll load in the gold annotations from the CDR development set, so that we can test our _candidate recall_, in other words how good our candidate extractor's coverage is."
   ]
  },
  {
   "cell_type": "code",
   "execution_count": null,
   "metadata": {
    "collapsed": false,
    "scrolled": true
   },
   "outputs": [],
   "source": [
    "doc = docs[0]\n",
    "doc"
   ]
  },
  {
   "cell_type": "code",
   "execution_count": null,
   "metadata": {
    "collapsed": false
   },
   "outputs": [],
   "source": [
    "from utils import collect_pubtator_annotations\n",
    "annos = collect_pubtator_annotations(doc)"
   ]
  },
  {
   "cell_type": "markdown",
   "metadata": {},
   "source": [
    "#### Disease mentions\n",
    "We'll build our disease mention extractor using some pre-compiled ontologies ([UMLS](https://www.nlm.nih.gov/research/umls/), [ORDO](http://www.orphadata.org/cgi-bin/inc/ordo_orphanet.inc.php), [DOID](http://www.obofoundry.org/ontology/doid.html), [NCBI Diseases](http://www.ncbi.nlm.nih.gov/CBBresearch/Dogan/DISEASE/); see `tutorial/data/diseases.py`) and `DDLite`'s `CandidateExtractor` operators."
   ]
  },
  {
   "cell_type": "code",
   "execution_count": 6,
   "metadata": {
    "collapsed": true
   },
   "outputs": [],
   "source": [
    "from load_dictionaries import load_disease_dictionary, \\\n",
    "                              load_acronym_dictionary"
   ]
  },
  {
   "cell_type": "code",
   "execution_count": 7,
   "metadata": {
    "collapsed": false
   },
   "outputs": [],
   "source": [
    "diseases = load_disease_dictionary()"
   ]
  },
  {
   "cell_type": "code",
   "execution_count": 8,
   "metadata": {
    "collapsed": false
   },
   "outputs": [
    {
     "data": {
      "text/plain": [
       "507899"
      ]
     },
     "execution_count": 8,
     "metadata": {},
     "output_type": "execute_result"
    }
   ],
   "source": [
    "len(diseases)"
   ]
  },
  {
   "cell_type": "markdown",
   "metadata": {},
   "source": [
    "### Comparing against gold candidate set\n",
    "\n",
    "#### TODO: DictionaryMatch accepts either list or dict; in latter case, assumes vals are the IDs!\n",
    "\n",
    "#### ALSO: Add estimate_size method to CandidateExtraction operators"
   ]
  },
  {
   "cell_type": "markdown",
   "metadata": {},
   "source": [
    "### Saving to disk"
   ]
  },
  {
   "cell_type": "markdown",
   "metadata": {},
   "source": [
    "# TODO: Write tests!"
   ]
  }
 ],
 "metadata": {
  "kernelspec": {
   "display_name": "Python 2",
   "language": "python",
   "name": "python2"
  },
  "language_info": {
   "codemirror_mode": {
    "name": "ipython",
    "version": 2
   },
   "file_extension": ".py",
   "mimetype": "text/x-python",
   "name": "python",
   "nbconvert_exporter": "python",
   "pygments_lexer": "ipython2",
   "version": "2.7.10"
  }
 },
 "nbformat": 4,
 "nbformat_minor": 0
}
