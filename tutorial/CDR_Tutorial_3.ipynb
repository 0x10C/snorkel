{
 "cells": [
  {
   "cell_type": "markdown",
   "metadata": {},
   "source": [
    "# Chemical-Disease Relation (CDR) Tutorial\n",
    "\n",
    "In this example, we'll be writing an application to extract *mentions of* **chemical-induced-disease relationships** from Pubmed abstracts, as per the [BioCreative CDR Challenge](http://www.biocreative.org/resources/corpora/biocreative-v-cdr-corpus/).  At core, we will be constructing a model to classify _candidate_ CDR mentions as either true or false."
   ]
  },
  {
   "cell_type": "markdown",
   "metadata": {},
   "source": [
    "## Part III: Creating or Loading Evaluation Labels"
   ]
  },
  {
   "cell_type": "code",
   "execution_count": 1,
   "metadata": {
    "collapsed": false
   },
   "outputs": [
    {
     "name": "stdout",
     "output_type": "stream",
     "text": [
      "The autoreload extension is already loaded. To reload it, use:\n",
      "  %reload_ext autoreload\n"
     ]
    }
   ],
   "source": [
    "%load_ext autoreload\n",
    "%autoreload 2\n",
    "import os\n",
    "\n",
    "# Note: We run automated tests on this tutorial to make sure that it is always up to date! \n",
    "# However, certain interactive components cannot currently be tested automatically, and will \n",
    "# be skipped with if-then statements using the variable below\n",
    "AUTOMATED_TESTING = os.environ.get('TESTING') is not None\n",
    "\n",
    "from snorkel import SnorkelSession\n",
    "session = SnorkelSession()"
   ]
  },
  {
   "cell_type": "markdown",
   "metadata": {},
   "source": [
    "## Part III(a): Creating Evaluation Labels in the `Viewer`"
   ]
  },
  {
   "cell_type": "markdown",
   "metadata": {},
   "source": [
    "We repeat our definition of the `ChemicalDisease` `Candidate` subclass from Part II."
   ]
  },
  {
   "cell_type": "code",
   "execution_count": 2,
   "metadata": {
    "collapsed": true
   },
   "outputs": [],
   "source": [
    "from snorkel.models import candidate_subclass\n",
    "\n",
    "ChemicalDisease = candidate_subclass('ChemicalDisease', ['chemical', 'disease'])"
   ]
  },
  {
   "cell_type": "markdown",
   "metadata": {},
   "source": [
    "## Loading the development `CandidateSet`"
   ]
  },
  {
   "cell_type": "markdown",
   "metadata": {},
   "source": [
    "We will start by viewing the development `CandidateSet` we created in Part II in the `Viewer`.\n",
    "\n",
    "First we reload the development `CandidateSet`."
   ]
  },
  {
   "cell_type": "code",
   "execution_count": 3,
   "metadata": {
    "collapsed": false
   },
   "outputs": [
    {
     "data": {
      "text/plain": [
       "Candidate Set (CDR Development Candidates)"
      ]
     },
     "execution_count": 3,
     "metadata": {},
     "output_type": "execute_result"
    }
   ],
   "source": [
    "from snorkel.models import CandidateSet\n",
    "\n",
    "cs = session.query(CandidateSet).filter(CandidateSet.name == 'CDR Development Candidates').one()\n",
    "cs"
   ]
  },
  {
   "cell_type": "markdown",
   "metadata": {},
   "source": [
    "## Labeling the `CandidateSet` in the `Viewer`"
   ]
  },
  {
   "cell_type": "markdown",
   "metadata": {},
   "source": [
    "We create a `Viewer` to annotate them manually."
   ]
  },
  {
   "cell_type": "code",
   "execution_count": null,
   "metadata": {
    "collapsed": false
   },
   "outputs": [],
   "source": [
    "from snorkel.viewer import SentenceNgramViewer\n",
    "\n",
    "# NOTE: This if-then statement is only to avoid opening the viewer during automated testing of this notebook\n",
    "# You should ignore this!\n",
    "if not AUTOMATED_TESTING:\n",
    "    sv = SentenceNgramViewer(cs[:300], session, annotator_name=\"Tutorial Part III User\")\n",
    "else:\n",
    "    sv = None"
   ]
  },
  {
   "cell_type": "markdown",
   "metadata": {},
   "source": [
    "We now open the Viewer.\n",
    "\n",
    "You can mark each `Candidate` as true or false. Remember that <span style=\"color:red\">red</span> denotes the first argument (chemical) and <span style=\"color:blue\">blue</span> denotes the second (disease). Try it!\n",
    "\n",
    "These labels are automatically saved in the database backend, and can be accessed using the annotator's name ('Tutorial Part III User') as the AnnotationKey."
   ]
  },
  {
   "cell_type": "code",
   "execution_count": null,
   "metadata": {
    "collapsed": true
   },
   "outputs": [],
   "source": [
    "sv"
   ]
  },
  {
   "cell_type": "markdown",
   "metadata": {},
   "source": [
    "## Loading CDR Labels"
   ]
  },
  {
   "cell_type": "markdown",
   "metadata": {},
   "source": [
    "Resume here."
   ]
  },
  {
   "cell_type": "markdown",
   "metadata": {},
   "source": [
    "## Part III(a): Loading External Evaluation Labels\n",
    "\n",
    "Loading in external annotations can be a bit messier, since these external annotations could be in any format.  Here, we'll provide an example of how to use the `ExternalAnnotationsLoader` helper class to make this a bit simpler.\n",
    "\n",
    "**Note that most of the code below is custom code just for this particular example's external annotations format;** we start, however, by creating the loader helper.  Note that we use it to create a `CandidateSet` (named \"Gold Candidates\") and `AnnotationKey` (named \"Gold Labels\") for the annotations we load.\n",
    "\n",
    "Note in particular that we need to define a new candidate set because _the external annotations we load might be over candidates not in our candidate set._"
   ]
  },
  {
   "cell_type": "code",
   "execution_count": 4,
   "metadata": {
    "collapsed": true
   },
   "outputs": [],
   "source": [
    "from snorkel.loaders import ExternalAnnotationsLoader\n",
    "\n",
    "dev_loader = ExternalAnnotationsLoader(session, ChemicalDisease, \n",
    "                                       'CDR Development Candidates -- Gold',\n",
    "                                       'CDR Development Labels -- Gold')"
   ]
  },
  {
   "cell_type": "markdown",
   "metadata": {},
   "source": [
    "Next, we use custom scripts to extract this particular type of annotations.  **The details of these scripts are mostly left out as they are particular to this example (see `tutorial/utils.py`).**\n",
    "\n",
    "The key part is that we need to form a _dictionary of `TemporaryContexts`_ to pass into the loader:"
   ]
  },
  {
   "cell_type": "code",
   "execution_count": 5,
   "metadata": {
    "collapsed": false
   },
   "outputs": [],
   "source": [
    "from utils import get_docs_xml, get_CID_relations\n",
    "from snorkel.models import Document, TemporarySpan\n",
    "import os\n",
    "ROOT = os.environ['SNORKELHOME'] + '/tutorial/data/'\n",
    "\n",
    "def load_BioC_CDR_labels(loader, file_name):\n",
    "    # Get all the annotated Pubtator documents as XML trees\n",
    "    doc_xmls = get_docs_xml(ROOT + file_name)\n",
    "    for doc_id, doc_xml in doc_xmls.iteritems():\n",
    "    \n",
    "        # Get the corresponding Document object\n",
    "        stable_id = \"%s::document:0:0\" % doc_id\n",
    "        doc       = session.query(Document).filter(Document.stable_id == stable_id).one()\n",
    "    \n",
    "        # Use custom script to extract the annotations as (sentence, char_start, char_end, text) tuples\n",
    "        for c, d in get_CID_relations(doc_xml, doc):\n",
    "            sent, c_char_start, c_char_end, _ = c\n",
    "            _, d_char_start, d_char_end, _    = d\n",
    "        \n",
    "            # Create a dictionary of TemporarySpans\n",
    "            temp_contexts = {\n",
    "                'chemical' : TemporarySpan(parent=sent, char_start=c_char_start, char_end=c_char_end),\n",
    "                'disease'  : TemporarySpan(parent=sent, char_start=d_char_start, char_end=d_char_end)\n",
    "            }\n",
    "        \n",
    "            # Add using the loader\n",
    "            loader.add(temp_contexts)\n",
    "\n",
    "load_BioC_CDR_labels(dev_loader, 'CDR_DevelopmentSet.BioC.xml')"
   ]
  },
  {
   "cell_type": "markdown",
   "metadata": {},
   "source": [
    "We can see that we've loaded 291 annotations:"
   ]
  },
  {
   "cell_type": "code",
   "execution_count": 6,
   "metadata": {
    "collapsed": false
   },
   "outputs": [
    {
     "data": {
      "text/plain": [
       "1879"
      ]
     },
     "execution_count": 6,
     "metadata": {},
     "output_type": "execute_result"
    }
   ],
   "source": [
    "from snorkel.models import Label\n",
    "\n",
    "session.query(Label).filter(Label.key == dev_loader.annotation_key).count()"
   ]
  },
  {
   "cell_type": "markdown",
   "metadata": {},
   "source": [
    "Finally, since they're available, we'll also load the external annotations for the Train and Test sets:"
   ]
  },
  {
   "cell_type": "code",
   "execution_count": 7,
   "metadata": {
    "collapsed": false
   },
   "outputs": [
    {
     "name": "stdout",
     "output_type": "stream",
     "text": [
      "1745\n",
      "1857\n"
     ]
    }
   ],
   "source": [
    "# Training set\n",
    "train_loader = ExternalAnnotationsLoader(session, ChemicalDisease, \n",
    "                                       'CDR Training Candidates -- Gold',\n",
    "                                       'CDR Training Labels -- Gold')\n",
    "load_BioC_CDR_labels(train_loader, 'CDR_TrainingSet.BioC.xml')\n",
    "print session.query(Label).filter(Label.key == train_loader.annotation_key).count()\n",
    "\n",
    "# Test set\n",
    "test_loader = ExternalAnnotationsLoader(session, ChemicalDisease, \n",
    "                                       'CDR Test Candidates -- Gold',\n",
    "                                       'CDR Test Labels -- Gold')\n",
    "load_BioC_CDR_labels(test_loader, 'CDR_TestSet.BioC.xml')\n",
    "print session.query(Label).filter(Label.key == test_loader.annotation_key).count()"
   ]
  },
  {
   "cell_type": "markdown",
   "metadata": {},
   "source": [
    "### A Note on the BioCreative CDR Task Annotations\n",
    "\n",
    "Talk about the difference between mention- and entity-level annotations... here we have mention-level for the unary spans, but then entity-level for relations, which is potentially problematic..."
   ]
  }
 ],
 "metadata": {
  "kernelspec": {
   "display_name": "Python 2",
   "language": "python",
   "name": "python2"
  },
  "language_info": {
   "codemirror_mode": {
    "name": "ipython",
    "version": 2
   },
   "file_extension": ".py",
   "mimetype": "text/x-python",
   "name": "python",
   "nbconvert_exporter": "python",
   "pygments_lexer": "ipython2",
   "version": "2.7.10"
  }
 },
 "nbformat": 4,
 "nbformat_minor": 0
}
