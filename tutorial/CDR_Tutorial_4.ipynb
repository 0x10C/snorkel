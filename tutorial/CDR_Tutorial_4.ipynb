{
 "cells": [
  {
   "cell_type": "markdown",
   "metadata": {},
   "source": [
    "# Disease Tagging Tutorial\n",
    "\n",
    "In this example, we'll be writing an application to extract *mentions of* diseases from Pubmed abstracts, using annotations from the [BioCreative CDR Challenge](http://www.biocreative.org/resources/corpora/biocreative-v-cdr-corpus/).  This tutorial, which has 5 parts, walks through the process of constructing a model to classify _candidate_ disease mentions as either true (i.e., that it is truly a mention of a disease) or false."
   ]
  },
  {
   "cell_type": "markdown",
   "metadata": {},
   "source": [
    "## Part IV: Training a Model with Data Programming"
   ]
  },
  {
   "cell_type": "markdown",
   "metadata": {},
   "source": [
    "In this part of the tutorial, we will train a statistical model to differentiate between true and false `Disease` mentions.\n",
    "\n",
    "We will train this model using _data programming_, and we will **ignore** the training labels provided with the training data. This is a more realistic scenario; in the wild, hand-labeled training data is rare and expensive. Data programming enables us to train a model using only a modest amount of hand-labeled data for validation and testing. For more information on data programming, see the [NIPS 2016 paper](https://arxiv.org/abs/1605.07723)."
   ]
  },
  {
   "cell_type": "code",
   "execution_count": null,
   "metadata": {
    "collapsed": false
   },
   "outputs": [],
   "source": [
    "%load_ext autoreload\n",
    "%autoreload 2\n",
    "%matplotlib inline\n",
    "import os\n",
    "\n",
    "\n",
    "# Note: We run automated tests on this tutorial to make sure that it is always up to date! \n",
    "# However, certain interactive components cannot currently be tested automatically, and will \n",
    "# be skipped with if-then statements using the variable below\n",
    "AUTOMATED_TESTING = os.environ.get('TESTING') is not None\n",
    "\n",
    "import numpy as np\n",
    "from snorkel import SnorkelSession\n",
    "session = SnorkelSession()"
   ]
  },
  {
   "cell_type": "markdown",
   "metadata": {},
   "source": [
    "We repeat our definition of the `Disease` `Candidate` subclass from Parts II and III."
   ]
  },
  {
   "cell_type": "code",
   "execution_count": null,
   "metadata": {
    "collapsed": false
   },
   "outputs": [],
   "source": [
    "from snorkel.models import candidate_subclass\n",
    "\n",
    "Disease = candidate_subclass('Disease', ['disease'])"
   ]
  },
  {
   "cell_type": "markdown",
   "metadata": {},
   "source": [
    "## Loading `CandidateSet` objects\n",
    "\n",
    "We reload the training and development `CandidateSet` objects from the previous parts of the tutorial."
   ]
  },
  {
   "cell_type": "code",
   "execution_count": null,
   "metadata": {
    "collapsed": false
   },
   "outputs": [],
   "source": [
    "from snorkel.models import CandidateSet\n",
    "\n",
    "train = session.query(CandidateSet).filter(CandidateSet.name == 'CDR Training Candidates').one()\n",
    "dev = session.query(CandidateSet).filter(CandidateSet.name == 'CDR Development Candidates').one()"
   ]
  },
  {
   "cell_type": "markdown",
   "metadata": {},
   "source": [
    "## Automatically Creating Features\n",
    "Recall that our goal is to distinguish between true and false mentions of chemical-disease relations. To train a model for this task, we first embed our `ChemicalDisease` candidates in a feature space."
   ]
  },
  {
   "cell_type": "code",
   "execution_count": null,
   "metadata": {
    "collapsed": false
   },
   "outputs": [],
   "source": [
    "from snorkel.annotations import FeatureManager\n",
    "\n",
    "feature_manager = FeatureManager()"
   ]
  },
  {
   "cell_type": "markdown",
   "metadata": {},
   "source": [
    "We can create a new feature set:"
   ]
  },
  {
   "cell_type": "code",
   "execution_count": null,
   "metadata": {
    "collapsed": false,
    "scrolled": true
   },
   "outputs": [],
   "source": [
    "%time F_train = feature_manager.create(session, train, 'Train Features')"
   ]
  },
  {
   "cell_type": "markdown",
   "metadata": {},
   "source": [
    "**OR** if we've already created one, we can simply load as follows:"
   ]
  },
  {
   "cell_type": "code",
   "execution_count": null,
   "metadata": {
    "collapsed": false
   },
   "outputs": [],
   "source": [
    "%time F_train = feature_manager.load(session, train, 'Train Features')"
   ]
  },
  {
   "cell_type": "markdown",
   "metadata": {},
   "source": [
    "Note that the returned matrix is a special subclass of the `scipy.sparse.csr_matrix` class, with some special features which we demonstrate below:"
   ]
  },
  {
   "cell_type": "code",
   "execution_count": null,
   "metadata": {
    "collapsed": false
   },
   "outputs": [],
   "source": [
    "F_train"
   ]
  },
  {
   "cell_type": "code",
   "execution_count": null,
   "metadata": {
    "collapsed": false
   },
   "outputs": [],
   "source": [
    "F_train.get_candidate(0)"
   ]
  },
  {
   "cell_type": "code",
   "execution_count": null,
   "metadata": {
    "collapsed": false
   },
   "outputs": [],
   "source": [
    "F_train.get_key(0)"
   ]
  },
  {
   "cell_type": "markdown",
   "metadata": {},
   "source": [
    "## Creating Labeling Functions\n",
    "Labeling functions are a core tool of data programming. They are heuristic functions that aim to classify candidates correctly. Their outputs will be automatically combined and denoised to estimate the probabilities of training labels for the training data."
   ]
  },
  {
   "cell_type": "code",
   "execution_count": null,
   "metadata": {
    "collapsed": true
   },
   "outputs": [],
   "source": [
    "import re\n",
    "from lf_terms import *\n",
    "from snorkel.lf_helpers import get_left_tokens, get_right_tokens\n",
    "TRUE,FALSE,ABSTAIN = 1,-1,0"
   ]
  },
  {
   "cell_type": "markdown",
   "metadata": {},
   "source": [
    "We also load some publicly-available biomedical dictionaries, which we will leverage in some of our LFs below as a source of weak supervision:"
   ]
  },
  {
   "cell_type": "code",
   "execution_count": null,
   "metadata": {
    "collapsed": false
   },
   "outputs": [],
   "source": [
    "from utils import *\n",
    "\n",
    "diseases               = load_disease_dictionary()\n",
    "diseases.update(load_acronym_dictionary())\n",
    "umls_dict              = load_umls_dictionary()\n",
    "chemicals              = load_chemdner_dictionary()\n",
    "abbrv2text, text2abbrv = load_specialist_abbreviations()"
   ]
  },
  {
   "cell_type": "markdown",
   "metadata": {},
   "source": [
    "#### Document-Level Labeling Functions\n",
    "We start with some labeling functions that label candidates based on document-level features."
   ]
  },
  {
   "cell_type": "code",
   "execution_count": null,
   "metadata": {
    "collapsed": true
   },
   "outputs": [],
   "source": [
    "from snorkel.lf_helpers import get_doc_candidate_spans\n",
    "\n",
    "def LF_known_abbreviation(c):\n",
    "    \"\"\"\n",
    "    Utilize heuristic that if a phrase and its acronym are in same sentence they are\n",
    "    likely actual mentions, using the SPECIALIST acronyms lexicon\n",
    "    \"\"\"\n",
    "    doc_spans = get_doc_candidate_spans(c)\n",
    "    phrase = c[0].get_span().lower()\n",
    "    mentions = set([s.get_span().lower() for s in doc_spans])  \n",
    "    if phrase in abbrv2text and set(abbrv2text[phrase].keys()).intersection(mentions):\n",
    "        return 1\n",
    "    elif phrase in text2abbrv and set(text2abbrv[phrase].keys()).intersection(mentions):\n",
    "        return 1\n",
    "    return 0\n",
    "\n",
    "def LF_undefined_abbreviation(c):\n",
    "    '''Candidate is a known abbreviation, but no corresponding full name in document'''\n",
    "    doc_spans = get_doc_candidate_spans(c)\n",
    "    phrase = c[0].get_span().lower()\n",
    "    mentions = set([s.get_span().lower() for s in doc_spans])\n",
    "    if len(phrase) > 1 and phrase in abbrv2text and not set(abbrv2text[phrase].keys()).intersection(mentions):\n",
    "        return -1\n",
    "    return 0"
   ]
  },
  {
   "cell_type": "markdown",
   "metadata": {},
   "source": [
    "#### Sentence-Level Labeling Functions\n",
    "We also include some labeling functions that label candidates based on sentence-level features."
   ]
  },
  {
   "cell_type": "code",
   "execution_count": null,
   "metadata": {
    "collapsed": true
   },
   "outputs": [],
   "source": [
    "from snorkel.lf_helpers import get_sent_candidate_spans\n",
    "\n",
    "def LF_contiguous_mentions(c):\n",
    "    '''Contiguous candidates are likely wrong'''\n",
    "    neighbor_spans = get_sent_candidate_spans(c)\n",
    "    start, end = c[0].get_word_start(), c[0].get_word_end()\n",
    "    for s in neighbor_spans:\n",
    "        if s.get_word_end() + 1 == start or s.get_word_start() - 1 == end:\n",
    "            return -1\n",
    "    return 0"
   ]
  },
  {
   "cell_type": "markdown",
   "metadata": {},
   "source": [
    "#### Mention-Level Labeling Functions\n",
    "We now define a number of labeling functions that label candidates based on attributes related to the mention."
   ]
  },
  {
   "cell_type": "code",
   "execution_count": null,
   "metadata": {
    "collapsed": false
   },
   "outputs": [],
   "source": [
    "def LF_tumors_growths(c):\n",
    "    phrase = \" \".join(c[0].get_attrib_tokens('lemmas'))\n",
    "    return TRUE if re.search(\"^(\\w* ){0,2}(['] )*(tumor|tumour|polyp|pilomatricoma|cyst|lipoma)$\",phrase) else ABSTAIN\n",
    "\n",
    "def LF_cancer(c):\n",
    "    '''<TYPE> cancer'''\n",
    "    phrase = \" \".join(c[0].get_attrib_tokens('lemmas'))\n",
    "    return TRUE if re.search(\"\\w* cancer\",phrase) else ABSTAIN\n",
    "\n",
    "def LF_disease_syndrome(c):\n",
    "    '''<TYPE> disease or <TYPE> syndrome'''\n",
    "    phrase = \" \".join(c[0].get_attrib_tokens('lemmas'))\n",
    "    return TRUE if re.search(\"\\w* (disease|syndrome)+\",phrase) else ABSTAIN\n",
    "\n",
    "def LF_indicators(c):\n",
    "    '''Indicator words'''\n",
    "    return TRUE if \" \".join(c[0].get_attrib_tokens()).lower() in indicators else ABSTAIN\n",
    "\n",
    "def LF_common_disease(c):\n",
    "    '''Common disease'''\n",
    "    return TRUE if \" \".join(c[0].get_attrib_tokens()).lower() in common_disease else ABSTAIN\n",
    "\n",
    "def LF_common_disease_acronyms(c):\n",
    "    '''Common disease acronyms'''\n",
    "    return TRUE if \" \".join(c[0].get_attrib_tokens()) in common_disease_acronyms else ABSTAIN\n",
    "\n",
    "def LF_deficiency_of(c):\n",
    "    '''deficiency of <TYPE>'''\n",
    "    phrase = \" \".join(c[0].get_attrib_tokens()).lower()\n",
    "    return TRUE if phrase.endswith('deficiency') or phrase.startswith('deficiency') or phrase.endswith('dysfunction') else ABSTAIN\n",
    "\n",
    "def LF_come_with(c):\n",
    "    phrase = ' '.join(c[0].get_attrib_tokens())\n",
    "    w = ' '.join(right_window(c[0], window=1))\n",
    "    return TRUE if phrase in [\"APC\", \"PDS\"] and w in ['gene', 'mutations', 'mutation'] else ABSTAIN\n",
    "\n",
    "def LF_positive_indicator(c):\n",
    "    flag = False\n",
    "    for i in c[0].get_attrib_tokens():\n",
    "        if i.lower() in positive_indicator:\n",
    "            flag = True\n",
    "            break\n",
    "    return TRUE if flag else ABSTAIN\n",
    "\n",
    "def LF_left_positive_argument(c):    \n",
    "    phrase = \" \".join(c[0].get_attrib_tokens('lemmas')).lower()\n",
    "    pattern = \"(\\w+ ){1,2}(infection|lesion|neoplasm|attack|defect|anomaly|abnormality|degeneration|carcinoma|lymphoma|tumor|tumour|deficiency|malignancy|hypoplasia|disorder|deafness|weakness|condition|dysfunction|dystrophy)$\"\n",
    "    return TRUE if re.search(pattern,phrase) else ABSTAIN\n",
    "\n",
    "def LF_right_negative_argument(c):    \n",
    "    phrase = \" \".join(c[0].get_attrib_tokens('lemmas')).lower()\n",
    "    pattern = \"^(history of|mitochondrial|amino acid)( \\w+){1,2}\"\n",
    "    return FALSE if re.search(pattern,phrase) else ABSTAIN\n",
    "\n",
    "def LF_medical_afixes(c):\n",
    "    pattern = \"(\\w+(pathy|stasis|trophy|plasia|itis|osis|oma|asis|asia)$|^(hyper|hypo)\\w+)\"\n",
    "    phrase = \" \".join(c[0].get_attrib_tokens('lemmas')).lower()\n",
    "    return TRUE if re.search(pattern,phrase) else ABSTAIN\n",
    "\n",
    "def LF_adj_diseases(c):\n",
    "    adj_diseases = ['acromegalic', 'akinetic', 'allergic', 'arrhythmic', 'arteriopathic', 'asthmatic', \n",
    "                    'atherosclerotic', 'bradycardic', 'cardiotoxic', 'cataleptic', 'cholestatic', \n",
    "                    'cirrhotic', 'diabetic', 'dyskinetic', 'dystonic', 'eosinophilic', 'epileptic', \n",
    "                    'exencephalic', 'haemorrhagic', 'hemolytic', 'hemorrhagic', 'hemosiderotic', 'hepatotoxic'\n",
    "                    'hyperalgesic', 'hyperammonemic', 'hypercalcemic', 'hypercapnic', 'hyperemic', \n",
    "                    'hyperkinetic', 'hypertrophic', 'hypomanic', 'hypothermic', 'ischaemic', 'ischemic', \n",
    "                    'leukemic', 'myelodysplastic', 'myopathic', 'necrotic', 'nephrotic', 'nephrotoxic', \n",
    "                    'neuropathic', 'neurotoxic', 'neutropenic', 'ototoxic', 'polyuric', 'proteinuric', \n",
    "                    'psoriatic', 'psychiatric', 'psychotic', 'quadriplegic', 'schizophrenic', 'teratogenic', \n",
    "                    'thromboembolic', 'thrombotic', 'traumatic', 'vasculitic']\n",
    "    return TRUE if ' '.join(c[0].get_attrib_tokens()) in adj_diseases else ABSTAIN"
   ]
  },
  {
   "cell_type": "markdown",
   "metadata": {},
   "source": [
    "#### Dictionary Labeling Functions\n",
    "We can use existing dictionaries for distant supervision."
   ]
  },
  {
   "cell_type": "code",
   "execution_count": null,
   "metadata": {
    "collapsed": true
   },
   "outputs": [],
   "source": [
    "def LF_SNOWMED_CT_sign_or_symptom(c):\n",
    "    return TRUE if c[0].get_span() in umls_dict[\"snomedct\"][\"sign_or_symptom\"] else ABSTAIN\n",
    "\n",
    "def LF_SNOWMED_CT_disease_or_syndrome(m):\n",
    "    return TRUE if c[0].get_span() in umls_dict[\"snomedct\"][\"disease_or_syndrome\"] else ABSTAIN\n",
    "\n",
    "def LF_MESH_disease_or_syndrome(m):\n",
    "    return TRUE if c[0].get_span() in umls_dict[\"mesh\"][\"disease_or_syndrome\"] else ABSTAIN\n",
    "\n",
    "def LF_MESH_sign_or_symptom(m):\n",
    "    return TRUE if c[0].get_span() in umls_dict[\"mesh\"][\"sign_or_symptom\"] else ABSTAIN"
   ]
  },
  {
   "cell_type": "markdown",
   "metadata": {},
   "source": [
    "#### Negative Labeling Functions\n",
    "When writing labeling functions, it is important to provide negative supervision in addition to positive supervision."
   ]
  },
  {
   "cell_type": "code",
   "execution_count": null,
   "metadata": {
    "collapsed": true
   },
   "outputs": [],
   "source": [
    "def LF_organs(c):\n",
    "    phrase = \" \".join(c[0].get_attrib_tokens()).lower()\n",
    "    return FALSE if phrase in organs else ABSTAIN      \n",
    "\n",
    "def LF_chemical_name(c):\n",
    "    phrase = \" \".join(c[0].get_attrib_tokens())\n",
    "    return FALSE if phrase in chemicals and not phrase.isupper() else ABSTAIN\n",
    "\n",
    "def LF_bodysym(c):\n",
    "    phrase = \" \".join(c[0].get_attrib_tokens()).lower()\n",
    "    return FALSE if phrase in bodysym else ABSTAIN  \n",
    "\n",
    "def LF_protein_chemical_abbrv(c):\n",
    "    '''Gene/protein/chemical name'''\n",
    "    lemma = \" \".join(c[0].get_attrib_tokens('lemmas'))\n",
    "    return FALSE if re.search(\"\\d+\",lemma) else ABSTAIN\n",
    "\n",
    "def LF_has_punctuation(c):\n",
    "    return FALSE if re.search(\"[=%]+\",\" \".join(c[0].get_attrib_tokens())) else ABSTAIN\n",
    "\n",
    "def LF_gene_abbrv(c):\n",
    "    '''Gene/protein/chemical name'''\n",
    "    lemma = \" \".join(c[0].get_attrib_tokens('lemmas'))\n",
    "    return FALSE if re.search(\"\\d+\",lemma) and lemma.isupper() else ABSTAIN\n",
    "\n",
    "def LF_base_pair_seq(c): \n",
    "    lemma = \" \".join(c[0].get_attrib_tokens('lemmas'))\n",
    "    return FALSE if re.search(\"^[GACT]{2,}$\",lemma) else ABSTAIN\n",
    "\n",
    "def LF_too_vague(c):\n",
    "    phrase = \" \".join(c[0].get_attrib_tokens('lemmas')).lower()\n",
    "    phrase_ = \" \".join(c[0].get_attrib_tokens()).lower()\n",
    "    return FALSE if phrase in vague or phrase_ in vague else ABSTAIN\n",
    "\n",
    "def LF_negation(c):\n",
    "    neg = set([\"not\",\"no\"])\n",
    "    return FALSE if neg.intersection(c[0].get_attrib_tokens('lemmas')) else ABSTAIN\n",
    "\n",
    "def LF_neg_surfix(c):\n",
    "    terms = ['deficiency', 'the', 'the', 'of', 'to', 'a']\n",
    "    rw = get_right_tokens(c, window=1, attrib='lemmas')\n",
    "    if len(rw) > 0 and rw[0].lower() in terms:\n",
    "        return FALSE\n",
    "    return ABSTAIN\n",
    "\n",
    "def LF_non_common_disease(c):\n",
    "    '''Non common diseases'''\n",
    "    return FALSE if \" \".join(c[0].get_attrib_tokens()).lower() in non_common_disease else ABSTAIN\n",
    "\n",
    "def LF_non_disease_acronyms(c):\n",
    "    '''Non common disease acronyms'''\n",
    "    return FALSE if \" \".join(c[0].get_attrib_tokens()) in non_disease_acronyms else ABSTAIN\n",
    "\n",
    "def LF_pos_in(c):\n",
    "    '''Candidates beginning with a preposition or subordinating conjunction'''\n",
    "    poses = c[0].get_attrib_tokens('poses')\n",
    "    return FALSE if \"IN\" in poses[0:1] else ABSTAIN\n",
    "\n",
    "def LF_gene_chromosome_link(c):\n",
    "    '''Mentions of the form \"Huntington Disease gene\"'''\n",
    "    genetics_terms = set([\"gene\",\"chromosome\"])\n",
    "    diseases_terms = set([\"disease\",\"syndrome\",\"disorder\"])\n",
    "    context = get_left_tokens(c,window=10, attrib='lemmas') + get_right_tokens(c,window=10, attrib='lemmas')\n",
    "    # 1: contains a disease keyword or 2: in disease dictionaries\n",
    "    is_disease = diseases_terms.intersection(map(lambda x:x.lower(), c[0].get_attrib_tokens()))\n",
    "    is_disease = is_disease or \" \".join(c[0].get_attrib_tokens()) in diseases\n",
    "    is_gene = genetics_terms.intersection(context)    \n",
    "    return FALSE if is_gene and not is_disease else ABSTAIN\n",
    "\n",
    "def LF_right_window_incomplete(c):\n",
    "    return FALSE if right_terms.intersection(get_right_tokens(c,window=2, attrib='lemmas')) else ABSTAIN\n",
    "\n",
    "def LF_negative_indicator(c):\n",
    "    flag = False\n",
    "    for i in c[0].get_attrib_tokens():\n",
    "        if i.lower() in negative_indicator:\n",
    "            flag = True\n",
    "            break\n",
    "    return FALSE if flag else ABSTAIN"
   ]
  },
  {
   "cell_type": "markdown",
   "metadata": {},
   "source": [
    "We maintain a list of all LFs for convenience."
   ]
  },
  {
   "cell_type": "code",
   "execution_count": null,
   "metadata": {
    "collapsed": false
   },
   "outputs": [],
   "source": [
    "LFs_doc = [LF_known_abbreviation,\n",
    "           LF_undefined_abbreviation\n",
    "          ]\n",
    "\n",
    "LFs_sent = [LF_contiguous_mentions]\n",
    "\n",
    "LFs_mention = [LF_tumors_growths,\n",
    "               LF_cancer,\n",
    "               LF_disease_syndrome,\n",
    "               LF_indicators,\n",
    "               LF_common_disease,\n",
    "               LF_common_disease_acronyms,\n",
    "               LF_deficiency_of,\n",
    "               LF_come_with,\n",
    "               LF_positive_indicator,\n",
    "               LF_left_positive_argument,\n",
    "               LF_right_negative_argument,\n",
    "               LF_medical_afixes,\n",
    "               LF_adj_diseases\n",
    "              ]\n",
    "\n",
    "LFs_dicts =  [LF_SNOWMED_CT_sign_or_symptom,\n",
    "              LF_SNOWMED_CT_disease_or_syndrome,\n",
    "              LF_MESH_disease_or_syndrome,\n",
    "              LF_MESH_sign_or_symptom\n",
    "            ]\n",
    "\n",
    "LFs_false = [LF_chemical_name,\n",
    "             LF_organs,\n",
    "             LF_bodysym,\n",
    "             LF_protein_chemical_abbrv,\n",
    "             LF_has_punctuation,\n",
    "             LF_gene_abbrv,\n",
    "             LF_base_pair_seq,\n",
    "             LF_too_vague,\n",
    "             LF_negation,\n",
    "             LF_neg_surfix,\n",
    "             LF_non_common_disease,\n",
    "             LF_non_disease_acronyms,\n",
    "             LF_pos_in,\n",
    "             LF_gene_chromosome_link,\n",
    "             LF_right_window_incomplete,\n",
    "             LF_negative_indicator\n",
    "            ]\n",
    "\n",
    "LFs = LFs_doc + LFs_sent + LFs_mention + LFs_dicts + LFs_false"
   ]
  },
  {
   "cell_type": "markdown",
   "metadata": {},
   "source": [
    "## Applying Labeling Functions"
   ]
  },
  {
   "cell_type": "markdown",
   "metadata": {},
   "source": [
    "First we construct a `CandidateLabeler`."
   ]
  },
  {
   "cell_type": "code",
   "execution_count": null,
   "metadata": {
    "collapsed": false
   },
   "outputs": [],
   "source": [
    "from snorkel.annotations import LabelManager\n",
    "\n",
    "label_manager = LabelManager()"
   ]
  },
  {
   "cell_type": "markdown",
   "metadata": {},
   "source": [
    "Next we run the `CandidateLabeler` to to apply the labeling functions to the training `CandidateSet`."
   ]
  },
  {
   "cell_type": "code",
   "execution_count": null,
   "metadata": {
    "collapsed": false,
    "scrolled": true
   },
   "outputs": [],
   "source": [
    "%time L_train = label_manager.create(session, train, 'LF Labels', f=LFs)\n",
    "L_train"
   ]
  },
  {
   "cell_type": "markdown",
   "metadata": {},
   "source": [
    "**OR** load if we've already created:"
   ]
  },
  {
   "cell_type": "code",
   "execution_count": null,
   "metadata": {
    "collapsed": false
   },
   "outputs": [],
   "source": [
    "%time L_train = label_manager.load(session, train, 'LF Labels')\n",
    "L_train"
   ]
  },
  {
   "cell_type": "markdown",
   "metadata": {},
   "source": [
    "Now say we want to add a new labeling function to our matrix:"
   ]
  },
  {
   "cell_type": "code",
   "execution_count": null,
   "metadata": {
    "collapsed": true
   },
   "outputs": [],
   "source": [
    "import random\n",
    "def LF_test_3(candidate):\n",
    "    return -1 if random.random() < 0.2 else 0"
   ]
  },
  {
   "cell_type": "markdown",
   "metadata": {},
   "source": [
    "We can also add or rerun a single labeling function (or more!) with the below command. Note that we set the argument `expand_key_set` to `True` to indicate that the set of matrix columns should be allowed to expand. \n",
    "\n",
    "Do this to test changes to the labeling functions."
   ]
  },
  {
   "cell_type": "code",
   "execution_count": null,
   "metadata": {
    "collapsed": false
   },
   "outputs": [],
   "source": [
    "L_train = label_manager.update(session, train, 'LF Labels', True, f=[LF_test_3])\n",
    "L_train"
   ]
  },
  {
   "cell_type": "markdown",
   "metadata": {},
   "source": [
    "We can view statistics about the resulting label matrix:"
   ]
  },
  {
   "cell_type": "code",
   "execution_count": null,
   "metadata": {
    "collapsed": false
   },
   "outputs": [],
   "source": [
    "L_train.lf_stats()"
   ]
  },
  {
   "cell_type": "markdown",
   "metadata": {},
   "source": [
    "## Fitting the Generative Model\n",
    "We estimate the accuracies of the labeling functions without supervision. Specifically, we estimate the parameters of a `NaiveBayes` generative model."
   ]
  },
  {
   "cell_type": "code",
   "execution_count": null,
   "metadata": {
    "collapsed": false
   },
   "outputs": [],
   "source": [
    "from snorkel.learning import NaiveBayes\n",
    "\n",
    "gen_model = NaiveBayes()\n",
    "gen_model.train(L_train)"
   ]
  },
  {
   "cell_type": "code",
   "execution_count": null,
   "metadata": {
    "collapsed": false
   },
   "outputs": [],
   "source": [
    "gen_model.w"
   ]
  },
  {
   "cell_type": "code",
   "execution_count": null,
   "metadata": {
    "collapsed": false
   },
   "outputs": [],
   "source": [
    "gen_model.save(session, 'Generative Params')"
   ]
  },
  {
   "cell_type": "code",
   "execution_count": null,
   "metadata": {
    "collapsed": false
   },
   "outputs": [],
   "source": [
    "gen_model.load(session, 'Generative Params')\n",
    "gen_model.w"
   ]
  },
  {
   "cell_type": "markdown",
   "metadata": {},
   "source": [
    "We now apply the generative model to the training candidates."
   ]
  },
  {
   "cell_type": "code",
   "execution_count": null,
   "metadata": {
    "collapsed": false
   },
   "outputs": [],
   "source": [
    "train_marginals = gen_model.marginals(L_train)"
   ]
  },
  {
   "cell_type": "markdown",
   "metadata": {},
   "source": [
    "## Training the Discriminative Model\n",
    "We use the estimated probabilites to train a discriminative model that classifies each `Candidate` as a true or false mention."
   ]
  },
  {
   "cell_type": "code",
   "execution_count": null,
   "metadata": {
    "collapsed": false
   },
   "outputs": [],
   "source": [
    "from snorkel.learning import LogReg\n",
    "\n",
    "disc_model = LogReg()\n",
    "disc_model.train(F_train, train_marginals, n_iter=1500, rate=1e-5)"
   ]
  },
  {
   "cell_type": "code",
   "execution_count": null,
   "metadata": {
    "collapsed": false
   },
   "outputs": [],
   "source": [
    "disc_model.w.shape"
   ]
  },
  {
   "cell_type": "code",
   "execution_count": null,
   "metadata": {
    "collapsed": false
   },
   "outputs": [],
   "source": [
    "%time disc_model.save(session, \"Discriminative Params\")"
   ]
  },
  {
   "cell_type": "code",
   "execution_count": null,
   "metadata": {
    "collapsed": false
   },
   "outputs": [],
   "source": [
    "w_prev = disc_model.w\n",
    "%time disc_model.load(session, \"Discriminative Params\")\n",
    "np.all(disc_model.w == w_prev)"
   ]
  },
  {
   "cell_type": "markdown",
   "metadata": {},
   "source": [
    "## Evaluating on the Development `CandidateSet`"
   ]
  },
  {
   "cell_type": "markdown",
   "metadata": {},
   "source": [
    "First, we create features for the development set.\n",
    "\n",
    "Note that we use the training features feature set, because those are the only features for which we have learned parameters. Features that were not encountered during training, e.g., a token that does not appear in the training set, are ignored, because we do not have any information about them.\n",
    "\n",
    "To do so with the `FeatureManager`, we call update with the new `CandidateSet`, the name of the training `AnnotationKeySet`, and the value `False` for the parameter `extend_key_set` to indicate that the `AnnotationKeySet` should not be expanded with new `Feature` keys encountered during processing."
   ]
  },
  {
   "cell_type": "code",
   "execution_count": null,
   "metadata": {
    "collapsed": false
   },
   "outputs": [],
   "source": [
    "%time F_dev = feature_manager.update(session, dev, 'Train Features', False)"
   ]
  },
  {
   "cell_type": "markdown",
   "metadata": {},
   "source": [
    "**OR** if we've already created one, we can simply load as follows:"
   ]
  },
  {
   "cell_type": "code",
   "execution_count": null,
   "metadata": {
    "collapsed": false
   },
   "outputs": [],
   "source": [
    "%time F_dev = feature_manager.load(session, dev, 'Train Features')"
   ]
  },
  {
   "cell_type": "markdown",
   "metadata": {},
   "source": [
    "Next, we load the development set labels and gold candidates we made in Part III."
   ]
  },
  {
   "cell_type": "code",
   "execution_count": null,
   "metadata": {
    "collapsed": false,
    "scrolled": true
   },
   "outputs": [],
   "source": [
    "L_dev = label_manager.load(session, dev, \"CDR Development Labels -- Gold\")"
   ]
  },
  {
   "cell_type": "code",
   "execution_count": null,
   "metadata": {
    "collapsed": true
   },
   "outputs": [],
   "source": [
    "gold_dev_set = session.query(CandidateSet).filter(CandidateSet.name == 'CDR Development Candidates -- Gold').one()"
   ]
  },
  {
   "cell_type": "markdown",
   "metadata": {},
   "source": [
    "Now we can evaluate the discriminative model on the development set."
   ]
  },
  {
   "cell_type": "code",
   "execution_count": null,
   "metadata": {
    "collapsed": false
   },
   "outputs": [],
   "source": [
    "tp, fp, tn, fn = disc_model.score(F_dev, L_dev, gold_dev_set, b=0.4)"
   ]
  },
  {
   "cell_type": "markdown",
   "metadata": {},
   "source": [
    "## Viewing Examples\n",
    "After evaluating on the development `CandidateSet`, the labeling functions can be modified. Try changing the labeling functions to improve performance. You can view the true positives, false positives, true negatives, and false negatives using the `Viewer`."
   ]
  },
  {
   "cell_type": "code",
   "execution_count": null,
   "metadata": {
    "collapsed": false
   },
   "outputs": [],
   "source": [
    "from snorkel.viewer import SentenceNgramViewer\n",
    "\n",
    "# NOTE: This if-then statement is only to avoid opening the viewer during automated testing of this notebook\n",
    "# You should ignore this!\n",
    "if not AUTOMATED_TESTING:\n",
    "    sv = SentenceNgramViewer(tp, session, annotator_name=\"Tutorial Part IV User\")\n",
    "else:\n",
    "    sv = None"
   ]
  },
  {
   "cell_type": "code",
   "execution_count": null,
   "metadata": {
    "collapsed": false
   },
   "outputs": [],
   "source": [
    "sv"
   ]
  },
  {
   "cell_type": "code",
   "execution_count": null,
   "metadata": {
    "collapsed": false
   },
   "outputs": [],
   "source": [
    "sv.get_selected()[0].parent"
   ]
  },
  {
   "cell_type": "code",
   "execution_count": null,
   "metadata": {
    "collapsed": true
   },
   "outputs": [],
   "source": [
    "sv.g"
   ]
  },
  {
   "cell_type": "markdown",
   "metadata": {},
   "source": [
    "Next, in Part V, we will test our model on the test `CandidateSet`."
   ]
  }
 ],
 "metadata": {
  "kernelspec": {
   "display_name": "Python 2",
   "language": "python",
   "name": "python2"
  },
  "language_info": {
   "codemirror_mode": {
    "name": "ipython",
    "version": 2
   },
   "file_extension": ".py",
   "mimetype": "text/x-python",
   "name": "python",
   "nbconvert_exporter": "python",
   "pygments_lexer": "ipython2",
   "version": "2.7.12"
  }
 },
 "nbformat": 4,
 "nbformat_minor": 0
}
