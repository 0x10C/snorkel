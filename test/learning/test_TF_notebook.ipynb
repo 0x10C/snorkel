{
 "cells": [
  {
   "cell_type": "markdown",
   "metadata": {},
   "source": [
    "# Testing `TFNoiseAwareModel` in Jupyter Notebook\n",
    "\n",
    "We'll start by testing the `textRNN` model on a categorical problem from `tutorials/crowdsourcing`.  In particular we'll test for (a) basic performance and (b) proper construction / re-construction of the TF computation graph both after (i) repeated notebook calls, and (ii) with `GridSearch` in particular."
   ]
  },
  {
   "cell_type": "code",
   "execution_count": 1,
   "metadata": {
    "collapsed": false
   },
   "outputs": [],
   "source": [
    "%load_ext autoreload\n",
    "%autoreload 2\n",
    "%matplotlib inline\n",
    "\n",
    "import os\n",
    "os.environ['SNORKELDB'] = 'sqlite:///{0}{1}crowdsourcing.db'.format(os.getcwd(), os.sep)\n",
    "\n",
    "from snorkel import SnorkelSession\n",
    "session = SnorkelSession()"
   ]
  },
  {
   "cell_type": "markdown",
   "metadata": {},
   "source": [
    "### Load candidates and training marginals"
   ]
  },
  {
   "cell_type": "code",
   "execution_count": 2,
   "metadata": {
    "collapsed": false
   },
   "outputs": [
    {
     "data": {
      "text/plain": [
       "568"
      ]
     },
     "execution_count": 2,
     "metadata": {},
     "output_type": "execute_result"
    }
   ],
   "source": [
    "from snorkel.models import candidate_subclass\n",
    "from snorkel.contrib.models.text import RawText\n",
    "Tweet = candidate_subclass('Tweet', ['tweet'], cardinality=5)\n",
    "train_tweets = session.query(Tweet).filter(Tweet.split == 0).order_by(Tweet.id).all()\n",
    "len(train_tweets)"
   ]
  },
  {
   "cell_type": "code",
   "execution_count": 3,
   "metadata": {
    "collapsed": false
   },
   "outputs": [
    {
     "data": {
      "text/plain": [
       "(568, 5)"
      ]
     },
     "execution_count": 3,
     "metadata": {},
     "output_type": "execute_result"
    }
   ],
   "source": [
    "from snorkel.annotations import load_marginals\n",
    "train_marginals = load_marginals(session, train_tweets, split=0)\n",
    "train_marginals.shape"
   ]
  },
  {
   "cell_type": "markdown",
   "metadata": {},
   "source": [
    "### Train `LogisticRegression`"
   ]
  },
  {
   "cell_type": "code",
   "execution_count": 4,
   "metadata": {
    "collapsed": false
   },
   "outputs": [
    {
     "name": "stdout",
     "output_type": "stream",
     "text": [
      "Clearing existing...\n",
      "Running UDF...\n",
      "[========================================] 100%%\n",
      "\n",
      "CPU times: user 3.29 s, sys: 64.8 ms, total: 3.35 s\n",
      "Wall time: 3.33 s\n"
     ]
    },
    {
     "data": {
      "text/plain": [
       "<568x3526 sparse matrix of type '<type 'numpy.int64'>'\n",
       "\twith 8126 stored elements in Compressed Sparse Row format>"
      ]
     },
     "execution_count": 4,
     "metadata": {},
     "output_type": "execute_result"
    }
   ],
   "source": [
    "# Simple unigram featurizer\n",
    "def get_unigram_tweet_features(c):\n",
    "    for w in c.tweet.text.split():\n",
    "        yield w, 1\n",
    "\n",
    "# Construct feature matrix\n",
    "from snorkel.annotations import FeatureAnnotator\n",
    "featurizer = FeatureAnnotator(f=get_unigram_tweet_features)\n",
    "\n",
    "%time F_train = featurizer.apply(split=0)\n",
    "F_train"
   ]
  },
  {
   "cell_type": "code",
   "execution_count": 5,
   "metadata": {
    "collapsed": false
   },
   "outputs": [
    {
     "name": "stdout",
     "output_type": "stream",
     "text": [
      "Clearing existing...\n",
      "Running UDF...\n",
      "[========================================] 100%%\n",
      "\n",
      "CPU times: user 613 ms, sys: 28.2 ms, total: 641 ms\n",
      "Wall time: 631 ms\n"
     ]
    },
    {
     "data": {
      "text/plain": [
       "<64x3526 sparse matrix of type '<type 'numpy.int64'>'\n",
       "\twith 539 stored elements in Compressed Sparse Row format>"
      ]
     },
     "execution_count": 5,
     "metadata": {},
     "output_type": "execute_result"
    }
   ],
   "source": [
    "%time F_test = featurizer.apply_existing(split=1)\n",
    "F_test"
   ]
  },
  {
   "cell_type": "code",
   "execution_count": 6,
   "metadata": {
    "collapsed": false
   },
   "outputs": [
    {
     "name": "stdout",
     "output_type": "stream",
     "text": [
      "[LogisticRegression] Training model\n",
      "[LogisticRegression] n_train=568  #epochs=25  batch size=256\n",
      "[LogisticRegression] Epoch 0 (0.03s)\tAverage loss=311.697540\n",
      "[LogisticRegression] Epoch 5 (0.11s)\tAverage loss=104.337334\n",
      "[LogisticRegression] Epoch 10 (0.19s)\tAverage loss=48.822495\n",
      "[LogisticRegression] Epoch 15 (0.27s)\tAverage loss=29.923157\n",
      "[LogisticRegression] Epoch 20 (0.35s)\tAverage loss=21.392838\n",
      "[LogisticRegression] Epoch 24 (0.42s)\tAverage loss=17.463308\n",
      "[LogisticRegression] Training done (0.42s)\n"
     ]
    }
   ],
   "source": [
    "from snorkel.learning import LogisticRegression\n",
    "\n",
    "model = LogisticRegression(cardinality=Tweet.cardinality)\n",
    "model.train(F_train.todense(), train_marginals)"
   ]
  },
  {
   "cell_type": "markdown",
   "metadata": {},
   "source": [
    "### Train `SparseLogisticRegression`\n",
    "\n",
    "Note: Testing doesn't currently work with `LogisticRegression` above, but no real reason to use that over this..."
   ]
  },
  {
   "cell_type": "code",
   "execution_count": 7,
   "metadata": {
    "collapsed": false
   },
   "outputs": [
    {
     "name": "stdout",
     "output_type": "stream",
     "text": [
      "[SparseLogisticRegression] Training model\n",
      "[SparseLogisticRegression] n_train=568  #epochs=50  batch size=256\n",
      "[SparseLogisticRegression] Epoch 0 (0.02s)\tAverage loss=312.012482\n",
      "[SparseLogisticRegression] Epoch 10 (0.14s)\tAverage loss=48.253460\n",
      "[SparseLogisticRegression] Epoch 20 (0.26s)\tAverage loss=21.264622\n",
      "[SparseLogisticRegression] Epoch 30 (0.38s)\tAverage loss=13.666287\n",
      "[SparseLogisticRegression] Epoch 40 (0.49s)\tAverage loss=10.200731\n",
      "[SparseLogisticRegression] Epoch 49 (0.60s)\tAverage loss=8.400674\n",
      "[SparseLogisticRegression] Training done (0.60s)\n"
     ]
    }
   ],
   "source": [
    "from snorkel.learning import SparseLogisticRegression\n",
    "\n",
    "model = SparseLogisticRegression(cardinality=Tweet.cardinality)\n",
    "model.train(F_train, train_marginals, n_epochs=50, print_freq=10)"
   ]
  },
  {
   "cell_type": "code",
   "execution_count": 8,
   "metadata": {
    "collapsed": false
   },
   "outputs": [
    {
     "data": {
      "text/plain": [
       "0.734375"
      ]
     },
     "execution_count": 8,
     "metadata": {},
     "output_type": "execute_result"
    }
   ],
   "source": [
    "import numpy as np\n",
    "test_labels = np.load('crowdsourcing_test_labels.npy')\n",
    "acc = model.score(F_test, test_labels)\n",
    "assert acc > 0.6\n",
    "acc"
   ]
  },
  {
   "cell_type": "markdown",
   "metadata": {},
   "source": [
    "### Train basic LSTM\n",
    "\n",
    "With dev set scoring during execution (note we use test set here to be simple)"
   ]
  },
  {
   "cell_type": "code",
   "execution_count": 9,
   "metadata": {
    "collapsed": false
   },
   "outputs": [
    {
     "name": "stdout",
     "output_type": "stream",
     "text": [
      "[TextRNN] Training model\n",
      "[TextRNN] n_train=568  #epochs=100  batch size=256\n",
      "[TextRNN] Epoch 0 (0.24s)\tAverage loss=304.533478\tDev Acc.=31.25\n",
      "[TextRNN] Epoch 5 (1.11s)\tAverage loss=288.815521\tDev Acc.=40.62\n",
      "[TextRNN] Model saved as <TextRNN>\n",
      "[TextRNN] Epoch 10 (3.01s)\tAverage loss=246.427124\tDev Acc.=40.62\n",
      "[TextRNN] Epoch 15 (3.88s)\tAverage loss=162.491180\tDev Acc.=42.19\n",
      "[TextRNN] Model saved as <TextRNN>\n",
      "[TextRNN] Epoch 20 (5.88s)\tAverage loss=79.957619\tDev Acc.=50.00\n",
      "[TextRNN] Model saved as <TextRNN>\n",
      "[TextRNN] Epoch 25 (8.04s)\tAverage loss=35.223850\tDev Acc.=59.38\n",
      "[TextRNN] Model saved as <TextRNN>\n",
      "[TextRNN] Epoch 30 (10.40s)\tAverage loss=27.104734\tDev Acc.=60.94\n",
      "[TextRNN] Model saved as <TextRNN>\n",
      "[TextRNN] Epoch 35 (12.81s)\tAverage loss=16.695681\tDev Acc.=60.94\n",
      "[TextRNN] Epoch 40 (13.67s)\tAverage loss=12.820331\tDev Acc.=59.38\n",
      "[TextRNN] Epoch 45 (14.52s)\tAverage loss=10.488051\tDev Acc.=62.50\n",
      "[TextRNN] Model saved as <TextRNN>\n",
      "[TextRNN] Epoch 50 (16.65s)\tAverage loss=8.907477\tDev Acc.=60.94\n",
      "[TextRNN] Epoch 55 (17.53s)\tAverage loss=7.308626\tDev Acc.=67.19\n",
      "[TextRNN] Model saved as <TextRNN>\n",
      "[TextRNN] Epoch 60 (19.94s)\tAverage loss=6.521925\tDev Acc.=62.50\n",
      "[TextRNN] Epoch 65 (20.83s)\tAverage loss=5.997322\tDev Acc.=62.50\n",
      "[TextRNN] Epoch 70 (21.69s)\tAverage loss=5.600238\tDev Acc.=62.50\n",
      "[TextRNN] Epoch 75 (22.56s)\tAverage loss=5.284761\tDev Acc.=62.50\n",
      "[TextRNN] Epoch 80 (23.41s)\tAverage loss=5.032015\tDev Acc.=62.50\n",
      "[TextRNN] Epoch 85 (24.26s)\tAverage loss=4.827542\tDev Acc.=64.06\n",
      "[TextRNN] Epoch 90 (25.12s)\tAverage loss=4.658899\tDev Acc.=65.62\n",
      "[TextRNN] Epoch 95 (25.98s)\tAverage loss=4.514513\tDev Acc.=65.62\n",
      "[TextRNN] Epoch 99 (26.67s)\tAverage loss=4.409294\tDev Acc.=65.62\n",
      "[TextRNN] Training done (26.68s)\n",
      "[TextRNN] Loaded model <TextRNN>\n"
     ]
    }
   ],
   "source": [
    "from snorkel.learning import TextRNN\n",
    "test_tweets = session.query(Tweet).filter(Tweet.split == 1).order_by(Tweet.id).all()\n",
    "\n",
    "train_kwargs = {\n",
    "    'dim':        50,\n",
    "    'lr':         0.001,\n",
    "    'n_epochs':   100,\n",
    "    'dropout':    0.2,\n",
    "    'print_freq': 5\n",
    "}\n",
    "lstm = TextRNN(seed=1701, cardinality=Tweet.cardinality)\n",
    "lstm.train(train_tweets, train_marginals, X_dev=test_tweets, Y_dev=test_labels, dev_ckpt_delay=0.0, **train_kwargs)"
   ]
  },
  {
   "cell_type": "code",
   "execution_count": 10,
   "metadata": {
    "collapsed": false
   },
   "outputs": [
    {
     "data": {
      "text/plain": [
       "0.671875"
      ]
     },
     "execution_count": 10,
     "metadata": {},
     "output_type": "execute_result"
    }
   ],
   "source": [
    "acc = lstm.score(test_tweets, test_labels)\n",
    "assert acc > 0.60\n",
    "acc"
   ]
  },
  {
   "cell_type": "markdown",
   "metadata": {},
   "source": [
    "### Run `GridSearch`"
   ]
  },
  {
   "cell_type": "code",
   "execution_count": 11,
   "metadata": {
    "collapsed": false
   },
   "outputs": [
    {
     "name": "stdout",
     "output_type": "stream",
     "text": [
      "============================================================\n",
      "[1] Testing lr = 1.00e-04, dim = 5.00e+01\n",
      "============================================================\n",
      "[TextRNN] Training model\n",
      "[TextRNN] n_train=568  #epochs=50  batch size=256\n",
      "[TextRNN] Epoch 0 (0.25s)\tAverage loss=304.922089\n",
      "[TextRNN] Epoch 10 (2.01s)\tAverage loss=302.557037\n",
      "[TextRNN] Epoch 20 (3.71s)\tAverage loss=299.895447\n",
      "[TextRNN] Epoch 30 (5.44s)\tAverage loss=296.205902\n",
      "[TextRNN] Epoch 40 (7.16s)\tAverage loss=289.982208\n",
      "[TextRNN] Epoch 49 (8.69s)\tAverage loss=278.808136\n",
      "[TextRNN] Training done (8.69s)\n",
      "[TextRNN] Accuracy: 0.359375\n",
      "[TextRNN] Model saved as <TextRNN_0>\n",
      "============================================================\n",
      "[2] Testing lr = 1.00e-04, dim = 1.00e+02\n",
      "============================================================\n",
      "[TextRNN] Training model\n",
      "[TextRNN] n_train=568  #epochs=50  batch size=256\n",
      "[TextRNN] Epoch 0 (0.38s)\tAverage loss=304.893097\n",
      "[TextRNN] Epoch 10 (3.69s)\tAverage loss=298.973969\n",
      "[TextRNN] Epoch 20 (6.98s)\tAverage loss=291.799713\n",
      "[TextRNN] Epoch 30 (10.29s)\tAverage loss=279.220978\n",
      "[TextRNN] Epoch 40 (13.60s)\tAverage loss=246.922668\n",
      "[TextRNN] Epoch 49 (16.58s)\tAverage loss=195.988663\n",
      "[TextRNN] Training done (16.58s)\n",
      "[TextRNN] Accuracy: 0.421875\n",
      "[TextRNN] Model saved as <TextRNN_1>\n",
      "============================================================\n",
      "[3] Testing lr = 1.00e-03, dim = 5.00e+01\n",
      "============================================================\n",
      "[TextRNN] Training model\n",
      "[TextRNN] n_train=568  #epochs=50  batch size=256\n",
      "[TextRNN] Epoch 0 (0.23s)\tAverage loss=304.533478\n",
      "[TextRNN] Epoch 10 (2.01s)\tAverage loss=246.427124\n",
      "[TextRNN] Epoch 20 (3.72s)\tAverage loss=79.957619\n",
      "[TextRNN] Epoch 30 (5.44s)\tAverage loss=27.104734\n",
      "[TextRNN] Epoch 40 (7.15s)\tAverage loss=12.820331\n",
      "[TextRNN] Epoch 49 (8.67s)\tAverage loss=9.193769\n",
      "[TextRNN] Training done (8.67s)\n",
      "[TextRNN] Accuracy: 0.609375\n",
      "[TextRNN] Model saved as <TextRNN_2>\n",
      "============================================================\n",
      "[4] Testing lr = 1.00e-03, dim = 1.00e+02\n",
      "============================================================\n",
      "[TextRNN] Training model\n",
      "[TextRNN] n_train=568  #epochs=50  batch size=256\n",
      "[TextRNN] Epoch 0 (0.38s)\tAverage loss=303.901917\n",
      "[TextRNN] Epoch 10 (3.70s)\tAverage loss=135.753983\n",
      "[TextRNN] Epoch 20 (6.99s)\tAverage loss=22.984694\n",
      "[TextRNN] Epoch 30 (10.30s)\tAverage loss=10.665341\n",
      "[TextRNN] Epoch 40 (13.63s)\tAverage loss=7.695085\n",
      "[TextRNN] Epoch 49 (16.64s)\tAverage loss=6.343700\n",
      "[TextRNN] Training done (16.64s)\n",
      "[TextRNN] Accuracy: 0.703125\n",
      "[TextRNN] Model saved as <TextRNN_3>\n",
      "[TextRNN] Loaded model <TextRNN_3>\n"
     ]
    },
    {
     "data": {
      "text/html": [
       "<div>\n",
       "<table border=\"1\" class=\"dataframe\">\n",
       "  <thead>\n",
       "    <tr style=\"text-align: right;\">\n",
       "      <th></th>\n",
       "      <th>lr</th>\n",
       "      <th>dim</th>\n",
       "      <th>Acc.</th>\n",
       "    </tr>\n",
       "  </thead>\n",
       "  <tbody>\n",
       "    <tr>\n",
       "      <th>3</th>\n",
       "      <td>0.0010</td>\n",
       "      <td>100</td>\n",
       "      <td>0.703125</td>\n",
       "    </tr>\n",
       "    <tr>\n",
       "      <th>2</th>\n",
       "      <td>0.0010</td>\n",
       "      <td>50</td>\n",
       "      <td>0.609375</td>\n",
       "    </tr>\n",
       "    <tr>\n",
       "      <th>1</th>\n",
       "      <td>0.0001</td>\n",
       "      <td>100</td>\n",
       "      <td>0.421875</td>\n",
       "    </tr>\n",
       "    <tr>\n",
       "      <th>0</th>\n",
       "      <td>0.0001</td>\n",
       "      <td>50</td>\n",
       "      <td>0.359375</td>\n",
       "    </tr>\n",
       "  </tbody>\n",
       "</table>\n",
       "</div>"
      ],
      "text/plain": [
       "       lr  dim      Acc.\n",
       "3  0.0010  100  0.703125\n",
       "2  0.0010   50  0.609375\n",
       "1  0.0001  100  0.421875\n",
       "0  0.0001   50  0.359375"
      ]
     },
     "execution_count": 11,
     "metadata": {},
     "output_type": "execute_result"
    }
   ],
   "source": [
    "from snorkel.learning.utils import GridSearch, RangeParameter\n",
    "\n",
    "lstm = TextRNN(seed=1701, cardinality=Tweet.cardinality)\n",
    "\n",
    "# Searching over learning rate\n",
    "rate_param = RangeParameter('lr', 1e-4, 1e-3, step=1, log_base=10)\n",
    "dim_param = RangeParameter('dim', 50, 100, step=50)\n",
    "searcher = GridSearch(session, lstm, train_tweets, train_marginals, [rate_param, dim_param])\n",
    "\n",
    "# Use test set here (just for testing)\n",
    "train_kwargs = {\n",
    "    'dim':        100,\n",
    "    'n_epochs':   50,\n",
    "    'dropout':    0.2,\n",
    "    'print_freq': 10\n",
    "}\n",
    "searcher.fit(test_tweets, test_labels, **train_kwargs)"
   ]
  },
  {
   "cell_type": "code",
   "execution_count": 12,
   "metadata": {
    "collapsed": false
   },
   "outputs": [],
   "source": [
    "acc = lstm.score(test_tweets, test_labels)\n",
    "assert acc > 0.60"
   ]
  },
  {
   "cell_type": "markdown",
   "metadata": {},
   "source": [
    "### Reload saved model outside of `GridSearch`"
   ]
  },
  {
   "cell_type": "code",
   "execution_count": 13,
   "metadata": {
    "collapsed": false
   },
   "outputs": [
    {
     "name": "stdout",
     "output_type": "stream",
     "text": [
      "[TextRNN] Loaded model <TextRNN_3>\n",
      "0.703125\n"
     ]
    }
   ],
   "source": [
    "lstm = TextRNN(seed=1701, cardinality=Tweet.cardinality)\n",
    "lstm.load('TextRNN_3')\n",
    "acc = lstm.score(test_tweets, test_labels)\n",
    "print acc\n",
    "assert acc > 0.60"
   ]
  },
  {
   "cell_type": "markdown",
   "metadata": {},
   "source": [
    "### Reload a model with different structure"
   ]
  },
  {
   "cell_type": "code",
   "execution_count": 14,
   "metadata": {
    "collapsed": false
   },
   "outputs": [
    {
     "name": "stdout",
     "output_type": "stream",
     "text": [
      "[TextRNN] Loaded model <TextRNN_0>\n",
      "0.359375\n"
     ]
    }
   ],
   "source": [
    "lstm.load('TextRNN_0')\n",
    "acc = lstm.score(test_tweets, test_labels)\n",
    "print acc\n",
    "assert acc < 0.60"
   ]
  }
 ],
 "metadata": {
  "kernelspec": {
   "display_name": "Python 2",
   "language": "python",
   "name": "python2"
  },
  "language_info": {
   "codemirror_mode": {
    "name": "ipython",
    "version": 2
   },
   "file_extension": ".py",
   "mimetype": "text/x-python",
   "name": "python",
   "nbconvert_exporter": "python",
   "pygments_lexer": "ipython2",
   "version": "2.7.13"
  }
 },
 "nbformat": 4,
 "nbformat_minor": 2
}
