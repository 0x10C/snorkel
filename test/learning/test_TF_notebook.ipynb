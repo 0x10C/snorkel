{
 "cells": [
  {
   "cell_type": "markdown",
   "metadata": {},
   "source": [
    "# Testing `TFNoiseAwareModel` in Jupyter Notebook\n",
    "\n",
    "We'll start by testing the `textRNN` model on a categorical problem from `tutorials/crowdsourcing`.  In particular we'll test for (a) basic performance and (b) proper construction / re-construction of the TF computation graph both after (i) repeated notebook calls, and (ii) with `GridSearch` in particular."
   ]
  },
  {
   "cell_type": "code",
   "execution_count": 1,
   "metadata": {
    "collapsed": false
   },
   "outputs": [],
   "source": [
    "%load_ext autoreload\n",
    "%autoreload 2\n",
    "%matplotlib inline\n",
    "\n",
    "import os\n",
    "os.environ['SNORKELDB'] = 'sqlite:///{0}{1}crowdsourcing.db'.format(os.getcwd(), os.sep)\n",
    "\n",
    "from snorkel import SnorkelSession\n",
    "session = SnorkelSession()"
   ]
  },
  {
   "cell_type": "markdown",
   "metadata": {},
   "source": [
    "### Load candidates and training marginals"
   ]
  },
  {
   "cell_type": "code",
   "execution_count": 2,
   "metadata": {
    "collapsed": false
   },
   "outputs": [
    {
     "data": {
      "text/plain": [
       "568"
      ]
     },
     "execution_count": 2,
     "metadata": {},
     "output_type": "execute_result"
    }
   ],
   "source": [
    "from snorkel.models import candidate_subclass\n",
    "from snorkel.contrib.models.text import RawText\n",
    "Tweet = candidate_subclass('Tweet', ['tweet'], cardinality=5)\n",
    "train_tweets = session.query(Tweet).filter(Tweet.split == 0).order_by(Tweet.id).all()\n",
    "len(train_tweets)"
   ]
  },
  {
   "cell_type": "code",
   "execution_count": 3,
   "metadata": {
    "collapsed": false
   },
   "outputs": [
    {
     "data": {
      "text/plain": [
       "(568, 5)"
      ]
     },
     "execution_count": 3,
     "metadata": {},
     "output_type": "execute_result"
    }
   ],
   "source": [
    "from snorkel.annotations import load_marginals\n",
    "train_marginals = load_marginals(session, train_tweets, split=0)\n",
    "train_marginals.shape"
   ]
  },
  {
   "cell_type": "markdown",
   "metadata": {},
   "source": [
    "### Train `LogisticRegression`"
   ]
  },
  {
   "cell_type": "code",
   "execution_count": 4,
   "metadata": {
    "collapsed": false
   },
   "outputs": [
    {
     "name": "stdout",
     "output_type": "stream",
     "text": [
      "Clearing existing...\n",
      "Running UDF...\n",
      "[========================================] 100%%\n",
      "\n",
      "CPU times: user 4.06 s, sys: 83.7 ms, total: 4.14 s\n",
      "Wall time: 4.13 s\n"
     ]
    },
    {
     "data": {
      "text/plain": [
       "<568x3526 sparse matrix of type '<type 'numpy.int64'>'\n",
       "\twith 8126 stored elements in Compressed Sparse Row format>"
      ]
     },
     "execution_count": 4,
     "metadata": {},
     "output_type": "execute_result"
    }
   ],
   "source": [
    "# Simple unigram featurizer\n",
    "def get_unigram_tweet_features(c):\n",
    "    for w in c.tweet.text.split():\n",
    "        yield w, 1\n",
    "\n",
    "# Construct feature matrix\n",
    "from snorkel.annotations import FeatureAnnotator\n",
    "featurizer = FeatureAnnotator(f=get_unigram_tweet_features)\n",
    "\n",
    "%time F_train = featurizer.apply(split=0)\n",
    "F_train"
   ]
  },
  {
   "cell_type": "code",
   "execution_count": 5,
   "metadata": {
    "collapsed": false
   },
   "outputs": [
    {
     "name": "stdout",
     "output_type": "stream",
     "text": [
      "Clearing existing...\n",
      "Running UDF...\n",
      "[========================================] 100%%\n",
      "\n",
      "CPU times: user 723 ms, sys: 48.3 ms, total: 771 ms\n",
      "Wall time: 754 ms\n"
     ]
    },
    {
     "data": {
      "text/plain": [
       "<64x3526 sparse matrix of type '<type 'numpy.int64'>'\n",
       "\twith 539 stored elements in Compressed Sparse Row format>"
      ]
     },
     "execution_count": 5,
     "metadata": {},
     "output_type": "execute_result"
    }
   ],
   "source": [
    "%time F_test = featurizer.apply_existing(split=1)\n",
    "F_test"
   ]
  },
  {
   "cell_type": "code",
   "execution_count": 6,
   "metadata": {
    "collapsed": false
   },
   "outputs": [
    {
     "name": "stdout",
     "output_type": "stream",
     "text": [
      "[LogisticRegression] Training model\n",
      "[LogisticRegression] n_train=568  #epochs=25  batch size=256\n",
      "[LogisticRegression] Epoch 0 (0.03s)\tAverage loss=1.539132\n",
      "[LogisticRegression] Epoch 5 (0.11s)\tAverage loss=0.536786\n",
      "[LogisticRegression] Epoch 10 (0.19s)\tAverage loss=0.251106\n",
      "[LogisticRegression] Epoch 15 (0.29s)\tAverage loss=0.182942\n",
      "[LogisticRegression] Epoch 20 (0.37s)\tAverage loss=0.134229\n",
      "[LogisticRegression] Epoch 24 (0.44s)\tAverage loss=0.102803\n",
      "[LogisticRegression] Training done (0.44s)\n"
     ]
    }
   ],
   "source": [
    "from snorkel.learning import LogisticRegression\n",
    "\n",
    "model = LogisticRegression(cardinality=Tweet.cardinality)\n",
    "model.train(F_train.todense(), train_marginals)"
   ]
  },
  {
   "cell_type": "markdown",
   "metadata": {},
   "source": [
    "### Train `SparseLogisticRegression`\n",
    "\n",
    "Note: Testing doesn't currently work with `LogisticRegression` above, but no real reason to use that over this..."
   ]
  },
  {
   "cell_type": "code",
   "execution_count": 7,
   "metadata": {
    "collapsed": false
   },
   "outputs": [
    {
     "name": "stdout",
     "output_type": "stream",
     "text": [
      "[SparseLogisticRegression] Training model\n",
      "[SparseLogisticRegression] n_train=568  #epochs=50  batch size=256\n",
      "[SparseLogisticRegression] Epoch 0 (0.02s)\tAverage loss=1.622139\n",
      "[SparseLogisticRegression] Epoch 10 (0.14s)\tAverage loss=0.260563\n",
      "[SparseLogisticRegression] Epoch 20 (0.27s)\tAverage loss=0.112988\n",
      "[SparseLogisticRegression] Epoch 30 (0.39s)\tAverage loss=0.073128\n",
      "[SparseLogisticRegression] Epoch 40 (0.52s)\tAverage loss=0.064021\n",
      "[SparseLogisticRegression] Epoch 49 (0.63s)\tAverage loss=0.050803\n",
      "[SparseLogisticRegression] Training done (0.63s)\n"
     ]
    }
   ],
   "source": [
    "from snorkel.learning import SparseLogisticRegression\n",
    "\n",
    "model = SparseLogisticRegression(cardinality=Tweet.cardinality)\n",
    "model.train(F_train, train_marginals, n_epochs=50, print_freq=10)"
   ]
  },
  {
   "cell_type": "code",
   "execution_count": null,
   "metadata": {
    "collapsed": false
   },
   "outputs": [
    {
     "name": "stdout",
     "output_type": "stream",
     "text": [
      "0.703125\n"
     ]
    }
   ],
   "source": [
    "import numpy as np\n",
    "test_labels = np.load('crowdsourcing_test_labels.npy')\n",
    "acc = model.score(F_test, test_labels)\n",
    "print acc\n",
    "assert acc > 0.6"
   ]
  },
  {
   "cell_type": "markdown",
   "metadata": {},
   "source": [
    "### Train basic LSTM\n",
    "\n",
    "With dev set scoring during execution (note we use test set here to be simple)"
   ]
  },
  {
   "cell_type": "code",
   "execution_count": null,
   "metadata": {
    "collapsed": false
   },
   "outputs": [
    {
     "name": "stdout",
     "output_type": "stream",
     "text": [
      "[TextRNN] Training model\n",
      "[TextRNN] n_train=568  #epochs=100  batch size=256\n",
      "[TextRNN] Epoch 0 (0.44s)\tAverage loss=1.602129\tDev Acc.=40.62\n",
      "[TextRNN] Epoch 5 (2.19s)\tAverage loss=1.342293\tDev Acc.=34.38\n",
      "[TextRNN] Epoch 10 (3.91s)\tAverage loss=0.730269\tDev Acc.=53.12\n",
      "[TextRNN] Epoch 15 (5.63s)\tAverage loss=0.312139\tDev Acc.=68.75\n",
      "[TextRNN] Epoch 20 (7.35s)\tAverage loss=0.139608\tDev Acc.=62.50\n",
      "[TextRNN] Epoch 25 (9.09s)\tAverage loss=0.086493\tDev Acc.=65.62\n",
      "[TextRNN] Epoch 30 (10.81s)\tAverage loss=0.080443\tDev Acc.=70.31\n",
      "[TextRNN] Epoch 35 (12.56s)\tAverage loss=0.045322\tDev Acc.=67.19\n",
      "[TextRNN] Epoch 40 (14.26s)\tAverage loss=0.050468\tDev Acc.=68.75\n",
      "[TextRNN] Epoch 45 (15.98s)\tAverage loss=0.045916\tDev Acc.=70.31\n",
      "[TextRNN] Epoch 50 (17.73s)\tAverage loss=0.031020\tDev Acc.=68.75\n",
      "[TextRNN] Epoch 55 (19.45s)\tAverage loss=0.026304\tDev Acc.=67.19\n",
      "[TextRNN] Epoch 60 (21.18s)\tAverage loss=0.030072\tDev Acc.=67.19\n",
      "[TextRNN] Epoch 65 (22.91s)\tAverage loss=0.021733\tDev Acc.=65.62\n",
      "[TextRNN] Epoch 70 (24.65s)\tAverage loss=0.024205\tDev Acc.=65.62\n",
      "[TextRNN] Epoch 75 (26.39s)\tAverage loss=0.019788\tDev Acc.=65.62\n",
      "[TextRNN] Epoch 80 (28.12s)\tAverage loss=0.023895\tDev Acc.=65.62\n"
     ]
    }
   ],
   "source": [
    "from snorkel.learning import TextRNN\n",
    "test_tweets = session.query(Tweet).filter(Tweet.split == 1).order_by(Tweet.id).all()\n",
    "\n",
    "train_kwargs = {\n",
    "    'dim':        100,\n",
    "    'lr':         0.001,\n",
    "    'n_epochs':   100,\n",
    "    'dropout':    0.2,\n",
    "    'print_freq': 5\n",
    "}\n",
    "lstm = TextRNN(seed=1701, cardinality=Tweet.cardinality)\n",
    "lstm.train(train_tweets, train_marginals, X_dev=test_tweets, Y_dev=test_labels, **train_kwargs)"
   ]
  },
  {
   "cell_type": "code",
   "execution_count": null,
   "metadata": {
    "collapsed": false
   },
   "outputs": [],
   "source": [
    "acc = lstm.score(test_tweets, test_labels)\n",
    "print acc\n",
    "assert acc > 0.60"
   ]
  },
  {
   "cell_type": "markdown",
   "metadata": {},
   "source": [
    "### Run `GridSearch`"
   ]
  },
  {
   "cell_type": "code",
   "execution_count": null,
   "metadata": {
    "collapsed": false
   },
   "outputs": [],
   "source": [
    "from snorkel.learning.utils import GridSearch, RangeParameter\n",
    "\n",
    "lstm = TextRNN(seed=1701, cardinality=Tweet.cardinality)\n",
    "\n",
    "# Searching over learning rate\n",
    "rate_param = RangeParameter('lr', 1e-4, 1e-3, step=1, log_base=10)\n",
    "dim_param = RangeParameter('dim', 50, 100, step=50)\n",
    "searcher = GridSearch(session, lstm, train_tweets, train_marginals, [rate_param, dim_param])\n",
    "\n",
    "# Use test set here (just for testing)\n",
    "train_kwargs = {\n",
    "    'dim':        100,\n",
    "    'n_epochs':   50,\n",
    "    'dropout':    0.2,\n",
    "    'print_freq': 10\n",
    "}\n",
    "searcher.fit(test_tweets, test_labels, **train_kwargs)"
   ]
  },
  {
   "cell_type": "code",
   "execution_count": null,
   "metadata": {
    "collapsed": false
   },
   "outputs": [],
   "source": [
    "acc = lstm.score(test_tweets, test_labels)\n",
    "print acc\n",
    "assert acc > 0.60"
   ]
  },
  {
   "cell_type": "markdown",
   "metadata": {},
   "source": [
    "### Reload saved model outside of `GridSearch`"
   ]
  },
  {
   "cell_type": "code",
   "execution_count": null,
   "metadata": {
    "collapsed": false
   },
   "outputs": [],
   "source": [
    "lstm = TextRNN(seed=1701, cardinality=Tweet.cardinality)\n",
    "lstm.load('TextRNN_3')\n",
    "acc = lstm.score(test_tweets, test_labels)\n",
    "print acc\n",
    "assert acc > 0.60"
   ]
  },
  {
   "cell_type": "markdown",
   "metadata": {},
   "source": [
    "### Reload a model with different structure"
   ]
  },
  {
   "cell_type": "code",
   "execution_count": null,
   "metadata": {
    "collapsed": false
   },
   "outputs": [],
   "source": [
    "lstm.load('TextRNN_0')\n",
    "acc = lstm.score(test_tweets, test_labels)\n",
    "print acc\n",
    "assert acc < 0.60"
   ]
  }
 ],
 "metadata": {
  "kernelspec": {
   "display_name": "Python 2",
   "language": "python",
   "name": "python2"
  },
  "language_info": {
   "codemirror_mode": {
    "name": "ipython",
    "version": 2
   },
   "file_extension": ".py",
   "mimetype": "text/x-python",
   "name": "python",
   "nbconvert_exporter": "python",
   "pygments_lexer": "ipython2",
   "version": "2.7.13"
  }
 },
 "nbformat": 4,
 "nbformat_minor": 2
}
