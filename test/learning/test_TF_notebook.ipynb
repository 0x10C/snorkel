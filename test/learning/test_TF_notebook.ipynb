{
 "cells": [
  {
   "cell_type": "markdown",
   "metadata": {},
   "source": [
    "# Testing `TFNoiseAwareModel` in Jupyter Notebook\n",
    "\n",
    "We'll start by testing the `textRNN` model on a categorical problem from `tutorials/crowdsourcing`.  In particular we'll test for (a) basic performance and (b) proper construction / re-construction of the TF computation graph both after (i) repeated notebook calls, and (ii) with `GridSearch` in particular."
   ]
  },
  {
   "cell_type": "code",
   "execution_count": null,
   "metadata": {
    "collapsed": false
   },
   "outputs": [],
   "source": [
    "%load_ext autoreload\n",
    "%autoreload 2\n",
    "%matplotlib inline\n",
    "\n",
    "import os\n",
    "os.environ['SNORKELDB'] = 'sqlite:///{0}{1}crowdsourcing.db'.format(os.getcwd(), os.sep)\n",
    "\n",
    "from snorkel import SnorkelSession\n",
    "session = SnorkelSession()"
   ]
  },
  {
   "cell_type": "markdown",
   "metadata": {},
   "source": [
    "### Load candidates and training marginals"
   ]
  },
  {
   "cell_type": "code",
   "execution_count": null,
   "metadata": {
    "collapsed": false
   },
   "outputs": [],
   "source": [
    "from snorkel.models import candidate_subclass\n",
    "from snorkel.contrib.models.text import RawText\n",
    "Tweet = candidate_subclass('Tweet', ['tweet'], cardinality=5)\n",
    "train_tweets = session.query(Tweet).filter(Tweet.split == 0).order_by(Tweet.id).all()\n",
    "len(train_tweets)"
   ]
  },
  {
   "cell_type": "code",
   "execution_count": null,
   "metadata": {
    "collapsed": false
   },
   "outputs": [],
   "source": [
    "from snorkel.annotations import load_marginals\n",
    "train_marginals = load_marginals(session, train_tweets, split=0)\n",
    "train_marginals.shape"
   ]
  },
  {
   "cell_type": "markdown",
   "metadata": {},
   "source": [
    "### Train basic LSTM"
   ]
  },
  {
   "cell_type": "code",
   "execution_count": null,
   "metadata": {
    "collapsed": false
   },
   "outputs": [],
   "source": [
    "from snorkel.contrib.rnn import TextRNN\n",
    "\n",
    "train_kwargs = {\n",
    "    'dim':        100,\n",
    "    'lr':         0.01,\n",
    "    'n_epochs':   50,\n",
    "    'dropout':    0.2,\n",
    "    'print_freq': 10\n",
    "}\n",
    "lstm = TextRNN(seed=1701, cardinality=Tweet.cardinality)\n",
    "lstm.train(train_tweets, train_marginals, **train_kwargs)"
   ]
  },
  {
   "cell_type": "code",
   "execution_count": null,
   "metadata": {
    "collapsed": false
   },
   "outputs": [],
   "source": [
    "import numpy as np\n",
    "test_tweets = session.query(Tweet).filter(Tweet.split == 1).order_by(Tweet.id).all()\n",
    "test_labels = np.load('crowdsourcing_test_labels.npy')\n",
    "correct, incorrect = lstm.score(session, test_tweets, test_labels)\n",
    "acc = len(correct) / float(len(correct) + len(incorrect))\n",
    "assert acc > 0.60"
   ]
  },
  {
   "cell_type": "markdown",
   "metadata": {},
   "source": [
    "### Run `GridSearch`"
   ]
  },
  {
   "cell_type": "code",
   "execution_count": null,
   "metadata": {
    "collapsed": false
   },
   "outputs": [],
   "source": [
    "from snorkel.learning.utils import GridSearch\n",
    "from snorkel.learning import RangeParameter\n",
    "\n",
    "lstm = TextRNN(seed=1701, cardinality=Tweet.cardinality)\n",
    "\n",
    "# Searching over learning rate\n",
    "rate_param = RangeParameter('lr', 1e-4, 1e-2, step=1, log_base=10)\n",
    "dim_param = RangeParameter('dim', 50, 100, step=25)\n",
    "searcher = GridSearch(session, lstm, train_tweets, train_marginals, [rate_param, dim_param])\n",
    "\n",
    "# Use test set here (just for testing)\n",
    "train_kwargs = {\n",
    "    'dim':        100,\n",
    "    'n_epochs':   50,\n",
    "    'dropout':    0.2,\n",
    "    'print_freq': 10\n",
    "}\n",
    "searcher.fit(test_tweets, test_labels, **train_kwargs)"
   ]
  },
  {
   "cell_type": "code",
   "execution_count": null,
   "metadata": {
    "collapsed": false
   },
   "outputs": [],
   "source": [
    "correct, incorrect = lstm.score(session, test_tweets, test_labels)\n",
    "acc = len(correct) / float(len(correct) + len(incorrect))\n",
    "assert acc > 0.60"
   ]
  }
 ],
 "metadata": {
  "kernelspec": {
   "display_name": "Python 2",
   "language": "python",
   "name": "python2"
  },
  "language_info": {
   "codemirror_mode": {
    "name": "ipython",
    "version": 2
   },
   "file_extension": ".py",
   "mimetype": "text/x-python",
   "name": "python",
   "nbconvert_exporter": "python",
   "pygments_lexer": "ipython2",
   "version": "2.7.13"
  }
 },
 "nbformat": 4,
 "nbformat_minor": 2
}
