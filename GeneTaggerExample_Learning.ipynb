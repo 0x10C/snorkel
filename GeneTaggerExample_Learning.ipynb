{
 "cells": [
  {
   "cell_type": "markdown",
   "metadata": {},
   "source": [
    "# Tagging genes with ddlite: learning and labeling function iteration\n",
    "\n",
    "## Introduction\n",
    "In this example **ddlite** app, we'll build a gene tagger from scratch. Here's why we developed ddlite:\n",
    "\n",
    "* To provide a lighter-weight interface to structured information extraction for new DeepDive users\n",
    "* **To help advanced DeepDive users rapidly develop and prototype applications and labeling functions (LFs)**\n",
    "* To investigate DeepDive's data programming approach to building inference systems\n",
    "\n",
    "This example is centered around the second item. Domain-specific tagging systems take months or years to develop. They use hand-crafted model circuitry and accurate, hand-labeled training data. We're going to try to build a pretty good one in a few minutes with none of those things. The generalized extraction and learning utilities provided by ddlite will allow us to turn a sampling of article abstracts and some basic domain knowledge into an automated tagging system. Specifically, we want an accurate tagger for genes in academic articles. We have comprehensive dictionaries of genes, but applying a simple matching rule might yield a lot of false positives. For example, \"p53\" might get tagged as a gene even though it refers to a page number. Our goal is to use data programming to improve precision.\n",
    "\n",
    "Here's the pipeline we'll follow:\n",
    "\n",
    "1. Obtain and parse input data (relevant article abstracts from PubMed)\n",
    "2. Extract candidates for tagging\n",
    "3. Generate features\n",
    "4. Create a test set\n",
    "5. Write labeling functions\n",
    "6. Learn the tagging model\n",
    "7. Iterate on labeling functions\n",
    "\n",
    "Parts 3 through 7 are covered in this notebook. It requires candidates extracted from `GeneTaggerExample_Extraction.ipynb`, which covers parts 1 and 2."
   ]
  },
  {
   "cell_type": "code",
   "execution_count": 1,
   "metadata": {
    "collapsed": false
   },
   "outputs": [],
   "source": [
    "%load_ext autoreload\n",
    "%autoreload 2\n",
    "\n",
    "import cPickle\n",
    "from ddlite import *\n",
    "\n",
    "%matplotlib inline\n",
    "matplotlib.rcParams['figure.figsize'] = (18,6)"
   ]
  },
  {
   "cell_type": "markdown",
   "metadata": {},
   "source": [
    "## Loading candidate extractions\n",
    "First, we'll load in the pickled candidates that we created in the last notebook. We can construct an `Entities` object with the file."
   ]
  },
  {
   "cell_type": "code",
   "execution_count": 2,
   "metadata": {
    "collapsed": false
   },
   "outputs": [],
   "source": [
    "E = Entities('gene_tag_example/gene_tag_saved_entities_v2.pkl')"
   ]
  },
  {
   "cell_type": "markdown",
   "metadata": {},
   "source": [
    "## `CandidateModel` objects and feature generation\n",
    "We'll then create a `CandidateModel` object for our extracted gene candidates. This lets us iterate with our model and labeling functions. Since `Entities` object defines a feature generation method, features are automatically created when we initialize a `CandidateModel` object. These are generic features from the NLP markup and dependency tree in the neighborhood of the mention. Alternatively, you can define a custom feature set as a NumPy array or a Scipy sparse matrix."
   ]
  },
  {
   "cell_type": "code",
   "execution_count": 3,
   "metadata": {
    "collapsed": false
   },
   "outputs": [
    {
     "name": "stdout",
     "output_type": "stream",
     "text": [
      "Extracted 34098 features for each of 1518 mentions\n"
     ]
    }
   ],
   "source": [
    "CM = CandidateModel(E)\n",
    "print \"Extracted {} features for each of {} mentions\".format(CM.num_feats(), CM.num_candidates())"
   ]
  },
  {
   "cell_type": "markdown",
   "metadata": {},
   "source": [
    "## Building a ground truth set with MindTagger\n",
    "In order to evaluate our labeling functions and learning results, we'll create a small set of ground truth labels for some candidates using [Mindtagger](http://deepdive.stanford.edu/labeling). This will highlight each candidate in the sentence in which it appears. We set the response to yes if it is a mention of gene, and no otherwise. If you aren't sure, you can abstain from labeling. In a real application, we would likely want to tag more than 20 candidates."
   ]
  },
  {
   "cell_type": "code",
   "execution_count": 4,
   "metadata": {
    "collapsed": false,
    "scrolled": false
   },
   "outputs": [
    {
     "name": "stdout",
     "output_type": "stream",
     "text": [
      "Making sure MindTagger is installed. Hang on!\n"
     ]
    },
    {
     "data": {
      "text/html": [
       "\n",
       "        <iframe\n",
       "            width=\"100%\"\n",
       "            height=\"1200\"\n",
       "            src=\"http://icme-Standard-PC-i440FX-PIIX-1996:8838/#/mindtagger/777920e4c5f9f6e7\"\n",
       "            frameborder=\"0\"\n",
       "            allowfullscreen\n",
       "        ></iframe>\n",
       "        "
      ],
      "text/plain": [
       "<IPython.lib.display.IFrame at 0x7f962c0e4890>"
      ]
     },
     "execution_count": 4,
     "metadata": {},
     "output_type": "execute_result"
    }
   ],
   "source": [
    "CM.open_mindtagger(num_sample=20, width='100%', height=1200)"
   ]
  },
  {
   "cell_type": "markdown",
   "metadata": {},
   "source": [
    "Now, we'll retrieve the tags and add them to our `CandidateModel`. We can also use a previously defined gold standard label set, with one entry per candidate. We'll then set our holdout set for training to be all of the examples for which we have a ground truth label."
   ]
  },
  {
   "cell_type": "code",
   "execution_count": 5,
   "metadata": {
    "collapsed": false
   },
   "outputs": [],
   "source": [
    "CM.add_mindtagger_tags()\n",
    "gold = np.zeros((CM.num_candidates()))\n",
    "gold[np.array([48,49,50,51,52,53,54,55,56,58,59,60,61,62,63,64,65,66,68,69,70,\n",
    "     71,72,73,74,75,76,78,79,80,81,82,83,84,85,86,88,89,90,91])] = np.array([\n",
    "     -1,-1,-1,-1,-1,-1,-1,-1,-1,-1,-1,-1,1,1,1,1,1,1,1,1,1,-1,1,-1,-1,1,\n",
    "     -1,-1,-1,-1,-1,-1,-1,-1,-1,-1,-1,1,1,1])\n",
    "CM.set_gold_labels(gold)\n",
    "CM.set_holdout()"
   ]
  },
  {
   "cell_type": "markdown",
   "metadata": {},
   "source": [
    "## Writing labeling functions\n",
    "We'll use data programming to learn a logistic regression model which will predict the probability of a candidate entity being a true gene mention. Since our training data is not manually labeled, we'll generate many (potentially noisy) labels as a surrogate for precise, manual labels. Feature extraction and model learning are very simple in ddlite. Writing labeling functions is where the real artistry comes in. One of ddlite's goals is to enable rapid prototyping, debugging, and experimenting with labeling functions. These can be used either to create a simple standalone app, or to plug into DeepDive. Labeling functions, or LFs, are functions that take an `Candidate` object. They must return 1 (for a positive label), 0 (for abstaining), or -1 (for a negative example). For now, we'll write a few simple LFs to get started:\n",
    "\n",
    "* The first, second, and third LFs return a positive label if the lemma \"gene\", \"mutant\", or \"express\" appear in a window around the mention, respectively\n",
    "* The third LF returns a positive label if the dependency parent of any of the words in the mention is \"mutation\", and abstains otherwise\n",
    "* The fourth, fifth, and sixth LF return a negative label if the mention candidate contains \"DNA\", \"RNA\", or \"SNP\" respectively (these are common uppercase nouns which are not genes) "
   ]
  },
  {
   "cell_type": "code",
   "execution_count": 6,
   "metadata": {
    "collapsed": true
   },
   "outputs": [],
   "source": [
    "def post_window(m, key, n=3):\n",
    "    s = list(m.idxs)\n",
    "    b = len(m.lemmas) - np.max(s)\n",
    "    s.extend([np.max(s) + i for i in range(1, min(b,n+1))])\n",
    "    return key in [m.lemmas[i] for i in s]\n",
    "def pre_window(m, key, n=3):\n",
    "    s = list(m.idxs)\n",
    "    b = np.min(s)\n",
    "    s.extend([b - i for i in range(1, min(b,n+1))])\n",
    "    return key in [m.lemmas[i] for i in s]\n",
    "def stopper(m, stop):\n",
    "    return stop in [m.lemmas[i] for i in m.idxs]\n",
    "\n",
    "def LF_gene(m):\n",
    "    return 1 if (post_window(m, 'gene') or pre_window(m, 'gene')) else 0\n",
    "def LF_mutant(m):\n",
    "    return 1 if (post_window(m, 'mutant') or pre_window(m, 'mutant')) else 0\n",
    "def LF_express(m):\n",
    "    return 1 if (post_window(m, 'express') or pre_window(m, 'express')) else 0\n",
    "def LF_mutation(m):\n",
    "    return 1 if 'mutation' in [m.lemmas[m.dep_parents[i] - 1] for i in m.idxs] else 0\n",
    "def LF_dna(m):\n",
    "    return -1 if stopper(m, 'dna') else 0\n",
    "def LF_rna(m):\n",
    "    return -1 if stopper(m, 'rna') else 0\n",
    "def LF_snp(m):\n",
    "    return -1 if stopper(m, 'snp') else 0"
   ]
  },
  {
   "cell_type": "markdown",
   "metadata": {},
   "source": [
    "Our intuition is that the few simple LFs given above won't yield a good model. We'll see this more concretely when we evaluate the labeling functions. For now, let's leave them as is. After writing the LFs, we simply collect them and apply them to mentions. If we define more LFs later, we can apply them incrementally or overwrite all the LFs so far."
   ]
  },
  {
   "cell_type": "code",
   "execution_count": 7,
   "metadata": {
    "collapsed": false
   },
   "outputs": [],
   "source": [
    "LFs = [LF_gene, LF_mutant, LF_express, LF_mutation, LF_dna, LF_rna, LF_snp]\n",
    "CM.apply_LFs(LFs, clear=True)"
   ]
  },
  {
   "cell_type": "markdown",
   "metadata": {},
   "source": [
    "We'll use ddlite's LF assessment utilities to debug and analyze our LFs before running inference. First, we'll generate summary plots which show the following:\n",
    "\n",
    "* Do the LFs cover the data well or do we have many candidates for which all of the LFs abstained?\n",
    "* Is the overlap between the LFs? Do many return positive or negative labels for the same candidate?\n",
    "* Do the LFs conflict with each other? Do candidates tend to have many of one type of label, or a mix?"
   ]
  },
  {
   "cell_type": "code",
   "execution_count": 8,
   "metadata": {
    "collapsed": false,
    "scrolled": true
   },
   "outputs": [
    {
     "data": {
      "image/png": "[encoded data removed]",
      "text/plain": [
       "<matplotlib.figure.Figure at 0x7f960f8c1390>"
      ]
     },
     "metadata": {},
     "output_type": "display_data"
    }
   ],
   "source": [
    "CM.plot_LF_stats()"
   ]
  },
  {
   "cell_type": "markdown",
   "metadata": {},
   "source": [
    "As we may expect, the few LFs do not cover the data well. Most candidates have no positive or negative labels, as seen in all plots. We also have almost no conflict between LFs. We can switch to an LF view of these measures and show tables for the LFs with the most conflict, lowest coverage, and lowest empirical accuracy as compared to the MindTagger labels."
   ]
  },
  {
   "cell_type": "code",
   "execution_count": 9,
   "metadata": {
    "collapsed": false
   },
   "outputs": [
    {
     "data": {
      "text/html": [
       "<table><tr><td><b>Labeling function</b></td><td><b>Fraction of candidates where LF has conflict</b></td></tr><tr><td>LF_gene</td><td>0.001</td></tr><tr><td>LF_dna</td><td>0.001</td></tr><tr><td>LF_snp</td><td>0.000</td></tr></table>"
      ],
      "text/plain": [
       "OrderedDict([('LF_gene', 0.0013175230566534915),\n",
       "             ('LF_dna', 0.0013175230566534915),\n",
       "             ('LF_snp', 0.0),\n",
       "             ('LF_rna', 0.0),\n",
       "             ('LF_express', 0.0),\n",
       "             ('LF_mutation', 0.0),\n",
       "             ('LF_mutant', 0.0)])"
      ]
     },
     "execution_count": 9,
     "metadata": {},
     "output_type": "execute_result"
    }
   ],
   "source": [
    "CM.top_conflict_LFs(n=3)"
   ]
  },
  {
   "cell_type": "code",
   "execution_count": 10,
   "metadata": {
    "collapsed": false
   },
   "outputs": [
    {
     "data": {
      "text/html": [
       "<table><tr><td><b>Labeling function</b></td><td><b>Fraction of abstained votes</b></td></tr><tr><td>LF_express</td><td>0.993</td></tr><tr><td>LF_rna</td><td>0.989</td></tr><tr><td>LF_mutant</td><td>0.984</td></tr></table>"
      ],
      "text/plain": [
       "OrderedDict([('LF_express', 0.9927536231884058),\n",
       "             ('LF_rna', 0.9888010540184453),\n",
       "             ('LF_mutant', 0.9841897233201581),\n",
       "             ('LF_snp', 0.9828722002635046),\n",
       "             ('LF_dna', 0.974308300395257),\n",
       "             ('LF_mutation', 0.9565217391304348),\n",
       "             ('LF_gene', 0.9242424242424242)])"
      ]
     },
     "execution_count": 10,
     "metadata": {},
     "output_type": "execute_result"
    }
   ],
   "source": [
    "CM.lowest_coverage_LFs(n=3)"
   ]
  },
  {
   "cell_type": "code",
   "execution_count": 11,
   "metadata": {
    "collapsed": false,
    "scrolled": true
   },
   "outputs": [
    {
     "data": {
      "text/html": [
       "<table><tr><td><b>Labeling function</b></td><td><b>Empirical LF accuracy</b></td></tr><tr><td>LF_snp</td><td>0.000 (n=0)</td></tr><tr><td>LF_rna</td><td>0.000 (n=0)</td></tr><tr><td>LF_express</td><td>0.000 (n=0)</td></tr><tr><td>LF_dna</td><td>0.000 (n=0)</td></tr><tr><td>LF_mutation</td><td>0.000 (n=0)</td></tr><tr><td>LF_mutant</td><td>0.000 (n=0)</td></tr><tr><td>LF_gene</td><td>1.000 (n=2)</td></tr></table>"
      ],
      "text/plain": [
       "OrderedDict([('LF_snp', '0.000 (n=0)'),\n",
       "             ('LF_rna', '0.000 (n=0)'),\n",
       "             ('LF_express', '0.000 (n=0)'),\n",
       "             ('LF_dna', '0.000 (n=0)'),\n",
       "             ('LF_mutation', '0.000 (n=0)'),\n",
       "             ('LF_mutant', '0.000 (n=0)'),\n",
       "             ('LF_gene', '1.000 (n=2)')])"
      ]
     },
     "execution_count": 11,
     "metadata": {},
     "output_type": "execute_result"
    }
   ],
   "source": [
    "CM.lowest_empirical_accuracy_LFs(n=10)"
   ]
  },
  {
   "cell_type": "markdown",
   "metadata": {},
   "source": [
    "For a small test set and low coverage LFs, we may see that we can't assess accuracy since the MindTagger labels and LF positive and negative labels don't overlap. If we observe LFs with very low accuracy and a sufficiently large sample size, this could be an indication that the LF is buggy."
   ]
  },
  {
   "cell_type": "markdown",
   "metadata": {},
   "source": [
    "## Learning\n",
    "To learn weights for the features and LFs, we use a simple, regularized logistic regression model. Again, the results won't be meaningful without more LFs. We'll tell ddlite to log the results and print out a summary table"
   ]
  },
  {
   "cell_type": "code",
   "execution_count": 12,
   "metadata": {
    "collapsed": false,
    "scrolled": false
   },
   "outputs": [
    {
     "name": "stdout",
     "output_type": "stream",
     "text": [
      "Learning epoch =  0\t100\t200\t300\t400\t\n",
      "Learning epoch =  500\t600\t700\t800\t900\t\n",
      "CPU times: user 4.28 s, sys: 12 ms, total: 4.3 s\n",
      "Wall time: 4.42 s\n"
     ]
    },
    {
     "name": "stderr",
     "output_type": "stream",
     "text": [
      "ddlite.py:969: UserWarning: SGD did not converge for mu=0.001. Try increasing maxIter.\n",
      "  warnings.warn(\"SGD did not converge for mu={:.3f}. Try increasing maxIter.\".format(mu))\n"
     ]
    },
    {
     "data": {
      "text/html": [
       "<table><tr><td><b>ID</b></td><td><b># LFs</b></td><td><b># ground truth</b></td><td><b>Precision</b></td><td><b>Recall</b></td><td><b>F1</b></td></tr><tr><td>0</td><td>7</td><td>40</td><td>1.000</td><td>1.000</td><td>1.000</td></tr></table><table><tr><td><b>LF</b></td></tr><tr><td>LF_gene</td></tr><tr><td>LF_mutant</td></tr><tr><td>LF_express</td></tr><tr><td>LF_mutation</td></tr><tr><td>LF_dna</td></tr><tr><td>LF_rna</td></tr><tr><td>LF_snp</td></tr></table>"
      ],
      "text/plain": [
       "<ddlite.ModelLog instance at 0x7f960d2b7e18>"
      ]
     },
     "execution_count": 12,
     "metadata": {},
     "output_type": "execute_result"
    }
   ],
   "source": [
    "matplotlib.rcParams['figure.figsize'] = (12,4)\n",
    "%time CM.learn_weights(sample=False, mu=0.001, alpha=0.5, verbose=True, log=True)"
   ]
  },
  {
   "cell_type": "markdown",
   "metadata": {},
   "source": [
    "We can use [DeepDive-style calibration plots](http://deepdive.stanford.edu/calibration) to evaluate the quality of our predictions. We aren't using a holdout set right now, so let's just look at the histogram of probabilities."
   ]
  },
  {
   "cell_type": "code",
   "execution_count": 13,
   "metadata": {
    "collapsed": false
   },
   "outputs": [
    {
     "name": "stderr",
     "output_type": "stream",
     "text": [
      "/home/henryre/anaconda2/lib/python2.7/site-packages/numpy/core/_methods.py:59: RuntimeWarning: Mean of empty slice.\n",
      "  warnings.warn(\"Mean of empty slice.\", RuntimeWarning)\n",
      "/home/henryre/anaconda2/lib/python2.7/site-packages/numpy/core/_methods.py:70: RuntimeWarning: invalid value encountered in double_scalars\n",
      "  ret = ret.dtype.type(ret / rcount)\n"
     ]
    },
    {
     "data": {
      "image/png": "[encoded data removed]",
      "text/plain": [
       "<matplotlib.figure.Figure at 0x7f9609b66cd0>"
      ]
     },
     "metadata": {},
     "output_type": "display_data"
    }
   ],
   "source": [
    "CM.plot_calibration()"
   ]
  },
  {
   "cell_type": "markdown",
   "metadata": {},
   "source": [
    "## Iterating with labeling functions\n",
    "After analyzing our LFs and obtaining model results, we can revise our LF set. We can see all of the results thus far, and reopen MindTagger to see what types of mentions are predicted incorrectly."
   ]
  },
  {
   "cell_type": "code",
   "execution_count": 14,
   "metadata": {
    "collapsed": false
   },
   "outputs": [
    {
     "data": {
      "text/html": [
       "<table><tr><td><b>ID</b></td><td><b># LFs</b></td><td><b># ground truth</b></td><td><b>Precision</b></td><td><b>Recall</b></td><td><b>F1</b></td></tr><tr><td>0</td><td>7</td><td>40</td><td>1.000</td><td>1.000</td><td>1.000</td></tr></table>"
      ],
      "text/plain": [
       "<ddlite.ModelLogger instance at 0x7f960d875680>"
      ]
     },
     "execution_count": 14,
     "metadata": {},
     "output_type": "execute_result"
    }
   ],
   "source": [
    "CM.show_log()"
   ]
  },
  {
   "cell_type": "code",
   "execution_count": 15,
   "metadata": {
    "collapsed": false
   },
   "outputs": [
    {
     "name": "stdout",
     "output_type": "stream",
     "text": [
      "Making sure MindTagger is installed. Hang on!\n"
     ]
    },
    {
     "data": {
      "text/html": [
       "\n",
       "        <iframe\n",
       "            width=\"100%\"\n",
       "            height=\"1200\"\n",
       "            src=\"http://icme-Standard-PC-i440FX-PIIX-1996:8838/#/mindtagger/4e6607aac8a55843\"\n",
       "            frameborder=\"0\"\n",
       "            allowfullscreen\n",
       "        ></iframe>\n",
       "        "
      ],
      "text/plain": [
       "<IPython.lib.display.IFrame at 0x7f960964f590>"
      ]
     },
     "execution_count": 15,
     "metadata": {},
     "output_type": "execute_result"
    }
   ],
   "source": [
    "CM.open_mindtagger(width='100%', height=1200)"
   ]
  }
 ],
 "metadata": {
  "kernelspec": {
   "display_name": "Python 2",
   "language": "python",
   "name": "python2"
  },
  "language_info": {
   "codemirror_mode": {
    "name": "ipython",
    "version": 2
   },
   "file_extension": ".py",
   "mimetype": "text/x-python",
   "name": "python",
   "nbconvert_exporter": "python",
   "pygments_lexer": "ipython2",
   "version": "2.7.11"
  }
 },
 "nbformat": 4,
 "nbformat_minor": 0
}
