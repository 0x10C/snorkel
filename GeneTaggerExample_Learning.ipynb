{
 "cells": [
  {
   "cell_type": "markdown",
   "metadata": {},
   "source": [
    "# Tagging genes with ddlite: learning and rule iteration\n",
    "\n",
    "## Introduction\n",
    "In this example **ddlite** app, we'll build a gene tagger from scratch. Here's why we developed ddlite:\n",
    "\n",
    "* To provide a lighter-weight interface to structured information extraction for new DeepDive users\n",
    "* To help advanced DeepDive rapidly develop and prototype applications and distant supervision rules\n",
    "* To investigate DeepDive's data programming approach to building inference systems\n",
    "\n",
    "This example is centered around the second item. Domain-specific tagging systems take months or years to develop. They use hand-crafted model circuitry and accurate, hand-labeled training data. We're going to try to build a pretty good one in a few minutes with none of those things. The generalized extraction and learning utilities provided by ddlite will allow us to turn a sampling of article abstracts and some basic domain knowledge into an automated tagging system. Specifically, we want an accurate tagger for genes in academic articles. We have comprehensive dictionaries of genes, but applying a simple matching rule might yield a lot of false positives. For example, \"p53\" might get tagged as a gene if it refers to a page number. Our goal is to use distant supervision to improve precision.\n",
    "\n",
    "Here's the pipeline we'll follow:\n",
    "\n",
    "1. Obtain and parse input data (relevant article abstracts from PubMed)\n",
    "2. Extract candidates for tagging\n",
    "3. Generate features\n",
    "4. Write distant supervision rules\n",
    "5. Learn the tagging model\n",
    "6. Iterate on distant supervision rules\n",
    "\n",
    "Parts 3 through 6 are covered in this notebook. It requires candidates extracted from `GeneTaggerExample_Extraction.ipynb`, which covers parts 1 and 2."
   ]
  },
  {
   "cell_type": "code",
   "execution_count": 1,
   "metadata": {
    "collapsed": true
   },
   "outputs": [],
   "source": [
    "%load_ext autoreload\n",
    "%autoreload 2\n",
    "\n",
    "import cPickle\n",
    "from ddlite import *"
   ]
  },
  {
   "cell_type": "markdown",
   "metadata": {},
   "source": [
    "## Loading candidate extractions\n",
    "First, we'll load in the pickled candidates that we created in the last notebook. We can construct an `Entities` object with the file."
   ]
  },
  {
   "cell_type": "code",
   "execution_count": 2,
   "metadata": {
    "collapsed": true
   },
   "outputs": [],
   "source": [
    "E = Entities('gene_tag_example/gene_tag_saved_entities.pkl')"
   ]
  },
  {
   "cell_type": "markdown",
   "metadata": {},
   "source": [
    "## `ExtractionInference` objects and feature generation\n",
    "We'll then create an `ExtractionInference` object for our extracted gene candidates. This lets us iterate with our model and distant supervision rules. Since `Entities` defines a feature generation method, features are automatically created when we initialize an `ExtractionInference` object. These are generic features from the NLP markup and dependency tree in the neighborhood of the mention."
   ]
  },
  {
   "cell_type": "code",
   "execution_count": 3,
   "metadata": {
    "collapsed": false
   },
   "outputs": [
    {
     "name": "stdout",
     "output_type": "stream",
     "text": [
      "Extracted 35966 features for each of 1518 mentions\n"
     ]
    }
   ],
   "source": [
    "I = ExtractionInference(E)\n",
    "print \"Extracted {} features for each of {} mentions\".format(I.num_feats(), I.num_extractions())"
   ]
  },
  {
   "cell_type": "markdown",
   "metadata": {},
   "source": [
    "## Writing distant supervision rules\n",
    "We'll use distant supervision to learn a logistic regression model which will predict the probability of a candidate entity being a true gene mention. Since our training data is not labelled, we'll generate many (potentially noisy) rules as a surrogate for precise, manual labels. Feature extraction and model learning are very simple in ddlite as we'll soon see. Writing distant supervision rules is where the real artistry comes in. One of ddlite's goals is to enable rapid prototyping, debugging, and experimenting with distant supervision rules. These can be used either to create a simple standalone app, or to plug into DeepDive. Rules are functions that take an `Extraction` object. They must return 1 (for a positive label), 0 (for abstaining), or -1 (for a negative example). For now, we'll write a few simple rules to get started:\n",
    "\n",
    "* The first rule returns a positive label if the mention candiate contains the word \"gene\", and abstains otherwise\n",
    "* The second rule returns a positive label if the dependency parent of any of the words in the mention is \"mutation\", and abstains otherwise"
   ]
  },
  {
   "cell_type": "code",
   "execution_count": 4,
   "metadata": {
    "collapsed": true
   },
   "outputs": [],
   "source": [
    "def rule_1(m):\n",
    "    return 1 if 'gene' in [m.lemmas[i] for i in m.idxs] else 0\n",
    "def rule_2(m):\n",
    "    return 1 if 'mutation' in [m.lemmas[m.dep_parents[i] - 1] for i in m.idxs] else 0"
   ]
  },
  {
   "cell_type": "markdown",
   "metadata": {},
   "source": [
    "The two rules given above won't yield a good model (especially since there are no negative examples). To create meaningful results, write more distant supervision rules! After writing the rules, we simply collect them and apply them to mentions. If we define more rules later, we can apply them incrementally or overwrite all the rules so far."
   ]
  },
  {
   "cell_type": "code",
   "execution_count": 5,
   "metadata": {
    "collapsed": false
   },
   "outputs": [
    {
     "name": "stdout",
     "output_type": "stream",
     "text": [
      "Applied 2 rules to 1518 mentions with 66 positives, 2970 abstains, and 0 negatives.\n"
     ]
    }
   ],
   "source": [
    "rules = [rule_1, rule_2]\n",
    "I.apply_rules(rules)\n",
    "print \"Applied {} rules to {} mentions with {} positives, {} abstains, and {} negatives.\".format(I.num_rules(),\n",
    "        I.num_extractions(), I.num_rules('pos'), I.num_rules('abs'), I.num_rules('neg'))"
   ]
  },
  {
   "cell_type": "markdown",
   "metadata": {},
   "source": [
    "## Learning\n",
    "To learn weights for the features and rules, we use a simple, regularized logistic regression model. Again, the results won't be meaningful without more rules."
   ]
  },
  {
   "cell_type": "code",
   "execution_count": 6,
   "metadata": {
    "collapsed": false
   },
   "outputs": [
    {
     "name": "stdout",
     "output_type": "stream",
     "text": [
      "\n",
      "Learning epoch =  0\t100\t200\t300\t400\t\n",
      "Learning epoch =  500\t600\t700\t800\t900\t\n",
      "Learning epoch =  1000\t1100\t1200\t1300\t1400\t\n",
      "Learning epoch =  1500\t1600\t1700\t1800\t1900\t\n",
      "Learning epoch =  2000\t2100\t2200\t2300\t2400\t\n",
      "Learning epoch =  2500\t2600\t2700\t2800\t2900\t\n",
      "Learning epoch =  3000\t3100\t3200\t3300\t3400\t\n",
      "Learning epoch =  3500\t3600\t3700\t3800\t3900\t\n",
      "Learning epoch =  4000\t4100\t4200\t4300\t4400\t\n",
      "Learning epoch =  4500\t4600\t4700\t4800\t4900\tCPU times: user 22.2 s, sys: 64 ms, total: 22.2 s\n",
      "Wall time: 22.4 s\n"
     ]
    }
   ],
   "source": [
    "%time I.learn_weights(nSteps=5000, sample=False, mu=1e-6, holdout=0.1, use_sparse=True, verbose=True)"
   ]
  },
  {
   "cell_type": "markdown",
   "metadata": {},
   "source": [
    "We can examine the learned weights for each feature and rule"
   ]
  },
  {
   "cell_type": "code",
   "execution_count": 7,
   "metadata": {
    "collapsed": false
   },
   "outputs": [
    {
     "name": "stdout",
     "output_type": "stream",
     "text": [
      "Rule weights: [ 0.99995     1.01561024]\n",
      "Some feature weights: [ 0.00030111  0.00028163  0.0002035   0.00034187  0.00024248  0.00019598\n",
      "  0.00105315  0.00021365  0.00043712  0.00019022]\n"
     ]
    }
   ],
   "source": [
    "print \"Rule weights: {}\".format(I.w[:I.num_rules()])\n",
    "print \"Some feature weights: {}\".format(I.w[I.num_rules():I.num_rules()+10])"
   ]
  },
  {
   "cell_type": "markdown",
   "metadata": {},
   "source": [
    "or look at the predicted probability of each mention candidate being an actual gene mention"
   ]
  },
  {
   "cell_type": "code",
   "execution_count": 8,
   "metadata": {
    "collapsed": false
   },
   "outputs": [
    {
     "name": "stdout",
     "output_type": "stream",
     "text": [
      "Some predicted mention probabilities: [ 0.9105971   0.77202473  0.93012844  0.80789889  0.83712977  0.7206435\n",
      "  0.79640562  0.93649581  0.83510939  0.82560782]\n"
     ]
    }
   ],
   "source": [
    "print \"Some predicted mention probabilities: {}\".format(I.get_predicted_probability()[:10])"
   ]
  },
  {
   "cell_type": "markdown",
   "metadata": {},
   "source": [
    "We can use [DeepDive-style calibration plots](http://deepdive.stanford.edu/calibration) to evaluate the quality of our predictions. We aren't using a holdout set right now, so let's just look at the histogram of probabilities."
   ]
  },
  {
   "cell_type": "code",
   "execution_count": 9,
   "metadata": {
    "collapsed": false
   },
   "outputs": [
    {
     "data": {
      "image/png": "[encoded data removed]",
      "text/plain": [
       "<matplotlib.figure.Figure at 0x7f9925e9ee50>"
      ]
     },
     "metadata": {},
     "output_type": "display_data"
    }
   ],
   "source": [
    "%matplotlib inline\n",
    "matplotlib.rcParams['figure.figsize'] = (10,6)\n",
    "\n",
    "I.plot_calibration()"
   ]
  },
  {
   "cell_type": "markdown",
   "metadata": {},
   "source": [
    "## Error Analysis\n",
    "\n",
    "Now, let's look at a sample of extractions using [Mindtagger](http://deepdive.stanford.edu/labeling).  We can use a shorthand to create a Mindtagger task and launch it right from the notebook:"
   ]
  },
  {
   "cell_type": "code",
   "execution_count": 10,
   "metadata": {
    "collapsed": false
   },
   "outputs": [
    {
     "name": "stdout",
     "output_type": "stream",
     "text": [
      "Making sure MindTagger is installed. Hang on!\n"
     ]
    },
    {
     "data": {
      "text/html": [
       "\n",
       "        <iframe\n",
       "            width=\"100%\"\n",
       "            height=\"1200\"\n",
       "            src=\"http://icme-Standard-PC-i440FX-PIIX-1996:8838/#/mindtagger/eea3c92c08c7ba2b\"\n",
       "            frameborder=\"0\"\n",
       "            allowfullscreen\n",
       "        ></iframe>\n",
       "        "
      ],
      "text/plain": [
       "<IPython.lib.display.IFrame at 0x7f9923c681d0>"
      ]
     },
     "execution_count": 10,
     "metadata": {},
     "output_type": "execute_result"
    }
   ],
   "source": [
    "I.open_mindtagger(num_sample=20, width='100%', height=1200)"
   ]
  },
  {
   "cell_type": "code",
   "execution_count": 12,
   "metadata": {
    "collapsed": false
   },
   "outputs": [
    {
     "name": "stdout",
     "output_type": "stream",
     "text": [
      "[{u'is_correct': True, u'ext_id': 1399}, {u'is_correct': True, u'ext_id': 827}, {u'is_correct': False, u'ext_id': 769}, {u'is_correct': False, u'ext_id': 509}, {u'is_correct': True, u'ext_id': 998}, {u'is_correct': True, u'ext_id': 1097}, {u'is_correct': True, u'ext_id': 995}, {u'is_correct': True, u'ext_id': 470}, {u'is_correct': True, u'ext_id': 854}, {u'ext_id': 836}, {u'ext_id': 529}, {u'ext_id': 684}, {u'ext_id': 262}, {u'ext_id': 362}, {u'ext_id': 1422}, {u'ext_id': 1272}, {u'ext_id': 846}, {u'ext_id': 787}, {u'ext_id': 1216}, {u'ext_id': 176}]\n"
     ]
    }
   ],
   "source": [
    "tags = I.get_mindtagger_tags()\n",
    "print tags"
   ]
  },
  {
   "cell_type": "code",
   "execution_count": 13,
   "metadata": {
    "collapsed": false
   },
   "outputs": [
    {
     "data": {
      "text/plain": [
       "'precision =  78%'"
      ]
     },
     "execution_count": 13,
     "metadata": {},
     "output_type": "execute_result"
    }
   ],
   "source": [
    "tagged_exts = [tag for tag in tags if u'is_correct' in tag]\n",
    "num_correct = sum(1 for tag in tagged_exts if tag[u'is_correct'])\n",
    "\"precision = %3.f%%\" % (100 * num_correct * 1.0 / len(tagged_exts))"
   ]
  }
 ],
 "metadata": {
  "kernelspec": {
   "display_name": "Python 2",
   "language": "python",
   "name": "python2"
  },
  "language_info": {
   "codemirror_mode": {
    "name": "ipython",
    "version": 2
   },
   "file_extension": ".py",
   "mimetype": "text/x-python",
   "name": "python",
   "nbconvert_exporter": "python",
   "pygments_lexer": "ipython2",
   "version": "2.7.11"
  }
 },
 "nbformat": 4,
 "nbformat_minor": 0
}
